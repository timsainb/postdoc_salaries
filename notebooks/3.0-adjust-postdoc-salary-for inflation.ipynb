{
 "cells": [
  {
   "cell_type": "code",
   "execution_count": 1,
   "id": "79aeafee",
   "metadata": {
    "ExecuteTime": {
     "end_time": "2021-12-04T07:40:34.784433Z",
     "start_time": "2021-12-04T07:40:34.769296Z"
    }
   },
   "outputs": [],
   "source": [
    "%load_ext autoreload\n",
    "%autoreload 2"
   ]
  },
  {
   "cell_type": "code",
   "execution_count": 2,
   "id": "fb25ea5f",
   "metadata": {
    "ExecuteTime": {
     "end_time": "2021-12-04T07:40:35.525847Z",
     "start_time": "2021-12-04T07:40:34.786823Z"
    }
   },
   "outputs": [
    {
     "name": "stderr",
     "output_type": "stream",
     "text": [
      "<ipython-input-2-37777429a894>:5: TqdmExperimentalWarning: Using `tqdm.autonotebook.tqdm` in notebook mode. Use `tqdm.tqdm` instead to force console mode (e.g. in jupyter console)\n",
      "  from tqdm.autonotebook import tqdm\n"
     ]
    }
   ],
   "source": [
    "import numpy as np\n",
    "import pandas as pd\n",
    "import matplotlib.pyplot as plt\n",
    "%matplotlib inline\n",
    "from tqdm.autonotebook import tqdm\n",
    "from postdocsalary.paths import DATA_DIR, ensure_dir\n",
    "import urllib.request"
   ]
  },
  {
   "cell_type": "code",
   "execution_count": 3,
   "id": "774b520f",
   "metadata": {
    "ExecuteTime": {
     "end_time": "2021-12-04T07:40:35.722082Z",
     "start_time": "2021-12-04T07:40:35.528084Z"
    }
   },
   "outputs": [],
   "source": [
    "salary_df = pd.read_pickle(DATA_DIR / 'postdoc_salary_df.pickle')"
   ]
  },
  {
   "cell_type": "markdown",
   "id": "2f2ba660",
   "metadata": {},
   "source": [
    "### Adjust for inflation"
   ]
  },
  {
   "cell_type": "code",
   "execution_count": 4,
   "id": "48bd6cde",
   "metadata": {
    "ExecuteTime": {
     "end_time": "2021-12-04T07:40:35.740864Z",
     "start_time": "2021-12-04T07:40:35.724044Z"
    }
   },
   "outputs": [],
   "source": [
    "from datetime import date"
   ]
  },
  {
   "cell_type": "code",
   "execution_count": 5,
   "id": "bbf7b5a0",
   "metadata": {
    "ExecuteTime": {
     "end_time": "2021-12-04T07:41:01.723902Z",
     "start_time": "2021-12-04T07:40:35.742565Z"
    }
   },
   "outputs": [],
   "source": [
    "import cpi"
   ]
  },
  {
   "cell_type": "code",
   "execution_count": 6,
   "id": "d1b27942",
   "metadata": {
    "ExecuteTime": {
     "end_time": "2021-12-04T07:41:08.790482Z",
     "start_time": "2021-12-04T07:41:01.725653Z"
    }
   },
   "outputs": [
    {
     "data": {
      "application/vnd.jupyter.widget-view+json": {
       "model_id": "48ee9e80b7a44f60af02b7769a6d5301",
       "version_major": 2,
       "version_minor": 0
      },
      "text/plain": [
       "  0%|          | 0/34804 [00:00<?, ?it/s]"
      ]
     },
     "metadata": {},
     "output_type": "display_data"
    }
   ],
   "source": [
    "# CPI goes up to 2019, so we set the inflation date here\n",
    "salary_df[\"INFLATION_SCALED_BASE_SALARY\"] = [\n",
    "    cpi.inflate(\n",
    "        row.BASE_SALARY,\n",
    "        year_or_month=date(np.min([2021, row.CASE_DATE.year]), 1, 1),\n",
    "        to=date(2021, 1, 1),\n",
    "    )\n",
    "    for idx, row in tqdm(salary_df.iterrows(), total=len(salary_df))\n",
    "]"
   ]
  },
  {
   "cell_type": "code",
   "execution_count": 7,
   "id": "3a0b568f",
   "metadata": {
    "ExecuteTime": {
     "end_time": "2021-12-04T07:41:08.972542Z",
     "start_time": "2021-12-04T07:41:08.792791Z"
    }
   },
   "outputs": [],
   "source": [
    "salary_df.to_pickle(DATA_DIR / 'postdoc_salary_df_inflation_adjusted.pickle')"
   ]
  }
 ],
 "metadata": {
  "kernelspec": {
   "display_name": "postdoc",
   "language": "python",
   "name": "postdoc"
  },
  "language_info": {
   "codemirror_mode": {
    "name": "ipython",
    "version": 3
   },
   "file_extension": ".py",
   "mimetype": "text/x-python",
   "name": "python",
   "nbconvert_exporter": "python",
   "pygments_lexer": "ipython3",
   "version": "3.8.12"
  }
 },
 "nbformat": 4,
 "nbformat_minor": 5
}
