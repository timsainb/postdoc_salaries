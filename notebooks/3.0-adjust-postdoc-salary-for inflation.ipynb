{
 "cells": [
  {
   "cell_type": "code",
   "execution_count": 1,
   "id": "f67781e6",
   "metadata": {
    "ExecuteTime": {
     "end_time": "2021-12-05T07:56:59.936149Z",
     "start_time": "2021-12-05T07:56:59.920984Z"
    }
   },
   "outputs": [],
   "source": [
    "%load_ext autoreload\n",
    "%autoreload 2"
   ]
  },
  {
   "cell_type": "code",
   "execution_count": 2,
   "id": "7a881e76",
   "metadata": {
    "ExecuteTime": {
     "end_time": "2021-12-05T07:57:00.704153Z",
     "start_time": "2021-12-05T07:56:59.938285Z"
    }
   },
   "outputs": [
    {
     "name": "stderr",
     "output_type": "stream",
     "text": [
      "<ipython-input-2-37777429a894>:5: TqdmExperimentalWarning: Using `tqdm.autonotebook.tqdm` in notebook mode. Use `tqdm.tqdm` instead to force console mode (e.g. in jupyter console)\n",
      "  from tqdm.autonotebook import tqdm\n"
     ]
    }
   ],
   "source": [
    "import numpy as np\n",
    "import pandas as pd\n",
    "import matplotlib.pyplot as plt\n",
    "%matplotlib inline\n",
    "from tqdm.autonotebook import tqdm\n",
    "from postdocsalary.paths import DATA_DIR, ensure_dir\n",
    "import urllib.request"
   ]
  },
  {
   "cell_type": "code",
   "execution_count": 3,
   "id": "cf82ae2b",
   "metadata": {
    "ExecuteTime": {
     "end_time": "2021-12-05T07:57:01.000474Z",
     "start_time": "2021-12-05T07:57:00.706392Z"
    }
   },
   "outputs": [],
   "source": [
    "salary_df = pd.read_pickle(DATA_DIR / 'postdoc_salary_df.pickle')"
   ]
  },
  {
   "cell_type": "markdown",
   "id": "9934f35f",
   "metadata": {},
   "source": [
    "### Adjust for inflation"
   ]
  },
  {
   "cell_type": "code",
   "execution_count": 4,
   "id": "15cfc94d",
   "metadata": {
    "ExecuteTime": {
     "end_time": "2021-12-05T07:57:01.019065Z",
     "start_time": "2021-12-05T07:57:01.002449Z"
    }
   },
   "outputs": [],
   "source": [
    "from datetime import date"
   ]
  },
  {
   "cell_type": "code",
   "execution_count": 5,
   "id": "3a34f3bf",
   "metadata": {
    "ExecuteTime": {
     "end_time": "2021-12-05T07:57:26.797839Z",
     "start_time": "2021-12-05T07:57:01.020807Z"
    }
   },
   "outputs": [],
   "source": [
    "import cpi"
   ]
  },
  {
   "cell_type": "code",
   "execution_count": 6,
   "id": "5be8911e",
   "metadata": {
    "ExecuteTime": {
     "end_time": "2021-12-05T07:57:34.061930Z",
     "start_time": "2021-12-05T07:57:26.799673Z"
    }
   },
   "outputs": [
    {
     "data": {
      "application/vnd.jupyter.widget-view+json": {
       "model_id": "03cca7ad0b104f51a6c46f6c1ebccc30",
       "version_major": 2,
       "version_minor": 0
      },
      "text/plain": [
       "  0%|          | 0/34804 [00:00<?, ?it/s]"
      ]
     },
     "metadata": {},
     "output_type": "display_data"
    }
   ],
   "source": [
    "# CPI goes up to 2019, so we set the inflation date here\n",
    "salary_df[\"INFLATION_SCALED_BASE_SALARY\"] = [\n",
    "    cpi.inflate(\n",
    "        row.BASE_SALARY,\n",
    "        year_or_month=date(np.min([2021, row.CASE_DATE.year]), 1, 1),\n",
    "        to=date(2021, 1, 1),\n",
    "    )\n",
    "    for idx, row in tqdm(salary_df.iterrows(), total=len(salary_df))\n",
    "]"
   ]
  },
  {
   "cell_type": "code",
   "execution_count": 7,
   "id": "ad68f196",
   "metadata": {
    "ExecuteTime": {
     "end_time": "2021-12-05T07:57:34.252826Z",
     "start_time": "2021-12-05T07:57:34.064143Z"
    }
   },
   "outputs": [],
   "source": [
    "salary_df.to_pickle(DATA_DIR / 'postdoc_salary_df_inflation_adjusted.pickle')"
   ]
  },
  {
   "cell_type": "code",
   "execution_count": 8,
   "id": "a828b585",
   "metadata": {
    "ExecuteTime": {
     "end_time": "2022-01-11T22:07:13.705209Z",
     "start_time": "2022-01-11T22:07:13.688043Z"
    }
   },
   "outputs": [
    {
     "data": {
      "text/plain": [
       "34804"
      ]
     },
     "execution_count": 8,
     "metadata": {},
     "output_type": "execute_result"
    }
   ],
   "source": [
    "len(salary_df)"
   ]
  },
  {
   "cell_type": "code",
   "execution_count": null,
   "id": "262a6988",
   "metadata": {},
   "outputs": [],
   "source": []
  }
 ],
 "metadata": {
  "kernelspec": {
   "display_name": "postdoc",
   "language": "python",
   "name": "postdoc"
  },
  "language_info": {
   "codemirror_mode": {
    "name": "ipython",
    "version": 3
   },
   "file_extension": ".py",
   "mimetype": "text/x-python",
   "name": "python",
   "nbconvert_exporter": "python",
   "pygments_lexer": "ipython3",
   "version": "3.8.12"
  }
 },
 "nbformat": 4,
 "nbformat_minor": 5
}
