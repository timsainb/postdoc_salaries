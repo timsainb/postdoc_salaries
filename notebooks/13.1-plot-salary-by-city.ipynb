{
 "cells": [
  {
   "cell_type": "markdown",
   "id": "3d78fc5c",
   "metadata": {},
   "source": [
    "### Plot faculty hiring distribution by city"
   ]
  },
  {
   "cell_type": "code",
   "execution_count": 9,
   "id": "713e5c81",
   "metadata": {
    "ExecuteTime": {
     "end_time": "2022-01-15T01:08:58.194416Z",
     "start_time": "2022-01-15T01:08:58.136093Z"
    }
   },
   "outputs": [
    {
     "name": "stdout",
     "output_type": "stream",
     "text": [
      "The autoreload extension is already loaded. To reload it, use:\n",
      "  %reload_ext autoreload\n"
     ]
    }
   ],
   "source": [
    "%load_ext autoreload\n",
    "%autoreload 2"
   ]
  },
  {
   "cell_type": "code",
   "execution_count": 10,
   "id": "8fa73a66",
   "metadata": {
    "ExecuteTime": {
     "end_time": "2022-01-15T01:08:58.370953Z",
     "start_time": "2022-01-15T01:08:58.305952Z"
    }
   },
   "outputs": [],
   "source": [
    "import numpy as np\n",
    "import pandas as pd\n",
    "import matplotlib.pyplot as plt\n",
    "%matplotlib inline\n",
    "from tqdm.autonotebook import tqdm\n",
    "from postdocsalary.paths import DATA_DIR, ensure_dir\n",
    "import urllib.request\n",
    "pd.set_option('display.max_columns', None)\n",
    "from postdocsalary.paths import save_fig, FIGURE_DIR"
   ]
  },
  {
   "cell_type": "code",
   "execution_count": 11,
   "id": "26b3f8f2",
   "metadata": {
    "ExecuteTime": {
     "end_time": "2022-01-15T01:08:58.531652Z",
     "start_time": "2022-01-15T01:08:58.463823Z"
    }
   },
   "outputs": [],
   "source": [
    "CBSA_df = pd.read_pickle(DATA_DIR/ 'CBSA_df_salary.pickle')"
   ]
  },
  {
   "cell_type": "code",
   "execution_count": 12,
   "id": "ae802ecc",
   "metadata": {
    "ExecuteTime": {
     "end_time": "2022-01-15T01:08:58.742751Z",
     "start_time": "2022-01-15T01:08:58.626671Z"
    }
   },
   "outputs": [
    {
     "data": {
      "text/html": [
       "<div>\n",
       "<style scoped>\n",
       "    .dataframe tbody tr th:only-of-type {\n",
       "        vertical-align: middle;\n",
       "    }\n",
       "\n",
       "    .dataframe tbody tr th {\n",
       "        vertical-align: top;\n",
       "    }\n",
       "\n",
       "    .dataframe thead th {\n",
       "        text-align: right;\n",
       "    }\n",
       "</style>\n",
       "<table border=\"1\" class=\"dataframe\">\n",
       "  <thead>\n",
       "    <tr style=\"text-align: right;\">\n",
       "      <th></th>\n",
       "      <th>CBSA_NAME</th>\n",
       "      <th>RPP_all</th>\n",
       "      <th>total_hires</th>\n",
       "      <th>prop_hires</th>\n",
       "      <th>cum_hires</th>\n",
       "      <th>n_uni</th>\n",
       "      <th>n_grad</th>\n",
       "      <th>prop_grad</th>\n",
       "      <th>cum_grad</th>\n",
       "      <th>hiring_grad_disparity</th>\n",
       "      <th>MEDIAN_SALARY</th>\n",
       "      <th>N_SALARIES</th>\n",
       "      <th>MEDIAN_SALARY_UPPER</th>\n",
       "      <th>MEDIAN_SALARY_LOWER</th>\n",
       "      <th>REAL_MEDIAN_SALARY</th>\n",
       "      <th>REAL_MEDIAN_SALARY_UPPER</th>\n",
       "      <th>REAL_MEDIAN_SALARY_LOWER</th>\n",
       "    </tr>\n",
       "  </thead>\n",
       "  <tbody>\n",
       "    <tr>\n",
       "      <th>2</th>\n",
       "      <td>Boston-Cambridge-Newton, MA-NH</td>\n",
       "      <td>115.5</td>\n",
       "      <td>1604.0</td>\n",
       "      <td>0.115679</td>\n",
       "      <td>0.115679</td>\n",
       "      <td>10</td>\n",
       "      <td>2325.0</td>\n",
       "      <td>0.059061</td>\n",
       "      <td>0.059061</td>\n",
       "      <td>0.056618</td>\n",
       "      <td>55474.915479</td>\n",
       "      <td>1683</td>\n",
       "      <td>55932.677979</td>\n",
       "      <td>55205.642506</td>\n",
       "      <td>48030.229852</td>\n",
       "      <td>48426.561021</td>\n",
       "      <td>47797.093079</td>\n",
       "    </tr>\n",
       "    <tr>\n",
       "      <th>0</th>\n",
       "      <td>Chicago-Naperville-Elgin, IL-IN-WI</td>\n",
       "      <td>102.8</td>\n",
       "      <td>919.0</td>\n",
       "      <td>0.066277</td>\n",
       "      <td>0.181956</td>\n",
       "      <td>6</td>\n",
       "      <td>1506.0</td>\n",
       "      <td>0.038256</td>\n",
       "      <td>0.097317</td>\n",
       "      <td>0.028021</td>\n",
       "      <td>53336.489989</td>\n",
       "      <td>1504</td>\n",
       "      <td>53830.036471</td>\n",
       "      <td>52850.139016</td>\n",
       "      <td>51883.745125</td>\n",
       "      <td>52363.848707</td>\n",
       "      <td>51410.641066</td>\n",
       "    </tr>\n",
       "    <tr>\n",
       "      <th>6</th>\n",
       "      <td>New York-Newark-Jersey City, NY-NJ-PA</td>\n",
       "      <td>125.7</td>\n",
       "      <td>854.0</td>\n",
       "      <td>0.061589</td>\n",
       "      <td>0.243545</td>\n",
       "      <td>5</td>\n",
       "      <td>1268.0</td>\n",
       "      <td>0.032211</td>\n",
       "      <td>0.129528</td>\n",
       "      <td>0.029379</td>\n",
       "      <td>55891.553082</td>\n",
       "      <td>2245</td>\n",
       "      <td>56013.506891</td>\n",
       "      <td>55328.923560</td>\n",
       "      <td>44464.242706</td>\n",
       "      <td>44561.262443</td>\n",
       "      <td>44016.645632</td>\n",
       "    </tr>\n",
       "  </tbody>\n",
       "</table>\n",
       "</div>"
      ],
      "text/plain": [
       "                               CBSA_NAME  RPP_all  total_hires  prop_hires  \\\n",
       "2         Boston-Cambridge-Newton, MA-NH    115.5       1604.0    0.115679   \n",
       "0     Chicago-Naperville-Elgin, IL-IN-WI    102.8        919.0    0.066277   \n",
       "6  New York-Newark-Jersey City, NY-NJ-PA    125.7        854.0    0.061589   \n",
       "\n",
       "   cum_hires  n_uni  n_grad  prop_grad  cum_grad  hiring_grad_disparity  \\\n",
       "2   0.115679     10  2325.0   0.059061  0.059061               0.056618   \n",
       "0   0.181956      6  1506.0   0.038256  0.097317               0.028021   \n",
       "6   0.243545      5  1268.0   0.032211  0.129528               0.029379   \n",
       "\n",
       "   MEDIAN_SALARY  N_SALARIES  MEDIAN_SALARY_UPPER  MEDIAN_SALARY_LOWER  \\\n",
       "2   55474.915479        1683         55932.677979         55205.642506   \n",
       "0   53336.489989        1504         53830.036471         52850.139016   \n",
       "6   55891.553082        2245         56013.506891         55328.923560   \n",
       "\n",
       "   REAL_MEDIAN_SALARY  REAL_MEDIAN_SALARY_UPPER  REAL_MEDIAN_SALARY_LOWER  \n",
       "2        48030.229852              48426.561021              47797.093079  \n",
       "0        51883.745125              52363.848707              51410.641066  \n",
       "6        44464.242706              44561.262443              44016.645632  "
      ]
     },
     "execution_count": 12,
     "metadata": {},
     "output_type": "execute_result"
    }
   ],
   "source": [
    "CBSA_df[:3]"
   ]
  },
  {
   "cell_type": "code",
   "execution_count": 13,
   "id": "98e2ca1e",
   "metadata": {
    "ExecuteTime": {
     "end_time": "2022-01-15T01:08:58.874371Z",
     "start_time": "2022-01-15T01:08:58.813949Z"
    }
   },
   "outputs": [],
   "source": [
    "import seaborn as sns"
   ]
  },
  {
   "cell_type": "code",
   "execution_count": 15,
   "id": "5e81a118",
   "metadata": {
    "ExecuteTime": {
     "end_time": "2022-01-15T01:09:29.884822Z",
     "start_time": "2022-01-15T01:09:29.816132Z"
    }
   },
   "outputs": [
    {
     "data": {
      "text/html": [
       "<svg  width=\"550\" height=\"55\"><rect x=\"0\" y=\"0\" width=\"55\" height=\"55\" style=\"fill:#e41a1c;stroke-width:2;stroke:rgb(255,255,255)\"/><rect x=\"55\" y=\"0\" width=\"55\" height=\"55\" style=\"fill:#377eb8;stroke-width:2;stroke:rgb(255,255,255)\"/><rect x=\"110\" y=\"0\" width=\"55\" height=\"55\" style=\"fill:#4daf4a;stroke-width:2;stroke:rgb(255,255,255)\"/><rect x=\"165\" y=\"0\" width=\"55\" height=\"55\" style=\"fill:#984ea3;stroke-width:2;stroke:rgb(255,255,255)\"/><rect x=\"220\" y=\"0\" width=\"55\" height=\"55\" style=\"fill:#ff7f00;stroke-width:2;stroke:rgb(255,255,255)\"/><rect x=\"275\" y=\"0\" width=\"55\" height=\"55\" style=\"fill:#ffff33;stroke-width:2;stroke:rgb(255,255,255)\"/><rect x=\"330\" y=\"0\" width=\"55\" height=\"55\" style=\"fill:#a65628;stroke-width:2;stroke:rgb(255,255,255)\"/><rect x=\"385\" y=\"0\" width=\"55\" height=\"55\" style=\"fill:#f781bf;stroke-width:2;stroke:rgb(255,255,255)\"/><rect x=\"440\" y=\"0\" width=\"55\" height=\"55\" style=\"fill:#999999;stroke-width:2;stroke:rgb(255,255,255)\"/><rect x=\"495\" y=\"0\" width=\"55\" height=\"55\" style=\"fill:#e41a1c;stroke-width:2;stroke:rgb(255,255,255)\"/></svg>"
      ],
      "text/plain": [
       "[(0.8941176470588236, 0.10196078431372549, 0.10980392156862745),\n",
       " (0.21568627450980393, 0.49411764705882355, 0.7215686274509804),\n",
       " (0.30196078431372547, 0.6862745098039216, 0.2901960784313726),\n",
       " (0.596078431372549, 0.3058823529411765, 0.6392156862745098),\n",
       " (1.0, 0.4980392156862745, 0.0),\n",
       " (1.0, 1.0, 0.2),\n",
       " (0.6509803921568628, 0.33725490196078434, 0.1568627450980392),\n",
       " (0.9686274509803922, 0.5058823529411764, 0.7490196078431373),\n",
       " (0.6, 0.6, 0.6),\n",
       " (0.8941176470588236, 0.10196078431372549, 0.10980392156862745)]"
      ]
     },
     "execution_count": 15,
     "metadata": {},
     "output_type": "execute_result"
    }
   ],
   "source": [
    "pal = sns.color_palette('Set1', 10)\n",
    "pal"
   ]
  },
  {
   "cell_type": "markdown",
   "id": "23a15771",
   "metadata": {},
   "source": [
    "### Top cities by RPP"
   ]
  },
  {
   "cell_type": "code",
   "execution_count": 16,
   "id": "1cf1b950",
   "metadata": {
    "ExecuteTime": {
     "end_time": "2022-01-15T01:09:30.224227Z",
     "start_time": "2022-01-15T01:09:30.173335Z"
    }
   },
   "outputs": [],
   "source": [
    "nex = 10\n",
    "top_n = len(CBSA_df)"
   ]
  },
  {
   "cell_type": "code",
   "execution_count": 26,
   "id": "bab6954e",
   "metadata": {
    "ExecuteTime": {
     "end_time": "2022-01-15T14:59:31.979408Z",
     "start_time": "2022-01-15T14:59:31.887544Z"
    }
   },
   "outputs": [],
   "source": [
    "overall_median_salary = 53100.08961257449\n",
    "overall_median_real_salary = 51848.669708466055"
   ]
  },
  {
   "cell_type": "code",
   "execution_count": 58,
   "id": "70a6e4d6",
   "metadata": {
    "ExecuteTime": {
     "end_time": "2022-01-17T16:38:13.737190Z",
     "start_time": "2022-01-17T16:38:12.874748Z"
    }
   },
   "outputs": [
    {
     "data": {
      "image/png": "[encoded data removed]",
      "text/plain": [
       "<Figure size 144x432 with 2 Axes>"
      ]
     },
     "metadata": {
      "needs_background": "light"
     },
     "output_type": "display_data"
    }
   ],
   "source": [
    "xlim = [-10000, 10000]\n",
    "metric = \"MEDIAN_SALARY\"\n",
    "sort_mask = np.argsort(CBSA_df[\"total_hires\"].values)[::-1]\n",
    "fig, axs = plt.subplots(\n",
    "    nrows=2,\n",
    "    figsize=(2, 6),\n",
    "    gridspec_kw={\"wspace\": 0, \"hspace\": 0, \"height_ratios\": [1, 1.3]},\n",
    ")\n",
    "\n",
    "ax = axs[0]\n",
    "#ax.axvline(0, color='k', lw=3)\n",
    "\n",
    "y = CBSA_df[metric].values[sort_mask][nex:top_n] - overall_median_salary\n",
    "ax.barh(\n",
    "    np.arange(len(CBSA_df))[nex:top_n],\n",
    "    y,\n",
    "    color=[pal[0] if np.sign(i) < 0 else pal[2] for i in y],\n",
    ")\n",
    "ax.set_xlim(xlim)\n",
    "ax.set_ylim([nex, top_n])\n",
    "# ax.set_xticks([])\n",
    "[i.set_linewidth(0.0) for i in ax.spines.values()]\n",
    "ax.set_yticks([])\n",
    "ax.set_xticks([])\n",
    "\n",
    "ax = axs[1]\n",
    "y = CBSA_df[metric].values[sort_mask][:nex] - overall_median_salary\n",
    "ax.barh(\n",
    "    np.arange(len(CBSA_df))[:nex] + 1,\n",
    "    y,\n",
    "    color=[pal[0] if np.sign(i) < 0 else pal[2] for i in y],\n",
    ")\n",
    "[i.set_linewidth(0.0) for i in ax.spines.values()]\n",
    "ax.tick_params(left=False)\n",
    "# ax.axvline(0, color=\"k\", ls=\"dashed\")\n",
    "# ax.set_xlabel('University ranking (ranked)')\n",
    "# ax.set_ylabel('Regional salary value relative median ($)')\n",
    "# ax.set_yscale('log')\n",
    "ax.set_xlim(xlim)\n",
    "ax.set_ylim([0.25, nex + 0.5])\n",
    "# ax.set_xticks([])\n",
    "if False:\n",
    "    ax.set_yticks(np.arange(1, nex + 1))\n",
    "    names = [\n",
    "        \"{} ($n$={})\".format(i, j)\n",
    "        for i, j in zip(\n",
    "            CBSA_df[\"CBSA_NAME\"].values[sort_mask][:nex],\n",
    "            CBSA_df[\"total_hires\"].values[sort_mask][:nex],\n",
    "        )\n",
    "\n",
    "    ]\n",
    "    ax.set_yticklabels(names)\n",
    "else:\n",
    "    ax.set_yticks([])\n",
    "# ax.set_yticklabels(CBSA_df[\"institution\"].values[sort_mask][:20])\n",
    "ax.spines[\"bottom\"].set_linewidth(4)\n",
    "ax.xaxis.set_tick_params(labelsize=14)\n",
    "#ax.set_xticks([-10000, -5000, 0, 5000, 10000])\n",
    "#ax.set_xticklabels([\"-$10k\", \"-$5k\", \"$0\", \"$5k\", \"$10k\"])\n",
    "#ax.axvline(0, color='k', lw=3)\n",
    "\n",
    "save_fig(FIGURE_DIR / 'city_salary')"
   ]
  },
  {
   "cell_type": "code",
   "execution_count": 59,
   "id": "438de2d0",
   "metadata": {
    "ExecuteTime": {
     "end_time": "2022-01-17T16:39:39.849830Z",
     "start_time": "2022-01-17T16:39:38.974935Z"
    }
   },
   "outputs": [
    {
     "data": {
      "image/png": "[encoded data removed]",
      "text/plain": [
       "<Figure size 144x432 with 2 Axes>"
      ]
     },
     "metadata": {
      "needs_background": "light"
     },
     "output_type": "display_data"
    }
   ],
   "source": [
    "xlim = [-10000, 10000]\n",
    "metric = \"REAL_MEDIAN_SALARY\"\n",
    "sort_mask = np.argsort(CBSA_df[\"total_hires\"].values)[::-1]\n",
    "fig, axs = plt.subplots(\n",
    "    nrows=2,\n",
    "    figsize=(2, 6),\n",
    "    gridspec_kw={\"wspace\": 0, \"hspace\": 0, \"height_ratios\": [1, 1.3]},\n",
    ")\n",
    "\n",
    "ax = axs[0]\n",
    "#ax.axvline(0, color='k', lw=3)\n",
    "\n",
    "y = CBSA_df[metric].values[sort_mask][nex:top_n] - overall_median_real_salary\n",
    "ax.barh(\n",
    "    np.arange(len(CBSA_df))[nex:top_n],\n",
    "    y,\n",
    "    color=[pal[0] if np.sign(i) < 0 else pal[2] for i in y],\n",
    ")\n",
    "ax.set_xlim(xlim)\n",
    "ax.set_ylim([nex, top_n])\n",
    "# ax.set_xticks([])\n",
    "[i.set_linewidth(0.0) for i in ax.spines.values()]\n",
    "ax.set_yticks([])\n",
    "ax.set_xticks([])\n",
    "\n",
    "ax = axs[1]\n",
    "y = CBSA_df[metric].values[sort_mask][:nex] - overall_median_real_salary\n",
    "ax.barh(\n",
    "    np.arange(len(CBSA_df))[:nex] + 1,\n",
    "    y,\n",
    "    color=[pal[0] if np.sign(i) < 0 else pal[2] for i in y],\n",
    ")\n",
    "[i.set_linewidth(0.0) for i in ax.spines.values()]\n",
    "ax.tick_params(left=False)\n",
    "# ax.axvline(0, color=\"k\", ls=\"dashed\")\n",
    "# ax.set_xlabel('University ranking (ranked)')\n",
    "# ax.set_ylabel('Regional salary value relative median ($)')\n",
    "# ax.set_yscale('log')\n",
    "ax.set_xlim(xlim)\n",
    "ax.set_ylim([0.25, nex + 0.5])\n",
    "# ax.set_xticks([])\n",
    "if False:\n",
    "    ax.set_yticks(np.arange(1, nex + 1))\n",
    "    names = [\n",
    "        \"{} ($n$={})\".format(i, j)\n",
    "        for i, j in zip(\n",
    "            CBSA_df[\"CBSA_NAME\"].values[sort_mask][:nex],\n",
    "            CBSA_df[\"total_hires\"].values[sort_mask][:nex],\n",
    "        )\n",
    "\n",
    "    ]\n",
    "    ax.set_yticklabels(names)\n",
    "else:\n",
    "    ax.set_yticks([])\n",
    "    \n",
    "xerr = np.array((\n",
    "        y+ overall_median_real_salary - CBSA_df.REAL_MEDIAN_SALARY_LOWER.values[sort_mask][\n",
    "            :nex\n",
    "        ],\n",
    "        y +overall_median_real_salary- CBSA_df.REAL_MEDIAN_SALARY_UPPER.values[sort_mask][\n",
    "            :nex\n",
    "        ],\n",
    "    ))\n",
    "xerr[1,:] *= -1\n",
    "ax.errorbar(\n",
    "    y,\n",
    "    np.arange(len(CBSA_df))[:nex] + 1,\n",
    "    xerr=xerr,\n",
    "    ls='none',\n",
    "    color = 'k',\n",
    "    lw = 4\n",
    "    \n",
    ")\n",
    "    \n",
    "    \n",
    "# ax.set_yticklabels(CBSA_df[\"institution\"].values[sort_mask][:20])\n",
    "ax.spines[\"bottom\"].set_linewidth(4)\n",
    "ax.xaxis.set_tick_params(labelsize=14)\n",
    "#ax.set_xticks([-10000, -5000, 0, 5000, 10000])\n",
    "#ax.set_xticklabels([\"-$10k\", \"-$5k\", \"$0\", \"$5k\", \"$10k\"])\n",
    "#ax.axvline(0, color='k', lw=3)\n",
    "\n",
    "save_fig(FIGURE_DIR / 'city_real_salary')"
   ]
  },
  {
   "cell_type": "code",
   "execution_count": null,
   "id": "1bd622b8",
   "metadata": {},
   "outputs": [],
   "source": []
  }
 ],
 "metadata": {
  "kernelspec": {
   "display_name": "postdoc",
   "language": "python",
   "name": "postdoc"
  },
  "language_info": {
   "codemirror_mode": {
    "name": "ipython",
    "version": 3
   },
   "file_extension": ".py",
   "mimetype": "text/x-python",
   "name": "python",
   "nbconvert_exporter": "python",
   "pygments_lexer": "ipython3",
   "version": "3.8.12"
  }
 },
 "nbformat": 4,
 "nbformat_minor": 5
}
