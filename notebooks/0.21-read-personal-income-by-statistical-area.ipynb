{
 "cells": [
  {
   "cell_type": "markdown",
   "id": "a860f45c",
   "metadata": {},
   "source": [
    "BEA Regional price parities (DOWNLOAD LOCATION)\n",
    "- https://www.bea.gov/data/prices-inflation/regional-price-parities-state-and-metro-area\n",
    "- https://apps.bea.gov/itable/iTable.cfm?ReqID=70&step=1\n",
    "- how RPP and real personal income are computed: https://www.bea.gov/system/files/methodologies/RPP2020-methodology_1.pdf\n",
    "\n",
    "\n",
    "Other sources\n",
    "- numbeo ranks COL for top ~500 in world https://www.numbeo.com/cost-of-living/rankings_current.jsp\n",
    "\n",
    "\n",
    "Real Personal Income:\n",
    "- Real personal income in constant (2012) dollars for a region begins with current-dollar personal income\n",
    "divided by its RPP for a given year and balanced so that the sum of personal income remains the same\n",
    "before and after the adjustment.17 The balancing uses a factor equal to sum of the adjusted income\n",
    "divided by the sum of the current-dollar income.\n",
    "\n",
    "Adjustment factor\n",
    "- the adjusted data are divided by a balancing factor equal to the ratio of the adjusted personal income sum to the unadjusted personal income sum."
   ]
  },
  {
   "cell_type": "code",
   "execution_count": 1,
   "id": "db9c62ab",
   "metadata": {
    "ExecuteTime": {
     "end_time": "2021-12-04T08:52:17.571250Z",
     "start_time": "2021-12-04T08:52:17.536843Z"
    }
   },
   "outputs": [],
   "source": [
    "%load_ext autoreload\n",
    "%autoreload 2"
   ]
  },
  {
   "cell_type": "code",
   "execution_count": 21,
   "id": "11f992c7",
   "metadata": {
    "ExecuteTime": {
     "end_time": "2021-12-04T17:15:28.234521Z",
     "start_time": "2021-12-04T17:15:28.205418Z"
    }
   },
   "outputs": [],
   "source": [
    "import numpy as np\n",
    "import pandas as pd\n",
    "import matplotlib.pyplot as plt\n",
    "%matplotlib inline\n",
    "from tqdm.autonotebook import tqdm\n",
    "from postdocsalary.paths import DATA_DIR, ensure_dir\n",
    "import urllib.request"
   ]
  },
  {
   "cell_type": "code",
   "execution_count": 22,
   "id": "8d0b39aa",
   "metadata": {
    "ExecuteTime": {
     "end_time": "2021-12-04T17:15:28.572904Z",
     "start_time": "2021-12-04T17:15:28.522080Z"
    }
   },
   "outputs": [],
   "source": [
    "income_df = pd.read_csv(DATA_DIR / 'income' / 'income.csv', skiprows=4)"
   ]
  },
  {
   "cell_type": "code",
   "execution_count": 23,
   "id": "d1dfc7e5",
   "metadata": {
    "ExecuteTime": {
     "end_time": "2021-12-04T17:15:28.699044Z",
     "start_time": "2021-12-04T17:15:28.678711Z"
    }
   },
   "outputs": [
    {
     "data": {
      "text/plain": [
       "array(['Real personal income (thousands of chained (2012) dollars)',\n",
       "       'Real per capita personal income (chained (2012) dollars) 2/',\n",
       "       'Real personal income (thousands of chained (2012) dollars)',\n",
       "       'Real per capita personal income (chained (2012) dollars) 2/',\n",
       "       'Real personal income (thousands of chained (2012) dollars)',\n",
       "       'Real per capita personal income (chained (2012) dollars) 2/',\n",
       "       'Real personal income (thousands of chained (2012) dollars)',\n",
       "       'Real per capita personal income (chained (2012) dollars) 2/',\n",
       "       'Real personal income (thousands of chained (2012) dollars)',\n",
       "       'Real per capita personal income (chained (2012) dollars) 2/',\n",
       "       'Real personal income (thousands of chained (2012) dollars)',\n",
       "       'Real per capita personal income (chained (2012) dollars) 2/',\n",
       "       'Real personal income (thousands of chained (2012) dollars)',\n",
       "       'Real per capita personal income (chained (2012) dollars) 2/',\n",
       "       'Real personal income (thousands of chained (2012) dollars)',\n",
       "       'Real per capita personal income (chained (2012) dollars) 2/',\n",
       "       'Real personal income (thousands of chained (2012) dollars)',\n",
       "       'Real per capita personal income (chained (2012) dollars) 2/',\n",
       "       'Real personal income (thousands of chained (2012) dollars)',\n",
       "       'Real per capita personal income (chained (2012) dollars) 2/'],\n",
       "      dtype=object)"
      ]
     },
     "execution_count": 23,
     "metadata": {},
     "output_type": "execute_result"
    }
   ],
   "source": [
    "income_df.Description.values[:20]"
   ]
  },
  {
   "cell_type": "code",
   "execution_count": 24,
   "id": "2c8842c5",
   "metadata": {
    "ExecuteTime": {
     "end_time": "2021-12-04T17:15:28.859381Z",
     "start_time": "2021-12-04T17:15:28.829207Z"
    },
    "scrolled": true
   },
   "outputs": [
    {
     "data": {
      "text/html": [
       "<div>\n",
       "<style scoped>\n",
       "    .dataframe tbody tr th:only-of-type {\n",
       "        vertical-align: middle;\n",
       "    }\n",
       "\n",
       "    .dataframe tbody tr th {\n",
       "        vertical-align: top;\n",
       "    }\n",
       "\n",
       "    .dataframe thead th {\n",
       "        text-align: right;\n",
       "    }\n",
       "</style>\n",
       "<table border=\"1\" class=\"dataframe\">\n",
       "  <thead>\n",
       "    <tr style=\"text-align: right;\">\n",
       "      <th></th>\n",
       "      <th>GeoFips</th>\n",
       "      <th>GeoName</th>\n",
       "      <th>LineCode</th>\n",
       "      <th>Description</th>\n",
       "      <th>2019</th>\n",
       "    </tr>\n",
       "  </thead>\n",
       "  <tbody>\n",
       "    <tr>\n",
       "      <th>461</th>\n",
       "      <td>33260</td>\n",
       "      <td>Midland, TX (Metropolitan Statistical Area)</td>\n",
       "      <td>2.0</td>\n",
       "      <td>Real per capita personal income (chained (2012...</td>\n",
       "      <td>119691.0</td>\n",
       "    </tr>\n",
       "    <tr>\n",
       "      <th>97</th>\n",
       "      <td>14860</td>\n",
       "      <td>Bridgeport-Stamford-Norwalk, CT (Metropolitan ...</td>\n",
       "      <td>2.0</td>\n",
       "      <td>Real per capita personal income (chained (2012...</td>\n",
       "      <td>99168.0</td>\n",
       "    </tr>\n",
       "    <tr>\n",
       "      <th>493</th>\n",
       "      <td>34940</td>\n",
       "      <td>Naples-Marco Island, FL (Metropolitan Statisti...</td>\n",
       "      <td>2.0</td>\n",
       "      <td>Real per capita personal income (chained (2012...</td>\n",
       "      <td>90469.0</td>\n",
       "    </tr>\n",
       "    <tr>\n",
       "      <th>629</th>\n",
       "      <td>41940</td>\n",
       "      <td>San Jose-Sunnyvale-Santa Clara, CA (Metropolit...</td>\n",
       "      <td>2.0</td>\n",
       "      <td>Real per capita personal income (chained (2012...</td>\n",
       "      <td>82718.0</td>\n",
       "    </tr>\n",
       "    <tr>\n",
       "      <th>647</th>\n",
       "      <td>42680</td>\n",
       "      <td>Sebastian-Vero Beach, FL (Metropolitan Statist...</td>\n",
       "      <td>2.0</td>\n",
       "      <td>Real per capita personal income (chained (2012...</td>\n",
       "      <td>79974.0</td>\n",
       "    </tr>\n",
       "    <tr>\n",
       "      <th>627</th>\n",
       "      <td>41860</td>\n",
       "      <td>San Francisco-Oakland-Berkeley, CA (Metropolit...</td>\n",
       "      <td>2.0</td>\n",
       "      <td>Real per capita personal income (chained (2012...</td>\n",
       "      <td>71668.0</td>\n",
       "    </tr>\n",
       "    <tr>\n",
       "      <th>121</th>\n",
       "      <td>16220</td>\n",
       "      <td>Casper, WY (Metropolitan Statistical Area)</td>\n",
       "      <td>2.0</td>\n",
       "      <td>Real per capita personal income (chained (2012...</td>\n",
       "      <td>71287.0</td>\n",
       "    </tr>\n",
       "    <tr>\n",
       "      <th>241</th>\n",
       "      <td>22220</td>\n",
       "      <td>Fayetteville-Springdale-Rogers, AR (Metropolit...</td>\n",
       "      <td>2.0</td>\n",
       "      <td>Real per capita personal income (chained (2012...</td>\n",
       "      <td>70600.0</td>\n",
       "    </tr>\n",
       "    <tr>\n",
       "      <th>55</th>\n",
       "      <td>12700</td>\n",
       "      <td>Barnstable Town, MA (Metropolitan Statistical ...</td>\n",
       "      <td>2.0</td>\n",
       "      <td>Real per capita personal income (chained (2012...</td>\n",
       "      <td>66933.0</td>\n",
       "    </tr>\n",
       "    <tr>\n",
       "      <th>91</th>\n",
       "      <td>14500</td>\n",
       "      <td>Boulder, CO (Metropolitan Statistical Area)</td>\n",
       "      <td>2.0</td>\n",
       "      <td>Real per capita personal income (chained (2012...</td>\n",
       "      <td>65888.0</td>\n",
       "    </tr>\n",
       "  </tbody>\n",
       "</table>\n",
       "</div>"
      ],
      "text/plain": [
       "    GeoFips                                            GeoName  LineCode  \\\n",
       "461   33260        Midland, TX (Metropolitan Statistical Area)       2.0   \n",
       "97    14860  Bridgeport-Stamford-Norwalk, CT (Metropolitan ...       2.0   \n",
       "493   34940  Naples-Marco Island, FL (Metropolitan Statisti...       2.0   \n",
       "629   41940  San Jose-Sunnyvale-Santa Clara, CA (Metropolit...       2.0   \n",
       "647   42680  Sebastian-Vero Beach, FL (Metropolitan Statist...       2.0   \n",
       "627   41860  San Francisco-Oakland-Berkeley, CA (Metropolit...       2.0   \n",
       "121   16220         Casper, WY (Metropolitan Statistical Area)       2.0   \n",
       "241   22220  Fayetteville-Springdale-Rogers, AR (Metropolit...       2.0   \n",
       "55    12700  Barnstable Town, MA (Metropolitan Statistical ...       2.0   \n",
       "91    14500        Boulder, CO (Metropolitan Statistical Area)       2.0   \n",
       "\n",
       "                                           Description      2019  \n",
       "461  Real per capita personal income (chained (2012...  119691.0  \n",
       "97   Real per capita personal income (chained (2012...   99168.0  \n",
       "493  Real per capita personal income (chained (2012...   90469.0  \n",
       "629  Real per capita personal income (chained (2012...   82718.0  \n",
       "647  Real per capita personal income (chained (2012...   79974.0  \n",
       "627  Real per capita personal income (chained (2012...   71668.0  \n",
       "121  Real per capita personal income (chained (2012...   71287.0  \n",
       "241  Real per capita personal income (chained (2012...   70600.0  \n",
       "55   Real per capita personal income (chained (2012...   66933.0  \n",
       "91   Real per capita personal income (chained (2012...   65888.0  "
      ]
     },
     "execution_count": 24,
     "metadata": {},
     "output_type": "execute_result"
    }
   ],
   "source": [
    "income_df[income_df.Description == 'Real per capita personal income (chained (2012) dollars) 2/'].sort_values(by='2019', ascending=False)[:10]"
   ]
  },
  {
   "cell_type": "code",
   "execution_count": 25,
   "id": "b547275e",
   "metadata": {
    "ExecuteTime": {
     "end_time": "2021-12-04T17:15:29.027369Z",
     "start_time": "2021-12-04T17:15:29.008758Z"
    }
   },
   "outputs": [],
   "source": [
    "income_df = income_df[income_df.Description == 'Real per capita personal income (chained (2012) dollars) 2/'] "
   ]
  },
  {
   "cell_type": "code",
   "execution_count": 26,
   "id": "699ca8da",
   "metadata": {
    "ExecuteTime": {
     "end_time": "2021-12-04T17:15:29.198090Z",
     "start_time": "2021-12-04T17:15:29.176684Z"
    }
   },
   "outputs": [],
   "source": [
    "income_df[\"RPI_per_capita\"] = income_df[\"2019\"]"
   ]
  },
  {
   "cell_type": "code",
   "execution_count": 27,
   "id": "5ee76a02",
   "metadata": {
    "ExecuteTime": {
     "end_time": "2021-12-04T17:15:29.707892Z",
     "start_time": "2021-12-04T17:15:29.677612Z"
    }
   },
   "outputs": [],
   "source": [
    "cost_of_living_df = pd.read_csv(DATA_DIR / 'BEA_price_parity' / 'BEA-cost-of-living-comparison.csv', skiprows=4)"
   ]
  },
  {
   "cell_type": "code",
   "execution_count": 28,
   "id": "99a5dfbe",
   "metadata": {
    "ExecuteTime": {
     "end_time": "2021-12-04T17:15:30.941580Z",
     "start_time": "2021-12-04T17:15:30.918544Z"
    }
   },
   "outputs": [],
   "source": [
    "cost_of_living_df = cost_of_living_df[cost_of_living_df.Description == \"RPPs: All items\"]\n",
    "cost_of_living_df['RPPs'] = cost_of_living_df['2019']"
   ]
  },
  {
   "cell_type": "code",
   "execution_count": 30,
   "id": "e4a21b8d",
   "metadata": {
    "ExecuteTime": {
     "end_time": "2021-12-04T17:15:56.451841Z",
     "start_time": "2021-12-04T17:15:56.423097Z"
    }
   },
   "outputs": [],
   "source": [
    "income_by_COL = cost_of_living_df[['RPPs', 'GeoName']].merge(income_df[['RPI_per_capita', 'GeoName']], on='GeoName')"
   ]
  },
  {
   "cell_type": "code",
   "execution_count": 31,
   "id": "59fe7804",
   "metadata": {
    "ExecuteTime": {
     "end_time": "2021-12-04T17:15:58.958460Z",
     "start_time": "2021-12-04T17:15:58.929021Z"
    }
   },
   "outputs": [
    {
     "data": {
      "text/html": [
       "<div>\n",
       "<style scoped>\n",
       "    .dataframe tbody tr th:only-of-type {\n",
       "        vertical-align: middle;\n",
       "    }\n",
       "\n",
       "    .dataframe tbody tr th {\n",
       "        vertical-align: top;\n",
       "    }\n",
       "\n",
       "    .dataframe thead th {\n",
       "        text-align: right;\n",
       "    }\n",
       "</style>\n",
       "<table border=\"1\" class=\"dataframe\">\n",
       "  <thead>\n",
       "    <tr style=\"text-align: right;\">\n",
       "      <th></th>\n",
       "      <th>RPPs</th>\n",
       "      <th>GeoName</th>\n",
       "      <th>RPI_per_capita</th>\n",
       "    </tr>\n",
       "  </thead>\n",
       "  <tbody>\n",
       "    <tr>\n",
       "      <th>0</th>\n",
       "      <td>100.0</td>\n",
       "      <td>United States</td>\n",
       "      <td>51424.0</td>\n",
       "    </tr>\n",
       "    <tr>\n",
       "      <th>1</th>\n",
       "      <td>90.3</td>\n",
       "      <td>Abilene, TX (Metropolitan Statistical Area)</td>\n",
       "      <td>46336.0</td>\n",
       "    </tr>\n",
       "    <tr>\n",
       "      <th>2</th>\n",
       "      <td>90.0</td>\n",
       "      <td>Akron, OH (Metropolitan Statistical Area)</td>\n",
       "      <td>52131.0</td>\n",
       "    </tr>\n",
       "    <tr>\n",
       "      <th>3</th>\n",
       "      <td>82.8</td>\n",
       "      <td>Albany, GA (Metropolitan Statistical Area)</td>\n",
       "      <td>44279.0</td>\n",
       "    </tr>\n",
       "    <tr>\n",
       "      <th>4</th>\n",
       "      <td>98.0</td>\n",
       "      <td>Albany-Lebanon, OR (Metropolitan Statistical A...</td>\n",
       "      <td>42018.0</td>\n",
       "    </tr>\n",
       "    <tr>\n",
       "      <th>5</th>\n",
       "      <td>99.3</td>\n",
       "      <td>Albany-Schenectady-Troy, NY (Metropolitan Stat...</td>\n",
       "      <td>56206.0</td>\n",
       "    </tr>\n",
       "    <tr>\n",
       "      <th>6</th>\n",
       "      <td>93.6</td>\n",
       "      <td>Albuquerque, NM (Metropolitan Statistical Area)</td>\n",
       "      <td>43146.0</td>\n",
       "    </tr>\n",
       "    <tr>\n",
       "      <th>7</th>\n",
       "      <td>85.4</td>\n",
       "      <td>Alexandria, LA (Metropolitan Statistical Area)</td>\n",
       "      <td>47769.0</td>\n",
       "    </tr>\n",
       "    <tr>\n",
       "      <th>8</th>\n",
       "      <td>98.6</td>\n",
       "      <td>Allentown-Bethlehem-Easton, PA-NJ (Metropolita...</td>\n",
       "      <td>51833.0</td>\n",
       "    </tr>\n",
       "    <tr>\n",
       "      <th>9</th>\n",
       "      <td>90.1</td>\n",
       "      <td>Altoona, PA (Metropolitan Statistical Area)</td>\n",
       "      <td>49231.0</td>\n",
       "    </tr>\n",
       "  </tbody>\n",
       "</table>\n",
       "</div>"
      ],
      "text/plain": [
       "    RPPs                                            GeoName  RPI_per_capita\n",
       "0  100.0                                      United States         51424.0\n",
       "1   90.3        Abilene, TX (Metropolitan Statistical Area)         46336.0\n",
       "2   90.0          Akron, OH (Metropolitan Statistical Area)         52131.0\n",
       "3   82.8         Albany, GA (Metropolitan Statistical Area)         44279.0\n",
       "4   98.0  Albany-Lebanon, OR (Metropolitan Statistical A...         42018.0\n",
       "5   99.3  Albany-Schenectady-Troy, NY (Metropolitan Stat...         56206.0\n",
       "6   93.6    Albuquerque, NM (Metropolitan Statistical Area)         43146.0\n",
       "7   85.4     Alexandria, LA (Metropolitan Statistical Area)         47769.0\n",
       "8   98.6  Allentown-Bethlehem-Easton, PA-NJ (Metropolita...         51833.0\n",
       "9   90.1        Altoona, PA (Metropolitan Statistical Area)         49231.0"
      ]
     },
     "execution_count": 31,
     "metadata": {},
     "output_type": "execute_result"
    }
   ],
   "source": [
    "income_by_COL[:10]"
   ]
  },
  {
   "cell_type": "code",
   "execution_count": 32,
   "id": "56564bcf",
   "metadata": {
    "ExecuteTime": {
     "end_time": "2021-12-04T17:16:10.633302Z",
     "start_time": "2021-12-04T17:16:10.434598Z"
    }
   },
   "outputs": [
    {
     "data": {
      "text/plain": [
       "<matplotlib.collections.PathCollection at 0x7fe9e079afa0>"
      ]
     },
     "execution_count": 32,
     "metadata": {},
     "output_type": "execute_result"
    },
    {
     "data": {
      "image/png": "[encoded data removed]",
      "text/plain": [
       "<Figure size 432x288 with 1 Axes>"
      ]
     },
     "metadata": {
      "needs_background": "light"
     },
     "output_type": "display_data"
    }
   ],
   "source": [
    "plt.scatter(income_by_COL.RPPs, income_by_COL.RPI_per_capita)"
   ]
  },
  {
   "cell_type": "code",
   "execution_count": 33,
   "id": "4d5d24f4",
   "metadata": {
    "ExecuteTime": {
     "end_time": "2021-12-04T17:17:00.934875Z",
     "start_time": "2021-12-04T17:17:00.499462Z"
    }
   },
   "outputs": [],
   "source": [
    "import scipy.stats"
   ]
  },
  {
   "cell_type": "code",
   "execution_count": 34,
   "id": "cb2ce701",
   "metadata": {
    "ExecuteTime": {
     "end_time": "2021-12-04T17:17:11.647776Z",
     "start_time": "2021-12-04T17:17:11.618632Z"
    }
   },
   "outputs": [
    {
     "data": {
      "text/plain": [
       "(0.3520702422722458, 1.372784189445249e-12)"
      ]
     },
     "execution_count": 34,
     "metadata": {},
     "output_type": "execute_result"
    }
   ],
   "source": [
    "scipy.stats.pearsonr(income_by_COL.RPPs, income_by_COL.RPI_per_capita)"
   ]
  },
  {
   "cell_type": "code",
   "execution_count": null,
   "id": "cf8299d3",
   "metadata": {},
   "outputs": [],
   "source": []
  }
 ],
 "metadata": {
  "kernelspec": {
   "display_name": "postdoc",
   "language": "python",
   "name": "postdoc"
  },
  "language_info": {
   "codemirror_mode": {
    "name": "ipython",
    "version": 3
   },
   "file_extension": ".py",
   "mimetype": "text/x-python",
   "name": "python",
   "nbconvert_exporter": "python",
   "pygments_lexer": "ipython3",
   "version": "3.8.12"
  }
 },
 "nbformat": 4,
 "nbformat_minor": 5
}
