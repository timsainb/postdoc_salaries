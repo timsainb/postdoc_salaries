{
 "cells": [
  {
   "cell_type": "code",
   "execution_count": 54,
   "id": "ee4f5950",
   "metadata": {
    "ExecuteTime": {
     "end_time": "2021-12-05T06:18:17.866984Z",
     "start_time": "2021-12-05T06:18:17.841908Z"
    }
   },
   "outputs": [
    {
     "name": "stdout",
     "output_type": "stream",
     "text": [
      "The autoreload extension is already loaded. To reload it, use:\n",
      "  %reload_ext autoreload\n"
     ]
    }
   ],
   "source": [
    "%load_ext autoreload\n",
    "%autoreload 2"
   ]
  },
  {
   "cell_type": "code",
   "execution_count": 55,
   "id": "7b3491c0",
   "metadata": {
    "ExecuteTime": {
     "end_time": "2021-12-05T06:18:18.214360Z",
     "start_time": "2021-12-05T06:18:18.191519Z"
    }
   },
   "outputs": [],
   "source": [
    "import numpy as np\n",
    "import pandas as pd\n",
    "import matplotlib.pyplot as plt\n",
    "%matplotlib inline\n",
    "from tqdm.autonotebook import tqdm\n",
    "from postdocsalary.paths import DATA_DIR, ensure_dir\n",
    "import urllib.request\n",
    "pd.set_option('display.max_columns', None)\n",
    "pd.set_option('display.max_rows', None)"
   ]
  },
  {
   "cell_type": "code",
   "execution_count": 56,
   "id": "64912b18",
   "metadata": {
    "ExecuteTime": {
     "end_time": "2021-12-05T06:18:18.571695Z",
     "start_time": "2021-12-05T06:18:18.483886Z"
    }
   },
   "outputs": [],
   "source": [
    "university_rankings = pd.read_csv(DATA_DIR / 'university_rankings' / 'cwurData.csv')"
   ]
  },
  {
   "cell_type": "code",
   "execution_count": 57,
   "id": "e538e094",
   "metadata": {
    "ExecuteTime": {
     "end_time": "2021-12-05T06:18:18.699380Z",
     "start_time": "2021-12-05T06:18:18.679357Z"
    }
   },
   "outputs": [],
   "source": [
    "university_rankings = university_rankings[university_rankings.country == 'USA']"
   ]
  },
  {
   "cell_type": "code",
   "execution_count": 58,
   "id": "ee76d6e5",
   "metadata": {
    "ExecuteTime": {
     "end_time": "2021-12-05T06:18:18.859997Z",
     "start_time": "2021-12-05T06:18:18.841304Z"
    }
   },
   "outputs": [],
   "source": [
    "university_rankings = university_rankings[university_rankings.year == 2015]"
   ]
  },
  {
   "cell_type": "code",
   "execution_count": 59,
   "id": "4fcaf990",
   "metadata": {
    "ExecuteTime": {
     "end_time": "2021-12-05T06:18:19.046631Z",
     "start_time": "2021-12-05T06:18:19.025559Z"
    }
   },
   "outputs": [
    {
     "data": {
      "text/plain": [
       "229"
      ]
     },
     "execution_count": 59,
     "metadata": {},
     "output_type": "execute_result"
    }
   ],
   "source": [
    "len(university_rankings)"
   ]
  },
  {
   "cell_type": "code",
   "execution_count": 60,
   "id": "c61f089b",
   "metadata": {
    "ExecuteTime": {
     "end_time": "2021-12-05T06:18:19.239925Z",
     "start_time": "2021-12-05T06:18:19.208157Z"
    }
   },
   "outputs": [
    {
     "data": {
      "text/html": [
       "<div>\n",
       "<style scoped>\n",
       "    .dataframe tbody tr th:only-of-type {\n",
       "        vertical-align: middle;\n",
       "    }\n",
       "\n",
       "    .dataframe tbody tr th {\n",
       "        vertical-align: top;\n",
       "    }\n",
       "\n",
       "    .dataframe thead th {\n",
       "        text-align: right;\n",
       "    }\n",
       "</style>\n",
       "<table border=\"1\" class=\"dataframe\">\n",
       "  <thead>\n",
       "    <tr style=\"text-align: right;\">\n",
       "      <th></th>\n",
       "      <th>world_rank</th>\n",
       "      <th>institution</th>\n",
       "      <th>country</th>\n",
       "      <th>national_rank</th>\n",
       "      <th>quality_of_education</th>\n",
       "      <th>alumni_employment</th>\n",
       "      <th>quality_of_faculty</th>\n",
       "      <th>publications</th>\n",
       "      <th>influence</th>\n",
       "      <th>citations</th>\n",
       "      <th>broad_impact</th>\n",
       "      <th>patents</th>\n",
       "      <th>score</th>\n",
       "      <th>year</th>\n",
       "    </tr>\n",
       "  </thead>\n",
       "  <tbody>\n",
       "    <tr>\n",
       "      <th>1200</th>\n",
       "      <td>1</td>\n",
       "      <td>Harvard University</td>\n",
       "      <td>USA</td>\n",
       "      <td>1</td>\n",
       "      <td>1</td>\n",
       "      <td>1</td>\n",
       "      <td>1</td>\n",
       "      <td>1</td>\n",
       "      <td>1</td>\n",
       "      <td>1</td>\n",
       "      <td>1.0</td>\n",
       "      <td>3</td>\n",
       "      <td>100.00</td>\n",
       "      <td>2015</td>\n",
       "    </tr>\n",
       "    <tr>\n",
       "      <th>1201</th>\n",
       "      <td>2</td>\n",
       "      <td>Stanford University</td>\n",
       "      <td>USA</td>\n",
       "      <td>2</td>\n",
       "      <td>9</td>\n",
       "      <td>2</td>\n",
       "      <td>4</td>\n",
       "      <td>5</td>\n",
       "      <td>3</td>\n",
       "      <td>3</td>\n",
       "      <td>4.0</td>\n",
       "      <td>10</td>\n",
       "      <td>98.66</td>\n",
       "      <td>2015</td>\n",
       "    </tr>\n",
       "    <tr>\n",
       "      <th>1202</th>\n",
       "      <td>3</td>\n",
       "      <td>Massachusetts Institute of Technology</td>\n",
       "      <td>USA</td>\n",
       "      <td>3</td>\n",
       "      <td>3</td>\n",
       "      <td>11</td>\n",
       "      <td>2</td>\n",
       "      <td>15</td>\n",
       "      <td>2</td>\n",
       "      <td>2</td>\n",
       "      <td>2.0</td>\n",
       "      <td>1</td>\n",
       "      <td>97.54</td>\n",
       "      <td>2015</td>\n",
       "    </tr>\n",
       "  </tbody>\n",
       "</table>\n",
       "</div>"
      ],
      "text/plain": [
       "      world_rank                            institution country  \\\n",
       "1200           1                     Harvard University     USA   \n",
       "1201           2                    Stanford University     USA   \n",
       "1202           3  Massachusetts Institute of Technology     USA   \n",
       "\n",
       "      national_rank  quality_of_education  alumni_employment  \\\n",
       "1200              1                     1                  1   \n",
       "1201              2                     9                  2   \n",
       "1202              3                     3                 11   \n",
       "\n",
       "      quality_of_faculty  publications  influence  citations  broad_impact  \\\n",
       "1200                   1             1          1          1           1.0   \n",
       "1201                   4             5          3          3           4.0   \n",
       "1202                   2            15          2          2           2.0   \n",
       "\n",
       "      patents   score  year  \n",
       "1200        3  100.00  2015  \n",
       "1201       10   98.66  2015  \n",
       "1202        1   97.54  2015  "
      ]
     },
     "execution_count": 60,
     "metadata": {},
     "output_type": "execute_result"
    }
   ],
   "source": [
    "university_rankings[:3]"
   ]
  },
  {
   "cell_type": "code",
   "execution_count": 61,
   "id": "f3b110ab",
   "metadata": {
    "ExecuteTime": {
     "end_time": "2021-12-05T06:18:19.562657Z",
     "start_time": "2021-12-05T06:18:19.410156Z"
    }
   },
   "outputs": [],
   "source": [
    "university_locs = pd.read_csv(DATA_DIR / \"university_locations\" / 'university_locs.csv')"
   ]
  },
  {
   "cell_type": "code",
   "execution_count": 70,
   "id": "461cc207",
   "metadata": {
    "ExecuteTime": {
     "end_time": "2021-12-05T06:18:51.595187Z",
     "start_time": "2021-12-05T06:18:51.523035Z"
    }
   },
   "outputs": [
    {
     "data": {
      "text/html": [
       "<div>\n",
       "<style scoped>\n",
       "    .dataframe tbody tr th:only-of-type {\n",
       "        vertical-align: middle;\n",
       "    }\n",
       "\n",
       "    .dataframe tbody tr th {\n",
       "        vertical-align: top;\n",
       "    }\n",
       "\n",
       "    .dataframe thead th {\n",
       "        text-align: right;\n",
       "    }\n",
       "</style>\n",
       "<table border=\"1\" class=\"dataframe\">\n",
       "  <thead>\n",
       "    <tr style=\"text-align: right;\">\n",
       "      <th></th>\n",
       "      <th>UNITID</th>\n",
       "      <th>INSTNM</th>\n",
       "      <th>IALIAS</th>\n",
       "      <th>ADDR</th>\n",
       "      <th>CITY</th>\n",
       "      <th>STABBR</th>\n",
       "      <th>ZIP</th>\n",
       "      <th>FIPS</th>\n",
       "      <th>OBEREG</th>\n",
       "      <th>CHFNM</th>\n",
       "      <th>CHFTITLE</th>\n",
       "      <th>GENTELE</th>\n",
       "      <th>EIN</th>\n",
       "      <th>DUNS</th>\n",
       "      <th>OPEID</th>\n",
       "      <th>OPEFLAG</th>\n",
       "      <th>WEBADDR</th>\n",
       "      <th>ADMINURL</th>\n",
       "      <th>FAIDURL</th>\n",
       "      <th>APPLURL</th>\n",
       "      <th>NPRICURL</th>\n",
       "      <th>VETURL</th>\n",
       "      <th>ATHURL</th>\n",
       "      <th>DISAURL</th>\n",
       "      <th>SECTOR</th>\n",
       "      <th>ICLEVEL</th>\n",
       "      <th>CONTROL</th>\n",
       "      <th>HLOFFER</th>\n",
       "      <th>UGOFFER</th>\n",
       "      <th>GROFFER</th>\n",
       "      <th>HDEGOFR1</th>\n",
       "      <th>DEGGRANT</th>\n",
       "      <th>HBCU</th>\n",
       "      <th>HOSPITAL</th>\n",
       "      <th>MEDICAL</th>\n",
       "      <th>TRIBAL</th>\n",
       "      <th>LOCALE</th>\n",
       "      <th>OPENPUBL</th>\n",
       "      <th>ACT</th>\n",
       "      <th>NEWID</th>\n",
       "      <th>DEATHYR</th>\n",
       "      <th>CLOSEDAT</th>\n",
       "      <th>CYACTIVE</th>\n",
       "      <th>POSTSEC</th>\n",
       "      <th>PSEFLAG</th>\n",
       "      <th>PSET4FLG</th>\n",
       "      <th>RPTMTH</th>\n",
       "      <th>INSTCAT</th>\n",
       "      <th>C18BASIC</th>\n",
       "      <th>C18IPUG</th>\n",
       "      <th>C18IPGRD</th>\n",
       "      <th>C18UGPRF</th>\n",
       "      <th>C18ENPRF</th>\n",
       "      <th>C18SZSET</th>\n",
       "      <th>C15BASIC</th>\n",
       "      <th>CCBASIC</th>\n",
       "      <th>CARNEGIE</th>\n",
       "      <th>LANDGRNT</th>\n",
       "      <th>INSTSIZE</th>\n",
       "      <th>F1SYSTYP</th>\n",
       "      <th>F1SYSNAM</th>\n",
       "      <th>F1SYSCOD</th>\n",
       "      <th>CBSA</th>\n",
       "      <th>CBSATYPE</th>\n",
       "      <th>CSA</th>\n",
       "      <th>NECTA</th>\n",
       "      <th>COUNTYCD</th>\n",
       "      <th>COUNTYNM</th>\n",
       "      <th>CNGDSTCD</th>\n",
       "      <th>LONGITUD</th>\n",
       "      <th>LATITUDE</th>\n",
       "      <th>DFRCGID</th>\n",
       "      <th>DFRCUSCG</th>\n",
       "    </tr>\n",
       "  </thead>\n",
       "  <tbody>\n",
       "    <tr>\n",
       "      <th>0</th>\n",
       "      <td>100654</td>\n",
       "      <td>Alabama A &amp; M University</td>\n",
       "      <td>AAMU</td>\n",
       "      <td>4900 Meridian Street</td>\n",
       "      <td>Normal</td>\n",
       "      <td>AL</td>\n",
       "      <td>35762</td>\n",
       "      <td>1</td>\n",
       "      <td>5</td>\n",
       "      <td>Dr. Andrew Hugine, Jr.</td>\n",
       "      <td>President</td>\n",
       "      <td>2563725000</td>\n",
       "      <td>636001109</td>\n",
       "      <td>197216455</td>\n",
       "      <td>100200</td>\n",
       "      <td>1</td>\n",
       "      <td>www.aamu.edu/</td>\n",
       "      <td>https://www.aamu.edu/admissions-aid/index.html</td>\n",
       "      <td>https://www.aamu.edu/admissions-aid/financial-...</td>\n",
       "      <td>https://www.aamu.edu/admissions-aid/undergradu...</td>\n",
       "      <td>www.aamu.edu/admissions-aid/tuition-fees/net-p...</td>\n",
       "      <td></td>\n",
       "      <td></td>\n",
       "      <td>https://www.aamu.edu/administrativeoffices/VAD...</td>\n",
       "      <td>1</td>\n",
       "      <td>1</td>\n",
       "      <td>1</td>\n",
       "      <td>9</td>\n",
       "      <td>1</td>\n",
       "      <td>1</td>\n",
       "      <td>12</td>\n",
       "      <td>1</td>\n",
       "      <td>1</td>\n",
       "      <td>2</td>\n",
       "      <td>2</td>\n",
       "      <td>2</td>\n",
       "      <td>12</td>\n",
       "      <td>1</td>\n",
       "      <td>A</td>\n",
       "      <td>-2</td>\n",
       "      <td>-2</td>\n",
       "      <td>-2</td>\n",
       "      <td>1</td>\n",
       "      <td>1</td>\n",
       "      <td>1</td>\n",
       "      <td>1</td>\n",
       "      <td>1</td>\n",
       "      <td>2</td>\n",
       "      <td>18</td>\n",
       "      <td>16</td>\n",
       "      <td>17</td>\n",
       "      <td>10</td>\n",
       "      <td>4</td>\n",
       "      <td>14</td>\n",
       "      <td>18</td>\n",
       "      <td>18</td>\n",
       "      <td>16</td>\n",
       "      <td>1</td>\n",
       "      <td>3</td>\n",
       "      <td>2</td>\n",
       "      <td>-2</td>\n",
       "      <td>-2</td>\n",
       "      <td>26620</td>\n",
       "      <td>1</td>\n",
       "      <td>290</td>\n",
       "      <td>-2</td>\n",
       "      <td>1089</td>\n",
       "      <td>Madison County</td>\n",
       "      <td>105</td>\n",
       "      <td>-86.568502</td>\n",
       "      <td>34.783368</td>\n",
       "      <td>109</td>\n",
       "      <td>1</td>\n",
       "    </tr>\n",
       "    <tr>\n",
       "      <th>1</th>\n",
       "      <td>100663</td>\n",
       "      <td>University of Alabama at Birmingham</td>\n",
       "      <td></td>\n",
       "      <td>Administration Bldg Suite 1070</td>\n",
       "      <td>Birmingham</td>\n",
       "      <td>AL</td>\n",
       "      <td>35294-0110</td>\n",
       "      <td>1</td>\n",
       "      <td>5</td>\n",
       "      <td>Ray L. Watts</td>\n",
       "      <td>President</td>\n",
       "      <td>2059344011</td>\n",
       "      <td>636005396</td>\n",
       "      <td>063690705</td>\n",
       "      <td>105200</td>\n",
       "      <td>1</td>\n",
       "      <td>https://www.uab.edu/</td>\n",
       "      <td>https://www.uab.edu/students/admissions/</td>\n",
       "      <td>https://www.uab.edu/students/paying-for-college</td>\n",
       "      <td>https://ssb.it.uab.edu/pls/sctprod/zsapk003_ug...</td>\n",
       "      <td>https://uab.studentaidcalculator.com/survey.aspx</td>\n",
       "      <td>https://www.uab.edu/students/veterans</td>\n",
       "      <td>https://www.uab.edu/registrar/students</td>\n",
       "      <td>https://www.uab.edu/students/disability/</td>\n",
       "      <td>1</td>\n",
       "      <td>1</td>\n",
       "      <td>1</td>\n",
       "      <td>9</td>\n",
       "      <td>1</td>\n",
       "      <td>1</td>\n",
       "      <td>11</td>\n",
       "      <td>1</td>\n",
       "      <td>2</td>\n",
       "      <td>1</td>\n",
       "      <td>1</td>\n",
       "      <td>2</td>\n",
       "      <td>12</td>\n",
       "      <td>1</td>\n",
       "      <td>A</td>\n",
       "      <td>-2</td>\n",
       "      <td>-2</td>\n",
       "      <td>-2</td>\n",
       "      <td>1</td>\n",
       "      <td>1</td>\n",
       "      <td>1</td>\n",
       "      <td>1</td>\n",
       "      <td>1</td>\n",
       "      <td>2</td>\n",
       "      <td>15</td>\n",
       "      <td>17</td>\n",
       "      <td>17</td>\n",
       "      <td>9</td>\n",
       "      <td>5</td>\n",
       "      <td>15</td>\n",
       "      <td>15</td>\n",
       "      <td>15</td>\n",
       "      <td>15</td>\n",
       "      <td>2</td>\n",
       "      <td>5</td>\n",
       "      <td>1</td>\n",
       "      <td>The University of Alabama System</td>\n",
       "      <td>101050</td>\n",
       "      <td>13820</td>\n",
       "      <td>1</td>\n",
       "      <td>142</td>\n",
       "      <td>-2</td>\n",
       "      <td>1073</td>\n",
       "      <td>Jefferson County</td>\n",
       "      <td>107</td>\n",
       "      <td>-86.799345</td>\n",
       "      <td>33.505697</td>\n",
       "      <td>95</td>\n",
       "      <td>1</td>\n",
       "    </tr>\n",
       "    <tr>\n",
       "      <th>2</th>\n",
       "      <td>100690</td>\n",
       "      <td>Amridge University</td>\n",
       "      <td>Southern Christian University  Regions University</td>\n",
       "      <td>1200 Taylor Rd</td>\n",
       "      <td>Montgomery</td>\n",
       "      <td>AL</td>\n",
       "      <td>36117-3553</td>\n",
       "      <td>1</td>\n",
       "      <td>5</td>\n",
       "      <td>Michael C.Turner</td>\n",
       "      <td>President</td>\n",
       "      <td>33438738777550</td>\n",
       "      <td>237034324</td>\n",
       "      <td>126307792</td>\n",
       "      <td>2503400</td>\n",
       "      <td>1</td>\n",
       "      <td>www.amridgeuniversity.edu/</td>\n",
       "      <td>www.amridgeuniversity.edu/admissions/</td>\n",
       "      <td>www.amridgeuniversity.edu/financialaid/</td>\n",
       "      <td>https://www2.amridgeuniversity.edu/Amridge/Log...</td>\n",
       "      <td>www2.amridgeuniversity.edu:9091/</td>\n",
       "      <td>www.amridgeuniversity.edu/admissions/military/</td>\n",
       "      <td></td>\n",
       "      <td>www.amridgeuniversity.edu/academics/</td>\n",
       "      <td>2</td>\n",
       "      <td>1</td>\n",
       "      <td>2</td>\n",
       "      <td>9</td>\n",
       "      <td>1</td>\n",
       "      <td>1</td>\n",
       "      <td>12</td>\n",
       "      <td>1</td>\n",
       "      <td>2</td>\n",
       "      <td>2</td>\n",
       "      <td>2</td>\n",
       "      <td>2</td>\n",
       "      <td>12</td>\n",
       "      <td>1</td>\n",
       "      <td>A</td>\n",
       "      <td>-2</td>\n",
       "      <td>-2</td>\n",
       "      <td>-2</td>\n",
       "      <td>1</td>\n",
       "      <td>1</td>\n",
       "      <td>1</td>\n",
       "      <td>1</td>\n",
       "      <td>1</td>\n",
       "      <td>2</td>\n",
       "      <td>20</td>\n",
       "      <td>19</td>\n",
       "      <td>18</td>\n",
       "      <td>5</td>\n",
       "      <td>5</td>\n",
       "      <td>6</td>\n",
       "      <td>20</td>\n",
       "      <td>21</td>\n",
       "      <td>51</td>\n",
       "      <td>2</td>\n",
       "      <td>1</td>\n",
       "      <td>2</td>\n",
       "      <td>-2</td>\n",
       "      <td>-2</td>\n",
       "      <td>33860</td>\n",
       "      <td>1</td>\n",
       "      <td>388</td>\n",
       "      <td>-2</td>\n",
       "      <td>1101</td>\n",
       "      <td>Montgomery County</td>\n",
       "      <td>102</td>\n",
       "      <td>-86.174010</td>\n",
       "      <td>32.362609</td>\n",
       "      <td>126</td>\n",
       "      <td>2</td>\n",
       "    </tr>\n",
       "  </tbody>\n",
       "</table>\n",
       "</div>"
      ],
      "text/plain": [
       "   UNITID                               INSTNM  \\\n",
       "0  100654             Alabama A & M University   \n",
       "1  100663  University of Alabama at Birmingham   \n",
       "2  100690                   Amridge University   \n",
       "\n",
       "                                              IALIAS  \\\n",
       "0                                               AAMU   \n",
       "1                                                      \n",
       "2  Southern Christian University  Regions University   \n",
       "\n",
       "                             ADDR        CITY STABBR         ZIP  FIPS  \\\n",
       "0            4900 Meridian Street      Normal     AL       35762     1   \n",
       "1  Administration Bldg Suite 1070  Birmingham     AL  35294-0110     1   \n",
       "2                  1200 Taylor Rd  Montgomery     AL  36117-3553     1   \n",
       "\n",
       "   OBEREG                   CHFNM   CHFTITLE         GENTELE        EIN  \\\n",
       "0       5  Dr. Andrew Hugine, Jr.  President      2563725000  636001109   \n",
       "1       5            Ray L. Watts  President      2059344011  636005396   \n",
       "2       5        Michael C.Turner  President  33438738777550  237034324   \n",
       "\n",
       "        DUNS    OPEID  OPEFLAG                     WEBADDR  \\\n",
       "0  197216455   100200        1               www.aamu.edu/   \n",
       "1  063690705   105200        1        https://www.uab.edu/   \n",
       "2  126307792  2503400        1  www.amridgeuniversity.edu/   \n",
       "\n",
       "                                         ADMINURL  \\\n",
       "0  https://www.aamu.edu/admissions-aid/index.html   \n",
       "1        https://www.uab.edu/students/admissions/   \n",
       "2           www.amridgeuniversity.edu/admissions/   \n",
       "\n",
       "                                             FAIDURL  \\\n",
       "0  https://www.aamu.edu/admissions-aid/financial-...   \n",
       "1    https://www.uab.edu/students/paying-for-college   \n",
       "2            www.amridgeuniversity.edu/financialaid/   \n",
       "\n",
       "                                             APPLURL  \\\n",
       "0  https://www.aamu.edu/admissions-aid/undergradu...   \n",
       "1  https://ssb.it.uab.edu/pls/sctprod/zsapk003_ug...   \n",
       "2  https://www2.amridgeuniversity.edu/Amridge/Log...   \n",
       "\n",
       "                                            NPRICURL  \\\n",
       "0  www.aamu.edu/admissions-aid/tuition-fees/net-p...   \n",
       "1   https://uab.studentaidcalculator.com/survey.aspx   \n",
       "2                   www2.amridgeuniversity.edu:9091/   \n",
       "\n",
       "                                           VETURL  \\\n",
       "0                                                   \n",
       "1           https://www.uab.edu/students/veterans   \n",
       "2  www.amridgeuniversity.edu/admissions/military/   \n",
       "\n",
       "                                   ATHURL  \\\n",
       "0                                           \n",
       "1  https://www.uab.edu/registrar/students   \n",
       "2                                           \n",
       "\n",
       "                                             DISAURL  SECTOR  ICLEVEL  \\\n",
       "0  https://www.aamu.edu/administrativeoffices/VAD...       1        1   \n",
       "1           https://www.uab.edu/students/disability/       1        1   \n",
       "2               www.amridgeuniversity.edu/academics/       2        1   \n",
       "\n",
       "   CONTROL  HLOFFER  UGOFFER  GROFFER  HDEGOFR1  DEGGRANT  HBCU  HOSPITAL  \\\n",
       "0        1        9        1        1        12         1     1         2   \n",
       "1        1        9        1        1        11         1     2         1   \n",
       "2        2        9        1        1        12         1     2         2   \n",
       "\n",
       "   MEDICAL  TRIBAL  LOCALE  OPENPUBL ACT  NEWID  DEATHYR CLOSEDAT  CYACTIVE  \\\n",
       "0        2       2      12         1  A      -2       -2       -2         1   \n",
       "1        1       2      12         1  A      -2       -2       -2         1   \n",
       "2        2       2      12         1  A      -2       -2       -2         1   \n",
       "\n",
       "   POSTSEC  PSEFLAG  PSET4FLG  RPTMTH  INSTCAT  C18BASIC  C18IPUG  C18IPGRD  \\\n",
       "0        1        1         1       1        2        18       16        17   \n",
       "1        1        1         1       1        2        15       17        17   \n",
       "2        1        1         1       1        2        20       19        18   \n",
       "\n",
       "   C18UGPRF  C18ENPRF  C18SZSET  C15BASIC  CCBASIC  CARNEGIE  LANDGRNT  \\\n",
       "0        10         4        14        18       18        16         1   \n",
       "1         9         5        15        15       15        15         2   \n",
       "2         5         5         6        20       21        51         2   \n",
       "\n",
       "   INSTSIZE  F1SYSTYP                          F1SYSNAM  F1SYSCOD   CBSA  \\\n",
       "0         3         2                                -2        -2  26620   \n",
       "1         5         1  The University of Alabama System    101050  13820   \n",
       "2         1         2                                -2        -2  33860   \n",
       "\n",
       "   CBSATYPE  CSA  NECTA  COUNTYCD           COUNTYNM  CNGDSTCD   LONGITUD  \\\n",
       "0         1  290     -2      1089     Madison County       105 -86.568502   \n",
       "1         1  142     -2      1073   Jefferson County       107 -86.799345   \n",
       "2         1  388     -2      1101  Montgomery County       102 -86.174010   \n",
       "\n",
       "    LATITUDE  DFRCGID  DFRCUSCG  \n",
       "0  34.783368      109         1  \n",
       "1  33.505697       95         1  \n",
       "2  32.362609      126         2  "
      ]
     },
     "execution_count": 70,
     "metadata": {},
     "output_type": "execute_result"
    }
   ],
   "source": [
    "university_locs[:3]"
   ]
  },
  {
   "cell_type": "code",
   "execution_count": 63,
   "id": "b3dc259d",
   "metadata": {
    "ExecuteTime": {
     "end_time": "2021-12-05T06:18:21.003723Z",
     "start_time": "2021-12-05T06:18:20.984947Z"
    }
   },
   "outputs": [],
   "source": [
    "def strip_name(name):\n",
    "    return ''.join(filter( lambda x: x in '0123456789abcdefghijklmnopqrstuvwxyz', name.lower()))"
   ]
  },
  {
   "cell_type": "code",
   "execution_count": 64,
   "id": "a54473be",
   "metadata": {
    "ExecuteTime": {
     "end_time": "2021-12-05T06:18:21.211386Z",
     "start_time": "2021-12-05T06:18:21.161297Z"
    }
   },
   "outputs": [],
   "source": [
    "stripped_institution = np.array([strip_name(i) for i in university_locs.INSTNM.values])"
   ]
  },
  {
   "cell_type": "code",
   "execution_count": 65,
   "id": "6d5bbb19",
   "metadata": {
    "ExecuteTime": {
     "end_time": "2021-12-05T06:18:21.417114Z",
     "start_time": "2021-12-05T06:18:21.372493Z"
    }
   },
   "outputs": [],
   "source": [
    "stripped_alias = np.array([strip_name(i) if type(i) == str else np.nan for i in university_locs.IALIAS.values])"
   ]
  },
  {
   "cell_type": "code",
   "execution_count": 66,
   "id": "63c6575f",
   "metadata": {
    "ExecuteTime": {
     "end_time": "2021-12-05T06:18:21.618954Z",
     "start_time": "2021-12-05T06:18:21.596900Z"
    }
   },
   "outputs": [],
   "source": [
    "import difflib"
   ]
  },
  {
   "cell_type": "code",
   "execution_count": 67,
   "id": "574149a6",
   "metadata": {
    "ExecuteTime": {
     "end_time": "2021-12-05T06:18:22.054132Z",
     "start_time": "2021-12-05T06:18:22.032459Z"
    }
   },
   "outputs": [],
   "source": [
    "hand_matched = {\n",
    "    \"universityatbuffalothestateuniversityofnewyork\": \"universityatbuffalo\",\n",
    "    \"sunydownstatemedicalcenter\": \"SUNYDownstateHealthSciencesUniversity\".lower(),\n",
    "    \"lsuhealthsciencescenterneworleans\": \"LouisianaStateUniversityHealthSciencesCenterNewOrleans\".lower(),\n",
    "    \"texasamhealthsciencecenter\": \"TheUniversityofTexasHealthScienceCenteratHouston\".lower(),\n",
    "    \"stateuniversityofnewyorkupstatemedicaluniversity\": \"UpstateMedicalUniversity\".lower(),\n",
    "    \"rutgersthestateuniversityofnewjerseynewark\":\"RutgersUniversityNewark\".lower(),\n",
    "    \"queenscollegecityuniversityofnewyork\":\"CUNYQueensCollege\".lower(),\n",
    "    \"huntercollege\": \"CUNYHunterCollege\".lower()\n",
    "    \n",
    "}"
   ]
  },
  {
   "cell_type": "code",
   "execution_count": 68,
   "id": "c488a6f4",
   "metadata": {
    "ExecuteTime": {
     "end_time": "2021-12-05T06:18:25.198542Z",
     "start_time": "2021-12-05T06:18:25.176751Z"
    }
   },
   "outputs": [
    {
     "data": {
      "text/plain": [
       "dict_keys(['universityatbuffalothestateuniversityofnewyork', 'sunydownstatemedicalcenter', 'lsuhealthsciencescenterneworleans', 'texasamhealthsciencecenter', 'stateuniversityofnewyorkupstatemedicaluniversity', 'rutgersthestateuniversityofnewjerseynewark', 'queenscollegecityuniversityofnewyork', 'huntercollege'])"
      ]
     },
     "execution_count": 68,
     "metadata": {},
     "output_type": "execute_result"
    }
   ],
   "source": [
    "hand_matched.keys()"
   ]
  },
  {
   "cell_type": "code",
   "execution_count": 69,
   "id": "fd182e3a",
   "metadata": {
    "ExecuteTime": {
     "end_time": "2021-12-05T06:18:30.503783Z",
     "start_time": "2021-12-05T06:18:25.645878Z"
    },
    "scrolled": true
   },
   "outputs": [
    {
     "data": {
      "application/vnd.jupyter.widget-view+json": {
       "model_id": "9ba5ec80212f40319bb94443db44acf3",
       "version_major": 2,
       "version_minor": 0
      },
      "text/plain": [
       "  0%|          | 0/229 [00:00<?, ?it/s]"
      ]
     },
     "metadata": {},
     "output_type": "display_data"
    }
   ],
   "source": [
    "matches = []\n",
    "for institution in tqdm(university_rankings.institution.values):\n",
    "    lower_institution = ''.join(filter( lambda x: x in '0123456789abcdefghijklmnopqrstuvwxyz', institution.lower()))\n",
    "    if lower_institution in hand_matched.keys():\n",
    "        new_name = hand_matched[lower_institution]\n",
    "        match = np.where(new_name == stripped_institution)[0]\n",
    "    else:\n",
    "        match = np.where(lower_institution == stripped_institution)[0]\n",
    "    if len(match) != 1:\n",
    "        match = np.where(lower_institution == stripped_alias)[0]\n",
    "    if len(match) != 1:\n",
    "        the_lower_institution = 'the'+lower_institution\n",
    "        match = np.where(the_lower_institution == stripped_institution)[0]\n",
    "        if len(match) != 1:\n",
    "            match = np.where(the_lower_institution == stripped_alias)[0]\n",
    "        if len(match) != 1:\n",
    "            #print(institution, lower_institution)\n",
    "            \n",
    "            the_lower_institution = lower_institution+'campus'\n",
    "            match = np.where(the_lower_institution == stripped_institution)[0]\n",
    "            if len(match) != 1:\n",
    "                match = np.where(the_lower_institution == stripped_alias)[0]\n",
    "            if len(match) != 1:\n",
    "                #print(institution, lower_institution)\n",
    "                new_name = difflib.get_close_matches(institution, stripped_institution)\n",
    "                if len(new_name) > 0:\n",
    "                    new_name = new_name[0]\n",
    "                #print('\\t', new_name)\n",
    "                match = np.where(new_name == stripped_institution)[0]\n",
    "    matches.append(match)\n",
    "matches = np.concatenate(matches)"
   ]
  },
  {
   "cell_type": "code",
   "execution_count": 71,
   "id": "81e7fa0f",
   "metadata": {
    "ExecuteTime": {
     "end_time": "2021-12-05T06:19:02.244945Z",
     "start_time": "2021-12-05T06:19:02.219964Z"
    }
   },
   "outputs": [
    {
     "data": {
      "text/plain": [
       "array([1503, 3826, 1520, 2153,  221,  907, 2049, 2159,  623,  203, 2978,\n",
       "        224, 1423, 2267, 1630,  226, 1001, 3733,  227, 2413, 2296, 3405,\n",
       "       3625,  946, 2457, 5814, 1075, 1962, 2987, 2970, 1709, 2651, 2055,\n",
       "        489, 1885,  222,  529,  686, 2845,  228, 1473,   76, 3249, 3461,\n",
       "       1429, 3397, 1100, 2790, 2295, 3057,  807,  223, 4288, 1561, 4213,\n",
       "       3402, 2553, 1083,  640, 1632, 3368, 3269,  545,  718, 2331, 3406,\n",
       "       1151, 3384, 2256,    1,  229, 2562, 2495, 1076, 2789, 2382, 1427,\n",
       "       4203, 1522, 3318, 1148, 1667,  749, 1847, 1222,  816,  639,  943,\n",
       "        225,  585, 1514, 3240, 2455, 3398, 3422,  684, 3029, 3558, 2860,\n",
       "       3560, 2791, 2916, 1282,  537, 3101, 2330, 1474, 1540,  629, 2292,\n",
       "       5700, 3415, 3698, 1286, 3113, 3103, 1937, 1018, 3481, 1472, 1333,\n",
       "       2792, 2744,  621, 1225, 3210,  176,  440, 1867,  535, 3399, 3624,\n",
       "       3026, 2328,  657, 1935, 3440,    3, 2740, 3504, 3489,  545,  113,\n",
       "        976, 3674, 1695, 2579, 1954, 5608, 2352, 3747, 3418, 2737,  951,\n",
       "       3085,  854, 1933, 1428, 1922,  815, 3734, 2347, 2090, 1773, 2792,\n",
       "       2264,   10,  125, 1848, 1908, 3458, 3270, 2557, 1801, 1034,   59,\n",
       "       2692, 1330,  678, 3065, 1779, 1343, 3422, 1340, 3404, 2350, 1000,\n",
       "       2329, 2109,  870, 3528, 2801,  345, 1384, 1953, 2294,  444, 3697,\n",
       "       1849,  641, 2056, 3210, 1850,    3, 1773, 2042, 2415,   95, 3352,\n",
       "       1633, 2522, 2458, 2546,  676, 1515,  635, 2708, 2147,   48, 2172,\n",
       "        668, 1513, 2179, 2459, 1786, 1645, 2519, 3407, 4775])"
      ]
     },
     "execution_count": 71,
     "metadata": {},
     "output_type": "execute_result"
    }
   ],
   "source": [
    "matches"
   ]
  },
  {
   "cell_type": "code",
   "execution_count": 17,
   "id": "b8b973b0",
   "metadata": {
    "ExecuteTime": {
     "end_time": "2021-12-04T04:44:16.726493Z",
     "start_time": "2021-12-04T04:44:16.697303Z"
    }
   },
   "outputs": [],
   "source": [
    "university_rankings['CSA'] = university_locs.CSA.values[matches]\n",
    "university_rankings['CITY'] = university_locs.CITY.values[matches]\n",
    "university_rankings['STATE'] = university_locs.STABBR.values[matches]\n",
    "university_rankings['LONGITUDE'] = university_locs.LONGITUD.values[matches]\n",
    "university_rankings['LATITUDE'] = university_locs.LATITUDE.values[matches]\n",
    "university_rankings['INSTNM'] = university_locs.INSTNM.values[matches]\n",
    "university_rankings['IALIAS'] = university_locs.IALIAS.values[matches]"
   ]
  },
  {
   "cell_type": "code",
   "execution_count": 18,
   "id": "b43f0485",
   "metadata": {
    "ExecuteTime": {
     "end_time": "2021-12-04T04:44:17.379609Z",
     "start_time": "2021-12-04T04:44:17.342103Z"
    }
   },
   "outputs": [
    {
     "data": {
      "text/html": [
       "<div>\n",
       "<style scoped>\n",
       "    .dataframe tbody tr th:only-of-type {\n",
       "        vertical-align: middle;\n",
       "    }\n",
       "\n",
       "    .dataframe tbody tr th {\n",
       "        vertical-align: top;\n",
       "    }\n",
       "\n",
       "    .dataframe thead th {\n",
       "        text-align: right;\n",
       "    }\n",
       "</style>\n",
       "<table border=\"1\" class=\"dataframe\">\n",
       "  <thead>\n",
       "    <tr style=\"text-align: right;\">\n",
       "      <th></th>\n",
       "      <th>world_rank</th>\n",
       "      <th>institution</th>\n",
       "      <th>country</th>\n",
       "      <th>national_rank</th>\n",
       "      <th>quality_of_education</th>\n",
       "      <th>alumni_employment</th>\n",
       "      <th>quality_of_faculty</th>\n",
       "      <th>publications</th>\n",
       "      <th>influence</th>\n",
       "      <th>citations</th>\n",
       "      <th>broad_impact</th>\n",
       "      <th>patents</th>\n",
       "      <th>score</th>\n",
       "      <th>year</th>\n",
       "      <th>CSA</th>\n",
       "      <th>CITY</th>\n",
       "      <th>STATE</th>\n",
       "      <th>LONGITUDE</th>\n",
       "      <th>LATITUDE</th>\n",
       "      <th>INSTNM</th>\n",
       "      <th>IALIAS</th>\n",
       "    </tr>\n",
       "  </thead>\n",
       "  <tbody>\n",
       "    <tr>\n",
       "      <th>1200</th>\n",
       "      <td>1</td>\n",
       "      <td>Harvard University</td>\n",
       "      <td>USA</td>\n",
       "      <td>1</td>\n",
       "      <td>1</td>\n",
       "      <td>1</td>\n",
       "      <td>1</td>\n",
       "      <td>1</td>\n",
       "      <td>1</td>\n",
       "      <td>1</td>\n",
       "      <td>1.0</td>\n",
       "      <td>3</td>\n",
       "      <td>100.00</td>\n",
       "      <td>2015</td>\n",
       "      <td>148</td>\n",
       "      <td>Cambridge</td>\n",
       "      <td>MA</td>\n",
       "      <td>-71.118313</td>\n",
       "      <td>42.374471</td>\n",
       "      <td>Harvard University</td>\n",
       "      <td></td>\n",
       "    </tr>\n",
       "    <tr>\n",
       "      <th>1201</th>\n",
       "      <td>2</td>\n",
       "      <td>Stanford University</td>\n",
       "      <td>USA</td>\n",
       "      <td>2</td>\n",
       "      <td>9</td>\n",
       "      <td>2</td>\n",
       "      <td>4</td>\n",
       "      <td>5</td>\n",
       "      <td>3</td>\n",
       "      <td>3</td>\n",
       "      <td>4.0</td>\n",
       "      <td>10</td>\n",
       "      <td>98.66</td>\n",
       "      <td>2015</td>\n",
       "      <td>488</td>\n",
       "      <td>Stanford</td>\n",
       "      <td>CA</td>\n",
       "      <td>-122.167359</td>\n",
       "      <td>37.429434</td>\n",
       "      <td>Stanford University</td>\n",
       "      <td></td>\n",
       "    </tr>\n",
       "    <tr>\n",
       "      <th>1202</th>\n",
       "      <td>3</td>\n",
       "      <td>Massachusetts Institute of Technology</td>\n",
       "      <td>USA</td>\n",
       "      <td>3</td>\n",
       "      <td>3</td>\n",
       "      <td>11</td>\n",
       "      <td>2</td>\n",
       "      <td>15</td>\n",
       "      <td>2</td>\n",
       "      <td>2</td>\n",
       "      <td>2.0</td>\n",
       "      <td>1</td>\n",
       "      <td>97.54</td>\n",
       "      <td>2015</td>\n",
       "      <td>148</td>\n",
       "      <td>Cambridge</td>\n",
       "      <td>MA</td>\n",
       "      <td>-71.093226</td>\n",
       "      <td>42.359243</td>\n",
       "      <td>Massachusetts Institute of Technology</td>\n",
       "      <td>MIT, M.I.T.</td>\n",
       "    </tr>\n",
       "  </tbody>\n",
       "</table>\n",
       "</div>"
      ],
      "text/plain": [
       "      world_rank                            institution country  \\\n",
       "1200           1                     Harvard University     USA   \n",
       "1201           2                    Stanford University     USA   \n",
       "1202           3  Massachusetts Institute of Technology     USA   \n",
       "\n",
       "      national_rank  quality_of_education  alumni_employment  \\\n",
       "1200              1                     1                  1   \n",
       "1201              2                     9                  2   \n",
       "1202              3                     3                 11   \n",
       "\n",
       "      quality_of_faculty  publications  influence  citations  broad_impact  \\\n",
       "1200                   1             1          1          1           1.0   \n",
       "1201                   4             5          3          3           4.0   \n",
       "1202                   2            15          2          2           2.0   \n",
       "\n",
       "      patents   score  year  CSA       CITY STATE   LONGITUDE   LATITUDE  \\\n",
       "1200        3  100.00  2015  148  Cambridge    MA  -71.118313  42.374471   \n",
       "1201       10   98.66  2015  488   Stanford    CA -122.167359  37.429434   \n",
       "1202        1   97.54  2015  148  Cambridge    MA  -71.093226  42.359243   \n",
       "\n",
       "                                     INSTNM       IALIAS  \n",
       "1200                     Harvard University               \n",
       "1201                    Stanford University               \n",
       "1202  Massachusetts Institute of Technology  MIT, M.I.T.  "
      ]
     },
     "execution_count": 18,
     "metadata": {},
     "output_type": "execute_result"
    }
   ],
   "source": [
    "university_rankings[:3]"
   ]
  },
  {
   "cell_type": "markdown",
   "id": "72925b5b",
   "metadata": {},
   "source": [
    "### "
   ]
  },
  {
   "cell_type": "code",
   "execution_count": 19,
   "id": "aea94204",
   "metadata": {
    "ExecuteTime": {
     "end_time": "2021-12-04T04:44:22.804900Z",
     "start_time": "2021-12-04T04:44:22.650231Z"
    }
   },
   "outputs": [
    {
     "data": {
      "text/html": [
       "<div>\n",
       "<style scoped>\n",
       "    .dataframe tbody tr th:only-of-type {\n",
       "        vertical-align: middle;\n",
       "    }\n",
       "\n",
       "    .dataframe tbody tr th {\n",
       "        vertical-align: top;\n",
       "    }\n",
       "\n",
       "    .dataframe thead th {\n",
       "        text-align: right;\n",
       "    }\n",
       "</style>\n",
       "<table border=\"1\" class=\"dataframe\">\n",
       "  <thead>\n",
       "    <tr style=\"text-align: right;\">\n",
       "      <th></th>\n",
       "      <th>CBSA Code</th>\n",
       "      <th>Metropolitan Division Code</th>\n",
       "      <th>CSA Code</th>\n",
       "      <th>CBSA Title</th>\n",
       "      <th>Metropolitan/Micropolitan Statistical Area</th>\n",
       "      <th>Metropolitan Division Title</th>\n",
       "      <th>CSA Title</th>\n",
       "      <th>County/County Equivalent</th>\n",
       "      <th>State Name</th>\n",
       "      <th>FIPS State Code</th>\n",
       "      <th>FIPS County Code</th>\n",
       "      <th>Central/Outlying County</th>\n",
       "    </tr>\n",
       "  </thead>\n",
       "  <tbody>\n",
       "    <tr>\n",
       "      <th>0</th>\n",
       "      <td>10100</td>\n",
       "      <td>NaN</td>\n",
       "      <td>NaN</td>\n",
       "      <td>Aberdeen, SD</td>\n",
       "      <td>Micropolitan Statistical Area</td>\n",
       "      <td>NaN</td>\n",
       "      <td>NaN</td>\n",
       "      <td>Brown County</td>\n",
       "      <td>South Dakota</td>\n",
       "      <td>46.0</td>\n",
       "      <td>13.0</td>\n",
       "      <td>Central</td>\n",
       "    </tr>\n",
       "    <tr>\n",
       "      <th>1</th>\n",
       "      <td>10100</td>\n",
       "      <td>NaN</td>\n",
       "      <td>NaN</td>\n",
       "      <td>Aberdeen, SD</td>\n",
       "      <td>Micropolitan Statistical Area</td>\n",
       "      <td>NaN</td>\n",
       "      <td>NaN</td>\n",
       "      <td>Edmunds County</td>\n",
       "      <td>South Dakota</td>\n",
       "      <td>46.0</td>\n",
       "      <td>45.0</td>\n",
       "      <td>Outlying</td>\n",
       "    </tr>\n",
       "    <tr>\n",
       "      <th>2</th>\n",
       "      <td>10140</td>\n",
       "      <td>NaN</td>\n",
       "      <td>NaN</td>\n",
       "      <td>Aberdeen, WA</td>\n",
       "      <td>Micropolitan Statistical Area</td>\n",
       "      <td>NaN</td>\n",
       "      <td>NaN</td>\n",
       "      <td>Grays Harbor County</td>\n",
       "      <td>Washington</td>\n",
       "      <td>53.0</td>\n",
       "      <td>27.0</td>\n",
       "      <td>Central</td>\n",
       "    </tr>\n",
       "  </tbody>\n",
       "</table>\n",
       "</div>"
      ],
      "text/plain": [
       "  CBSA Code  Metropolitan Division Code  CSA Code    CBSA Title  \\\n",
       "0     10100                         NaN       NaN  Aberdeen, SD   \n",
       "1     10100                         NaN       NaN  Aberdeen, SD   \n",
       "2     10140                         NaN       NaN  Aberdeen, WA   \n",
       "\n",
       "  Metropolitan/Micropolitan Statistical Area Metropolitan Division Title  \\\n",
       "0              Micropolitan Statistical Area                         NaN   \n",
       "1              Micropolitan Statistical Area                         NaN   \n",
       "2              Micropolitan Statistical Area                         NaN   \n",
       "\n",
       "  CSA Title County/County Equivalent    State Name  FIPS State Code  \\\n",
       "0       NaN             Brown County  South Dakota             46.0   \n",
       "1       NaN           Edmunds County  South Dakota             46.0   \n",
       "2       NaN      Grays Harbor County    Washington             53.0   \n",
       "\n",
       "   FIPS County Code Central/Outlying County  \n",
       "0              13.0                 Central  \n",
       "1              45.0                Outlying  \n",
       "2              27.0                 Central  "
      ]
     },
     "execution_count": 19,
     "metadata": {},
     "output_type": "execute_result"
    }
   ],
   "source": [
    "stat_area_df = pd.read_excel(DATA_DIR / \"statistical_areas\" / \"statistical_areas.xlsx\", skiprows=2)\n",
    "stat_area_df[:3]"
   ]
  },
  {
   "cell_type": "code",
   "execution_count": 20,
   "id": "ab1d5895",
   "metadata": {
    "ExecuteTime": {
     "end_time": "2021-12-04T04:44:24.164240Z",
     "start_time": "2021-12-04T04:44:24.028679Z"
    }
   },
   "outputs": [
    {
     "data": {
      "text/html": [
       "<div>\n",
       "<style scoped>\n",
       "    .dataframe tbody tr th:only-of-type {\n",
       "        vertical-align: middle;\n",
       "    }\n",
       "\n",
       "    .dataframe tbody tr th {\n",
       "        vertical-align: top;\n",
       "    }\n",
       "\n",
       "    .dataframe thead th {\n",
       "        text-align: right;\n",
       "    }\n",
       "</style>\n",
       "<table border=\"1\" class=\"dataframe\">\n",
       "  <thead>\n",
       "    <tr style=\"text-align: right;\">\n",
       "      <th></th>\n",
       "      <th>CBSA Code</th>\n",
       "      <th>CBSA Title</th>\n",
       "      <th>Metropolitan/Micropolitan Statistical Area</th>\n",
       "      <th>Principal City Name</th>\n",
       "      <th>FIPS State Code</th>\n",
       "      <th>FIPS Place Code</th>\n",
       "    </tr>\n",
       "  </thead>\n",
       "  <tbody>\n",
       "    <tr>\n",
       "      <th>0</th>\n",
       "      <td>10100</td>\n",
       "      <td>Aberdeen, SD</td>\n",
       "      <td>Micropolitan Statistical Area</td>\n",
       "      <td>Aberdeen</td>\n",
       "      <td>46.0</td>\n",
       "      <td>100.0</td>\n",
       "    </tr>\n",
       "    <tr>\n",
       "      <th>1</th>\n",
       "      <td>10140</td>\n",
       "      <td>Aberdeen, WA</td>\n",
       "      <td>Micropolitan Statistical Area</td>\n",
       "      <td>Aberdeen</td>\n",
       "      <td>53.0</td>\n",
       "      <td>100.0</td>\n",
       "    </tr>\n",
       "    <tr>\n",
       "      <th>2</th>\n",
       "      <td>10180</td>\n",
       "      <td>Abilene, TX</td>\n",
       "      <td>Metropolitan Statistical Area</td>\n",
       "      <td>Abilene</td>\n",
       "      <td>48.0</td>\n",
       "      <td>1000.0</td>\n",
       "    </tr>\n",
       "  </tbody>\n",
       "</table>\n",
       "</div>"
      ],
      "text/plain": [
       "  CBSA Code    CBSA Title Metropolitan/Micropolitan Statistical Area  \\\n",
       "0     10100  Aberdeen, SD              Micropolitan Statistical Area   \n",
       "1     10140  Aberdeen, WA              Micropolitan Statistical Area   \n",
       "2     10180   Abilene, TX              Metropolitan Statistical Area   \n",
       "\n",
       "  Principal City Name  FIPS State Code  FIPS Place Code  \n",
       "0            Aberdeen             46.0            100.0  \n",
       "1            Aberdeen             53.0            100.0  \n",
       "2             Abilene             48.0           1000.0  "
      ]
     },
     "execution_count": 20,
     "metadata": {},
     "output_type": "execute_result"
    }
   ],
   "source": [
    "stat_area_df2 = pd.read_excel(DATA_DIR / \"statistical_areas\" / \"statistical_areas2.xlsx\", skiprows=2)\n",
    "stat_area_df2[:3]"
   ]
  },
  {
   "cell_type": "code",
   "execution_count": 21,
   "id": "ba9b1c41",
   "metadata": {
    "ExecuteTime": {
     "end_time": "2021-12-04T04:44:24.575534Z",
     "start_time": "2021-12-04T04:44:24.555170Z"
    }
   },
   "outputs": [],
   "source": [
    "states = [i.split(', ')[1].split('-') if type(i) == str else np.nan for i in stat_area_df2['CBSA Title'].values]"
   ]
  },
  {
   "cell_type": "code",
   "execution_count": 22,
   "id": "701bc3ed",
   "metadata": {
    "ExecuteTime": {
     "end_time": "2021-12-04T04:44:24.942166Z",
     "start_time": "2021-12-04T04:44:24.921192Z"
    }
   },
   "outputs": [],
   "source": [
    "manual_match = {\n",
    "    \"University of California, San Diego\": \"San Diego-Chula Vista-Carlsbad, CA\",\n",
    "    \"Dartmouth College\": np.nan, # not in a statistical area\n",
    "    \"University of Massachusetts Amherst\": \"Springfield, MA\",\n",
    "    \"University of Hawaii at Manoa\": \"Urban Honolulu, HI\",\n",
    "    \"University of Mississippi - Oxford Campus\": np.nan,\n",
    "    \"University of Arkansas - Fayetteville\": \"Fayetteville-Springdale-Rogers, AR\",\n",
    "    \"Mississippi State University\": np.nan,\n",
    "    \"Binghamton University\": \"Binghamton, NY\",\n",
    "    \"University of Maine, Orono\": np.nan,\n",
    "    \"University of Mississippi Medical Center\": \"Jackson-Vicksburg-Brookhaven, MS\",\n",
    "    \"Clarkson University\": np.nan\n",
    "}"
   ]
  },
  {
   "cell_type": "code",
   "execution_count": 47,
   "id": "53c6042c",
   "metadata": {
    "ExecuteTime": {
     "end_time": "2021-12-04T07:39:35.933555Z",
     "start_time": "2021-12-04T07:39:32.375537Z"
    }
   },
   "outputs": [
    {
     "data": {
      "application/vnd.jupyter.widget-view+json": {
       "model_id": "37bba28b830a4756901f407cae74e2a2",
       "version_major": 2,
       "version_minor": 0
      },
      "text/plain": [
       "  0%|          | 0/229 [00:00<?, ?it/s]"
      ]
     },
     "metadata": {},
     "output_type": "display_data"
    }
   ],
   "source": [
    "stat_areas = []\n",
    "for idx, row in tqdm(university_rankings.iterrows(), total=len(university_rankings)):\n",
    "    if row.institution in manual_match.keys():\n",
    "        #print(row.institution)\n",
    "        stat_areas.append(manual_match[row.institution])\n",
    "        continue\n",
    "        \n",
    "    \n",
    "    state_mask = np.array([row.STATE in i if type(i) == list else False for i in states])\n",
    "    stat_stat_areas = stat_area_df2[state_mask]\n",
    "    matches = row.CITY == stat_stat_areas[\"Principal City Name\"].values\n",
    "    if np.sum(matches) == 1:\n",
    "        stat_areas.append(stat_stat_areas[\"CBSA Title\"].values[np.where(matches)[0][0]])\n",
    "        \n",
    "    else:\n",
    "        # try matching by CSA\n",
    "        CSA_match = np.where((stat_area_df['CSA Code'].values == row.CSA))[0]\n",
    "        if len(CSA_match) > 0:\n",
    "            stat_areas.append(stat_area_df.iloc[CSA_match[0]][\"CSA Title\"])\n",
    "            #if row.institution == \"Stanford University\":\n",
    "            #    breakme\n",
    "        else:\n",
    "            print(row.institution)#, '\\n\\t', row.STATE, row.CITY)"
   ]
  },
  {
   "cell_type": "code",
   "execution_count": 48,
   "id": "450cd5b7",
   "metadata": {
    "ExecuteTime": {
     "end_time": "2021-12-04T07:39:45.802555Z",
     "start_time": "2021-12-04T07:39:45.777019Z"
    }
   },
   "outputs": [],
   "source": [
    "university_rankings['CBSA'] = stat_areas"
   ]
  },
  {
   "cell_type": "code",
   "execution_count": 49,
   "id": "0a2e11be",
   "metadata": {
    "ExecuteTime": {
     "end_time": "2021-12-04T07:39:47.052771Z",
     "start_time": "2021-12-04T07:39:47.016613Z"
    }
   },
   "outputs": [
    {
     "data": {
      "text/html": [
       "<div>\n",
       "<style scoped>\n",
       "    .dataframe tbody tr th:only-of-type {\n",
       "        vertical-align: middle;\n",
       "    }\n",
       "\n",
       "    .dataframe tbody tr th {\n",
       "        vertical-align: top;\n",
       "    }\n",
       "\n",
       "    .dataframe thead th {\n",
       "        text-align: right;\n",
       "    }\n",
       "</style>\n",
       "<table border=\"1\" class=\"dataframe\">\n",
       "  <thead>\n",
       "    <tr style=\"text-align: right;\">\n",
       "      <th></th>\n",
       "      <th>world_rank</th>\n",
       "      <th>institution</th>\n",
       "      <th>country</th>\n",
       "      <th>national_rank</th>\n",
       "      <th>quality_of_education</th>\n",
       "      <th>alumni_employment</th>\n",
       "      <th>quality_of_faculty</th>\n",
       "      <th>publications</th>\n",
       "      <th>influence</th>\n",
       "      <th>citations</th>\n",
       "      <th>broad_impact</th>\n",
       "      <th>patents</th>\n",
       "      <th>score</th>\n",
       "      <th>year</th>\n",
       "      <th>CSA</th>\n",
       "      <th>CITY</th>\n",
       "      <th>STATE</th>\n",
       "      <th>LONGITUDE</th>\n",
       "      <th>LATITUDE</th>\n",
       "      <th>INSTNM</th>\n",
       "      <th>IALIAS</th>\n",
       "      <th>CBSA</th>\n",
       "    </tr>\n",
       "  </thead>\n",
       "  <tbody>\n",
       "    <tr>\n",
       "      <th>1200</th>\n",
       "      <td>1</td>\n",
       "      <td>Harvard University</td>\n",
       "      <td>USA</td>\n",
       "      <td>1</td>\n",
       "      <td>1</td>\n",
       "      <td>1</td>\n",
       "      <td>1</td>\n",
       "      <td>1</td>\n",
       "      <td>1</td>\n",
       "      <td>1</td>\n",
       "      <td>1.0</td>\n",
       "      <td>3</td>\n",
       "      <td>100.00</td>\n",
       "      <td>2015</td>\n",
       "      <td>148</td>\n",
       "      <td>Cambridge</td>\n",
       "      <td>MA</td>\n",
       "      <td>-71.118313</td>\n",
       "      <td>42.374471</td>\n",
       "      <td>Harvard University</td>\n",
       "      <td></td>\n",
       "      <td>Boston-Cambridge-Newton, MA-NH</td>\n",
       "    </tr>\n",
       "    <tr>\n",
       "      <th>1201</th>\n",
       "      <td>2</td>\n",
       "      <td>Stanford University</td>\n",
       "      <td>USA</td>\n",
       "      <td>2</td>\n",
       "      <td>9</td>\n",
       "      <td>2</td>\n",
       "      <td>4</td>\n",
       "      <td>5</td>\n",
       "      <td>3</td>\n",
       "      <td>3</td>\n",
       "      <td>4.0</td>\n",
       "      <td>10</td>\n",
       "      <td>98.66</td>\n",
       "      <td>2015</td>\n",
       "      <td>488</td>\n",
       "      <td>Stanford</td>\n",
       "      <td>CA</td>\n",
       "      <td>-122.167359</td>\n",
       "      <td>37.429434</td>\n",
       "      <td>Stanford University</td>\n",
       "      <td></td>\n",
       "      <td>San Jose-San Francisco-Oakland, CA</td>\n",
       "    </tr>\n",
       "    <tr>\n",
       "      <th>1202</th>\n",
       "      <td>3</td>\n",
       "      <td>Massachusetts Institute of Technology</td>\n",
       "      <td>USA</td>\n",
       "      <td>3</td>\n",
       "      <td>3</td>\n",
       "      <td>11</td>\n",
       "      <td>2</td>\n",
       "      <td>15</td>\n",
       "      <td>2</td>\n",
       "      <td>2</td>\n",
       "      <td>2.0</td>\n",
       "      <td>1</td>\n",
       "      <td>97.54</td>\n",
       "      <td>2015</td>\n",
       "      <td>148</td>\n",
       "      <td>Cambridge</td>\n",
       "      <td>MA</td>\n",
       "      <td>-71.093226</td>\n",
       "      <td>42.359243</td>\n",
       "      <td>Massachusetts Institute of Technology</td>\n",
       "      <td>MIT, M.I.T.</td>\n",
       "      <td>Boston-Cambridge-Newton, MA-NH</td>\n",
       "    </tr>\n",
       "  </tbody>\n",
       "</table>\n",
       "</div>"
      ],
      "text/plain": [
       "      world_rank                            institution country  \\\n",
       "1200           1                     Harvard University     USA   \n",
       "1201           2                    Stanford University     USA   \n",
       "1202           3  Massachusetts Institute of Technology     USA   \n",
       "\n",
       "      national_rank  quality_of_education  alumni_employment  \\\n",
       "1200              1                     1                  1   \n",
       "1201              2                     9                  2   \n",
       "1202              3                     3                 11   \n",
       "\n",
       "      quality_of_faculty  publications  influence  citations  broad_impact  \\\n",
       "1200                   1             1          1          1           1.0   \n",
       "1201                   4             5          3          3           4.0   \n",
       "1202                   2            15          2          2           2.0   \n",
       "\n",
       "      patents   score  year  CSA       CITY STATE   LONGITUDE   LATITUDE  \\\n",
       "1200        3  100.00  2015  148  Cambridge    MA  -71.118313  42.374471   \n",
       "1201       10   98.66  2015  488   Stanford    CA -122.167359  37.429434   \n",
       "1202        1   97.54  2015  148  Cambridge    MA  -71.093226  42.359243   \n",
       "\n",
       "                                     INSTNM       IALIAS  \\\n",
       "1200                     Harvard University                \n",
       "1201                    Stanford University                \n",
       "1202  Massachusetts Institute of Technology  MIT, M.I.T.   \n",
       "\n",
       "                                    CBSA  \n",
       "1200      Boston-Cambridge-Newton, MA-NH  \n",
       "1201  San Jose-San Francisco-Oakland, CA  \n",
       "1202      Boston-Cambridge-Newton, MA-NH  "
      ]
     },
     "execution_count": 49,
     "metadata": {},
     "output_type": "execute_result"
    }
   ],
   "source": [
    "university_rankings[:3]"
   ]
  },
  {
   "cell_type": "code",
   "execution_count": 50,
   "id": "d9cf67b0",
   "metadata": {
    "ExecuteTime": {
     "end_time": "2021-12-04T07:39:52.511722Z",
     "start_time": "2021-12-04T07:39:52.488453Z"
    }
   },
   "outputs": [],
   "source": [
    "university_rankings.to_pickle(DATA_DIR/ 'university_ranking_statistical_area.pickle')"
   ]
  },
  {
   "cell_type": "code",
   "execution_count": 51,
   "id": "27d973bd",
   "metadata": {
    "ExecuteTime": {
     "end_time": "2021-12-04T07:39:52.912470Z",
     "start_time": "2021-12-04T07:39:52.892489Z"
    }
   },
   "outputs": [
    {
     "data": {
      "text/plain": [
       "229"
      ]
     },
     "execution_count": 51,
     "metadata": {},
     "output_type": "execute_result"
    }
   ],
   "source": [
    "len(university_rankings)"
   ]
  },
  {
   "cell_type": "code",
   "execution_count": 52,
   "id": "c1747163",
   "metadata": {
    "ExecuteTime": {
     "end_time": "2021-12-04T07:39:53.726176Z",
     "start_time": "2021-12-04T07:39:53.332354Z"
    }
   },
   "outputs": [
    {
     "data": {
      "image/png": "[encoded data removed]",
      "text/plain": [
       "<Figure size 432x288 with 1 Axes>"
      ]
     },
     "metadata": {
      "needs_background": "light"
     },
     "output_type": "display_data"
    }
   ],
   "source": [
    "plt.hist(np.log(university_rankings.score.values), bins=100);"
   ]
  },
  {
   "cell_type": "code",
   "execution_count": null,
   "id": "e0bd1563",
   "metadata": {},
   "outputs": [],
   "source": []
  }
 ],
 "metadata": {
  "kernelspec": {
   "display_name": "postdoc",
   "language": "python",
   "name": "postdoc"
  },
  "language_info": {
   "codemirror_mode": {
    "name": "ipython",
    "version": 3
   },
   "file_extension": ".py",
   "mimetype": "text/x-python",
   "name": "python",
   "nbconvert_exporter": "python",
   "pygments_lexer": "ipython3",
   "version": "3.8.12"
  }
 },
 "nbformat": 4,
 "nbformat_minor": 5
}
