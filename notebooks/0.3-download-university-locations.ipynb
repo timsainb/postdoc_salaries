{
 "cells": [
  {
   "cell_type": "code",
   "execution_count": 36,
   "id": "2a9525dc",
   "metadata": {
    "ExecuteTime": {
     "end_time": "2021-12-05T06:52:39.736566Z",
     "start_time": "2021-12-05T06:52:39.712503Z"
    }
   },
   "outputs": [
    {
     "name": "stdout",
     "output_type": "stream",
     "text": [
      "The autoreload extension is already loaded. To reload it, use:\n",
      "  %reload_ext autoreload\n"
     ]
    }
   ],
   "source": [
    "%load_ext autoreload\n",
    "%autoreload 2"
   ]
  },
  {
   "cell_type": "code",
   "execution_count": 49,
   "id": "323c40c4",
   "metadata": {
    "ExecuteTime": {
     "end_time": "2021-12-05T06:54:12.750673Z",
     "start_time": "2021-12-05T06:54:12.723049Z"
    }
   },
   "outputs": [],
   "source": [
    "import numpy as np\n",
    "import pandas as pd\n",
    "import matplotlib.pyplot as plt\n",
    "%matplotlib inline\n",
    "from tqdm.autonotebook import tqdm\n",
    "from postdocsalary.paths import DATA_DIR, ensure_dir\n",
    "import urllib.request\n",
    "pd.set_option('display.max_columns', None)\n"
   ]
  },
  {
   "cell_type": "code",
   "execution_count": 38,
   "id": "e398f5e9",
   "metadata": {
    "ExecuteTime": {
     "end_time": "2021-12-05T06:52:40.251293Z",
     "start_time": "2021-12-05T06:52:40.234093Z"
    }
   },
   "outputs": [],
   "source": [
    "years = np.arange(2015, 2019)"
   ]
  },
  {
   "cell_type": "code",
   "execution_count": 39,
   "id": "7f27b945",
   "metadata": {
    "ExecuteTime": {
     "end_time": "2021-12-05T06:52:40.270986Z",
     "start_time": "2021-12-05T06:52:40.253466Z"
    }
   },
   "outputs": [],
   "source": [
    "url = \"https://nces.ed.gov/ipeds/datacenter/data/HD2020.zip\""
   ]
  },
  {
   "cell_type": "code",
   "execution_count": 40,
   "id": "7e435163",
   "metadata": {
    "ExecuteTime": {
     "end_time": "2021-12-05T06:52:40.289653Z",
     "start_time": "2021-12-05T06:52:40.275364Z"
    }
   },
   "outputs": [],
   "source": [
    "ensure_dir(DATA_DIR/\"university_locations\")"
   ]
  },
  {
   "cell_type": "code",
   "execution_count": 41,
   "id": "add36e6d",
   "metadata": {
    "ExecuteTime": {
     "end_time": "2021-12-05T06:52:40.578252Z",
     "start_time": "2021-12-05T06:52:40.561601Z"
    }
   },
   "outputs": [],
   "source": [
    "zip_loc = DATA_DIR / \"university_locations\" / \"university_locations.zip\""
   ]
  },
  {
   "cell_type": "code",
   "execution_count": 42,
   "id": "953a1a31",
   "metadata": {
    "ExecuteTime": {
     "end_time": "2021-12-05T06:52:43.476201Z",
     "start_time": "2021-12-05T06:52:40.673479Z"
    }
   },
   "outputs": [
    {
     "data": {
      "text/plain": [
       "(PosixPath('/mnt/cube/tsainbur/Projects/github_repos/postdoc-salary/data/university_locations/university_locations.zip'),\n",
       " <http.client.HTTPMessage at 0x7f5795fa6760>)"
      ]
     },
     "execution_count": 42,
     "metadata": {},
     "output_type": "execute_result"
    }
   ],
   "source": [
    "urllib.request.urlretrieve(url, zip_loc)"
   ]
  },
  {
   "cell_type": "code",
   "execution_count": 43,
   "id": "f6cab673",
   "metadata": {
    "ExecuteTime": {
     "end_time": "2021-12-05T06:52:43.590647Z",
     "start_time": "2021-12-05T06:52:43.479386Z"
    }
   },
   "outputs": [],
   "source": [
    "import shutil\n",
    "shutil.unpack_archive(zip_loc,  DATA_DIR / \"university_locations\")"
   ]
  },
  {
   "cell_type": "code",
   "execution_count": 44,
   "id": "88a8cbea",
   "metadata": {
    "ExecuteTime": {
     "end_time": "2021-12-05T06:52:43.609800Z",
     "start_time": "2021-12-05T06:52:43.593272Z"
    }
   },
   "outputs": [],
   "source": [
    "csv_loc = DATA_DIR / \"university_locations\" / 'university_locs.csv'"
   ]
  },
  {
   "cell_type": "code",
   "execution_count": 45,
   "id": "11d1abc2",
   "metadata": {
    "ExecuteTime": {
     "end_time": "2021-12-05T06:52:43.749278Z",
     "start_time": "2021-12-05T06:52:43.611762Z"
    }
   },
   "outputs": [],
   "source": [
    "university_locs = pd.read_csv(csv_loc)"
   ]
  },
  {
   "cell_type": "code",
   "execution_count": 46,
   "id": "81a2fbad",
   "metadata": {
    "ExecuteTime": {
     "end_time": "2021-12-05T06:52:43.795332Z",
     "start_time": "2021-12-05T06:52:43.751855Z"
    }
   },
   "outputs": [
    {
     "data": {
      "text/html": [
       "<div>\n",
       "<style scoped>\n",
       "    .dataframe tbody tr th:only-of-type {\n",
       "        vertical-align: middle;\n",
       "    }\n",
       "\n",
       "    .dataframe tbody tr th {\n",
       "        vertical-align: top;\n",
       "    }\n",
       "\n",
       "    .dataframe thead th {\n",
       "        text-align: right;\n",
       "    }\n",
       "</style>\n",
       "<table border=\"1\" class=\"dataframe\">\n",
       "  <thead>\n",
       "    <tr style=\"text-align: right;\">\n",
       "      <th></th>\n",
       "      <th>UNITID</th>\n",
       "      <th>INSTNM</th>\n",
       "      <th>IALIAS</th>\n",
       "      <th>ADDR</th>\n",
       "      <th>CITY</th>\n",
       "      <th>STABBR</th>\n",
       "      <th>ZIP</th>\n",
       "      <th>FIPS</th>\n",
       "      <th>OBEREG</th>\n",
       "      <th>CHFNM</th>\n",
       "      <th>...</th>\n",
       "      <th>CBSATYPE</th>\n",
       "      <th>CSA</th>\n",
       "      <th>NECTA</th>\n",
       "      <th>COUNTYCD</th>\n",
       "      <th>COUNTYNM</th>\n",
       "      <th>CNGDSTCD</th>\n",
       "      <th>LONGITUD</th>\n",
       "      <th>LATITUDE</th>\n",
       "      <th>DFRCGID</th>\n",
       "      <th>DFRCUSCG</th>\n",
       "    </tr>\n",
       "  </thead>\n",
       "  <tbody>\n",
       "    <tr>\n",
       "      <th>0</th>\n",
       "      <td>100654</td>\n",
       "      <td>Alabama A &amp; M University</td>\n",
       "      <td>AAMU</td>\n",
       "      <td>4900 Meridian Street</td>\n",
       "      <td>Normal</td>\n",
       "      <td>AL</td>\n",
       "      <td>35762</td>\n",
       "      <td>1</td>\n",
       "      <td>5</td>\n",
       "      <td>Dr. Andrew Hugine, Jr.</td>\n",
       "      <td>...</td>\n",
       "      <td>1</td>\n",
       "      <td>290</td>\n",
       "      <td>-2</td>\n",
       "      <td>1089</td>\n",
       "      <td>Madison County</td>\n",
       "      <td>105</td>\n",
       "      <td>-86.568502</td>\n",
       "      <td>34.783368</td>\n",
       "      <td>109</td>\n",
       "      <td>1</td>\n",
       "    </tr>\n",
       "    <tr>\n",
       "      <th>1</th>\n",
       "      <td>100663</td>\n",
       "      <td>University of Alabama at Birmingham</td>\n",
       "      <td></td>\n",
       "      <td>Administration Bldg Suite 1070</td>\n",
       "      <td>Birmingham</td>\n",
       "      <td>AL</td>\n",
       "      <td>35294-0110</td>\n",
       "      <td>1</td>\n",
       "      <td>5</td>\n",
       "      <td>Ray L. Watts</td>\n",
       "      <td>...</td>\n",
       "      <td>1</td>\n",
       "      <td>142</td>\n",
       "      <td>-2</td>\n",
       "      <td>1073</td>\n",
       "      <td>Jefferson County</td>\n",
       "      <td>107</td>\n",
       "      <td>-86.799345</td>\n",
       "      <td>33.505697</td>\n",
       "      <td>95</td>\n",
       "      <td>1</td>\n",
       "    </tr>\n",
       "    <tr>\n",
       "      <th>2</th>\n",
       "      <td>100690</td>\n",
       "      <td>Amridge University</td>\n",
       "      <td>Southern Christian University  Regions University</td>\n",
       "      <td>1200 Taylor Rd</td>\n",
       "      <td>Montgomery</td>\n",
       "      <td>AL</td>\n",
       "      <td>36117-3553</td>\n",
       "      <td>1</td>\n",
       "      <td>5</td>\n",
       "      <td>Michael C.Turner</td>\n",
       "      <td>...</td>\n",
       "      <td>1</td>\n",
       "      <td>388</td>\n",
       "      <td>-2</td>\n",
       "      <td>1101</td>\n",
       "      <td>Montgomery County</td>\n",
       "      <td>102</td>\n",
       "      <td>-86.174010</td>\n",
       "      <td>32.362609</td>\n",
       "      <td>126</td>\n",
       "      <td>2</td>\n",
       "    </tr>\n",
       "  </tbody>\n",
       "</table>\n",
       "<p>3 rows × 73 columns</p>\n",
       "</div>"
      ],
      "text/plain": [
       "   UNITID                               INSTNM  \\\n",
       "0  100654             Alabama A & M University   \n",
       "1  100663  University of Alabama at Birmingham   \n",
       "2  100690                   Amridge University   \n",
       "\n",
       "                                              IALIAS  \\\n",
       "0                                               AAMU   \n",
       "1                                                      \n",
       "2  Southern Christian University  Regions University   \n",
       "\n",
       "                             ADDR        CITY STABBR         ZIP  FIPS  \\\n",
       "0            4900 Meridian Street      Normal     AL       35762     1   \n",
       "1  Administration Bldg Suite 1070  Birmingham     AL  35294-0110     1   \n",
       "2                  1200 Taylor Rd  Montgomery     AL  36117-3553     1   \n",
       "\n",
       "   OBEREG                   CHFNM  ... CBSATYPE  CSA  NECTA COUNTYCD  \\\n",
       "0       5  Dr. Andrew Hugine, Jr.  ...        1  290     -2     1089   \n",
       "1       5            Ray L. Watts  ...        1  142     -2     1073   \n",
       "2       5        Michael C.Turner  ...        1  388     -2     1101   \n",
       "\n",
       "            COUNTYNM  CNGDSTCD   LONGITUD   LATITUDE DFRCGID DFRCUSCG  \n",
       "0     Madison County       105 -86.568502  34.783368     109        1  \n",
       "1   Jefferson County       107 -86.799345  33.505697      95        1  \n",
       "2  Montgomery County       102 -86.174010  32.362609     126        2  \n",
       "\n",
       "[3 rows x 73 columns]"
      ]
     },
     "execution_count": 46,
     "metadata": {},
     "output_type": "execute_result"
    }
   ],
   "source": [
    "university_locs[:3]"
   ]
  },
  {
   "cell_type": "code",
   "execution_count": 142,
   "id": "8fbe3d66",
   "metadata": {
    "ExecuteTime": {
     "end_time": "2021-12-05T08:24:06.680940Z",
     "start_time": "2021-12-05T08:24:06.616422Z"
    },
    "scrolled": false
   },
   "outputs": [
    {
     "data": {
      "text/html": [
       "<div>\n",
       "<style scoped>\n",
       "    .dataframe tbody tr th:only-of-type {\n",
       "        vertical-align: middle;\n",
       "    }\n",
       "\n",
       "    .dataframe tbody tr th {\n",
       "        vertical-align: top;\n",
       "    }\n",
       "\n",
       "    .dataframe thead th {\n",
       "        text-align: right;\n",
       "    }\n",
       "</style>\n",
       "<table border=\"1\" class=\"dataframe\">\n",
       "  <thead>\n",
       "    <tr style=\"text-align: right;\">\n",
       "      <th></th>\n",
       "      <th>UNITID</th>\n",
       "      <th>INSTNM</th>\n",
       "      <th>IALIAS</th>\n",
       "      <th>ADDR</th>\n",
       "      <th>CITY</th>\n",
       "      <th>STABBR</th>\n",
       "      <th>ZIP</th>\n",
       "      <th>FIPS</th>\n",
       "      <th>OBEREG</th>\n",
       "      <th>CHFNM</th>\n",
       "      <th>CHFTITLE</th>\n",
       "      <th>GENTELE</th>\n",
       "      <th>EIN</th>\n",
       "      <th>DUNS</th>\n",
       "      <th>OPEID</th>\n",
       "      <th>OPEFLAG</th>\n",
       "      <th>WEBADDR</th>\n",
       "      <th>ADMINURL</th>\n",
       "      <th>FAIDURL</th>\n",
       "      <th>APPLURL</th>\n",
       "      <th>NPRICURL</th>\n",
       "      <th>VETURL</th>\n",
       "      <th>ATHURL</th>\n",
       "      <th>DISAURL</th>\n",
       "      <th>SECTOR</th>\n",
       "      <th>ICLEVEL</th>\n",
       "      <th>CONTROL</th>\n",
       "      <th>HLOFFER</th>\n",
       "      <th>UGOFFER</th>\n",
       "      <th>GROFFER</th>\n",
       "      <th>HDEGOFR1</th>\n",
       "      <th>DEGGRANT</th>\n",
       "      <th>HBCU</th>\n",
       "      <th>HOSPITAL</th>\n",
       "      <th>MEDICAL</th>\n",
       "      <th>TRIBAL</th>\n",
       "      <th>LOCALE</th>\n",
       "      <th>OPENPUBL</th>\n",
       "      <th>ACT</th>\n",
       "      <th>NEWID</th>\n",
       "      <th>DEATHYR</th>\n",
       "      <th>CLOSEDAT</th>\n",
       "      <th>CYACTIVE</th>\n",
       "      <th>POSTSEC</th>\n",
       "      <th>PSEFLAG</th>\n",
       "      <th>PSET4FLG</th>\n",
       "      <th>RPTMTH</th>\n",
       "      <th>INSTCAT</th>\n",
       "      <th>C18BASIC</th>\n",
       "      <th>C18IPUG</th>\n",
       "      <th>C18IPGRD</th>\n",
       "      <th>C18UGPRF</th>\n",
       "      <th>C18ENPRF</th>\n",
       "      <th>C18SZSET</th>\n",
       "      <th>C15BASIC</th>\n",
       "      <th>CCBASIC</th>\n",
       "      <th>CARNEGIE</th>\n",
       "      <th>LANDGRNT</th>\n",
       "      <th>INSTSIZE</th>\n",
       "      <th>F1SYSTYP</th>\n",
       "      <th>F1SYSNAM</th>\n",
       "      <th>F1SYSCOD</th>\n",
       "      <th>CBSA</th>\n",
       "      <th>CBSATYPE</th>\n",
       "      <th>CSA</th>\n",
       "      <th>NECTA</th>\n",
       "      <th>COUNTYCD</th>\n",
       "      <th>COUNTYNM</th>\n",
       "      <th>CNGDSTCD</th>\n",
       "      <th>LONGITUD</th>\n",
       "      <th>LATITUDE</th>\n",
       "      <th>DFRCGID</th>\n",
       "      <th>DFRCUSCG</th>\n",
       "    </tr>\n",
       "  </thead>\n",
       "  <tbody>\n",
       "    <tr>\n",
       "      <th>3115</th>\n",
       "      <td>218681</td>\n",
       "      <td>University of South Carolina-Salkehatchie</td>\n",
       "      <td></td>\n",
       "      <td>465 James Brandt Blvd</td>\n",
       "      <td>Allendale</td>\n",
       "      <td>SC</td>\n",
       "      <td>29810-0617</td>\n",
       "      <td>45</td>\n",
       "      <td>5</td>\n",
       "      <td>Chris Nesmith</td>\n",
       "      <td>Dean</td>\n",
       "      <td>8009225500</td>\n",
       "      <td>576001153</td>\n",
       "      <td>098400435</td>\n",
       "      <td>345400</td>\n",
       "      <td>1</td>\n",
       "      <td>uscsalkehatchie.sc.edu/</td>\n",
       "      <td>www.sc.edu/about/system_and_campuses/salkehatc...</td>\n",
       "      <td>sc.edu/about/system_and_campuses/salkehatchie/...</td>\n",
       "      <td>www.sc.edu/about/system_and_campuses/salkehatc...</td>\n",
       "      <td>sc.edu/pcnetprice/salkehatchie/</td>\n",
       "      <td>www.sc.edu/about/system_and_campuses/salkehatc...</td>\n",
       "      <td></td>\n",
       "      <td>www.sc.edu/about/system_and_campuses/salkehatc...</td>\n",
       "      <td>4</td>\n",
       "      <td>2</td>\n",
       "      <td>1</td>\n",
       "      <td>3</td>\n",
       "      <td>1</td>\n",
       "      <td>2</td>\n",
       "      <td>40</td>\n",
       "      <td>1</td>\n",
       "      <td>2</td>\n",
       "      <td>-2</td>\n",
       "      <td>2</td>\n",
       "      <td>2</td>\n",
       "      <td>41</td>\n",
       "      <td>1</td>\n",
       "      <td>A</td>\n",
       "      <td>-2</td>\n",
       "      <td>-2</td>\n",
       "      <td>-2</td>\n",
       "      <td>1</td>\n",
       "      <td>1</td>\n",
       "      <td>1</td>\n",
       "      <td>1</td>\n",
       "      <td>1</td>\n",
       "      <td>4</td>\n",
       "      <td>2</td>\n",
       "      <td>1</td>\n",
       "      <td>0</td>\n",
       "      <td>2</td>\n",
       "      <td>1</td>\n",
       "      <td>2</td>\n",
       "      <td>1</td>\n",
       "      <td>11</td>\n",
       "      <td>40</td>\n",
       "      <td>2</td>\n",
       "      <td>1</td>\n",
       "      <td>1</td>\n",
       "      <td>University of South Carolina</td>\n",
       "      <td>145030</td>\n",
       "      <td>-2</td>\n",
       "      <td>-2</td>\n",
       "      <td>-2</td>\n",
       "      <td>-2</td>\n",
       "      <td>45005</td>\n",
       "      <td>Allendale County</td>\n",
       "      <td>4506</td>\n",
       "      <td>-81.301838</td>\n",
       "      <td>33.014312</td>\n",
       "      <td>69</td>\n",
       "      <td>1</td>\n",
       "    </tr>\n",
       "  </tbody>\n",
       "</table>\n",
       "</div>"
      ],
      "text/plain": [
       "      UNITID                                     INSTNM IALIAS  \\\n",
       "3115  218681  University of South Carolina-Salkehatchie          \n",
       "\n",
       "                       ADDR       CITY STABBR         ZIP  FIPS  OBEREG  \\\n",
       "3115  465 James Brandt Blvd  Allendale     SC  29810-0617    45       5   \n",
       "\n",
       "              CHFNM CHFTITLE     GENTELE        EIN       DUNS   OPEID  \\\n",
       "3115  Chris Nesmith     Dean  8009225500  576001153  098400435  345400   \n",
       "\n",
       "      OPEFLAG                  WEBADDR  \\\n",
       "3115        1  uscsalkehatchie.sc.edu/   \n",
       "\n",
       "                                               ADMINURL  \\\n",
       "3115  www.sc.edu/about/system_and_campuses/salkehatc...   \n",
       "\n",
       "                                                FAIDURL  \\\n",
       "3115  sc.edu/about/system_and_campuses/salkehatchie/...   \n",
       "\n",
       "                                                APPLURL  \\\n",
       "3115  www.sc.edu/about/system_and_campuses/salkehatc...   \n",
       "\n",
       "                             NPRICURL  \\\n",
       "3115  sc.edu/pcnetprice/salkehatchie/   \n",
       "\n",
       "                                                 VETURL ATHURL  \\\n",
       "3115  www.sc.edu/about/system_and_campuses/salkehatc...          \n",
       "\n",
       "                                                DISAURL  SECTOR  ICLEVEL  \\\n",
       "3115  www.sc.edu/about/system_and_campuses/salkehatc...       4        2   \n",
       "\n",
       "      CONTROL  HLOFFER  UGOFFER  GROFFER  HDEGOFR1  DEGGRANT  HBCU  HOSPITAL  \\\n",
       "3115        1        3        1        2        40         1     2        -2   \n",
       "\n",
       "      MEDICAL  TRIBAL  LOCALE  OPENPUBL ACT  NEWID  DEATHYR CLOSEDAT  \\\n",
       "3115        2       2      41         1  A      -2       -2       -2   \n",
       "\n",
       "      CYACTIVE  POSTSEC  PSEFLAG  PSET4FLG  RPTMTH  INSTCAT  C18BASIC  \\\n",
       "3115         1        1        1         1       1        4         2   \n",
       "\n",
       "      C18IPUG  C18IPGRD  C18UGPRF  C18ENPRF  C18SZSET  C15BASIC  CCBASIC  \\\n",
       "3115        1         0         2         1         2         1       11   \n",
       "\n",
       "      CARNEGIE  LANDGRNT  INSTSIZE  F1SYSTYP                      F1SYSNAM  \\\n",
       "3115        40         2         1         1  University of South Carolina   \n",
       "\n",
       "      F1SYSCOD  CBSA  CBSATYPE  CSA  NECTA  COUNTYCD          COUNTYNM  \\\n",
       "3115    145030    -2        -2   -2     -2     45005  Allendale County   \n",
       "\n",
       "      CNGDSTCD   LONGITUD   LATITUDE  DFRCGID  DFRCUSCG  \n",
       "3115      4506 -81.301838  33.014312       69         1  "
      ]
     },
     "execution_count": 142,
     "metadata": {},
     "output_type": "execute_result"
    }
   ],
   "source": [
    "university_locs[np.array([\"Salk\" in i if type(i) == str else False for i in university_locs.INSTNM.values])]"
   ]
  },
  {
   "cell_type": "code",
   "execution_count": 137,
   "id": "2c8a0cc8",
   "metadata": {
    "ExecuteTime": {
     "end_time": "2021-12-05T08:23:08.985205Z",
     "start_time": "2021-12-05T08:23:08.956150Z"
    }
   },
   "outputs": [
    {
     "data": {
      "text/plain": [
       "array(['Louisiana State University and Agricultural & Mechanical College'],\n",
       "      dtype=object)"
      ]
     },
     "execution_count": 137,
     "metadata": {},
     "output_type": "execute_result"
    }
   ],
   "source": [
    "university_locs[np.array([\"Louisiana State University and Agricultura\" in i if type(i) == str else False for i in university_locs.INSTNM.values])].INSTNM.values"
   ]
  },
  {
   "cell_type": "code",
   "execution_count": null,
   "id": "6c4cc569",
   "metadata": {},
   "outputs": [],
   "source": []
  }
 ],
 "metadata": {
  "kernelspec": {
   "display_name": "postdoc",
   "language": "python",
   "name": "postdoc"
  },
  "language_info": {
   "codemirror_mode": {
    "name": "ipython",
    "version": 3
   },
   "file_extension": ".py",
   "mimetype": "text/x-python",
   "name": "python",
   "nbconvert_exporter": "python",
   "pygments_lexer": "ipython3",
   "version": "3.8.12"
  }
 },
 "nbformat": 4,
 "nbformat_minor": 5
}
