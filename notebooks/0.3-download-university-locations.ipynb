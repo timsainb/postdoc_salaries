{
 "cells": [
  {
   "cell_type": "code",
   "execution_count": 1,
   "id": "e67373b8",
   "metadata": {
    "ExecuteTime": {
     "end_time": "2021-12-03T17:40:11.252542Z",
     "start_time": "2021-12-03T17:40:11.231598Z"
    }
   },
   "outputs": [],
   "source": [
    "%load_ext autoreload\n",
    "%autoreload 2"
   ]
  },
  {
   "cell_type": "code",
   "execution_count": 2,
   "id": "7fc897f8",
   "metadata": {
    "ExecuteTime": {
     "end_time": "2021-12-03T17:40:12.786340Z",
     "start_time": "2021-12-03T17:40:11.402834Z"
    }
   },
   "outputs": [
    {
     "name": "stderr",
     "output_type": "stream",
     "text": [
      "<ipython-input-2-37777429a894>:5: TqdmExperimentalWarning: Using `tqdm.autonotebook.tqdm` in notebook mode. Use `tqdm.tqdm` instead to force console mode (e.g. in jupyter console)\n",
      "  from tqdm.autonotebook import tqdm\n"
     ]
    }
   ],
   "source": [
    "import numpy as np\n",
    "import pandas as pd\n",
    "import matplotlib.pyplot as plt\n",
    "%matplotlib inline\n",
    "from tqdm.autonotebook import tqdm\n",
    "from postdocsalary.paths import DATA_DIR, ensure_dir\n",
    "import urllib.request"
   ]
  },
  {
   "cell_type": "code",
   "execution_count": 3,
   "id": "de3ba5a2",
   "metadata": {
    "ExecuteTime": {
     "end_time": "2021-12-03T17:40:12.803951Z",
     "start_time": "2021-12-03T17:40:12.788368Z"
    }
   },
   "outputs": [],
   "source": [
    "years = np.arange(2015, 2019)"
   ]
  },
  {
   "cell_type": "code",
   "execution_count": 4,
   "id": "5ea4cd12",
   "metadata": {
    "ExecuteTime": {
     "end_time": "2021-12-03T17:40:12.821085Z",
     "start_time": "2021-12-03T17:40:12.805903Z"
    }
   },
   "outputs": [],
   "source": [
    "url = \"https://nces.ed.gov/ipeds/datacenter/data/HD2020.zip\""
   ]
  },
  {
   "cell_type": "code",
   "execution_count": 5,
   "id": "7444eb92",
   "metadata": {
    "ExecuteTime": {
     "end_time": "2021-12-03T17:40:12.837077Z",
     "start_time": "2021-12-03T17:40:12.822690Z"
    }
   },
   "outputs": [],
   "source": [
    "ensure_dir(DATA_DIR/\"university_locations\")"
   ]
  },
  {
   "cell_type": "code",
   "execution_count": 6,
   "id": "06b4525a",
   "metadata": {
    "ExecuteTime": {
     "end_time": "2021-12-03T17:40:12.850401Z",
     "start_time": "2021-12-03T17:40:12.838779Z"
    }
   },
   "outputs": [],
   "source": [
    "zip_loc = DATA_DIR / \"university_locations\" / \"university_locations.zip\""
   ]
  },
  {
   "cell_type": "code",
   "execution_count": 7,
   "id": "295ee7a9",
   "metadata": {
    "ExecuteTime": {
     "end_time": "2021-12-03T17:40:16.268187Z",
     "start_time": "2021-12-03T17:40:13.992596Z"
    }
   },
   "outputs": [
    {
     "data": {
      "text/plain": [
       "(PosixPath('/mnt/cube/tsainbur/Projects/github_repos/postdoc-salary/data/university_locations/university_locations.zip'),\n",
       " <http.client.HTTPMessage at 0x7f582dbb04f0>)"
      ]
     },
     "execution_count": 7,
     "metadata": {},
     "output_type": "execute_result"
    }
   ],
   "source": [
    "urllib.request.urlretrieve(url, zip_loc)"
   ]
  },
  {
   "cell_type": "code",
   "execution_count": 8,
   "id": "d0ba922d",
   "metadata": {
    "ExecuteTime": {
     "end_time": "2021-12-03T17:40:25.247374Z",
     "start_time": "2021-12-03T17:40:25.157375Z"
    }
   },
   "outputs": [],
   "source": [
    "import shutil\n",
    "shutil.unpack_archive(zip_loc,  DATA_DIR / \"university_locations\")"
   ]
  },
  {
   "cell_type": "code",
   "execution_count": 13,
   "id": "252472b5",
   "metadata": {
    "ExecuteTime": {
     "end_time": "2021-12-03T17:52:17.509258Z",
     "start_time": "2021-12-03T17:52:17.486766Z"
    }
   },
   "outputs": [],
   "source": [
    "csv_loc = DATA_DIR / \"university_locations\" / 'university_locs.csv'"
   ]
  },
  {
   "cell_type": "code",
   "execution_count": 19,
   "id": "8b7e513d",
   "metadata": {
    "ExecuteTime": {
     "end_time": "2021-12-03T17:52:45.930077Z",
     "start_time": "2021-12-03T17:52:45.798258Z"
    }
   },
   "outputs": [],
   "source": [
    "university_locs = pd.read_csv(csv_loc)"
   ]
  },
  {
   "cell_type": "code",
   "execution_count": 20,
   "id": "ab9ac226",
   "metadata": {
    "ExecuteTime": {
     "end_time": "2021-12-03T17:52:49.256215Z",
     "start_time": "2021-12-03T17:52:49.204979Z"
    }
   },
   "outputs": [
    {
     "data": {
      "text/html": [
       "<div>\n",
       "<style scoped>\n",
       "    .dataframe tbody tr th:only-of-type {\n",
       "        vertical-align: middle;\n",
       "    }\n",
       "\n",
       "    .dataframe tbody tr th {\n",
       "        vertical-align: top;\n",
       "    }\n",
       "\n",
       "    .dataframe thead th {\n",
       "        text-align: right;\n",
       "    }\n",
       "</style>\n",
       "<table border=\"1\" class=\"dataframe\">\n",
       "  <thead>\n",
       "    <tr style=\"text-align: right;\">\n",
       "      <th></th>\n",
       "      <th>UNITID</th>\n",
       "      <th>INSTNM</th>\n",
       "      <th>IALIAS</th>\n",
       "      <th>ADDR</th>\n",
       "      <th>CITY</th>\n",
       "      <th>STABBR</th>\n",
       "      <th>ZIP</th>\n",
       "      <th>FIPS</th>\n",
       "      <th>OBEREG</th>\n",
       "      <th>CHFNM</th>\n",
       "      <th>...</th>\n",
       "      <th>CBSATYPE</th>\n",
       "      <th>CSA</th>\n",
       "      <th>NECTA</th>\n",
       "      <th>COUNTYCD</th>\n",
       "      <th>COUNTYNM</th>\n",
       "      <th>CNGDSTCD</th>\n",
       "      <th>LONGITUD</th>\n",
       "      <th>LATITUDE</th>\n",
       "      <th>DFRCGID</th>\n",
       "      <th>DFRCUSCG</th>\n",
       "    </tr>\n",
       "  </thead>\n",
       "  <tbody>\n",
       "    <tr>\n",
       "      <th>0</th>\n",
       "      <td>100654</td>\n",
       "      <td>Alabama A &amp; M University</td>\n",
       "      <td>AAMU</td>\n",
       "      <td>4900 Meridian Street</td>\n",
       "      <td>Normal</td>\n",
       "      <td>AL</td>\n",
       "      <td>35762</td>\n",
       "      <td>1</td>\n",
       "      <td>5</td>\n",
       "      <td>Dr. Andrew Hugine, Jr.</td>\n",
       "      <td>...</td>\n",
       "      <td>1</td>\n",
       "      <td>290</td>\n",
       "      <td>-2</td>\n",
       "      <td>1089</td>\n",
       "      <td>Madison County</td>\n",
       "      <td>105</td>\n",
       "      <td>-86.568502</td>\n",
       "      <td>34.783368</td>\n",
       "      <td>109</td>\n",
       "      <td>1</td>\n",
       "    </tr>\n",
       "    <tr>\n",
       "      <th>1</th>\n",
       "      <td>100663</td>\n",
       "      <td>University of Alabama at Birmingham</td>\n",
       "      <td></td>\n",
       "      <td>Administration Bldg Suite 1070</td>\n",
       "      <td>Birmingham</td>\n",
       "      <td>AL</td>\n",
       "      <td>35294-0110</td>\n",
       "      <td>1</td>\n",
       "      <td>5</td>\n",
       "      <td>Ray L. Watts</td>\n",
       "      <td>...</td>\n",
       "      <td>1</td>\n",
       "      <td>142</td>\n",
       "      <td>-2</td>\n",
       "      <td>1073</td>\n",
       "      <td>Jefferson County</td>\n",
       "      <td>107</td>\n",
       "      <td>-86.799345</td>\n",
       "      <td>33.505697</td>\n",
       "      <td>95</td>\n",
       "      <td>1</td>\n",
       "    </tr>\n",
       "    <tr>\n",
       "      <th>2</th>\n",
       "      <td>100690</td>\n",
       "      <td>Amridge University</td>\n",
       "      <td>Southern Christian University  Regions University</td>\n",
       "      <td>1200 Taylor Rd</td>\n",
       "      <td>Montgomery</td>\n",
       "      <td>AL</td>\n",
       "      <td>36117-3553</td>\n",
       "      <td>1</td>\n",
       "      <td>5</td>\n",
       "      <td>Michael C.Turner</td>\n",
       "      <td>...</td>\n",
       "      <td>1</td>\n",
       "      <td>388</td>\n",
       "      <td>-2</td>\n",
       "      <td>1101</td>\n",
       "      <td>Montgomery County</td>\n",
       "      <td>102</td>\n",
       "      <td>-86.174010</td>\n",
       "      <td>32.362609</td>\n",
       "      <td>126</td>\n",
       "      <td>2</td>\n",
       "    </tr>\n",
       "  </tbody>\n",
       "</table>\n",
       "<p>3 rows × 73 columns</p>\n",
       "</div>"
      ],
      "text/plain": [
       "   UNITID                               INSTNM  \\\n",
       "0  100654             Alabama A & M University   \n",
       "1  100663  University of Alabama at Birmingham   \n",
       "2  100690                   Amridge University   \n",
       "\n",
       "                                              IALIAS  \\\n",
       "0                                               AAMU   \n",
       "1                                                      \n",
       "2  Southern Christian University  Regions University   \n",
       "\n",
       "                             ADDR        CITY STABBR         ZIP  FIPS  \\\n",
       "0            4900 Meridian Street      Normal     AL       35762     1   \n",
       "1  Administration Bldg Suite 1070  Birmingham     AL  35294-0110     1   \n",
       "2                  1200 Taylor Rd  Montgomery     AL  36117-3553     1   \n",
       "\n",
       "   OBEREG                   CHFNM  ... CBSATYPE  CSA  NECTA COUNTYCD  \\\n",
       "0       5  Dr. Andrew Hugine, Jr.  ...        1  290     -2     1089   \n",
       "1       5            Ray L. Watts  ...        1  142     -2     1073   \n",
       "2       5        Michael C.Turner  ...        1  388     -2     1101   \n",
       "\n",
       "            COUNTYNM  CNGDSTCD   LONGITUD   LATITUDE DFRCGID DFRCUSCG  \n",
       "0     Madison County       105 -86.568502  34.783368     109        1  \n",
       "1   Jefferson County       107 -86.799345  33.505697      95        1  \n",
       "2  Montgomery County       102 -86.174010  32.362609     126        2  \n",
       "\n",
       "[3 rows x 73 columns]"
      ]
     },
     "execution_count": 20,
     "metadata": {},
     "output_type": "execute_result"
    }
   ],
   "source": [
    "university_locs[:3]"
   ]
  },
  {
   "cell_type": "code",
   "execution_count": null,
   "id": "8ca8ae19",
   "metadata": {},
   "outputs": [],
   "source": []
  }
 ],
 "metadata": {
  "kernelspec": {
   "display_name": "postdoc",
   "language": "python",
   "name": "postdoc"
  },
  "language_info": {
   "codemirror_mode": {
    "name": "ipython",
    "version": 3
   },
   "file_extension": ".py",
   "mimetype": "text/x-python",
   "name": "python",
   "nbconvert_exporter": "python",
   "pygments_lexer": "ipython3",
   "version": "3.8.12"
  }
 },
 "nbformat": 4,
 "nbformat_minor": 5
}
