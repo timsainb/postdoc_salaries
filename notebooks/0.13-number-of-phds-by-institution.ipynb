{
 "cells": [
  {
   "cell_type": "markdown",
   "id": "936d1631",
   "metadata": {},
   "source": [
    "### Number of PhDs per institution\n",
    "- using NSF PHD exit survey\n",
    "- data is from 2013 to correspond to the faculty hiring dataset\n",
    "- https://www.nsf.gov/statistics/sed/2013/data-tables.cfm"
   ]
  },
  {
   "cell_type": "code",
   "execution_count": 12,
   "id": "713e5c81",
   "metadata": {
    "ExecuteTime": {
     "end_time": "2022-01-14T13:39:55.223850Z",
     "start_time": "2022-01-14T13:39:55.200660Z"
    }
   },
   "outputs": [
    {
     "name": "stdout",
     "output_type": "stream",
     "text": [
      "The autoreload extension is already loaded. To reload it, use:\n",
      "  %reload_ext autoreload\n"
     ]
    }
   ],
   "source": [
    "%load_ext autoreload\n",
    "%autoreload 2"
   ]
  },
  {
   "cell_type": "code",
   "execution_count": 13,
   "id": "8fa73a66",
   "metadata": {
    "ExecuteTime": {
     "end_time": "2022-01-14T13:39:55.416675Z",
     "start_time": "2022-01-14T13:39:55.392636Z"
    }
   },
   "outputs": [],
   "source": [
    "import numpy as np\n",
    "import pandas as pd\n",
    "import matplotlib.pyplot as plt\n",
    "%matplotlib inline\n",
    "from tqdm.autonotebook import tqdm\n",
    "from postdocsalary.paths import DATA_DIR, ensure_dir\n",
    "import urllib.request\n",
    "pd.set_option('display.max_columns', None)\n"
   ]
  },
  {
   "cell_type": "code",
   "execution_count": 14,
   "id": "149120ee",
   "metadata": {
    "ExecuteTime": {
     "end_time": "2022-01-14T13:39:55.921553Z",
     "start_time": "2022-01-14T13:39:55.900076Z"
    }
   },
   "outputs": [
    {
     "data": {
      "text/plain": [
       "526"
      ]
     },
     "execution_count": 14,
     "metadata": {},
     "output_type": "execute_result"
    }
   ],
   "source": [
    "survey_df = pd.read_csv(DATA_DIR/ 'nsf_survey'/ 'phds_2013_simplified.csv')\n",
    "len(survey_df)"
   ]
  },
  {
   "cell_type": "code",
   "execution_count": 15,
   "id": "684595fe",
   "metadata": {
    "ExecuteTime": {
     "end_time": "2022-01-14T13:39:56.010135Z",
     "start_time": "2022-01-14T13:39:55.978001Z"
    }
   },
   "outputs": [
    {
     "data": {
      "text/html": [
       "<div>\n",
       "<style scoped>\n",
       "    .dataframe tbody tr th:only-of-type {\n",
       "        vertical-align: middle;\n",
       "    }\n",
       "\n",
       "    .dataframe tbody tr th {\n",
       "        vertical-align: top;\n",
       "    }\n",
       "\n",
       "    .dataframe thead th {\n",
       "        text-align: right;\n",
       "    }\n",
       "</style>\n",
       "<table border=\"1\" class=\"dataframe\">\n",
       "  <thead>\n",
       "    <tr style=\"text-align: right;\">\n",
       "      <th></th>\n",
       "      <th>State</th>\n",
       "      <th>Abbreviation</th>\n",
       "    </tr>\n",
       "  </thead>\n",
       "  <tbody>\n",
       "    <tr>\n",
       "      <th>0</th>\n",
       "      <td>Alabama</td>\n",
       "      <td>AL</td>\n",
       "    </tr>\n",
       "    <tr>\n",
       "      <th>1</th>\n",
       "      <td>Alaska</td>\n",
       "      <td>AK</td>\n",
       "    </tr>\n",
       "    <tr>\n",
       "      <th>2</th>\n",
       "      <td>Arizona</td>\n",
       "      <td>AZ</td>\n",
       "    </tr>\n",
       "  </tbody>\n",
       "</table>\n",
       "</div>"
      ],
      "text/plain": [
       "     State Abbreviation\n",
       "0  Alabama           AL\n",
       "1   Alaska           AK\n",
       "2  Arizona           AZ"
      ]
     },
     "execution_count": 15,
     "metadata": {},
     "output_type": "execute_result"
    }
   ],
   "source": [
    "state_abb_df = pd.read_csv(DATA_DIR/ 'BEA_price_parity' / 'state_abb.csv')\n",
    "state_abb_dict = {row.State:row.Abbreviation for idx, row in state_abb_df.iterrows()}\n",
    "state_abb_dict[\"Puerto Rico\"] = \"PR\"\n",
    "state_abb_df[:3]"
   ]
  },
  {
   "cell_type": "code",
   "execution_count": 16,
   "id": "4fbe9c5f",
   "metadata": {
    "ExecuteTime": {
     "end_time": "2022-01-14T13:39:56.086099Z",
     "start_time": "2022-01-14T13:39:56.066240Z"
    }
   },
   "outputs": [],
   "source": [
    "def update_university_name(name, abbv, state):\n",
    "    if type(name) is not str:\n",
    "        return np.nan\n",
    "    name = name.replace('U.', 'University')\n",
    "    name = name.replace('C.', 'College')\n",
    "    \n",
    "    name = name.replace('University {}'.format(abbv), 'University of {}'.format(state))\n",
    "    name = name.replace(' {}'.format(abbv), ' {}'.format(state))\n",
    "    name = name.replace('{} '.format(abbv), '{} '.format(state))\n",
    "        \n",
    "    \n",
    "    return name"
   ]
  },
  {
   "cell_type": "code",
   "execution_count": 17,
   "id": "a597a554",
   "metadata": {
    "ExecuteTime": {
     "end_time": "2022-01-14T13:39:56.167895Z",
     "start_time": "2022-01-14T13:39:56.144236Z"
    }
   },
   "outputs": [],
   "source": [
    "state= None\n",
    "state_next =False\n",
    "name_list = []\n",
    "for name in survey_df.Institution.values:\n",
    "    if type(name) == float:\n",
    "        state_next = True\n",
    "        name_list.append(np.nan)\n",
    "        continue\n",
    "    if state_next:\n",
    "        state = name\n",
    "        state_next = False\n",
    "        name_list.append(np.nan)\n",
    "        continue\n",
    "    if state == None:\n",
    "        name_list.append(name)\n",
    "        continue\n",
    "    abbv = state_abb_dict[ state[:-1]]\n",
    "    name = update_university_name(name, abbv,  state[:-1])\n",
    "    name_list.append(name)\n",
    "    #print(name)"
   ]
  },
  {
   "cell_type": "code",
   "execution_count": 18,
   "id": "1ca367ca",
   "metadata": {
    "ExecuteTime": {
     "end_time": "2022-01-14T13:39:56.258522Z",
     "start_time": "2022-01-14T13:39:56.232051Z"
    }
   },
   "outputs": [
    {
     "data": {
      "text/html": [
       "<div>\n",
       "<style scoped>\n",
       "    .dataframe tbody tr th:only-of-type {\n",
       "        vertical-align: middle;\n",
       "    }\n",
       "\n",
       "    .dataframe tbody tr th {\n",
       "        vertical-align: top;\n",
       "    }\n",
       "\n",
       "    .dataframe thead th {\n",
       "        text-align: right;\n",
       "    }\n",
       "</style>\n",
       "<table border=\"1\" class=\"dataframe\">\n",
       "  <thead>\n",
       "    <tr style=\"text-align: right;\">\n",
       "      <th></th>\n",
       "      <th>Institution</th>\n",
       "      <th>number</th>\n",
       "    </tr>\n",
       "  </thead>\n",
       "  <tbody>\n",
       "    <tr>\n",
       "      <th>0</th>\n",
       "      <td>All Institutions</td>\n",
       "      <td>52,760</td>\n",
       "    </tr>\n",
       "    <tr>\n",
       "      <th>1</th>\n",
       "      <td>NaN</td>\n",
       "      <td>NaN</td>\n",
       "    </tr>\n",
       "    <tr>\n",
       "      <th>2</th>\n",
       "      <td>Alabama</td>\n",
       "      <td>644</td>\n",
       "    </tr>\n",
       "    <tr>\n",
       "      <th>3</th>\n",
       "      <td>AL A&amp;M U.</td>\n",
       "      <td>7</td>\n",
       "    </tr>\n",
       "    <tr>\n",
       "      <th>4</th>\n",
       "      <td>AL State U.</td>\n",
       "      <td>13</td>\n",
       "    </tr>\n",
       "    <tr>\n",
       "      <th>...</th>\n",
       "      <td>...</td>\n",
       "      <td>...</td>\n",
       "    </tr>\n",
       "    <tr>\n",
       "      <th>521</th>\n",
       "      <td>U. WI, Madison</td>\n",
       "      <td>735</td>\n",
       "    </tr>\n",
       "    <tr>\n",
       "      <th>522</th>\n",
       "      <td>U. WI, Milwaukee</td>\n",
       "      <td>152</td>\n",
       "    </tr>\n",
       "    <tr>\n",
       "      <th>523</th>\n",
       "      <td>NaN</td>\n",
       "      <td>NaN</td>\n",
       "    </tr>\n",
       "    <tr>\n",
       "      <th>524</th>\n",
       "      <td>Wyoming</td>\n",
       "      <td>66</td>\n",
       "    </tr>\n",
       "    <tr>\n",
       "      <th>525</th>\n",
       "      <td>U. WY</td>\n",
       "      <td>66</td>\n",
       "    </tr>\n",
       "  </tbody>\n",
       "</table>\n",
       "<p>526 rows × 2 columns</p>\n",
       "</div>"
      ],
      "text/plain": [
       "           Institution  number\n",
       "0    All Institutions   52,760\n",
       "1                  NaN     NaN\n",
       "2             Alabama      644\n",
       "3           AL A&M U.        7\n",
       "4         AL State U.       13\n",
       "..                 ...     ...\n",
       "521    U. WI, Madison      735\n",
       "522  U. WI, Milwaukee      152\n",
       "523                NaN     NaN\n",
       "524           Wyoming       66\n",
       "525             U. WY       66\n",
       "\n",
       "[526 rows x 2 columns]"
      ]
     },
     "execution_count": 18,
     "metadata": {},
     "output_type": "execute_result"
    }
   ],
   "source": [
    "survey_df"
   ]
  },
  {
   "cell_type": "code",
   "execution_count": 19,
   "id": "c3694318",
   "metadata": {
    "ExecuteTime": {
     "end_time": "2022-01-14T13:39:56.331444Z",
     "start_time": "2022-01-14T13:39:56.312467Z"
    }
   },
   "outputs": [],
   "source": [
    "survey_df['Institution'] = name_list"
   ]
  },
  {
   "cell_type": "code",
   "execution_count": 22,
   "id": "76950236",
   "metadata": {
    "ExecuteTime": {
     "end_time": "2022-01-14T13:40:16.826894Z",
     "start_time": "2022-01-14T13:40:16.805099Z"
    }
   },
   "outputs": [],
   "source": [
    "survey_df = survey_df[survey_df.Institution.isnull() == False]"
   ]
  },
  {
   "cell_type": "code",
   "execution_count": 27,
   "id": "93c75920",
   "metadata": {
    "ExecuteTime": {
     "end_time": "2022-01-14T13:41:22.714191Z",
     "start_time": "2022-01-14T13:41:22.690231Z"
    }
   },
   "outputs": [],
   "source": [
    "def strip_name(name):\n",
    "    return ''.join(filter( lambda x: x in '0123456789abcdefghijklmnopqrstuvwxyz', name.lower()))"
   ]
  },
  {
   "cell_type": "code",
   "execution_count": 29,
   "id": "d90bbbbb",
   "metadata": {
    "ExecuteTime": {
     "end_time": "2022-01-14T13:41:33.160690Z",
     "start_time": "2022-01-14T13:41:33.139005Z"
    }
   },
   "outputs": [
    {
     "name": "stderr",
     "output_type": "stream",
     "text": [
      "<ipython-input-29-795d9a8ff820>:1: SettingWithCopyWarning: \n",
      "A value is trying to be set on a copy of a slice from a DataFrame.\n",
      "Try using .loc[row_indexer,col_indexer] = value instead\n",
      "\n",
      "See the caveats in the documentation: https://pandas.pydata.org/pandas-docs/stable/user_guide/indexing.html#returning-a-view-versus-a-copy\n",
      "  survey_df['n_grads'] = survey_df['number'].apply(strip_name).astype(float)\n"
     ]
    }
   ],
   "source": [
    "survey_df['n_grads'] = survey_df['number'].apply(strip_name).astype(float)"
   ]
  },
  {
   "cell_type": "code",
   "execution_count": 30,
   "id": "46bdc227",
   "metadata": {
    "ExecuteTime": {
     "end_time": "2022-01-14T13:41:38.268964Z",
     "start_time": "2022-01-14T13:41:38.236955Z"
    }
   },
   "outputs": [
    {
     "data": {
      "text/html": [
       "<div>\n",
       "<style scoped>\n",
       "    .dataframe tbody tr th:only-of-type {\n",
       "        vertical-align: middle;\n",
       "    }\n",
       "\n",
       "    .dataframe tbody tr th {\n",
       "        vertical-align: top;\n",
       "    }\n",
       "\n",
       "    .dataframe thead th {\n",
       "        text-align: right;\n",
       "    }\n",
       "</style>\n",
       "<table border=\"1\" class=\"dataframe\">\n",
       "  <thead>\n",
       "    <tr style=\"text-align: right;\">\n",
       "      <th></th>\n",
       "      <th>Institution</th>\n",
       "      <th>number</th>\n",
       "      <th>n_grads</th>\n",
       "    </tr>\n",
       "  </thead>\n",
       "  <tbody>\n",
       "    <tr>\n",
       "      <th>0</th>\n",
       "      <td>All Institutions</td>\n",
       "      <td>52,760</td>\n",
       "      <td>52760.0</td>\n",
       "    </tr>\n",
       "    <tr>\n",
       "      <th>54</th>\n",
       "      <td>University of California, Berkeley</td>\n",
       "      <td>911</td>\n",
       "      <td>911.0</td>\n",
       "    </tr>\n",
       "    <tr>\n",
       "      <th>239</th>\n",
       "      <td>University of Michigan, Ann Arbor</td>\n",
       "      <td>853</td>\n",
       "      <td>853.0</td>\n",
       "    </tr>\n",
       "    <tr>\n",
       "      <th>473</th>\n",
       "      <td>University of Texas, Austin</td>\n",
       "      <td>798</td>\n",
       "      <td>798.0</td>\n",
       "    </tr>\n",
       "    <tr>\n",
       "      <th>53</th>\n",
       "      <td>Stanford University, Stanford</td>\n",
       "      <td>763</td>\n",
       "      <td>763.0</td>\n",
       "    </tr>\n",
       "    <tr>\n",
       "      <th>...</th>\n",
       "      <td>...</td>\n",
       "      <td>...</td>\n",
       "      <td>...</td>\n",
       "    </tr>\n",
       "    <tr>\n",
       "      <th>319</th>\n",
       "      <td>Juilliard School</td>\n",
       "      <td>1</td>\n",
       "      <td>1.0</td>\n",
       "    </tr>\n",
       "    <tr>\n",
       "      <th>377</th>\n",
       "      <td>Oklahoma State University, Health Sciences Ctr.</td>\n",
       "      <td>1</td>\n",
       "      <td>1.0</td>\n",
       "    </tr>\n",
       "    <tr>\n",
       "      <th>240</th>\n",
       "      <td>University of Michigan, Dearborn</td>\n",
       "      <td>1</td>\n",
       "      <td>1.0</td>\n",
       "    </tr>\n",
       "    <tr>\n",
       "      <th>128</th>\n",
       "      <td>Boise State University</td>\n",
       "      <td>1</td>\n",
       "      <td>1.0</td>\n",
       "    </tr>\n",
       "    <tr>\n",
       "      <th>117</th>\n",
       "      <td>Georgia Southern University</td>\n",
       "      <td>1</td>\n",
       "      <td>1.0</td>\n",
       "    </tr>\n",
       "  </tbody>\n",
       "</table>\n",
       "<p>422 rows × 3 columns</p>\n",
       "</div>"
      ],
      "text/plain": [
       "                                          Institution  number  n_grads\n",
       "0                                   All Institutions   52,760  52760.0\n",
       "54                University of California, Berkeley      911    911.0\n",
       "239                University of Michigan, Ann Arbor      853    853.0\n",
       "473                      University of Texas, Austin      798    798.0\n",
       "53                     Stanford University, Stanford      763    763.0\n",
       "..                                                ...     ...      ...\n",
       "319                                 Juilliard School        1      1.0\n",
       "377  Oklahoma State University, Health Sciences Ctr.        1      1.0\n",
       "240                 University of Michigan, Dearborn        1      1.0\n",
       "128                           Boise State University        1      1.0\n",
       "117                      Georgia Southern University        1      1.0\n",
       "\n",
       "[422 rows x 3 columns]"
      ]
     },
     "execution_count": 30,
     "metadata": {},
     "output_type": "execute_result"
    }
   ],
   "source": [
    "survey_df.sort_values(by='n_grads', ascending=False)"
   ]
  },
  {
   "cell_type": "code",
   "execution_count": 36,
   "id": "08b136be",
   "metadata": {
    "ExecuteTime": {
     "end_time": "2022-01-14T13:42:19.796342Z",
     "start_time": "2022-01-14T13:42:19.616757Z"
    }
   },
   "outputs": [
    {
     "data": {
      "text/plain": [
       "[<matplotlib.lines.Line2D at 0x7f6322b76d00>]"
      ]
     },
     "execution_count": 36,
     "metadata": {},
     "output_type": "execute_result"
    },
    {
     "data": {
      "image/png": "[encoded data removed]",
      "text/plain": [
       "<Figure size 432x288 with 1 Axes>"
      ]
     },
     "metadata": {
      "needs_background": "light"
     },
     "output_type": "display_data"
    }
   ],
   "source": [
    "plt.plot(survey_df.sort_values(by='n_grads', ascending=False).n_grads.values[1:])"
   ]
  },
  {
   "cell_type": "code",
   "execution_count": 37,
   "id": "d017106c",
   "metadata": {
    "ExecuteTime": {
     "end_time": "2022-01-14T13:43:01.640086Z",
     "start_time": "2022-01-14T13:43:01.615054Z"
    }
   },
   "outputs": [],
   "source": [
    "survey_df[['Institution', 'n_grads']].to_pickle(DATA_DIR/ 'nsf_survey'/ 'phds_2013_simplified_counts.csv')"
   ]
  },
  {
   "cell_type": "code",
   "execution_count": null,
   "id": "32c7c2ca",
   "metadata": {},
   "outputs": [],
   "source": []
  },
  {
   "cell_type": "code",
   "execution_count": null,
   "id": "c5055535",
   "metadata": {},
   "outputs": [],
   "source": []
  },
  {
   "cell_type": "code",
   "execution_count": null,
   "id": "6fb43b7c",
   "metadata": {},
   "outputs": [],
   "source": []
  }
 ],
 "metadata": {
  "kernelspec": {
   "display_name": "postdoc",
   "language": "python",
   "name": "postdoc"
  },
  "language_info": {
   "codemirror_mode": {
    "name": "ipython",
    "version": 3
   },
   "file_extension": ".py",
   "mimetype": "text/x-python",
   "name": "python",
   "nbconvert_exporter": "python",
   "pygments_lexer": "ipython3",
   "version": "3.8.12"
  }
 },
 "nbformat": 4,
 "nbformat_minor": 5
}
