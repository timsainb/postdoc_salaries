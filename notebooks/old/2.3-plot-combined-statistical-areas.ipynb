{
 "cells": [
  {
   "cell_type": "markdown",
   "id": "3951aa94",
   "metadata": {},
   "source": [
    "### plot counties by RPP\n",
    "- https://www.census.gov/geographies/reference-files/time-series/demo/metro-micro/delineation-files.html"
   ]
  },
  {
   "cell_type": "code",
   "execution_count": null,
   "id": "a0f1830a",
   "metadata": {},
   "outputs": [],
   "source": []
  }
 ],
 "metadata": {
  "kernelspec": {
   "display_name": "postdoc",
   "language": "python",
   "name": "postdoc"
  },
  "language_info": {
   "codemirror_mode": {
    "name": "ipython",
    "version": 3
   },
   "file_extension": ".py",
   "mimetype": "text/x-python",
   "name": "python",
   "nbconvert_exporter": "python",
   "pygments_lexer": "ipython3",
   "version": "3.8.12"
  }
 },
 "nbformat": 4,
 "nbformat_minor": 5
}
