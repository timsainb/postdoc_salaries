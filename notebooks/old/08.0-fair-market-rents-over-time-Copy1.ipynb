{
 "cells": [
  {
   "cell_type": "code",
   "execution_count": 1,
   "id": "abe099c8",
   "metadata": {
    "ExecuteTime": {
     "end_time": "2022-01-15T20:02:48.791866Z",
     "start_time": "2022-01-15T20:02:48.664928Z"
    }
   },
   "outputs": [],
   "source": [
    "%load_ext autoreload\n",
    "%autoreload 2"
   ]
  },
  {
   "cell_type": "code",
   "execution_count": 2,
   "id": "f72c12a5",
   "metadata": {
    "ExecuteTime": {
     "end_time": "2022-01-15T20:02:49.904626Z",
     "start_time": "2022-01-15T20:02:49.167114Z"
    }
   },
   "outputs": [
    {
     "name": "stderr",
     "output_type": "stream",
     "text": [
      "<ipython-input-2-37777429a894>:5: TqdmExperimentalWarning: Using `tqdm.autonotebook.tqdm` in notebook mode. Use `tqdm.tqdm` instead to force console mode (e.g. in jupyter console)\n",
      "  from tqdm.autonotebook import tqdm\n"
     ]
    }
   ],
   "source": [
    "import numpy as np\n",
    "import pandas as pd\n",
    "import matplotlib.pyplot as plt\n",
    "%matplotlib inline\n",
    "from tqdm.autonotebook import tqdm\n",
    "from postdocsalary.paths import DATA_DIR, ensure_dir\n",
    "import urllib.request"
   ]
  },
  {
   "cell_type": "code",
   "execution_count": 3,
   "id": "4f64d987",
   "metadata": {
    "ExecuteTime": {
     "end_time": "2022-01-15T20:02:49.921533Z",
     "start_time": "2022-01-15T20:02:49.906654Z"
    }
   },
   "outputs": [],
   "source": [
    "from postdocsalary.paths import save_fig, FIGURE_DIR"
   ]
  },
  {
   "cell_type": "markdown",
   "id": "fa56792c",
   "metadata": {},
   "source": [
    "### Home prices"
   ]
  },
  {
   "cell_type": "code",
   "execution_count": 4,
   "id": "22ccea71",
   "metadata": {
    "ExecuteTime": {
     "end_time": "2022-01-15T20:02:49.937856Z",
     "start_time": "2022-01-15T20:02:49.923748Z"
    }
   },
   "outputs": [],
   "source": [
    "regions = [\n",
    "    \"Boston city\",\n",
    "    \"New York County\",\n",
    "    \"Cook County\",\n",
    "    \"Allegheny County\",\n",
    "    \"San Diego County\",\n",
    "    \"San Francisco County\",\n",
    "    \"Baltimore County\",\n",
    "    \"Multnomah County\",\n",
    "    \"Harris County\",\n",
    "    \"Washtenaw County\",\n",
    "    \"Durham County\"\n",
    "]"
   ]
  },
  {
   "cell_type": "code",
   "execution_count": 5,
   "id": "89c0b45b",
   "metadata": {
    "ExecuteTime": {
     "end_time": "2022-01-15T20:02:49.954115Z",
     "start_time": "2022-01-15T20:02:49.940001Z"
    }
   },
   "outputs": [],
   "source": [
    "cba_subs = [\n",
    "    \"METRO41740M41740\",\n",
    "    \"METRO41860MM7360\",\n",
    "    \"METRO16980M16980\",\n",
    "    \"METRO14460MM1120\",\n",
    "    \"METRO35620MM5600\",\n",
    "    \"METRO38300M38300\",\n",
    "    \"METRO20500M20500\",\n",
    "    \"METRO38900M38900\",\n",
    "    \"METRO11460M11460\",\n",
    "    \"METRO38900M38900\",\n",
    "    \"METRO26420M26420\",\n",
    "    \"METRO12580M12580\"\n",
    "]"
   ]
  },
  {
   "cell_type": "code",
   "execution_count": 6,
   "id": "37d6bdf6",
   "metadata": {
    "ExecuteTime": {
     "end_time": "2022-01-15T20:02:50.116444Z",
     "start_time": "2022-01-15T20:02:49.955870Z"
    }
   },
   "outputs": [],
   "source": [
    "file = DATA_DIR / 'rent' / \"FMR_2Bed_1983_2022_2.csv\"\n",
    "\n",
    "home_prices = pd.read_csv(file,encoding='latin1')"
   ]
  },
  {
   "cell_type": "code",
   "execution_count": 7,
   "id": "6c7306a5",
   "metadata": {
    "ExecuteTime": {
     "end_time": "2022-01-15T20:02:50.162957Z",
     "start_time": "2022-01-15T20:02:50.118319Z"
    }
   },
   "outputs": [
    {
     "data": {
      "text/html": [
       "<div>\n",
       "<style scoped>\n",
       "    .dataframe tbody tr th:only-of-type {\n",
       "        vertical-align: middle;\n",
       "    }\n",
       "\n",
       "    .dataframe tbody tr th {\n",
       "        vertical-align: top;\n",
       "    }\n",
       "\n",
       "    .dataframe thead th {\n",
       "        text-align: right;\n",
       "    }\n",
       "</style>\n",
       "<table border=\"1\" class=\"dataframe\">\n",
       "  <thead>\n",
       "    <tr style=\"text-align: right;\">\n",
       "      <th></th>\n",
       "      <th>fips2010</th>\n",
       "      <th>fips2000</th>\n",
       "      <th>areaname22</th>\n",
       "      <th>name</th>\n",
       "      <th>msa22</th>\n",
       "      <th>fmr22_2</th>\n",
       "      <th>fmr22</th>\n",
       "      <th>msa21</th>\n",
       "      <th>fmr21_2</th>\n",
       "      <th>fmr21</th>\n",
       "      <th>...</th>\n",
       "      <th>fmr83</th>\n",
       "      <th>cbsasub</th>\n",
       "      <th>areaname</th>\n",
       "      <th>state</th>\n",
       "      <th>cousub</th>\n",
       "      <th>county</th>\n",
       "      <th>pop2010</th>\n",
       "      <th>census_region</th>\n",
       "      <th>pop2017</th>\n",
       "      <th>pop2000</th>\n",
       "    </tr>\n",
       "  </thead>\n",
       "  <tbody>\n",
       "    <tr>\n",
       "      <th>0</th>\n",
       "      <td>100199999</td>\n",
       "      <td>100199999.0</td>\n",
       "      <td>Montgomery, AL MSA</td>\n",
       "      <td>Autauga County</td>\n",
       "      <td>METRO33860M33860</td>\n",
       "      <td>914</td>\n",
       "      <td>40</td>\n",
       "      <td>METRO33860M33860</td>\n",
       "      <td>908</td>\n",
       "      <td>40</td>\n",
       "      <td>...</td>\n",
       "      <td>45.0</td>\n",
       "      <td>METRO33860M33860</td>\n",
       "      <td>Montgomery, AL MSA</td>\n",
       "      <td>1.0</td>\n",
       "      <td>99999.0</td>\n",
       "      <td>1.0</td>\n",
       "      <td>54571</td>\n",
       "      <td>3.0</td>\n",
       "      <td>55035</td>\n",
       "      <td>43671.0</td>\n",
       "    </tr>\n",
       "    <tr>\n",
       "      <th>1</th>\n",
       "      <td>100399999</td>\n",
       "      <td>100399999.0</td>\n",
       "      <td>Daphne-Fairhope-Foley, AL MSA</td>\n",
       "      <td>Baldwin County</td>\n",
       "      <td>METRO19300M19300</td>\n",
       "      <td>1017</td>\n",
       "      <td>40</td>\n",
       "      <td>METRO19300M19300</td>\n",
       "      <td>922</td>\n",
       "      <td>40</td>\n",
       "      <td>...</td>\n",
       "      <td>45.0</td>\n",
       "      <td>METRO19300M19300</td>\n",
       "      <td>Daphne-Fairhope-Foley, AL MSA</td>\n",
       "      <td>1.0</td>\n",
       "      <td>99999.0</td>\n",
       "      <td>3.0</td>\n",
       "      <td>182265</td>\n",
       "      <td>3.0</td>\n",
       "      <td>203360</td>\n",
       "      <td>140415.0</td>\n",
       "    </tr>\n",
       "    <tr>\n",
       "      <th>2</th>\n",
       "      <td>100599999</td>\n",
       "      <td>100599999.0</td>\n",
       "      <td>Barbour County, AL</td>\n",
       "      <td>Barbour County</td>\n",
       "      <td>NCNTY01005N01005</td>\n",
       "      <td>705</td>\n",
       "      <td>40</td>\n",
       "      <td>NCNTY01005N01005</td>\n",
       "      <td>648</td>\n",
       "      <td>40</td>\n",
       "      <td>...</td>\n",
       "      <td>45.0</td>\n",
       "      <td>NCNTY01005N01005</td>\n",
       "      <td>Barbour County, AL</td>\n",
       "      <td>1.0</td>\n",
       "      <td>99999.0</td>\n",
       "      <td>5.0</td>\n",
       "      <td>27457</td>\n",
       "      <td>3.0</td>\n",
       "      <td>26200</td>\n",
       "      <td>29038.0</td>\n",
       "    </tr>\n",
       "  </tbody>\n",
       "</table>\n",
       "<p>3 rows × 130 columns</p>\n",
       "</div>"
      ],
      "text/plain": [
       "    fips2010     fips2000                     areaname22            name  \\\n",
       "0  100199999  100199999.0             Montgomery, AL MSA  Autauga County   \n",
       "1  100399999  100399999.0  Daphne-Fairhope-Foley, AL MSA  Baldwin County   \n",
       "2  100599999  100599999.0             Barbour County, AL  Barbour County   \n",
       "\n",
       "              msa22  fmr22_2  fmr22             msa21  fmr21_2  fmr21  ...  \\\n",
       "0  METRO33860M33860      914     40  METRO33860M33860      908     40  ...   \n",
       "1  METRO19300M19300     1017     40  METRO19300M19300      922     40  ...   \n",
       "2  NCNTY01005N01005      705     40  NCNTY01005N01005      648     40  ...   \n",
       "\n",
       "  fmr83           cbsasub                       areaname state   cousub  \\\n",
       "0  45.0  METRO33860M33860             Montgomery, AL MSA   1.0  99999.0   \n",
       "1  45.0  METRO19300M19300  Daphne-Fairhope-Foley, AL MSA   1.0  99999.0   \n",
       "2  45.0  NCNTY01005N01005             Barbour County, AL   1.0  99999.0   \n",
       "\n",
       "   county pop2010  census_region  pop2017   pop2000  \n",
       "0     1.0   54571            3.0    55035   43671.0  \n",
       "1     3.0  182265            3.0   203360  140415.0  \n",
       "2     5.0   27457            3.0    26200   29038.0  \n",
       "\n",
       "[3 rows x 130 columns]"
      ]
     },
     "execution_count": 7,
     "metadata": {},
     "output_type": "execute_result"
    }
   ],
   "source": [
    "home_prices[:3]"
   ]
  },
  {
   "cell_type": "code",
   "execution_count": 8,
   "id": "31981e60",
   "metadata": {
    "ExecuteTime": {
     "end_time": "2022-01-15T20:02:50.179086Z",
     "start_time": "2022-01-15T20:02:50.164594Z"
    }
   },
   "outputs": [],
   "source": [
    "def get_year(x):\n",
    "    year = x.split('_')[0][-2:]\n",
    "    if int(year) < 80:\n",
    "        year = int(\"20\"+year)\n",
    "    else:\n",
    "        year = int(\"19\"+year)\n",
    "    return year"
   ]
  },
  {
   "cell_type": "code",
   "execution_count": 9,
   "id": "97ccfb09",
   "metadata": {
    "ExecuteTime": {
     "end_time": "2022-01-15T20:02:50.626938Z",
     "start_time": "2022-01-15T20:02:50.181560Z"
    }
   },
   "outputs": [
    {
     "name": "stderr",
     "output_type": "stream",
     "text": [
      "<ipython-input-9-078faac182e1>:4: SettingWithCopyWarning: \n",
      "A value is trying to be set on a copy of a slice from a DataFrame.\n",
      "Try using .loc[row_indexer,col_indexer] = value instead\n",
      "\n",
      "See the caveats in the documentation: https://pandas.pydata.org/pandas-docs/stable/user_guide/indexing.html#returning-a-view-versus-a-copy\n",
      "  home_prices_all['Year'] = [get_year(i) for i in home_prices_all.variable.values]\n"
     ]
    },
    {
     "data": {
      "text/html": [
       "<div>\n",
       "<style scoped>\n",
       "    .dataframe tbody tr th:only-of-type {\n",
       "        vertical-align: middle;\n",
       "    }\n",
       "\n",
       "    .dataframe tbody tr th {\n",
       "        vertical-align: top;\n",
       "    }\n",
       "\n",
       "    .dataframe thead th {\n",
       "        text-align: right;\n",
       "    }\n",
       "</style>\n",
       "<table border=\"1\" class=\"dataframe\">\n",
       "  <thead>\n",
       "    <tr style=\"text-align: right;\">\n",
       "      <th></th>\n",
       "      <th>areaname22</th>\n",
       "      <th>variable</th>\n",
       "      <th>value</th>\n",
       "      <th>Year</th>\n",
       "    </tr>\n",
       "  </thead>\n",
       "  <tbody>\n",
       "    <tr>\n",
       "      <th>4765</th>\n",
       "      <td>Montgomery, AL MSA</td>\n",
       "      <td>fmr22_2</td>\n",
       "      <td>914</td>\n",
       "      <td>2022</td>\n",
       "    </tr>\n",
       "    <tr>\n",
       "      <th>4766</th>\n",
       "      <td>Daphne-Fairhope-Foley, AL MSA</td>\n",
       "      <td>fmr22_2</td>\n",
       "      <td>1017</td>\n",
       "      <td>2022</td>\n",
       "    </tr>\n",
       "    <tr>\n",
       "      <th>4767</th>\n",
       "      <td>Barbour County, AL</td>\n",
       "      <td>fmr22_2</td>\n",
       "      <td>705</td>\n",
       "      <td>2022</td>\n",
       "    </tr>\n",
       "  </tbody>\n",
       "</table>\n",
       "</div>"
      ],
      "text/plain": [
       "                         areaname22 variable value  Year\n",
       "4765             Montgomery, AL MSA  fmr22_2   914  2022\n",
       "4766  Daphne-Fairhope-Foley, AL MSA  fmr22_2  1017  2022\n",
       "4767             Barbour County, AL  fmr22_2   705  2022"
      ]
     },
     "execution_count": 9,
     "metadata": {},
     "output_type": "execute_result"
    }
   ],
   "source": [
    "# melt for year\n",
    "home_prices_all_melt = home_prices.melt(id_vars=\"areaname22\", value_vars = home_prices.columns[4:-7])\n",
    "home_prices_all = home_prices_all_melt[np.array([i[-2:] == '_2' for i in home_prices_all_melt.variable.values])]\n",
    "home_prices_all['Year'] = [get_year(i) for i in home_prices_all.variable.values]\n",
    "home_prices_all[:3]"
   ]
  },
  {
   "cell_type": "code",
   "execution_count": 10,
   "id": "706ef88e",
   "metadata": {
    "ExecuteTime": {
     "end_time": "2022-01-15T20:02:50.852898Z",
     "start_time": "2022-01-15T20:02:50.628941Z"
    }
   },
   "outputs": [],
   "source": [
    "home_prices_all = home_prices_all.merge(home_prices[['pop2000', 'areaname22']], on=\"areaname22\")"
   ]
  },
  {
   "cell_type": "code",
   "execution_count": 11,
   "id": "bab970a4",
   "metadata": {
    "ExecuteTime": {
     "end_time": "2022-01-15T20:02:51.254278Z",
     "start_time": "2022-01-15T20:02:50.855087Z"
    }
   },
   "outputs": [],
   "source": [
    "year_mean = {\n",
    "    year: np.nanmean(home_prices_all[home_prices_all.Year == year].value.values.astype(float))\n",
    "    for year in home_prices_all.Year.unique()\n",
    "}"
   ]
  },
  {
   "cell_type": "code",
   "execution_count": 12,
   "id": "5684ccf2",
   "metadata": {
    "ExecuteTime": {
     "end_time": "2022-01-15T20:02:51.345752Z",
     "start_time": "2022-01-15T20:02:51.256948Z"
    }
   },
   "outputs": [
    {
     "name": "stderr",
     "output_type": "stream",
     "text": [
      "<ipython-input-12-ae14d8424f2a>:10: SettingWithCopyWarning: \n",
      "A value is trying to be set on a copy of a slice from a DataFrame.\n",
      "Try using .loc[row_indexer,col_indexer] = value instead\n",
      "\n",
      "See the caveats in the documentation: https://pandas.pydata.org/pandas-docs/stable/user_guide/indexing.html#returning-a-view-versus-a-copy\n",
      "  home_prices_regions[\"Year\"] = [get_year(i) for i in home_prices_regions.variable.values]\n",
      "<ipython-input-12-ae14d8424f2a>:11: SettingWithCopyWarning: \n",
      "A value is trying to be set on a copy of a slice from a DataFrame.\n",
      "Try using .loc[row_indexer,col_indexer] = value instead\n",
      "\n",
      "See the caveats in the documentation: https://pandas.pydata.org/pandas-docs/stable/user_guide/indexing.html#returning-a-view-versus-a-copy\n",
      "  home_prices_regions[\"relative_price\"] = [\n"
     ]
    },
    {
     "data": {
      "text/html": [
       "<div>\n",
       "<style scoped>\n",
       "    .dataframe tbody tr th:only-of-type {\n",
       "        vertical-align: middle;\n",
       "    }\n",
       "\n",
       "    .dataframe tbody tr th {\n",
       "        vertical-align: top;\n",
       "    }\n",
       "\n",
       "    .dataframe thead th {\n",
       "        text-align: right;\n",
       "    }\n",
       "</style>\n",
       "<table border=\"1\" class=\"dataframe\">\n",
       "  <thead>\n",
       "    <tr style=\"text-align: right;\">\n",
       "      <th></th>\n",
       "      <th>areaname22</th>\n",
       "      <th>variable</th>\n",
       "      <th>value</th>\n",
       "      <th>Year</th>\n",
       "      <th>relative_price</th>\n",
       "    </tr>\n",
       "  </thead>\n",
       "  <tbody>\n",
       "    <tr>\n",
       "      <th>11</th>\n",
       "      <td>San Diego-Carlsbad, CA MSA</td>\n",
       "      <td>fmr22_2</td>\n",
       "      <td>1979</td>\n",
       "      <td>2022</td>\n",
       "      <td>1.534985</td>\n",
       "    </tr>\n",
       "    <tr>\n",
       "      <th>12</th>\n",
       "      <td>San Francisco, CA HUD Metro FMR Area</td>\n",
       "      <td>fmr22_2</td>\n",
       "      <td>3198</td>\n",
       "      <td>2022</td>\n",
       "      <td>2.480486</td>\n",
       "    </tr>\n",
       "    <tr>\n",
       "      <th>13</th>\n",
       "      <td>Chicago-Joliet-Naperville, IL HUD Metro FMR Area</td>\n",
       "      <td>fmr22_2</td>\n",
       "      <td>1340</td>\n",
       "      <td>2022</td>\n",
       "      <td>1.039353</td>\n",
       "    </tr>\n",
       "    <tr>\n",
       "      <th>14</th>\n",
       "      <td>Baltimore-Columbia-Towson, MD MSA</td>\n",
       "      <td>fmr22_2</td>\n",
       "      <td>1395</td>\n",
       "      <td>2022</td>\n",
       "      <td>1.082013</td>\n",
       "    </tr>\n",
       "    <tr>\n",
       "      <th>15</th>\n",
       "      <td>Boston-Cambridge-Quincy, MA-NH HUD Metro FMR Area</td>\n",
       "      <td>fmr22_2</td>\n",
       "      <td>2205</td>\n",
       "      <td>2022</td>\n",
       "      <td>1.710279</td>\n",
       "    </tr>\n",
       "    <tr>\n",
       "      <th>...</th>\n",
       "      <td>...</td>\n",
       "      <td>...</td>\n",
       "      <td>...</td>\n",
       "      <td>...</td>\n",
       "      <td>...</td>\n",
       "    </tr>\n",
       "    <tr>\n",
       "      <th>1271</th>\n",
       "      <td>New York, NY HUD Metro FMR Area</td>\n",
       "      <td>fmr83_2</td>\n",
       "      <td>420.0</td>\n",
       "      <td>1983</td>\n",
       "      <td>1.048358</td>\n",
       "    </tr>\n",
       "    <tr>\n",
       "      <th>1272</th>\n",
       "      <td>Durham-Chapel Hill, NC HUD Metro FMR Area</td>\n",
       "      <td>fmr83_2</td>\n",
       "      <td>372.0</td>\n",
       "      <td>1983</td>\n",
       "      <td>0.928546</td>\n",
       "    </tr>\n",
       "    <tr>\n",
       "      <th>1273</th>\n",
       "      <td>Portland-Vancouver-Hillsboro, OR-WA MSA</td>\n",
       "      <td>fmr83_2</td>\n",
       "      <td>369.0</td>\n",
       "      <td>1983</td>\n",
       "      <td>0.921058</td>\n",
       "    </tr>\n",
       "    <tr>\n",
       "      <th>1274</th>\n",
       "      <td>Pittsburgh, PA HUD Metro FMR Area</td>\n",
       "      <td>fmr83_2</td>\n",
       "      <td>372.0</td>\n",
       "      <td>1983</td>\n",
       "      <td>0.928546</td>\n",
       "    </tr>\n",
       "    <tr>\n",
       "      <th>1275</th>\n",
       "      <td>Houston-The Woodlands-Sugar Land, TX HUD Metro...</td>\n",
       "      <td>fmr83_2</td>\n",
       "      <td>375.0</td>\n",
       "      <td>1983</td>\n",
       "      <td>0.936034</td>\n",
       "    </tr>\n",
       "  </tbody>\n",
       "</table>\n",
       "<p>429 rows × 5 columns</p>\n",
       "</div>"
      ],
      "text/plain": [
       "                                             areaname22 variable  value  Year  \\\n",
       "11                           San Diego-Carlsbad, CA MSA  fmr22_2   1979  2022   \n",
       "12                 San Francisco, CA HUD Metro FMR Area  fmr22_2   3198  2022   \n",
       "13     Chicago-Joliet-Naperville, IL HUD Metro FMR Area  fmr22_2   1340  2022   \n",
       "14                    Baltimore-Columbia-Towson, MD MSA  fmr22_2   1395  2022   \n",
       "15    Boston-Cambridge-Quincy, MA-NH HUD Metro FMR Area  fmr22_2   2205  2022   \n",
       "...                                                 ...      ...    ...   ...   \n",
       "1271                    New York, NY HUD Metro FMR Area  fmr83_2  420.0  1983   \n",
       "1272          Durham-Chapel Hill, NC HUD Metro FMR Area  fmr83_2  372.0  1983   \n",
       "1273            Portland-Vancouver-Hillsboro, OR-WA MSA  fmr83_2  369.0  1983   \n",
       "1274                  Pittsburgh, PA HUD Metro FMR Area  fmr83_2  372.0  1983   \n",
       "1275  Houston-The Woodlands-Sugar Land, TX HUD Metro...  fmr83_2  375.0  1983   \n",
       "\n",
       "      relative_price  \n",
       "11          1.534985  \n",
       "12          2.480486  \n",
       "13          1.039353  \n",
       "14          1.082013  \n",
       "15          1.710279  \n",
       "...              ...  \n",
       "1271        1.048358  \n",
       "1272        0.928546  \n",
       "1273        0.921058  \n",
       "1274        0.928546  \n",
       "1275        0.936034  \n",
       "\n",
       "[429 rows x 5 columns]"
      ]
     },
     "execution_count": 12,
     "metadata": {},
     "output_type": "execute_result"
    }
   ],
   "source": [
    "home_prices_regions = home_prices[home_prices.name.isin(regions)]\n",
    "home_prices_regions = home_prices_regions[home_prices_regions.cbsasub.isin(cba_subs)]\n",
    "# melt for year\n",
    "home_prices_regions_melt = home_prices_regions.melt(\n",
    "    id_vars=\"areaname22\", value_vars=home_prices_regions.columns[4:-7]\n",
    ")\n",
    "home_prices_regions = home_prices_regions_melt[\n",
    "    np.array([i[-2:] == \"_2\" for i in home_prices_regions_melt.variable.values])\n",
    "]\n",
    "home_prices_regions[\"Year\"] = [get_year(i) for i in home_prices_regions.variable.values]\n",
    "home_prices_regions[\"relative_price\"] = [\n",
    "    row.value / year_mean[row.Year] for idx, row in home_prices_regions.iterrows()\n",
    "]\n",
    "home_prices_regions"
   ]
  },
  {
   "cell_type": "code",
   "execution_count": 13,
   "id": "7d4d96cd",
   "metadata": {
    "ExecuteTime": {
     "end_time": "2022-01-15T20:02:51.364256Z",
     "start_time": "2022-01-15T20:02:51.347622Z"
    }
   },
   "outputs": [],
   "source": [
    "region_dict = {\n",
    "    \"San Diego-Carlsbad, CA MSA\": (\n",
    "        0.17254901960784313,\n",
    "        0.6274509803921569,\n",
    "        0.17254901960784313,\n",
    "    ),\n",
    "    \"San Francisco, CA HUD Metro FMR Area\": (\n",
    "        0.8392156862745098,\n",
    "        0.15294117647058825,\n",
    "        0.1568627450980392,\n",
    "    ),\n",
    "    \"Chicago-Joliet-Naperville, IL HUD Metro FMR Area\": (\n",
    "        0.5803921568627451,\n",
    "        0.403921568627451,\n",
    "        0.7411764705882353,\n",
    "    ),\n",
    "    \"Baltimore-Columbia-Towson, MD MSA\": (\n",
    "        0.8901960784313725,\n",
    "        0.4666666666666667,\n",
    "        0.7607843137254902,\n",
    "    ),\n",
    "    \"Boston-Cambridge-Quincy, MA-NH HUD Metro FMR Area\": (\n",
    "        0.12156862745098039,\n",
    "        0.4666666666666667,\n",
    "        0.7058823529411765,\n",
    "    ),\n",
    "    \"Ann Arbor, MI MSA\": (0.09019607843137255, 0.7450980392156863, 0.8117647058823529),\n",
    "    \"New York, NY HUD Metro FMR Area\": (1.0, 0.4980392156862745, 0.054901960784313725),\n",
    "    \"Durham-Chapel Hill, NC HUD Metro FMR Area\": (\n",
    "        0.6823529411764706,\n",
    "        0.7803921568627451,\n",
    "        0.9098039215686274,\n",
    "    ),\n",
    "    \"Portland-Vancouver-Hillsboro, OR-WA MSA\": (\n",
    "        0.4980392156862745,\n",
    "        0.4980392156862745,\n",
    "        0.4980392156862745,\n",
    "    ),\n",
    "    \"Pittsburgh, PA HUD Metro FMR Area\": (\n",
    "        0.5490196078431373,\n",
    "        0.33725490196078434,\n",
    "        0.29411764705882354,\n",
    "    ),\n",
    "    \"Houston-The Woodlands-Sugar Land, TX HUD Metro FMR Area\": (\n",
    "        0.7372549019607844,\n",
    "        0.7411764705882353,\n",
    "        0.13333333333333333,\n",
    "    ),\n",
    "}"
   ]
  },
  {
   "cell_type": "code",
   "execution_count": 14,
   "id": "13ce9925",
   "metadata": {
    "ExecuteTime": {
     "end_time": "2022-01-15T20:02:52.427874Z",
     "start_time": "2022-01-15T20:02:51.366037Z"
    }
   },
   "outputs": [
    {
     "data": {
      "image/png": "[encoded data removed]",
      "text/plain": [
       "<Figure size 216x288 with 1 Axes>"
      ]
     },
     "metadata": {
      "needs_background": "light"
     },
     "output_type": "display_data"
    }
   ],
   "source": [
    "import seaborn as sns\n",
    "\n",
    "fig, ax = plt.subplots(figsize=(3, 4))\n",
    "sns.lineplot(\n",
    "    data=home_prices_regions,\n",
    "    x=\"Year\",\n",
    "    y=\"relative_price\",\n",
    "    hue=\"areaname22\",\n",
    "    ax=ax,\n",
    "    lw=3,\n",
    "    palette=region_dict,\n",
    "    legend=False\n",
    ")\n",
    "#ax.legend(bbox_to_anchor=(1.04, 1), loc=\"upper left\")\n",
    "ax.set_xlim([1984, 2021])\n",
    "ax.set_xlabel('Year', fontsize=14)\n",
    "ax.set_ylabel(\"Fair Market Rent (div. US Avg)\", fontsize=14)\n",
    "ax.spines['bottom'].set_linewidth(4)\n",
    "ax.spines['top'].set_linewidth(4)\n",
    "ax.spines['left'].set_linewidth(4)\n",
    "ax.spines['right'].set_linewidth(4)\n",
    "ax.xaxis.set_tick_params(labelsize=12)\n",
    "ax.yaxis.set_tick_params(labelsize=12)\n",
    "ax.axhline(1, ls = 'dashed', lw=3, alpha = 0.5, color = 'k')\n",
    "\n",
    "\n",
    "save_fig(FIGURE_DIR / 'fair-market-rent-relative')"
   ]
  },
  {
   "cell_type": "code",
   "execution_count": 15,
   "id": "285ff3d7",
   "metadata": {
    "ExecuteTime": {
     "end_time": "2022-01-15T20:02:53.113080Z",
     "start_time": "2022-01-15T20:02:52.429669Z"
    }
   },
   "outputs": [
    {
     "data": {
      "image/png": "[encoded data removed]",
      "text/plain": [
       "<Figure size 216x288 with 1 Axes>"
      ]
     },
     "metadata": {
      "needs_background": "light"
     },
     "output_type": "display_data"
    }
   ],
   "source": [
    "fig, ax = plt.subplots(figsize=(3, 4))\n",
    "sns.lineplot(\n",
    "    data=home_prices_regions, x=\"Year\", y=\"value\", hue=\"areaname22\", ax=ax,\n",
    "    lw=3,\n",
    "    palette=region_dict,\n",
    "    legend=False\n",
    ")\n",
    "#ax.legend(bbox_to_anchor=(1.04, 1), loc=\"upper left\")\n",
    "ax.set_xlim([1984, 2021])\n",
    "ax.set_xlabel('Year', fontsize=14)\n",
    "ax.set_ylabel(\"Fair Market Rent\", fontsize=14)\n",
    "ax.spines['bottom'].set_linewidth(4)\n",
    "ax.spines['top'].set_linewidth(4)\n",
    "ax.spines['left'].set_linewidth(4)\n",
    "ax.spines['right'].set_linewidth(4)\n",
    "ax.xaxis.set_tick_params(labelsize=12)\n",
    "ax.yaxis.set_tick_params(labelsize=12)\n",
    "save_fig(FIGURE_DIR / 'fair-market-rent')"
   ]
  },
  {
   "cell_type": "markdown",
   "id": "28316c25",
   "metadata": {},
   "source": [
    "### Fair market rent in 2021 dollars"
   ]
  },
  {
   "cell_type": "code",
   "execution_count": 16,
   "id": "b5d65928",
   "metadata": {
    "ExecuteTime": {
     "end_time": "2022-01-15T20:02:53.134658Z",
     "start_time": "2022-01-15T20:02:53.114996Z"
    }
   },
   "outputs": [],
   "source": [
    "home_prices_regions.columns = ['MSA', 'var', \"price\", \"year\", \"relative_price\"]"
   ]
  },
  {
   "cell_type": "code",
   "execution_count": 17,
   "id": "596ef9d7",
   "metadata": {
    "ExecuteTime": {
     "end_time": "2022-01-15T20:02:53.153412Z",
     "start_time": "2022-01-15T20:02:53.136456Z"
    }
   },
   "outputs": [],
   "source": [
    "from datetime import date"
   ]
  },
  {
   "cell_type": "code",
   "execution_count": 18,
   "id": "e9a575ee",
   "metadata": {
    "ExecuteTime": {
     "end_time": "2022-01-15T20:03:19.905705Z",
     "start_time": "2022-01-15T20:02:53.155916Z"
    }
   },
   "outputs": [
    {
     "name": "stderr",
     "output_type": "stream",
     "text": [
      "/home/AD/tsainbur/anaconda3/envs/postdoc/lib/python3.8/site-packages/cpi/__init__.py:46: StaleDataWarning: CPI data is out of date. To accurately inflate to today's dollars, you must run `cpi.update()`.\n",
      "  warnings.warn(StaleDataWarning())\n"
     ]
    }
   ],
   "source": [
    "import cpi"
   ]
  },
  {
   "cell_type": "code",
   "execution_count": 19,
   "id": "bf5acbd7",
   "metadata": {
    "ExecuteTime": {
     "end_time": "2022-01-15T20:03:19.936485Z",
     "start_time": "2022-01-15T20:03:19.907689Z"
    }
   },
   "outputs": [
    {
     "data": {
      "text/html": [
       "<div>\n",
       "<style scoped>\n",
       "    .dataframe tbody tr th:only-of-type {\n",
       "        vertical-align: middle;\n",
       "    }\n",
       "\n",
       "    .dataframe tbody tr th {\n",
       "        vertical-align: top;\n",
       "    }\n",
       "\n",
       "    .dataframe thead th {\n",
       "        text-align: right;\n",
       "    }\n",
       "</style>\n",
       "<table border=\"1\" class=\"dataframe\">\n",
       "  <thead>\n",
       "    <tr style=\"text-align: right;\">\n",
       "      <th></th>\n",
       "      <th>MSA</th>\n",
       "      <th>var</th>\n",
       "      <th>price</th>\n",
       "      <th>year</th>\n",
       "      <th>relative_price</th>\n",
       "    </tr>\n",
       "  </thead>\n",
       "  <tbody>\n",
       "    <tr>\n",
       "      <th>11</th>\n",
       "      <td>San Diego-Carlsbad, CA MSA</td>\n",
       "      <td>fmr22_2</td>\n",
       "      <td>1979</td>\n",
       "      <td>2022</td>\n",
       "      <td>1.534985</td>\n",
       "    </tr>\n",
       "    <tr>\n",
       "      <th>12</th>\n",
       "      <td>San Francisco, CA HUD Metro FMR Area</td>\n",
       "      <td>fmr22_2</td>\n",
       "      <td>3198</td>\n",
       "      <td>2022</td>\n",
       "      <td>2.480486</td>\n",
       "    </tr>\n",
       "    <tr>\n",
       "      <th>13</th>\n",
       "      <td>Chicago-Joliet-Naperville, IL HUD Metro FMR Area</td>\n",
       "      <td>fmr22_2</td>\n",
       "      <td>1340</td>\n",
       "      <td>2022</td>\n",
       "      <td>1.039353</td>\n",
       "    </tr>\n",
       "  </tbody>\n",
       "</table>\n",
       "</div>"
      ],
      "text/plain": [
       "                                                 MSA      var price  year  \\\n",
       "11                        San Diego-Carlsbad, CA MSA  fmr22_2  1979  2022   \n",
       "12              San Francisco, CA HUD Metro FMR Area  fmr22_2  3198  2022   \n",
       "13  Chicago-Joliet-Naperville, IL HUD Metro FMR Area  fmr22_2  1340  2022   \n",
       "\n",
       "    relative_price  \n",
       "11        1.534985  \n",
       "12        2.480486  \n",
       "13        1.039353  "
      ]
     },
     "execution_count": 19,
     "metadata": {},
     "output_type": "execute_result"
    }
   ],
   "source": [
    "home_prices_regions[:3]"
   ]
  },
  {
   "cell_type": "code",
   "execution_count": 20,
   "id": "5f59fe8c",
   "metadata": {
    "ExecuteTime": {
     "end_time": "2022-01-15T20:03:20.015434Z",
     "start_time": "2022-01-15T20:03:19.938006Z"
    }
   },
   "outputs": [],
   "source": [
    "inflation_adjusted_price = []\n",
    "for idx, row in home_prices_regions.iterrows():\n",
    "    dollars_2021 = cpi.inflate(\n",
    "        row.price,\n",
    "        year_or_month=date(np.min([2021, row.year]), 1, 1),\n",
    "        to=date(2021, 1, 1),\n",
    "    )\n",
    "    inflation_adjusted_price.append(dollars_2021)"
   ]
  },
  {
   "cell_type": "code",
   "execution_count": 21,
   "id": "168cf9d8",
   "metadata": {
    "ExecuteTime": {
     "end_time": "2022-01-15T20:03:20.034572Z",
     "start_time": "2022-01-15T20:03:20.017044Z"
    }
   },
   "outputs": [
    {
     "name": "stderr",
     "output_type": "stream",
     "text": [
      "<ipython-input-21-50a0403df1e1>:1: SettingWithCopyWarning: \n",
      "A value is trying to be set on a copy of a slice from a DataFrame.\n",
      "Try using .loc[row_indexer,col_indexer] = value instead\n",
      "\n",
      "See the caveats in the documentation: https://pandas.pydata.org/pandas-docs/stable/user_guide/indexing.html#returning-a-view-versus-a-copy\n",
      "  home_prices_regions['inflation_adjusted_price_2021'] = inflation_adjusted_price\n"
     ]
    }
   ],
   "source": [
    "home_prices_regions['inflation_adjusted_price_2021'] = inflation_adjusted_price"
   ]
  },
  {
   "cell_type": "code",
   "execution_count": 28,
   "id": "7a62baae",
   "metadata": {
    "ExecuteTime": {
     "end_time": "2022-01-15T20:15:47.564471Z",
     "start_time": "2022-01-15T20:15:47.528757Z"
    }
   },
   "outputs": [
    {
     "data": {
      "text/html": [
       "<div>\n",
       "<style scoped>\n",
       "    .dataframe tbody tr th:only-of-type {\n",
       "        vertical-align: middle;\n",
       "    }\n",
       "\n",
       "    .dataframe tbody tr th {\n",
       "        vertical-align: top;\n",
       "    }\n",
       "\n",
       "    .dataframe thead th {\n",
       "        text-align: right;\n",
       "    }\n",
       "</style>\n",
       "<table border=\"1\" class=\"dataframe\">\n",
       "  <thead>\n",
       "    <tr style=\"text-align: right;\">\n",
       "      <th></th>\n",
       "      <th>MSA</th>\n",
       "      <th>var</th>\n",
       "      <th>price</th>\n",
       "      <th>year</th>\n",
       "      <th>relative_price</th>\n",
       "      <th>inflation_adjusted_price_2021</th>\n",
       "    </tr>\n",
       "  </thead>\n",
       "  <tbody>\n",
       "    <tr>\n",
       "      <th>11</th>\n",
       "      <td>San Diego-Carlsbad, CA MSA</td>\n",
       "      <td>fmr22_2</td>\n",
       "      <td>1979</td>\n",
       "      <td>2022</td>\n",
       "      <td>1.534985</td>\n",
       "      <td>1979.0</td>\n",
       "    </tr>\n",
       "    <tr>\n",
       "      <th>12</th>\n",
       "      <td>San Francisco, CA HUD Metro FMR Area</td>\n",
       "      <td>fmr22_2</td>\n",
       "      <td>3198</td>\n",
       "      <td>2022</td>\n",
       "      <td>2.480486</td>\n",
       "      <td>3198.0</td>\n",
       "    </tr>\n",
       "    <tr>\n",
       "      <th>13</th>\n",
       "      <td>Chicago-Joliet-Naperville, IL HUD Metro FMR Area</td>\n",
       "      <td>fmr22_2</td>\n",
       "      <td>1340</td>\n",
       "      <td>2022</td>\n",
       "      <td>1.039353</td>\n",
       "      <td>1340.0</td>\n",
       "    </tr>\n",
       "  </tbody>\n",
       "</table>\n",
       "</div>"
      ],
      "text/plain": [
       "                                                 MSA      var price  year  \\\n",
       "11                        San Diego-Carlsbad, CA MSA  fmr22_2  1979  2022   \n",
       "12              San Francisco, CA HUD Metro FMR Area  fmr22_2  3198  2022   \n",
       "13  Chicago-Joliet-Naperville, IL HUD Metro FMR Area  fmr22_2  1340  2022   \n",
       "\n",
       "    relative_price  inflation_adjusted_price_2021  \n",
       "11        1.534985                         1979.0  \n",
       "12        2.480486                         3198.0  \n",
       "13        1.039353                         1340.0  "
      ]
     },
     "execution_count": 28,
     "metadata": {},
     "output_type": "execute_result"
    }
   ],
   "source": [
    "home_prices_regions[:3]"
   ]
  },
  {
   "cell_type": "code",
   "execution_count": 26,
   "id": "3c331f95",
   "metadata": {
    "ExecuteTime": {
     "end_time": "2022-01-15T20:15:25.801897Z",
     "start_time": "2022-01-15T20:15:25.083098Z"
    }
   },
   "outputs": [
    {
     "data": {
      "image/png": "[encoded data removed]",
      "text/plain": [
       "<Figure size 432x216 with 1 Axes>"
      ]
     },
     "metadata": {
      "needs_background": "light"
     },
     "output_type": "display_data"
    }
   ],
   "source": [
    "fig, ax = plt.subplots(figsize=(6, 3))\n",
    "sns.lineplot(\n",
    "    data=home_prices_regions,\n",
    "    x=\"year\",\n",
    "    y=\"inflation_adjusted_price_2021\",\n",
    "    hue=\"MSA\",\n",
    "    ax=ax,\n",
    "    lw=3,\n",
    "    palette=region_dict,\n",
    "    legend=False\n",
    ")\n",
    "#ax.legend(bbox_to_anchor=(1.04, 1), loc=\"upper left\")\n",
    "ax.set_xlim([1984, 2021])\n",
    "ax.set_xlabel('Year', fontsize=14)\n",
    "ax.set_ylabel(\"Fair Market Rent \\n(inflation adjusted to 2021 USD)\", fontsize=14)\n",
    "ax.spines['bottom'].set_linewidth(4)\n",
    "ax.spines['top'].set_linewidth(4)\n",
    "ax.spines['left'].set_linewidth(4)\n",
    "ax.spines['right'].set_linewidth(4)\n",
    "ax.xaxis.set_tick_params(labelsize=12)\n",
    "ax.yaxis.set_tick_params(labelsize=12)\n",
    "#ax.axhline(1, ls = 'dashed', lw=3, alpha = 0.5, color = 'k')\n",
    "\n",
    "\n",
    "save_fig(FIGURE_DIR / 'fair-market-rent-inflation-adjusted')"
   ]
  },
  {
   "cell_type": "code",
   "execution_count": null,
   "id": "c5f7ca7e",
   "metadata": {},
   "outputs": [],
   "source": []
  }
 ],
 "metadata": {
  "kernelspec": {
   "display_name": "postdoc",
   "language": "python",
   "name": "postdoc"
  },
  "language_info": {
   "codemirror_mode": {
    "name": "ipython",
    "version": 3
   },
   "file_extension": ".py",
   "mimetype": "text/x-python",
   "name": "python",
   "nbconvert_exporter": "python",
   "pygments_lexer": "ipython3",
   "version": "3.8.12"
  }
 },
 "nbformat": 4,
 "nbformat_minor": 5
}
