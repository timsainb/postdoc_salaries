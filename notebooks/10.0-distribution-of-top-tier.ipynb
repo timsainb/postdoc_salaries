{
 "cells": [
  {
   "cell_type": "code",
   "execution_count": 1,
   "id": "713e5c81",
   "metadata": {
    "ExecuteTime": {
     "end_time": "2022-01-14T01:31:12.072493Z",
     "start_time": "2022-01-14T01:31:12.056811Z"
    }
   },
   "outputs": [],
   "source": [
    "%load_ext autoreload\n",
    "%autoreload 2"
   ]
  },
  {
   "cell_type": "code",
   "execution_count": 2,
   "id": "8fa73a66",
   "metadata": {
    "ExecuteTime": {
     "end_time": "2022-01-14T01:31:12.845676Z",
     "start_time": "2022-01-14T01:31:12.074801Z"
    }
   },
   "outputs": [
    {
     "name": "stderr",
     "output_type": "stream",
     "text": [
      "<ipython-input-2-57b724ca8b01>:5: TqdmExperimentalWarning: Using `tqdm.autonotebook.tqdm` in notebook mode. Use `tqdm.tqdm` instead to force console mode (e.g. in jupyter console)\n",
      "  from tqdm.autonotebook import tqdm\n"
     ]
    }
   ],
   "source": [
    "import numpy as np\n",
    "import pandas as pd\n",
    "import matplotlib.pyplot as plt\n",
    "%matplotlib inline\n",
    "from tqdm.autonotebook import tqdm\n",
    "from postdocsalary.paths import DATA_DIR, ensure_dir\n",
    "import urllib.request\n",
    "pd.set_option('display.max_columns', None)\n",
    "from postdocsalary.paths import save_fig, FIGURE_DIR"
   ]
  },
  {
   "cell_type": "code",
   "execution_count": 3,
   "id": "149120ee",
   "metadata": {
    "ExecuteTime": {
     "end_time": "2022-01-14T01:31:12.891842Z",
     "start_time": "2022-01-14T01:31:12.847974Z"
    }
   },
   "outputs": [],
   "source": [
    "university_df = pd.read_pickle(DATA_DIR/ 'university_ranking_salary.pickle')"
   ]
  },
  {
   "cell_type": "code",
   "execution_count": 4,
   "id": "9908cde4",
   "metadata": {
    "ExecuteTime": {
     "end_time": "2022-01-14T01:31:13.012563Z",
     "start_time": "2022-01-14T01:31:12.893779Z"
    }
   },
   "outputs": [
    {
     "data": {
      "text/html": [
       "<div>\n",
       "<style scoped>\n",
       "    .dataframe tbody tr th:only-of-type {\n",
       "        vertical-align: middle;\n",
       "    }\n",
       "\n",
       "    .dataframe tbody tr th {\n",
       "        vertical-align: top;\n",
       "    }\n",
       "\n",
       "    .dataframe thead th {\n",
       "        text-align: right;\n",
       "    }\n",
       "</style>\n",
       "<table border=\"1\" class=\"dataframe\">\n",
       "  <thead>\n",
       "    <tr style=\"text-align: right;\">\n",
       "      <th></th>\n",
       "      <th>World Rank</th>\n",
       "      <th>Institution</th>\n",
       "      <th>Country</th>\n",
       "      <th>National Rank</th>\n",
       "      <th>Quality of Education Rank</th>\n",
       "      <th>Alumni Employment Rank</th>\n",
       "      <th>Quality of Faculty Rank</th>\n",
       "      <th>Research Performance Rank</th>\n",
       "      <th>Score</th>\n",
       "      <th>UNITID</th>\n",
       "      <th>INSTNM</th>\n",
       "      <th>IALIAS</th>\n",
       "      <th>ADDR</th>\n",
       "      <th>CITY</th>\n",
       "      <th>STABBR</th>\n",
       "      <th>ZIP</th>\n",
       "      <th>FIPS</th>\n",
       "      <th>OBEREG</th>\n",
       "      <th>CHFNM</th>\n",
       "      <th>CHFTITLE</th>\n",
       "      <th>GENTELE</th>\n",
       "      <th>EIN</th>\n",
       "      <th>DUNS</th>\n",
       "      <th>OPEID</th>\n",
       "      <th>OPEFLAG</th>\n",
       "      <th>WEBADDR</th>\n",
       "      <th>ADMINURL</th>\n",
       "      <th>FAIDURL</th>\n",
       "      <th>APPLURL</th>\n",
       "      <th>NPRICURL</th>\n",
       "      <th>VETURL</th>\n",
       "      <th>ATHURL</th>\n",
       "      <th>DISAURL</th>\n",
       "      <th>SECTOR</th>\n",
       "      <th>ICLEVEL</th>\n",
       "      <th>CONTROL</th>\n",
       "      <th>HLOFFER</th>\n",
       "      <th>UGOFFER</th>\n",
       "      <th>GROFFER</th>\n",
       "      <th>HDEGOFR1</th>\n",
       "      <th>DEGGRANT</th>\n",
       "      <th>HBCU</th>\n",
       "      <th>HOSPITAL</th>\n",
       "      <th>MEDICAL</th>\n",
       "      <th>TRIBAL</th>\n",
       "      <th>LOCALE</th>\n",
       "      <th>OPENPUBL</th>\n",
       "      <th>ACT</th>\n",
       "      <th>NEWID</th>\n",
       "      <th>DEATHYR</th>\n",
       "      <th>CLOSEDAT</th>\n",
       "      <th>CYACTIVE</th>\n",
       "      <th>POSTSEC</th>\n",
       "      <th>PSEFLAG</th>\n",
       "      <th>PSET4FLG</th>\n",
       "      <th>RPTMTH</th>\n",
       "      <th>INSTCAT</th>\n",
       "      <th>C18BASIC</th>\n",
       "      <th>C18IPUG</th>\n",
       "      <th>C18IPGRD</th>\n",
       "      <th>C18UGPRF</th>\n",
       "      <th>C18ENPRF</th>\n",
       "      <th>C18SZSET</th>\n",
       "      <th>C15BASIC</th>\n",
       "      <th>CCBASIC</th>\n",
       "      <th>CARNEGIE</th>\n",
       "      <th>LANDGRNT</th>\n",
       "      <th>INSTSIZE</th>\n",
       "      <th>F1SYSTYP</th>\n",
       "      <th>F1SYSNAM</th>\n",
       "      <th>F1SYSCOD</th>\n",
       "      <th>CBSA</th>\n",
       "      <th>CBSATYPE</th>\n",
       "      <th>CSA</th>\n",
       "      <th>NECTA</th>\n",
       "      <th>COUNTYCD</th>\n",
       "      <th>COUNTYNM</th>\n",
       "      <th>CNGDSTCD</th>\n",
       "      <th>LONGITUD</th>\n",
       "      <th>LATITUDE</th>\n",
       "      <th>DFRCGID</th>\n",
       "      <th>DFRCUSCG</th>\n",
       "      <th>LONGITUDE</th>\n",
       "      <th>CBSA_NAME</th>\n",
       "      <th>RPP_all</th>\n",
       "      <th>MEDIAN_SALARY</th>\n",
       "      <th>N_SALARIES</th>\n",
       "      <th>MEDIAN_SALARY_UPPER</th>\n",
       "      <th>MEDIAN_SALARY_LOWER</th>\n",
       "      <th>REAL_MEDIAN_SALARY</th>\n",
       "      <th>REAL_MEDIAN_SALARY_UPPER</th>\n",
       "      <th>REAL_MEDIAN_SALARY_LOWER</th>\n",
       "    </tr>\n",
       "  </thead>\n",
       "  <tbody>\n",
       "    <tr>\n",
       "      <th>0</th>\n",
       "      <td>1.0</td>\n",
       "      <td>Harvard University</td>\n",
       "      <td>USA</td>\n",
       "      <td>1.0</td>\n",
       "      <td>1</td>\n",
       "      <td>1</td>\n",
       "      <td>1</td>\n",
       "      <td>1</td>\n",
       "      <td>100.0</td>\n",
       "      <td>166027.0</td>\n",
       "      <td>Harvard University</td>\n",
       "      <td></td>\n",
       "      <td>Massachusetts Hall</td>\n",
       "      <td>Cambridge</td>\n",
       "      <td>MA</td>\n",
       "      <td>02138</td>\n",
       "      <td>25.0</td>\n",
       "      <td>1.0</td>\n",
       "      <td>Lawrence S. Bacow</td>\n",
       "      <td>President</td>\n",
       "      <td>6174951000</td>\n",
       "      <td>42103580.0</td>\n",
       "      <td>082359691|149617367|047006379</td>\n",
       "      <td>215500.0</td>\n",
       "      <td>1.0</td>\n",
       "      <td>www.harvard.edu/</td>\n",
       "      <td>college.harvard.edu/admissions</td>\n",
       "      <td>college.harvard.edu/financial-aid</td>\n",
       "      <td>college.harvard.edu/admissions/application-pro...</td>\n",
       "      <td>college.harvard.edu/financial-aid/net-price-ca...</td>\n",
       "      <td>sfs.harvard.edu/veteran-military-benefits</td>\n",
       "      <td></td>\n",
       "      <td>accessibility.harvard.edu/</td>\n",
       "      <td>2.0</td>\n",
       "      <td>1.0</td>\n",
       "      <td>2.0</td>\n",
       "      <td>9.0</td>\n",
       "      <td>1.0</td>\n",
       "      <td>1.0</td>\n",
       "      <td>11.0</td>\n",
       "      <td>1.0</td>\n",
       "      <td>2.0</td>\n",
       "      <td>2.0</td>\n",
       "      <td>1.0</td>\n",
       "      <td>2.0</td>\n",
       "      <td>12.0</td>\n",
       "      <td>1.0</td>\n",
       "      <td>A</td>\n",
       "      <td>-2.0</td>\n",
       "      <td>-2.0</td>\n",
       "      <td>-2</td>\n",
       "      <td>1.0</td>\n",
       "      <td>1.0</td>\n",
       "      <td>1.0</td>\n",
       "      <td>1.0</td>\n",
       "      <td>1.0</td>\n",
       "      <td>2.0</td>\n",
       "      <td>15.0</td>\n",
       "      <td>8.0</td>\n",
       "      <td>14.0</td>\n",
       "      <td>14.0</td>\n",
       "      <td>6.0</td>\n",
       "      <td>17.0</td>\n",
       "      <td>15.0</td>\n",
       "      <td>15.0</td>\n",
       "      <td>15.0</td>\n",
       "      <td>2.0</td>\n",
       "      <td>5.0</td>\n",
       "      <td>2.0</td>\n",
       "      <td>-2</td>\n",
       "      <td>-2.0</td>\n",
       "      <td>14460</td>\n",
       "      <td>1</td>\n",
       "      <td>148</td>\n",
       "      <td>71650.0</td>\n",
       "      <td>25017</td>\n",
       "      <td>Middlesex County</td>\n",
       "      <td>2505.0</td>\n",
       "      <td>-71.118313</td>\n",
       "      <td>42.374471</td>\n",
       "      <td>96.0</td>\n",
       "      <td>1.0</td>\n",
       "      <td>-71.118313</td>\n",
       "      <td>Boston-Cambridge-Newton, MA-NH</td>\n",
       "      <td>115.5</td>\n",
       "      <td>55783.941620</td>\n",
       "      <td>493</td>\n",
       "      <td>56164.312487</td>\n",
       "      <td>55205.642506</td>\n",
       "      <td>48297.784952</td>\n",
       "      <td>48627.110378</td>\n",
       "      <td>47797.093079</td>\n",
       "    </tr>\n",
       "    <tr>\n",
       "      <th>1</th>\n",
       "      <td>2.0</td>\n",
       "      <td>Massachusetts Institute of Technology</td>\n",
       "      <td>USA</td>\n",
       "      <td>2.0</td>\n",
       "      <td>4</td>\n",
       "      <td>12</td>\n",
       "      <td>2</td>\n",
       "      <td>8</td>\n",
       "      <td>96.7</td>\n",
       "      <td>166683.0</td>\n",
       "      <td>Massachusetts Institute of Technology</td>\n",
       "      <td>MIT, M.I.T.</td>\n",
       "      <td>77 Massachusetts Avenue</td>\n",
       "      <td>Cambridge</td>\n",
       "      <td>MA</td>\n",
       "      <td>02139-4307</td>\n",
       "      <td>25.0</td>\n",
       "      <td>1.0</td>\n",
       "      <td>L. Rafael Reif</td>\n",
       "      <td>President</td>\n",
       "      <td>6172531000</td>\n",
       "      <td>42103594.0</td>\n",
       "      <td>001425594</td>\n",
       "      <td>217800.0</td>\n",
       "      <td>1.0</td>\n",
       "      <td>web.mit.edu/</td>\n",
       "      <td>https://mitadmissions.org/</td>\n",
       "      <td>https://sfs.mit.edu/</td>\n",
       "      <td>my.mit.edu/</td>\n",
       "      <td>https://sfs.mit.edu/undergraduate-students/our...</td>\n",
       "      <td>https://sfs.mit.edu/undergraduate-students/typ...</td>\n",
       "      <td></td>\n",
       "      <td>studentlife.mit.edu/das</td>\n",
       "      <td>2.0</td>\n",
       "      <td>1.0</td>\n",
       "      <td>2.0</td>\n",
       "      <td>9.0</td>\n",
       "      <td>1.0</td>\n",
       "      <td>1.0</td>\n",
       "      <td>12.0</td>\n",
       "      <td>1.0</td>\n",
       "      <td>2.0</td>\n",
       "      <td>2.0</td>\n",
       "      <td>2.0</td>\n",
       "      <td>2.0</td>\n",
       "      <td>12.0</td>\n",
       "      <td>1.0</td>\n",
       "      <td>A</td>\n",
       "      <td>-2.0</td>\n",
       "      <td>-2.0</td>\n",
       "      <td>-2</td>\n",
       "      <td>1.0</td>\n",
       "      <td>1.0</td>\n",
       "      <td>1.0</td>\n",
       "      <td>1.0</td>\n",
       "      <td>1.0</td>\n",
       "      <td>2.0</td>\n",
       "      <td>15.0</td>\n",
       "      <td>14.0</td>\n",
       "      <td>15.0</td>\n",
       "      <td>14.0</td>\n",
       "      <td>6.0</td>\n",
       "      <td>17.0</td>\n",
       "      <td>15.0</td>\n",
       "      <td>15.0</td>\n",
       "      <td>15.0</td>\n",
       "      <td>1.0</td>\n",
       "      <td>4.0</td>\n",
       "      <td>2.0</td>\n",
       "      <td>-2</td>\n",
       "      <td>-2.0</td>\n",
       "      <td>14460</td>\n",
       "      <td>1</td>\n",
       "      <td>148</td>\n",
       "      <td>71650.0</td>\n",
       "      <td>25017</td>\n",
       "      <td>Middlesex County</td>\n",
       "      <td>2507.0</td>\n",
       "      <td>-71.093226</td>\n",
       "      <td>42.359243</td>\n",
       "      <td>96.0</td>\n",
       "      <td>1.0</td>\n",
       "      <td>-71.093226</td>\n",
       "      <td>Boston-Cambridge-Newton, MA-NH</td>\n",
       "      <td>115.5</td>\n",
       "      <td>56659.816586</td>\n",
       "      <td>680</td>\n",
       "      <td>56952.349035</td>\n",
       "      <td>56164.312487</td>\n",
       "      <td>49056.118257</td>\n",
       "      <td>49309.393104</td>\n",
       "      <td>48627.110378</td>\n",
       "    </tr>\n",
       "    <tr>\n",
       "      <th>2</th>\n",
       "      <td>3.0</td>\n",
       "      <td>Stanford University</td>\n",
       "      <td>USA</td>\n",
       "      <td>3.0</td>\n",
       "      <td>10</td>\n",
       "      <td>4</td>\n",
       "      <td>3</td>\n",
       "      <td>2</td>\n",
       "      <td>95.1</td>\n",
       "      <td>243744.0</td>\n",
       "      <td>Stanford University</td>\n",
       "      <td></td>\n",
       "      <td></td>\n",
       "      <td>Stanford</td>\n",
       "      <td>CA</td>\n",
       "      <td>94305</td>\n",
       "      <td>6.0</td>\n",
       "      <td>8.0</td>\n",
       "      <td>Marc Tessier-Lavigne</td>\n",
       "      <td>President</td>\n",
       "      <td>6507232300</td>\n",
       "      <td>941156365.0</td>\n",
       "      <td>009214214</td>\n",
       "      <td>130500.0</td>\n",
       "      <td>1.0</td>\n",
       "      <td>www.stanford.edu/</td>\n",
       "      <td>admission.stanford.edu/</td>\n",
       "      <td>financialaid.stanford.edu/</td>\n",
       "      <td>commonapp.org/</td>\n",
       "      <td>www.stanford.edu/dept/finaid/undergrad/how/cal...</td>\n",
       "      <td>exploredegrees.stanford.edu/veterans/</td>\n",
       "      <td>parents.stanford.edu/2015/11/09/stanford-athle...</td>\n",
       "      <td>diversityandaccess.stanford.edu/disability-access</td>\n",
       "      <td>2.0</td>\n",
       "      <td>1.0</td>\n",
       "      <td>2.0</td>\n",
       "      <td>9.0</td>\n",
       "      <td>1.0</td>\n",
       "      <td>1.0</td>\n",
       "      <td>11.0</td>\n",
       "      <td>1.0</td>\n",
       "      <td>2.0</td>\n",
       "      <td>1.0</td>\n",
       "      <td>1.0</td>\n",
       "      <td>2.0</td>\n",
       "      <td>21.0</td>\n",
       "      <td>1.0</td>\n",
       "      <td>A</td>\n",
       "      <td>-2.0</td>\n",
       "      <td>-2.0</td>\n",
       "      <td>-2</td>\n",
       "      <td>1.0</td>\n",
       "      <td>1.0</td>\n",
       "      <td>1.0</td>\n",
       "      <td>1.0</td>\n",
       "      <td>1.0</td>\n",
       "      <td>2.0</td>\n",
       "      <td>15.0</td>\n",
       "      <td>11.0</td>\n",
       "      <td>14.0</td>\n",
       "      <td>14.0</td>\n",
       "      <td>6.0</td>\n",
       "      <td>17.0</td>\n",
       "      <td>15.0</td>\n",
       "      <td>15.0</td>\n",
       "      <td>15.0</td>\n",
       "      <td>2.0</td>\n",
       "      <td>4.0</td>\n",
       "      <td>2.0</td>\n",
       "      <td>-2</td>\n",
       "      <td>-2.0</td>\n",
       "      <td>41940</td>\n",
       "      <td>1</td>\n",
       "      <td>488</td>\n",
       "      <td>-2.0</td>\n",
       "      <td>6085</td>\n",
       "      <td>Santa Clara County</td>\n",
       "      <td>618.0</td>\n",
       "      <td>-122.167359</td>\n",
       "      <td>37.429434</td>\n",
       "      <td>96.0</td>\n",
       "      <td>1.0</td>\n",
       "      <td>-122.167359</td>\n",
       "      <td>San Jose-Sunnyvale-Santa Clara, CA</td>\n",
       "      <td>126.7</td>\n",
       "      <td>62476.603840</td>\n",
       "      <td>349</td>\n",
       "      <td>63319.925605</td>\n",
       "      <td>62352.688787</td>\n",
       "      <td>49310.658122</td>\n",
       "      <td>49976.263303</td>\n",
       "      <td>49212.856186</td>\n",
       "    </tr>\n",
       "    <tr>\n",
       "      <th>3</th>\n",
       "      <td>6.0</td>\n",
       "      <td>Princeton University</td>\n",
       "      <td>USA</td>\n",
       "      <td>4.0</td>\n",
       "      <td>5</td>\n",
       "      <td>15</td>\n",
       "      <td>7</td>\n",
       "      <td>70</td>\n",
       "      <td>92.6</td>\n",
       "      <td>186131.0</td>\n",
       "      <td>Princeton University</td>\n",
       "      <td></td>\n",
       "      <td>1 Nassau Hall</td>\n",
       "      <td>Princeton</td>\n",
       "      <td>NJ</td>\n",
       "      <td>08544-0070</td>\n",
       "      <td>34.0</td>\n",
       "      <td>2.0</td>\n",
       "      <td>Christopher L. Eisgruber</td>\n",
       "      <td>President</td>\n",
       "      <td>6092583000</td>\n",
       "      <td>210634501.0</td>\n",
       "      <td>002484665</td>\n",
       "      <td>262700.0</td>\n",
       "      <td>1.0</td>\n",
       "      <td>www.princeton.edu/</td>\n",
       "      <td></td>\n",
       "      <td></td>\n",
       "      <td></td>\n",
       "      <td>www.princeton.edu/admission/financialaid/estim...</td>\n",
       "      <td>registrar.princeton.edu/student-services/veter...</td>\n",
       "      <td>fs.ncaa.org/Docs/newmedia/public/rates/index.html</td>\n",
       "      <td>www.princeton.edu/ods/</td>\n",
       "      <td>2.0</td>\n",
       "      <td>1.0</td>\n",
       "      <td>2.0</td>\n",
       "      <td>9.0</td>\n",
       "      <td>1.0</td>\n",
       "      <td>1.0</td>\n",
       "      <td>12.0</td>\n",
       "      <td>1.0</td>\n",
       "      <td>2.0</td>\n",
       "      <td>2.0</td>\n",
       "      <td>2.0</td>\n",
       "      <td>2.0</td>\n",
       "      <td>13.0</td>\n",
       "      <td>1.0</td>\n",
       "      <td>A</td>\n",
       "      <td>-2.0</td>\n",
       "      <td>-2.0</td>\n",
       "      <td>-2</td>\n",
       "      <td>1.0</td>\n",
       "      <td>1.0</td>\n",
       "      <td>1.0</td>\n",
       "      <td>1.0</td>\n",
       "      <td>1.0</td>\n",
       "      <td>2.0</td>\n",
       "      <td>15.0</td>\n",
       "      <td>11.0</td>\n",
       "      <td>15.0</td>\n",
       "      <td>14.0</td>\n",
       "      <td>5.0</td>\n",
       "      <td>14.0</td>\n",
       "      <td>15.0</td>\n",
       "      <td>15.0</td>\n",
       "      <td>15.0</td>\n",
       "      <td>2.0</td>\n",
       "      <td>3.0</td>\n",
       "      <td>2.0</td>\n",
       "      <td>-2</td>\n",
       "      <td>-2.0</td>\n",
       "      <td>45940</td>\n",
       "      <td>1</td>\n",
       "      <td>408</td>\n",
       "      <td>-2.0</td>\n",
       "      <td>34021</td>\n",
       "      <td>Mercer County</td>\n",
       "      <td>3412.0</td>\n",
       "      <td>-74.659365</td>\n",
       "      <td>40.348732</td>\n",
       "      <td>96.0</td>\n",
       "      <td>2.0</td>\n",
       "      <td>-74.659365</td>\n",
       "      <td>Trenton-Princeton, NJ</td>\n",
       "      <td>106.2</td>\n",
       "      <td>52999.785469</td>\n",
       "      <td>446</td>\n",
       "      <td>53594.975712</td>\n",
       "      <td>52446.187347</td>\n",
       "      <td>49905.636035</td>\n",
       "      <td>50466.078825</td>\n",
       "      <td>49384.357200</td>\n",
       "    </tr>\n",
       "  </tbody>\n",
       "</table>\n",
       "</div>"
      ],
      "text/plain": [
       "   World Rank                            Institution Country  National Rank  \\\n",
       "0         1.0                     Harvard University     USA            1.0   \n",
       "1         2.0  Massachusetts Institute of Technology     USA            2.0   \n",
       "2         3.0                    Stanford University     USA            3.0   \n",
       "3         6.0                   Princeton University     USA            4.0   \n",
       "\n",
       "  Quality of Education Rank Alumni Employment Rank Quality of Faculty Rank  \\\n",
       "0                         1                      1                       1   \n",
       "1                         4                     12                       2   \n",
       "2                        10                      4                       3   \n",
       "3                         5                     15                       7   \n",
       "\n",
       "  Research Performance Rank  Score    UNITID  \\\n",
       "0                         1  100.0  166027.0   \n",
       "1                         8   96.7  166683.0   \n",
       "2                         2   95.1  243744.0   \n",
       "3                        70   92.6  186131.0   \n",
       "\n",
       "                                  INSTNM       IALIAS  \\\n",
       "0                     Harvard University                \n",
       "1  Massachusetts Institute of Technology  MIT, M.I.T.   \n",
       "2                    Stanford University                \n",
       "3                   Princeton University                \n",
       "\n",
       "                      ADDR       CITY STABBR         ZIP  FIPS  OBEREG  \\\n",
       "0       Massachusetts Hall  Cambridge     MA       02138  25.0     1.0   \n",
       "1  77 Massachusetts Avenue  Cambridge     MA  02139-4307  25.0     1.0   \n",
       "2                            Stanford     CA       94305   6.0     8.0   \n",
       "3            1 Nassau Hall  Princeton     NJ  08544-0070  34.0     2.0   \n",
       "\n",
       "                      CHFNM   CHFTITLE     GENTELE          EIN  \\\n",
       "0         Lawrence S. Bacow  President  6174951000   42103580.0   \n",
       "1            L. Rafael Reif  President  6172531000   42103594.0   \n",
       "2      Marc Tessier-Lavigne  President  6507232300  941156365.0   \n",
       "3  Christopher L. Eisgruber  President  6092583000  210634501.0   \n",
       "\n",
       "                            DUNS     OPEID  OPEFLAG             WEBADDR  \\\n",
       "0  082359691|149617367|047006379  215500.0      1.0    www.harvard.edu/   \n",
       "1                      001425594  217800.0      1.0        web.mit.edu/   \n",
       "2                      009214214  130500.0      1.0   www.stanford.edu/   \n",
       "3                      002484665  262700.0      1.0  www.princeton.edu/   \n",
       "\n",
       "                         ADMINURL                            FAIDURL  \\\n",
       "0  college.harvard.edu/admissions  college.harvard.edu/financial-aid   \n",
       "1      https://mitadmissions.org/               https://sfs.mit.edu/   \n",
       "2         admission.stanford.edu/         financialaid.stanford.edu/   \n",
       "3                                                                      \n",
       "\n",
       "                                             APPLURL  \\\n",
       "0  college.harvard.edu/admissions/application-pro...   \n",
       "1                                        my.mit.edu/   \n",
       "2                                     commonapp.org/   \n",
       "3                                                      \n",
       "\n",
       "                                            NPRICURL  \\\n",
       "0  college.harvard.edu/financial-aid/net-price-ca...   \n",
       "1  https://sfs.mit.edu/undergraduate-students/our...   \n",
       "2  www.stanford.edu/dept/finaid/undergrad/how/cal...   \n",
       "3  www.princeton.edu/admission/financialaid/estim...   \n",
       "\n",
       "                                              VETURL  \\\n",
       "0          sfs.harvard.edu/veteran-military-benefits   \n",
       "1  https://sfs.mit.edu/undergraduate-students/typ...   \n",
       "2              exploredegrees.stanford.edu/veterans/   \n",
       "3  registrar.princeton.edu/student-services/veter...   \n",
       "\n",
       "                                              ATHURL  \\\n",
       "0                                                      \n",
       "1                                                      \n",
       "2  parents.stanford.edu/2015/11/09/stanford-athle...   \n",
       "3  fs.ncaa.org/Docs/newmedia/public/rates/index.html   \n",
       "\n",
       "                                             DISAURL  SECTOR  ICLEVEL  \\\n",
       "0                         accessibility.harvard.edu/     2.0      1.0   \n",
       "1                            studentlife.mit.edu/das     2.0      1.0   \n",
       "2  diversityandaccess.stanford.edu/disability-access     2.0      1.0   \n",
       "3                             www.princeton.edu/ods/     2.0      1.0   \n",
       "\n",
       "   CONTROL  HLOFFER  UGOFFER  GROFFER  HDEGOFR1  DEGGRANT  HBCU  HOSPITAL  \\\n",
       "0      2.0      9.0      1.0      1.0      11.0       1.0   2.0       2.0   \n",
       "1      2.0      9.0      1.0      1.0      12.0       1.0   2.0       2.0   \n",
       "2      2.0      9.0      1.0      1.0      11.0       1.0   2.0       1.0   \n",
       "3      2.0      9.0      1.0      1.0      12.0       1.0   2.0       2.0   \n",
       "\n",
       "   MEDICAL  TRIBAL  LOCALE  OPENPUBL ACT  NEWID  DEATHYR CLOSEDAT  CYACTIVE  \\\n",
       "0      1.0     2.0    12.0       1.0  A    -2.0     -2.0       -2       1.0   \n",
       "1      2.0     2.0    12.0       1.0  A    -2.0     -2.0       -2       1.0   \n",
       "2      1.0     2.0    21.0       1.0  A    -2.0     -2.0       -2       1.0   \n",
       "3      2.0     2.0    13.0       1.0  A    -2.0     -2.0       -2       1.0   \n",
       "\n",
       "   POSTSEC  PSEFLAG  PSET4FLG  RPTMTH  INSTCAT  C18BASIC  C18IPUG  C18IPGRD  \\\n",
       "0      1.0      1.0       1.0     1.0      2.0      15.0      8.0      14.0   \n",
       "1      1.0      1.0       1.0     1.0      2.0      15.0     14.0      15.0   \n",
       "2      1.0      1.0       1.0     1.0      2.0      15.0     11.0      14.0   \n",
       "3      1.0      1.0       1.0     1.0      2.0      15.0     11.0      15.0   \n",
       "\n",
       "   C18UGPRF  C18ENPRF  C18SZSET  C15BASIC  CCBASIC  CARNEGIE  LANDGRNT  \\\n",
       "0      14.0       6.0      17.0      15.0     15.0      15.0       2.0   \n",
       "1      14.0       6.0      17.0      15.0     15.0      15.0       1.0   \n",
       "2      14.0       6.0      17.0      15.0     15.0      15.0       2.0   \n",
       "3      14.0       5.0      14.0      15.0     15.0      15.0       2.0   \n",
       "\n",
       "   INSTSIZE  F1SYSTYP F1SYSNAM  F1SYSCOD   CBSA  CBSATYPE  CSA    NECTA  \\\n",
       "0       5.0       2.0       -2      -2.0  14460         1  148  71650.0   \n",
       "1       4.0       2.0       -2      -2.0  14460         1  148  71650.0   \n",
       "2       4.0       2.0       -2      -2.0  41940         1  488     -2.0   \n",
       "3       3.0       2.0       -2      -2.0  45940         1  408     -2.0   \n",
       "\n",
       "   COUNTYCD            COUNTYNM  CNGDSTCD    LONGITUD   LATITUDE  DFRCGID  \\\n",
       "0     25017    Middlesex County    2505.0  -71.118313  42.374471     96.0   \n",
       "1     25017    Middlesex County    2507.0  -71.093226  42.359243     96.0   \n",
       "2      6085  Santa Clara County     618.0 -122.167359  37.429434     96.0   \n",
       "3     34021       Mercer County    3412.0  -74.659365  40.348732     96.0   \n",
       "\n",
       "   DFRCUSCG   LONGITUDE                           CBSA_NAME  RPP_all  \\\n",
       "0       1.0  -71.118313      Boston-Cambridge-Newton, MA-NH    115.5   \n",
       "1       1.0  -71.093226      Boston-Cambridge-Newton, MA-NH    115.5   \n",
       "2       1.0 -122.167359  San Jose-Sunnyvale-Santa Clara, CA    126.7   \n",
       "3       2.0  -74.659365               Trenton-Princeton, NJ    106.2   \n",
       "\n",
       "   MEDIAN_SALARY  N_SALARIES  MEDIAN_SALARY_UPPER  MEDIAN_SALARY_LOWER  \\\n",
       "0   55783.941620         493         56164.312487         55205.642506   \n",
       "1   56659.816586         680         56952.349035         56164.312487   \n",
       "2   62476.603840         349         63319.925605         62352.688787   \n",
       "3   52999.785469         446         53594.975712         52446.187347   \n",
       "\n",
       "   REAL_MEDIAN_SALARY  REAL_MEDIAN_SALARY_UPPER  REAL_MEDIAN_SALARY_LOWER  \n",
       "0        48297.784952              48627.110378              47797.093079  \n",
       "1        49056.118257              49309.393104              48627.110378  \n",
       "2        49310.658122              49976.263303              49212.856186  \n",
       "3        49905.636035              50466.078825              49384.357200  "
      ]
     },
     "execution_count": 4,
     "metadata": {},
     "output_type": "execute_result"
    }
   ],
   "source": [
    "university_df[:4]"
   ]
  },
  {
   "cell_type": "markdown",
   "id": "44486e90",
   "metadata": {},
   "source": [
    "### Threshold number of salaries"
   ]
  },
  {
   "cell_type": "code",
   "execution_count": 5,
   "id": "0f1fd73d",
   "metadata": {
    "ExecuteTime": {
     "end_time": "2022-01-14T01:31:13.029709Z",
     "start_time": "2022-01-14T01:31:13.014317Z"
    }
   },
   "outputs": [
    {
     "data": {
      "text/plain": [
       "28260"
      ]
     },
     "execution_count": 5,
     "metadata": {},
     "output_type": "execute_result"
    }
   ],
   "source": [
    "university_df.N_SALARIES.sum()"
   ]
  },
  {
   "cell_type": "code",
   "execution_count": 6,
   "id": "cc5fae8f",
   "metadata": {
    "ExecuteTime": {
     "end_time": "2022-01-14T01:31:13.045076Z",
     "start_time": "2022-01-14T01:31:13.031478Z"
    }
   },
   "outputs": [],
   "source": [
    "MIN_N_SALARIES = 25"
   ]
  },
  {
   "cell_type": "code",
   "execution_count": 7,
   "id": "fcc960df",
   "metadata": {
    "ExecuteTime": {
     "end_time": "2022-01-14T01:31:13.063557Z",
     "start_time": "2022-01-14T01:31:13.048284Z"
    }
   },
   "outputs": [
    {
     "data": {
      "text/plain": [
       "131"
      ]
     },
     "execution_count": 7,
     "metadata": {},
     "output_type": "execute_result"
    }
   ],
   "source": [
    "np.sum(university_df.N_SALARIES > MIN_N_SALARIES)"
   ]
  },
  {
   "cell_type": "code",
   "execution_count": 8,
   "id": "04203043",
   "metadata": {
    "ExecuteTime": {
     "end_time": "2022-01-14T01:31:13.085688Z",
     "start_time": "2022-01-14T01:31:13.065891Z"
    }
   },
   "outputs": [],
   "source": [
    "# \n",
    "university_df = university_df[university_df.N_SALARIES > MIN_N_SALARIES]"
   ]
  },
  {
   "cell_type": "code",
   "execution_count": 9,
   "id": "04a356bf",
   "metadata": {
    "ExecuteTime": {
     "end_time": "2022-01-14T01:31:13.102973Z",
     "start_time": "2022-01-14T01:31:13.087470Z"
    }
   },
   "outputs": [
    {
     "data": {
      "text/plain": [
       "27652"
      ]
     },
     "execution_count": 9,
     "metadata": {},
     "output_type": "execute_result"
    }
   ],
   "source": [
    "university_df.N_SALARIES.sum()"
   ]
  },
  {
   "cell_type": "code",
   "execution_count": 10,
   "id": "d31921d3",
   "metadata": {
    "ExecuteTime": {
     "end_time": "2022-01-14T01:31:13.558226Z",
     "start_time": "2022-01-14T01:31:13.104653Z"
    }
   },
   "outputs": [
    {
     "data": {
      "image/png": "[encoded data removed]",
      "text/plain": [
       "<Figure size 432x288 with 1 Axes>"
      ]
     },
     "metadata": {
      "needs_background": "light"
     },
     "output_type": "display_data"
    }
   ],
   "source": [
    "plt.hist(university_df.N_SALARIES, bins = 100);"
   ]
  },
  {
   "cell_type": "code",
   "execution_count": 11,
   "id": "5302c4eb",
   "metadata": {
    "ExecuteTime": {
     "end_time": "2022-01-14T01:31:13.582329Z",
     "start_time": "2022-01-14T01:31:13.560447Z"
    }
   },
   "outputs": [
    {
     "data": {
      "text/plain": [
       "27652"
      ]
     },
     "execution_count": 11,
     "metadata": {},
     "output_type": "execute_result"
    }
   ],
   "source": [
    "np.sum(university_df.N_SALARIES)"
   ]
  },
  {
   "cell_type": "markdown",
   "id": "d0460c21",
   "metadata": {},
   "source": [
    "### Compare median real salary in same regions as median postdoc salary"
   ]
  },
  {
   "cell_type": "code",
   "execution_count": 12,
   "id": "473b1eb0",
   "metadata": {
    "ExecuteTime": {
     "end_time": "2022-01-14T01:31:13.964346Z",
     "start_time": "2022-01-14T01:31:13.584110Z"
    }
   },
   "outputs": [],
   "source": [
    "import seaborn as sns"
   ]
  },
  {
   "cell_type": "code",
   "execution_count": 13,
   "id": "21f8cd55",
   "metadata": {
    "ExecuteTime": {
     "end_time": "2022-01-14T01:31:13.989322Z",
     "start_time": "2022-01-14T01:31:13.966335Z"
    }
   },
   "outputs": [],
   "source": [
    "median_salary_by_area = pd.read_pickle(DATA_DIR/ 'median_salary_by_area.pickle')"
   ]
  },
  {
   "cell_type": "code",
   "execution_count": 14,
   "id": "061c2b74",
   "metadata": {
    "ExecuteTime": {
     "end_time": "2022-01-14T01:31:14.019164Z",
     "start_time": "2022-01-14T01:31:13.991103Z"
    }
   },
   "outputs": [
    {
     "data": {
      "text/html": [
       "<div>\n",
       "<style scoped>\n",
       "    .dataframe tbody tr th:only-of-type {\n",
       "        vertical-align: middle;\n",
       "    }\n",
       "\n",
       "    .dataframe tbody tr th {\n",
       "        vertical-align: top;\n",
       "    }\n",
       "\n",
       "    .dataframe thead th {\n",
       "        text-align: right;\n",
       "    }\n",
       "</style>\n",
       "<table border=\"1\" class=\"dataframe\">\n",
       "  <thead>\n",
       "    <tr style=\"text-align: right;\">\n",
       "      <th></th>\n",
       "      <th>AREA</th>\n",
       "      <th>AREA_TITLE</th>\n",
       "      <th>median_annual</th>\n",
       "      <th>mean_annual</th>\n",
       "      <th>RPP</th>\n",
       "      <th>GeoFips</th>\n",
       "      <th>mean_scaled</th>\n",
       "      <th>median_scaled</th>\n",
       "    </tr>\n",
       "  </thead>\n",
       "  <tbody>\n",
       "    <tr>\n",
       "      <th>0</th>\n",
       "      <td>10180</td>\n",
       "      <td>Abilene, TX</td>\n",
       "      <td>34130.0</td>\n",
       "      <td>42930.0</td>\n",
       "      <td>90.3</td>\n",
       "      <td>10180</td>\n",
       "      <td>47541.528239</td>\n",
       "      <td>37796.234773</td>\n",
       "    </tr>\n",
       "    <tr>\n",
       "      <th>1</th>\n",
       "      <td>10420</td>\n",
       "      <td>Akron, OH</td>\n",
       "      <td>40440.0</td>\n",
       "      <td>51220.0</td>\n",
       "      <td>90.0</td>\n",
       "      <td>10420</td>\n",
       "      <td>56911.111111</td>\n",
       "      <td>44933.333333</td>\n",
       "    </tr>\n",
       "    <tr>\n",
       "      <th>2</th>\n",
       "      <td>10500</td>\n",
       "      <td>Albany, GA</td>\n",
       "      <td>32810.0</td>\n",
       "      <td>45060.0</td>\n",
       "      <td>82.8</td>\n",
       "      <td>10500</td>\n",
       "      <td>54420.289855</td>\n",
       "      <td>39625.603865</td>\n",
       "    </tr>\n",
       "  </tbody>\n",
       "</table>\n",
       "</div>"
      ],
      "text/plain": [
       "    AREA   AREA_TITLE  median_annual  mean_annual   RPP  GeoFips  \\\n",
       "0  10180  Abilene, TX        34130.0      42930.0  90.3    10180   \n",
       "1  10420    Akron, OH        40440.0      51220.0  90.0    10420   \n",
       "2  10500   Albany, GA        32810.0      45060.0  82.8    10500   \n",
       "\n",
       "    mean_scaled  median_scaled  \n",
       "0  47541.528239   37796.234773  \n",
       "1  56911.111111   44933.333333  \n",
       "2  54420.289855   39625.603865  "
      ]
     },
     "execution_count": 14,
     "metadata": {},
     "output_type": "execute_result"
    }
   ],
   "source": [
    "median_salary_by_area[:3]"
   ]
  },
  {
   "cell_type": "code",
   "execution_count": 15,
   "id": "68e4e021",
   "metadata": {
    "ExecuteTime": {
     "end_time": "2022-01-14T01:31:14.049490Z",
     "start_time": "2022-01-14T01:31:14.020842Z"
    }
   },
   "outputs": [],
   "source": [
    "university_df = university_df.merge(\n",
    "    median_salary_by_area[[\"GeoFips\", \"median_scaled\", \"mean_scaled\"]],\n",
    "    how=\"left\",\n",
    "    left_on=\"CBSA\",\n",
    "    right_on=\"GeoFips\",\n",
    ")"
   ]
  },
  {
   "cell_type": "code",
   "execution_count": 16,
   "id": "2070f360",
   "metadata": {
    "ExecuteTime": {
     "end_time": "2022-01-14T01:31:14.160031Z",
     "start_time": "2022-01-14T01:31:14.051211Z"
    }
   },
   "outputs": [
    {
     "data": {
      "text/html": [
       "<div>\n",
       "<style scoped>\n",
       "    .dataframe tbody tr th:only-of-type {\n",
       "        vertical-align: middle;\n",
       "    }\n",
       "\n",
       "    .dataframe tbody tr th {\n",
       "        vertical-align: top;\n",
       "    }\n",
       "\n",
       "    .dataframe thead th {\n",
       "        text-align: right;\n",
       "    }\n",
       "</style>\n",
       "<table border=\"1\" class=\"dataframe\">\n",
       "  <thead>\n",
       "    <tr style=\"text-align: right;\">\n",
       "      <th></th>\n",
       "      <th>World Rank</th>\n",
       "      <th>Institution</th>\n",
       "      <th>Country</th>\n",
       "      <th>National Rank</th>\n",
       "      <th>Quality of Education Rank</th>\n",
       "      <th>Alumni Employment Rank</th>\n",
       "      <th>Quality of Faculty Rank</th>\n",
       "      <th>Research Performance Rank</th>\n",
       "      <th>Score</th>\n",
       "      <th>UNITID</th>\n",
       "      <th>INSTNM</th>\n",
       "      <th>IALIAS</th>\n",
       "      <th>ADDR</th>\n",
       "      <th>CITY</th>\n",
       "      <th>STABBR</th>\n",
       "      <th>ZIP</th>\n",
       "      <th>FIPS</th>\n",
       "      <th>OBEREG</th>\n",
       "      <th>CHFNM</th>\n",
       "      <th>CHFTITLE</th>\n",
       "      <th>GENTELE</th>\n",
       "      <th>EIN</th>\n",
       "      <th>DUNS</th>\n",
       "      <th>OPEID</th>\n",
       "      <th>OPEFLAG</th>\n",
       "      <th>WEBADDR</th>\n",
       "      <th>ADMINURL</th>\n",
       "      <th>FAIDURL</th>\n",
       "      <th>APPLURL</th>\n",
       "      <th>NPRICURL</th>\n",
       "      <th>VETURL</th>\n",
       "      <th>ATHURL</th>\n",
       "      <th>DISAURL</th>\n",
       "      <th>SECTOR</th>\n",
       "      <th>ICLEVEL</th>\n",
       "      <th>CONTROL</th>\n",
       "      <th>HLOFFER</th>\n",
       "      <th>UGOFFER</th>\n",
       "      <th>GROFFER</th>\n",
       "      <th>HDEGOFR1</th>\n",
       "      <th>DEGGRANT</th>\n",
       "      <th>HBCU</th>\n",
       "      <th>HOSPITAL</th>\n",
       "      <th>MEDICAL</th>\n",
       "      <th>TRIBAL</th>\n",
       "      <th>LOCALE</th>\n",
       "      <th>OPENPUBL</th>\n",
       "      <th>ACT</th>\n",
       "      <th>NEWID</th>\n",
       "      <th>DEATHYR</th>\n",
       "      <th>CLOSEDAT</th>\n",
       "      <th>CYACTIVE</th>\n",
       "      <th>POSTSEC</th>\n",
       "      <th>PSEFLAG</th>\n",
       "      <th>PSET4FLG</th>\n",
       "      <th>RPTMTH</th>\n",
       "      <th>INSTCAT</th>\n",
       "      <th>C18BASIC</th>\n",
       "      <th>C18IPUG</th>\n",
       "      <th>C18IPGRD</th>\n",
       "      <th>C18UGPRF</th>\n",
       "      <th>C18ENPRF</th>\n",
       "      <th>C18SZSET</th>\n",
       "      <th>C15BASIC</th>\n",
       "      <th>CCBASIC</th>\n",
       "      <th>CARNEGIE</th>\n",
       "      <th>LANDGRNT</th>\n",
       "      <th>INSTSIZE</th>\n",
       "      <th>F1SYSTYP</th>\n",
       "      <th>F1SYSNAM</th>\n",
       "      <th>F1SYSCOD</th>\n",
       "      <th>CBSA</th>\n",
       "      <th>CBSATYPE</th>\n",
       "      <th>CSA</th>\n",
       "      <th>NECTA</th>\n",
       "      <th>COUNTYCD</th>\n",
       "      <th>COUNTYNM</th>\n",
       "      <th>CNGDSTCD</th>\n",
       "      <th>LONGITUD</th>\n",
       "      <th>LATITUDE</th>\n",
       "      <th>DFRCGID</th>\n",
       "      <th>DFRCUSCG</th>\n",
       "      <th>LONGITUDE</th>\n",
       "      <th>CBSA_NAME</th>\n",
       "      <th>RPP_all</th>\n",
       "      <th>MEDIAN_SALARY</th>\n",
       "      <th>N_SALARIES</th>\n",
       "      <th>MEDIAN_SALARY_UPPER</th>\n",
       "      <th>MEDIAN_SALARY_LOWER</th>\n",
       "      <th>REAL_MEDIAN_SALARY</th>\n",
       "      <th>REAL_MEDIAN_SALARY_UPPER</th>\n",
       "      <th>REAL_MEDIAN_SALARY_LOWER</th>\n",
       "      <th>GeoFips</th>\n",
       "      <th>median_scaled</th>\n",
       "      <th>mean_scaled</th>\n",
       "    </tr>\n",
       "  </thead>\n",
       "  <tbody>\n",
       "    <tr>\n",
       "      <th>0</th>\n",
       "      <td>1.0</td>\n",
       "      <td>Harvard University</td>\n",
       "      <td>USA</td>\n",
       "      <td>1.0</td>\n",
       "      <td>1</td>\n",
       "      <td>1</td>\n",
       "      <td>1</td>\n",
       "      <td>1</td>\n",
       "      <td>100.0</td>\n",
       "      <td>166027.0</td>\n",
       "      <td>Harvard University</td>\n",
       "      <td></td>\n",
       "      <td>Massachusetts Hall</td>\n",
       "      <td>Cambridge</td>\n",
       "      <td>MA</td>\n",
       "      <td>02138</td>\n",
       "      <td>25.0</td>\n",
       "      <td>1.0</td>\n",
       "      <td>Lawrence S. Bacow</td>\n",
       "      <td>President</td>\n",
       "      <td>6174951000</td>\n",
       "      <td>42103580.0</td>\n",
       "      <td>082359691|149617367|047006379</td>\n",
       "      <td>215500.0</td>\n",
       "      <td>1.0</td>\n",
       "      <td>www.harvard.edu/</td>\n",
       "      <td>college.harvard.edu/admissions</td>\n",
       "      <td>college.harvard.edu/financial-aid</td>\n",
       "      <td>college.harvard.edu/admissions/application-pro...</td>\n",
       "      <td>college.harvard.edu/financial-aid/net-price-ca...</td>\n",
       "      <td>sfs.harvard.edu/veteran-military-benefits</td>\n",
       "      <td></td>\n",
       "      <td>accessibility.harvard.edu/</td>\n",
       "      <td>2.0</td>\n",
       "      <td>1.0</td>\n",
       "      <td>2.0</td>\n",
       "      <td>9.0</td>\n",
       "      <td>1.0</td>\n",
       "      <td>1.0</td>\n",
       "      <td>11.0</td>\n",
       "      <td>1.0</td>\n",
       "      <td>2.0</td>\n",
       "      <td>2.0</td>\n",
       "      <td>1.0</td>\n",
       "      <td>2.0</td>\n",
       "      <td>12.0</td>\n",
       "      <td>1.0</td>\n",
       "      <td>A</td>\n",
       "      <td>-2.0</td>\n",
       "      <td>-2.0</td>\n",
       "      <td>-2</td>\n",
       "      <td>1.0</td>\n",
       "      <td>1.0</td>\n",
       "      <td>1.0</td>\n",
       "      <td>1.0</td>\n",
       "      <td>1.0</td>\n",
       "      <td>2.0</td>\n",
       "      <td>15.0</td>\n",
       "      <td>8.0</td>\n",
       "      <td>14.0</td>\n",
       "      <td>14.0</td>\n",
       "      <td>6.0</td>\n",
       "      <td>17.0</td>\n",
       "      <td>15.0</td>\n",
       "      <td>15.0</td>\n",
       "      <td>15.0</td>\n",
       "      <td>2.0</td>\n",
       "      <td>5.0</td>\n",
       "      <td>2.0</td>\n",
       "      <td>-2</td>\n",
       "      <td>-2.0</td>\n",
       "      <td>14460</td>\n",
       "      <td>1</td>\n",
       "      <td>148</td>\n",
       "      <td>71650.0</td>\n",
       "      <td>25017</td>\n",
       "      <td>Middlesex County</td>\n",
       "      <td>2505.0</td>\n",
       "      <td>-71.118313</td>\n",
       "      <td>42.374471</td>\n",
       "      <td>96.0</td>\n",
       "      <td>1.0</td>\n",
       "      <td>-71.118313</td>\n",
       "      <td>Boston-Cambridge-Newton, MA-NH</td>\n",
       "      <td>115.5</td>\n",
       "      <td>55783.941620</td>\n",
       "      <td>493</td>\n",
       "      <td>56164.312487</td>\n",
       "      <td>55205.642506</td>\n",
       "      <td>48297.784952</td>\n",
       "      <td>48627.110378</td>\n",
       "      <td>47797.093079</td>\n",
       "      <td>NaN</td>\n",
       "      <td>NaN</td>\n",
       "      <td>NaN</td>\n",
       "    </tr>\n",
       "    <tr>\n",
       "      <th>1</th>\n",
       "      <td>2.0</td>\n",
       "      <td>Massachusetts Institute of Technology</td>\n",
       "      <td>USA</td>\n",
       "      <td>2.0</td>\n",
       "      <td>4</td>\n",
       "      <td>12</td>\n",
       "      <td>2</td>\n",
       "      <td>8</td>\n",
       "      <td>96.7</td>\n",
       "      <td>166683.0</td>\n",
       "      <td>Massachusetts Institute of Technology</td>\n",
       "      <td>MIT, M.I.T.</td>\n",
       "      <td>77 Massachusetts Avenue</td>\n",
       "      <td>Cambridge</td>\n",
       "      <td>MA</td>\n",
       "      <td>02139-4307</td>\n",
       "      <td>25.0</td>\n",
       "      <td>1.0</td>\n",
       "      <td>L. Rafael Reif</td>\n",
       "      <td>President</td>\n",
       "      <td>6172531000</td>\n",
       "      <td>42103594.0</td>\n",
       "      <td>001425594</td>\n",
       "      <td>217800.0</td>\n",
       "      <td>1.0</td>\n",
       "      <td>web.mit.edu/</td>\n",
       "      <td>https://mitadmissions.org/</td>\n",
       "      <td>https://sfs.mit.edu/</td>\n",
       "      <td>my.mit.edu/</td>\n",
       "      <td>https://sfs.mit.edu/undergraduate-students/our...</td>\n",
       "      <td>https://sfs.mit.edu/undergraduate-students/typ...</td>\n",
       "      <td></td>\n",
       "      <td>studentlife.mit.edu/das</td>\n",
       "      <td>2.0</td>\n",
       "      <td>1.0</td>\n",
       "      <td>2.0</td>\n",
       "      <td>9.0</td>\n",
       "      <td>1.0</td>\n",
       "      <td>1.0</td>\n",
       "      <td>12.0</td>\n",
       "      <td>1.0</td>\n",
       "      <td>2.0</td>\n",
       "      <td>2.0</td>\n",
       "      <td>2.0</td>\n",
       "      <td>2.0</td>\n",
       "      <td>12.0</td>\n",
       "      <td>1.0</td>\n",
       "      <td>A</td>\n",
       "      <td>-2.0</td>\n",
       "      <td>-2.0</td>\n",
       "      <td>-2</td>\n",
       "      <td>1.0</td>\n",
       "      <td>1.0</td>\n",
       "      <td>1.0</td>\n",
       "      <td>1.0</td>\n",
       "      <td>1.0</td>\n",
       "      <td>2.0</td>\n",
       "      <td>15.0</td>\n",
       "      <td>14.0</td>\n",
       "      <td>15.0</td>\n",
       "      <td>14.0</td>\n",
       "      <td>6.0</td>\n",
       "      <td>17.0</td>\n",
       "      <td>15.0</td>\n",
       "      <td>15.0</td>\n",
       "      <td>15.0</td>\n",
       "      <td>1.0</td>\n",
       "      <td>4.0</td>\n",
       "      <td>2.0</td>\n",
       "      <td>-2</td>\n",
       "      <td>-2.0</td>\n",
       "      <td>14460</td>\n",
       "      <td>1</td>\n",
       "      <td>148</td>\n",
       "      <td>71650.0</td>\n",
       "      <td>25017</td>\n",
       "      <td>Middlesex County</td>\n",
       "      <td>2507.0</td>\n",
       "      <td>-71.093226</td>\n",
       "      <td>42.359243</td>\n",
       "      <td>96.0</td>\n",
       "      <td>1.0</td>\n",
       "      <td>-71.093226</td>\n",
       "      <td>Boston-Cambridge-Newton, MA-NH</td>\n",
       "      <td>115.5</td>\n",
       "      <td>56659.816586</td>\n",
       "      <td>680</td>\n",
       "      <td>56952.349035</td>\n",
       "      <td>56164.312487</td>\n",
       "      <td>49056.118257</td>\n",
       "      <td>49309.393104</td>\n",
       "      <td>48627.110378</td>\n",
       "      <td>NaN</td>\n",
       "      <td>NaN</td>\n",
       "      <td>NaN</td>\n",
       "    </tr>\n",
       "    <tr>\n",
       "      <th>2</th>\n",
       "      <td>3.0</td>\n",
       "      <td>Stanford University</td>\n",
       "      <td>USA</td>\n",
       "      <td>3.0</td>\n",
       "      <td>10</td>\n",
       "      <td>4</td>\n",
       "      <td>3</td>\n",
       "      <td>2</td>\n",
       "      <td>95.1</td>\n",
       "      <td>243744.0</td>\n",
       "      <td>Stanford University</td>\n",
       "      <td></td>\n",
       "      <td></td>\n",
       "      <td>Stanford</td>\n",
       "      <td>CA</td>\n",
       "      <td>94305</td>\n",
       "      <td>6.0</td>\n",
       "      <td>8.0</td>\n",
       "      <td>Marc Tessier-Lavigne</td>\n",
       "      <td>President</td>\n",
       "      <td>6507232300</td>\n",
       "      <td>941156365.0</td>\n",
       "      <td>009214214</td>\n",
       "      <td>130500.0</td>\n",
       "      <td>1.0</td>\n",
       "      <td>www.stanford.edu/</td>\n",
       "      <td>admission.stanford.edu/</td>\n",
       "      <td>financialaid.stanford.edu/</td>\n",
       "      <td>commonapp.org/</td>\n",
       "      <td>www.stanford.edu/dept/finaid/undergrad/how/cal...</td>\n",
       "      <td>exploredegrees.stanford.edu/veterans/</td>\n",
       "      <td>parents.stanford.edu/2015/11/09/stanford-athle...</td>\n",
       "      <td>diversityandaccess.stanford.edu/disability-access</td>\n",
       "      <td>2.0</td>\n",
       "      <td>1.0</td>\n",
       "      <td>2.0</td>\n",
       "      <td>9.0</td>\n",
       "      <td>1.0</td>\n",
       "      <td>1.0</td>\n",
       "      <td>11.0</td>\n",
       "      <td>1.0</td>\n",
       "      <td>2.0</td>\n",
       "      <td>1.0</td>\n",
       "      <td>1.0</td>\n",
       "      <td>2.0</td>\n",
       "      <td>21.0</td>\n",
       "      <td>1.0</td>\n",
       "      <td>A</td>\n",
       "      <td>-2.0</td>\n",
       "      <td>-2.0</td>\n",
       "      <td>-2</td>\n",
       "      <td>1.0</td>\n",
       "      <td>1.0</td>\n",
       "      <td>1.0</td>\n",
       "      <td>1.0</td>\n",
       "      <td>1.0</td>\n",
       "      <td>2.0</td>\n",
       "      <td>15.0</td>\n",
       "      <td>11.0</td>\n",
       "      <td>14.0</td>\n",
       "      <td>14.0</td>\n",
       "      <td>6.0</td>\n",
       "      <td>17.0</td>\n",
       "      <td>15.0</td>\n",
       "      <td>15.0</td>\n",
       "      <td>15.0</td>\n",
       "      <td>2.0</td>\n",
       "      <td>4.0</td>\n",
       "      <td>2.0</td>\n",
       "      <td>-2</td>\n",
       "      <td>-2.0</td>\n",
       "      <td>41940</td>\n",
       "      <td>1</td>\n",
       "      <td>488</td>\n",
       "      <td>-2.0</td>\n",
       "      <td>6085</td>\n",
       "      <td>Santa Clara County</td>\n",
       "      <td>618.0</td>\n",
       "      <td>-122.167359</td>\n",
       "      <td>37.429434</td>\n",
       "      <td>96.0</td>\n",
       "      <td>1.0</td>\n",
       "      <td>-122.167359</td>\n",
       "      <td>San Jose-Sunnyvale-Santa Clara, CA</td>\n",
       "      <td>126.7</td>\n",
       "      <td>62476.603840</td>\n",
       "      <td>349</td>\n",
       "      <td>63319.925605</td>\n",
       "      <td>62352.688787</td>\n",
       "      <td>49310.658122</td>\n",
       "      <td>49976.263303</td>\n",
       "      <td>49212.856186</td>\n",
       "      <td>41940.0</td>\n",
       "      <td>54948.697711</td>\n",
       "      <td>73756.906077</td>\n",
       "    </tr>\n",
       "  </tbody>\n",
       "</table>\n",
       "</div>"
      ],
      "text/plain": [
       "   World Rank                            Institution Country  National Rank  \\\n",
       "0         1.0                     Harvard University     USA            1.0   \n",
       "1         2.0  Massachusetts Institute of Technology     USA            2.0   \n",
       "2         3.0                    Stanford University     USA            3.0   \n",
       "\n",
       "  Quality of Education Rank Alumni Employment Rank Quality of Faculty Rank  \\\n",
       "0                         1                      1                       1   \n",
       "1                         4                     12                       2   \n",
       "2                        10                      4                       3   \n",
       "\n",
       "  Research Performance Rank  Score    UNITID  \\\n",
       "0                         1  100.0  166027.0   \n",
       "1                         8   96.7  166683.0   \n",
       "2                         2   95.1  243744.0   \n",
       "\n",
       "                                  INSTNM       IALIAS  \\\n",
       "0                     Harvard University                \n",
       "1  Massachusetts Institute of Technology  MIT, M.I.T.   \n",
       "2                    Stanford University                \n",
       "\n",
       "                      ADDR       CITY STABBR         ZIP  FIPS  OBEREG  \\\n",
       "0       Massachusetts Hall  Cambridge     MA       02138  25.0     1.0   \n",
       "1  77 Massachusetts Avenue  Cambridge     MA  02139-4307  25.0     1.0   \n",
       "2                            Stanford     CA       94305   6.0     8.0   \n",
       "\n",
       "                  CHFNM   CHFTITLE     GENTELE          EIN  \\\n",
       "0     Lawrence S. Bacow  President  6174951000   42103580.0   \n",
       "1        L. Rafael Reif  President  6172531000   42103594.0   \n",
       "2  Marc Tessier-Lavigne  President  6507232300  941156365.0   \n",
       "\n",
       "                            DUNS     OPEID  OPEFLAG            WEBADDR  \\\n",
       "0  082359691|149617367|047006379  215500.0      1.0   www.harvard.edu/   \n",
       "1                      001425594  217800.0      1.0       web.mit.edu/   \n",
       "2                      009214214  130500.0      1.0  www.stanford.edu/   \n",
       "\n",
       "                         ADMINURL                            FAIDURL  \\\n",
       "0  college.harvard.edu/admissions  college.harvard.edu/financial-aid   \n",
       "1      https://mitadmissions.org/               https://sfs.mit.edu/   \n",
       "2         admission.stanford.edu/         financialaid.stanford.edu/   \n",
       "\n",
       "                                             APPLURL  \\\n",
       "0  college.harvard.edu/admissions/application-pro...   \n",
       "1                                        my.mit.edu/   \n",
       "2                                     commonapp.org/   \n",
       "\n",
       "                                            NPRICURL  \\\n",
       "0  college.harvard.edu/financial-aid/net-price-ca...   \n",
       "1  https://sfs.mit.edu/undergraduate-students/our...   \n",
       "2  www.stanford.edu/dept/finaid/undergrad/how/cal...   \n",
       "\n",
       "                                              VETURL  \\\n",
       "0          sfs.harvard.edu/veteran-military-benefits   \n",
       "1  https://sfs.mit.edu/undergraduate-students/typ...   \n",
       "2              exploredegrees.stanford.edu/veterans/   \n",
       "\n",
       "                                              ATHURL  \\\n",
       "0                                                      \n",
       "1                                                      \n",
       "2  parents.stanford.edu/2015/11/09/stanford-athle...   \n",
       "\n",
       "                                             DISAURL  SECTOR  ICLEVEL  \\\n",
       "0                         accessibility.harvard.edu/     2.0      1.0   \n",
       "1                            studentlife.mit.edu/das     2.0      1.0   \n",
       "2  diversityandaccess.stanford.edu/disability-access     2.0      1.0   \n",
       "\n",
       "   CONTROL  HLOFFER  UGOFFER  GROFFER  HDEGOFR1  DEGGRANT  HBCU  HOSPITAL  \\\n",
       "0      2.0      9.0      1.0      1.0      11.0       1.0   2.0       2.0   \n",
       "1      2.0      9.0      1.0      1.0      12.0       1.0   2.0       2.0   \n",
       "2      2.0      9.0      1.0      1.0      11.0       1.0   2.0       1.0   \n",
       "\n",
       "   MEDICAL  TRIBAL  LOCALE  OPENPUBL ACT  NEWID  DEATHYR CLOSEDAT  CYACTIVE  \\\n",
       "0      1.0     2.0    12.0       1.0  A    -2.0     -2.0       -2       1.0   \n",
       "1      2.0     2.0    12.0       1.0  A    -2.0     -2.0       -2       1.0   \n",
       "2      1.0     2.0    21.0       1.0  A    -2.0     -2.0       -2       1.0   \n",
       "\n",
       "   POSTSEC  PSEFLAG  PSET4FLG  RPTMTH  INSTCAT  C18BASIC  C18IPUG  C18IPGRD  \\\n",
       "0      1.0      1.0       1.0     1.0      2.0      15.0      8.0      14.0   \n",
       "1      1.0      1.0       1.0     1.0      2.0      15.0     14.0      15.0   \n",
       "2      1.0      1.0       1.0     1.0      2.0      15.0     11.0      14.0   \n",
       "\n",
       "   C18UGPRF  C18ENPRF  C18SZSET  C15BASIC  CCBASIC  CARNEGIE  LANDGRNT  \\\n",
       "0      14.0       6.0      17.0      15.0     15.0      15.0       2.0   \n",
       "1      14.0       6.0      17.0      15.0     15.0      15.0       1.0   \n",
       "2      14.0       6.0      17.0      15.0     15.0      15.0       2.0   \n",
       "\n",
       "   INSTSIZE  F1SYSTYP F1SYSNAM  F1SYSCOD   CBSA  CBSATYPE  CSA    NECTA  \\\n",
       "0       5.0       2.0       -2      -2.0  14460         1  148  71650.0   \n",
       "1       4.0       2.0       -2      -2.0  14460         1  148  71650.0   \n",
       "2       4.0       2.0       -2      -2.0  41940         1  488     -2.0   \n",
       "\n",
       "   COUNTYCD            COUNTYNM  CNGDSTCD    LONGITUD   LATITUDE  DFRCGID  \\\n",
       "0     25017    Middlesex County    2505.0  -71.118313  42.374471     96.0   \n",
       "1     25017    Middlesex County    2507.0  -71.093226  42.359243     96.0   \n",
       "2      6085  Santa Clara County     618.0 -122.167359  37.429434     96.0   \n",
       "\n",
       "   DFRCUSCG   LONGITUDE                           CBSA_NAME  RPP_all  \\\n",
       "0       1.0  -71.118313      Boston-Cambridge-Newton, MA-NH    115.5   \n",
       "1       1.0  -71.093226      Boston-Cambridge-Newton, MA-NH    115.5   \n",
       "2       1.0 -122.167359  San Jose-Sunnyvale-Santa Clara, CA    126.7   \n",
       "\n",
       "   MEDIAN_SALARY  N_SALARIES  MEDIAN_SALARY_UPPER  MEDIAN_SALARY_LOWER  \\\n",
       "0   55783.941620         493         56164.312487         55205.642506   \n",
       "1   56659.816586         680         56952.349035         56164.312487   \n",
       "2   62476.603840         349         63319.925605         62352.688787   \n",
       "\n",
       "   REAL_MEDIAN_SALARY  REAL_MEDIAN_SALARY_UPPER  REAL_MEDIAN_SALARY_LOWER  \\\n",
       "0        48297.784952              48627.110378              47797.093079   \n",
       "1        49056.118257              49309.393104              48627.110378   \n",
       "2        49310.658122              49976.263303              49212.856186   \n",
       "\n",
       "   GeoFips  median_scaled   mean_scaled  \n",
       "0      NaN            NaN           NaN  \n",
       "1      NaN            NaN           NaN  \n",
       "2  41940.0   54948.697711  73756.906077  "
      ]
     },
     "execution_count": 16,
     "metadata": {},
     "output_type": "execute_result"
    }
   ],
   "source": [
    "university_df[:3]"
   ]
  },
  {
   "cell_type": "code",
   "execution_count": 17,
   "id": "33a40a28",
   "metadata": {
    "ExecuteTime": {
     "end_time": "2022-01-14T01:31:14.179602Z",
     "start_time": "2022-01-14T01:31:14.161731Z"
    }
   },
   "outputs": [
    {
     "data": {
      "text/plain": [
       "131"
      ]
     },
     "execution_count": 17,
     "metadata": {},
     "output_type": "execute_result"
    }
   ],
   "source": [
    "len(university_df)"
   ]
  },
  {
   "cell_type": "code",
   "execution_count": 18,
   "id": "ceea201c",
   "metadata": {
    "ExecuteTime": {
     "end_time": "2022-01-14T01:31:14.411173Z",
     "start_time": "2022-01-14T01:31:14.181343Z"
    }
   },
   "outputs": [
    {
     "data": {
      "image/png": "[encoded data removed]",
      "text/plain": [
       "<Figure size 432x288 with 1 Axes>"
      ]
     },
     "metadata": {
      "needs_background": "light"
     },
     "output_type": "display_data"
    }
   ],
   "source": [
    "fig, ax = plt.subplots()\n",
    "ax = sns.kdeplot(\n",
    "    university_df[university_df['National Rank'] <= 20].RPP_all.values,\n",
    "    ax=ax,\n",
    "    #cumulative=True,\n",
    "    #kind=\"ecdf\",\n",
    "    lw=5,\n",
    "    color='red',\n",
    "    fill = True,\n",
    ")\n",
    "ax = sns.kdeplot(\n",
    "    university_df[university_df['National Rank'] > 20].RPP_all.values,\n",
    "    ax=ax,\n",
    "    #cumulative=True,\n",
    "    #kind=\"ecdf\",\n",
    "    lw=5,\n",
    "    color='black',\n",
    "    fill = True,\n",
    ")"
   ]
  },
  {
   "cell_type": "markdown",
   "id": "a05d8c3c",
   "metadata": {},
   "source": [
    "### Split into quartiles"
   ]
  },
  {
   "cell_type": "code",
   "execution_count": 19,
   "id": "1ee88cf9",
   "metadata": {
    "ExecuteTime": {
     "end_time": "2022-01-14T01:31:14.433156Z",
     "start_time": "2022-01-14T01:31:14.412924Z"
    }
   },
   "outputs": [
    {
     "data": {
      "text/html": [
       "<svg  width=\"495\" height=\"55\"><rect x=\"0\" y=\"0\" width=\"55\" height=\"55\" style=\"fill:#e41a1c;stroke-width:2;stroke:rgb(255,255,255)\"/><rect x=\"55\" y=\"0\" width=\"55\" height=\"55\" style=\"fill:#377eb8;stroke-width:2;stroke:rgb(255,255,255)\"/><rect x=\"110\" y=\"0\" width=\"55\" height=\"55\" style=\"fill:#4daf4a;stroke-width:2;stroke:rgb(255,255,255)\"/><rect x=\"165\" y=\"0\" width=\"55\" height=\"55\" style=\"fill:#984ea3;stroke-width:2;stroke:rgb(255,255,255)\"/><rect x=\"220\" y=\"0\" width=\"55\" height=\"55\" style=\"fill:#ff7f00;stroke-width:2;stroke:rgb(255,255,255)\"/><rect x=\"275\" y=\"0\" width=\"55\" height=\"55\" style=\"fill:#ffff33;stroke-width:2;stroke:rgb(255,255,255)\"/><rect x=\"330\" y=\"0\" width=\"55\" height=\"55\" style=\"fill:#a65628;stroke-width:2;stroke:rgb(255,255,255)\"/><rect x=\"385\" y=\"0\" width=\"55\" height=\"55\" style=\"fill:#f781bf;stroke-width:2;stroke:rgb(255,255,255)\"/><rect x=\"440\" y=\"0\" width=\"55\" height=\"55\" style=\"fill:#999999;stroke-width:2;stroke:rgb(255,255,255)\"/></svg>"
      ],
      "text/plain": [
       "[(0.8941176470588236, 0.10196078431372549, 0.10980392156862745),\n",
       " (0.21568627450980393, 0.49411764705882355, 0.7215686274509804),\n",
       " (0.30196078431372547, 0.6862745098039216, 0.2901960784313726),\n",
       " (0.596078431372549, 0.3058823529411765, 0.6392156862745098),\n",
       " (1.0, 0.4980392156862745, 0.0),\n",
       " (1.0, 1.0, 0.2),\n",
       " (0.6509803921568628, 0.33725490196078434, 0.1568627450980392),\n",
       " (0.9686274509803922, 0.5058823529411764, 0.7490196078431373),\n",
       " (0.6, 0.6, 0.6)]"
      ]
     },
     "execution_count": 19,
     "metadata": {},
     "output_type": "execute_result"
    }
   ],
   "source": [
    "pal = sns.color_palette('Set1')\n",
    "pal"
   ]
  },
  {
   "cell_type": "code",
   "execution_count": 20,
   "id": "7180896c",
   "metadata": {
    "ExecuteTime": {
     "end_time": "2022-01-14T01:31:14.453470Z",
     "start_time": "2022-01-14T01:31:14.434846Z"
    }
   },
   "outputs": [
    {
     "data": {
      "text/plain": [
       "array([ 85. ,  97.5, 110. , 122.5, 135. ])"
      ]
     },
     "execution_count": 20,
     "metadata": {},
     "output_type": "execute_result"
    }
   ],
   "source": [
    "bins = np.linspace(85, 135, 5)\n",
    "bins"
   ]
  },
  {
   "cell_type": "code",
   "execution_count": 21,
   "id": "732d4abb",
   "metadata": {
    "ExecuteTime": {
     "end_time": "2022-01-14T01:31:14.473800Z",
     "start_time": "2022-01-14T01:31:14.455118Z"
    }
   },
   "outputs": [
    {
     "data": {
      "text/plain": [
       "(85.1, 134.5)"
      ]
     },
     "execution_count": 21,
     "metadata": {},
     "output_type": "execute_result"
    }
   ],
   "source": [
    "np.min(university_df['RPP_all']), np.max(university_df['RPP_all'])"
   ]
  },
  {
   "cell_type": "code",
   "execution_count": 22,
   "id": "8a61ddaa",
   "metadata": {
    "ExecuteTime": {
     "end_time": "2022-01-14T01:31:14.495505Z",
     "start_time": "2022-01-14T01:31:14.477866Z"
    }
   },
   "outputs": [],
   "source": [
    "university_df[\"quartile\"] = np.digitize(university_df['RPP_all'], bins)"
   ]
  },
  {
   "cell_type": "code",
   "execution_count": 23,
   "id": "94881c4a",
   "metadata": {
    "ExecuteTime": {
     "end_time": "2022-01-14T01:31:14.515188Z",
     "start_time": "2022-01-14T01:31:14.497470Z"
    }
   },
   "outputs": [],
   "source": [
    "university_df[\"top_20\"] = university_df['National Rank'] <=20"
   ]
  },
  {
   "cell_type": "code",
   "execution_count": 24,
   "id": "0444b2b6",
   "metadata": {
    "ExecuteTime": {
     "end_time": "2022-01-14T01:31:14.539664Z",
     "start_time": "2022-01-14T01:31:14.516956Z"
    }
   },
   "outputs": [
    {
     "data": {
      "text/html": [
       "<div>\n",
       "<style scoped>\n",
       "    .dataframe tbody tr th:only-of-type {\n",
       "        vertical-align: middle;\n",
       "    }\n",
       "\n",
       "    .dataframe tbody tr th {\n",
       "        vertical-align: top;\n",
       "    }\n",
       "\n",
       "    .dataframe thead th {\n",
       "        text-align: right;\n",
       "    }\n",
       "</style>\n",
       "<table border=\"1\" class=\"dataframe\">\n",
       "  <thead>\n",
       "    <tr style=\"text-align: right;\">\n",
       "      <th></th>\n",
       "      <th>Institution</th>\n",
       "      <th>RPP_all</th>\n",
       "      <th>quartile</th>\n",
       "    </tr>\n",
       "  </thead>\n",
       "  <tbody>\n",
       "  </tbody>\n",
       "</table>\n",
       "</div>"
      ],
      "text/plain": [
       "Empty DataFrame\n",
       "Columns: [Institution, RPP_all, quartile]\n",
       "Index: []"
      ]
     },
     "execution_count": 24,
     "metadata": {},
     "output_type": "execute_result"
    }
   ],
   "source": [
    "university_df[university_df['quartile'] == 5][['Institution', 'RPP_all', 'quartile']]"
   ]
  },
  {
   "cell_type": "code",
   "execution_count": 25,
   "id": "505e160a",
   "metadata": {
    "ExecuteTime": {
     "end_time": "2022-01-14T01:31:14.559155Z",
     "start_time": "2022-01-14T01:31:14.541405Z"
    }
   },
   "outputs": [
    {
     "data": {
      "text/plain": [
       "131"
      ]
     },
     "execution_count": 25,
     "metadata": {},
     "output_type": "execute_result"
    }
   ],
   "source": [
    "len(university_df)"
   ]
  },
  {
   "cell_type": "code",
   "execution_count": 26,
   "id": "12b7465e",
   "metadata": {
    "ExecuteTime": {
     "end_time": "2022-01-14T01:31:14.578080Z",
     "start_time": "2022-01-14T01:31:14.560809Z"
    }
   },
   "outputs": [],
   "source": [
    "university_df['quartile'] = np.digitize(university_df.RPP_all.values, bins, right=False)"
   ]
  },
  {
   "cell_type": "code",
   "execution_count": 27,
   "id": "c0fe8f26",
   "metadata": {
    "ExecuteTime": {
     "end_time": "2022-01-14T01:31:14.606813Z",
     "start_time": "2022-01-14T01:31:14.579971Z"
    }
   },
   "outputs": [
    {
     "name": "stdout",
     "output_type": "stream",
     "text": [
      "1 57 2 0.03508771929824561\n",
      "2 42 8 0.19047619047619047\n",
      "3 19 5 0.2631578947368421\n",
      "4 13 4 0.3076923076923077\n"
     ]
    }
   ],
   "source": [
    "for quartile in np.sort(university_df[\"quartile\"].unique()):\n",
    "    quartile_dat = university_df[university_df[\"quartile\"] == quartile]\n",
    "    print(quartile, len(quartile_dat), np.sum(quartile_dat.top_20 == True), np.mean((quartile_dat.top_20 == True)))"
   ]
  },
  {
   "cell_type": "code",
   "execution_count": 28,
   "id": "864e8a61",
   "metadata": {
    "ExecuteTime": {
     "end_time": "2022-01-14T01:31:14.627151Z",
     "start_time": "2022-01-14T01:31:14.608702Z"
    }
   },
   "outputs": [
    {
     "data": {
      "text/plain": [
       "(array([1, 2, 3, 4]), array([57, 42, 19, 13]))"
      ]
     },
     "execution_count": 28,
     "metadata": {},
     "output_type": "execute_result"
    }
   ],
   "source": [
    "np.unique(university_df['quartile'], return_counts=True)"
   ]
  },
  {
   "cell_type": "code",
   "execution_count": 29,
   "id": "316ad5d6",
   "metadata": {
    "ExecuteTime": {
     "end_time": "2022-01-14T01:31:14.646722Z",
     "start_time": "2022-01-14T01:31:14.628810Z"
    }
   },
   "outputs": [],
   "source": [
    "university_df = university_df[university_df.Institution.isnull() == False]"
   ]
  },
  {
   "cell_type": "code",
   "execution_count": 30,
   "id": "dc1acffe",
   "metadata": {
    "ExecuteTime": {
     "end_time": "2022-01-14T01:31:15.190010Z",
     "start_time": "2022-01-14T01:31:14.648533Z"
    }
   },
   "outputs": [
    {
     "data": {
      "image/png": "[encoded data removed]",
      "text/plain": [
       "<Figure size 360x360 with 1 Axes>"
      ]
     },
     "metadata": {
      "needs_background": "light"
     },
     "output_type": "display_data"
    }
   ],
   "source": [
    "fig, ax = plt.subplots(figsize=(5,5))\n",
    "sns.histplot(\n",
    "    data=university_df,\n",
    "    x=\"RPP_all\",\n",
    "    hue=\"top_20\",\n",
    "    multiple=\"fill\",\n",
    "    bins=bins,\n",
    "    palette = {\n",
    "        True: pal[3],\n",
    "        False: '#EEEEEE'\n",
    "    },\n",
    "    ax = ax,\n",
    "    #kde=True,\n",
    "    legend = False,\n",
    ")\n",
    "ax.set_ylabel('Proportion', fontsize= 14)\n",
    "ax.set_xticks((bins[:-1] + bins[1:])/2)\n",
    "ax.set_xticklabels(['85-97.5', '97.5-110', '110-122.5', '122.5-135'], fontsize=12)\n",
    "ax.set_xlabel('Regional Price Parity', fontsize=14)\n",
    "ax.spines['bottom'].set_linewidth(4)\n",
    "save_fig(FIGURE_DIR / 'COL_top-tier')"
   ]
  },
  {
   "cell_type": "code",
   "execution_count": 31,
   "id": "214ab1b6",
   "metadata": {
    "ExecuteTime": {
     "end_time": "2022-01-14T01:31:15.428335Z",
     "start_time": "2022-01-14T01:31:15.191805Z"
    }
   },
   "outputs": [
    {
     "data": {
      "text/plain": [
       "(array([18., 29., 16., 17.,  8.,  2., 12.,  1.,  6.,  1.]),\n",
       " array([ 85.1 ,  90.04,  94.98,  99.92, 104.86, 109.8 , 114.74, 119.68,\n",
       "        124.62, 129.56, 134.5 ]),\n",
       " <a list of 10 Patch objects>)"
      ]
     },
     "execution_count": 31,
     "metadata": {},
     "output_type": "execute_result"
    },
    {
     "data": {
      "image/png": "[encoded data removed]",
      "text/plain": [
       "<Figure size 432x288 with 1 Axes>"
      ]
     },
     "metadata": {
      "needs_background": "light"
     },
     "output_type": "display_data"
    }
   ],
   "source": [
    "plt.hist(university_df[university_df['National Rank'] <= 20].RPP_all.values, alpha = 0.5)\n",
    "plt.hist(university_df[university_df['National Rank'] > 20].RPP_all.values, alpha = 0.5)"
   ]
  },
  {
   "cell_type": "code",
   "execution_count": 32,
   "id": "685d60af",
   "metadata": {
    "ExecuteTime": {
     "end_time": "2022-01-14T01:32:36.140247Z",
     "start_time": "2022-01-14T01:32:35.892322Z"
    }
   },
   "outputs": [
    {
     "data": {
      "text/plain": [
       "<matplotlib.collections.PathCollection at 0x7f8514360040>"
      ]
     },
     "execution_count": 32,
     "metadata": {},
     "output_type": "execute_result"
    },
    {
     "data": {
      "image/png": "[encoded data removed]",
      "text/plain": [
       "<Figure size 432x288 with 1 Axes>"
      ]
     },
     "metadata": {
      "needs_background": "light"
     },
     "output_type": "display_data"
    }
   ],
   "source": [
    "plt.scatter(university_df['National Rank'], university_df['RPP_all'])"
   ]
  },
  {
   "cell_type": "code",
   "execution_count": null,
   "id": "66b5498b",
   "metadata": {},
   "outputs": [],
   "source": []
  },
  {
   "cell_type": "code",
   "execution_count": null,
   "id": "99a8066d",
   "metadata": {},
   "outputs": [],
   "source": []
  }
 ],
 "metadata": {
  "kernelspec": {
   "display_name": "postdoc",
   "language": "python",
   "name": "postdoc"
  },
  "language_info": {
   "codemirror_mode": {
    "name": "ipython",
    "version": 3
   },
   "file_extension": ".py",
   "mimetype": "text/x-python",
   "name": "python",
   "nbconvert_exporter": "python",
   "pygments_lexer": "ipython3",
   "version": "3.8.12"
  }
 },
 "nbformat": 4,
 "nbformat_minor": 5
}
