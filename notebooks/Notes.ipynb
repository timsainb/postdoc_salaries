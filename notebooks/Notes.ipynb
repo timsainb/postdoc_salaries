{
 "cells": [
  {
   "cell_type": "markdown",
   "id": "0853a690",
   "metadata": {},
   "source": [
    "#### Paid in prestige: the hidden cost of doing a postdoc in elite American universities"
   ]
  },
  {
   "cell_type": "markdown",
   "id": "f0714a6c",
   "metadata": {},
   "source": [
    "Abstract: \n",
    "- \n",
    "- American funding agencies typically do not adjust postdoctoral salaries for cost of living. "
   ]
  },
  {
   "cell_type": "markdown",
   "id": "de28504c",
   "metadata": {},
   "source": [
    "- Papers\n",
    "- [Career Choice, Gender, and Mentor Impact: Results of the U.S. National Postdoc Survey](https://www.biorxiv.org/content/10.1101/355511v1.full.pdf)\n",
    "- [insights from a survey-based analysis of the academic job market](https://www.biorxiv.org/content/10.1101/796466v2.full.pdf)\n",
    "- [\n",
    "Postdoctoral research training and the attainment of faculty careers in social science and STEM fields in the United States](https://www.emerald.com/insight/content/doi/10.1108/SGPE-04-2020-0025/full/html)\n",
    "- [Systematic inequality and hierarchy in faculty hiring networks](https://www.science.org/doi/10.1126/sciadv.1400005)\n",
    "- [Bias in distribution of K99 awards and faculty hires\n",
    "](http://rescuingbiomedicalresearch.org/blog/bias-distribution-k99-awards-faculty-hires/)\n",
    "- [The Increasing Importance of Training Awards in the Careers of Early-Stage Biomedical Academic Researchers\n",
    "](https://www.biorxiv.org/content/10.1101/622886v1.full)\n",
    "- [How faculty define quality, prestige, and impact in research\n",
    "](https://www.biorxiv.org/content/10.1101/2021.04.14.439880v1.abstract)\n",
    "- [The Dynamics of Faculty Hiring Networks](https://arxiv.org/pdf/2105.02949.pdf)\n",
    "- [Quantifying Structural Inequalities in the Academic Workforce](https://www.proquest.com/docview/2532145406?pq-origsite=gscholar&fromopenview=true)\n",
    "- [Socioeconomic Roots of Academic Faculty\n",
    "](https://osf.io/preprints/socarxiv/6wjxc)"
   ]
  },
  {
   "cell_type": "markdown",
   "id": "06b147f6",
   "metadata": {},
   "source": [
    "TODO\n",
    "- list all universities that were discluded, and reasons for disclusion\n",
    "   - not in a statistical area with economic data\n",
    "   - not enough postdoc salary data\n",
    "- keep consistent with Combined Statistical Areas (CSAs) and CBSA (Core-Based Statistical Area) \n",
    "  - CSA = grouping of 2 or more CSAs\n",
    "- why are some statistical areas not plotting?"
   ]
  },
  {
   "cell_type": "code",
   "execution_count": null,
   "id": "aed92cab",
   "metadata": {},
   "outputs": [],
   "source": []
  }
 ],
 "metadata": {
  "kernelspec": {
   "display_name": "postdoc",
   "language": "python",
   "name": "postdoc"
  },
  "language_info": {
   "codemirror_mode": {
    "name": "ipython",
    "version": 3
   },
   "file_extension": ".py",
   "mimetype": "text/x-python",
   "name": "python",
   "nbconvert_exporter": "python",
   "pygments_lexer": "ipython3",
   "version": "3.8.12"
  }
 },
 "nbformat": 4,
 "nbformat_minor": 5
}
