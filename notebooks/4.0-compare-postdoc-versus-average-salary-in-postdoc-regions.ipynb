{
 "cells": [
  {
   "cell_type": "markdown",
   "id": "17012be4",
   "metadata": {},
   "source": [
    "### For the same statistical areas, plot salary of postdocs and salary of everyone else"
   ]
  },
  {
   "cell_type": "code",
   "execution_count": 7,
   "id": "713e5c81",
   "metadata": {
    "ExecuteTime": {
     "end_time": "2021-12-04T20:12:00.718432Z",
     "start_time": "2021-12-04T20:12:00.692545Z"
    }
   },
   "outputs": [
    {
     "name": "stdout",
     "output_type": "stream",
     "text": [
      "The autoreload extension is already loaded. To reload it, use:\n",
      "  %reload_ext autoreload\n"
     ]
    }
   ],
   "source": [
    "%load_ext autoreload\n",
    "%autoreload 2"
   ]
  },
  {
   "cell_type": "code",
   "execution_count": 8,
   "id": "8fa73a66",
   "metadata": {
    "ExecuteTime": {
     "end_time": "2021-12-04T20:12:00.900863Z",
     "start_time": "2021-12-04T20:12:00.877810Z"
    }
   },
   "outputs": [],
   "source": [
    "import numpy as np\n",
    "import pandas as pd\n",
    "import matplotlib.pyplot as plt\n",
    "%matplotlib inline\n",
    "from tqdm.autonotebook import tqdm\n",
    "from postdocsalary.paths import DATA_DIR, ensure_dir\n",
    "import urllib.request\n",
    "pd.set_option('display.max_columns', None)\n"
   ]
  },
  {
   "cell_type": "code",
   "execution_count": 49,
   "id": "149120ee",
   "metadata": {
    "ExecuteTime": {
     "end_time": "2021-12-04T22:37:01.316921Z",
     "start_time": "2021-12-04T22:37:01.289280Z"
    }
   },
   "outputs": [],
   "source": [
    "university_df = pd.read_pickle(DATA_DIR/ 'university_ranking_salary.pickle')"
   ]
  },
  {
   "cell_type": "code",
   "execution_count": 50,
   "id": "b78bca89",
   "metadata": {
    "ExecuteTime": {
     "end_time": "2021-12-04T22:37:01.987488Z",
     "start_time": "2021-12-04T22:37:01.962862Z"
    }
   },
   "outputs": [
    {
     "data": {
      "text/plain": [
       "224"
      ]
     },
     "execution_count": 50,
     "metadata": {},
     "output_type": "execute_result"
    }
   ],
   "source": [
    "len(university_df)"
   ]
  },
  {
   "cell_type": "code",
   "execution_count": 14,
   "id": "f40bfb94",
   "metadata": {
    "ExecuteTime": {
     "end_time": "2021-12-04T20:13:11.215944Z",
     "start_time": "2021-12-04T20:13:11.169977Z"
    }
   },
   "outputs": [
    {
     "data": {
      "text/html": [
       "<div>\n",
       "<style scoped>\n",
       "    .dataframe tbody tr th:only-of-type {\n",
       "        vertical-align: middle;\n",
       "    }\n",
       "\n",
       "    .dataframe tbody tr th {\n",
       "        vertical-align: top;\n",
       "    }\n",
       "\n",
       "    .dataframe thead th {\n",
       "        text-align: right;\n",
       "    }\n",
       "</style>\n",
       "<table border=\"1\" class=\"dataframe\">\n",
       "  <thead>\n",
       "    <tr style=\"text-align: right;\">\n",
       "      <th></th>\n",
       "      <th>world_rank</th>\n",
       "      <th>institution</th>\n",
       "      <th>country</th>\n",
       "      <th>national_rank</th>\n",
       "      <th>quality_of_education</th>\n",
       "      <th>alumni_employment</th>\n",
       "      <th>quality_of_faculty</th>\n",
       "      <th>publications</th>\n",
       "      <th>influence</th>\n",
       "      <th>citations</th>\n",
       "      <th>broad_impact</th>\n",
       "      <th>patents</th>\n",
       "      <th>score</th>\n",
       "      <th>year</th>\n",
       "      <th>CSA</th>\n",
       "      <th>CITY</th>\n",
       "      <th>STATE</th>\n",
       "      <th>LONGITUDE</th>\n",
       "      <th>LATITUDE</th>\n",
       "      <th>INSTNM</th>\n",
       "      <th>IALIAS</th>\n",
       "      <th>CBSA</th>\n",
       "      <th>RPP_all</th>\n",
       "      <th>RPP_goods</th>\n",
       "      <th>RPP_rents</th>\n",
       "      <th>RPP_other</th>\n",
       "      <th>MEDIAN_SALARY</th>\n",
       "      <th>REAL_MEDIAN_SALARY</th>\n",
       "      <th>UNIVERSITY_SALARY_RELATIVE_MEDIAN</th>\n",
       "    </tr>\n",
       "  </thead>\n",
       "  <tbody>\n",
       "    <tr>\n",
       "      <th>1200</th>\n",
       "      <td>1</td>\n",
       "      <td>Harvard University</td>\n",
       "      <td>USA</td>\n",
       "      <td>1</td>\n",
       "      <td>1</td>\n",
       "      <td>1</td>\n",
       "      <td>1</td>\n",
       "      <td>1</td>\n",
       "      <td>1</td>\n",
       "      <td>1</td>\n",
       "      <td>1.0</td>\n",
       "      <td>3</td>\n",
       "      <td>100.00</td>\n",
       "      <td>2015</td>\n",
       "      <td>148</td>\n",
       "      <td>Cambridge</td>\n",
       "      <td>MA</td>\n",
       "      <td>-71.118313</td>\n",
       "      <td>42.374471</td>\n",
       "      <td>Harvard University</td>\n",
       "      <td></td>\n",
       "      <td>Boston-Cambridge-Newton, MA-NH</td>\n",
       "      <td>115.5</td>\n",
       "      <td>103.7</td>\n",
       "      <td>143.6</td>\n",
       "      <td>111.3</td>\n",
       "      <td>55783.941620</td>\n",
       "      <td>48297.784952</td>\n",
       "      <td>106.993219</td>\n",
       "    </tr>\n",
       "    <tr>\n",
       "      <th>1201</th>\n",
       "      <td>2</td>\n",
       "      <td>Stanford University</td>\n",
       "      <td>USA</td>\n",
       "      <td>2</td>\n",
       "      <td>9</td>\n",
       "      <td>2</td>\n",
       "      <td>4</td>\n",
       "      <td>5</td>\n",
       "      <td>3</td>\n",
       "      <td>3</td>\n",
       "      <td>4.0</td>\n",
       "      <td>10</td>\n",
       "      <td>98.66</td>\n",
       "      <td>2015</td>\n",
       "      <td>488</td>\n",
       "      <td>Stanford</td>\n",
       "      <td>CA</td>\n",
       "      <td>-122.167359</td>\n",
       "      <td>37.429434</td>\n",
       "      <td>Stanford University</td>\n",
       "      <td></td>\n",
       "      <td>San Jose-San Francisco-Oakland, CA</td>\n",
       "      <td>NaN</td>\n",
       "      <td>NaN</td>\n",
       "      <td>NaN</td>\n",
       "      <td>NaN</td>\n",
       "      <td>62476.603840</td>\n",
       "      <td>NaN</td>\n",
       "      <td>119.829699</td>\n",
       "    </tr>\n",
       "    <tr>\n",
       "      <th>1202</th>\n",
       "      <td>3</td>\n",
       "      <td>Massachusetts Institute of Technology</td>\n",
       "      <td>USA</td>\n",
       "      <td>3</td>\n",
       "      <td>3</td>\n",
       "      <td>11</td>\n",
       "      <td>2</td>\n",
       "      <td>15</td>\n",
       "      <td>2</td>\n",
       "      <td>2</td>\n",
       "      <td>2.0</td>\n",
       "      <td>1</td>\n",
       "      <td>97.54</td>\n",
       "      <td>2015</td>\n",
       "      <td>148</td>\n",
       "      <td>Cambridge</td>\n",
       "      <td>MA</td>\n",
       "      <td>-71.093226</td>\n",
       "      <td>42.359243</td>\n",
       "      <td>Massachusetts Institute of Technology</td>\n",
       "      <td>MIT, M.I.T.</td>\n",
       "      <td>Boston-Cambridge-Newton, MA-NH</td>\n",
       "      <td>115.5</td>\n",
       "      <td>103.7</td>\n",
       "      <td>143.6</td>\n",
       "      <td>111.3</td>\n",
       "      <td>56659.816586</td>\n",
       "      <td>49056.118257</td>\n",
       "      <td>108.673141</td>\n",
       "    </tr>\n",
       "  </tbody>\n",
       "</table>\n",
       "</div>"
      ],
      "text/plain": [
       "      world_rank                            institution country  \\\n",
       "1200           1                     Harvard University     USA   \n",
       "1201           2                    Stanford University     USA   \n",
       "1202           3  Massachusetts Institute of Technology     USA   \n",
       "\n",
       "      national_rank  quality_of_education  alumni_employment  \\\n",
       "1200              1                     1                  1   \n",
       "1201              2                     9                  2   \n",
       "1202              3                     3                 11   \n",
       "\n",
       "      quality_of_faculty  publications  influence  citations  broad_impact  \\\n",
       "1200                   1             1          1          1           1.0   \n",
       "1201                   4             5          3          3           4.0   \n",
       "1202                   2            15          2          2           2.0   \n",
       "\n",
       "      patents   score  year  CSA       CITY STATE   LONGITUDE   LATITUDE  \\\n",
       "1200        3  100.00  2015  148  Cambridge    MA  -71.118313  42.374471   \n",
       "1201       10   98.66  2015  488   Stanford    CA -122.167359  37.429434   \n",
       "1202        1   97.54  2015  148  Cambridge    MA  -71.093226  42.359243   \n",
       "\n",
       "                                     INSTNM       IALIAS  \\\n",
       "1200                     Harvard University                \n",
       "1201                    Stanford University                \n",
       "1202  Massachusetts Institute of Technology  MIT, M.I.T.   \n",
       "\n",
       "                                    CBSA  RPP_all  RPP_goods  RPP_rents  \\\n",
       "1200      Boston-Cambridge-Newton, MA-NH    115.5      103.7      143.6   \n",
       "1201  San Jose-San Francisco-Oakland, CA      NaN        NaN        NaN   \n",
       "1202      Boston-Cambridge-Newton, MA-NH    115.5      103.7      143.6   \n",
       "\n",
       "      RPP_other  MEDIAN_SALARY  REAL_MEDIAN_SALARY  \\\n",
       "1200      111.3   55783.941620        48297.784952   \n",
       "1201        NaN   62476.603840                 NaN   \n",
       "1202      111.3   56659.816586        49056.118257   \n",
       "\n",
       "      UNIVERSITY_SALARY_RELATIVE_MEDIAN  \n",
       "1200                         106.993219  \n",
       "1201                         119.829699  \n",
       "1202                         108.673141  "
      ]
     },
     "execution_count": 14,
     "metadata": {},
     "output_type": "execute_result"
    }
   ],
   "source": [
    "university_df[:3]"
   ]
  },
  {
   "cell_type": "code",
   "execution_count": 15,
   "id": "8826f926",
   "metadata": {
    "ExecuteTime": {
     "end_time": "2021-12-04T20:13:11.528723Z",
     "start_time": "2021-12-04T20:13:11.339375Z"
    }
   },
   "outputs": [
    {
     "data": {
      "text/plain": [
       "<matplotlib.collections.PathCollection at 0x7f39e2530e20>"
      ]
     },
     "execution_count": 15,
     "metadata": {},
     "output_type": "execute_result"
    },
    {
     "data": {
      "image/png": "[encoded data removed]",
      "text/plain": [
       "<Figure size 432x288 with 1 Axes>"
      ]
     },
     "metadata": {
      "needs_background": "light"
     },
     "output_type": "display_data"
    }
   ],
   "source": [
    "plt.scatter(\n",
    "    university_df[\"RPP_all\"].values,\n",
    "    university_df[\"REAL_MEDIAN_SALARY\"].values,\n",
    ")"
   ]
  },
  {
   "cell_type": "code",
   "execution_count": 23,
   "id": "f7038159",
   "metadata": {
    "ExecuteTime": {
     "end_time": "2021-12-04T20:15:00.098833Z",
     "start_time": "2021-12-04T20:15:00.041146Z"
    }
   },
   "outputs": [
    {
     "data": {
      "text/html": [
       "<div>\n",
       "<style scoped>\n",
       "    .dataframe tbody tr th:only-of-type {\n",
       "        vertical-align: middle;\n",
       "    }\n",
       "\n",
       "    .dataframe tbody tr th {\n",
       "        vertical-align: top;\n",
       "    }\n",
       "\n",
       "    .dataframe thead th {\n",
       "        text-align: right;\n",
       "    }\n",
       "</style>\n",
       "<table border=\"1\" class=\"dataframe\">\n",
       "  <thead>\n",
       "    <tr style=\"text-align: right;\">\n",
       "      <th></th>\n",
       "      <th>RPPs</th>\n",
       "      <th>GeoName</th>\n",
       "      <th>RPI_per_capita</th>\n",
       "      <th>statistical_area</th>\n",
       "    </tr>\n",
       "  </thead>\n",
       "  <tbody>\n",
       "    <tr>\n",
       "      <th>0</th>\n",
       "      <td>100.0</td>\n",
       "      <td>United States</td>\n",
       "      <td>51424.0</td>\n",
       "      <td>United States</td>\n",
       "    </tr>\n",
       "    <tr>\n",
       "      <th>1</th>\n",
       "      <td>98.8</td>\n",
       "      <td>United States</td>\n",
       "      <td>51424.0</td>\n",
       "      <td>United States</td>\n",
       "    </tr>\n",
       "    <tr>\n",
       "      <th>2</th>\n",
       "      <td>102.0</td>\n",
       "      <td>United States</td>\n",
       "      <td>51424.0</td>\n",
       "      <td>United States</td>\n",
       "    </tr>\n",
       "    <tr>\n",
       "      <th>3</th>\n",
       "      <td>100.0</td>\n",
       "      <td>United States</td>\n",
       "      <td>51424.0</td>\n",
       "      <td>United States</td>\n",
       "    </tr>\n",
       "    <tr>\n",
       "      <th>4</th>\n",
       "      <td>90.3</td>\n",
       "      <td>Abilene, TX (Metropolitan Statistical Area)</td>\n",
       "      <td>46336.0</td>\n",
       "      <td>Abilene, TX</td>\n",
       "    </tr>\n",
       "    <tr>\n",
       "      <th>5</th>\n",
       "      <td>96.0</td>\n",
       "      <td>Abilene, TX (Metropolitan Statistical Area)</td>\n",
       "      <td>46336.0</td>\n",
       "      <td>Abilene, TX</td>\n",
       "    </tr>\n",
       "    <tr>\n",
       "      <th>6</th>\n",
       "      <td>80.1</td>\n",
       "      <td>Abilene, TX (Metropolitan Statistical Area)</td>\n",
       "      <td>46336.0</td>\n",
       "      <td>Abilene, TX</td>\n",
       "    </tr>\n",
       "    <tr>\n",
       "      <th>7</th>\n",
       "      <td>91.2</td>\n",
       "      <td>Abilene, TX (Metropolitan Statistical Area)</td>\n",
       "      <td>46336.0</td>\n",
       "      <td>Abilene, TX</td>\n",
       "    </tr>\n",
       "    <tr>\n",
       "      <th>8</th>\n",
       "      <td>90.0</td>\n",
       "      <td>Akron, OH (Metropolitan Statistical Area)</td>\n",
       "      <td>52131.0</td>\n",
       "      <td>Akron, OH</td>\n",
       "    </tr>\n",
       "    <tr>\n",
       "      <th>9</th>\n",
       "      <td>95.9</td>\n",
       "      <td>Akron, OH (Metropolitan Statistical Area)</td>\n",
       "      <td>52131.0</td>\n",
       "      <td>Akron, OH</td>\n",
       "    </tr>\n",
       "  </tbody>\n",
       "</table>\n",
       "</div>"
      ],
      "text/plain": [
       "    RPPs                                      GeoName  RPI_per_capita  \\\n",
       "0  100.0                                United States         51424.0   \n",
       "1   98.8                                United States         51424.0   \n",
       "2  102.0                                United States         51424.0   \n",
       "3  100.0                                United States         51424.0   \n",
       "4   90.3  Abilene, TX (Metropolitan Statistical Area)         46336.0   \n",
       "5   96.0  Abilene, TX (Metropolitan Statistical Area)         46336.0   \n",
       "6   80.1  Abilene, TX (Metropolitan Statistical Area)         46336.0   \n",
       "7   91.2  Abilene, TX (Metropolitan Statistical Area)         46336.0   \n",
       "8   90.0    Akron, OH (Metropolitan Statistical Area)         52131.0   \n",
       "9   95.9    Akron, OH (Metropolitan Statistical Area)         52131.0   \n",
       "\n",
       "  statistical_area  \n",
       "0    United States  \n",
       "1    United States  \n",
       "2    United States  \n",
       "3    United States  \n",
       "4      Abilene, TX  \n",
       "5      Abilene, TX  \n",
       "6      Abilene, TX  \n",
       "7      Abilene, TX  \n",
       "8        Akron, OH  \n",
       "9        Akron, OH  "
      ]
     },
     "execution_count": 23,
     "metadata": {},
     "output_type": "execute_result"
    }
   ],
   "source": [
    "income_df = pd.read_csv(DATA_DIR / 'income' / 'income.csv', skiprows=4)\n",
    "income_df = income_df[income_df.Description == 'Real per capita personal income (chained (2012) dollars) 2/'] \n",
    "income_df[\"RPI_per_capita\"] = income_df[\"2019\"]\n",
    "cost_of_living_df = pd.read_csv(DATA_DIR / 'BEA_price_parity' / 'BEA-cost-of-living-comparison.csv', skiprows=4)\n",
    "cost_of_living_df['RPPs'] = cost_of_living_df['2019']\n",
    "income_by_COL = cost_of_living_df[['RPPs', 'GeoName']].merge(income_df[['RPI_per_capita', 'GeoName']], on='GeoName')\n",
    "income_by_COL['statistical_area'] = [i.split(' (')[0] for i in income_by_COL.GeoName.values]\n",
    "income_by_COL[:10]"
   ]
  },
  {
   "cell_type": "code",
   "execution_count": 30,
   "id": "062bdaec",
   "metadata": {
    "ExecuteTime": {
     "end_time": "2021-12-04T20:16:25.004234Z",
     "start_time": "2021-12-04T20:16:24.976888Z"
    }
   },
   "outputs": [
    {
     "data": {
      "text/plain": [
       "64783.0"
      ]
     },
     "execution_count": 30,
     "metadata": {},
     "output_type": "execute_result"
    }
   ],
   "source": []
  },
  {
   "cell_type": "code",
   "execution_count": 34,
   "id": "4a656d01",
   "metadata": {
    "ExecuteTime": {
     "end_time": "2021-12-04T20:18:36.104035Z",
     "start_time": "2021-12-04T20:18:35.887321Z"
    }
   },
   "outputs": [
    {
     "name": "stdout",
     "output_type": "stream",
     "text": [
      "Stanford University\n",
      "Washington University in St. Louis\n",
      "University of California, Davis\n",
      "Vanderbilt University\n",
      "University of Maryland, College Park\n",
      "University of Notre Dame\n",
      "Georgia Institute of Technology\n",
      "Tufts University\n",
      "Arizona State University\n",
      "Stony Brook University\n",
      "Indiana University-Purdue University Indianapolis\n",
      "University of Georgia\n",
      "University of Connecticut\n",
      "University of Kentucky\n",
      "Tulane University\n",
      "University of Delaware\n",
      "University of Louisville\n",
      "Boston College\n",
      "Louisiana State University - Baton Rouge\n",
      "University of Oklahoma - Norman Campus\n",
      "College of William and Mary\n",
      "Saint Louis University\n",
      "Colorado School of Mines\n",
      "Washington State University, Pullman\n",
      "George Mason University\n",
      "Miami University\n",
      "Ohio University\n",
      "University of Wyoming\n",
      "Clemson University\n",
      "SUNY Downstate Medical Center\n",
      "New Mexico State University\n",
      "New York Medical College\n",
      "University of Missouri–Kansas City\n",
      "Montana State University - Bozeman\n",
      "Kent State University\n",
      "University of Montana - Missoula\n",
      "University of Rhode Island\n",
      "Louisiana Tech University\n",
      "Northern Illinois University\n",
      "University of Idaho\n",
      "Loma Linda University\n",
      "Missouri University of Science and Technology\n",
      "University of Missouri–St. Louis\n",
      "University of Mississippi Medical Center\n",
      "Michigan Technological University\n",
      "Bowling Green State University\n",
      "University of Massachusetts Lowell\n",
      "Queens College, City University of New York\n",
      "Oakland University\n"
     ]
    }
   ],
   "source": [
    "regional_incomes = []\n",
    "for idx, row in university_df.iterrows():\n",
    "    regional_income_2012 = income_by_COL[(income_by_COL.statistical_area == row.CBSA)].RPI_per_capita.values\n",
    "    \n",
    "    if len(regional_income_2012) >0:\n",
    "        regional_incomes.append(regional_income_2012[0])\n",
    "    else:\n",
    "        print(row.institution)\n",
    "        regional_incomes.append(np.nan)"
   ]
  },
  {
   "cell_type": "code",
   "execution_count": 38,
   "id": "d052c968",
   "metadata": {
    "ExecuteTime": {
     "end_time": "2021-12-04T20:19:13.361592Z",
     "start_time": "2021-12-04T20:19:13.341979Z"
    }
   },
   "outputs": [],
   "source": [
    "university_df[\"regional_income_2012\"] = regional_incomes"
   ]
  },
  {
   "cell_type": "code",
   "execution_count": null,
   "id": "8fb78622",
   "metadata": {},
   "outputs": [],
   "source": []
  },
  {
   "cell_type": "code",
   "execution_count": 41,
   "id": "20069fce",
   "metadata": {
    "ExecuteTime": {
     "end_time": "2021-12-04T20:19:25.438644Z",
     "start_time": "2021-12-04T20:19:25.244999Z"
    }
   },
   "outputs": [
    {
     "data": {
      "text/plain": [
       "<matplotlib.collections.PathCollection at 0x7f39e23be700>"
      ]
     },
     "execution_count": 41,
     "metadata": {},
     "output_type": "execute_result"
    },
    {
     "data": {
      "image/png": "[encoded data removed]",
      "text/plain": [
       "<Figure size 432x288 with 1 Axes>"
      ]
     },
     "metadata": {
      "needs_background": "light"
     },
     "output_type": "display_data"
    }
   ],
   "source": [
    "plt.scatter(\n",
    "    university_df[\"RPP_all\"].values,\n",
    "    university_df[\"regional_income_2012\"].values,\n",
    ")"
   ]
  },
  {
   "cell_type": "code",
   "execution_count": 43,
   "id": "a928d304",
   "metadata": {
    "ExecuteTime": {
     "end_time": "2021-12-04T20:28:31.308147Z",
     "start_time": "2021-12-04T20:28:30.885978Z"
    }
   },
   "outputs": [],
   "source": [
    "import seaborn as sns"
   ]
  },
  {
   "cell_type": "code",
   "execution_count": 47,
   "id": "8f93d5be",
   "metadata": {
    "ExecuteTime": {
     "end_time": "2021-12-04T20:28:58.058871Z",
     "start_time": "2021-12-04T20:28:57.452396Z"
    }
   },
   "outputs": [
    {
     "data": {
      "text/plain": [
       "<matplotlib.axes._subplots.AxesSubplot at 0x7f3967af9f70>"
      ]
     },
     "execution_count": 47,
     "metadata": {},
     "output_type": "execute_result"
    },
    {
     "data": {
      "image/png": "[encoded data removed]",
      "text/plain": [
       "<Figure size 432x288 with 1 Axes>"
      ]
     },
     "metadata": {
      "needs_background": "light"
     },
     "output_type": "display_data"
    }
   ],
   "source": [
    "fig, ax = plt.subplots()\n",
    "sns.regplot(x=\"RPP_all\", y=\"regional_income_2012\", data=university_df, ax = ax)\n",
    "sns.regplot(x=\"RPP_all\", y=\"REAL_MEDIAN_SALARY\", data=university_df, ax = ax)"
   ]
  },
  {
   "cell_type": "code",
   "execution_count": null,
   "id": "963d34ac",
   "metadata": {},
   "outputs": [],
   "source": []
  }
 ],
 "metadata": {
  "kernelspec": {
   "display_name": "postdoc",
   "language": "python",
   "name": "postdoc"
  },
  "language_info": {
   "codemirror_mode": {
    "name": "ipython",
    "version": 3
   },
   "file_extension": ".py",
   "mimetype": "text/x-python",
   "name": "python",
   "nbconvert_exporter": "python",
   "pygments_lexer": "ipython3",
   "version": "3.8.12"
  }
 },
 "nbformat": 4,
 "nbformat_minor": 5
}
