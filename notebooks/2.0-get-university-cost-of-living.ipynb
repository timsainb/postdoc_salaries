{
 "cells": [
  {
   "cell_type": "code",
   "execution_count": 1,
   "id": "981fef97",
   "metadata": {
    "ExecuteTime": {
     "end_time": "2021-12-04T07:40:04.379652Z",
     "start_time": "2021-12-04T07:40:04.364088Z"
    }
   },
   "outputs": [],
   "source": [
    "%load_ext autoreload\n",
    "%autoreload 2"
   ]
  },
  {
   "cell_type": "code",
   "execution_count": 2,
   "id": "3d7b5d32",
   "metadata": {
    "ExecuteTime": {
     "end_time": "2021-12-04T07:40:05.131433Z",
     "start_time": "2021-12-04T07:40:04.381847Z"
    }
   },
   "outputs": [
    {
     "name": "stderr",
     "output_type": "stream",
     "text": [
      "<ipython-input-2-37777429a894>:5: TqdmExperimentalWarning: Using `tqdm.autonotebook.tqdm` in notebook mode. Use `tqdm.tqdm` instead to force console mode (e.g. in jupyter console)\n",
      "  from tqdm.autonotebook import tqdm\n"
     ]
    }
   ],
   "source": [
    "import numpy as np\n",
    "import pandas as pd\n",
    "import matplotlib.pyplot as plt\n",
    "%matplotlib inline\n",
    "from tqdm.autonotebook import tqdm\n",
    "from postdocsalary.paths import DATA_DIR, ensure_dir\n",
    "import urllib.request"
   ]
  },
  {
   "cell_type": "code",
   "execution_count": 3,
   "id": "3acc91d9",
   "metadata": {
    "ExecuteTime": {
     "end_time": "2021-12-04T07:40:05.186197Z",
     "start_time": "2021-12-04T07:40:05.133654Z"
    }
   },
   "outputs": [],
   "source": [
    "cost_of_living_df = pd.read_csv(DATA_DIR / 'BEA_price_parity' / 'BEA-cost-of-living-comparison.csv', skiprows=4)[:-5]"
   ]
  },
  {
   "cell_type": "code",
   "execution_count": 4,
   "id": "f6946114",
   "metadata": {
    "ExecuteTime": {
     "end_time": "2021-12-04T07:40:05.232181Z",
     "start_time": "2021-12-04T07:40:05.187949Z"
    }
   },
   "outputs": [
    {
     "data": {
      "text/html": [
       "<div>\n",
       "<style scoped>\n",
       "    .dataframe tbody tr th:only-of-type {\n",
       "        vertical-align: middle;\n",
       "    }\n",
       "\n",
       "    .dataframe tbody tr th {\n",
       "        vertical-align: top;\n",
       "    }\n",
       "\n",
       "    .dataframe thead th {\n",
       "        text-align: right;\n",
       "    }\n",
       "</style>\n",
       "<table border=\"1\" class=\"dataframe\">\n",
       "  <thead>\n",
       "    <tr style=\"text-align: right;\">\n",
       "      <th></th>\n",
       "      <th>GeoFips</th>\n",
       "      <th>GeoName</th>\n",
       "      <th>LineCode</th>\n",
       "      <th>Description</th>\n",
       "      <th>2008</th>\n",
       "      <th>2009</th>\n",
       "      <th>2010</th>\n",
       "      <th>2011</th>\n",
       "      <th>2012</th>\n",
       "      <th>2013</th>\n",
       "      <th>2014</th>\n",
       "      <th>2015</th>\n",
       "      <th>2016</th>\n",
       "      <th>2017</th>\n",
       "      <th>2018</th>\n",
       "      <th>2019</th>\n",
       "    </tr>\n",
       "  </thead>\n",
       "  <tbody>\n",
       "    <tr>\n",
       "      <th>0</th>\n",
       "      <td>00000</td>\n",
       "      <td>United States</td>\n",
       "      <td>1.0</td>\n",
       "      <td>RPPs: All items</td>\n",
       "      <td>100.0</td>\n",
       "      <td>100.0</td>\n",
       "      <td>100.0</td>\n",
       "      <td>100.0</td>\n",
       "      <td>100.0</td>\n",
       "      <td>100.0</td>\n",
       "      <td>100.0</td>\n",
       "      <td>100.0</td>\n",
       "      <td>100.0</td>\n",
       "      <td>100.0</td>\n",
       "      <td>100.0</td>\n",
       "      <td>100.0</td>\n",
       "    </tr>\n",
       "    <tr>\n",
       "      <th>1</th>\n",
       "      <td>00000</td>\n",
       "      <td>United States</td>\n",
       "      <td>2.0</td>\n",
       "      <td>RPPs: Goods</td>\n",
       "      <td>99.3</td>\n",
       "      <td>99.2</td>\n",
       "      <td>99.0</td>\n",
       "      <td>99.0</td>\n",
       "      <td>99.0</td>\n",
       "      <td>99.0</td>\n",
       "      <td>99.0</td>\n",
       "      <td>99.0</td>\n",
       "      <td>99.0</td>\n",
       "      <td>98.9</td>\n",
       "      <td>98.9</td>\n",
       "      <td>98.8</td>\n",
       "    </tr>\n",
       "    <tr>\n",
       "      <th>2</th>\n",
       "      <td>00000</td>\n",
       "      <td>United States</td>\n",
       "      <td>3.0</td>\n",
       "      <td>RPPs: Services: Rents</td>\n",
       "      <td>101.1</td>\n",
       "      <td>101.2</td>\n",
       "      <td>102.0</td>\n",
       "      <td>101.9</td>\n",
       "      <td>101.8</td>\n",
       "      <td>101.8</td>\n",
       "      <td>101.7</td>\n",
       "      <td>101.7</td>\n",
       "      <td>101.8</td>\n",
       "      <td>101.8</td>\n",
       "      <td>102.0</td>\n",
       "      <td>102.0</td>\n",
       "    </tr>\n",
       "    <tr>\n",
       "      <th>3</th>\n",
       "      <td>00000</td>\n",
       "      <td>United States</td>\n",
       "      <td>4.0</td>\n",
       "      <td>RPPs: Services: Other</td>\n",
       "      <td>100.3</td>\n",
       "      <td>100.3</td>\n",
       "      <td>100.1</td>\n",
       "      <td>100.1</td>\n",
       "      <td>100.1</td>\n",
       "      <td>100.1</td>\n",
       "      <td>100.1</td>\n",
       "      <td>100.1</td>\n",
       "      <td>100.1</td>\n",
       "      <td>100.1</td>\n",
       "      <td>100.0</td>\n",
       "      <td>100.0</td>\n",
       "    </tr>\n",
       "    <tr>\n",
       "      <th>4</th>\n",
       "      <td>00999</td>\n",
       "      <td>United States (Nonmetropolitan Portion) 1/</td>\n",
       "      <td>1.0</td>\n",
       "      <td>RPPs: All items</td>\n",
       "      <td>86.6</td>\n",
       "      <td>86.8</td>\n",
       "      <td>87.3</td>\n",
       "      <td>87.5</td>\n",
       "      <td>87.8</td>\n",
       "      <td>88.2</td>\n",
       "      <td>88.1</td>\n",
       "      <td>88.0</td>\n",
       "      <td>87.9</td>\n",
       "      <td>87.9</td>\n",
       "      <td>87.3</td>\n",
       "      <td>86.8</td>\n",
       "    </tr>\n",
       "    <tr>\n",
       "      <th>...</th>\n",
       "      <td>...</td>\n",
       "      <td>...</td>\n",
       "      <td>...</td>\n",
       "      <td>...</td>\n",
       "      <td>...</td>\n",
       "      <td>...</td>\n",
       "      <td>...</td>\n",
       "      <td>...</td>\n",
       "      <td>...</td>\n",
       "      <td>...</td>\n",
       "      <td>...</td>\n",
       "      <td>...</td>\n",
       "      <td>...</td>\n",
       "      <td>...</td>\n",
       "      <td>...</td>\n",
       "      <td>...</td>\n",
       "    </tr>\n",
       "    <tr>\n",
       "      <th>1539</th>\n",
       "      <td>49700</td>\n",
       "      <td>Yuba City, CA (Metropolitan Statistical Area)</td>\n",
       "      <td>4.0</td>\n",
       "      <td>RPPs: Services: Other</td>\n",
       "      <td>97.6</td>\n",
       "      <td>99.3</td>\n",
       "      <td>100.2</td>\n",
       "      <td>100.8</td>\n",
       "      <td>101.3</td>\n",
       "      <td>102.8</td>\n",
       "      <td>102.0</td>\n",
       "      <td>101.5</td>\n",
       "      <td>101.6</td>\n",
       "      <td>101.2</td>\n",
       "      <td>101.6</td>\n",
       "      <td>102.2</td>\n",
       "    </tr>\n",
       "    <tr>\n",
       "      <th>1540</th>\n",
       "      <td>49740</td>\n",
       "      <td>Yuma, AZ (Metropolitan Statistical Area)</td>\n",
       "      <td>1.0</td>\n",
       "      <td>RPPs: All items</td>\n",
       "      <td>93.3</td>\n",
       "      <td>94.8</td>\n",
       "      <td>94.2</td>\n",
       "      <td>95.1</td>\n",
       "      <td>93.9</td>\n",
       "      <td>94.0</td>\n",
       "      <td>92.9</td>\n",
       "      <td>92.1</td>\n",
       "      <td>90.1</td>\n",
       "      <td>88.8</td>\n",
       "      <td>88.3</td>\n",
       "      <td>87.8</td>\n",
       "    </tr>\n",
       "    <tr>\n",
       "      <th>1541</th>\n",
       "      <td>49740</td>\n",
       "      <td>Yuma, AZ (Metropolitan Statistical Area)</td>\n",
       "      <td>2.0</td>\n",
       "      <td>RPPs: Goods</td>\n",
       "      <td>95.8</td>\n",
       "      <td>96.6</td>\n",
       "      <td>97.1</td>\n",
       "      <td>97.6</td>\n",
       "      <td>96.9</td>\n",
       "      <td>96.4</td>\n",
       "      <td>95.5</td>\n",
       "      <td>95.2</td>\n",
       "      <td>93.6</td>\n",
       "      <td>93.0</td>\n",
       "      <td>92.9</td>\n",
       "      <td>93.0</td>\n",
       "    </tr>\n",
       "    <tr>\n",
       "      <th>1542</th>\n",
       "      <td>49740</td>\n",
       "      <td>Yuma, AZ (Metropolitan Statistical Area)</td>\n",
       "      <td>3.0</td>\n",
       "      <td>RPPs: Services: Rents</td>\n",
       "      <td>81.8</td>\n",
       "      <td>84.5</td>\n",
       "      <td>79.9</td>\n",
       "      <td>81.6</td>\n",
       "      <td>77.5</td>\n",
       "      <td>77.1</td>\n",
       "      <td>76.2</td>\n",
       "      <td>74.6</td>\n",
       "      <td>72.5</td>\n",
       "      <td>71.0</td>\n",
       "      <td>70.2</td>\n",
       "      <td>69.3</td>\n",
       "    </tr>\n",
       "    <tr>\n",
       "      <th>1543</th>\n",
       "      <td>49740</td>\n",
       "      <td>Yuma, AZ (Metropolitan Statistical Area)</td>\n",
       "      <td>4.0</td>\n",
       "      <td>RPPs: Services: Other</td>\n",
       "      <td>97.6</td>\n",
       "      <td>99.3</td>\n",
       "      <td>100.2</td>\n",
       "      <td>100.8</td>\n",
       "      <td>101.3</td>\n",
       "      <td>102.7</td>\n",
       "      <td>102.0</td>\n",
       "      <td>101.5</td>\n",
       "      <td>100.0</td>\n",
       "      <td>98.7</td>\n",
       "      <td>99.0</td>\n",
       "      <td>99.2</td>\n",
       "    </tr>\n",
       "  </tbody>\n",
       "</table>\n",
       "<p>1544 rows × 16 columns</p>\n",
       "</div>"
      ],
      "text/plain": [
       "     GeoFips                                        GeoName  LineCode  \\\n",
       "0      00000                                  United States       1.0   \n",
       "1      00000                                  United States       2.0   \n",
       "2      00000                                  United States       3.0   \n",
       "3      00000                                  United States       4.0   \n",
       "4      00999     United States (Nonmetropolitan Portion) 1/       1.0   \n",
       "...      ...                                            ...       ...   \n",
       "1539   49700  Yuba City, CA (Metropolitan Statistical Area)       4.0   \n",
       "1540   49740       Yuma, AZ (Metropolitan Statistical Area)       1.0   \n",
       "1541   49740       Yuma, AZ (Metropolitan Statistical Area)       2.0   \n",
       "1542   49740       Yuma, AZ (Metropolitan Statistical Area)       3.0   \n",
       "1543   49740       Yuma, AZ (Metropolitan Statistical Area)       4.0   \n",
       "\n",
       "                  Description   2008   2009   2010   2011   2012   2013  \\\n",
       "0             RPPs: All items  100.0  100.0  100.0  100.0  100.0  100.0   \n",
       "1                 RPPs: Goods   99.3   99.2   99.0   99.0   99.0   99.0   \n",
       "2       RPPs: Services: Rents  101.1  101.2  102.0  101.9  101.8  101.8   \n",
       "3       RPPs: Services: Other  100.3  100.3  100.1  100.1  100.1  100.1   \n",
       "4             RPPs: All items   86.6   86.8   87.3   87.5   87.8   88.2   \n",
       "...                       ...    ...    ...    ...    ...    ...    ...   \n",
       "1539    RPPs: Services: Other   97.6   99.3  100.2  100.8  101.3  102.8   \n",
       "1540          RPPs: All items   93.3   94.8   94.2   95.1   93.9   94.0   \n",
       "1541              RPPs: Goods   95.8   96.6   97.1   97.6   96.9   96.4   \n",
       "1542    RPPs: Services: Rents   81.8   84.5   79.9   81.6   77.5   77.1   \n",
       "1543    RPPs: Services: Other   97.6   99.3  100.2  100.8  101.3  102.7   \n",
       "\n",
       "       2014   2015   2016   2017   2018   2019  \n",
       "0     100.0  100.0  100.0  100.0  100.0  100.0  \n",
       "1      99.0   99.0   99.0   98.9   98.9   98.8  \n",
       "2     101.7  101.7  101.8  101.8  102.0  102.0  \n",
       "3     100.1  100.1  100.1  100.1  100.0  100.0  \n",
       "4      88.1   88.0   87.9   87.9   87.3   86.8  \n",
       "...     ...    ...    ...    ...    ...    ...  \n",
       "1539  102.0  101.5  101.6  101.2  101.6  102.2  \n",
       "1540   92.9   92.1   90.1   88.8   88.3   87.8  \n",
       "1541   95.5   95.2   93.6   93.0   92.9   93.0  \n",
       "1542   76.2   74.6   72.5   71.0   70.2   69.3  \n",
       "1543  102.0  101.5  100.0   98.7   99.0   99.2  \n",
       "\n",
       "[1544 rows x 16 columns]"
      ]
     },
     "execution_count": 4,
     "metadata": {},
     "output_type": "execute_result"
    }
   ],
   "source": [
    "cost_of_living_df"
   ]
  },
  {
   "cell_type": "code",
   "execution_count": 5,
   "id": "983d8cb8",
   "metadata": {
    "ExecuteTime": {
     "end_time": "2021-12-04T07:40:05.248442Z",
     "start_time": "2021-12-04T07:40:05.233884Z"
    }
   },
   "outputs": [],
   "source": [
    "university_rankings = pd.read_pickle(DATA_DIR/ 'university_ranking_statistical_area.pickle')"
   ]
  },
  {
   "cell_type": "code",
   "execution_count": 6,
   "id": "c3c6ffef",
   "metadata": {
    "ExecuteTime": {
     "end_time": "2021-12-04T07:40:05.264827Z",
     "start_time": "2021-12-04T07:40:05.250158Z"
    }
   },
   "outputs": [],
   "source": [
    "university_rankings = university_rankings[university_rankings.CBSA.isnull() == False]"
   ]
  },
  {
   "cell_type": "code",
   "execution_count": 7,
   "id": "387f8a63",
   "metadata": {
    "ExecuteTime": {
     "end_time": "2021-12-04T07:40:05.301654Z",
     "start_time": "2021-12-04T07:40:05.267917Z"
    }
   },
   "outputs": [
    {
     "data": {
      "text/html": [
       "<div>\n",
       "<style scoped>\n",
       "    .dataframe tbody tr th:only-of-type {\n",
       "        vertical-align: middle;\n",
       "    }\n",
       "\n",
       "    .dataframe tbody tr th {\n",
       "        vertical-align: top;\n",
       "    }\n",
       "\n",
       "    .dataframe thead th {\n",
       "        text-align: right;\n",
       "    }\n",
       "</style>\n",
       "<table border=\"1\" class=\"dataframe\">\n",
       "  <thead>\n",
       "    <tr style=\"text-align: right;\">\n",
       "      <th></th>\n",
       "      <th>world_rank</th>\n",
       "      <th>institution</th>\n",
       "      <th>country</th>\n",
       "      <th>national_rank</th>\n",
       "      <th>quality_of_education</th>\n",
       "      <th>alumni_employment</th>\n",
       "      <th>quality_of_faculty</th>\n",
       "      <th>publications</th>\n",
       "      <th>influence</th>\n",
       "      <th>citations</th>\n",
       "      <th>...</th>\n",
       "      <th>score</th>\n",
       "      <th>year</th>\n",
       "      <th>CSA</th>\n",
       "      <th>CITY</th>\n",
       "      <th>STATE</th>\n",
       "      <th>LONGITUDE</th>\n",
       "      <th>LATITUDE</th>\n",
       "      <th>INSTNM</th>\n",
       "      <th>IALIAS</th>\n",
       "      <th>CBSA</th>\n",
       "    </tr>\n",
       "  </thead>\n",
       "  <tbody>\n",
       "    <tr>\n",
       "      <th>1200</th>\n",
       "      <td>1</td>\n",
       "      <td>Harvard University</td>\n",
       "      <td>USA</td>\n",
       "      <td>1</td>\n",
       "      <td>1</td>\n",
       "      <td>1</td>\n",
       "      <td>1</td>\n",
       "      <td>1</td>\n",
       "      <td>1</td>\n",
       "      <td>1</td>\n",
       "      <td>...</td>\n",
       "      <td>100.00</td>\n",
       "      <td>2015</td>\n",
       "      <td>148</td>\n",
       "      <td>Cambridge</td>\n",
       "      <td>MA</td>\n",
       "      <td>-71.118313</td>\n",
       "      <td>42.374471</td>\n",
       "      <td>Harvard University</td>\n",
       "      <td></td>\n",
       "      <td>Boston-Cambridge-Newton, MA-NH</td>\n",
       "    </tr>\n",
       "    <tr>\n",
       "      <th>1201</th>\n",
       "      <td>2</td>\n",
       "      <td>Stanford University</td>\n",
       "      <td>USA</td>\n",
       "      <td>2</td>\n",
       "      <td>9</td>\n",
       "      <td>2</td>\n",
       "      <td>4</td>\n",
       "      <td>5</td>\n",
       "      <td>3</td>\n",
       "      <td>3</td>\n",
       "      <td>...</td>\n",
       "      <td>98.66</td>\n",
       "      <td>2015</td>\n",
       "      <td>488</td>\n",
       "      <td>Stanford</td>\n",
       "      <td>CA</td>\n",
       "      <td>-122.167359</td>\n",
       "      <td>37.429434</td>\n",
       "      <td>Stanford University</td>\n",
       "      <td></td>\n",
       "      <td>San Jose-San Francisco-Oakland, CA</td>\n",
       "    </tr>\n",
       "    <tr>\n",
       "      <th>1202</th>\n",
       "      <td>3</td>\n",
       "      <td>Massachusetts Institute of Technology</td>\n",
       "      <td>USA</td>\n",
       "      <td>3</td>\n",
       "      <td>3</td>\n",
       "      <td>11</td>\n",
       "      <td>2</td>\n",
       "      <td>15</td>\n",
       "      <td>2</td>\n",
       "      <td>2</td>\n",
       "      <td>...</td>\n",
       "      <td>97.54</td>\n",
       "      <td>2015</td>\n",
       "      <td>148</td>\n",
       "      <td>Cambridge</td>\n",
       "      <td>MA</td>\n",
       "      <td>-71.093226</td>\n",
       "      <td>42.359243</td>\n",
       "      <td>Massachusetts Institute of Technology</td>\n",
       "      <td>MIT, M.I.T.</td>\n",
       "      <td>Boston-Cambridge-Newton, MA-NH</td>\n",
       "    </tr>\n",
       "  </tbody>\n",
       "</table>\n",
       "<p>3 rows × 22 columns</p>\n",
       "</div>"
      ],
      "text/plain": [
       "      world_rank                            institution country  \\\n",
       "1200           1                     Harvard University     USA   \n",
       "1201           2                    Stanford University     USA   \n",
       "1202           3  Massachusetts Institute of Technology     USA   \n",
       "\n",
       "      national_rank  quality_of_education  alumni_employment  \\\n",
       "1200              1                     1                  1   \n",
       "1201              2                     9                  2   \n",
       "1202              3                     3                 11   \n",
       "\n",
       "      quality_of_faculty  publications  influence  citations  ...   score  \\\n",
       "1200                   1             1          1          1  ...  100.00   \n",
       "1201                   4             5          3          3  ...   98.66   \n",
       "1202                   2            15          2          2  ...   97.54   \n",
       "\n",
       "      year  CSA       CITY  STATE   LONGITUDE   LATITUDE  \\\n",
       "1200  2015  148  Cambridge     MA  -71.118313  42.374471   \n",
       "1201  2015  488   Stanford     CA -122.167359  37.429434   \n",
       "1202  2015  148  Cambridge     MA  -71.093226  42.359243   \n",
       "\n",
       "                                     INSTNM       IALIAS  \\\n",
       "1200                     Harvard University                \n",
       "1201                    Stanford University                \n",
       "1202  Massachusetts Institute of Technology  MIT, M.I.T.   \n",
       "\n",
       "                                    CBSA  \n",
       "1200      Boston-Cambridge-Newton, MA-NH  \n",
       "1201  San Jose-San Francisco-Oakland, CA  \n",
       "1202      Boston-Cambridge-Newton, MA-NH  \n",
       "\n",
       "[3 rows x 22 columns]"
      ]
     },
     "execution_count": 7,
     "metadata": {},
     "output_type": "execute_result"
    }
   ],
   "source": [
    "university_rankings[:3]"
   ]
  },
  {
   "cell_type": "code",
   "execution_count": 8,
   "id": "fb63f997",
   "metadata": {
    "ExecuteTime": {
     "end_time": "2021-12-04T07:40:05.318869Z",
     "start_time": "2021-12-04T07:40:05.303925Z"
    }
   },
   "outputs": [],
   "source": [
    "statistical_areas = np.array([i.split(' (')[0] for i in cost_of_living_df.GeoName.values])"
   ]
  },
  {
   "cell_type": "code",
   "execution_count": 9,
   "id": "fbc83163",
   "metadata": {
    "ExecuteTime": {
     "end_time": "2021-12-04T07:40:05.336119Z",
     "start_time": "2021-12-04T07:40:05.320556Z"
    }
   },
   "outputs": [],
   "source": [
    "RPP_list = [\n",
    "    ['RPP_all','RPPs: All items'],\n",
    "    ['RPP_goods','  RPPs: Goods'],\n",
    "    ['RPP_rents','  RPPs: Services: Rents'],\n",
    "    ['RPP_other','  RPPs: Services: Other'],\n",
    "]"
   ]
  },
  {
   "cell_type": "code",
   "execution_count": 10,
   "id": "6348c553",
   "metadata": {
    "ExecuteTime": {
     "end_time": "2021-12-04T07:40:05.352459Z",
     "start_time": "2021-12-04T07:40:05.337797Z"
    }
   },
   "outputs": [
    {
     "data": {
      "text/plain": [
       "['RPP_all', 'RPPs: All items']"
      ]
     },
     "execution_count": 10,
     "metadata": {},
     "output_type": "execute_result"
    }
   ],
   "source": [
    "RPP_list[0]"
   ]
  },
  {
   "cell_type": "code",
   "execution_count": 11,
   "id": "86860f0e",
   "metadata": {
    "ExecuteTime": {
     "end_time": "2021-12-04T07:40:06.400811Z",
     "start_time": "2021-12-04T07:40:05.354070Z"
    },
    "scrolled": true
   },
   "outputs": [
    {
     "data": {
      "application/vnd.jupyter.widget-view+json": {
       "model_id": "d66d9b0f9ba14aa595be8161fe8455a0",
       "version_major": 2,
       "version_minor": 0
      },
      "text/plain": [
       "  0%|          | 0/4 [00:00<?, ?it/s]"
      ]
     },
     "metadata": {},
     "output_type": "display_data"
    },
    {
     "data": {
      "application/vnd.jupyter.widget-view+json": {
       "model_id": "cb77e0a67f3f42098a854ab3f4dc3e69",
       "version_major": 2,
       "version_minor": 0
      },
      "text/plain": [
       "  0%|          | 0/224 [00:00<?, ?it/s]"
      ]
     },
     "metadata": {},
     "output_type": "display_data"
    },
    {
     "name": "stdout",
     "output_type": "stream",
     "text": [
      "RPP not found: Stanford University\n",
      "\t San Jose-San Francisco-Oakland, CA\n",
      "RPP not found: Washington University in St. Louis\n",
      "\t St. Louis-St. Charles-Farmington, MO-IL\n",
      "RPP not found: University of California, Davis\n",
      "\t Sacramento-Roseville, CA\n",
      "RPP not found: Vanderbilt University\n",
      "\t Nashville-Davidson--Murfreesboro, TN\n",
      "RPP not found: University of Maryland, College Park\n",
      "\t Washington-Baltimore-Arlington, DC-MD-VA-WV-PA\n",
      "RPP not found: University of Notre Dame\n",
      "\t South Bend-Elkhart-Mishawaka, IN-MI\n",
      "RPP not found: Georgia Institute of Technology\n",
      "\t Klamath Falls, OR\n",
      "RPP not found: Tufts University\n",
      "\t Boston-Worcester-Providence, MA-RI-NH-CT\n",
      "RPP not found: Arizona State University\n",
      "\t Phoenix-Mesa, AZ\n",
      "RPP not found: Stony Brook University\n",
      "\t New York-Newark, NY-NJ-CT-PA\n",
      "RPP not found: Indiana University-Purdue University Indianapolis\n",
      "\t Indianapolis-Carmel-Muncie, IN\n",
      "RPP not found: University of Georgia\n",
      "\t Atlanta--Athens-Clarke County--Sandy Springs, GA-AL\n",
      "RPP not found: University of Connecticut\n",
      "\t Hartford-East Hartford, CT\n",
      "RPP not found: University of Kentucky\n",
      "\t Lexington-Fayette--Richmond--Frankfort, KY\n",
      "RPP not found: Tulane University\n",
      "\t Greenwood, SC\n",
      "RPP not found: University of Delaware\n",
      "\t Philadelphia-Reading-Camden, PA-NJ-DE-MD\n",
      "RPP not found: University of Louisville\n",
      "\t Louisville/Jefferson County--Elizabethtown--Bardstown, KY-IN\n",
      "RPP not found: Boston College\n",
      "\t Boston-Worcester-Providence, MA-RI-NH-CT\n",
      "RPP not found: Louisiana State University - Baton Rouge\n",
      "\t Lafayette-Opelousas-Morgan City, LA\n",
      "RPP not found: University of Oklahoma - Norman Campus\n",
      "\t Oklahoma City-Shawnee, OK\n",
      "RPP not found: College of William and Mary\n",
      "\t San Jose-San Francisco-Oakland, CA\n",
      "RPP not found: Saint Louis University\n",
      "\t St. Louis-St. Charles-Farmington, MO-IL\n",
      "RPP not found: Colorado School of Mines\n",
      "\t Denver-Aurora, CO\n",
      "RPP not found: Washington State University, Pullman\n",
      "\t Pullman, WA\n",
      "RPP not found: George Mason University\n",
      "\t Washington-Baltimore-Arlington, DC-MD-VA-WV-PA\n",
      "RPP not found: Miami University\n",
      "\t Minneapolis-St. Paul, MN-WI\n",
      "RPP not found: Ohio University\n",
      "\t Cedar Rapids-Iowa City, IA\n",
      "RPP not found: University of Wyoming\n",
      "\t Laramie, WY\n",
      "RPP not found: Clemson University\n",
      "\t Greenville-Spartanburg-Anderson, SC\n",
      "RPP not found: SUNY Downstate Medical Center\n",
      "\t New York-Newark, NY-NJ-CT-PA\n",
      "RPP not found: New Mexico State University\n",
      "\t Grants, NM\n",
      "RPP not found: New York Medical College\n",
      "\t New York-Newark, NY-NJ-CT-PA\n",
      "RPP not found: University of Missouri–Kansas City\n",
      "\t Kansas City-Overland Park-Kansas City, MO-KS\n",
      "RPP not found: Montana State University - Bozeman\n",
      "\t Bozeman, MT\n",
      "RPP not found: Kent State University\n",
      "\t Dayton-Springfield-Kettering, OH\n",
      "RPP not found: University of Montana - Missoula\n",
      "\t Warrensburg, MO\n",
      "RPP not found: University of Rhode Island\n",
      "\t Boston-Worcester-Providence, MA-RI-NH-CT\n",
      "RPP not found: Louisiana Tech University\n",
      "\t Ruston, LA\n",
      "RPP not found: Northern Illinois University\n",
      "\t Chicago-Naperville, IL-IN-WI\n",
      "RPP not found: University of Idaho\n",
      "\t Moscow, ID\n",
      "RPP not found: Loma Linda University\n",
      "\t Los Angeles-Long Beach, CA\n",
      "RPP not found: Missouri University of Science and Technology\n",
      "\t Rolla, MO\n",
      "RPP not found: University of Missouri–St. Louis\n",
      "\t St. Louis-St. Charles-Farmington, MO-IL\n",
      "RPP not found: University of Mississippi Medical Center\n",
      "\t Jackson-Vicksburg-Brookhaven, MS\n",
      "RPP not found: Michigan Technological University\n",
      "\t Houghton, MI\n",
      "RPP not found: Bowling Green State University\n",
      "\t Cleveland-Akron-Canton, OH\n",
      "RPP not found: University of Massachusetts Lowell\n",
      "\t Boston-Worcester-Providence, MA-RI-NH-CT\n",
      "RPP not found: Queens College, City University of New York\n",
      "\t New York-Newark, NY-NJ-CT-PA\n",
      "RPP not found: Oakland University\n",
      "\t Detroit-Warren-Ann Arbor, MI\n"
     ]
    },
    {
     "data": {
      "application/vnd.jupyter.widget-view+json": {
       "model_id": "c759bc113ebb4c168b6064bbd6a2a912",
       "version_major": 2,
       "version_minor": 0
      },
      "text/plain": [
       "  0%|          | 0/224 [00:00<?, ?it/s]"
      ]
     },
     "metadata": {},
     "output_type": "display_data"
    },
    {
     "name": "stdout",
     "output_type": "stream",
     "text": [
      "RPP not found: Stanford University\n",
      "\t San Jose-San Francisco-Oakland, CA\n",
      "RPP not found: Washington University in St. Louis\n",
      "\t St. Louis-St. Charles-Farmington, MO-IL\n",
      "RPP not found: University of California, Davis\n",
      "\t Sacramento-Roseville, CA\n",
      "RPP not found: Vanderbilt University\n",
      "\t Nashville-Davidson--Murfreesboro, TN\n",
      "RPP not found: University of Maryland, College Park\n",
      "\t Washington-Baltimore-Arlington, DC-MD-VA-WV-PA\n",
      "RPP not found: University of Notre Dame\n",
      "\t South Bend-Elkhart-Mishawaka, IN-MI\n",
      "RPP not found: Georgia Institute of Technology\n",
      "\t Klamath Falls, OR\n",
      "RPP not found: Tufts University\n",
      "\t Boston-Worcester-Providence, MA-RI-NH-CT\n",
      "RPP not found: Arizona State University\n",
      "\t Phoenix-Mesa, AZ\n",
      "RPP not found: Stony Brook University\n",
      "\t New York-Newark, NY-NJ-CT-PA\n",
      "RPP not found: Indiana University-Purdue University Indianapolis\n",
      "\t Indianapolis-Carmel-Muncie, IN\n",
      "RPP not found: University of Georgia\n",
      "\t Atlanta--Athens-Clarke County--Sandy Springs, GA-AL\n",
      "RPP not found: University of Connecticut\n",
      "\t Hartford-East Hartford, CT\n",
      "RPP not found: University of Kentucky\n",
      "\t Lexington-Fayette--Richmond--Frankfort, KY\n",
      "RPP not found: Tulane University\n",
      "\t Greenwood, SC\n",
      "RPP not found: University of Delaware\n",
      "\t Philadelphia-Reading-Camden, PA-NJ-DE-MD\n",
      "RPP not found: University of Louisville\n",
      "\t Louisville/Jefferson County--Elizabethtown--Bardstown, KY-IN\n",
      "RPP not found: Boston College\n",
      "\t Boston-Worcester-Providence, MA-RI-NH-CT\n",
      "RPP not found: Louisiana State University - Baton Rouge\n",
      "\t Lafayette-Opelousas-Morgan City, LA\n",
      "RPP not found: University of Oklahoma - Norman Campus\n",
      "\t Oklahoma City-Shawnee, OK\n",
      "RPP not found: College of William and Mary\n",
      "\t San Jose-San Francisco-Oakland, CA\n",
      "RPP not found: Saint Louis University\n",
      "\t St. Louis-St. Charles-Farmington, MO-IL\n",
      "RPP not found: Colorado School of Mines\n",
      "\t Denver-Aurora, CO\n",
      "RPP not found: Washington State University, Pullman\n",
      "\t Pullman, WA\n",
      "RPP not found: George Mason University\n",
      "\t Washington-Baltimore-Arlington, DC-MD-VA-WV-PA\n",
      "RPP not found: Miami University\n",
      "\t Minneapolis-St. Paul, MN-WI\n",
      "RPP not found: Ohio University\n",
      "\t Cedar Rapids-Iowa City, IA\n",
      "RPP not found: University of Wyoming\n",
      "\t Laramie, WY\n",
      "RPP not found: Clemson University\n",
      "\t Greenville-Spartanburg-Anderson, SC\n",
      "RPP not found: SUNY Downstate Medical Center\n",
      "\t New York-Newark, NY-NJ-CT-PA\n",
      "RPP not found: New Mexico State University\n",
      "\t Grants, NM\n",
      "RPP not found: New York Medical College\n",
      "\t New York-Newark, NY-NJ-CT-PA\n",
      "RPP not found: University of Missouri–Kansas City\n",
      "\t Kansas City-Overland Park-Kansas City, MO-KS\n",
      "RPP not found: Montana State University - Bozeman\n",
      "\t Bozeman, MT\n",
      "RPP not found: Kent State University\n",
      "\t Dayton-Springfield-Kettering, OH\n",
      "RPP not found: University of Montana - Missoula\n",
      "\t Warrensburg, MO\n",
      "RPP not found: University of Rhode Island\n",
      "\t Boston-Worcester-Providence, MA-RI-NH-CT\n",
      "RPP not found: Louisiana Tech University\n",
      "\t Ruston, LA\n",
      "RPP not found: Northern Illinois University\n",
      "\t Chicago-Naperville, IL-IN-WI\n",
      "RPP not found: University of Idaho\n",
      "\t Moscow, ID\n",
      "RPP not found: Loma Linda University\n",
      "\t Los Angeles-Long Beach, CA\n",
      "RPP not found: Missouri University of Science and Technology\n",
      "\t Rolla, MO\n",
      "RPP not found: University of Missouri–St. Louis\n",
      "\t St. Louis-St. Charles-Farmington, MO-IL\n",
      "RPP not found: University of Mississippi Medical Center\n",
      "\t Jackson-Vicksburg-Brookhaven, MS\n",
      "RPP not found: Michigan Technological University\n",
      "\t Houghton, MI\n",
      "RPP not found: Bowling Green State University\n",
      "\t Cleveland-Akron-Canton, OH\n",
      "RPP not found: University of Massachusetts Lowell\n",
      "\t Boston-Worcester-Providence, MA-RI-NH-CT\n",
      "RPP not found: Queens College, City University of New York\n",
      "\t New York-Newark, NY-NJ-CT-PA\n",
      "RPP not found: Oakland University\n",
      "\t Detroit-Warren-Ann Arbor, MI\n"
     ]
    },
    {
     "data": {
      "application/vnd.jupyter.widget-view+json": {
       "model_id": "1fd6058d80894b0a876045d00270b806",
       "version_major": 2,
       "version_minor": 0
      },
      "text/plain": [
       "  0%|          | 0/224 [00:00<?, ?it/s]"
      ]
     },
     "metadata": {},
     "output_type": "display_data"
    },
    {
     "name": "stdout",
     "output_type": "stream",
     "text": [
      "RPP not found: Stanford University\n",
      "\t San Jose-San Francisco-Oakland, CA\n",
      "RPP not found: Washington University in St. Louis\n",
      "\t St. Louis-St. Charles-Farmington, MO-IL\n",
      "RPP not found: University of California, Davis\n",
      "\t Sacramento-Roseville, CA\n",
      "RPP not found: Vanderbilt University\n",
      "\t Nashville-Davidson--Murfreesboro, TN\n",
      "RPP not found: University of Maryland, College Park\n",
      "\t Washington-Baltimore-Arlington, DC-MD-VA-WV-PA\n",
      "RPP not found: University of Notre Dame\n",
      "\t South Bend-Elkhart-Mishawaka, IN-MI\n",
      "RPP not found: Georgia Institute of Technology\n",
      "\t Klamath Falls, OR\n",
      "RPP not found: Tufts University\n",
      "\t Boston-Worcester-Providence, MA-RI-NH-CT\n",
      "RPP not found: Arizona State University\n",
      "\t Phoenix-Mesa, AZ\n",
      "RPP not found: Stony Brook University\n",
      "\t New York-Newark, NY-NJ-CT-PA\n",
      "RPP not found: Indiana University-Purdue University Indianapolis\n",
      "\t Indianapolis-Carmel-Muncie, IN\n",
      "RPP not found: University of Georgia\n",
      "\t Atlanta--Athens-Clarke County--Sandy Springs, GA-AL\n",
      "RPP not found: University of Connecticut\n",
      "\t Hartford-East Hartford, CT\n",
      "RPP not found: University of Kentucky\n",
      "\t Lexington-Fayette--Richmond--Frankfort, KY\n",
      "RPP not found: Tulane University\n",
      "\t Greenwood, SC\n",
      "RPP not found: University of Delaware\n",
      "\t Philadelphia-Reading-Camden, PA-NJ-DE-MD\n",
      "RPP not found: University of Louisville\n",
      "\t Louisville/Jefferson County--Elizabethtown--Bardstown, KY-IN\n",
      "RPP not found: Boston College\n",
      "\t Boston-Worcester-Providence, MA-RI-NH-CT\n",
      "RPP not found: Louisiana State University - Baton Rouge\n",
      "\t Lafayette-Opelousas-Morgan City, LA\n",
      "RPP not found: University of Oklahoma - Norman Campus\n",
      "\t Oklahoma City-Shawnee, OK\n",
      "RPP not found: College of William and Mary\n",
      "\t San Jose-San Francisco-Oakland, CA\n",
      "RPP not found: Saint Louis University\n",
      "\t St. Louis-St. Charles-Farmington, MO-IL\n",
      "RPP not found: Colorado School of Mines\n",
      "\t Denver-Aurora, CO\n",
      "RPP not found: Washington State University, Pullman\n",
      "\t Pullman, WA\n",
      "RPP not found: George Mason University\n",
      "\t Washington-Baltimore-Arlington, DC-MD-VA-WV-PA\n",
      "RPP not found: Miami University\n",
      "\t Minneapolis-St. Paul, MN-WI\n",
      "RPP not found: Ohio University\n",
      "\t Cedar Rapids-Iowa City, IA\n",
      "RPP not found: University of Wyoming\n",
      "\t Laramie, WY\n",
      "RPP not found: Clemson University\n",
      "\t Greenville-Spartanburg-Anderson, SC\n",
      "RPP not found: SUNY Downstate Medical Center\n",
      "\t New York-Newark, NY-NJ-CT-PA\n",
      "RPP not found: New Mexico State University\n",
      "\t Grants, NM\n",
      "RPP not found: New York Medical College\n",
      "\t New York-Newark, NY-NJ-CT-PA\n",
      "RPP not found: University of Missouri–Kansas City\n",
      "\t Kansas City-Overland Park-Kansas City, MO-KS\n",
      "RPP not found: Montana State University - Bozeman\n",
      "\t Bozeman, MT\n",
      "RPP not found: Kent State University\n",
      "\t Dayton-Springfield-Kettering, OH\n",
      "RPP not found: University of Montana - Missoula\n",
      "\t Warrensburg, MO\n",
      "RPP not found: University of Rhode Island\n",
      "\t Boston-Worcester-Providence, MA-RI-NH-CT\n",
      "RPP not found: Louisiana Tech University\n",
      "\t Ruston, LA\n",
      "RPP not found: Northern Illinois University\n",
      "\t Chicago-Naperville, IL-IN-WI\n",
      "RPP not found: University of Idaho\n",
      "\t Moscow, ID\n",
      "RPP not found: Loma Linda University\n",
      "\t Los Angeles-Long Beach, CA\n",
      "RPP not found: Missouri University of Science and Technology\n",
      "\t Rolla, MO\n",
      "RPP not found: University of Missouri–St. Louis\n",
      "\t St. Louis-St. Charles-Farmington, MO-IL\n",
      "RPP not found: University of Mississippi Medical Center\n",
      "\t Jackson-Vicksburg-Brookhaven, MS\n",
      "RPP not found: Michigan Technological University\n",
      "\t Houghton, MI\n",
      "RPP not found: Bowling Green State University\n",
      "\t Cleveland-Akron-Canton, OH\n",
      "RPP not found: University of Massachusetts Lowell\n",
      "\t Boston-Worcester-Providence, MA-RI-NH-CT\n",
      "RPP not found: Queens College, City University of New York\n",
      "\t New York-Newark, NY-NJ-CT-PA\n",
      "RPP not found: Oakland University\n",
      "\t Detroit-Warren-Ann Arbor, MI\n"
     ]
    },
    {
     "data": {
      "application/vnd.jupyter.widget-view+json": {
       "model_id": "09cbacfd92f94889a7a0137b67cd2a63",
       "version_major": 2,
       "version_minor": 0
      },
      "text/plain": [
       "  0%|          | 0/224 [00:00<?, ?it/s]"
      ]
     },
     "metadata": {},
     "output_type": "display_data"
    },
    {
     "name": "stdout",
     "output_type": "stream",
     "text": [
      "RPP not found: Stanford University\n",
      "\t San Jose-San Francisco-Oakland, CA\n",
      "RPP not found: Washington University in St. Louis\n",
      "\t St. Louis-St. Charles-Farmington, MO-IL\n",
      "RPP not found: University of California, Davis\n",
      "\t Sacramento-Roseville, CA\n",
      "RPP not found: Vanderbilt University\n",
      "\t Nashville-Davidson--Murfreesboro, TN\n",
      "RPP not found: University of Maryland, College Park\n",
      "\t Washington-Baltimore-Arlington, DC-MD-VA-WV-PA\n",
      "RPP not found: University of Notre Dame\n",
      "\t South Bend-Elkhart-Mishawaka, IN-MI\n",
      "RPP not found: Georgia Institute of Technology\n",
      "\t Klamath Falls, OR\n",
      "RPP not found: Tufts University\n",
      "\t Boston-Worcester-Providence, MA-RI-NH-CT\n",
      "RPP not found: Arizona State University\n",
      "\t Phoenix-Mesa, AZ\n",
      "RPP not found: Stony Brook University\n",
      "\t New York-Newark, NY-NJ-CT-PA\n",
      "RPP not found: Indiana University-Purdue University Indianapolis\n",
      "\t Indianapolis-Carmel-Muncie, IN\n",
      "RPP not found: University of Georgia\n",
      "\t Atlanta--Athens-Clarke County--Sandy Springs, GA-AL\n",
      "RPP not found: University of Connecticut\n",
      "\t Hartford-East Hartford, CT\n",
      "RPP not found: University of Kentucky\n",
      "\t Lexington-Fayette--Richmond--Frankfort, KY\n",
      "RPP not found: Tulane University\n",
      "\t Greenwood, SC\n",
      "RPP not found: University of Delaware\n",
      "\t Philadelphia-Reading-Camden, PA-NJ-DE-MD\n",
      "RPP not found: University of Louisville\n",
      "\t Louisville/Jefferson County--Elizabethtown--Bardstown, KY-IN\n",
      "RPP not found: Boston College\n",
      "\t Boston-Worcester-Providence, MA-RI-NH-CT\n",
      "RPP not found: Louisiana State University - Baton Rouge\n",
      "\t Lafayette-Opelousas-Morgan City, LA\n",
      "RPP not found: University of Oklahoma - Norman Campus\n",
      "\t Oklahoma City-Shawnee, OK\n",
      "RPP not found: College of William and Mary\n",
      "\t San Jose-San Francisco-Oakland, CA\n",
      "RPP not found: Saint Louis University\n",
      "\t St. Louis-St. Charles-Farmington, MO-IL\n",
      "RPP not found: Colorado School of Mines\n",
      "\t Denver-Aurora, CO\n",
      "RPP not found: Washington State University, Pullman\n",
      "\t Pullman, WA\n",
      "RPP not found: George Mason University\n",
      "\t Washington-Baltimore-Arlington, DC-MD-VA-WV-PA\n",
      "RPP not found: Miami University\n",
      "\t Minneapolis-St. Paul, MN-WI\n",
      "RPP not found: Ohio University\n",
      "\t Cedar Rapids-Iowa City, IA\n",
      "RPP not found: University of Wyoming\n",
      "\t Laramie, WY\n",
      "RPP not found: Clemson University\n",
      "\t Greenville-Spartanburg-Anderson, SC\n",
      "RPP not found: SUNY Downstate Medical Center\n",
      "\t New York-Newark, NY-NJ-CT-PA\n",
      "RPP not found: New Mexico State University\n",
      "\t Grants, NM\n",
      "RPP not found: New York Medical College\n",
      "\t New York-Newark, NY-NJ-CT-PA\n",
      "RPP not found: University of Missouri–Kansas City\n",
      "\t Kansas City-Overland Park-Kansas City, MO-KS\n",
      "RPP not found: Montana State University - Bozeman\n",
      "\t Bozeman, MT\n",
      "RPP not found: Kent State University\n",
      "\t Dayton-Springfield-Kettering, OH\n",
      "RPP not found: University of Montana - Missoula\n",
      "\t Warrensburg, MO\n",
      "RPP not found: University of Rhode Island\n",
      "\t Boston-Worcester-Providence, MA-RI-NH-CT\n",
      "RPP not found: Louisiana Tech University\n",
      "\t Ruston, LA\n",
      "RPP not found: Northern Illinois University\n",
      "\t Chicago-Naperville, IL-IN-WI\n",
      "RPP not found: University of Idaho\n",
      "\t Moscow, ID\n",
      "RPP not found: Loma Linda University\n",
      "\t Los Angeles-Long Beach, CA\n",
      "RPP not found: Missouri University of Science and Technology\n",
      "\t Rolla, MO\n",
      "RPP not found: University of Missouri–St. Louis\n",
      "\t St. Louis-St. Charles-Farmington, MO-IL\n",
      "RPP not found: University of Mississippi Medical Center\n",
      "\t Jackson-Vicksburg-Brookhaven, MS\n",
      "RPP not found: Michigan Technological University\n",
      "\t Houghton, MI\n",
      "RPP not found: Bowling Green State University\n",
      "\t Cleveland-Akron-Canton, OH\n",
      "RPP not found: University of Massachusetts Lowell\n",
      "\t Boston-Worcester-Providence, MA-RI-NH-CT\n",
      "RPP not found: Queens College, City University of New York\n",
      "\t New York-Newark, NY-NJ-CT-PA\n",
      "RPP not found: Oakland University\n",
      "\t Detroit-Warren-Ann Arbor, MI\n"
     ]
    }
   ],
   "source": [
    "for label, col in tqdm(RPP_list):\n",
    "    RPP = []\n",
    "    for idx, row in tqdm(university_rankings.iterrows(), total=len(university_rankings)):\n",
    "        if type(row['CBSA']) is not str:\n",
    "            print('No match: {}'.format(row.institution))\n",
    "            RPP.append(np.nan)\n",
    "            continue\n",
    "        matching_stat_area = cost_of_living_df[statistical_areas == row['CBSA']]\n",
    "        if len(matching_stat_area) == 0:\n",
    "            print('RPP not found: {}'.format(row.institution))\n",
    "            print('\\t {}'.format(row.CBSA))\n",
    "            RPP.append(np.nan)\n",
    "            continue\n",
    "        RPP.append(matching_stat_area[matching_stat_area.Description == col]['2019'].values[0])\n",
    "    university_rankings[label] = RPP"
   ]
  },
  {
   "cell_type": "code",
   "execution_count": 12,
   "id": "03d3a2cb",
   "metadata": {
    "ExecuteTime": {
     "end_time": "2021-12-04T07:40:06.441567Z",
     "start_time": "2021-12-04T07:40:06.402585Z"
    }
   },
   "outputs": [
    {
     "data": {
      "text/html": [
       "<div>\n",
       "<style scoped>\n",
       "    .dataframe tbody tr th:only-of-type {\n",
       "        vertical-align: middle;\n",
       "    }\n",
       "\n",
       "    .dataframe tbody tr th {\n",
       "        vertical-align: top;\n",
       "    }\n",
       "\n",
       "    .dataframe thead th {\n",
       "        text-align: right;\n",
       "    }\n",
       "</style>\n",
       "<table border=\"1\" class=\"dataframe\">\n",
       "  <thead>\n",
       "    <tr style=\"text-align: right;\">\n",
       "      <th></th>\n",
       "      <th>world_rank</th>\n",
       "      <th>institution</th>\n",
       "      <th>country</th>\n",
       "      <th>national_rank</th>\n",
       "      <th>quality_of_education</th>\n",
       "      <th>alumni_employment</th>\n",
       "      <th>quality_of_faculty</th>\n",
       "      <th>publications</th>\n",
       "      <th>influence</th>\n",
       "      <th>citations</th>\n",
       "      <th>...</th>\n",
       "      <th>STATE</th>\n",
       "      <th>LONGITUDE</th>\n",
       "      <th>LATITUDE</th>\n",
       "      <th>INSTNM</th>\n",
       "      <th>IALIAS</th>\n",
       "      <th>CBSA</th>\n",
       "      <th>RPP_all</th>\n",
       "      <th>RPP_goods</th>\n",
       "      <th>RPP_rents</th>\n",
       "      <th>RPP_other</th>\n",
       "    </tr>\n",
       "  </thead>\n",
       "  <tbody>\n",
       "    <tr>\n",
       "      <th>1200</th>\n",
       "      <td>1</td>\n",
       "      <td>Harvard University</td>\n",
       "      <td>USA</td>\n",
       "      <td>1</td>\n",
       "      <td>1</td>\n",
       "      <td>1</td>\n",
       "      <td>1</td>\n",
       "      <td>1</td>\n",
       "      <td>1</td>\n",
       "      <td>1</td>\n",
       "      <td>...</td>\n",
       "      <td>MA</td>\n",
       "      <td>-71.118313</td>\n",
       "      <td>42.374471</td>\n",
       "      <td>Harvard University</td>\n",
       "      <td></td>\n",
       "      <td>Boston-Cambridge-Newton, MA-NH</td>\n",
       "      <td>115.5</td>\n",
       "      <td>103.7</td>\n",
       "      <td>143.6</td>\n",
       "      <td>111.3</td>\n",
       "    </tr>\n",
       "    <tr>\n",
       "      <th>1201</th>\n",
       "      <td>2</td>\n",
       "      <td>Stanford University</td>\n",
       "      <td>USA</td>\n",
       "      <td>2</td>\n",
       "      <td>9</td>\n",
       "      <td>2</td>\n",
       "      <td>4</td>\n",
       "      <td>5</td>\n",
       "      <td>3</td>\n",
       "      <td>3</td>\n",
       "      <td>...</td>\n",
       "      <td>CA</td>\n",
       "      <td>-122.167359</td>\n",
       "      <td>37.429434</td>\n",
       "      <td>Stanford University</td>\n",
       "      <td></td>\n",
       "      <td>San Jose-San Francisco-Oakland, CA</td>\n",
       "      <td>NaN</td>\n",
       "      <td>NaN</td>\n",
       "      <td>NaN</td>\n",
       "      <td>NaN</td>\n",
       "    </tr>\n",
       "    <tr>\n",
       "      <th>1202</th>\n",
       "      <td>3</td>\n",
       "      <td>Massachusetts Institute of Technology</td>\n",
       "      <td>USA</td>\n",
       "      <td>3</td>\n",
       "      <td>3</td>\n",
       "      <td>11</td>\n",
       "      <td>2</td>\n",
       "      <td>15</td>\n",
       "      <td>2</td>\n",
       "      <td>2</td>\n",
       "      <td>...</td>\n",
       "      <td>MA</td>\n",
       "      <td>-71.093226</td>\n",
       "      <td>42.359243</td>\n",
       "      <td>Massachusetts Institute of Technology</td>\n",
       "      <td>MIT, M.I.T.</td>\n",
       "      <td>Boston-Cambridge-Newton, MA-NH</td>\n",
       "      <td>115.5</td>\n",
       "      <td>103.7</td>\n",
       "      <td>143.6</td>\n",
       "      <td>111.3</td>\n",
       "    </tr>\n",
       "  </tbody>\n",
       "</table>\n",
       "<p>3 rows × 26 columns</p>\n",
       "</div>"
      ],
      "text/plain": [
       "      world_rank                            institution country  \\\n",
       "1200           1                     Harvard University     USA   \n",
       "1201           2                    Stanford University     USA   \n",
       "1202           3  Massachusetts Institute of Technology     USA   \n",
       "\n",
       "      national_rank  quality_of_education  alumni_employment  \\\n",
       "1200              1                     1                  1   \n",
       "1201              2                     9                  2   \n",
       "1202              3                     3                 11   \n",
       "\n",
       "      quality_of_faculty  publications  influence  citations  ...  STATE  \\\n",
       "1200                   1             1          1          1  ...     MA   \n",
       "1201                   4             5          3          3  ...     CA   \n",
       "1202                   2            15          2          2  ...     MA   \n",
       "\n",
       "       LONGITUDE   LATITUDE                                 INSTNM  \\\n",
       "1200  -71.118313  42.374471                     Harvard University   \n",
       "1201 -122.167359  37.429434                    Stanford University   \n",
       "1202  -71.093226  42.359243  Massachusetts Institute of Technology   \n",
       "\n",
       "           IALIAS                                CBSA RPP_all  RPP_goods  \\\n",
       "1200                   Boston-Cambridge-Newton, MA-NH   115.5      103.7   \n",
       "1201               San Jose-San Francisco-Oakland, CA     NaN        NaN   \n",
       "1202  MIT, M.I.T.      Boston-Cambridge-Newton, MA-NH   115.5      103.7   \n",
       "\n",
       "      RPP_rents RPP_other  \n",
       "1200      143.6     111.3  \n",
       "1201        NaN       NaN  \n",
       "1202      143.6     111.3  \n",
       "\n",
       "[3 rows x 26 columns]"
      ]
     },
     "execution_count": 12,
     "metadata": {},
     "output_type": "execute_result"
    }
   ],
   "source": [
    "university_rankings[:3]"
   ]
  },
  {
   "cell_type": "code",
   "execution_count": 13,
   "id": "8d57f692",
   "metadata": {
    "ExecuteTime": {
     "end_time": "2021-12-04T07:40:06.465606Z",
     "start_time": "2021-12-04T07:40:06.443217Z"
    }
   },
   "outputs": [],
   "source": [
    "university_rankings.to_pickle(DATA_DIR/ 'university_ranking_rpp.pickle')"
   ]
  },
  {
   "cell_type": "code",
   "execution_count": 14,
   "id": "f0825985",
   "metadata": {
    "ExecuteTime": {
     "end_time": "2021-12-04T07:40:06.483396Z",
     "start_time": "2021-12-04T07:40:06.467669Z"
    }
   },
   "outputs": [],
   "source": [
    "university_rankings = university_rankings[university_rankings.RPP_all.isnull() ==False]"
   ]
  },
  {
   "cell_type": "code",
   "execution_count": 15,
   "id": "bdb38077",
   "metadata": {
    "ExecuteTime": {
     "end_time": "2021-12-04T07:40:06.499021Z",
     "start_time": "2021-12-04T07:40:06.485056Z"
    }
   },
   "outputs": [],
   "source": [
    "university_rankings = university_rankings.sort_values(by='national_rank')"
   ]
  },
  {
   "cell_type": "code",
   "execution_count": 16,
   "id": "435c0e37",
   "metadata": {
    "ExecuteTime": {
     "end_time": "2021-12-04T07:40:06.516456Z",
     "start_time": "2021-12-04T07:40:06.500646Z"
    }
   },
   "outputs": [],
   "source": [
    "smoothed = np.convolve(university_rankings.RPP_rents.values, np.ones(10)/10)"
   ]
  },
  {
   "cell_type": "code",
   "execution_count": 17,
   "id": "dc77757f",
   "metadata": {
    "ExecuteTime": {
     "end_time": "2021-12-04T07:40:06.535479Z",
     "start_time": "2021-12-04T07:40:06.518163Z"
    }
   },
   "outputs": [
    {
     "data": {
      "text/plain": [
       "array([143.6, 143.6, 151.8, 200.3, 112.4, 121. , 134.9, 107.1, 169.5,\n",
       "       108.5, 169.5, 113.7, 151.8, 115.4, 172. , 112.4, 108.9, 200.3,\n",
       "        91.7, 151.8, 120.9, 148.4,  83.7,  91.7,  98.6,  70.4,  78.9,\n",
       "        86.6, 111.3,  57.6, 151.8, 169.5, 152. ,  91.3,  78.9, 169.1,\n",
       "       143.6,  85.5, 109.4, 109.9,  92.3,  95.7,  97.2, 169.5, 104.7,\n",
       "        84.7,  76.3,  86.4, 161.7,  80.4, 104.7, 104.7, 139. , 132.5,\n",
       "       109.9,  91. , 109.9, 151.8,  69.4, 174.5,  78.5,  66.5, 127.1,\n",
       "       151.8, 113.7,  87.8,  99.7, 104.7,  89.3,  86.1, 105.6,  78. ,\n",
       "        83.4, 161.7, 112.4, 120.6,  86.6,  70.9,  71.3,  91.4, 104.7,\n",
       "        84.2, 108.5,  80.1, 108.5,  95.8, 110.7,  96.9, 125.7,  79.9,\n",
       "       143.6, 143.6, 102.8, 151.8,  91.4,  92.2,  77.6, 101.4,  81.7,\n",
       "       112.4, 122.8,  97.9, 106. ,  85.3,  75.6, 172. , 104.7, 108.5,\n",
       "       102.8, 109.5,  85.2,  98.3,  70.6,  76.7,  98.6, 139. ,  69.7,\n",
       "       112.4,  77.8,  69.6, 108.1,  87.3,  82.5,  76.7, 112.4, 168.3,\n",
       "        85.2, 113.7,  85.2,  97.2,  92.2,  97.9,  68.1,  70.1,  76.7,\n",
       "        74.6,  59.8, 137.2,  64.6,  90.6, 132.5,  90.6, 104.7, 109.9,\n",
       "        87.3,  83.6, 102.8,  98.6, 127.1, 100.5,  92.3, 200.3,  92.2,\n",
       "       161.7, 151.8,  75.6,  70.6, 151.8,  65.7, 110.8, 109.9,  80.9,\n",
       "        89.5,  99.6, 143.6, 161.7,  69.6,  61.6, 151.8, 132.5,  71.3,\n",
       "        65.1,  77.2,  73.3,  86.5])"
      ]
     },
     "execution_count": 17,
     "metadata": {},
     "output_type": "execute_result"
    }
   ],
   "source": [
    "university_rankings.RPP_rents.values"
   ]
  },
  {
   "cell_type": "code",
   "execution_count": 18,
   "id": "855a6a3a",
   "metadata": {
    "ExecuteTime": {
     "end_time": "2021-12-04T07:40:06.917439Z",
     "start_time": "2021-12-04T07:40:06.537085Z"
    }
   },
   "outputs": [],
   "source": [
    "from scipy.stats import pearsonr"
   ]
  },
  {
   "cell_type": "code",
   "execution_count": 19,
   "id": "b4f2ac3e",
   "metadata": {
    "ExecuteTime": {
     "end_time": "2021-12-04T07:40:07.111180Z",
     "start_time": "2021-12-04T07:40:06.919336Z"
    }
   },
   "outputs": [
    {
     "data": {
      "text/plain": [
       "<matplotlib.collections.PathCollection at 0x7f143e367d90>"
      ]
     },
     "execution_count": 19,
     "metadata": {},
     "output_type": "execute_result"
    },
    {
     "data": {
      "image/png": "[encoded data removed]",
      "text/plain": [
       "<Figure size 432x288 with 1 Axes>"
      ]
     },
     "metadata": {
      "needs_background": "light"
     },
     "output_type": "display_data"
    }
   ],
   "source": [
    "x = university_rankings.national_rank.values\n",
    "y = university_rankings['RPP_rents']\n",
    "fig, ax = plt.subplots()\n",
    "ax.scatter(\n",
    "    x,\n",
    "    y\n",
    ")\n",
    "#plt.plot(smoothed)\n",
    "#ax.set_yscale('log')"
   ]
  },
  {
   "cell_type": "code",
   "execution_count": 20,
   "id": "6eff3a5f",
   "metadata": {
    "ExecuteTime": {
     "end_time": "2021-12-04T07:40:07.131449Z",
     "start_time": "2021-12-04T07:40:07.112788Z"
    }
   },
   "outputs": [
    {
     "data": {
      "text/plain": [
       "(-0.2671473565562644, 0.00035173333016531166)"
      ]
     },
     "execution_count": 20,
     "metadata": {},
     "output_type": "execute_result"
    }
   ],
   "source": [
    "pearsonr(x,y)"
   ]
  },
  {
   "cell_type": "code",
   "execution_count": 21,
   "id": "7b4921bf",
   "metadata": {
    "ExecuteTime": {
     "end_time": "2021-12-04T07:40:07.153520Z",
     "start_time": "2021-12-04T07:40:07.133059Z"
    }
   },
   "outputs": [
    {
     "data": {
      "text/plain": [
       "(-0.3429988702186009, 3.373235964550399e-06)"
      ]
     },
     "execution_count": 21,
     "metadata": {},
     "output_type": "execute_result"
    }
   ],
   "source": [
    "pearsonr(np.log(x),y)"
   ]
  },
  {
   "cell_type": "code",
   "execution_count": 22,
   "id": "ed63a6f9",
   "metadata": {
    "ExecuteTime": {
     "end_time": "2021-12-04T07:40:07.203117Z",
     "start_time": "2021-12-04T07:40:07.157029Z"
    }
   },
   "outputs": [],
   "source": [
    "import seaborn as sns"
   ]
  },
  {
   "cell_type": "code",
   "execution_count": 23,
   "id": "b47dbe97",
   "metadata": {
    "ExecuteTime": {
     "end_time": "2021-12-04T07:40:07.580329Z",
     "start_time": "2021-12-04T07:40:07.204912Z"
    }
   },
   "outputs": [
    {
     "data": {
      "text/plain": [
       "<matplotlib.axes._subplots.AxesSubplot at 0x7f143e077880>"
      ]
     },
     "execution_count": 23,
     "metadata": {},
     "output_type": "execute_result"
    },
    {
     "data": {
      "image/png": "[encoded data removed]",
      "text/plain": [
       "<Figure size 432x288 with 1 Axes>"
      ]
     },
     "metadata": {
      "needs_background": "light"
     },
     "output_type": "display_data"
    }
   ],
   "source": [
    "fig, ax = plt.subplots()\n",
    "sns.regplot(x = \"national_rank\", y=\"RPP_rents\", data=university_rankings, ax = ax)# logx=True, #\n",
    "#ax.set_xscale('log')"
   ]
  },
  {
   "cell_type": "code",
   "execution_count": null,
   "id": "30c792c9",
   "metadata": {},
   "outputs": [],
   "source": []
  }
 ],
 "metadata": {
  "kernelspec": {
   "display_name": "postdoc",
   "language": "python",
   "name": "postdoc"
  },
  "language_info": {
   "codemirror_mode": {
    "name": "ipython",
    "version": 3
   },
   "file_extension": ".py",
   "mimetype": "text/x-python",
   "name": "python",
   "nbconvert_exporter": "python",
   "pygments_lexer": "ipython3",
   "version": "3.8.12"
  }
 },
 "nbformat": 4,
 "nbformat_minor": 5
}
