{
 "cells": [
  {
   "cell_type": "markdown",
   "id": "3d78fc5c",
   "metadata": {},
   "source": [
    "### Plot faculty hiring distribution by city"
   ]
  },
  {
   "cell_type": "code",
   "execution_count": 1,
   "id": "713e5c81",
   "metadata": {
    "ExecuteTime": {
     "end_time": "2022-01-15T00:48:47.992762Z",
     "start_time": "2022-01-15T00:48:47.946227Z"
    }
   },
   "outputs": [],
   "source": [
    "%load_ext autoreload\n",
    "%autoreload 2"
   ]
  },
  {
   "cell_type": "code",
   "execution_count": 2,
   "id": "8fa73a66",
   "metadata": {
    "ExecuteTime": {
     "end_time": "2022-01-15T00:48:49.459775Z",
     "start_time": "2022-01-15T00:48:48.114085Z"
    }
   },
   "outputs": [
    {
     "name": "stderr",
     "output_type": "stream",
     "text": [
      "<ipython-input-2-57b724ca8b01>:5: TqdmExperimentalWarning: Using `tqdm.autonotebook.tqdm` in notebook mode. Use `tqdm.tqdm` instead to force console mode (e.g. in jupyter console)\n",
      "  from tqdm.autonotebook import tqdm\n"
     ]
    }
   ],
   "source": [
    "import numpy as np\n",
    "import pandas as pd\n",
    "import matplotlib.pyplot as plt\n",
    "%matplotlib inline\n",
    "from tqdm.autonotebook import tqdm\n",
    "from postdocsalary.paths import DATA_DIR, ensure_dir\n",
    "import urllib.request\n",
    "pd.set_option('display.max_columns', None)\n",
    "from postdocsalary.paths import save_fig, FIGURE_DIR"
   ]
  },
  {
   "cell_type": "code",
   "execution_count": 3,
   "id": "e3c7d05f",
   "metadata": {
    "ExecuteTime": {
     "end_time": "2022-01-15T00:48:49.491769Z",
     "start_time": "2022-01-15T00:48:49.463299Z"
    }
   },
   "outputs": [],
   "source": [
    "CBSA_df = pd.read_pickle(DATA_DIR / 'city_hiring.pickle')"
   ]
  },
  {
   "cell_type": "code",
   "execution_count": 4,
   "id": "098abf87",
   "metadata": {
    "ExecuteTime": {
     "end_time": "2022-01-15T00:48:52.199641Z",
     "start_time": "2022-01-15T00:48:52.090622Z"
    }
   },
   "outputs": [
    {
     "data": {
      "text/html": [
       "<div>\n",
       "<style scoped>\n",
       "    .dataframe tbody tr th:only-of-type {\n",
       "        vertical-align: middle;\n",
       "    }\n",
       "\n",
       "    .dataframe tbody tr th {\n",
       "        vertical-align: top;\n",
       "    }\n",
       "\n",
       "    .dataframe thead th {\n",
       "        text-align: right;\n",
       "    }\n",
       "</style>\n",
       "<table border=\"1\" class=\"dataframe\">\n",
       "  <thead>\n",
       "    <tr style=\"text-align: right;\">\n",
       "      <th></th>\n",
       "      <th>CBSA_NAME</th>\n",
       "      <th>RPP_all</th>\n",
       "      <th>total_hires</th>\n",
       "      <th>prop_hires</th>\n",
       "      <th>cum_hires</th>\n",
       "      <th>n_uni</th>\n",
       "      <th>n_grad</th>\n",
       "      <th>prop_grad</th>\n",
       "      <th>cum_grad</th>\n",
       "      <th>hiring_grad_disparity</th>\n",
       "    </tr>\n",
       "  </thead>\n",
       "  <tbody>\n",
       "    <tr>\n",
       "      <th>2</th>\n",
       "      <td>Boston-Cambridge-Newton, MA-NH</td>\n",
       "      <td>115.5</td>\n",
       "      <td>1604.0</td>\n",
       "      <td>0.115679</td>\n",
       "      <td>0.115679</td>\n",
       "      <td>10</td>\n",
       "      <td>2325.0</td>\n",
       "      <td>0.059061</td>\n",
       "      <td>0.059061</td>\n",
       "      <td>0.056618</td>\n",
       "    </tr>\n",
       "    <tr>\n",
       "      <th>0</th>\n",
       "      <td>Chicago-Naperville-Elgin, IL-IN-WI</td>\n",
       "      <td>102.8</td>\n",
       "      <td>919.0</td>\n",
       "      <td>0.066277</td>\n",
       "      <td>0.181956</td>\n",
       "      <td>6</td>\n",
       "      <td>1506.0</td>\n",
       "      <td>0.038256</td>\n",
       "      <td>0.097317</td>\n",
       "      <td>0.028021</td>\n",
       "    </tr>\n",
       "    <tr>\n",
       "      <th>6</th>\n",
       "      <td>New York-Newark-Jersey City, NY-NJ-PA</td>\n",
       "      <td>125.7</td>\n",
       "      <td>854.0</td>\n",
       "      <td>0.061589</td>\n",
       "      <td>0.243545</td>\n",
       "      <td>5</td>\n",
       "      <td>1268.0</td>\n",
       "      <td>0.032211</td>\n",
       "      <td>0.129528</td>\n",
       "      <td>0.029379</td>\n",
       "    </tr>\n",
       "  </tbody>\n",
       "</table>\n",
       "</div>"
      ],
      "text/plain": [
       "                               CBSA_NAME  RPP_all  total_hires  prop_hires  \\\n",
       "2         Boston-Cambridge-Newton, MA-NH    115.5       1604.0    0.115679   \n",
       "0     Chicago-Naperville-Elgin, IL-IN-WI    102.8        919.0    0.066277   \n",
       "6  New York-Newark-Jersey City, NY-NJ-PA    125.7        854.0    0.061589   \n",
       "\n",
       "   cum_hires  n_uni  n_grad  prop_grad  cum_grad  hiring_grad_disparity  \n",
       "2   0.115679     10  2325.0   0.059061  0.059061               0.056618  \n",
       "0   0.181956      6  1506.0   0.038256  0.097317               0.028021  \n",
       "6   0.243545      5  1268.0   0.032211  0.129528               0.029379  "
      ]
     },
     "execution_count": 4,
     "metadata": {},
     "output_type": "execute_result"
    }
   ],
   "source": [
    "CBSA_df[:3]"
   ]
  },
  {
   "cell_type": "markdown",
   "id": "0bc67b08",
   "metadata": {},
   "source": [
    "### For each city, get the median and 95% CI on salary and real salary"
   ]
  },
  {
   "cell_type": "code",
   "execution_count": 9,
   "id": "02713dcf",
   "metadata": {
    "ExecuteTime": {
     "end_time": "2022-01-15T00:51:17.707073Z",
     "start_time": "2022-01-15T00:51:17.582861Z"
    }
   },
   "outputs": [],
   "source": [
    "university_df = pd.read_pickle(DATA_DIR/ 'university_ranking_salary.pickle')"
   ]
  },
  {
   "cell_type": "code",
   "execution_count": 10,
   "id": "28251cf2",
   "metadata": {
    "ExecuteTime": {
     "end_time": "2022-01-15T00:51:22.471013Z",
     "start_time": "2022-01-15T00:51:22.242110Z"
    }
   },
   "outputs": [
    {
     "data": {
      "text/html": [
       "<div>\n",
       "<style scoped>\n",
       "    .dataframe tbody tr th:only-of-type {\n",
       "        vertical-align: middle;\n",
       "    }\n",
       "\n",
       "    .dataframe tbody tr th {\n",
       "        vertical-align: top;\n",
       "    }\n",
       "\n",
       "    .dataframe thead th {\n",
       "        text-align: right;\n",
       "    }\n",
       "</style>\n",
       "<table border=\"1\" class=\"dataframe\">\n",
       "  <thead>\n",
       "    <tr style=\"text-align: right;\">\n",
       "      <th></th>\n",
       "      <th>World Rank</th>\n",
       "      <th>Institution</th>\n",
       "      <th>Country</th>\n",
       "      <th>National Rank</th>\n",
       "      <th>Quality of Education Rank</th>\n",
       "      <th>Alumni Employment Rank</th>\n",
       "      <th>Quality of Faculty Rank</th>\n",
       "      <th>Research Performance Rank</th>\n",
       "      <th>Score</th>\n",
       "      <th>UNITID</th>\n",
       "      <th>INSTNM</th>\n",
       "      <th>IALIAS</th>\n",
       "      <th>ADDR</th>\n",
       "      <th>CITY</th>\n",
       "      <th>STABBR</th>\n",
       "      <th>ZIP</th>\n",
       "      <th>FIPS</th>\n",
       "      <th>OBEREG</th>\n",
       "      <th>CHFNM</th>\n",
       "      <th>CHFTITLE</th>\n",
       "      <th>GENTELE</th>\n",
       "      <th>EIN</th>\n",
       "      <th>DUNS</th>\n",
       "      <th>OPEID</th>\n",
       "      <th>OPEFLAG</th>\n",
       "      <th>WEBADDR</th>\n",
       "      <th>ADMINURL</th>\n",
       "      <th>FAIDURL</th>\n",
       "      <th>APPLURL</th>\n",
       "      <th>NPRICURL</th>\n",
       "      <th>VETURL</th>\n",
       "      <th>ATHURL</th>\n",
       "      <th>DISAURL</th>\n",
       "      <th>SECTOR</th>\n",
       "      <th>ICLEVEL</th>\n",
       "      <th>CONTROL</th>\n",
       "      <th>HLOFFER</th>\n",
       "      <th>UGOFFER</th>\n",
       "      <th>GROFFER</th>\n",
       "      <th>HDEGOFR1</th>\n",
       "      <th>DEGGRANT</th>\n",
       "      <th>HBCU</th>\n",
       "      <th>HOSPITAL</th>\n",
       "      <th>MEDICAL</th>\n",
       "      <th>TRIBAL</th>\n",
       "      <th>LOCALE</th>\n",
       "      <th>OPENPUBL</th>\n",
       "      <th>ACT</th>\n",
       "      <th>NEWID</th>\n",
       "      <th>DEATHYR</th>\n",
       "      <th>CLOSEDAT</th>\n",
       "      <th>CYACTIVE</th>\n",
       "      <th>POSTSEC</th>\n",
       "      <th>PSEFLAG</th>\n",
       "      <th>PSET4FLG</th>\n",
       "      <th>RPTMTH</th>\n",
       "      <th>INSTCAT</th>\n",
       "      <th>C18BASIC</th>\n",
       "      <th>C18IPUG</th>\n",
       "      <th>C18IPGRD</th>\n",
       "      <th>C18UGPRF</th>\n",
       "      <th>C18ENPRF</th>\n",
       "      <th>C18SZSET</th>\n",
       "      <th>C15BASIC</th>\n",
       "      <th>CCBASIC</th>\n",
       "      <th>CARNEGIE</th>\n",
       "      <th>LANDGRNT</th>\n",
       "      <th>INSTSIZE</th>\n",
       "      <th>F1SYSTYP</th>\n",
       "      <th>F1SYSNAM</th>\n",
       "      <th>F1SYSCOD</th>\n",
       "      <th>CBSA</th>\n",
       "      <th>CBSATYPE</th>\n",
       "      <th>CSA</th>\n",
       "      <th>NECTA</th>\n",
       "      <th>COUNTYCD</th>\n",
       "      <th>COUNTYNM</th>\n",
       "      <th>CNGDSTCD</th>\n",
       "      <th>LONGITUD</th>\n",
       "      <th>LATITUDE</th>\n",
       "      <th>DFRCGID</th>\n",
       "      <th>DFRCUSCG</th>\n",
       "      <th>LONGITUDE</th>\n",
       "      <th>CBSA_NAME</th>\n",
       "      <th>dup</th>\n",
       "      <th>RPP_all</th>\n",
       "      <th>MEDIAN_SALARY</th>\n",
       "      <th>N_SALARIES</th>\n",
       "      <th>MEDIAN_SALARY_UPPER</th>\n",
       "      <th>MEDIAN_SALARY_LOWER</th>\n",
       "      <th>REAL_MEDIAN_SALARY</th>\n",
       "      <th>REAL_MEDIAN_SALARY_UPPER</th>\n",
       "      <th>REAL_MEDIAN_SALARY_LOWER</th>\n",
       "    </tr>\n",
       "  </thead>\n",
       "  <tbody>\n",
       "    <tr>\n",
       "      <th>0</th>\n",
       "      <td>1.0</td>\n",
       "      <td>Harvard University</td>\n",
       "      <td>USA</td>\n",
       "      <td>1.0</td>\n",
       "      <td>1</td>\n",
       "      <td>1</td>\n",
       "      <td>1</td>\n",
       "      <td>1</td>\n",
       "      <td>100.0</td>\n",
       "      <td>166027.0</td>\n",
       "      <td>Harvard University</td>\n",
       "      <td></td>\n",
       "      <td>Massachusetts Hall</td>\n",
       "      <td>Cambridge</td>\n",
       "      <td>MA</td>\n",
       "      <td>02138</td>\n",
       "      <td>25.0</td>\n",
       "      <td>1.0</td>\n",
       "      <td>Lawrence S. Bacow</td>\n",
       "      <td>President</td>\n",
       "      <td>6174951000</td>\n",
       "      <td>42103580.0</td>\n",
       "      <td>082359691|149617367|047006379</td>\n",
       "      <td>215500.0</td>\n",
       "      <td>1.0</td>\n",
       "      <td>www.harvard.edu/</td>\n",
       "      <td>college.harvard.edu/admissions</td>\n",
       "      <td>college.harvard.edu/financial-aid</td>\n",
       "      <td>college.harvard.edu/admissions/application-pro...</td>\n",
       "      <td>college.harvard.edu/financial-aid/net-price-ca...</td>\n",
       "      <td>sfs.harvard.edu/veteran-military-benefits</td>\n",
       "      <td></td>\n",
       "      <td>accessibility.harvard.edu/</td>\n",
       "      <td>2.0</td>\n",
       "      <td>1.0</td>\n",
       "      <td>2.0</td>\n",
       "      <td>9.0</td>\n",
       "      <td>1.0</td>\n",
       "      <td>1.0</td>\n",
       "      <td>11.0</td>\n",
       "      <td>1.0</td>\n",
       "      <td>2.0</td>\n",
       "      <td>2.0</td>\n",
       "      <td>1.0</td>\n",
       "      <td>2.0</td>\n",
       "      <td>12.0</td>\n",
       "      <td>1.0</td>\n",
       "      <td>A</td>\n",
       "      <td>-2.0</td>\n",
       "      <td>-2.0</td>\n",
       "      <td>-2</td>\n",
       "      <td>1.0</td>\n",
       "      <td>1.0</td>\n",
       "      <td>1.0</td>\n",
       "      <td>1.0</td>\n",
       "      <td>1.0</td>\n",
       "      <td>2.0</td>\n",
       "      <td>15.0</td>\n",
       "      <td>8.0</td>\n",
       "      <td>14.0</td>\n",
       "      <td>14.0</td>\n",
       "      <td>6.0</td>\n",
       "      <td>17.0</td>\n",
       "      <td>15.0</td>\n",
       "      <td>15.0</td>\n",
       "      <td>15.0</td>\n",
       "      <td>2.0</td>\n",
       "      <td>5.0</td>\n",
       "      <td>2.0</td>\n",
       "      <td>-2</td>\n",
       "      <td>-2.0</td>\n",
       "      <td>14460</td>\n",
       "      <td>1</td>\n",
       "      <td>148</td>\n",
       "      <td>71650.0</td>\n",
       "      <td>25017</td>\n",
       "      <td>Middlesex County</td>\n",
       "      <td>2505.0</td>\n",
       "      <td>-71.118313</td>\n",
       "      <td>42.374471</td>\n",
       "      <td>96.0</td>\n",
       "      <td>1.0</td>\n",
       "      <td>-71.118313</td>\n",
       "      <td>Boston-Cambridge-Newton, MA-NH</td>\n",
       "      <td>False</td>\n",
       "      <td>115.5</td>\n",
       "      <td>55783.941620</td>\n",
       "      <td>493</td>\n",
       "      <td>56164.312487</td>\n",
       "      <td>55205.642506</td>\n",
       "      <td>48297.784952</td>\n",
       "      <td>48627.110378</td>\n",
       "      <td>47797.093079</td>\n",
       "    </tr>\n",
       "    <tr>\n",
       "      <th>1</th>\n",
       "      <td>2.0</td>\n",
       "      <td>Massachusetts Institute of Technology</td>\n",
       "      <td>USA</td>\n",
       "      <td>2.0</td>\n",
       "      <td>4</td>\n",
       "      <td>12</td>\n",
       "      <td>2</td>\n",
       "      <td>8</td>\n",
       "      <td>96.7</td>\n",
       "      <td>166683.0</td>\n",
       "      <td>Massachusetts Institute of Technology</td>\n",
       "      <td>MIT, M.I.T.</td>\n",
       "      <td>77 Massachusetts Avenue</td>\n",
       "      <td>Cambridge</td>\n",
       "      <td>MA</td>\n",
       "      <td>02139-4307</td>\n",
       "      <td>25.0</td>\n",
       "      <td>1.0</td>\n",
       "      <td>L. Rafael Reif</td>\n",
       "      <td>President</td>\n",
       "      <td>6172531000</td>\n",
       "      <td>42103594.0</td>\n",
       "      <td>001425594</td>\n",
       "      <td>217800.0</td>\n",
       "      <td>1.0</td>\n",
       "      <td>web.mit.edu/</td>\n",
       "      <td>https://mitadmissions.org/</td>\n",
       "      <td>https://sfs.mit.edu/</td>\n",
       "      <td>my.mit.edu/</td>\n",
       "      <td>https://sfs.mit.edu/undergraduate-students/our...</td>\n",
       "      <td>https://sfs.mit.edu/undergraduate-students/typ...</td>\n",
       "      <td></td>\n",
       "      <td>studentlife.mit.edu/das</td>\n",
       "      <td>2.0</td>\n",
       "      <td>1.0</td>\n",
       "      <td>2.0</td>\n",
       "      <td>9.0</td>\n",
       "      <td>1.0</td>\n",
       "      <td>1.0</td>\n",
       "      <td>12.0</td>\n",
       "      <td>1.0</td>\n",
       "      <td>2.0</td>\n",
       "      <td>2.0</td>\n",
       "      <td>2.0</td>\n",
       "      <td>2.0</td>\n",
       "      <td>12.0</td>\n",
       "      <td>1.0</td>\n",
       "      <td>A</td>\n",
       "      <td>-2.0</td>\n",
       "      <td>-2.0</td>\n",
       "      <td>-2</td>\n",
       "      <td>1.0</td>\n",
       "      <td>1.0</td>\n",
       "      <td>1.0</td>\n",
       "      <td>1.0</td>\n",
       "      <td>1.0</td>\n",
       "      <td>2.0</td>\n",
       "      <td>15.0</td>\n",
       "      <td>14.0</td>\n",
       "      <td>15.0</td>\n",
       "      <td>14.0</td>\n",
       "      <td>6.0</td>\n",
       "      <td>17.0</td>\n",
       "      <td>15.0</td>\n",
       "      <td>15.0</td>\n",
       "      <td>15.0</td>\n",
       "      <td>1.0</td>\n",
       "      <td>4.0</td>\n",
       "      <td>2.0</td>\n",
       "      <td>-2</td>\n",
       "      <td>-2.0</td>\n",
       "      <td>14460</td>\n",
       "      <td>1</td>\n",
       "      <td>148</td>\n",
       "      <td>71650.0</td>\n",
       "      <td>25017</td>\n",
       "      <td>Middlesex County</td>\n",
       "      <td>2507.0</td>\n",
       "      <td>-71.093226</td>\n",
       "      <td>42.359243</td>\n",
       "      <td>96.0</td>\n",
       "      <td>1.0</td>\n",
       "      <td>-71.093226</td>\n",
       "      <td>Boston-Cambridge-Newton, MA-NH</td>\n",
       "      <td>False</td>\n",
       "      <td>115.5</td>\n",
       "      <td>56659.816586</td>\n",
       "      <td>680</td>\n",
       "      <td>56950.613563</td>\n",
       "      <td>56164.312487</td>\n",
       "      <td>49056.118257</td>\n",
       "      <td>49307.890531</td>\n",
       "      <td>48627.110378</td>\n",
       "    </tr>\n",
       "    <tr>\n",
       "      <th>2</th>\n",
       "      <td>3.0</td>\n",
       "      <td>Stanford University</td>\n",
       "      <td>USA</td>\n",
       "      <td>3.0</td>\n",
       "      <td>10</td>\n",
       "      <td>4</td>\n",
       "      <td>3</td>\n",
       "      <td>2</td>\n",
       "      <td>95.1</td>\n",
       "      <td>243744.0</td>\n",
       "      <td>Stanford University</td>\n",
       "      <td></td>\n",
       "      <td></td>\n",
       "      <td>Stanford</td>\n",
       "      <td>CA</td>\n",
       "      <td>94305</td>\n",
       "      <td>6.0</td>\n",
       "      <td>8.0</td>\n",
       "      <td>Marc Tessier-Lavigne</td>\n",
       "      <td>President</td>\n",
       "      <td>6507232300</td>\n",
       "      <td>941156365.0</td>\n",
       "      <td>009214214</td>\n",
       "      <td>130500.0</td>\n",
       "      <td>1.0</td>\n",
       "      <td>www.stanford.edu/</td>\n",
       "      <td>admission.stanford.edu/</td>\n",
       "      <td>financialaid.stanford.edu/</td>\n",
       "      <td>commonapp.org/</td>\n",
       "      <td>www.stanford.edu/dept/finaid/undergrad/how/cal...</td>\n",
       "      <td>exploredegrees.stanford.edu/veterans/</td>\n",
       "      <td>parents.stanford.edu/2015/11/09/stanford-athle...</td>\n",
       "      <td>diversityandaccess.stanford.edu/disability-access</td>\n",
       "      <td>2.0</td>\n",
       "      <td>1.0</td>\n",
       "      <td>2.0</td>\n",
       "      <td>9.0</td>\n",
       "      <td>1.0</td>\n",
       "      <td>1.0</td>\n",
       "      <td>11.0</td>\n",
       "      <td>1.0</td>\n",
       "      <td>2.0</td>\n",
       "      <td>1.0</td>\n",
       "      <td>1.0</td>\n",
       "      <td>2.0</td>\n",
       "      <td>21.0</td>\n",
       "      <td>1.0</td>\n",
       "      <td>A</td>\n",
       "      <td>-2.0</td>\n",
       "      <td>-2.0</td>\n",
       "      <td>-2</td>\n",
       "      <td>1.0</td>\n",
       "      <td>1.0</td>\n",
       "      <td>1.0</td>\n",
       "      <td>1.0</td>\n",
       "      <td>1.0</td>\n",
       "      <td>2.0</td>\n",
       "      <td>15.0</td>\n",
       "      <td>11.0</td>\n",
       "      <td>14.0</td>\n",
       "      <td>14.0</td>\n",
       "      <td>6.0</td>\n",
       "      <td>17.0</td>\n",
       "      <td>15.0</td>\n",
       "      <td>15.0</td>\n",
       "      <td>15.0</td>\n",
       "      <td>2.0</td>\n",
       "      <td>4.0</td>\n",
       "      <td>2.0</td>\n",
       "      <td>-2</td>\n",
       "      <td>-2.0</td>\n",
       "      <td>41940</td>\n",
       "      <td>1</td>\n",
       "      <td>488</td>\n",
       "      <td>-2.0</td>\n",
       "      <td>6085</td>\n",
       "      <td>Santa Clara County</td>\n",
       "      <td>618.0</td>\n",
       "      <td>-122.167359</td>\n",
       "      <td>37.429434</td>\n",
       "      <td>96.0</td>\n",
       "      <td>1.0</td>\n",
       "      <td>-122.167359</td>\n",
       "      <td>San Jose-Sunnyvale-Santa Clara, CA</td>\n",
       "      <td>False</td>\n",
       "      <td>126.7</td>\n",
       "      <td>62476.603840</td>\n",
       "      <td>349</td>\n",
       "      <td>63319.925605</td>\n",
       "      <td>62352.688787</td>\n",
       "      <td>49310.658122</td>\n",
       "      <td>49976.263303</td>\n",
       "      <td>49212.856186</td>\n",
       "    </tr>\n",
       "  </tbody>\n",
       "</table>\n",
       "</div>"
      ],
      "text/plain": [
       "   World Rank                            Institution Country  National Rank  \\\n",
       "0         1.0                     Harvard University     USA            1.0   \n",
       "1         2.0  Massachusetts Institute of Technology     USA            2.0   \n",
       "2         3.0                    Stanford University     USA            3.0   \n",
       "\n",
       "  Quality of Education Rank Alumni Employment Rank Quality of Faculty Rank  \\\n",
       "0                         1                      1                       1   \n",
       "1                         4                     12                       2   \n",
       "2                        10                      4                       3   \n",
       "\n",
       "  Research Performance Rank  Score    UNITID  \\\n",
       "0                         1  100.0  166027.0   \n",
       "1                         8   96.7  166683.0   \n",
       "2                         2   95.1  243744.0   \n",
       "\n",
       "                                  INSTNM       IALIAS  \\\n",
       "0                     Harvard University                \n",
       "1  Massachusetts Institute of Technology  MIT, M.I.T.   \n",
       "2                    Stanford University                \n",
       "\n",
       "                      ADDR       CITY STABBR         ZIP  FIPS  OBEREG  \\\n",
       "0       Massachusetts Hall  Cambridge     MA       02138  25.0     1.0   \n",
       "1  77 Massachusetts Avenue  Cambridge     MA  02139-4307  25.0     1.0   \n",
       "2                            Stanford     CA       94305   6.0     8.0   \n",
       "\n",
       "                  CHFNM   CHFTITLE     GENTELE          EIN  \\\n",
       "0     Lawrence S. Bacow  President  6174951000   42103580.0   \n",
       "1        L. Rafael Reif  President  6172531000   42103594.0   \n",
       "2  Marc Tessier-Lavigne  President  6507232300  941156365.0   \n",
       "\n",
       "                            DUNS     OPEID  OPEFLAG            WEBADDR  \\\n",
       "0  082359691|149617367|047006379  215500.0      1.0   www.harvard.edu/   \n",
       "1                      001425594  217800.0      1.0       web.mit.edu/   \n",
       "2                      009214214  130500.0      1.0  www.stanford.edu/   \n",
       "\n",
       "                         ADMINURL                            FAIDURL  \\\n",
       "0  college.harvard.edu/admissions  college.harvard.edu/financial-aid   \n",
       "1      https://mitadmissions.org/               https://sfs.mit.edu/   \n",
       "2         admission.stanford.edu/         financialaid.stanford.edu/   \n",
       "\n",
       "                                             APPLURL  \\\n",
       "0  college.harvard.edu/admissions/application-pro...   \n",
       "1                                        my.mit.edu/   \n",
       "2                                     commonapp.org/   \n",
       "\n",
       "                                            NPRICURL  \\\n",
       "0  college.harvard.edu/financial-aid/net-price-ca...   \n",
       "1  https://sfs.mit.edu/undergraduate-students/our...   \n",
       "2  www.stanford.edu/dept/finaid/undergrad/how/cal...   \n",
       "\n",
       "                                              VETURL  \\\n",
       "0          sfs.harvard.edu/veteran-military-benefits   \n",
       "1  https://sfs.mit.edu/undergraduate-students/typ...   \n",
       "2              exploredegrees.stanford.edu/veterans/   \n",
       "\n",
       "                                              ATHURL  \\\n",
       "0                                                      \n",
       "1                                                      \n",
       "2  parents.stanford.edu/2015/11/09/stanford-athle...   \n",
       "\n",
       "                                             DISAURL  SECTOR  ICLEVEL  \\\n",
       "0                         accessibility.harvard.edu/     2.0      1.0   \n",
       "1                            studentlife.mit.edu/das     2.0      1.0   \n",
       "2  diversityandaccess.stanford.edu/disability-access     2.0      1.0   \n",
       "\n",
       "   CONTROL  HLOFFER  UGOFFER  GROFFER  HDEGOFR1  DEGGRANT  HBCU  HOSPITAL  \\\n",
       "0      2.0      9.0      1.0      1.0      11.0       1.0   2.0       2.0   \n",
       "1      2.0      9.0      1.0      1.0      12.0       1.0   2.0       2.0   \n",
       "2      2.0      9.0      1.0      1.0      11.0       1.0   2.0       1.0   \n",
       "\n",
       "   MEDICAL  TRIBAL  LOCALE  OPENPUBL ACT  NEWID  DEATHYR CLOSEDAT  CYACTIVE  \\\n",
       "0      1.0     2.0    12.0       1.0  A    -2.0     -2.0       -2       1.0   \n",
       "1      2.0     2.0    12.0       1.0  A    -2.0     -2.0       -2       1.0   \n",
       "2      1.0     2.0    21.0       1.0  A    -2.0     -2.0       -2       1.0   \n",
       "\n",
       "   POSTSEC  PSEFLAG  PSET4FLG  RPTMTH  INSTCAT  C18BASIC  C18IPUG  C18IPGRD  \\\n",
       "0      1.0      1.0       1.0     1.0      2.0      15.0      8.0      14.0   \n",
       "1      1.0      1.0       1.0     1.0      2.0      15.0     14.0      15.0   \n",
       "2      1.0      1.0       1.0     1.0      2.0      15.0     11.0      14.0   \n",
       "\n",
       "   C18UGPRF  C18ENPRF  C18SZSET  C15BASIC  CCBASIC  CARNEGIE  LANDGRNT  \\\n",
       "0      14.0       6.0      17.0      15.0     15.0      15.0       2.0   \n",
       "1      14.0       6.0      17.0      15.0     15.0      15.0       1.0   \n",
       "2      14.0       6.0      17.0      15.0     15.0      15.0       2.0   \n",
       "\n",
       "   INSTSIZE  F1SYSTYP F1SYSNAM  F1SYSCOD   CBSA  CBSATYPE  CSA    NECTA  \\\n",
       "0       5.0       2.0       -2      -2.0  14460         1  148  71650.0   \n",
       "1       4.0       2.0       -2      -2.0  14460         1  148  71650.0   \n",
       "2       4.0       2.0       -2      -2.0  41940         1  488     -2.0   \n",
       "\n",
       "   COUNTYCD            COUNTYNM  CNGDSTCD    LONGITUD   LATITUDE  DFRCGID  \\\n",
       "0     25017    Middlesex County    2505.0  -71.118313  42.374471     96.0   \n",
       "1     25017    Middlesex County    2507.0  -71.093226  42.359243     96.0   \n",
       "2      6085  Santa Clara County     618.0 -122.167359  37.429434     96.0   \n",
       "\n",
       "   DFRCUSCG   LONGITUDE                           CBSA_NAME    dup  RPP_all  \\\n",
       "0       1.0  -71.118313      Boston-Cambridge-Newton, MA-NH  False    115.5   \n",
       "1       1.0  -71.093226      Boston-Cambridge-Newton, MA-NH  False    115.5   \n",
       "2       1.0 -122.167359  San Jose-Sunnyvale-Santa Clara, CA  False    126.7   \n",
       "\n",
       "   MEDIAN_SALARY  N_SALARIES  MEDIAN_SALARY_UPPER  MEDIAN_SALARY_LOWER  \\\n",
       "0   55783.941620         493         56164.312487         55205.642506   \n",
       "1   56659.816586         680         56950.613563         56164.312487   \n",
       "2   62476.603840         349         63319.925605         62352.688787   \n",
       "\n",
       "   REAL_MEDIAN_SALARY  REAL_MEDIAN_SALARY_UPPER  REAL_MEDIAN_SALARY_LOWER  \n",
       "0        48297.784952              48627.110378              47797.093079  \n",
       "1        49056.118257              49307.890531              48627.110378  \n",
       "2        49310.658122              49976.263303              49212.856186  "
      ]
     },
     "execution_count": 10,
     "metadata": {},
     "output_type": "execute_result"
    }
   ],
   "source": [
    "university_df[:3]"
   ]
  },
  {
   "cell_type": "code",
   "execution_count": 5,
   "id": "0efedf07",
   "metadata": {
    "ExecuteTime": {
     "end_time": "2022-01-15T00:50:07.152153Z",
     "start_time": "2022-01-15T00:50:06.773893Z"
    }
   },
   "outputs": [],
   "source": [
    "salary_df = pd.read_pickle(DATA_DIR/ 'postdoc_salary_df_inflation_adjusted_ranking.pickle')"
   ]
  },
  {
   "cell_type": "code",
   "execution_count": 6,
   "id": "86e1281a",
   "metadata": {
    "ExecuteTime": {
     "end_time": "2022-01-15T00:50:10.682890Z",
     "start_time": "2022-01-15T00:50:10.596330Z"
    }
   },
   "outputs": [
    {
     "data": {
      "text/html": [
       "<div>\n",
       "<style scoped>\n",
       "    .dataframe tbody tr th:only-of-type {\n",
       "        vertical-align: middle;\n",
       "    }\n",
       "\n",
       "    .dataframe tbody tr th {\n",
       "        vertical-align: top;\n",
       "    }\n",
       "\n",
       "    .dataframe thead th {\n",
       "        text-align: right;\n",
       "    }\n",
       "</style>\n",
       "<table border=\"1\" class=\"dataframe\">\n",
       "  <thead>\n",
       "    <tr style=\"text-align: right;\">\n",
       "      <th></th>\n",
       "      <th>JOB_TITLE</th>\n",
       "      <th>SOC_TITLE</th>\n",
       "      <th>FULL_TIME_POSITION</th>\n",
       "      <th>CASE_SUBMITTED</th>\n",
       "      <th>PERIOD_OF_EMPLOYMENT_START_DATE</th>\n",
       "      <th>EMPLOYER_NAME</th>\n",
       "      <th>EMPLOYER_BUSINESS_DBA</th>\n",
       "      <th>EMPLOYER_CITY</th>\n",
       "      <th>EMPLOYER_STATE</th>\n",
       "      <th>EMPLOYER_POSTAL_CODE</th>\n",
       "      <th>EMPLOYER_COUNTRY</th>\n",
       "      <th>WORKSITE_CITY</th>\n",
       "      <th>WORKSITE_COUNTY</th>\n",
       "      <th>WORKSITE_STATE</th>\n",
       "      <th>WORKSITE_POSTAL_CODE</th>\n",
       "      <th>WAGE_RATE_OF_PAY_FROM</th>\n",
       "      <th>WAGE_RATE_OF_PAY_TO</th>\n",
       "      <th>WAGE_UNIT_OF_PAY</th>\n",
       "      <th>PREVAILING_WAGE</th>\n",
       "      <th>PW_UNIT_OF_PAY</th>\n",
       "      <th>PW_WAGE_LEVEL</th>\n",
       "      <th>PUBLIC_DISCLOSURE</th>\n",
       "      <th>CASE_DATE</th>\n",
       "      <th>dataset</th>\n",
       "      <th>BASE_SALARY</th>\n",
       "      <th>SOC_NAME</th>\n",
       "      <th>EMPLOYMENT_START_DATE</th>\n",
       "      <th>RECEIVED_DATE</th>\n",
       "      <th>BEGIN_DATE</th>\n",
       "      <th>EMPLOYER_POC_LAST_NAME</th>\n",
       "      <th>EMPLOYER_POC_FIRST_NAME</th>\n",
       "      <th>EMPLOYER_POC_JOB_TITLE</th>\n",
       "      <th>WAGE_RATE_OF_PAY</th>\n",
       "      <th>INFLACTION_SCALED_BASE_SALARY</th>\n",
       "      <th>INFLATION_SCALED_BASE_SALARY</th>\n",
       "      <th>INSTNM</th>\n",
       "      <th>institution</th>\n",
       "    </tr>\n",
       "  </thead>\n",
       "  <tbody>\n",
       "    <tr>\n",
       "      <th>48938</th>\n",
       "      <td>POSTDOCTORAL RESEARCHER</td>\n",
       "      <td>MARKET RESEARCH ANALYSTS AND MARKETING SPECIAL...</td>\n",
       "      <td>Y</td>\n",
       "      <td>2019-04-19 12:23:24</td>\n",
       "      <td>2019-08-15 00:00:00</td>\n",
       "      <td>TRUSTEES OF THE UNIVERSITY OF PENNSYLVANIA</td>\n",
       "      <td>UNIVERSITY OF PENNSYLVANIA</td>\n",
       "      <td>PHILADELPHIA</td>\n",
       "      <td>PA</td>\n",
       "      <td>19104</td>\n",
       "      <td>UNITED STATES OF AMERICA</td>\n",
       "      <td>Philadelphia</td>\n",
       "      <td>Philadelphia</td>\n",
       "      <td>PENNSYLVANIA</td>\n",
       "      <td>19104</td>\n",
       "      <td>68978.5</td>\n",
       "      <td>NaN</td>\n",
       "      <td>Year</td>\n",
       "      <td>43160.0</td>\n",
       "      <td>Year</td>\n",
       "      <td>Level I</td>\n",
       "      <td>PLACE OF BUSINESS</td>\n",
       "      <td>2019-04-19 12:23:24</td>\n",
       "      <td>2020Q4</td>\n",
       "      <td>68978.5</td>\n",
       "      <td>NaN</td>\n",
       "      <td>NaN</td>\n",
       "      <td>NaT</td>\n",
       "      <td>NaT</td>\n",
       "      <td>NaN</td>\n",
       "      <td>NaN</td>\n",
       "      <td>NaN</td>\n",
       "      <td>NaN</td>\n",
       "      <td>68978.5</td>\n",
       "      <td>71683.249058</td>\n",
       "      <td>University of Pennsylvania</td>\n",
       "      <td>University of Pennsylvania</td>\n",
       "    </tr>\n",
       "    <tr>\n",
       "      <th>49510</th>\n",
       "      <td>POSTDOCTORAL FELLOW RESEARCH ASSOCIATE</td>\n",
       "      <td>MARKET RESEARCH ANALYSTS AND MARKETING SPECIAL...</td>\n",
       "      <td>Y</td>\n",
       "      <td>2019-06-18 09:09:18</td>\n",
       "      <td>2019-08-01 00:00:00</td>\n",
       "      <td>TEMPLE UNIVERSITY--A COMMONWEALTH UNIVERSITY</td>\n",
       "      <td>TEMPLE UNIVERSITY</td>\n",
       "      <td>PHILADELPHIA</td>\n",
       "      <td>PA</td>\n",
       "      <td>19122</td>\n",
       "      <td>UNITED STATES OF AMERICA</td>\n",
       "      <td>Philadelphia</td>\n",
       "      <td>Philadelphia</td>\n",
       "      <td>PENNSYLVANIA</td>\n",
       "      <td>19122</td>\n",
       "      <td>60000.0</td>\n",
       "      <td>NaN</td>\n",
       "      <td>Year</td>\n",
       "      <td>43160.0</td>\n",
       "      <td>Year</td>\n",
       "      <td>Level I</td>\n",
       "      <td>PLACE OF BUSINESS</td>\n",
       "      <td>2019-06-18 09:09:18</td>\n",
       "      <td>2020Q4</td>\n",
       "      <td>60000.0</td>\n",
       "      <td>NaN</td>\n",
       "      <td>NaN</td>\n",
       "      <td>NaT</td>\n",
       "      <td>NaT</td>\n",
       "      <td>NaN</td>\n",
       "      <td>NaN</td>\n",
       "      <td>NaN</td>\n",
       "      <td>NaN</td>\n",
       "      <td>60000.0</td>\n",
       "      <td>62352.688787</td>\n",
       "      <td>Temple University</td>\n",
       "      <td>Temple University</td>\n",
       "    </tr>\n",
       "    <tr>\n",
       "      <th>77188</th>\n",
       "      <td>POSTDOCTORAL RESEARCH ASSOCIATE</td>\n",
       "      <td>COMPUTER PROGRAMMERS, R&amp;D</td>\n",
       "      <td>Y</td>\n",
       "      <td>2019-03-15 09:05:46</td>\n",
       "      <td>2019-06-01 00:00:00</td>\n",
       "      <td>RENSSELAER POLYTECHNIC INSTITUTE</td>\n",
       "      <td>NaN</td>\n",
       "      <td>TROY</td>\n",
       "      <td>NY</td>\n",
       "      <td>12180</td>\n",
       "      <td>UNITED STATES OF AMERICA</td>\n",
       "      <td>Troy</td>\n",
       "      <td>Rensselaer</td>\n",
       "      <td>NEW YORK</td>\n",
       "      <td>12180</td>\n",
       "      <td>50000.0</td>\n",
       "      <td>NaN</td>\n",
       "      <td>Year</td>\n",
       "      <td>46883.0</td>\n",
       "      <td>Year</td>\n",
       "      <td>Level I</td>\n",
       "      <td>PLACE OF BUSINESS</td>\n",
       "      <td>2019-03-15 09:05:46</td>\n",
       "      <td>2020Q4</td>\n",
       "      <td>50000.0</td>\n",
       "      <td>NaN</td>\n",
       "      <td>NaN</td>\n",
       "      <td>NaT</td>\n",
       "      <td>NaT</td>\n",
       "      <td>NaN</td>\n",
       "      <td>NaN</td>\n",
       "      <td>NaN</td>\n",
       "      <td>NaN</td>\n",
       "      <td>50000.0</td>\n",
       "      <td>51960.573989</td>\n",
       "      <td>Rensselaer Polytechnic Institute</td>\n",
       "      <td>Rensselaer Polytechnic Institute</td>\n",
       "    </tr>\n",
       "  </tbody>\n",
       "</table>\n",
       "</div>"
      ],
      "text/plain": [
       "                                    JOB_TITLE  \\\n",
       "48938                 POSTDOCTORAL RESEARCHER   \n",
       "49510  POSTDOCTORAL FELLOW RESEARCH ASSOCIATE   \n",
       "77188         POSTDOCTORAL RESEARCH ASSOCIATE   \n",
       "\n",
       "                                               SOC_TITLE FULL_TIME_POSITION  \\\n",
       "48938  MARKET RESEARCH ANALYSTS AND MARKETING SPECIAL...                  Y   \n",
       "49510  MARKET RESEARCH ANALYSTS AND MARKETING SPECIAL...                  Y   \n",
       "77188                          COMPUTER PROGRAMMERS, R&D                  Y   \n",
       "\n",
       "           CASE_SUBMITTED PERIOD_OF_EMPLOYMENT_START_DATE  \\\n",
       "48938 2019-04-19 12:23:24             2019-08-15 00:00:00   \n",
       "49510 2019-06-18 09:09:18             2019-08-01 00:00:00   \n",
       "77188 2019-03-15 09:05:46             2019-06-01 00:00:00   \n",
       "\n",
       "                                      EMPLOYER_NAME  \\\n",
       "48938    TRUSTEES OF THE UNIVERSITY OF PENNSYLVANIA   \n",
       "49510  TEMPLE UNIVERSITY--A COMMONWEALTH UNIVERSITY   \n",
       "77188              RENSSELAER POLYTECHNIC INSTITUTE   \n",
       "\n",
       "            EMPLOYER_BUSINESS_DBA EMPLOYER_CITY EMPLOYER_STATE  \\\n",
       "48938  UNIVERSITY OF PENNSYLVANIA  PHILADELPHIA             PA   \n",
       "49510           TEMPLE UNIVERSITY  PHILADELPHIA             PA   \n",
       "77188                         NaN          TROY             NY   \n",
       "\n",
       "      EMPLOYER_POSTAL_CODE          EMPLOYER_COUNTRY WORKSITE_CITY  \\\n",
       "48938                19104  UNITED STATES OF AMERICA  Philadelphia   \n",
       "49510                19122  UNITED STATES OF AMERICA  Philadelphia   \n",
       "77188                12180  UNITED STATES OF AMERICA          Troy   \n",
       "\n",
       "      WORKSITE_COUNTY WORKSITE_STATE WORKSITE_POSTAL_CODE  \\\n",
       "48938    Philadelphia   PENNSYLVANIA                19104   \n",
       "49510    Philadelphia   PENNSYLVANIA                19122   \n",
       "77188      Rensselaer       NEW YORK                12180   \n",
       "\n",
       "       WAGE_RATE_OF_PAY_FROM  WAGE_RATE_OF_PAY_TO WAGE_UNIT_OF_PAY  \\\n",
       "48938                68978.5                  NaN             Year   \n",
       "49510                60000.0                  NaN             Year   \n",
       "77188                50000.0                  NaN             Year   \n",
       "\n",
       "       PREVAILING_WAGE PW_UNIT_OF_PAY PW_WAGE_LEVEL  PUBLIC_DISCLOSURE  \\\n",
       "48938          43160.0           Year       Level I  PLACE OF BUSINESS   \n",
       "49510          43160.0           Year       Level I  PLACE OF BUSINESS   \n",
       "77188          46883.0           Year       Level I  PLACE OF BUSINESS   \n",
       "\n",
       "                CASE_DATE dataset  BASE_SALARY SOC_NAME EMPLOYMENT_START_DATE  \\\n",
       "48938 2019-04-19 12:23:24  2020Q4      68978.5      NaN                   NaN   \n",
       "49510 2019-06-18 09:09:18  2020Q4      60000.0      NaN                   NaN   \n",
       "77188 2019-03-15 09:05:46  2020Q4      50000.0      NaN                   NaN   \n",
       "\n",
       "      RECEIVED_DATE BEGIN_DATE EMPLOYER_POC_LAST_NAME EMPLOYER_POC_FIRST_NAME  \\\n",
       "48938           NaT        NaT                    NaN                     NaN   \n",
       "49510           NaT        NaT                    NaN                     NaN   \n",
       "77188           NaT        NaT                    NaN                     NaN   \n",
       "\n",
       "      EMPLOYER_POC_JOB_TITLE WAGE_RATE_OF_PAY  INFLACTION_SCALED_BASE_SALARY  \\\n",
       "48938                    NaN              NaN                        68978.5   \n",
       "49510                    NaN              NaN                        60000.0   \n",
       "77188                    NaN              NaN                        50000.0   \n",
       "\n",
       "       INFLATION_SCALED_BASE_SALARY                            INSTNM  \\\n",
       "48938                  71683.249058        University of Pennsylvania   \n",
       "49510                  62352.688787                 Temple University   \n",
       "77188                  51960.573989  Rensselaer Polytechnic Institute   \n",
       "\n",
       "                            institution  \n",
       "48938        University of Pennsylvania  \n",
       "49510                 Temple University  \n",
       "77188  Rensselaer Polytechnic Institute  "
      ]
     },
     "execution_count": 6,
     "metadata": {},
     "output_type": "execute_result"
    }
   ],
   "source": [
    "salary_df[:3]"
   ]
  },
  {
   "cell_type": "markdown",
   "id": "8768be92",
   "metadata": {},
   "source": [
    "### disclude salaries not associated with a university"
   ]
  },
  {
   "cell_type": "code",
   "execution_count": 17,
   "id": "d2010ce8",
   "metadata": {
    "ExecuteTime": {
     "end_time": "2022-01-15T00:59:39.426488Z",
     "start_time": "2022-01-15T00:59:39.364071Z"
    }
   },
   "outputs": [],
   "source": [
    "salary_df = salary_df[salary_df.INSTNM.isnull() == False]"
   ]
  },
  {
   "cell_type": "code",
   "execution_count": 18,
   "id": "9fdd7615",
   "metadata": {
    "ExecuteTime": {
     "end_time": "2022-01-15T00:59:39.546264Z",
     "start_time": "2022-01-15T00:59:39.508893Z"
    }
   },
   "outputs": [
    {
     "data": {
      "text/plain": [
       "28217"
      ]
     },
     "execution_count": 18,
     "metadata": {},
     "output_type": "execute_result"
    }
   ],
   "source": [
    "len(salary_df)"
   ]
  },
  {
   "cell_type": "markdown",
   "id": "dfe6c04c",
   "metadata": {},
   "source": [
    "### Disclude salaries  outside of normal range"
   ]
  },
  {
   "cell_type": "code",
   "execution_count": 19,
   "id": "14cf7e4e",
   "metadata": {
    "ExecuteTime": {
     "end_time": "2022-01-15T00:59:40.223104Z",
     "start_time": "2022-01-15T00:59:40.130554Z"
    }
   },
   "outputs": [
    {
     "data": {
      "text/plain": [
       "27572"
      ]
     },
     "execution_count": 19,
     "metadata": {},
     "output_type": "execute_result"
    }
   ],
   "source": [
    "salary_df.sort_values(by=\"INFLATION_SCALED_BASE_SALARY\", ascending=False)[:10]\n",
    "salary_df = salary_df[\n",
    "    (salary_df.INFLATION_SCALED_BASE_SALARY > 30000) &\n",
    "    (salary_df.INFLATION_SCALED_BASE_SALARY < 100000)\n",
    "]\n",
    "len(salary_df)"
   ]
  },
  {
   "cell_type": "markdown",
   "id": "ac5e3d5f",
   "metadata": {},
   "source": [
    "### Connect salaries to cities"
   ]
  },
  {
   "cell_type": "code",
   "execution_count": 27,
   "id": "11c3fcba",
   "metadata": {
    "ExecuteTime": {
     "end_time": "2022-01-15T01:03:37.246566Z",
     "start_time": "2022-01-15T01:03:37.197033Z"
    }
   },
   "outputs": [],
   "source": [
    "def bootstrap_ci(x, ci=95, func = np.median, n_samples = 1000):\n",
    "    vals = [func(np.random.choice(x, len(x), replace=True)) for i in range(n_samples)]\n",
    "    bounds_0 = (100-ci)/2\n",
    "    bounds_1 = 100 - bounds_0\n",
    "    lower, upper = np.percentile(vals, (bounds_0, bounds_1))\n",
    "    return lower, upper"
   ]
  },
  {
   "cell_type": "code",
   "execution_count": 31,
   "id": "ea01ffb2",
   "metadata": {
    "ExecuteTime": {
     "end_time": "2022-01-15T01:06:23.885999Z",
     "start_time": "2022-01-15T01:05:53.966536Z"
    },
    "scrolled": true
   },
   "outputs": [
    {
     "data": {
      "application/vnd.jupyter.widget-view+json": {
       "model_id": "52c089a226c24342a8afe82bdbda78c5",
       "version_major": 2,
       "version_minor": 0
      },
      "text/plain": [
       "  0%|          | 0/112 [00:00<?, ?it/s]"
      ]
     },
     "metadata": {},
     "output_type": "display_data"
    },
    {
     "name": "stderr",
     "output_type": "stream",
     "text": [
      "/home/AD/tsainbur/anaconda3/envs/postdoc/lib/python3.8/site-packages/numpy/core/fromnumeric.py:3419: RuntimeWarning: Mean of empty slice.\n",
      "  return _methods._mean(a, axis=axis, dtype=dtype,\n",
      "/home/AD/tsainbur/anaconda3/envs/postdoc/lib/python3.8/site-packages/numpy/core/_methods.py:188: RuntimeWarning: invalid value encountered in double_scalars\n",
      "  ret = ret.dtype.type(ret / rcount)\n"
     ]
    },
    {
     "name": "stdout",
     "output_type": "stream",
     "text": [
      "No postdoc data: Madison, WI\n",
      "No postdoc data: Lansing-East Lansing, MI\n",
      "No postdoc data: Gainesville, FL\n",
      "No postdoc data: Charlottesville, VA\n",
      "No postdoc data: Knoxville, TN\n",
      "No postdoc data: Fayetteville-Springdale-Rogers, AR\n",
      "No postdoc data: Binghamton, NY\n",
      "No postdoc data: Albuquerque, NM\n",
      "No postdoc data: Orlando-Kissimmee-Sanford, FL\n",
      "No postdoc data: Urban Honolulu, HI\n",
      "No postdoc data: Manhattan, KS\n",
      "No postdoc data: Lebanon, NH-VT\n",
      "No postdoc data: Provo-Orem, UT\n",
      "No postdoc data: Las Cruces, NM\n",
      "No postdoc data: Carbondale-Marion, IL\n",
      "No postdoc data: Charlotte-Concord-Gastonia, NC-SC\n",
      "No postdoc data: Rolla, MO\n",
      "No postdoc data: Bangor, ME\n",
      "No postdoc data: Morgantown, WV\n",
      "No postdoc data: Hattiesburg, MS\n",
      "No postdoc data: Bloomington, IL\n",
      "No postdoc data: Ogdensburg-Massena, NY\n",
      "No postdoc data: El Paso, TX\n",
      "No postdoc data: Palm Bay-Melbourne-Titusville, FL\n",
      "No postdoc data: Las Vegas-Henderson-Paradise, NV\n",
      "No postdoc data: Winston-Salem, NC\n"
     ]
    }
   ],
   "source": [
    "median_salary = []\n",
    "n_salaries = []\n",
    "salary_upper = []\n",
    "salary_lower = []\n",
    "for idx, row in tqdm(CBSA_df.iterrows(), total=len(CBSA_df)):\n",
    "    city_salaries = salary_df[salary_df.INSTNM.isin(university_df[university_df.CBSA_NAME == row.CBSA_NAME].INSTNM.values)]\n",
    "    salary_values = city_salaries.INFLATION_SCALED_BASE_SALARY.values\n",
    "    salary_bounds = bootstrap_ci(salary_values)\n",
    "    salary_upper.append(salary_bounds[1])\n",
    "    salary_lower.append(salary_bounds[0])\n",
    "    med_sal = np.median(salary_values)\n",
    "    if np.isnan(med_sal):\n",
    "        median_salary.append(np.nan)\n",
    "        n_salaries.append(0)\n",
    "        print(\"No postdoc data: {}\".format( row.CBSA_NAME))\n",
    "        continue\n",
    "    median_salary.append(med_sal)\n",
    "    n_salaries.append(len(salary_values))\n",
    "median_salary = np.array(median_salary)\n",
    "n_salaries = np.array(n_salaries)"
   ]
  },
  {
   "cell_type": "code",
   "execution_count": 25,
   "id": "92b81b81",
   "metadata": {
    "ExecuteTime": {
     "end_time": "2022-01-15T01:02:55.308516Z",
     "start_time": "2022-01-15T01:02:55.266765Z"
    }
   },
   "outputs": [
    {
     "data": {
      "text/plain": [
       "1683"
      ]
     },
     "execution_count": 25,
     "metadata": {},
     "output_type": "execute_result"
    }
   ],
   "source": [
    "len(city_salaries)"
   ]
  },
  {
   "cell_type": "code",
   "execution_count": 32,
   "id": "ce4573a3",
   "metadata": {
    "ExecuteTime": {
     "end_time": "2022-01-15T01:06:38.244722Z",
     "start_time": "2022-01-15T01:06:38.174238Z"
    }
   },
   "outputs": [],
   "source": [
    "CBSA_df[\"MEDIAN_SALARY\"] = median_salary\n",
    "CBSA_df[\"N_SALARIES\"] = n_salaries\n",
    "CBSA_df[\"MEDIAN_SALARY_UPPER\"] = salary_upper\n",
    "CBSA_df[\"MEDIAN_SALARY_LOWER\"] = salary_lower"
   ]
  },
  {
   "cell_type": "code",
   "execution_count": 33,
   "id": "18463415",
   "metadata": {
    "ExecuteTime": {
     "end_time": "2022-01-15T01:06:55.873543Z",
     "start_time": "2022-01-15T01:06:55.818438Z"
    }
   },
   "outputs": [],
   "source": [
    "# Median salary scaled to RPP\n",
    "CBSA_df[\"REAL_MEDIAN_SALARY\"] = median_salary / (CBSA_df[\"RPP_all\"].values / 100)\n",
    "CBSA_df[\"REAL_MEDIAN_SALARY_UPPER\"] = CBSA_df[\"MEDIAN_SALARY_UPPER\"] / (CBSA_df[\"RPP_all\"].values / 100)\n",
    "CBSA_df[\"REAL_MEDIAN_SALARY_LOWER\"] = CBSA_df[\"MEDIAN_SALARY_LOWER\"] / (CBSA_df[\"RPP_all\"].values / 100)"
   ]
  },
  {
   "cell_type": "code",
   "execution_count": 36,
   "id": "b6e4cc88",
   "metadata": {
    "ExecuteTime": {
     "end_time": "2022-01-15T01:08:50.581513Z",
     "start_time": "2022-01-15T01:08:50.540283Z"
    }
   },
   "outputs": [],
   "source": [
    "CBSA_df.to_pickle(DATA_DIR/ 'CBSA_df_salary.pickle')"
   ]
  },
  {
   "cell_type": "code",
   "execution_count": 35,
   "id": "144db2b4",
   "metadata": {
    "ExecuteTime": {
     "end_time": "2022-01-15T01:07:07.027485Z",
     "start_time": "2022-01-15T01:07:06.910512Z"
    }
   },
   "outputs": [
    {
     "data": {
      "text/html": [
       "<div>\n",
       "<style scoped>\n",
       "    .dataframe tbody tr th:only-of-type {\n",
       "        vertical-align: middle;\n",
       "    }\n",
       "\n",
       "    .dataframe tbody tr th {\n",
       "        vertical-align: top;\n",
       "    }\n",
       "\n",
       "    .dataframe thead th {\n",
       "        text-align: right;\n",
       "    }\n",
       "</style>\n",
       "<table border=\"1\" class=\"dataframe\">\n",
       "  <thead>\n",
       "    <tr style=\"text-align: right;\">\n",
       "      <th></th>\n",
       "      <th>CBSA_NAME</th>\n",
       "      <th>RPP_all</th>\n",
       "      <th>total_hires</th>\n",
       "      <th>prop_hires</th>\n",
       "      <th>cum_hires</th>\n",
       "      <th>n_uni</th>\n",
       "      <th>n_grad</th>\n",
       "      <th>prop_grad</th>\n",
       "      <th>cum_grad</th>\n",
       "      <th>hiring_grad_disparity</th>\n",
       "      <th>MEDIAN_SALARY</th>\n",
       "      <th>N_SALARIES</th>\n",
       "      <th>MEDIAN_SALARY_UPPER</th>\n",
       "      <th>MEDIAN_SALARY_LOWER</th>\n",
       "      <th>REAL_MEDIAN_SALARY</th>\n",
       "      <th>REAL_MEDIAN_SALARY_UPPER</th>\n",
       "      <th>REAL_MEDIAN_SALARY_LOWER</th>\n",
       "    </tr>\n",
       "  </thead>\n",
       "  <tbody>\n",
       "    <tr>\n",
       "      <th>2</th>\n",
       "      <td>Boston-Cambridge-Newton, MA-NH</td>\n",
       "      <td>115.5</td>\n",
       "      <td>1604.0</td>\n",
       "      <td>0.115679</td>\n",
       "      <td>0.115679</td>\n",
       "      <td>10</td>\n",
       "      <td>2325.0</td>\n",
       "      <td>0.059061</td>\n",
       "      <td>0.059061</td>\n",
       "      <td>0.056618</td>\n",
       "      <td>55474.915479</td>\n",
       "      <td>1683</td>\n",
       "      <td>55932.677979</td>\n",
       "      <td>55205.642506</td>\n",
       "      <td>48030.229852</td>\n",
       "      <td>48426.561021</td>\n",
       "      <td>47797.093079</td>\n",
       "    </tr>\n",
       "    <tr>\n",
       "      <th>0</th>\n",
       "      <td>Chicago-Naperville-Elgin, IL-IN-WI</td>\n",
       "      <td>102.8</td>\n",
       "      <td>919.0</td>\n",
       "      <td>0.066277</td>\n",
       "      <td>0.181956</td>\n",
       "      <td>6</td>\n",
       "      <td>1506.0</td>\n",
       "      <td>0.038256</td>\n",
       "      <td>0.097317</td>\n",
       "      <td>0.028021</td>\n",
       "      <td>53336.489989</td>\n",
       "      <td>1504</td>\n",
       "      <td>53830.036471</td>\n",
       "      <td>52850.139016</td>\n",
       "      <td>51883.745125</td>\n",
       "      <td>52363.848707</td>\n",
       "      <td>51410.641066</td>\n",
       "    </tr>\n",
       "    <tr>\n",
       "      <th>6</th>\n",
       "      <td>New York-Newark-Jersey City, NY-NJ-PA</td>\n",
       "      <td>125.7</td>\n",
       "      <td>854.0</td>\n",
       "      <td>0.061589</td>\n",
       "      <td>0.243545</td>\n",
       "      <td>5</td>\n",
       "      <td>1268.0</td>\n",
       "      <td>0.032211</td>\n",
       "      <td>0.129528</td>\n",
       "      <td>0.029379</td>\n",
       "      <td>55891.553082</td>\n",
       "      <td>2245</td>\n",
       "      <td>56013.506891</td>\n",
       "      <td>55328.923560</td>\n",
       "      <td>44464.242706</td>\n",
       "      <td>44561.262443</td>\n",
       "      <td>44016.645632</td>\n",
       "    </tr>\n",
       "  </tbody>\n",
       "</table>\n",
       "</div>"
      ],
      "text/plain": [
       "                               CBSA_NAME  RPP_all  total_hires  prop_hires  \\\n",
       "2         Boston-Cambridge-Newton, MA-NH    115.5       1604.0    0.115679   \n",
       "0     Chicago-Naperville-Elgin, IL-IN-WI    102.8        919.0    0.066277   \n",
       "6  New York-Newark-Jersey City, NY-NJ-PA    125.7        854.0    0.061589   \n",
       "\n",
       "   cum_hires  n_uni  n_grad  prop_grad  cum_grad  hiring_grad_disparity  \\\n",
       "2   0.115679     10  2325.0   0.059061  0.059061               0.056618   \n",
       "0   0.181956      6  1506.0   0.038256  0.097317               0.028021   \n",
       "6   0.243545      5  1268.0   0.032211  0.129528               0.029379   \n",
       "\n",
       "   MEDIAN_SALARY  N_SALARIES  MEDIAN_SALARY_UPPER  MEDIAN_SALARY_LOWER  \\\n",
       "2   55474.915479        1683         55932.677979         55205.642506   \n",
       "0   53336.489989        1504         53830.036471         52850.139016   \n",
       "6   55891.553082        2245         56013.506891         55328.923560   \n",
       "\n",
       "   REAL_MEDIAN_SALARY  REAL_MEDIAN_SALARY_UPPER  REAL_MEDIAN_SALARY_LOWER  \n",
       "2        48030.229852              48426.561021              47797.093079  \n",
       "0        51883.745125              52363.848707              51410.641066  \n",
       "6        44464.242706              44561.262443              44016.645632  "
      ]
     },
     "execution_count": 35,
     "metadata": {},
     "output_type": "execute_result"
    }
   ],
   "source": [
    "CBSA_df[:3]"
   ]
  },
  {
   "cell_type": "code",
   "execution_count": 44,
   "id": "14f55921",
   "metadata": {
    "ExecuteTime": {
     "end_time": "2022-01-15T14:57:50.243184Z",
     "start_time": "2022-01-15T14:57:49.823113Z"
    }
   },
   "outputs": [],
   "source": [
    "salary_df = salary_df.merge(university_df[[\"INSTNM\", \"RPP_all\"]], on = \"INSTNM\")"
   ]
  },
  {
   "cell_type": "code",
   "execution_count": 46,
   "id": "be9b1fcf",
   "metadata": {
    "ExecuteTime": {
     "end_time": "2022-01-15T14:58:08.872931Z",
     "start_time": "2022-01-15T14:58:08.823175Z"
    }
   },
   "outputs": [],
   "source": [
    "salary_df[\"REAL_MEDIAN_SALARY\"] = salary_df[\"INFLATION_SCALED_BASE_SALARY\"] / (salary_df[\"RPP_all\"].values / 100)"
   ]
  },
  {
   "cell_type": "code",
   "execution_count": 49,
   "id": "0c3d3461",
   "metadata": {
    "ExecuteTime": {
     "end_time": "2022-01-15T14:58:40.658288Z",
     "start_time": "2022-01-15T14:58:40.609630Z"
    }
   },
   "outputs": [
    {
     "data": {
      "text/plain": [
       "53100.08961257449"
      ]
     },
     "execution_count": 49,
     "metadata": {},
     "output_type": "execute_result"
    }
   ],
   "source": [
    "np.median(salary_df.INFLATION_SCALED_BASE_SALARY.values)"
   ]
  },
  {
   "cell_type": "code",
   "execution_count": 50,
   "id": "cbf316c9",
   "metadata": {
    "ExecuteTime": {
     "end_time": "2022-01-15T14:58:46.884303Z",
     "start_time": "2022-01-15T14:58:46.847214Z"
    }
   },
   "outputs": [
    {
     "data": {
      "text/plain": [
       "51848.669708466055"
      ]
     },
     "execution_count": 50,
     "metadata": {},
     "output_type": "execute_result"
    }
   ],
   "source": [
    "np.median(salary_df.REAL_MEDIAN_SALARY.values)"
   ]
  },
  {
   "cell_type": "code",
   "execution_count": 48,
   "id": "42144e53",
   "metadata": {
    "ExecuteTime": {
     "end_time": "2022-01-15T14:58:33.331569Z",
     "start_time": "2022-01-15T14:58:32.396216Z"
    }
   },
   "outputs": [
    {
     "data": {
      "image/png": "[encoded data removed]",
      "text/plain": [
       "<Figure size 432x288 with 1 Axes>"
      ]
     },
     "metadata": {
      "needs_background": "light"
     },
     "output_type": "display_data"
    }
   ],
   "source": [
    "plt.hist(salary_df.INFLATION_SCALED_BASE_SALARY.values, bins=50, alpha = 0.5);\n",
    "plt.hist(salary_df.REAL_MEDIAN_SALARY.values, bins=50, alpha = 0.5);"
   ]
  },
  {
   "cell_type": "code",
   "execution_count": null,
   "id": "cb52c966",
   "metadata": {},
   "outputs": [],
   "source": []
  }
 ],
 "metadata": {
  "kernelspec": {
   "display_name": "postdoc",
   "language": "python",
   "name": "postdoc"
  },
  "language_info": {
   "codemirror_mode": {
    "name": "ipython",
    "version": 3
   },
   "file_extension": ".py",
   "mimetype": "text/x-python",
   "name": "python",
   "nbconvert_exporter": "python",
   "pygments_lexer": "ipython3",
   "version": "3.8.12"
  }
 },
 "nbformat": 4,
 "nbformat_minor": 5
}
