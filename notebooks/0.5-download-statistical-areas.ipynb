{
 "cells": [
  {
   "cell_type": "code",
   "execution_count": 9,
   "id": "0ac63d87",
   "metadata": {
    "ExecuteTime": {
     "end_time": "2021-12-03T17:40:08.851980Z",
     "start_time": "2021-12-03T17:40:08.825128Z"
    }
   },
   "outputs": [
    {
     "name": "stdout",
     "output_type": "stream",
     "text": [
      "The autoreload extension is already loaded. To reload it, use:\n",
      "  %reload_ext autoreload\n"
     ]
    }
   ],
   "source": [
    "%load_ext autoreload\n",
    "%autoreload 2"
   ]
  },
  {
   "cell_type": "code",
   "execution_count": 4,
   "id": "e3613fdf",
   "metadata": {
    "ExecuteTime": {
     "end_time": "2021-12-03T17:33:18.139826Z",
     "start_time": "2021-12-03T17:33:16.745480Z"
    }
   },
   "outputs": [
    {
     "name": "stderr",
     "output_type": "stream",
     "text": [
      "<ipython-input-4-37777429a894>:5: TqdmExperimentalWarning: Using `tqdm.autonotebook.tqdm` in notebook mode. Use `tqdm.tqdm` instead to force console mode (e.g. in jupyter console)\n",
      "  from tqdm.autonotebook import tqdm\n"
     ]
    }
   ],
   "source": [
    "import numpy as np\n",
    "import pandas as pd\n",
    "import matplotlib.pyplot as plt\n",
    "%matplotlib inline\n",
    "from tqdm.autonotebook import tqdm\n",
    "from postdocsalary.paths import DATA_DIR, ensure_dir\n",
    "import urllib.request"
   ]
  },
  {
   "cell_type": "code",
   "execution_count": 6,
   "id": "6bf36381",
   "metadata": {
    "ExecuteTime": {
     "end_time": "2021-12-03T17:33:18.175036Z",
     "start_time": "2021-12-03T17:33:18.156167Z"
    }
   },
   "outputs": [],
   "source": [
    "url = \"https://www2.census.gov/programs-surveys/metro-micro/geographies/reference-files/2020/delineation-files/list1_2020.xls\""
   ]
  },
  {
   "cell_type": "code",
   "execution_count": 7,
   "id": "73909b39",
   "metadata": {
    "ExecuteTime": {
     "end_time": "2021-12-03T17:33:18.189940Z",
     "start_time": "2021-12-03T17:33:18.176774Z"
    }
   },
   "outputs": [],
   "source": [
    "ensure_dir(DATA_DIR/\"statistical_areas\")"
   ]
  },
  {
   "cell_type": "code",
   "execution_count": 8,
   "id": "fbc7939d",
   "metadata": {
    "ExecuteTime": {
     "end_time": "2021-12-03T17:33:18.380779Z",
     "start_time": "2021-12-03T17:33:18.191691Z"
    }
   },
   "outputs": [
    {
     "data": {
      "text/plain": [
       "(PosixPath('/mnt/cube/tsainbur/Projects/github_repos/postdoc-salary/data/statistical_areas/statistical_areas.xlsx'),\n",
       " <http.client.HTTPMessage at 0x7f1988e729a0>)"
      ]
     },
     "execution_count": 8,
     "metadata": {},
     "output_type": "execute_result"
    }
   ],
   "source": [
    "urllib.request.urlretrieve(url, DATA_DIR / \"statistical_areas\" / \"statistical_areas.xlsx\")"
   ]
  },
  {
   "cell_type": "code",
   "execution_count": 18,
   "id": "28d248ff",
   "metadata": {
    "ExecuteTime": {
     "end_time": "2021-12-03T18:41:30.715461Z",
     "start_time": "2021-12-03T18:41:30.348475Z"
    }
   },
   "outputs": [
    {
     "data": {
      "text/plain": [
       "(PosixPath('/mnt/cube/tsainbur/Projects/github_repos/postdoc-salary/data/statistical_areas/statistical_areas2.xlsx'),\n",
       " <http.client.HTTPMessage at 0x7f18f1216df0>)"
      ]
     },
     "execution_count": 18,
     "metadata": {},
     "output_type": "execute_result"
    }
   ],
   "source": [
    "url = \"https://www2.census.gov/programs-surveys/metro-micro/geographies/reference-files/2020/delineation-files/list2_2020.xls\"\n",
    "urllib.request.urlretrieve(url, DATA_DIR / \"statistical_areas\" / \"statistical_areas2.xlsx\")"
   ]
  },
  {
   "cell_type": "code",
   "execution_count": 16,
   "id": "70f73d52",
   "metadata": {
    "ExecuteTime": {
     "end_time": "2021-12-03T17:49:47.124957Z",
     "start_time": "2021-12-03T17:49:47.033952Z"
    }
   },
   "outputs": [],
   "source": [
    "stat_area_df = pd.read_excel(DATA_DIR / \"statistical_areas\" / \"statistical_areas.xlsx\", skiprows=2)"
   ]
  },
  {
   "cell_type": "code",
   "execution_count": 17,
   "id": "46fec943",
   "metadata": {
    "ExecuteTime": {
     "end_time": "2021-12-03T17:49:47.483619Z",
     "start_time": "2021-12-03T17:49:47.448914Z"
    }
   },
   "outputs": [
    {
     "data": {
      "text/html": [
       "<div>\n",
       "<style scoped>\n",
       "    .dataframe tbody tr th:only-of-type {\n",
       "        vertical-align: middle;\n",
       "    }\n",
       "\n",
       "    .dataframe tbody tr th {\n",
       "        vertical-align: top;\n",
       "    }\n",
       "\n",
       "    .dataframe thead th {\n",
       "        text-align: right;\n",
       "    }\n",
       "</style>\n",
       "<table border=\"1\" class=\"dataframe\">\n",
       "  <thead>\n",
       "    <tr style=\"text-align: right;\">\n",
       "      <th></th>\n",
       "      <th>CBSA Code</th>\n",
       "      <th>Metropolitan Division Code</th>\n",
       "      <th>CSA Code</th>\n",
       "      <th>CBSA Title</th>\n",
       "      <th>Metropolitan/Micropolitan Statistical Area</th>\n",
       "      <th>Metropolitan Division Title</th>\n",
       "      <th>CSA Title</th>\n",
       "      <th>County/County Equivalent</th>\n",
       "      <th>State Name</th>\n",
       "      <th>FIPS State Code</th>\n",
       "      <th>FIPS County Code</th>\n",
       "      <th>Central/Outlying County</th>\n",
       "    </tr>\n",
       "  </thead>\n",
       "  <tbody>\n",
       "    <tr>\n",
       "      <th>0</th>\n",
       "      <td>10100</td>\n",
       "      <td>NaN</td>\n",
       "      <td>NaN</td>\n",
       "      <td>Aberdeen, SD</td>\n",
       "      <td>Micropolitan Statistical Area</td>\n",
       "      <td>NaN</td>\n",
       "      <td>NaN</td>\n",
       "      <td>Brown County</td>\n",
       "      <td>South Dakota</td>\n",
       "      <td>46.0</td>\n",
       "      <td>13.0</td>\n",
       "      <td>Central</td>\n",
       "    </tr>\n",
       "    <tr>\n",
       "      <th>1</th>\n",
       "      <td>10100</td>\n",
       "      <td>NaN</td>\n",
       "      <td>NaN</td>\n",
       "      <td>Aberdeen, SD</td>\n",
       "      <td>Micropolitan Statistical Area</td>\n",
       "      <td>NaN</td>\n",
       "      <td>NaN</td>\n",
       "      <td>Edmunds County</td>\n",
       "      <td>South Dakota</td>\n",
       "      <td>46.0</td>\n",
       "      <td>45.0</td>\n",
       "      <td>Outlying</td>\n",
       "    </tr>\n",
       "    <tr>\n",
       "      <th>2</th>\n",
       "      <td>10140</td>\n",
       "      <td>NaN</td>\n",
       "      <td>NaN</td>\n",
       "      <td>Aberdeen, WA</td>\n",
       "      <td>Micropolitan Statistical Area</td>\n",
       "      <td>NaN</td>\n",
       "      <td>NaN</td>\n",
       "      <td>Grays Harbor County</td>\n",
       "      <td>Washington</td>\n",
       "      <td>53.0</td>\n",
       "      <td>27.0</td>\n",
       "      <td>Central</td>\n",
       "    </tr>\n",
       "    <tr>\n",
       "      <th>3</th>\n",
       "      <td>10180</td>\n",
       "      <td>NaN</td>\n",
       "      <td>NaN</td>\n",
       "      <td>Abilene, TX</td>\n",
       "      <td>Metropolitan Statistical Area</td>\n",
       "      <td>NaN</td>\n",
       "      <td>NaN</td>\n",
       "      <td>Callahan County</td>\n",
       "      <td>Texas</td>\n",
       "      <td>48.0</td>\n",
       "      <td>59.0</td>\n",
       "      <td>Outlying</td>\n",
       "    </tr>\n",
       "    <tr>\n",
       "      <th>4</th>\n",
       "      <td>10180</td>\n",
       "      <td>NaN</td>\n",
       "      <td>NaN</td>\n",
       "      <td>Abilene, TX</td>\n",
       "      <td>Metropolitan Statistical Area</td>\n",
       "      <td>NaN</td>\n",
       "      <td>NaN</td>\n",
       "      <td>Jones County</td>\n",
       "      <td>Texas</td>\n",
       "      <td>48.0</td>\n",
       "      <td>253.0</td>\n",
       "      <td>Outlying</td>\n",
       "    </tr>\n",
       "    <tr>\n",
       "      <th>...</th>\n",
       "      <td>...</td>\n",
       "      <td>...</td>\n",
       "      <td>...</td>\n",
       "      <td>...</td>\n",
       "      <td>...</td>\n",
       "      <td>...</td>\n",
       "      <td>...</td>\n",
       "      <td>...</td>\n",
       "      <td>...</td>\n",
       "      <td>...</td>\n",
       "      <td>...</td>\n",
       "      <td>...</td>\n",
       "    </tr>\n",
       "    <tr>\n",
       "      <th>1915</th>\n",
       "      <td>49820</td>\n",
       "      <td>NaN</td>\n",
       "      <td>NaN</td>\n",
       "      <td>Zapata, TX</td>\n",
       "      <td>Micropolitan Statistical Area</td>\n",
       "      <td>NaN</td>\n",
       "      <td>NaN</td>\n",
       "      <td>Zapata County</td>\n",
       "      <td>Texas</td>\n",
       "      <td>48.0</td>\n",
       "      <td>505.0</td>\n",
       "      <td>Central</td>\n",
       "    </tr>\n",
       "    <tr>\n",
       "      <th>1916</th>\n",
       "      <td>NaN</td>\n",
       "      <td>NaN</td>\n",
       "      <td>NaN</td>\n",
       "      <td>NaN</td>\n",
       "      <td>NaN</td>\n",
       "      <td>NaN</td>\n",
       "      <td>NaN</td>\n",
       "      <td>NaN</td>\n",
       "      <td>NaN</td>\n",
       "      <td>NaN</td>\n",
       "      <td>NaN</td>\n",
       "      <td>NaN</td>\n",
       "    </tr>\n",
       "    <tr>\n",
       "      <th>1917</th>\n",
       "      <td>Note: The 2010 OMB Standards for Delineating M...</td>\n",
       "      <td>NaN</td>\n",
       "      <td>NaN</td>\n",
       "      <td>NaN</td>\n",
       "      <td>NaN</td>\n",
       "      <td>NaN</td>\n",
       "      <td>NaN</td>\n",
       "      <td>NaN</td>\n",
       "      <td>NaN</td>\n",
       "      <td>NaN</td>\n",
       "      <td>NaN</td>\n",
       "      <td>NaN</td>\n",
       "    </tr>\n",
       "    <tr>\n",
       "      <th>1918</th>\n",
       "      <td>Source: File prepared by U.S. Census Bureau, P...</td>\n",
       "      <td>NaN</td>\n",
       "      <td>NaN</td>\n",
       "      <td>NaN</td>\n",
       "      <td>NaN</td>\n",
       "      <td>NaN</td>\n",
       "      <td>NaN</td>\n",
       "      <td>NaN</td>\n",
       "      <td>NaN</td>\n",
       "      <td>NaN</td>\n",
       "      <td>NaN</td>\n",
       "      <td>NaN</td>\n",
       "    </tr>\n",
       "    <tr>\n",
       "      <th>1919</th>\n",
       "      <td>Internet Release Date: April 2020</td>\n",
       "      <td>NaN</td>\n",
       "      <td>NaN</td>\n",
       "      <td>NaN</td>\n",
       "      <td>NaN</td>\n",
       "      <td>NaN</td>\n",
       "      <td>NaN</td>\n",
       "      <td>NaN</td>\n",
       "      <td>NaN</td>\n",
       "      <td>NaN</td>\n",
       "      <td>NaN</td>\n",
       "      <td>NaN</td>\n",
       "    </tr>\n",
       "  </tbody>\n",
       "</table>\n",
       "<p>1920 rows × 12 columns</p>\n",
       "</div>"
      ],
      "text/plain": [
       "                                              CBSA Code  \\\n",
       "0                                                 10100   \n",
       "1                                                 10100   \n",
       "2                                                 10140   \n",
       "3                                                 10180   \n",
       "4                                                 10180   \n",
       "...                                                 ...   \n",
       "1915                                              49820   \n",
       "1916                                                NaN   \n",
       "1917  Note: The 2010 OMB Standards for Delineating M...   \n",
       "1918  Source: File prepared by U.S. Census Bureau, P...   \n",
       "1919                  Internet Release Date: April 2020   \n",
       "\n",
       "      Metropolitan Division Code  CSA Code    CBSA Title  \\\n",
       "0                            NaN       NaN  Aberdeen, SD   \n",
       "1                            NaN       NaN  Aberdeen, SD   \n",
       "2                            NaN       NaN  Aberdeen, WA   \n",
       "3                            NaN       NaN   Abilene, TX   \n",
       "4                            NaN       NaN   Abilene, TX   \n",
       "...                          ...       ...           ...   \n",
       "1915                         NaN       NaN    Zapata, TX   \n",
       "1916                         NaN       NaN           NaN   \n",
       "1917                         NaN       NaN           NaN   \n",
       "1918                         NaN       NaN           NaN   \n",
       "1919                         NaN       NaN           NaN   \n",
       "\n",
       "     Metropolitan/Micropolitan Statistical Area Metropolitan Division Title  \\\n",
       "0                 Micropolitan Statistical Area                         NaN   \n",
       "1                 Micropolitan Statistical Area                         NaN   \n",
       "2                 Micropolitan Statistical Area                         NaN   \n",
       "3                 Metropolitan Statistical Area                         NaN   \n",
       "4                 Metropolitan Statistical Area                         NaN   \n",
       "...                                         ...                         ...   \n",
       "1915              Micropolitan Statistical Area                         NaN   \n",
       "1916                                        NaN                         NaN   \n",
       "1917                                        NaN                         NaN   \n",
       "1918                                        NaN                         NaN   \n",
       "1919                                        NaN                         NaN   \n",
       "\n",
       "     CSA Title County/County Equivalent    State Name  FIPS State Code  \\\n",
       "0          NaN             Brown County  South Dakota             46.0   \n",
       "1          NaN           Edmunds County  South Dakota             46.0   \n",
       "2          NaN      Grays Harbor County    Washington             53.0   \n",
       "3          NaN          Callahan County         Texas             48.0   \n",
       "4          NaN             Jones County         Texas             48.0   \n",
       "...        ...                      ...           ...              ...   \n",
       "1915       NaN            Zapata County         Texas             48.0   \n",
       "1916       NaN                      NaN           NaN              NaN   \n",
       "1917       NaN                      NaN           NaN              NaN   \n",
       "1918       NaN                      NaN           NaN              NaN   \n",
       "1919       NaN                      NaN           NaN              NaN   \n",
       "\n",
       "      FIPS County Code Central/Outlying County  \n",
       "0                 13.0                 Central  \n",
       "1                 45.0                Outlying  \n",
       "2                 27.0                 Central  \n",
       "3                 59.0                Outlying  \n",
       "4                253.0                Outlying  \n",
       "...                ...                     ...  \n",
       "1915             505.0                 Central  \n",
       "1916               NaN                     NaN  \n",
       "1917               NaN                     NaN  \n",
       "1918               NaN                     NaN  \n",
       "1919               NaN                     NaN  \n",
       "\n",
       "[1920 rows x 12 columns]"
      ]
     },
     "execution_count": 17,
     "metadata": {},
     "output_type": "execute_result"
    }
   ],
   "source": [
    "stat_area_df"
   ]
  },
  {
   "cell_type": "code",
   "execution_count": 22,
   "id": "d4769007",
   "metadata": {
    "ExecuteTime": {
     "end_time": "2021-12-03T18:57:24.999920Z",
     "start_time": "2021-12-03T18:57:24.975548Z"
    }
   },
   "outputs": [
    {
     "data": {
      "text/plain": [
       "176"
      ]
     },
     "execution_count": 22,
     "metadata": {},
     "output_type": "execute_result"
    }
   ],
   "source": [
    "len(stat_area_df['CSA Code'].unique())"
   ]
  },
  {
   "cell_type": "code",
   "execution_count": 24,
   "id": "1c13d85b",
   "metadata": {
    "ExecuteTime": {
     "end_time": "2021-12-03T18:57:39.075216Z",
     "start_time": "2021-12-03T18:57:39.053218Z"
    }
   },
   "outputs": [
    {
     "data": {
      "text/plain": [
       "940"
      ]
     },
     "execution_count": 24,
     "metadata": {},
     "output_type": "execute_result"
    }
   ],
   "source": [
    "len(stat_area_df['CBSA Title'].unique())"
   ]
  },
  {
   "cell_type": "code",
   "execution_count": 19,
   "id": "8463d526",
   "metadata": {
    "ExecuteTime": {
     "end_time": "2021-12-03T18:41:40.288962Z",
     "start_time": "2021-12-03T18:41:40.220614Z"
    }
   },
   "outputs": [],
   "source": [
    "stat_area_df2 = pd.read_excel(DATA_DIR / \"statistical_areas\" / \"statistical_areas2.xlsx\", skiprows=2)"
   ]
  },
  {
   "cell_type": "code",
   "execution_count": 20,
   "id": "6e0baff7",
   "metadata": {
    "ExecuteTime": {
     "end_time": "2021-12-03T18:41:43.747321Z",
     "start_time": "2021-12-03T18:41:43.710209Z"
    }
   },
   "outputs": [
    {
     "data": {
      "text/html": [
       "<div>\n",
       "<style scoped>\n",
       "    .dataframe tbody tr th:only-of-type {\n",
       "        vertical-align: middle;\n",
       "    }\n",
       "\n",
       "    .dataframe tbody tr th {\n",
       "        vertical-align: top;\n",
       "    }\n",
       "\n",
       "    .dataframe thead th {\n",
       "        text-align: right;\n",
       "    }\n",
       "</style>\n",
       "<table border=\"1\" class=\"dataframe\">\n",
       "  <thead>\n",
       "    <tr style=\"text-align: right;\">\n",
       "      <th></th>\n",
       "      <th>CBSA Code</th>\n",
       "      <th>CBSA Title</th>\n",
       "      <th>Metropolitan/Micropolitan Statistical Area</th>\n",
       "      <th>Principal City Name</th>\n",
       "      <th>FIPS State Code</th>\n",
       "      <th>FIPS Place Code</th>\n",
       "    </tr>\n",
       "  </thead>\n",
       "  <tbody>\n",
       "    <tr>\n",
       "      <th>0</th>\n",
       "      <td>10100</td>\n",
       "      <td>Aberdeen, SD</td>\n",
       "      <td>Micropolitan Statistical Area</td>\n",
       "      <td>Aberdeen</td>\n",
       "      <td>46.0</td>\n",
       "      <td>100.0</td>\n",
       "    </tr>\n",
       "    <tr>\n",
       "      <th>1</th>\n",
       "      <td>10140</td>\n",
       "      <td>Aberdeen, WA</td>\n",
       "      <td>Micropolitan Statistical Area</td>\n",
       "      <td>Aberdeen</td>\n",
       "      <td>53.0</td>\n",
       "      <td>100.0</td>\n",
       "    </tr>\n",
       "    <tr>\n",
       "      <th>2</th>\n",
       "      <td>10180</td>\n",
       "      <td>Abilene, TX</td>\n",
       "      <td>Metropolitan Statistical Area</td>\n",
       "      <td>Abilene</td>\n",
       "      <td>48.0</td>\n",
       "      <td>1000.0</td>\n",
       "    </tr>\n",
       "    <tr>\n",
       "      <th>3</th>\n",
       "      <td>10220</td>\n",
       "      <td>Ada, OK</td>\n",
       "      <td>Micropolitan Statistical Area</td>\n",
       "      <td>Ada</td>\n",
       "      <td>40.0</td>\n",
       "      <td>200.0</td>\n",
       "    </tr>\n",
       "    <tr>\n",
       "      <th>4</th>\n",
       "      <td>10300</td>\n",
       "      <td>Adrian, MI</td>\n",
       "      <td>Micropolitan Statistical Area</td>\n",
       "      <td>Adrian</td>\n",
       "      <td>26.0</td>\n",
       "      <td>440.0</td>\n",
       "    </tr>\n",
       "    <tr>\n",
       "      <th>...</th>\n",
       "      <td>...</td>\n",
       "      <td>...</td>\n",
       "      <td>...</td>\n",
       "      <td>...</td>\n",
       "      <td>...</td>\n",
       "      <td>...</td>\n",
       "    </tr>\n",
       "    <tr>\n",
       "      <th>1268</th>\n",
       "      <td>49820</td>\n",
       "      <td>Zapata, TX</td>\n",
       "      <td>Micropolitan Statistical Area</td>\n",
       "      <td>Zapata</td>\n",
       "      <td>48.0</td>\n",
       "      <td>80716.0</td>\n",
       "    </tr>\n",
       "    <tr>\n",
       "      <th>1269</th>\n",
       "      <td>NaN</td>\n",
       "      <td>NaN</td>\n",
       "      <td>NaN</td>\n",
       "      <td>NaN</td>\n",
       "      <td>NaN</td>\n",
       "      <td>NaN</td>\n",
       "    </tr>\n",
       "    <tr>\n",
       "      <th>1270</th>\n",
       "      <td>Note: The 2010 OMB Standards for Delineating M...</td>\n",
       "      <td>NaN</td>\n",
       "      <td>NaN</td>\n",
       "      <td>NaN</td>\n",
       "      <td>NaN</td>\n",
       "      <td>NaN</td>\n",
       "    </tr>\n",
       "    <tr>\n",
       "      <th>1271</th>\n",
       "      <td>Source: File prepared by U.S. Census Bureau, P...</td>\n",
       "      <td>NaN</td>\n",
       "      <td>NaN</td>\n",
       "      <td>NaN</td>\n",
       "      <td>NaN</td>\n",
       "      <td>NaN</td>\n",
       "    </tr>\n",
       "    <tr>\n",
       "      <th>1272</th>\n",
       "      <td>Internet Release Date: April 2020</td>\n",
       "      <td>NaN</td>\n",
       "      <td>NaN</td>\n",
       "      <td>NaN</td>\n",
       "      <td>NaN</td>\n",
       "      <td>NaN</td>\n",
       "    </tr>\n",
       "  </tbody>\n",
       "</table>\n",
       "<p>1273 rows × 6 columns</p>\n",
       "</div>"
      ],
      "text/plain": [
       "                                              CBSA Code    CBSA Title  \\\n",
       "0                                                 10100  Aberdeen, SD   \n",
       "1                                                 10140  Aberdeen, WA   \n",
       "2                                                 10180   Abilene, TX   \n",
       "3                                                 10220       Ada, OK   \n",
       "4                                                 10300    Adrian, MI   \n",
       "...                                                 ...           ...   \n",
       "1268                                              49820    Zapata, TX   \n",
       "1269                                                NaN           NaN   \n",
       "1270  Note: The 2010 OMB Standards for Delineating M...           NaN   \n",
       "1271  Source: File prepared by U.S. Census Bureau, P...           NaN   \n",
       "1272                  Internet Release Date: April 2020           NaN   \n",
       "\n",
       "     Metropolitan/Micropolitan Statistical Area Principal City Name  \\\n",
       "0                 Micropolitan Statistical Area            Aberdeen   \n",
       "1                 Micropolitan Statistical Area            Aberdeen   \n",
       "2                 Metropolitan Statistical Area             Abilene   \n",
       "3                 Micropolitan Statistical Area                 Ada   \n",
       "4                 Micropolitan Statistical Area              Adrian   \n",
       "...                                         ...                 ...   \n",
       "1268              Micropolitan Statistical Area              Zapata   \n",
       "1269                                        NaN                 NaN   \n",
       "1270                                        NaN                 NaN   \n",
       "1271                                        NaN                 NaN   \n",
       "1272                                        NaN                 NaN   \n",
       "\n",
       "      FIPS State Code  FIPS Place Code  \n",
       "0                46.0            100.0  \n",
       "1                53.0            100.0  \n",
       "2                48.0           1000.0  \n",
       "3                40.0            200.0  \n",
       "4                26.0            440.0  \n",
       "...               ...              ...  \n",
       "1268             48.0          80716.0  \n",
       "1269              NaN              NaN  \n",
       "1270              NaN              NaN  \n",
       "1271              NaN              NaN  \n",
       "1272              NaN              NaN  \n",
       "\n",
       "[1273 rows x 6 columns]"
      ]
     },
     "execution_count": 20,
     "metadata": {},
     "output_type": "execute_result"
    }
   ],
   "source": [
    "stat_area_df2"
   ]
  },
  {
   "cell_type": "code",
   "execution_count": null,
   "id": "8e9a6796",
   "metadata": {},
   "outputs": [],
   "source": []
  }
 ],
 "metadata": {
  "kernelspec": {
   "display_name": "postdoc",
   "language": "python",
   "name": "postdoc"
  },
  "language_info": {
   "codemirror_mode": {
    "name": "ipython",
    "version": 3
   },
   "file_extension": ".py",
   "mimetype": "text/x-python",
   "name": "python",
   "nbconvert_exporter": "python",
   "pygments_lexer": "ipython3",
   "version": "3.8.12"
  }
 },
 "nbformat": 4,
 "nbformat_minor": 5
}
