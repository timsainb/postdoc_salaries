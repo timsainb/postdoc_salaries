{
 "cells": [
  {
   "cell_type": "markdown",
   "id": "3d78fc5c",
   "metadata": {},
   "source": [
    "### For the same statistical areas, plot salary of postdocs and salary of everyone else"
   ]
  },
  {
   "cell_type": "code",
   "execution_count": 2,
   "id": "713e5c81",
   "metadata": {
    "ExecuteTime": {
     "end_time": "2022-01-14T03:57:09.242211Z",
     "start_time": "2022-01-14T03:57:09.147445Z"
    }
   },
   "outputs": [],
   "source": [
    "%load_ext autoreload\n",
    "%autoreload 2"
   ]
  },
  {
   "cell_type": "code",
   "execution_count": 3,
   "id": "8fa73a66",
   "metadata": {
    "ExecuteTime": {
     "end_time": "2022-01-14T03:57:10.130063Z",
     "start_time": "2022-01-14T03:57:09.368748Z"
    }
   },
   "outputs": [
    {
     "name": "stderr",
     "output_type": "stream",
     "text": [
      "<ipython-input-3-1570110eca21>:5: TqdmExperimentalWarning: Using `tqdm.autonotebook.tqdm` in notebook mode. Use `tqdm.tqdm` instead to force console mode (e.g. in jupyter console)\n",
      "  from tqdm.autonotebook import tqdm\n"
     ]
    }
   ],
   "source": [
    "import numpy as np\n",
    "import pandas as pd\n",
    "import matplotlib.pyplot as plt\n",
    "%matplotlib inline\n",
    "from tqdm.autonotebook import tqdm\n",
    "from postdocsalary.paths import DATA_DIR, ensure_dir\n",
    "import urllib.request\n",
    "pd.set_option('display.max_columns', None)\n"
   ]
  },
  {
   "cell_type": "code",
   "execution_count": 4,
   "id": "149120ee",
   "metadata": {
    "ExecuteTime": {
     "end_time": "2022-01-14T03:57:10.182132Z",
     "start_time": "2022-01-14T03:57:10.132146Z"
    }
   },
   "outputs": [
    {
     "data": {
      "text/plain": [
       "6448"
      ]
     },
     "execution_count": 4,
     "metadata": {},
     "output_type": "execute_result"
    }
   ],
   "source": [
    "university_df = pd.read_pickle(DATA_DIR/ 'university_ranking_salary.pickle')\n",
    "len(university_df)"
   ]
  },
  {
   "cell_type": "code",
   "execution_count": 5,
   "id": "9908cde4",
   "metadata": {
    "ExecuteTime": {
     "end_time": "2022-01-14T03:57:10.297842Z",
     "start_time": "2022-01-14T03:57:10.184268Z"
    }
   },
   "outputs": [
    {
     "data": {
      "text/html": [
       "<div>\n",
       "<style scoped>\n",
       "    .dataframe tbody tr th:only-of-type {\n",
       "        vertical-align: middle;\n",
       "    }\n",
       "\n",
       "    .dataframe tbody tr th {\n",
       "        vertical-align: top;\n",
       "    }\n",
       "\n",
       "    .dataframe thead th {\n",
       "        text-align: right;\n",
       "    }\n",
       "</style>\n",
       "<table border=\"1\" class=\"dataframe\">\n",
       "  <thead>\n",
       "    <tr style=\"text-align: right;\">\n",
       "      <th></th>\n",
       "      <th>World Rank</th>\n",
       "      <th>Institution</th>\n",
       "      <th>Country</th>\n",
       "      <th>National Rank</th>\n",
       "      <th>Quality of Education Rank</th>\n",
       "      <th>Alumni Employment Rank</th>\n",
       "      <th>Quality of Faculty Rank</th>\n",
       "      <th>Research Performance Rank</th>\n",
       "      <th>Score</th>\n",
       "      <th>UNITID</th>\n",
       "      <th>INSTNM</th>\n",
       "      <th>IALIAS</th>\n",
       "      <th>ADDR</th>\n",
       "      <th>CITY</th>\n",
       "      <th>STABBR</th>\n",
       "      <th>ZIP</th>\n",
       "      <th>FIPS</th>\n",
       "      <th>OBEREG</th>\n",
       "      <th>CHFNM</th>\n",
       "      <th>CHFTITLE</th>\n",
       "      <th>GENTELE</th>\n",
       "      <th>EIN</th>\n",
       "      <th>DUNS</th>\n",
       "      <th>OPEID</th>\n",
       "      <th>OPEFLAG</th>\n",
       "      <th>WEBADDR</th>\n",
       "      <th>ADMINURL</th>\n",
       "      <th>FAIDURL</th>\n",
       "      <th>APPLURL</th>\n",
       "      <th>NPRICURL</th>\n",
       "      <th>VETURL</th>\n",
       "      <th>ATHURL</th>\n",
       "      <th>DISAURL</th>\n",
       "      <th>SECTOR</th>\n",
       "      <th>ICLEVEL</th>\n",
       "      <th>CONTROL</th>\n",
       "      <th>HLOFFER</th>\n",
       "      <th>UGOFFER</th>\n",
       "      <th>GROFFER</th>\n",
       "      <th>HDEGOFR1</th>\n",
       "      <th>DEGGRANT</th>\n",
       "      <th>HBCU</th>\n",
       "      <th>HOSPITAL</th>\n",
       "      <th>MEDICAL</th>\n",
       "      <th>TRIBAL</th>\n",
       "      <th>LOCALE</th>\n",
       "      <th>OPENPUBL</th>\n",
       "      <th>ACT</th>\n",
       "      <th>NEWID</th>\n",
       "      <th>DEATHYR</th>\n",
       "      <th>CLOSEDAT</th>\n",
       "      <th>CYACTIVE</th>\n",
       "      <th>POSTSEC</th>\n",
       "      <th>PSEFLAG</th>\n",
       "      <th>PSET4FLG</th>\n",
       "      <th>RPTMTH</th>\n",
       "      <th>INSTCAT</th>\n",
       "      <th>C18BASIC</th>\n",
       "      <th>C18IPUG</th>\n",
       "      <th>C18IPGRD</th>\n",
       "      <th>C18UGPRF</th>\n",
       "      <th>C18ENPRF</th>\n",
       "      <th>C18SZSET</th>\n",
       "      <th>C15BASIC</th>\n",
       "      <th>CCBASIC</th>\n",
       "      <th>CARNEGIE</th>\n",
       "      <th>LANDGRNT</th>\n",
       "      <th>INSTSIZE</th>\n",
       "      <th>F1SYSTYP</th>\n",
       "      <th>F1SYSNAM</th>\n",
       "      <th>F1SYSCOD</th>\n",
       "      <th>CBSA</th>\n",
       "      <th>CBSATYPE</th>\n",
       "      <th>CSA</th>\n",
       "      <th>NECTA</th>\n",
       "      <th>COUNTYCD</th>\n",
       "      <th>COUNTYNM</th>\n",
       "      <th>CNGDSTCD</th>\n",
       "      <th>LONGITUD</th>\n",
       "      <th>LATITUDE</th>\n",
       "      <th>DFRCGID</th>\n",
       "      <th>DFRCUSCG</th>\n",
       "      <th>LONGITUDE</th>\n",
       "      <th>CBSA_NAME</th>\n",
       "      <th>RPP_all</th>\n",
       "      <th>MEDIAN_SALARY</th>\n",
       "      <th>N_SALARIES</th>\n",
       "      <th>MEDIAN_SALARY_UPPER</th>\n",
       "      <th>MEDIAN_SALARY_LOWER</th>\n",
       "      <th>REAL_MEDIAN_SALARY</th>\n",
       "      <th>REAL_MEDIAN_SALARY_UPPER</th>\n",
       "      <th>REAL_MEDIAN_SALARY_LOWER</th>\n",
       "    </tr>\n",
       "  </thead>\n",
       "  <tbody>\n",
       "    <tr>\n",
       "      <th>0</th>\n",
       "      <td>1.0</td>\n",
       "      <td>Harvard University</td>\n",
       "      <td>USA</td>\n",
       "      <td>1.0</td>\n",
       "      <td>1</td>\n",
       "      <td>1</td>\n",
       "      <td>1</td>\n",
       "      <td>1</td>\n",
       "      <td>100.0</td>\n",
       "      <td>166027.0</td>\n",
       "      <td>Harvard University</td>\n",
       "      <td></td>\n",
       "      <td>Massachusetts Hall</td>\n",
       "      <td>Cambridge</td>\n",
       "      <td>MA</td>\n",
       "      <td>02138</td>\n",
       "      <td>25.0</td>\n",
       "      <td>1.0</td>\n",
       "      <td>Lawrence S. Bacow</td>\n",
       "      <td>President</td>\n",
       "      <td>6174951000</td>\n",
       "      <td>42103580.0</td>\n",
       "      <td>082359691|149617367|047006379</td>\n",
       "      <td>215500.0</td>\n",
       "      <td>1.0</td>\n",
       "      <td>www.harvard.edu/</td>\n",
       "      <td>college.harvard.edu/admissions</td>\n",
       "      <td>college.harvard.edu/financial-aid</td>\n",
       "      <td>college.harvard.edu/admissions/application-pro...</td>\n",
       "      <td>college.harvard.edu/financial-aid/net-price-ca...</td>\n",
       "      <td>sfs.harvard.edu/veteran-military-benefits</td>\n",
       "      <td></td>\n",
       "      <td>accessibility.harvard.edu/</td>\n",
       "      <td>2.0</td>\n",
       "      <td>1.0</td>\n",
       "      <td>2.0</td>\n",
       "      <td>9.0</td>\n",
       "      <td>1.0</td>\n",
       "      <td>1.0</td>\n",
       "      <td>11.0</td>\n",
       "      <td>1.0</td>\n",
       "      <td>2.0</td>\n",
       "      <td>2.0</td>\n",
       "      <td>1.0</td>\n",
       "      <td>2.0</td>\n",
       "      <td>12.0</td>\n",
       "      <td>1.0</td>\n",
       "      <td>A</td>\n",
       "      <td>-2.0</td>\n",
       "      <td>-2.0</td>\n",
       "      <td>-2</td>\n",
       "      <td>1.0</td>\n",
       "      <td>1.0</td>\n",
       "      <td>1.0</td>\n",
       "      <td>1.0</td>\n",
       "      <td>1.0</td>\n",
       "      <td>2.0</td>\n",
       "      <td>15.0</td>\n",
       "      <td>8.0</td>\n",
       "      <td>14.0</td>\n",
       "      <td>14.0</td>\n",
       "      <td>6.0</td>\n",
       "      <td>17.0</td>\n",
       "      <td>15.0</td>\n",
       "      <td>15.0</td>\n",
       "      <td>15.0</td>\n",
       "      <td>2.0</td>\n",
       "      <td>5.0</td>\n",
       "      <td>2.0</td>\n",
       "      <td>-2</td>\n",
       "      <td>-2.0</td>\n",
       "      <td>14460</td>\n",
       "      <td>1</td>\n",
       "      <td>148</td>\n",
       "      <td>71650.0</td>\n",
       "      <td>25017</td>\n",
       "      <td>Middlesex County</td>\n",
       "      <td>2505.0</td>\n",
       "      <td>-71.118313</td>\n",
       "      <td>42.374471</td>\n",
       "      <td>96.0</td>\n",
       "      <td>1.0</td>\n",
       "      <td>-71.118313</td>\n",
       "      <td>Boston-Cambridge-Newton, MA-NH</td>\n",
       "      <td>115.5</td>\n",
       "      <td>55783.941620</td>\n",
       "      <td>493</td>\n",
       "      <td>56164.312487</td>\n",
       "      <td>55205.642506</td>\n",
       "      <td>48297.784952</td>\n",
       "      <td>48627.110378</td>\n",
       "      <td>47797.093079</td>\n",
       "    </tr>\n",
       "    <tr>\n",
       "      <th>1</th>\n",
       "      <td>2.0</td>\n",
       "      <td>Massachusetts Institute of Technology</td>\n",
       "      <td>USA</td>\n",
       "      <td>2.0</td>\n",
       "      <td>4</td>\n",
       "      <td>12</td>\n",
       "      <td>2</td>\n",
       "      <td>8</td>\n",
       "      <td>96.7</td>\n",
       "      <td>166683.0</td>\n",
       "      <td>Massachusetts Institute of Technology</td>\n",
       "      <td>MIT, M.I.T.</td>\n",
       "      <td>77 Massachusetts Avenue</td>\n",
       "      <td>Cambridge</td>\n",
       "      <td>MA</td>\n",
       "      <td>02139-4307</td>\n",
       "      <td>25.0</td>\n",
       "      <td>1.0</td>\n",
       "      <td>L. Rafael Reif</td>\n",
       "      <td>President</td>\n",
       "      <td>6172531000</td>\n",
       "      <td>42103594.0</td>\n",
       "      <td>001425594</td>\n",
       "      <td>217800.0</td>\n",
       "      <td>1.0</td>\n",
       "      <td>web.mit.edu/</td>\n",
       "      <td>https://mitadmissions.org/</td>\n",
       "      <td>https://sfs.mit.edu/</td>\n",
       "      <td>my.mit.edu/</td>\n",
       "      <td>https://sfs.mit.edu/undergraduate-students/our...</td>\n",
       "      <td>https://sfs.mit.edu/undergraduate-students/typ...</td>\n",
       "      <td></td>\n",
       "      <td>studentlife.mit.edu/das</td>\n",
       "      <td>2.0</td>\n",
       "      <td>1.0</td>\n",
       "      <td>2.0</td>\n",
       "      <td>9.0</td>\n",
       "      <td>1.0</td>\n",
       "      <td>1.0</td>\n",
       "      <td>12.0</td>\n",
       "      <td>1.0</td>\n",
       "      <td>2.0</td>\n",
       "      <td>2.0</td>\n",
       "      <td>2.0</td>\n",
       "      <td>2.0</td>\n",
       "      <td>12.0</td>\n",
       "      <td>1.0</td>\n",
       "      <td>A</td>\n",
       "      <td>-2.0</td>\n",
       "      <td>-2.0</td>\n",
       "      <td>-2</td>\n",
       "      <td>1.0</td>\n",
       "      <td>1.0</td>\n",
       "      <td>1.0</td>\n",
       "      <td>1.0</td>\n",
       "      <td>1.0</td>\n",
       "      <td>2.0</td>\n",
       "      <td>15.0</td>\n",
       "      <td>14.0</td>\n",
       "      <td>15.0</td>\n",
       "      <td>14.0</td>\n",
       "      <td>6.0</td>\n",
       "      <td>17.0</td>\n",
       "      <td>15.0</td>\n",
       "      <td>15.0</td>\n",
       "      <td>15.0</td>\n",
       "      <td>1.0</td>\n",
       "      <td>4.0</td>\n",
       "      <td>2.0</td>\n",
       "      <td>-2</td>\n",
       "      <td>-2.0</td>\n",
       "      <td>14460</td>\n",
       "      <td>1</td>\n",
       "      <td>148</td>\n",
       "      <td>71650.0</td>\n",
       "      <td>25017</td>\n",
       "      <td>Middlesex County</td>\n",
       "      <td>2507.0</td>\n",
       "      <td>-71.093226</td>\n",
       "      <td>42.359243</td>\n",
       "      <td>96.0</td>\n",
       "      <td>1.0</td>\n",
       "      <td>-71.093226</td>\n",
       "      <td>Boston-Cambridge-Newton, MA-NH</td>\n",
       "      <td>115.5</td>\n",
       "      <td>56659.816586</td>\n",
       "      <td>680</td>\n",
       "      <td>56952.349035</td>\n",
       "      <td>56164.312487</td>\n",
       "      <td>49056.118257</td>\n",
       "      <td>49309.393104</td>\n",
       "      <td>48627.110378</td>\n",
       "    </tr>\n",
       "    <tr>\n",
       "      <th>2</th>\n",
       "      <td>3.0</td>\n",
       "      <td>Stanford University</td>\n",
       "      <td>USA</td>\n",
       "      <td>3.0</td>\n",
       "      <td>10</td>\n",
       "      <td>4</td>\n",
       "      <td>3</td>\n",
       "      <td>2</td>\n",
       "      <td>95.1</td>\n",
       "      <td>243744.0</td>\n",
       "      <td>Stanford University</td>\n",
       "      <td></td>\n",
       "      <td></td>\n",
       "      <td>Stanford</td>\n",
       "      <td>CA</td>\n",
       "      <td>94305</td>\n",
       "      <td>6.0</td>\n",
       "      <td>8.0</td>\n",
       "      <td>Marc Tessier-Lavigne</td>\n",
       "      <td>President</td>\n",
       "      <td>6507232300</td>\n",
       "      <td>941156365.0</td>\n",
       "      <td>009214214</td>\n",
       "      <td>130500.0</td>\n",
       "      <td>1.0</td>\n",
       "      <td>www.stanford.edu/</td>\n",
       "      <td>admission.stanford.edu/</td>\n",
       "      <td>financialaid.stanford.edu/</td>\n",
       "      <td>commonapp.org/</td>\n",
       "      <td>www.stanford.edu/dept/finaid/undergrad/how/cal...</td>\n",
       "      <td>exploredegrees.stanford.edu/veterans/</td>\n",
       "      <td>parents.stanford.edu/2015/11/09/stanford-athle...</td>\n",
       "      <td>diversityandaccess.stanford.edu/disability-access</td>\n",
       "      <td>2.0</td>\n",
       "      <td>1.0</td>\n",
       "      <td>2.0</td>\n",
       "      <td>9.0</td>\n",
       "      <td>1.0</td>\n",
       "      <td>1.0</td>\n",
       "      <td>11.0</td>\n",
       "      <td>1.0</td>\n",
       "      <td>2.0</td>\n",
       "      <td>1.0</td>\n",
       "      <td>1.0</td>\n",
       "      <td>2.0</td>\n",
       "      <td>21.0</td>\n",
       "      <td>1.0</td>\n",
       "      <td>A</td>\n",
       "      <td>-2.0</td>\n",
       "      <td>-2.0</td>\n",
       "      <td>-2</td>\n",
       "      <td>1.0</td>\n",
       "      <td>1.0</td>\n",
       "      <td>1.0</td>\n",
       "      <td>1.0</td>\n",
       "      <td>1.0</td>\n",
       "      <td>2.0</td>\n",
       "      <td>15.0</td>\n",
       "      <td>11.0</td>\n",
       "      <td>14.0</td>\n",
       "      <td>14.0</td>\n",
       "      <td>6.0</td>\n",
       "      <td>17.0</td>\n",
       "      <td>15.0</td>\n",
       "      <td>15.0</td>\n",
       "      <td>15.0</td>\n",
       "      <td>2.0</td>\n",
       "      <td>4.0</td>\n",
       "      <td>2.0</td>\n",
       "      <td>-2</td>\n",
       "      <td>-2.0</td>\n",
       "      <td>41940</td>\n",
       "      <td>1</td>\n",
       "      <td>488</td>\n",
       "      <td>-2.0</td>\n",
       "      <td>6085</td>\n",
       "      <td>Santa Clara County</td>\n",
       "      <td>618.0</td>\n",
       "      <td>-122.167359</td>\n",
       "      <td>37.429434</td>\n",
       "      <td>96.0</td>\n",
       "      <td>1.0</td>\n",
       "      <td>-122.167359</td>\n",
       "      <td>San Jose-Sunnyvale-Santa Clara, CA</td>\n",
       "      <td>126.7</td>\n",
       "      <td>62476.603840</td>\n",
       "      <td>349</td>\n",
       "      <td>63319.925605</td>\n",
       "      <td>62352.688787</td>\n",
       "      <td>49310.658122</td>\n",
       "      <td>49976.263303</td>\n",
       "      <td>49212.856186</td>\n",
       "    </tr>\n",
       "    <tr>\n",
       "      <th>3</th>\n",
       "      <td>6.0</td>\n",
       "      <td>Princeton University</td>\n",
       "      <td>USA</td>\n",
       "      <td>4.0</td>\n",
       "      <td>5</td>\n",
       "      <td>15</td>\n",
       "      <td>7</td>\n",
       "      <td>70</td>\n",
       "      <td>92.6</td>\n",
       "      <td>186131.0</td>\n",
       "      <td>Princeton University</td>\n",
       "      <td></td>\n",
       "      <td>1 Nassau Hall</td>\n",
       "      <td>Princeton</td>\n",
       "      <td>NJ</td>\n",
       "      <td>08544-0070</td>\n",
       "      <td>34.0</td>\n",
       "      <td>2.0</td>\n",
       "      <td>Christopher L. Eisgruber</td>\n",
       "      <td>President</td>\n",
       "      <td>6092583000</td>\n",
       "      <td>210634501.0</td>\n",
       "      <td>002484665</td>\n",
       "      <td>262700.0</td>\n",
       "      <td>1.0</td>\n",
       "      <td>www.princeton.edu/</td>\n",
       "      <td></td>\n",
       "      <td></td>\n",
       "      <td></td>\n",
       "      <td>www.princeton.edu/admission/financialaid/estim...</td>\n",
       "      <td>registrar.princeton.edu/student-services/veter...</td>\n",
       "      <td>fs.ncaa.org/Docs/newmedia/public/rates/index.html</td>\n",
       "      <td>www.princeton.edu/ods/</td>\n",
       "      <td>2.0</td>\n",
       "      <td>1.0</td>\n",
       "      <td>2.0</td>\n",
       "      <td>9.0</td>\n",
       "      <td>1.0</td>\n",
       "      <td>1.0</td>\n",
       "      <td>12.0</td>\n",
       "      <td>1.0</td>\n",
       "      <td>2.0</td>\n",
       "      <td>2.0</td>\n",
       "      <td>2.0</td>\n",
       "      <td>2.0</td>\n",
       "      <td>13.0</td>\n",
       "      <td>1.0</td>\n",
       "      <td>A</td>\n",
       "      <td>-2.0</td>\n",
       "      <td>-2.0</td>\n",
       "      <td>-2</td>\n",
       "      <td>1.0</td>\n",
       "      <td>1.0</td>\n",
       "      <td>1.0</td>\n",
       "      <td>1.0</td>\n",
       "      <td>1.0</td>\n",
       "      <td>2.0</td>\n",
       "      <td>15.0</td>\n",
       "      <td>11.0</td>\n",
       "      <td>15.0</td>\n",
       "      <td>14.0</td>\n",
       "      <td>5.0</td>\n",
       "      <td>14.0</td>\n",
       "      <td>15.0</td>\n",
       "      <td>15.0</td>\n",
       "      <td>15.0</td>\n",
       "      <td>2.0</td>\n",
       "      <td>3.0</td>\n",
       "      <td>2.0</td>\n",
       "      <td>-2</td>\n",
       "      <td>-2.0</td>\n",
       "      <td>45940</td>\n",
       "      <td>1</td>\n",
       "      <td>408</td>\n",
       "      <td>-2.0</td>\n",
       "      <td>34021</td>\n",
       "      <td>Mercer County</td>\n",
       "      <td>3412.0</td>\n",
       "      <td>-74.659365</td>\n",
       "      <td>40.348732</td>\n",
       "      <td>96.0</td>\n",
       "      <td>2.0</td>\n",
       "      <td>-74.659365</td>\n",
       "      <td>Trenton-Princeton, NJ</td>\n",
       "      <td>106.2</td>\n",
       "      <td>52999.785469</td>\n",
       "      <td>446</td>\n",
       "      <td>53594.975712</td>\n",
       "      <td>52446.187347</td>\n",
       "      <td>49905.636035</td>\n",
       "      <td>50466.078825</td>\n",
       "      <td>49384.357200</td>\n",
       "    </tr>\n",
       "  </tbody>\n",
       "</table>\n",
       "</div>"
      ],
      "text/plain": [
       "   World Rank                            Institution Country  National Rank  \\\n",
       "0         1.0                     Harvard University     USA            1.0   \n",
       "1         2.0  Massachusetts Institute of Technology     USA            2.0   \n",
       "2         3.0                    Stanford University     USA            3.0   \n",
       "3         6.0                   Princeton University     USA            4.0   \n",
       "\n",
       "  Quality of Education Rank Alumni Employment Rank Quality of Faculty Rank  \\\n",
       "0                         1                      1                       1   \n",
       "1                         4                     12                       2   \n",
       "2                        10                      4                       3   \n",
       "3                         5                     15                       7   \n",
       "\n",
       "  Research Performance Rank  Score    UNITID  \\\n",
       "0                         1  100.0  166027.0   \n",
       "1                         8   96.7  166683.0   \n",
       "2                         2   95.1  243744.0   \n",
       "3                        70   92.6  186131.0   \n",
       "\n",
       "                                  INSTNM       IALIAS  \\\n",
       "0                     Harvard University                \n",
       "1  Massachusetts Institute of Technology  MIT, M.I.T.   \n",
       "2                    Stanford University                \n",
       "3                   Princeton University                \n",
       "\n",
       "                      ADDR       CITY STABBR         ZIP  FIPS  OBEREG  \\\n",
       "0       Massachusetts Hall  Cambridge     MA       02138  25.0     1.0   \n",
       "1  77 Massachusetts Avenue  Cambridge     MA  02139-4307  25.0     1.0   \n",
       "2                            Stanford     CA       94305   6.0     8.0   \n",
       "3            1 Nassau Hall  Princeton     NJ  08544-0070  34.0     2.0   \n",
       "\n",
       "                      CHFNM   CHFTITLE     GENTELE          EIN  \\\n",
       "0         Lawrence S. Bacow  President  6174951000   42103580.0   \n",
       "1            L. Rafael Reif  President  6172531000   42103594.0   \n",
       "2      Marc Tessier-Lavigne  President  6507232300  941156365.0   \n",
       "3  Christopher L. Eisgruber  President  6092583000  210634501.0   \n",
       "\n",
       "                            DUNS     OPEID  OPEFLAG             WEBADDR  \\\n",
       "0  082359691|149617367|047006379  215500.0      1.0    www.harvard.edu/   \n",
       "1                      001425594  217800.0      1.0        web.mit.edu/   \n",
       "2                      009214214  130500.0      1.0   www.stanford.edu/   \n",
       "3                      002484665  262700.0      1.0  www.princeton.edu/   \n",
       "\n",
       "                         ADMINURL                            FAIDURL  \\\n",
       "0  college.harvard.edu/admissions  college.harvard.edu/financial-aid   \n",
       "1      https://mitadmissions.org/               https://sfs.mit.edu/   \n",
       "2         admission.stanford.edu/         financialaid.stanford.edu/   \n",
       "3                                                                      \n",
       "\n",
       "                                             APPLURL  \\\n",
       "0  college.harvard.edu/admissions/application-pro...   \n",
       "1                                        my.mit.edu/   \n",
       "2                                     commonapp.org/   \n",
       "3                                                      \n",
       "\n",
       "                                            NPRICURL  \\\n",
       "0  college.harvard.edu/financial-aid/net-price-ca...   \n",
       "1  https://sfs.mit.edu/undergraduate-students/our...   \n",
       "2  www.stanford.edu/dept/finaid/undergrad/how/cal...   \n",
       "3  www.princeton.edu/admission/financialaid/estim...   \n",
       "\n",
       "                                              VETURL  \\\n",
       "0          sfs.harvard.edu/veteran-military-benefits   \n",
       "1  https://sfs.mit.edu/undergraduate-students/typ...   \n",
       "2              exploredegrees.stanford.edu/veterans/   \n",
       "3  registrar.princeton.edu/student-services/veter...   \n",
       "\n",
       "                                              ATHURL  \\\n",
       "0                                                      \n",
       "1                                                      \n",
       "2  parents.stanford.edu/2015/11/09/stanford-athle...   \n",
       "3  fs.ncaa.org/Docs/newmedia/public/rates/index.html   \n",
       "\n",
       "                                             DISAURL  SECTOR  ICLEVEL  \\\n",
       "0                         accessibility.harvard.edu/     2.0      1.0   \n",
       "1                            studentlife.mit.edu/das     2.0      1.0   \n",
       "2  diversityandaccess.stanford.edu/disability-access     2.0      1.0   \n",
       "3                             www.princeton.edu/ods/     2.0      1.0   \n",
       "\n",
       "   CONTROL  HLOFFER  UGOFFER  GROFFER  HDEGOFR1  DEGGRANT  HBCU  HOSPITAL  \\\n",
       "0      2.0      9.0      1.0      1.0      11.0       1.0   2.0       2.0   \n",
       "1      2.0      9.0      1.0      1.0      12.0       1.0   2.0       2.0   \n",
       "2      2.0      9.0      1.0      1.0      11.0       1.0   2.0       1.0   \n",
       "3      2.0      9.0      1.0      1.0      12.0       1.0   2.0       2.0   \n",
       "\n",
       "   MEDICAL  TRIBAL  LOCALE  OPENPUBL ACT  NEWID  DEATHYR CLOSEDAT  CYACTIVE  \\\n",
       "0      1.0     2.0    12.0       1.0  A    -2.0     -2.0       -2       1.0   \n",
       "1      2.0     2.0    12.0       1.0  A    -2.0     -2.0       -2       1.0   \n",
       "2      1.0     2.0    21.0       1.0  A    -2.0     -2.0       -2       1.0   \n",
       "3      2.0     2.0    13.0       1.0  A    -2.0     -2.0       -2       1.0   \n",
       "\n",
       "   POSTSEC  PSEFLAG  PSET4FLG  RPTMTH  INSTCAT  C18BASIC  C18IPUG  C18IPGRD  \\\n",
       "0      1.0      1.0       1.0     1.0      2.0      15.0      8.0      14.0   \n",
       "1      1.0      1.0       1.0     1.0      2.0      15.0     14.0      15.0   \n",
       "2      1.0      1.0       1.0     1.0      2.0      15.0     11.0      14.0   \n",
       "3      1.0      1.0       1.0     1.0      2.0      15.0     11.0      15.0   \n",
       "\n",
       "   C18UGPRF  C18ENPRF  C18SZSET  C15BASIC  CCBASIC  CARNEGIE  LANDGRNT  \\\n",
       "0      14.0       6.0      17.0      15.0     15.0      15.0       2.0   \n",
       "1      14.0       6.0      17.0      15.0     15.0      15.0       1.0   \n",
       "2      14.0       6.0      17.0      15.0     15.0      15.0       2.0   \n",
       "3      14.0       5.0      14.0      15.0     15.0      15.0       2.0   \n",
       "\n",
       "   INSTSIZE  F1SYSTYP F1SYSNAM  F1SYSCOD   CBSA  CBSATYPE  CSA    NECTA  \\\n",
       "0       5.0       2.0       -2      -2.0  14460         1  148  71650.0   \n",
       "1       4.0       2.0       -2      -2.0  14460         1  148  71650.0   \n",
       "2       4.0       2.0       -2      -2.0  41940         1  488     -2.0   \n",
       "3       3.0       2.0       -2      -2.0  45940         1  408     -2.0   \n",
       "\n",
       "   COUNTYCD            COUNTYNM  CNGDSTCD    LONGITUD   LATITUDE  DFRCGID  \\\n",
       "0     25017    Middlesex County    2505.0  -71.118313  42.374471     96.0   \n",
       "1     25017    Middlesex County    2507.0  -71.093226  42.359243     96.0   \n",
       "2      6085  Santa Clara County     618.0 -122.167359  37.429434     96.0   \n",
       "3     34021       Mercer County    3412.0  -74.659365  40.348732     96.0   \n",
       "\n",
       "   DFRCUSCG   LONGITUDE                           CBSA_NAME  RPP_all  \\\n",
       "0       1.0  -71.118313      Boston-Cambridge-Newton, MA-NH    115.5   \n",
       "1       1.0  -71.093226      Boston-Cambridge-Newton, MA-NH    115.5   \n",
       "2       1.0 -122.167359  San Jose-Sunnyvale-Santa Clara, CA    126.7   \n",
       "3       2.0  -74.659365               Trenton-Princeton, NJ    106.2   \n",
       "\n",
       "   MEDIAN_SALARY  N_SALARIES  MEDIAN_SALARY_UPPER  MEDIAN_SALARY_LOWER  \\\n",
       "0   55783.941620         493         56164.312487         55205.642506   \n",
       "1   56659.816586         680         56952.349035         56164.312487   \n",
       "2   62476.603840         349         63319.925605         62352.688787   \n",
       "3   52999.785469         446         53594.975712         52446.187347   \n",
       "\n",
       "   REAL_MEDIAN_SALARY  REAL_MEDIAN_SALARY_UPPER  REAL_MEDIAN_SALARY_LOWER  \n",
       "0        48297.784952              48627.110378              47797.093079  \n",
       "1        49056.118257              49309.393104              48627.110378  \n",
       "2        49310.658122              49976.263303              49212.856186  \n",
       "3        49905.636035              50466.078825              49384.357200  "
      ]
     },
     "execution_count": 5,
     "metadata": {},
     "output_type": "execute_result"
    }
   ],
   "source": [
    "university_df[:4]"
   ]
  },
  {
   "cell_type": "markdown",
   "id": "7cb3dff1",
   "metadata": {},
   "source": [
    "### Threshold number of salaries"
   ]
  },
  {
   "cell_type": "code",
   "execution_count": 6,
   "id": "8be52c67",
   "metadata": {
    "ExecuteTime": {
     "end_time": "2022-01-14T03:57:10.748619Z",
     "start_time": "2022-01-14T03:57:10.299551Z"
    }
   },
   "outputs": [
    {
     "name": "stdout",
     "output_type": "stream",
     "text": [
      "28260\n",
      "27652\n",
      "131\n"
     ]
    },
    {
     "data": {
      "image/png": "[encoded data removed]",
      "text/plain": [
       "<Figure size 432x288 with 1 Axes>"
      ]
     },
     "metadata": {
      "needs_background": "light"
     },
     "output_type": "display_data"
    }
   ],
   "source": [
    "MIN_N_SALARIES = 25\n",
    "print(university_df.N_SALARIES.sum())\n",
    "university_df = university_df[university_df.N_SALARIES > MIN_N_SALARIES]\n",
    "print(university_df.N_SALARIES.sum())\n",
    "plt.hist(university_df.N_SALARIES, bins = 100);\n",
    "print(len(university_df))"
   ]
  },
  {
   "cell_type": "markdown",
   "id": "bd215783",
   "metadata": {},
   "source": [
    "#### Get difference between median salary and salary for university"
   ]
  },
  {
   "cell_type": "code",
   "execution_count": 7,
   "id": "ea55c6fe",
   "metadata": {
    "ExecuteTime": {
     "end_time": "2022-01-14T03:57:10.866217Z",
     "start_time": "2022-01-14T03:57:10.843096Z"
    }
   },
   "outputs": [
    {
     "data": {
      "text/plain": [
       "52200.15429370554"
      ]
     },
     "execution_count": 7,
     "metadata": {},
     "output_type": "execute_result"
    }
   ],
   "source": [
    "median_university_salary_real = np.median(university_df[\"REAL_MEDIAN_SALARY\"])\n",
    "median_university_salary_real"
   ]
  },
  {
   "cell_type": "code",
   "execution_count": 8,
   "id": "b8e865b1",
   "metadata": {
    "ExecuteTime": {
     "end_time": "2022-01-14T03:57:10.939721Z",
     "start_time": "2022-01-14T03:57:10.918708Z"
    }
   },
   "outputs": [
    {
     "data": {
      "text/plain": [
       "52517.546297006054"
      ]
     },
     "execution_count": 8,
     "metadata": {},
     "output_type": "execute_result"
    }
   ],
   "source": [
    "median_university_salary = np.median(university_df[\"MEDIAN_SALARY\"])\n",
    "median_university_salary"
   ]
  },
  {
   "cell_type": "code",
   "execution_count": 9,
   "id": "720207d0",
   "metadata": {
    "ExecuteTime": {
     "end_time": "2022-01-14T03:57:11.031977Z",
     "start_time": "2022-01-14T03:57:11.011042Z"
    }
   },
   "outputs": [],
   "source": [
    "university_df[\"UNIVERSITY_REAL_SALARY_RELATIVE_MEDIAN\"] = (\n",
    "    university_df[\"REAL_MEDIAN_SALARY\"] - median_university_salary_real\n",
    ")\n",
    "university_df[\"UNIVERSITY_REAL_SALARY_RELATIVE_MEDIAN_UPPER\"] = (\n",
    "    university_df[\"REAL_MEDIAN_SALARY_UPPER\"] - median_university_salary_real\n",
    ")\n",
    "university_df[\"UNIVERSITY_REAL_SALARY_RELATIVE_MEDIAN_LOWER\"] = (\n",
    "    university_df[\"REAL_MEDIAN_SALARY_LOWER\"] - median_university_salary_real\n",
    ")"
   ]
  },
  {
   "cell_type": "code",
   "execution_count": 10,
   "id": "f0cb7cc8",
   "metadata": {
    "ExecuteTime": {
     "end_time": "2022-01-14T03:57:11.110920Z",
     "start_time": "2022-01-14T03:57:11.088866Z"
    }
   },
   "outputs": [],
   "source": [
    "university_df[\"UNIVERSITY_SALARY_RELATIVE_MEDIAN\"] = university_df[\"MEDIAN_SALARY\"] - median_university_salary\n",
    "university_df[\"UNIVERSITY_SALARY_RELATIVE_MEDIAN_UPPER\"] = (\n",
    "    university_df[\"MEDIAN_SALARY_UPPER\"] - median_university_salary\n",
    ")\n",
    "university_df[\"UNIVERSITY_SALARY_RELATIVE_MEDIAN_LOWER\"] = (\n",
    "    university_df[\"MEDIAN_SALARY_LOWER\"] - median_university_salary\n",
    ")"
   ]
  },
  {
   "cell_type": "code",
   "execution_count": 11,
   "id": "fa854d60",
   "metadata": {
    "ExecuteTime": {
     "end_time": "2022-01-14T03:57:11.188974Z",
     "start_time": "2022-01-14T03:57:11.168649Z"
    }
   },
   "outputs": [],
   "source": [
    "nex = 25\n",
    "top_n = 150"
   ]
  },
  {
   "cell_type": "code",
   "execution_count": 12,
   "id": "98e2ca1e",
   "metadata": {
    "ExecuteTime": {
     "end_time": "2022-01-14T03:57:11.624670Z",
     "start_time": "2022-01-14T03:57:11.254625Z"
    }
   },
   "outputs": [],
   "source": [
    "import seaborn as sns"
   ]
  },
  {
   "cell_type": "code",
   "execution_count": 13,
   "id": "5e81a118",
   "metadata": {
    "ExecuteTime": {
     "end_time": "2022-01-14T03:57:11.650532Z",
     "start_time": "2022-01-14T03:57:11.626802Z"
    }
   },
   "outputs": [
    {
     "data": {
      "text/html": [
       "<svg  width=\"550\" height=\"55\"><rect x=\"0\" y=\"0\" width=\"55\" height=\"55\" style=\"fill:#e41a1c;stroke-width:2;stroke:rgb(255,255,255)\"/><rect x=\"55\" y=\"0\" width=\"55\" height=\"55\" style=\"fill:#377eb8;stroke-width:2;stroke:rgb(255,255,255)\"/><rect x=\"110\" y=\"0\" width=\"55\" height=\"55\" style=\"fill:#4daf4a;stroke-width:2;stroke:rgb(255,255,255)\"/><rect x=\"165\" y=\"0\" width=\"55\" height=\"55\" style=\"fill:#984ea3;stroke-width:2;stroke:rgb(255,255,255)\"/><rect x=\"220\" y=\"0\" width=\"55\" height=\"55\" style=\"fill:#ff7f00;stroke-width:2;stroke:rgb(255,255,255)\"/><rect x=\"275\" y=\"0\" width=\"55\" height=\"55\" style=\"fill:#ffff33;stroke-width:2;stroke:rgb(255,255,255)\"/><rect x=\"330\" y=\"0\" width=\"55\" height=\"55\" style=\"fill:#a65628;stroke-width:2;stroke:rgb(255,255,255)\"/><rect x=\"385\" y=\"0\" width=\"55\" height=\"55\" style=\"fill:#f781bf;stroke-width:2;stroke:rgb(255,255,255)\"/><rect x=\"440\" y=\"0\" width=\"55\" height=\"55\" style=\"fill:#999999;stroke-width:2;stroke:rgb(255,255,255)\"/><rect x=\"495\" y=\"0\" width=\"55\" height=\"55\" style=\"fill:#e41a1c;stroke-width:2;stroke:rgb(255,255,255)\"/></svg>"
      ],
      "text/plain": [
       "[(0.8941176470588236, 0.10196078431372549, 0.10980392156862745),\n",
       " (0.21568627450980393, 0.49411764705882355, 0.7215686274509804),\n",
       " (0.30196078431372547, 0.6862745098039216, 0.2901960784313726),\n",
       " (0.596078431372549, 0.3058823529411765, 0.6392156862745098),\n",
       " (1.0, 0.4980392156862745, 0.0),\n",
       " (1.0, 1.0, 0.2),\n",
       " (0.6509803921568628, 0.33725490196078434, 0.1568627450980392),\n",
       " (0.9686274509803922, 0.5058823529411764, 0.7490196078431373),\n",
       " (0.6, 0.6, 0.6),\n",
       " (0.8941176470588236, 0.10196078431372549, 0.10980392156862745)]"
      ]
     },
     "execution_count": 13,
     "metadata": {},
     "output_type": "execute_result"
    }
   ],
   "source": [
    "pal = sns.color_palette('Set1', 10)\n",
    "pal"
   ]
  },
  {
   "cell_type": "code",
   "execution_count": 14,
   "id": "daee2888",
   "metadata": {
    "ExecuteTime": {
     "end_time": "2022-01-14T03:57:12.561914Z",
     "start_time": "2022-01-14T03:57:11.652618Z"
    }
   },
   "outputs": [
    {
     "data": {
      "text/plain": [
       "[Text(0, 0, '-$10k'),\n",
       " Text(0, 0, '-$5k'),\n",
       " Text(0, 0, '$0'),\n",
       " Text(0, 0, '$5k'),\n",
       " Text(0, 0, '$10k')]"
      ]
     },
     "execution_count": 14,
     "metadata": {},
     "output_type": "execute_result"
    },
    {
     "data": {
      "image/png": "[encoded data removed]",
      "text/plain": [
       "<Figure size 360x576 with 2 Axes>"
      ]
     },
     "metadata": {
      "needs_background": "light"
     },
     "output_type": "display_data"
    }
   ],
   "source": [
    "sort_mask = np.argsort(university_df[\"National Rank\"].values)\n",
    "fig, axs = plt.subplots(\n",
    "    nrows=2,\n",
    "    figsize=(5, 8),\n",
    "    gridspec_kw={\"wspace\": 0, \"hspace\": 0, \"height_ratios\": [1, 2]},\n",
    ")\n",
    "\n",
    "ax = axs[0]\n",
    "y = university_df[\"UNIVERSITY_REAL_SALARY_RELATIVE_MEDIAN\"].values[sort_mask][nex:top_n]\n",
    "ax.barh(\n",
    "    np.arange(len(university_df))[nex:top_n],\n",
    "    y,\n",
    "    color=[pal[2] if np.sign(i) > 0 else pal[0] for i in y],\n",
    ")\n",
    "ax.set_xlim([-10000, 10000])\n",
    "ax.set_ylim([nex, top_n])\n",
    "# ax.set_xticks([])\n",
    "[i.set_linewidth(0.0) for i in ax.spines.values()]\n",
    "ax.set_yticks([])\n",
    "ax.set_xticks([])\n",
    "\n",
    "ax = axs[1]\n",
    "y = university_df[\"UNIVERSITY_REAL_SALARY_RELATIVE_MEDIAN\"].values[sort_mask][:nex]\n",
    "ax.barh(\n",
    "    np.arange(len(university_df))[:nex] + 1,\n",
    "    y,\n",
    "    color=[pal[2] if np.sign(i) > 0 else pal[0] for i in y],\n",
    ")\n",
    "[i.set_linewidth(0.0) for i in ax.spines.values()]\n",
    "ax.tick_params(left=False)\n",
    "\n",
    "xerr = np.array((\n",
    "        y - university_df.UNIVERSITY_REAL_SALARY_RELATIVE_MEDIAN_LOWER.values[sort_mask][\n",
    "            :nex\n",
    "        ],\n",
    "        y - university_df.UNIVERSITY_REAL_SALARY_RELATIVE_MEDIAN_UPPER.values[sort_mask][\n",
    "            :nex\n",
    "        ],\n",
    "    ))\n",
    "xerr[1,:] *= -1\n",
    "ax.errorbar(\n",
    "    y,\n",
    "    np.arange(len(university_df))[:nex] + 1,\n",
    "    xerr=xerr,\n",
    "    ls='none',\n",
    "    color = 'k',\n",
    "    lw = 4\n",
    "    \n",
    ")\n",
    "\n",
    "# ax.axvline(0, color=\"k\", ls=\"dashed\")\n",
    "# ax.set_xlabel('University ranking (ranked)')\n",
    "# ax.set_ylabel('Regional salary value relative median ($)')\n",
    "# ax.set_yscale('log')\n",
    "ax.set_xlim([-10000, 10000])\n",
    "ax.set_ylim([0, nex + 1])\n",
    "# ax.set_xticks([])\n",
    "ax.set_yticks(np.arange(1, nex + 1))\n",
    "\n",
    "names = [\n",
    "    \"{} ($n$={})\".format(i, j)\n",
    "    for i, j in zip(\n",
    "        university_df[\"INSTNM\"].values[sort_mask][:nex],\n",
    "        university_df[\"N_SALARIES\"].values[sort_mask][:nex],\n",
    "    )\n",
    "    \n",
    "]\n",
    "ax.set_yticklabels(names)\n",
    "# ax.set_yticklabels(university_df[\"institution\"].values[sort_mask][:20])\n",
    "ax.spines[\"bottom\"].set_linewidth(4)\n",
    "ax.xaxis.set_tick_params(labelsize=14)\n",
    "ax.set_xticks([-10000, -5000, 0, 5000, 10000])\n",
    "ax.set_xticklabels([\"-$10k\", \"-$5k\", \"$0\", \"$5k\", \"$10k\"])\n",
    "#save_fig(FIGURE_DIR / 'institution_real salary')"
   ]
  },
  {
   "cell_type": "code",
   "execution_count": 15,
   "id": "66526894",
   "metadata": {
    "ExecuteTime": {
     "end_time": "2022-01-14T03:57:12.706196Z",
     "start_time": "2022-01-14T03:57:12.563780Z"
    }
   },
   "outputs": [
    {
     "data": {
      "text/plain": [
       "<matplotlib.collections.PathCollection at 0x7fd2b70874f0>"
      ]
     },
     "execution_count": 15,
     "metadata": {},
     "output_type": "execute_result"
    },
    {
     "data": {
      "image/png": "[encoded data removed]",
      "text/plain": [
       "<Figure size 432x288 with 1 Axes>"
      ]
     },
     "metadata": {
      "needs_background": "light"
     },
     "output_type": "display_data"
    }
   ],
   "source": [
    "plt.scatter(university_df['National Rank'], university_df['RPP_all'])"
   ]
  },
  {
   "cell_type": "code",
   "execution_count": 16,
   "id": "64c72963",
   "metadata": {
    "ExecuteTime": {
     "end_time": "2022-01-14T03:57:13.043539Z",
     "start_time": "2022-01-14T03:57:12.707717Z"
    }
   },
   "outputs": [
    {
     "data": {
      "text/plain": [
       "[Text(0, 0, '60'),\n",
       " Text(0, 0, '80'),\n",
       " Text(0, 0, '100'),\n",
       " Text(0, 0, '120'),\n",
       " Text(0, 0, '140')]"
      ]
     },
     "execution_count": 16,
     "metadata": {},
     "output_type": "execute_result"
    },
    {
     "data": {
      "image/png": "[encoded data removed]",
      "text/plain": [
       "<Figure size 144x576 with 2 Axes>"
      ]
     },
     "metadata": {
      "needs_background": "light"
     },
     "output_type": "display_data"
    }
   ],
   "source": [
    "sort_mask = np.argsort(university_df[\"National Rank\"].values)\n",
    "fig, axs = plt.subplots(\n",
    "    nrows=2,\n",
    "    figsize=(2, 8),\n",
    "    gridspec_kw={\"wspace\": 0, \"hspace\": 0, \"height_ratios\": [1, 2]},\n",
    ")\n",
    "\n",
    "ax = axs[0]\n",
    "y = university_df[\"RPP_all\"].values[sort_mask][nex:top_n] - 100\n",
    "ax.barh(\n",
    "    np.arange(len(university_df))[nex:top_n],\n",
    "    y,\n",
    "    color=[pal[0] if np.sign(i) > 0 else pal[2] for i in y],\n",
    ")\n",
    "ax.set_ylim([nex, top_n])\n",
    "ax.set_xlim([-40, 40])\n",
    "# ax.set_xticks([])\n",
    "[i.set_linewidth(0.0) for i in ax.spines.values()]\n",
    "ax.set_yticks([])\n",
    "ax.set_xticks([])\n",
    "\n",
    "ax = axs[1]\n",
    "y = university_df[\"RPP_all\"].values[sort_mask][:nex] - 100\n",
    "ax.barh(\n",
    "    np.arange(len(university_df))[:nex] + 1,\n",
    "    y,\n",
    "    color=[pal[0] if np.sign(i) > 0 else pal[2] for i in y],\n",
    ")\n",
    "[i.set_linewidth(0.0) for i in ax.spines.values()]\n",
    "ax.tick_params(left=False)\n",
    "\n",
    "\n",
    "# ax.axvline(0, color=\"k\", ls=\"dashed\")\n",
    "# ax.set_xlabel('University ranking (ranked)')\n",
    "# ax.set_ylabel('Regional salary value relative median ($)')\n",
    "# ax.set_yscale('log')\n",
    "ax.set_xlim([-40, 40])\n",
    "ax.set_ylim([0, nex + 1])\n",
    "# ax.set_xticks([])\n",
    "\n",
    "\n",
    "if False:\n",
    "    ax.set_yticks(np.arange(1, nex + 1))\n",
    "    names = [\n",
    "        \"{} ($n$={})\".format(i, j)\n",
    "        for i, j in zip(\n",
    "            university_df[\"INSTNM\"].values[sort_mask][:nex],\n",
    "            university_df[\"N_SALARIES\"].values[sort_mask][:nex],\n",
    "        )\n",
    "\n",
    "    ]\n",
    "    ax.set_yticklabels(names)\n",
    "else:\n",
    "    ax.set_yticks([])\n",
    "# ax.set_yticklabels(university_df[\"institution\"].values[sort_mask][:20])\n",
    "ax.spines[\"bottom\"].set_linewidth(4)\n",
    "ax.xaxis.set_tick_params(labelsize=14)\n",
    "ax.set_xticks([-40, -20, 0, 20, 40])\n",
    "ax.set_xticklabels([\"60\", \"80\", \"100\", \"120\", \"140\"])\n",
    "#save_fig(FIGURE_DIR / 'institution_real salary')"
   ]
  },
  {
   "cell_type": "code",
   "execution_count": 17,
   "id": "cf327f8a",
   "metadata": {
    "ExecuteTime": {
     "end_time": "2022-01-14T03:57:13.387171Z",
     "start_time": "2022-01-14T03:57:13.045071Z"
    }
   },
   "outputs": [
    {
     "data": {
      "text/plain": [
       "[Text(0, 0, '-$10k'),\n",
       " Text(0, 0, '-$5k'),\n",
       " Text(0, 0, '$0'),\n",
       " Text(0, 0, '$5k'),\n",
       " Text(0, 0, '$10k')]"
      ]
     },
     "execution_count": 17,
     "metadata": {},
     "output_type": "execute_result"
    },
    {
     "data": {
      "image/png": "[encoded data removed]",
      "text/plain": [
       "<Figure size 144x576 with 2 Axes>"
      ]
     },
     "metadata": {
      "needs_background": "light"
     },
     "output_type": "display_data"
    }
   ],
   "source": [
    "sort_mask = np.argsort(university_df[\"National Rank\"].values)\n",
    "fig, axs = plt.subplots(\n",
    "    nrows=2,\n",
    "    figsize=(2, 8),\n",
    "    gridspec_kw={\"wspace\": 0, \"hspace\": 0, \"height_ratios\": [1, 2]},\n",
    ")\n",
    "\n",
    "ax = axs[0]\n",
    "y = university_df[\"UNIVERSITY_REAL_SALARY_RELATIVE_MEDIAN\"].values[sort_mask][nex:top_n]\n",
    "ax.barh(\n",
    "    np.arange(len(university_df))[nex:top_n],\n",
    "    y,\n",
    "    color=[pal[2] if np.sign(i) > 0 else pal[0] for i in y],\n",
    ")\n",
    "ax.set_xlim([-10000, 10000])\n",
    "ax.set_ylim([nex, top_n])\n",
    "# ax.set_xticks([])\n",
    "[i.set_linewidth(0.0) for i in ax.spines.values()]\n",
    "ax.set_yticks([])\n",
    "ax.set_xticks([])\n",
    "\n",
    "ax = axs[1]\n",
    "y = university_df[\"UNIVERSITY_REAL_SALARY_RELATIVE_MEDIAN\"].values[sort_mask][:nex]\n",
    "ax.barh(\n",
    "    np.arange(len(university_df))[:nex] + 1,\n",
    "    y,\n",
    "    color=[pal[2] if np.sign(i) > 0 else pal[0] for i in y],\n",
    ")\n",
    "[i.set_linewidth(0.0) for i in ax.spines.values()]\n",
    "ax.tick_params(left=False)\n",
    "\n",
    "xerr = np.array((\n",
    "        y - university_df.UNIVERSITY_REAL_SALARY_RELATIVE_MEDIAN_LOWER.values[sort_mask][\n",
    "            :nex\n",
    "        ],\n",
    "        y - university_df.UNIVERSITY_REAL_SALARY_RELATIVE_MEDIAN_UPPER.values[sort_mask][\n",
    "            :nex\n",
    "        ],\n",
    "    ))\n",
    "xerr[1,:] *= -1\n",
    "ax.errorbar(\n",
    "    y,\n",
    "    np.arange(len(university_df))[:nex] + 1,\n",
    "    xerr=xerr,\n",
    "    ls='none',\n",
    "    color = 'k',\n",
    "    lw = 4\n",
    "    \n",
    ")\n",
    "\n",
    "# ax.axvline(0, color=\"k\", ls=\"dashed\")\n",
    "# ax.set_xlabel('University ranking (ranked)')\n",
    "# ax.set_ylabel('Regional salary value relative median ($)')\n",
    "# ax.set_yscale('log')\n",
    "ax.set_xlim([-10000, 10000])\n",
    "ax.set_ylim([0, nex + 1])\n",
    "# ax.set_xticks([])\n",
    "if False:\n",
    "    ax.set_yticks(np.arange(1, nex + 1))\n",
    "    names = [\n",
    "        \"{} ($n$={})\".format(i, j)\n",
    "        for i, j in zip(\n",
    "            university_df[\"INSTNM\"].values[sort_mask][:nex],\n",
    "            university_df[\"N_SALARIES\"].values[sort_mask][:nex],\n",
    "        )\n",
    "\n",
    "    ]\n",
    "    ax.set_yticklabels(names)\n",
    "else:\n",
    "    ax.set_yticks([])\n",
    "# ax.set_yticklabels(university_df[\"institution\"].values[sort_mask][:20])\n",
    "ax.spines[\"bottom\"].set_linewidth(4)\n",
    "ax.xaxis.set_tick_params(labelsize=14)\n",
    "ax.set_xticks([-10000, -5000, 0, 5000, 10000])\n",
    "ax.set_xticklabels([\"-$10k\", \"-$5k\", \"$0\", \"$5k\", \"$10k\"])\n",
    "#save_fig(FIGURE_DIR / 'institution_real salary')"
   ]
  },
  {
   "cell_type": "code",
   "execution_count": null,
   "id": "0849f977",
   "metadata": {},
   "outputs": [],
   "source": []
  },
  {
   "cell_type": "code",
   "execution_count": null,
   "id": "00c3c47a",
   "metadata": {},
   "outputs": [],
   "source": []
  }
 ],
 "metadata": {
  "kernelspec": {
   "display_name": "postdoc",
   "language": "python",
   "name": "postdoc"
  },
  "language_info": {
   "codemirror_mode": {
    "name": "ipython",
    "version": 3
   },
   "file_extension": ".py",
   "mimetype": "text/x-python",
   "name": "python",
   "nbconvert_exporter": "python",
   "pygments_lexer": "ipython3",
   "version": "3.8.12"
  }
 },
 "nbformat": 4,
 "nbformat_minor": 5
}
