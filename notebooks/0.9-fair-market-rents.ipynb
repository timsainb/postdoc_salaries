{
 "cells": [
  {
   "cell_type": "markdown",
   "id": "524c5334",
   "metadata": {},
   "source": [
    "\n",
    "### dataset location \n",
    "https://www.huduser.gov/portal/datasets/fmr.html#null"
   ]
  },
  {
   "cell_type": "code",
   "execution_count": 1,
   "id": "537f4dc3",
   "metadata": {
    "ExecuteTime": {
     "end_time": "2022-01-13T02:27:27.228499Z",
     "start_time": "2022-01-13T02:27:27.206572Z"
    }
   },
   "outputs": [],
   "source": [
    "%load_ext autoreload\n",
    "%autoreload 2"
   ]
  },
  {
   "cell_type": "code",
   "execution_count": 2,
   "id": "8fa8f0b5",
   "metadata": {
    "ExecuteTime": {
     "end_time": "2022-01-13T02:27:28.255906Z",
     "start_time": "2022-01-13T02:27:27.505512Z"
    }
   },
   "outputs": [
    {
     "name": "stderr",
     "output_type": "stream",
     "text": [
      "<ipython-input-2-37777429a894>:5: TqdmExperimentalWarning: Using `tqdm.autonotebook.tqdm` in notebook mode. Use `tqdm.tqdm` instead to force console mode (e.g. in jupyter console)\n",
      "  from tqdm.autonotebook import tqdm\n"
     ]
    }
   ],
   "source": [
    "import numpy as np\n",
    "import pandas as pd\n",
    "import matplotlib.pyplot as plt\n",
    "%matplotlib inline\n",
    "from tqdm.autonotebook import tqdm\n",
    "from postdocsalary.paths import DATA_DIR, ensure_dir\n",
    "import urllib.request"
   ]
  },
  {
   "cell_type": "code",
   "execution_count": 3,
   "id": "cbbb55f9",
   "metadata": {
    "ExecuteTime": {
     "end_time": "2022-01-13T02:27:28.274054Z",
     "start_time": "2022-01-13T02:27:28.258104Z"
    }
   },
   "outputs": [],
   "source": [
    "file = DATA_DIR / 'rent' / \"FMR_2Bed_1983_2022_2.csv\""
   ]
  },
  {
   "cell_type": "code",
   "execution_count": 4,
   "id": "5059d587",
   "metadata": {
    "ExecuteTime": {
     "end_time": "2022-01-13T02:27:28.965990Z",
     "start_time": "2022-01-13T02:27:28.276240Z"
    }
   },
   "outputs": [],
   "source": [
    "home_prices = pd.read_csv(file,encoding='latin1')"
   ]
  },
  {
   "cell_type": "code",
   "execution_count": 5,
   "id": "efe96073",
   "metadata": {
    "ExecuteTime": {
     "end_time": "2022-01-13T02:27:28.984902Z",
     "start_time": "2022-01-13T02:27:28.968119Z"
    }
   },
   "outputs": [],
   "source": [
    "regions = [\n",
    "    \"Boston-Cambridge-Newton, MA-NH MSA\",\n",
    "    \"Chicago-Naperville-Elgin, IL-IN-WI MSA\",\n",
    "    \"New York, NY HUD Metro FMR Area\",\n",
    "    \"Pittsburgh, PA MSA\",\n",
    "    \"San Diego-Chula Vista-Carlsbad, CA MSA\",\n",
    "    \"San Francisco-Oakland-Berkeley, CA MSA\",\n",
    "    \"Baltimore-Columbia-Towson, MD MSA\",\n",
    "    \"Portland-Vancouver-Hillsboro, OR-WA MSA\",\n",
    "    \"Houston-The Woodlands-Sugar Land, TX HUD Metro FMR Area\",\n",
    "    \"Ann Arbor, MI MSA\",\n",
    "    \"Durham-Chapel Hill, NC HUD Metro FMR Area\",\n",
    "\n",
    "]"
   ]
  },
  {
   "cell_type": "code",
   "execution_count": 6,
   "id": "7db231d4",
   "metadata": {
    "ExecuteTime": {
     "end_time": "2022-01-13T02:27:29.000661Z",
     "start_time": "2022-01-13T02:27:28.986566Z"
    }
   },
   "outputs": [],
   "source": [
    "regions = [\n",
    "    \"Boston city\",\n",
    "    \"New York County\",\n",
    "    \"Cook County\",\n",
    "    \"Allegheny County\",\n",
    "    \"San Diego County\",\n",
    "    \"San Francisco County\",\n",
    "    \"Baltimore County\",\n",
    "    \"Multnomah County\",\n",
    "    \"Harris County\",\n",
    "    \"Washtenaw County\",\n",
    "    \"Durham County\"\n",
    "]"
   ]
  },
  {
   "cell_type": "code",
   "execution_count": 224,
   "id": "2ff0287b",
   "metadata": {
    "ExecuteTime": {
     "end_time": "2021-12-07T06:36:42.901918Z",
     "start_time": "2021-12-07T06:36:42.877094Z"
    }
   },
   "outputs": [],
   "source": [
    "cba_subs = [\n",
    "    \"METRO41740M41740\",\n",
    "    \"METRO41860MM7360\",\n",
    "    \"METRO16980M16980\",\n",
    "    \"METRO14460MM1120\",\n",
    "    \"METRO35620MM5600\",\n",
    "    \"METRO38300M38300\",\n",
    "    \"METRO20500M20500\",\n",
    "    \"METRO38900M38900\",\n",
    "    \"METRO11460M11460\",\n",
    "    \"METRO38900M38900\",\n",
    "    \"METRO26420M26420\",\n",
    "    \"METRO12580M12580\"\n",
    "]"
   ]
  },
  {
   "cell_type": "code",
   "execution_count": 225,
   "id": "67d7893a",
   "metadata": {
    "ExecuteTime": {
     "end_time": "2021-12-07T06:36:43.078157Z",
     "start_time": "2021-12-07T06:36:43.051150Z"
    }
   },
   "outputs": [],
   "source": [
    "home_prices_regions = home_prices[home_prices.name.isin(regions)]\n",
    "home_prices_regions = home_prices_regions[home_prices_regions.cbsasub.isin(cba_subs)]"
   ]
  },
  {
   "cell_type": "code",
   "execution_count": 226,
   "id": "80011338",
   "metadata": {
    "ExecuteTime": {
     "end_time": "2021-12-07T06:36:43.292372Z",
     "start_time": "2021-12-07T06:36:43.235215Z"
    }
   },
   "outputs": [
    {
     "data": {
      "text/html": [
       "<div>\n",
       "<style scoped>\n",
       "    .dataframe tbody tr th:only-of-type {\n",
       "        vertical-align: middle;\n",
       "    }\n",
       "\n",
       "    .dataframe tbody tr th {\n",
       "        vertical-align: top;\n",
       "    }\n",
       "\n",
       "    .dataframe thead th {\n",
       "        text-align: right;\n",
       "    }\n",
       "</style>\n",
       "<table border=\"1\" class=\"dataframe\">\n",
       "  <thead>\n",
       "    <tr style=\"text-align: right;\">\n",
       "      <th></th>\n",
       "      <th>fips2010</th>\n",
       "      <th>fips2000</th>\n",
       "      <th>areaname22</th>\n",
       "      <th>name</th>\n",
       "      <th>msa22</th>\n",
       "      <th>fmr22_2</th>\n",
       "      <th>fmr22</th>\n",
       "      <th>msa21</th>\n",
       "      <th>fmr21_2</th>\n",
       "      <th>fmr21</th>\n",
       "      <th>...</th>\n",
       "      <th>fmr83</th>\n",
       "      <th>cbsasub</th>\n",
       "      <th>areaname</th>\n",
       "      <th>state</th>\n",
       "      <th>cousub</th>\n",
       "      <th>county</th>\n",
       "      <th>pop2010</th>\n",
       "      <th>census_region</th>\n",
       "      <th>pop2017</th>\n",
       "      <th>pop2000</th>\n",
       "    </tr>\n",
       "  </thead>\n",
       "  <tbody>\n",
       "    <tr>\n",
       "      <th>222</th>\n",
       "      <td>607399999</td>\n",
       "      <td>6.074000e+08</td>\n",
       "      <td>San Diego-Carlsbad, CA MSA</td>\n",
       "      <td>San Diego County</td>\n",
       "      <td>METRO41740M41740</td>\n",
       "      <td>1979</td>\n",
       "      <td>40</td>\n",
       "      <td>METRO41740M41740</td>\n",
       "      <td>2124</td>\n",
       "      <td>40</td>\n",
       "      <td>...</td>\n",
       "      <td>45.0</td>\n",
       "      <td>METRO41740M41740</td>\n",
       "      <td>San Diego-Carlsbad, CA MSA</td>\n",
       "      <td>6.0</td>\n",
       "      <td>99999.0</td>\n",
       "      <td>73.0</td>\n",
       "      <td>3095313</td>\n",
       "      <td>4.0</td>\n",
       "      <td>3283665</td>\n",
       "      <td>2813833.0</td>\n",
       "    </tr>\n",
       "    <tr>\n",
       "      <th>223</th>\n",
       "      <td>607599999</td>\n",
       "      <td>6.076000e+08</td>\n",
       "      <td>San Francisco, CA HUD Metro FMR Area</td>\n",
       "      <td>San Francisco County</td>\n",
       "      <td>METRO41860MM7360</td>\n",
       "      <td>3198</td>\n",
       "      <td>40</td>\n",
       "      <td>METRO41860MM7360</td>\n",
       "      <td>3553</td>\n",
       "      <td>40</td>\n",
       "      <td>...</td>\n",
       "      <td>45.0</td>\n",
       "      <td>METRO41860MM7360</td>\n",
       "      <td>San Francisco, CA HUD Metro FMR Area</td>\n",
       "      <td>6.0</td>\n",
       "      <td>99999.0</td>\n",
       "      <td>75.0</td>\n",
       "      <td>805235</td>\n",
       "      <td>4.0</td>\n",
       "      <td>864265</td>\n",
       "      <td>776733.0</td>\n",
       "    </tr>\n",
       "    <tr>\n",
       "      <th>771</th>\n",
       "      <td>1703199999</td>\n",
       "      <td>1.703200e+09</td>\n",
       "      <td>Chicago-Joliet-Naperville, IL HUD Metro FMR Area</td>\n",
       "      <td>Cook County</td>\n",
       "      <td>METRO16980M16980</td>\n",
       "      <td>1340</td>\n",
       "      <td>40</td>\n",
       "      <td>METRO16980M16980</td>\n",
       "      <td>1299</td>\n",
       "      <td>40</td>\n",
       "      <td>...</td>\n",
       "      <td>45.0</td>\n",
       "      <td>METRO16980M16980</td>\n",
       "      <td>Chicago-Joliet-Naperville, IL HUD Metro FMR Area</td>\n",
       "      <td>17.0</td>\n",
       "      <td>99999.0</td>\n",
       "      <td>31.0</td>\n",
       "      <td>5194675</td>\n",
       "      <td>2.0</td>\n",
       "      <td>5238540</td>\n",
       "      <td>5376741.0</td>\n",
       "    </tr>\n",
       "    <tr>\n",
       "      <th>1872</th>\n",
       "      <td>2400599999</td>\n",
       "      <td>2.400600e+09</td>\n",
       "      <td>Baltimore-Columbia-Towson, MD MSA</td>\n",
       "      <td>Baltimore County</td>\n",
       "      <td>METRO12580M12580</td>\n",
       "      <td>1395</td>\n",
       "      <td>40</td>\n",
       "      <td>METRO12580M12580</td>\n",
       "      <td>1384</td>\n",
       "      <td>40</td>\n",
       "      <td>...</td>\n",
       "      <td>45.0</td>\n",
       "      <td>METRO12580M12580</td>\n",
       "      <td>Baltimore-Columbia-Towson, MD MSA</td>\n",
       "      <td>24.0</td>\n",
       "      <td>99999.0</td>\n",
       "      <td>5.0</td>\n",
       "      <td>805029</td>\n",
       "      <td>3.0</td>\n",
       "      <td>828635</td>\n",
       "      <td>754292.0</td>\n",
       "    </tr>\n",
       "    <tr>\n",
       "      <th>2181</th>\n",
       "      <td>2502507000</td>\n",
       "      <td>2.502507e+09</td>\n",
       "      <td>Boston-Cambridge-Quincy, MA-NH HUD Metro FMR Area</td>\n",
       "      <td>Boston city</td>\n",
       "      <td>METRO14460MM1120</td>\n",
       "      <td>2205</td>\n",
       "      <td>40</td>\n",
       "      <td>METRO14460MM1120</td>\n",
       "      <td>2336</td>\n",
       "      <td>40</td>\n",
       "      <td>...</td>\n",
       "      <td>45.0</td>\n",
       "      <td>METRO14460MM1120</td>\n",
       "      <td>Boston-Cambridge-Quincy, MA-NH HUD Metro FMR Area</td>\n",
       "      <td>25.0</td>\n",
       "      <td>7000.0</td>\n",
       "      <td>25.0</td>\n",
       "      <td>617594</td>\n",
       "      <td>1.0</td>\n",
       "      <td>669160</td>\n",
       "      <td>589141.0</td>\n",
       "    </tr>\n",
       "    <tr>\n",
       "      <th>2325</th>\n",
       "      <td>2616199999</td>\n",
       "      <td>2.616200e+09</td>\n",
       "      <td>Ann Arbor, MI MSA</td>\n",
       "      <td>Washtenaw County</td>\n",
       "      <td>METRO11460M11460</td>\n",
       "      <td>1262</td>\n",
       "      <td>40</td>\n",
       "      <td>METRO11460M11460</td>\n",
       "      <td>1264</td>\n",
       "      <td>40</td>\n",
       "      <td>...</td>\n",
       "      <td>45.0</td>\n",
       "      <td>METRO11460M11460</td>\n",
       "      <td>Ann Arbor, MI MSA</td>\n",
       "      <td>26.0</td>\n",
       "      <td>99999.0</td>\n",
       "      <td>161.0</td>\n",
       "      <td>344791</td>\n",
       "      <td>2.0</td>\n",
       "      <td>361510</td>\n",
       "      <td>322895.0</td>\n",
       "    </tr>\n",
       "    <tr>\n",
       "      <th>3122</th>\n",
       "      <td>3606199999</td>\n",
       "      <td>3.606200e+09</td>\n",
       "      <td>New York, NY HUD Metro FMR Area</td>\n",
       "      <td>New York County</td>\n",
       "      <td>METRO35620MM5600</td>\n",
       "      <td>2026</td>\n",
       "      <td>40</td>\n",
       "      <td>METRO35620MM5600</td>\n",
       "      <td>2053</td>\n",
       "      <td>40</td>\n",
       "      <td>...</td>\n",
       "      <td>45.0</td>\n",
       "      <td>METRO35620MM5600</td>\n",
       "      <td>New York, NY HUD Metro FMR Area</td>\n",
       "      <td>36.0</td>\n",
       "      <td>99999.0</td>\n",
       "      <td>61.0</td>\n",
       "      <td>1585873</td>\n",
       "      <td>1.0</td>\n",
       "      <td>1653875</td>\n",
       "      <td>1537195.0</td>\n",
       "    </tr>\n",
       "    <tr>\n",
       "      <th>3185</th>\n",
       "      <td>3706399999</td>\n",
       "      <td>3.706400e+09</td>\n",
       "      <td>Durham-Chapel Hill, NC HUD Metro FMR Area</td>\n",
       "      <td>Durham County</td>\n",
       "      <td>METRO20500M20500</td>\n",
       "      <td>1199</td>\n",
       "      <td>40</td>\n",
       "      <td>METRO20500M20500</td>\n",
       "      <td>1134</td>\n",
       "      <td>40</td>\n",
       "      <td>...</td>\n",
       "      <td>45.0</td>\n",
       "      <td>METRO20500M20500</td>\n",
       "      <td>Durham-Chapel Hill, NC HUD Metro FMR Area</td>\n",
       "      <td>37.0</td>\n",
       "      <td>99999.0</td>\n",
       "      <td>63.0</td>\n",
       "      <td>267587</td>\n",
       "      <td>3.0</td>\n",
       "      <td>300865</td>\n",
       "      <td>223314.0</td>\n",
       "    </tr>\n",
       "    <tr>\n",
       "      <th>3497</th>\n",
       "      <td>4105199999</td>\n",
       "      <td>4.105200e+09</td>\n",
       "      <td>Portland-Vancouver-Hillsboro, OR-WA MSA</td>\n",
       "      <td>Multnomah County</td>\n",
       "      <td>METRO38900M38900</td>\n",
       "      <td>1467</td>\n",
       "      <td>40</td>\n",
       "      <td>METRO38900M38900</td>\n",
       "      <td>1536</td>\n",
       "      <td>40</td>\n",
       "      <td>...</td>\n",
       "      <td>45.0</td>\n",
       "      <td>METRO38900M38900</td>\n",
       "      <td>Portland-Vancouver-Hillsboro, OR-WA MSA</td>\n",
       "      <td>41.0</td>\n",
       "      <td>99999.0</td>\n",
       "      <td>51.0</td>\n",
       "      <td>735334</td>\n",
       "      <td>4.0</td>\n",
       "      <td>788460</td>\n",
       "      <td>660486.0</td>\n",
       "    </tr>\n",
       "    <tr>\n",
       "      <th>3509</th>\n",
       "      <td>4200399999</td>\n",
       "      <td>4.200400e+09</td>\n",
       "      <td>Pittsburgh, PA HUD Metro FMR Area</td>\n",
       "      <td>Allegheny County</td>\n",
       "      <td>METRO38300M38300</td>\n",
       "      <td>981</td>\n",
       "      <td>40</td>\n",
       "      <td>METRO38300M38300</td>\n",
       "      <td>940</td>\n",
       "      <td>40</td>\n",
       "      <td>...</td>\n",
       "      <td>45.0</td>\n",
       "      <td>METRO38300M38300</td>\n",
       "      <td>Pittsburgh, PA HUD Metro FMR Area</td>\n",
       "      <td>42.0</td>\n",
       "      <td>99999.0</td>\n",
       "      <td>3.0</td>\n",
       "      <td>1223348</td>\n",
       "      <td>1.0</td>\n",
       "      <td>1229605</td>\n",
       "      <td>1281666.0</td>\n",
       "    </tr>\n",
       "    <tr>\n",
       "      <th>3921</th>\n",
       "      <td>4820199999</td>\n",
       "      <td>4.820200e+09</td>\n",
       "      <td>Houston-The Woodlands-Sugar Land, TX HUD Metro...</td>\n",
       "      <td>Harris County</td>\n",
       "      <td>METRO26420M26420</td>\n",
       "      <td>1208</td>\n",
       "      <td>40</td>\n",
       "      <td>METRO26420M26420</td>\n",
       "      <td>1176</td>\n",
       "      <td>40</td>\n",
       "      <td>...</td>\n",
       "      <td>45.0</td>\n",
       "      <td>METRO26420M26420</td>\n",
       "      <td>Houston-The Woodlands-Sugar Land, TX HUD Metro...</td>\n",
       "      <td>48.0</td>\n",
       "      <td>99999.0</td>\n",
       "      <td>201.0</td>\n",
       "      <td>4092459</td>\n",
       "      <td>3.0</td>\n",
       "      <td>4525520</td>\n",
       "      <td>3400578.0</td>\n",
       "    </tr>\n",
       "  </tbody>\n",
       "</table>\n",
       "<p>11 rows × 130 columns</p>\n",
       "</div>"
      ],
      "text/plain": [
       "        fips2010      fips2000  \\\n",
       "222    607399999  6.074000e+08   \n",
       "223    607599999  6.076000e+08   \n",
       "771   1703199999  1.703200e+09   \n",
       "1872  2400599999  2.400600e+09   \n",
       "2181  2502507000  2.502507e+09   \n",
       "2325  2616199999  2.616200e+09   \n",
       "3122  3606199999  3.606200e+09   \n",
       "3185  3706399999  3.706400e+09   \n",
       "3497  4105199999  4.105200e+09   \n",
       "3509  4200399999  4.200400e+09   \n",
       "3921  4820199999  4.820200e+09   \n",
       "\n",
       "                                             areaname22                  name  \\\n",
       "222                          San Diego-Carlsbad, CA MSA      San Diego County   \n",
       "223                San Francisco, CA HUD Metro FMR Area  San Francisco County   \n",
       "771    Chicago-Joliet-Naperville, IL HUD Metro FMR Area           Cook County   \n",
       "1872                  Baltimore-Columbia-Towson, MD MSA      Baltimore County   \n",
       "2181  Boston-Cambridge-Quincy, MA-NH HUD Metro FMR Area           Boston city   \n",
       "2325                                  Ann Arbor, MI MSA      Washtenaw County   \n",
       "3122                    New York, NY HUD Metro FMR Area       New York County   \n",
       "3185          Durham-Chapel Hill, NC HUD Metro FMR Area         Durham County   \n",
       "3497            Portland-Vancouver-Hillsboro, OR-WA MSA      Multnomah County   \n",
       "3509                  Pittsburgh, PA HUD Metro FMR Area      Allegheny County   \n",
       "3921  Houston-The Woodlands-Sugar Land, TX HUD Metro...         Harris County   \n",
       "\n",
       "                 msa22  fmr22_2  fmr22             msa21  fmr21_2  fmr21  ...  \\\n",
       "222   METRO41740M41740     1979     40  METRO41740M41740     2124     40  ...   \n",
       "223   METRO41860MM7360     3198     40  METRO41860MM7360     3553     40  ...   \n",
       "771   METRO16980M16980     1340     40  METRO16980M16980     1299     40  ...   \n",
       "1872  METRO12580M12580     1395     40  METRO12580M12580     1384     40  ...   \n",
       "2181  METRO14460MM1120     2205     40  METRO14460MM1120     2336     40  ...   \n",
       "2325  METRO11460M11460     1262     40  METRO11460M11460     1264     40  ...   \n",
       "3122  METRO35620MM5600     2026     40  METRO35620MM5600     2053     40  ...   \n",
       "3185  METRO20500M20500     1199     40  METRO20500M20500     1134     40  ...   \n",
       "3497  METRO38900M38900     1467     40  METRO38900M38900     1536     40  ...   \n",
       "3509  METRO38300M38300      981     40  METRO38300M38300      940     40  ...   \n",
       "3921  METRO26420M26420     1208     40  METRO26420M26420     1176     40  ...   \n",
       "\n",
       "     fmr83           cbsasub  \\\n",
       "222   45.0  METRO41740M41740   \n",
       "223   45.0  METRO41860MM7360   \n",
       "771   45.0  METRO16980M16980   \n",
       "1872  45.0  METRO12580M12580   \n",
       "2181  45.0  METRO14460MM1120   \n",
       "2325  45.0  METRO11460M11460   \n",
       "3122  45.0  METRO35620MM5600   \n",
       "3185  45.0  METRO20500M20500   \n",
       "3497  45.0  METRO38900M38900   \n",
       "3509  45.0  METRO38300M38300   \n",
       "3921  45.0  METRO26420M26420   \n",
       "\n",
       "                                               areaname state   cousub  \\\n",
       "222                          San Diego-Carlsbad, CA MSA   6.0  99999.0   \n",
       "223                San Francisco, CA HUD Metro FMR Area   6.0  99999.0   \n",
       "771    Chicago-Joliet-Naperville, IL HUD Metro FMR Area  17.0  99999.0   \n",
       "1872                  Baltimore-Columbia-Towson, MD MSA  24.0  99999.0   \n",
       "2181  Boston-Cambridge-Quincy, MA-NH HUD Metro FMR Area  25.0   7000.0   \n",
       "2325                                  Ann Arbor, MI MSA  26.0  99999.0   \n",
       "3122                    New York, NY HUD Metro FMR Area  36.0  99999.0   \n",
       "3185          Durham-Chapel Hill, NC HUD Metro FMR Area  37.0  99999.0   \n",
       "3497            Portland-Vancouver-Hillsboro, OR-WA MSA  41.0  99999.0   \n",
       "3509                  Pittsburgh, PA HUD Metro FMR Area  42.0  99999.0   \n",
       "3921  Houston-The Woodlands-Sugar Land, TX HUD Metro...  48.0  99999.0   \n",
       "\n",
       "      county  pop2010  census_region  pop2017    pop2000  \n",
       "222     73.0  3095313            4.0  3283665  2813833.0  \n",
       "223     75.0   805235            4.0   864265   776733.0  \n",
       "771     31.0  5194675            2.0  5238540  5376741.0  \n",
       "1872     5.0   805029            3.0   828635   754292.0  \n",
       "2181    25.0   617594            1.0   669160   589141.0  \n",
       "2325   161.0   344791            2.0   361510   322895.0  \n",
       "3122    61.0  1585873            1.0  1653875  1537195.0  \n",
       "3185    63.0   267587            3.0   300865   223314.0  \n",
       "3497    51.0   735334            4.0   788460   660486.0  \n",
       "3509     3.0  1223348            1.0  1229605  1281666.0  \n",
       "3921   201.0  4092459            3.0  4525520  3400578.0  \n",
       "\n",
       "[11 rows x 130 columns]"
      ]
     },
     "execution_count": 226,
     "metadata": {},
     "output_type": "execute_result"
    }
   ],
   "source": [
    "home_prices_regions"
   ]
  },
  {
   "cell_type": "code",
   "execution_count": 227,
   "id": "a5136aef",
   "metadata": {
    "ExecuteTime": {
     "end_time": "2021-12-07T06:36:45.176583Z",
     "start_time": "2021-12-07T06:36:44.726184Z"
    }
   },
   "outputs": [
    {
     "name": "stderr",
     "output_type": "stream",
     "text": [
      "<ipython-input-227-077fa28666ef>:3: SettingWithCopyWarning: \n",
      "A value is trying to be set on a copy of a slice from a DataFrame.\n",
      "Try using .loc[row_indexer,col_indexer] = value instead\n",
      "\n",
      "See the caveats in the documentation: https://pandas.pydata.org/pandas-docs/stable/user_guide/indexing.html#returning-a-view-versus-a-copy\n",
      "  home_prices_all['Year'] = [get_year(i) for i in home_prices_all.variable.values]\n"
     ]
    },
    {
     "data": {
      "text/html": [
       "<div>\n",
       "<style scoped>\n",
       "    .dataframe tbody tr th:only-of-type {\n",
       "        vertical-align: middle;\n",
       "    }\n",
       "\n",
       "    .dataframe tbody tr th {\n",
       "        vertical-align: top;\n",
       "    }\n",
       "\n",
       "    .dataframe thead th {\n",
       "        text-align: right;\n",
       "    }\n",
       "</style>\n",
       "<table border=\"1\" class=\"dataframe\">\n",
       "  <thead>\n",
       "    <tr style=\"text-align: right;\">\n",
       "      <th></th>\n",
       "      <th>areaname22</th>\n",
       "      <th>variable</th>\n",
       "      <th>value</th>\n",
       "      <th>Year</th>\n",
       "    </tr>\n",
       "  </thead>\n",
       "  <tbody>\n",
       "    <tr>\n",
       "      <th>4765</th>\n",
       "      <td>Montgomery, AL MSA</td>\n",
       "      <td>fmr22_2</td>\n",
       "      <td>914</td>\n",
       "      <td>2022</td>\n",
       "    </tr>\n",
       "    <tr>\n",
       "      <th>4766</th>\n",
       "      <td>Daphne-Fairhope-Foley, AL MSA</td>\n",
       "      <td>fmr22_2</td>\n",
       "      <td>1017</td>\n",
       "      <td>2022</td>\n",
       "    </tr>\n",
       "    <tr>\n",
       "      <th>4767</th>\n",
       "      <td>Barbour County, AL</td>\n",
       "      <td>fmr22_2</td>\n",
       "      <td>705</td>\n",
       "      <td>2022</td>\n",
       "    </tr>\n",
       "  </tbody>\n",
       "</table>\n",
       "</div>"
      ],
      "text/plain": [
       "                         areaname22 variable value  Year\n",
       "4765             Montgomery, AL MSA  fmr22_2   914  2022\n",
       "4766  Daphne-Fairhope-Foley, AL MSA  fmr22_2  1017  2022\n",
       "4767             Barbour County, AL  fmr22_2   705  2022"
      ]
     },
     "execution_count": 227,
     "metadata": {},
     "output_type": "execute_result"
    }
   ],
   "source": [
    "home_prices_all_melt = home_prices.melt(id_vars=\"areaname22\", value_vars = home_prices.columns[4:-7])\n",
    "home_prices_all = home_prices_all_melt[np.array([i[-2:] == '_2' for i in home_prices_all_melt.variable.values])]\n",
    "home_prices_all['Year'] = [get_year(i) for i in home_prices_all.variable.values]\n",
    "home_prices_all[:3]"
   ]
  },
  {
   "cell_type": "code",
   "execution_count": 233,
   "id": "fb338a74",
   "metadata": {
    "ExecuteTime": {
     "end_time": "2021-12-07T06:37:20.162240Z",
     "start_time": "2021-12-07T06:37:20.087082Z"
    }
   },
   "outputs": [],
   "source": [
    "year_mean = {\n",
    "    year: np.nanmean(home_prices_all[home_prices_all.Year == year].value.values.astype(float))\n",
    "    for year in home_prices_all.Year.unique()\n",
    "}"
   ]
  },
  {
   "cell_type": "code",
   "execution_count": 234,
   "id": "0bd9d27b",
   "metadata": {
    "ExecuteTime": {
     "end_time": "2021-12-07T06:37:23.735575Z",
     "start_time": "2021-12-07T06:37:23.700990Z"
    }
   },
   "outputs": [],
   "source": [
    "home_prices_regions_melt = home_prices_regions.melt(id_vars=\"areaname22\", value_vars = home_prices_regions.columns[4:-7])"
   ]
  },
  {
   "cell_type": "code",
   "execution_count": 235,
   "id": "38ce1c0b",
   "metadata": {
    "ExecuteTime": {
     "end_time": "2021-12-07T06:37:24.067231Z",
     "start_time": "2021-12-07T06:37:24.032796Z"
    }
   },
   "outputs": [
    {
     "data": {
      "text/html": [
       "<div>\n",
       "<style scoped>\n",
       "    .dataframe tbody tr th:only-of-type {\n",
       "        vertical-align: middle;\n",
       "    }\n",
       "\n",
       "    .dataframe tbody tr th {\n",
       "        vertical-align: top;\n",
       "    }\n",
       "\n",
       "    .dataframe thead th {\n",
       "        text-align: right;\n",
       "    }\n",
       "</style>\n",
       "<table border=\"1\" class=\"dataframe\">\n",
       "  <thead>\n",
       "    <tr style=\"text-align: right;\">\n",
       "      <th></th>\n",
       "      <th>areaname22</th>\n",
       "      <th>variable</th>\n",
       "      <th>value</th>\n",
       "    </tr>\n",
       "  </thead>\n",
       "  <tbody>\n",
       "    <tr>\n",
       "      <th>11</th>\n",
       "      <td>San Diego-Carlsbad, CA MSA</td>\n",
       "      <td>fmr22_2</td>\n",
       "      <td>1979</td>\n",
       "    </tr>\n",
       "    <tr>\n",
       "      <th>12</th>\n",
       "      <td>San Francisco, CA HUD Metro FMR Area</td>\n",
       "      <td>fmr22_2</td>\n",
       "      <td>3198</td>\n",
       "    </tr>\n",
       "    <tr>\n",
       "      <th>13</th>\n",
       "      <td>Chicago-Joliet-Naperville, IL HUD Metro FMR Area</td>\n",
       "      <td>fmr22_2</td>\n",
       "      <td>1340</td>\n",
       "    </tr>\n",
       "    <tr>\n",
       "      <th>14</th>\n",
       "      <td>Baltimore-Columbia-Towson, MD MSA</td>\n",
       "      <td>fmr22_2</td>\n",
       "      <td>1395</td>\n",
       "    </tr>\n",
       "    <tr>\n",
       "      <th>15</th>\n",
       "      <td>Boston-Cambridge-Quincy, MA-NH HUD Metro FMR Area</td>\n",
       "      <td>fmr22_2</td>\n",
       "      <td>2205</td>\n",
       "    </tr>\n",
       "    <tr>\n",
       "      <th>...</th>\n",
       "      <td>...</td>\n",
       "      <td>...</td>\n",
       "      <td>...</td>\n",
       "    </tr>\n",
       "    <tr>\n",
       "      <th>1271</th>\n",
       "      <td>New York, NY HUD Metro FMR Area</td>\n",
       "      <td>fmr83_2</td>\n",
       "      <td>420.0</td>\n",
       "    </tr>\n",
       "    <tr>\n",
       "      <th>1272</th>\n",
       "      <td>Durham-Chapel Hill, NC HUD Metro FMR Area</td>\n",
       "      <td>fmr83_2</td>\n",
       "      <td>372.0</td>\n",
       "    </tr>\n",
       "    <tr>\n",
       "      <th>1273</th>\n",
       "      <td>Portland-Vancouver-Hillsboro, OR-WA MSA</td>\n",
       "      <td>fmr83_2</td>\n",
       "      <td>369.0</td>\n",
       "    </tr>\n",
       "    <tr>\n",
       "      <th>1274</th>\n",
       "      <td>Pittsburgh, PA HUD Metro FMR Area</td>\n",
       "      <td>fmr83_2</td>\n",
       "      <td>372.0</td>\n",
       "    </tr>\n",
       "    <tr>\n",
       "      <th>1275</th>\n",
       "      <td>Houston-The Woodlands-Sugar Land, TX HUD Metro...</td>\n",
       "      <td>fmr83_2</td>\n",
       "      <td>375.0</td>\n",
       "    </tr>\n",
       "  </tbody>\n",
       "</table>\n",
       "<p>429 rows × 3 columns</p>\n",
       "</div>"
      ],
      "text/plain": [
       "                                             areaname22 variable  value\n",
       "11                           San Diego-Carlsbad, CA MSA  fmr22_2   1979\n",
       "12                 San Francisco, CA HUD Metro FMR Area  fmr22_2   3198\n",
       "13     Chicago-Joliet-Naperville, IL HUD Metro FMR Area  fmr22_2   1340\n",
       "14                    Baltimore-Columbia-Towson, MD MSA  fmr22_2   1395\n",
       "15    Boston-Cambridge-Quincy, MA-NH HUD Metro FMR Area  fmr22_2   2205\n",
       "...                                                 ...      ...    ...\n",
       "1271                    New York, NY HUD Metro FMR Area  fmr83_2  420.0\n",
       "1272          Durham-Chapel Hill, NC HUD Metro FMR Area  fmr83_2  372.0\n",
       "1273            Portland-Vancouver-Hillsboro, OR-WA MSA  fmr83_2  369.0\n",
       "1274                  Pittsburgh, PA HUD Metro FMR Area  fmr83_2  372.0\n",
       "1275  Houston-The Woodlands-Sugar Land, TX HUD Metro...  fmr83_2  375.0\n",
       "\n",
       "[429 rows x 3 columns]"
      ]
     },
     "execution_count": 235,
     "metadata": {},
     "output_type": "execute_result"
    }
   ],
   "source": [
    "home_prices_regions = home_prices_regions_melt[np.array([i[-2:] == '_2' for i in home_prices_regions_melt.variable.values])]\n",
    "home_prices_regions"
   ]
  },
  {
   "cell_type": "code",
   "execution_count": 236,
   "id": "4fb732d8",
   "metadata": {
    "ExecuteTime": {
     "end_time": "2021-12-07T06:37:24.523564Z",
     "start_time": "2021-12-07T06:37:24.497399Z"
    }
   },
   "outputs": [],
   "source": [
    "def get_year(x):\n",
    "    year = x.split('_')[0][-2:]\n",
    "    if int(year) < 80:\n",
    "        year = int(\"20\"+year)\n",
    "    else:\n",
    "        year = int(\"19\"+year)\n",
    "    return year"
   ]
  },
  {
   "cell_type": "code",
   "execution_count": 237,
   "id": "bfd84c6b",
   "metadata": {
    "ExecuteTime": {
     "end_time": "2021-12-07T06:37:24.889311Z",
     "start_time": "2021-12-07T06:37:24.863014Z"
    }
   },
   "outputs": [
    {
     "name": "stderr",
     "output_type": "stream",
     "text": [
      "<ipython-input-237-65fe836d9ee5>:1: SettingWithCopyWarning: \n",
      "A value is trying to be set on a copy of a slice from a DataFrame.\n",
      "Try using .loc[row_indexer,col_indexer] = value instead\n",
      "\n",
      "See the caveats in the documentation: https://pandas.pydata.org/pandas-docs/stable/user_guide/indexing.html#returning-a-view-versus-a-copy\n",
      "  home_prices_regions['Year'] = [get_year(i) for i in home_prices_regions.variable.values]\n"
     ]
    }
   ],
   "source": [
    "home_prices_regions['Year'] = [get_year(i) for i in home_prices_regions.variable.values]"
   ]
  },
  {
   "cell_type": "code",
   "execution_count": 238,
   "id": "35494b38",
   "metadata": {
    "ExecuteTime": {
     "end_time": "2021-12-07T06:37:25.307477Z",
     "start_time": "2021-12-07T06:37:25.275719Z"
    }
   },
   "outputs": [
    {
     "data": {
      "text/html": [
       "<div>\n",
       "<style scoped>\n",
       "    .dataframe tbody tr th:only-of-type {\n",
       "        vertical-align: middle;\n",
       "    }\n",
       "\n",
       "    .dataframe tbody tr th {\n",
       "        vertical-align: top;\n",
       "    }\n",
       "\n",
       "    .dataframe thead th {\n",
       "        text-align: right;\n",
       "    }\n",
       "</style>\n",
       "<table border=\"1\" class=\"dataframe\">\n",
       "  <thead>\n",
       "    <tr style=\"text-align: right;\">\n",
       "      <th></th>\n",
       "      <th>areaname22</th>\n",
       "      <th>variable</th>\n",
       "      <th>value</th>\n",
       "      <th>Year</th>\n",
       "    </tr>\n",
       "  </thead>\n",
       "  <tbody>\n",
       "    <tr>\n",
       "      <th>11</th>\n",
       "      <td>San Diego-Carlsbad, CA MSA</td>\n",
       "      <td>fmr22_2</td>\n",
       "      <td>1979</td>\n",
       "      <td>2022</td>\n",
       "    </tr>\n",
       "    <tr>\n",
       "      <th>12</th>\n",
       "      <td>San Francisco, CA HUD Metro FMR Area</td>\n",
       "      <td>fmr22_2</td>\n",
       "      <td>3198</td>\n",
       "      <td>2022</td>\n",
       "    </tr>\n",
       "    <tr>\n",
       "      <th>13</th>\n",
       "      <td>Chicago-Joliet-Naperville, IL HUD Metro FMR Area</td>\n",
       "      <td>fmr22_2</td>\n",
       "      <td>1340</td>\n",
       "      <td>2022</td>\n",
       "    </tr>\n",
       "  </tbody>\n",
       "</table>\n",
       "</div>"
      ],
      "text/plain": [
       "                                          areaname22 variable value  Year\n",
       "11                        San Diego-Carlsbad, CA MSA  fmr22_2  1979  2022\n",
       "12              San Francisco, CA HUD Metro FMR Area  fmr22_2  3198  2022\n",
       "13  Chicago-Joliet-Naperville, IL HUD Metro FMR Area  fmr22_2  1340  2022"
      ]
     },
     "execution_count": 238,
     "metadata": {},
     "output_type": "execute_result"
    }
   ],
   "source": [
    "home_prices_regions[:3]"
   ]
  },
  {
   "cell_type": "code",
   "execution_count": 239,
   "id": "6c6ba108",
   "metadata": {
    "ExecuteTime": {
     "end_time": "2021-12-07T06:37:25.856251Z",
     "start_time": "2021-12-07T06:37:25.783835Z"
    }
   },
   "outputs": [
    {
     "name": "stderr",
     "output_type": "stream",
     "text": [
      "<ipython-input-239-5afdc5e50800>:1: SettingWithCopyWarning: \n",
      "A value is trying to be set on a copy of a slice from a DataFrame.\n",
      "Try using .loc[row_indexer,col_indexer] = value instead\n",
      "\n",
      "See the caveats in the documentation: https://pandas.pydata.org/pandas-docs/stable/user_guide/indexing.html#returning-a-view-versus-a-copy\n",
      "  home_prices_regions['relative_price'] = [row.value / year_mean[row.Year] for idx, row in home_prices_regions.iterrows()]\n"
     ]
    }
   ],
   "source": [
    "home_prices_regions['relative_price'] = [row.value / year_mean[row.Year] for idx, row in home_prices_regions.iterrows()]"
   ]
  },
  {
   "cell_type": "code",
   "execution_count": null,
   "id": "cfc12c99",
   "metadata": {},
   "outputs": [],
   "source": [
    "home_prices_regions[]"
   ]
  },
  {
   "cell_type": "code",
   "execution_count": 240,
   "id": "7efe593f",
   "metadata": {
    "ExecuteTime": {
     "end_time": "2021-12-07T06:37:26.741032Z",
     "start_time": "2021-12-07T06:37:26.715459Z"
    }
   },
   "outputs": [],
   "source": [
    "import seaborn as sns"
   ]
  },
  {
   "cell_type": "code",
   "execution_count": 255,
   "id": "29fe01d5",
   "metadata": {
    "ExecuteTime": {
     "end_time": "2021-12-07T06:57:54.069211Z",
     "start_time": "2021-12-07T06:57:53.625965Z"
    }
   },
   "outputs": [
    {
     "data": {
      "text/plain": [
       "Text(0, 0.5, 'Fair Market Rent')"
      ]
     },
     "execution_count": 255,
     "metadata": {},
     "output_type": "execute_result"
    },
    {
     "data": {
      "image/png": "[encoded data removed]",
      "text/plain": [
       "<Figure size 216x288 with 1 Axes>"
      ]
     },
     "metadata": {
      "needs_background": "light"
     },
     "output_type": "display_data"
    }
   ],
   "source": [
    "fig, ax = plt.subplots(figsize=(3, 4))\n",
    "sns.lineplot(\n",
    "    data=home_prices_regions,\n",
    "    x=\"Year\",\n",
    "    y=\"relative_price\",\n",
    "    hue=\"areaname22\",\n",
    "    ax=ax,\n",
    "    lw=3,\n",
    "    palette='tab20'\n",
    ")\n",
    "ax.legend(bbox_to_anchor=(1.04, 1), loc=\"upper left\")\n",
    "ax.set_xlim([1984, 2020])\n",
    "ax.set_ylabel(\"Fair Market Rent\")"
   ]
  },
  {
   "cell_type": "code",
   "execution_count": 256,
   "id": "e534b362",
   "metadata": {
    "ExecuteTime": {
     "end_time": "2021-12-07T07:02:23.882315Z",
     "start_time": "2021-12-07T07:02:23.285997Z"
    }
   },
   "outputs": [
    {
     "ename": "AttributeError",
     "evalue": "'Line2D' object has no property 'palette'",
     "output_type": "error",
     "traceback": [
      "\u001b[0;31m---------------------------------------------------------------------------\u001b[0m",
      "\u001b[0;31mAttributeError\u001b[0m                            Traceback (most recent call last)",
      "\u001b[0;32m<ipython-input-256-53a1b1505ab6>\u001b[0m in \u001b[0;36m<module>\u001b[0;34m\u001b[0m\n\u001b[1;32m      8\u001b[0m \u001b[0max\u001b[0m\u001b[0;34m.\u001b[0m\u001b[0mset_ylabel\u001b[0m\u001b[0;34m(\u001b[0m\u001b[0;34m'Fair Market Rent'\u001b[0m\u001b[0;34m)\u001b[0m\u001b[0;34m\u001b[0m\u001b[0;34m\u001b[0m\u001b[0m\n\u001b[1;32m      9\u001b[0m \u001b[0;34m\u001b[0m\u001b[0m\n\u001b[0;32m---> 10\u001b[0;31m plt.plot(\n\u001b[0m\u001b[1;32m     11\u001b[0m     \u001b[0mlist\u001b[0m\u001b[0;34m(\u001b[0m\u001b[0myear_mean\u001b[0m\u001b[0;34m.\u001b[0m\u001b[0mkeys\u001b[0m\u001b[0;34m(\u001b[0m\u001b[0;34m)\u001b[0m\u001b[0;34m)\u001b[0m\u001b[0;34m,\u001b[0m\u001b[0;34m\u001b[0m\u001b[0;34m\u001b[0m\u001b[0m\n\u001b[1;32m     12\u001b[0m     \u001b[0mlist\u001b[0m\u001b[0;34m(\u001b[0m\u001b[0myear_mean\u001b[0m\u001b[0;34m.\u001b[0m\u001b[0mvalues\u001b[0m\u001b[0;34m(\u001b[0m\u001b[0;34m)\u001b[0m\u001b[0;34m)\u001b[0m\u001b[0;34m,\u001b[0m\u001b[0;34m\u001b[0m\u001b[0;34m\u001b[0m\u001b[0m\n",
      "\u001b[0;32m~/anaconda3/envs/postdoc/lib/python3.8/site-packages/matplotlib/pyplot.py\u001b[0m in \u001b[0;36mplot\u001b[0;34m(scalex, scaley, data, *args, **kwargs)\u001b[0m\n\u001b[1;32m   2759\u001b[0m \u001b[0;34m@\u001b[0m\u001b[0mdocstring\u001b[0m\u001b[0;34m.\u001b[0m\u001b[0mcopy\u001b[0m\u001b[0;34m(\u001b[0m\u001b[0mAxes\u001b[0m\u001b[0;34m.\u001b[0m\u001b[0mplot\u001b[0m\u001b[0;34m)\u001b[0m\u001b[0;34m\u001b[0m\u001b[0;34m\u001b[0m\u001b[0m\n\u001b[1;32m   2760\u001b[0m \u001b[0;32mdef\u001b[0m \u001b[0mplot\u001b[0m\u001b[0;34m(\u001b[0m\u001b[0;34m*\u001b[0m\u001b[0margs\u001b[0m\u001b[0;34m,\u001b[0m \u001b[0mscalex\u001b[0m\u001b[0;34m=\u001b[0m\u001b[0;32mTrue\u001b[0m\u001b[0;34m,\u001b[0m \u001b[0mscaley\u001b[0m\u001b[0;34m=\u001b[0m\u001b[0;32mTrue\u001b[0m\u001b[0;34m,\u001b[0m \u001b[0mdata\u001b[0m\u001b[0;34m=\u001b[0m\u001b[0;32mNone\u001b[0m\u001b[0;34m,\u001b[0m \u001b[0;34m**\u001b[0m\u001b[0mkwargs\u001b[0m\u001b[0;34m)\u001b[0m\u001b[0;34m:\u001b[0m\u001b[0;34m\u001b[0m\u001b[0;34m\u001b[0m\u001b[0m\n\u001b[0;32m-> 2761\u001b[0;31m     return gca().plot(\n\u001b[0m\u001b[1;32m   2762\u001b[0m         *args, scalex=scalex, scaley=scaley, **({\"data\": data} if data\n\u001b[1;32m   2763\u001b[0m         is not None else {}), **kwargs)\n",
      "\u001b[0;32m~/anaconda3/envs/postdoc/lib/python3.8/site-packages/matplotlib/axes/_axes.py\u001b[0m in \u001b[0;36mplot\u001b[0;34m(self, scalex, scaley, data, *args, **kwargs)\u001b[0m\n\u001b[1;32m   1645\u001b[0m         \"\"\"\n\u001b[1;32m   1646\u001b[0m         \u001b[0mkwargs\u001b[0m \u001b[0;34m=\u001b[0m \u001b[0mcbook\u001b[0m\u001b[0;34m.\u001b[0m\u001b[0mnormalize_kwargs\u001b[0m\u001b[0;34m(\u001b[0m\u001b[0mkwargs\u001b[0m\u001b[0;34m,\u001b[0m \u001b[0mmlines\u001b[0m\u001b[0;34m.\u001b[0m\u001b[0mLine2D\u001b[0m\u001b[0;34m)\u001b[0m\u001b[0;34m\u001b[0m\u001b[0;34m\u001b[0m\u001b[0m\n\u001b[0;32m-> 1647\u001b[0;31m         \u001b[0mlines\u001b[0m \u001b[0;34m=\u001b[0m \u001b[0;34m[\u001b[0m\u001b[0;34m*\u001b[0m\u001b[0mself\u001b[0m\u001b[0;34m.\u001b[0m\u001b[0m_get_lines\u001b[0m\u001b[0;34m(\u001b[0m\u001b[0;34m*\u001b[0m\u001b[0margs\u001b[0m\u001b[0;34m,\u001b[0m \u001b[0mdata\u001b[0m\u001b[0;34m=\u001b[0m\u001b[0mdata\u001b[0m\u001b[0;34m,\u001b[0m \u001b[0;34m**\u001b[0m\u001b[0mkwargs\u001b[0m\u001b[0;34m)\u001b[0m\u001b[0;34m]\u001b[0m\u001b[0;34m\u001b[0m\u001b[0;34m\u001b[0m\u001b[0m\n\u001b[0m\u001b[1;32m   1648\u001b[0m         \u001b[0;32mfor\u001b[0m \u001b[0mline\u001b[0m \u001b[0;32min\u001b[0m \u001b[0mlines\u001b[0m\u001b[0;34m:\u001b[0m\u001b[0;34m\u001b[0m\u001b[0;34m\u001b[0m\u001b[0m\n\u001b[1;32m   1649\u001b[0m             \u001b[0mself\u001b[0m\u001b[0;34m.\u001b[0m\u001b[0madd_line\u001b[0m\u001b[0;34m(\u001b[0m\u001b[0mline\u001b[0m\u001b[0;34m)\u001b[0m\u001b[0;34m\u001b[0m\u001b[0;34m\u001b[0m\u001b[0m\n",
      "\u001b[0;32m~/anaconda3/envs/postdoc/lib/python3.8/site-packages/matplotlib/axes/_base.py\u001b[0m in \u001b[0;36m__call__\u001b[0;34m(self, *args, **kwargs)\u001b[0m\n\u001b[1;32m    214\u001b[0m                 \u001b[0mthis\u001b[0m \u001b[0;34m+=\u001b[0m \u001b[0margs\u001b[0m\u001b[0;34m[\u001b[0m\u001b[0;36m0\u001b[0m\u001b[0;34m]\u001b[0m\u001b[0;34m,\u001b[0m\u001b[0;34m\u001b[0m\u001b[0;34m\u001b[0m\u001b[0m\n\u001b[1;32m    215\u001b[0m                 \u001b[0margs\u001b[0m \u001b[0;34m=\u001b[0m \u001b[0margs\u001b[0m\u001b[0;34m[\u001b[0m\u001b[0;36m1\u001b[0m\u001b[0;34m:\u001b[0m\u001b[0;34m]\u001b[0m\u001b[0;34m\u001b[0m\u001b[0;34m\u001b[0m\u001b[0m\n\u001b[0;32m--> 216\u001b[0;31m             \u001b[0;32myield\u001b[0m \u001b[0;32mfrom\u001b[0m \u001b[0mself\u001b[0m\u001b[0;34m.\u001b[0m\u001b[0m_plot_args\u001b[0m\u001b[0;34m(\u001b[0m\u001b[0mthis\u001b[0m\u001b[0;34m,\u001b[0m \u001b[0mkwargs\u001b[0m\u001b[0;34m)\u001b[0m\u001b[0;34m\u001b[0m\u001b[0;34m\u001b[0m\u001b[0m\n\u001b[0m\u001b[1;32m    217\u001b[0m \u001b[0;34m\u001b[0m\u001b[0m\n\u001b[1;32m    218\u001b[0m     \u001b[0;32mdef\u001b[0m \u001b[0mget_next_color\u001b[0m\u001b[0;34m(\u001b[0m\u001b[0mself\u001b[0m\u001b[0;34m)\u001b[0m\u001b[0;34m:\u001b[0m\u001b[0;34m\u001b[0m\u001b[0;34m\u001b[0m\u001b[0m\n",
      "\u001b[0;32m~/anaconda3/envs/postdoc/lib/python3.8/site-packages/matplotlib/axes/_base.py\u001b[0m in \u001b[0;36m_plot_args\u001b[0;34m(self, tup, kwargs)\u001b[0m\n\u001b[1;32m    361\u001b[0m                 \u001b[0;34m\"2.2\"\u001b[0m\u001b[0;34m,\u001b[0m \u001b[0mmessage\u001b[0m\u001b[0;34m=\u001b[0m\u001b[0;34m\"cycling among columns of inputs with \"\u001b[0m\u001b[0;34m\u001b[0m\u001b[0;34m\u001b[0m\u001b[0m\n\u001b[1;32m    362\u001b[0m                 \"non-matching shapes is deprecated.\")\n\u001b[0;32m--> 363\u001b[0;31m         return [func(x[:, j % ncx], y[:, j % ncy], kw, kwargs)\n\u001b[0m\u001b[1;32m    364\u001b[0m                 for j in range(max(ncx, ncy))]\n\u001b[1;32m    365\u001b[0m \u001b[0;34m\u001b[0m\u001b[0m\n",
      "\u001b[0;32m~/anaconda3/envs/postdoc/lib/python3.8/site-packages/matplotlib/axes/_base.py\u001b[0m in \u001b[0;36m<listcomp>\u001b[0;34m(.0)\u001b[0m\n\u001b[1;32m    361\u001b[0m                 \u001b[0;34m\"2.2\"\u001b[0m\u001b[0;34m,\u001b[0m \u001b[0mmessage\u001b[0m\u001b[0;34m=\u001b[0m\u001b[0;34m\"cycling among columns of inputs with \"\u001b[0m\u001b[0;34m\u001b[0m\u001b[0;34m\u001b[0m\u001b[0m\n\u001b[1;32m    362\u001b[0m                 \"non-matching shapes is deprecated.\")\n\u001b[0;32m--> 363\u001b[0;31m         return [func(x[:, j % ncx], y[:, j % ncy], kw, kwargs)\n\u001b[0m\u001b[1;32m    364\u001b[0m                 for j in range(max(ncx, ncy))]\n\u001b[1;32m    365\u001b[0m \u001b[0;34m\u001b[0m\u001b[0m\n",
      "\u001b[0;32m~/anaconda3/envs/postdoc/lib/python3.8/site-packages/matplotlib/axes/_base.py\u001b[0m in \u001b[0;36m_makeline\u001b[0;34m(self, x, y, kw, kwargs)\u001b[0m\n\u001b[1;32m    253\u001b[0m         \u001b[0mdefault_dict\u001b[0m \u001b[0;34m=\u001b[0m \u001b[0mself\u001b[0m\u001b[0;34m.\u001b[0m\u001b[0m_getdefaults\u001b[0m\u001b[0;34m(\u001b[0m\u001b[0mset\u001b[0m\u001b[0;34m(\u001b[0m\u001b[0;34m)\u001b[0m\u001b[0;34m,\u001b[0m \u001b[0mkw\u001b[0m\u001b[0;34m)\u001b[0m\u001b[0;34m\u001b[0m\u001b[0;34m\u001b[0m\u001b[0m\n\u001b[1;32m    254\u001b[0m         \u001b[0mself\u001b[0m\u001b[0;34m.\u001b[0m\u001b[0m_setdefaults\u001b[0m\u001b[0;34m(\u001b[0m\u001b[0mdefault_dict\u001b[0m\u001b[0;34m,\u001b[0m \u001b[0mkw\u001b[0m\u001b[0;34m)\u001b[0m\u001b[0;34m\u001b[0m\u001b[0;34m\u001b[0m\u001b[0m\n\u001b[0;32m--> 255\u001b[0;31m         \u001b[0mseg\u001b[0m \u001b[0;34m=\u001b[0m \u001b[0mmlines\u001b[0m\u001b[0;34m.\u001b[0m\u001b[0mLine2D\u001b[0m\u001b[0;34m(\u001b[0m\u001b[0mx\u001b[0m\u001b[0;34m,\u001b[0m \u001b[0my\u001b[0m\u001b[0;34m,\u001b[0m \u001b[0;34m**\u001b[0m\u001b[0mkw\u001b[0m\u001b[0;34m)\u001b[0m\u001b[0;34m\u001b[0m\u001b[0;34m\u001b[0m\u001b[0m\n\u001b[0m\u001b[1;32m    256\u001b[0m         \u001b[0;32mreturn\u001b[0m \u001b[0mseg\u001b[0m\u001b[0;34m\u001b[0m\u001b[0;34m\u001b[0m\u001b[0m\n\u001b[1;32m    257\u001b[0m \u001b[0;34m\u001b[0m\u001b[0m\n",
      "\u001b[0;32m~/anaconda3/envs/postdoc/lib/python3.8/site-packages/matplotlib/lines.py\u001b[0m in \u001b[0;36m__init__\u001b[0;34m(self, xdata, ydata, linewidth, linestyle, color, marker, markersize, markeredgewidth, markeredgecolor, markerfacecolor, markerfacecoloralt, fillstyle, antialiased, dash_capstyle, solid_capstyle, dash_joinstyle, solid_joinstyle, pickradius, drawstyle, markevery, **kwargs)\u001b[0m\n\u001b[1;32m    398\u001b[0m         \u001b[0;31m# update kwargs before updating data to give the caller a\u001b[0m\u001b[0;34m\u001b[0m\u001b[0;34m\u001b[0m\u001b[0;34m\u001b[0m\u001b[0m\n\u001b[1;32m    399\u001b[0m         \u001b[0;31m# chance to init axes (and hence unit support)\u001b[0m\u001b[0;34m\u001b[0m\u001b[0;34m\u001b[0m\u001b[0;34m\u001b[0m\u001b[0m\n\u001b[0;32m--> 400\u001b[0;31m         \u001b[0mself\u001b[0m\u001b[0;34m.\u001b[0m\u001b[0mupdate\u001b[0m\u001b[0;34m(\u001b[0m\u001b[0mkwargs\u001b[0m\u001b[0;34m)\u001b[0m\u001b[0;34m\u001b[0m\u001b[0;34m\u001b[0m\u001b[0m\n\u001b[0m\u001b[1;32m    401\u001b[0m         \u001b[0mself\u001b[0m\u001b[0;34m.\u001b[0m\u001b[0mpickradius\u001b[0m \u001b[0;34m=\u001b[0m \u001b[0mpickradius\u001b[0m\u001b[0;34m\u001b[0m\u001b[0;34m\u001b[0m\u001b[0m\n\u001b[1;32m    402\u001b[0m         \u001b[0mself\u001b[0m\u001b[0;34m.\u001b[0m\u001b[0mind_offset\u001b[0m \u001b[0;34m=\u001b[0m \u001b[0;36m0\u001b[0m\u001b[0;34m\u001b[0m\u001b[0;34m\u001b[0m\u001b[0m\n",
      "\u001b[0;32m~/anaconda3/envs/postdoc/lib/python3.8/site-packages/matplotlib/artist.py\u001b[0m in \u001b[0;36mupdate\u001b[0;34m(self, props)\u001b[0m\n\u001b[1;32m   1004\u001b[0m \u001b[0;34m\u001b[0m\u001b[0m\n\u001b[1;32m   1005\u001b[0m         \u001b[0;32mwith\u001b[0m \u001b[0mcbook\u001b[0m\u001b[0;34m.\u001b[0m\u001b[0m_setattr_cm\u001b[0m\u001b[0;34m(\u001b[0m\u001b[0mself\u001b[0m\u001b[0;34m,\u001b[0m \u001b[0meventson\u001b[0m\u001b[0;34m=\u001b[0m\u001b[0;32mFalse\u001b[0m\u001b[0;34m)\u001b[0m\u001b[0;34m:\u001b[0m\u001b[0;34m\u001b[0m\u001b[0;34m\u001b[0m\u001b[0m\n\u001b[0;32m-> 1006\u001b[0;31m             \u001b[0mret\u001b[0m \u001b[0;34m=\u001b[0m \u001b[0;34m[\u001b[0m\u001b[0m_update_property\u001b[0m\u001b[0;34m(\u001b[0m\u001b[0mself\u001b[0m\u001b[0;34m,\u001b[0m \u001b[0mk\u001b[0m\u001b[0;34m,\u001b[0m \u001b[0mv\u001b[0m\u001b[0;34m)\u001b[0m \u001b[0;32mfor\u001b[0m \u001b[0mk\u001b[0m\u001b[0;34m,\u001b[0m \u001b[0mv\u001b[0m \u001b[0;32min\u001b[0m \u001b[0mprops\u001b[0m\u001b[0;34m.\u001b[0m\u001b[0mitems\u001b[0m\u001b[0;34m(\u001b[0m\u001b[0;34m)\u001b[0m\u001b[0;34m]\u001b[0m\u001b[0;34m\u001b[0m\u001b[0;34m\u001b[0m\u001b[0m\n\u001b[0m\u001b[1;32m   1007\u001b[0m \u001b[0;34m\u001b[0m\u001b[0m\n\u001b[1;32m   1008\u001b[0m         \u001b[0;32mif\u001b[0m \u001b[0mlen\u001b[0m\u001b[0;34m(\u001b[0m\u001b[0mret\u001b[0m\u001b[0;34m)\u001b[0m\u001b[0;34m:\u001b[0m\u001b[0;34m\u001b[0m\u001b[0;34m\u001b[0m\u001b[0m\n",
      "\u001b[0;32m~/anaconda3/envs/postdoc/lib/python3.8/site-packages/matplotlib/artist.py\u001b[0m in \u001b[0;36m<listcomp>\u001b[0;34m(.0)\u001b[0m\n\u001b[1;32m   1004\u001b[0m \u001b[0;34m\u001b[0m\u001b[0m\n\u001b[1;32m   1005\u001b[0m         \u001b[0;32mwith\u001b[0m \u001b[0mcbook\u001b[0m\u001b[0;34m.\u001b[0m\u001b[0m_setattr_cm\u001b[0m\u001b[0;34m(\u001b[0m\u001b[0mself\u001b[0m\u001b[0;34m,\u001b[0m \u001b[0meventson\u001b[0m\u001b[0;34m=\u001b[0m\u001b[0;32mFalse\u001b[0m\u001b[0;34m)\u001b[0m\u001b[0;34m:\u001b[0m\u001b[0;34m\u001b[0m\u001b[0;34m\u001b[0m\u001b[0m\n\u001b[0;32m-> 1006\u001b[0;31m             \u001b[0mret\u001b[0m \u001b[0;34m=\u001b[0m \u001b[0;34m[\u001b[0m\u001b[0m_update_property\u001b[0m\u001b[0;34m(\u001b[0m\u001b[0mself\u001b[0m\u001b[0;34m,\u001b[0m \u001b[0mk\u001b[0m\u001b[0;34m,\u001b[0m \u001b[0mv\u001b[0m\u001b[0;34m)\u001b[0m \u001b[0;32mfor\u001b[0m \u001b[0mk\u001b[0m\u001b[0;34m,\u001b[0m \u001b[0mv\u001b[0m \u001b[0;32min\u001b[0m \u001b[0mprops\u001b[0m\u001b[0;34m.\u001b[0m\u001b[0mitems\u001b[0m\u001b[0;34m(\u001b[0m\u001b[0;34m)\u001b[0m\u001b[0;34m]\u001b[0m\u001b[0;34m\u001b[0m\u001b[0;34m\u001b[0m\u001b[0m\n\u001b[0m\u001b[1;32m   1007\u001b[0m \u001b[0;34m\u001b[0m\u001b[0m\n\u001b[1;32m   1008\u001b[0m         \u001b[0;32mif\u001b[0m \u001b[0mlen\u001b[0m\u001b[0;34m(\u001b[0m\u001b[0mret\u001b[0m\u001b[0;34m)\u001b[0m\u001b[0;34m:\u001b[0m\u001b[0;34m\u001b[0m\u001b[0;34m\u001b[0m\u001b[0m\n",
      "\u001b[0;32m~/anaconda3/envs/postdoc/lib/python3.8/site-packages/matplotlib/artist.py\u001b[0m in \u001b[0;36m_update_property\u001b[0;34m(self, k, v)\u001b[0m\n\u001b[1;32m    999\u001b[0m                 \u001b[0mfunc\u001b[0m \u001b[0;34m=\u001b[0m \u001b[0mgetattr\u001b[0m\u001b[0;34m(\u001b[0m\u001b[0mself\u001b[0m\u001b[0;34m,\u001b[0m \u001b[0;34m'set_'\u001b[0m \u001b[0;34m+\u001b[0m \u001b[0mk\u001b[0m\u001b[0;34m,\u001b[0m \u001b[0;32mNone\u001b[0m\u001b[0;34m)\u001b[0m\u001b[0;34m\u001b[0m\u001b[0;34m\u001b[0m\u001b[0m\n\u001b[1;32m   1000\u001b[0m                 \u001b[0;32mif\u001b[0m \u001b[0;32mnot\u001b[0m \u001b[0mcallable\u001b[0m\u001b[0;34m(\u001b[0m\u001b[0mfunc\u001b[0m\u001b[0;34m)\u001b[0m\u001b[0;34m:\u001b[0m\u001b[0;34m\u001b[0m\u001b[0;34m\u001b[0m\u001b[0m\n\u001b[0;32m-> 1001\u001b[0;31m                     raise AttributeError('{!r} object has no property {!r}'\n\u001b[0m\u001b[1;32m   1002\u001b[0m                                          .format(type(self).__name__, k))\n\u001b[1;32m   1003\u001b[0m                 \u001b[0;32mreturn\u001b[0m \u001b[0mfunc\u001b[0m\u001b[0;34m(\u001b[0m\u001b[0mv\u001b[0m\u001b[0;34m)\u001b[0m\u001b[0;34m\u001b[0m\u001b[0;34m\u001b[0m\u001b[0m\n",
      "\u001b[0;31mAttributeError\u001b[0m: 'Line2D' object has no property 'palette'"
     ]
    },
    {
     "data": {
      "image/png": "[encoded data removed]",
      "text/plain": [
       "<Figure size 216x288 with 1 Axes>"
      ]
     },
     "metadata": {
      "needs_background": "light"
     },
     "output_type": "display_data"
    }
   ],
   "source": [
    "fig, ax = plt.subplots(figsize=(3, 4))\n",
    "sns.lineplot(\n",
    "    data=home_prices_regions, x=\"Year\", y=\"value\", hue=\"areaname22\", ax=ax,\n",
    "    lw=3\n",
    ")\n",
    "ax.legend(bbox_to_anchor=(1.04, 1), loc=\"upper left\")\n",
    "ax.set_xlim([1984, 2020])\n",
    "ax.set_ylabel('Fair Market Rent')\n",
    "\n",
    "plt.plot(\n",
    "    list(year_mean.keys()),\n",
    "    list(year_mean.values()),\n",
    "    color = 'grey',\n",
    "    ls = 'dashed',\n",
    "    lw = 4,\n",
    "    \n",
    ")"
   ]
  },
  {
   "cell_type": "code",
   "execution_count": 248,
   "id": "154ebf56",
   "metadata": {
    "ExecuteTime": {
     "end_time": "2021-12-07T06:43:17.726265Z",
     "start_time": "2021-12-07T06:43:17.520712Z"
    }
   },
   "outputs": [
    {
     "data": {
      "text/plain": [
       "[<matplotlib.lines.Line2D at 0x7f0c9a5e4550>]"
      ]
     },
     "execution_count": 248,
     "metadata": {},
     "output_type": "execute_result"
    },
    {
     "data": {
      "image/png": "[encoded data removed]",
      "text/plain": [
       "<Figure size 432x288 with 1 Axes>"
      ]
     },
     "metadata": {
      "needs_background": "light"
     },
     "output_type": "display_data"
    }
   ],
   "source": []
  },
  {
   "cell_type": "code",
   "execution_count": null,
   "id": "1d1823d0",
   "metadata": {},
   "outputs": [],
   "source": []
  }
 ],
 "metadata": {
  "kernelspec": {
   "display_name": "postdoc",
   "language": "python",
   "name": "postdoc"
  },
  "language_info": {
   "codemirror_mode": {
    "name": "ipython",
    "version": 3
   },
   "file_extension": ".py",
   "mimetype": "text/x-python",
   "name": "python",
   "nbconvert_exporter": "python",
   "pygments_lexer": "ipython3",
   "version": "3.8.12"
  }
 },
 "nbformat": 4,
 "nbformat_minor": 5
}
