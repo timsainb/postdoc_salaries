{
 "cells": [
  {
   "cell_type": "code",
   "execution_count": 14,
   "id": "f6a4bb37",
   "metadata": {
    "ExecuteTime": {
     "end_time": "2021-12-03T16:46:05.688905Z",
     "start_time": "2021-12-03T16:46:05.654547Z"
    }
   },
   "outputs": [
    {
     "name": "stdout",
     "output_type": "stream",
     "text": [
      "The autoreload extension is already loaded. To reload it, use:\n",
      "  %reload_ext autoreload\n"
     ]
    }
   ],
   "source": [
    "%load_ext autoreload\n",
    "%autoreload 2"
   ]
  },
  {
   "cell_type": "code",
   "execution_count": 15,
   "id": "d4d40df5",
   "metadata": {
    "ExecuteTime": {
     "end_time": "2021-12-03T16:46:05.803535Z",
     "start_time": "2021-12-03T16:46:05.781842Z"
    }
   },
   "outputs": [],
   "source": [
    "import numpy as np\n",
    "import pandas as pd\n",
    "import matplotlib.pyplot as plt\n",
    "%matplotlib inline\n",
    "from tqdm.autonotebook import tqdm\n",
    "from postdocsalary.paths import DATA_DIR, ensure_dir\n",
    "import urllib.request"
   ]
  },
  {
   "cell_type": "code",
   "execution_count": 16,
   "id": "fd628c1f",
   "metadata": {
    "ExecuteTime": {
     "end_time": "2021-12-03T16:46:05.932488Z",
     "start_time": "2021-12-03T16:46:05.915661Z"
    }
   },
   "outputs": [],
   "source": [
    "years = np.arange(2015, 2019)"
   ]
  },
  {
   "cell_type": "code",
   "execution_count": 26,
   "id": "80280c2c",
   "metadata": {
    "ExecuteTime": {
     "end_time": "2021-12-03T16:49:47.073247Z",
     "start_time": "2021-12-03T16:49:47.015604Z"
    }
   },
   "outputs": [],
   "source": [
    "H1B_urls = {\n",
    "    \"2020Q1\": \"https://www.dol.gov/sites/dolgov/files/ETA/oflc/pdfs/LCA_Disclosure_Data_FY2020_Q1.xlsx\",\n",
    "    \"2020Q2\": \"https://www.dol.gov/sites/dolgov/files/ETA/oflc/pdfs/LCA_Disclosure_Data_FY2020_Q2.xlsx\",\n",
    "    \"2020Q3\": \"https://www.dol.gov/sites/dolgov/files/ETA/oflc/pdfs/LCA_Disclosure_Data_FY2020_Q4.xlsx\",\n",
    "    \"2020Q4\": \"https://www.dol.gov/sites/dolgov/files/ETA/oflc/pdfs/H-1B_Disclosure_Data_FY2019.xlsx\",\n",
    "    \"2019\": \"https://www.dol.gov/sites/dolgov/files/ETA/oflc/pdfs/H-1B_Disclosure_Data_FY2019.xlsx\",\n",
    "    \"2018\": \"https://www.dol.gov/sites/dolgov/files/ETA/oflc/pdfs/H-1B_Disclosure_Data_FY2018_EOY.xlsx\",\n",
    "    \"2017\": \"https://www.dol.gov/sites/dolgov/files/ETA/oflc/pdfs/H-1B_Disclosure_Data_FY17.xlsx\",\n",
    "    \"2016\": \"https://www.dol.gov/sites/dolgov/files/ETA/oflc/pdfs/H-1B_Disclosure_Data_FY16.xlsx\",\n",
    "    \"2015\": \"https://www.dol.gov/sites/dolgov/files/ETA/oflc/pdfs/H-1B_Disclosure_Data_FY15_Q4.xlsx\",\n",
    "}"
   ]
  },
  {
   "cell_type": "code",
   "execution_count": 27,
   "id": "63257fcf",
   "metadata": {
    "ExecuteTime": {
     "end_time": "2021-12-03T16:49:47.375154Z",
     "start_time": "2021-12-03T16:49:47.351824Z"
    }
   },
   "outputs": [],
   "source": [
    "ensure_dir(DATA_DIR/\"H1B_salaries\")"
   ]
  },
  {
   "cell_type": "code",
   "execution_count": 29,
   "id": "9e131162",
   "metadata": {
    "ExecuteTime": {
     "end_time": "2021-12-03T16:50:31.013943Z",
     "start_time": "2021-12-03T16:50:00.905357Z"
    }
   },
   "outputs": [],
   "source": [
    "for year, url in tqdm(H1B_urls.items()): \n",
    "    urllib.request.urlretrieve(url, DATA_DIR / \"H1B_salaries\" / \"{}.xlsx\".format(year))"
   ]
  },
  {
   "cell_type": "code",
   "execution_count": 25,
   "id": "87e0aca9",
   "metadata": {
    "ExecuteTime": {
     "end_time": "2021-12-03T16:49:24.539713Z",
     "start_time": "2021-12-03T16:49:24.517806Z"
    }
   },
   "outputs": [
    {
     "data": {
      "text/plain": [
       "('2020Q1',\n",
       " 'https://www.dol.gov/sites/dolgov/files/ETA/oflc/pdfs/LCA_Disclosure_Data_FY2020_Q1.xlsx')"
      ]
     },
     "execution_count": 25,
     "metadata": {},
     "output_type": "execute_result"
    }
   ],
   "source": [
    "year, url"
   ]
  },
  {
   "cell_type": "code",
   "execution_count": null,
   "id": "2bf88335",
   "metadata": {},
   "outputs": [],
   "source": []
  }
 ],
 "metadata": {
  "kernelspec": {
   "display_name": "postdoc",
   "language": "python",
   "name": "postdoc"
  },
  "language_info": {
   "codemirror_mode": {
    "name": "ipython",
    "version": 3
   },
   "file_extension": ".py",
   "mimetype": "text/x-python",
   "name": "python",
   "nbconvert_exporter": "python",
   "pygments_lexer": "ipython3",
   "version": "3.8.12"
  }
 },
 "nbformat": 4,
 "nbformat_minor": 5
}
