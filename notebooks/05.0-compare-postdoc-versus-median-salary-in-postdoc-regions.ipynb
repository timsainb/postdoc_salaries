{
 "cells": [
  {
   "cell_type": "markdown",
   "id": "3d78fc5c",
   "metadata": {},
   "source": [
    "### For the same statistical areas, plot salary of postdocs and salary of everyone else"
   ]
  },
  {
   "cell_type": "code",
   "execution_count": 1,
   "id": "713e5c81",
   "metadata": {
    "ExecuteTime": {
     "end_time": "2022-01-17T15:20:54.581229Z",
     "start_time": "2022-01-17T15:20:54.561928Z"
    }
   },
   "outputs": [],
   "source": [
    "%load_ext autoreload\n",
    "%autoreload 2"
   ]
  },
  {
   "cell_type": "code",
   "execution_count": 2,
   "id": "8fa73a66",
   "metadata": {
    "ExecuteTime": {
     "end_time": "2022-01-17T15:20:55.589116Z",
     "start_time": "2022-01-17T15:20:54.847109Z"
    }
   },
   "outputs": [
    {
     "name": "stderr",
     "output_type": "stream",
     "text": [
      "<ipython-input-2-1570110eca21>:5: TqdmExperimentalWarning: Using `tqdm.autonotebook.tqdm` in notebook mode. Use `tqdm.tqdm` instead to force console mode (e.g. in jupyter console)\n",
      "  from tqdm.autonotebook import tqdm\n"
     ]
    }
   ],
   "source": [
    "import numpy as np\n",
    "import pandas as pd\n",
    "import matplotlib.pyplot as plt\n",
    "%matplotlib inline\n",
    "from tqdm.autonotebook import tqdm\n",
    "from postdocsalary.paths import DATA_DIR, ensure_dir\n",
    "import urllib.request\n",
    "pd.set_option('display.max_columns', None)\n"
   ]
  },
  {
   "cell_type": "code",
   "execution_count": 3,
   "id": "47fafb6b",
   "metadata": {
    "ExecuteTime": {
     "end_time": "2022-01-17T15:20:55.607225Z",
     "start_time": "2022-01-17T15:20:55.591188Z"
    }
   },
   "outputs": [],
   "source": [
    "import matplotlib.font_manager\n",
    "from matplotlib import rc\n",
    "rc('font',**{'family':'sans-serif','sans-serif':['Arial']})\n",
    "#rc('text', usetex=True)"
   ]
  },
  {
   "cell_type": "code",
   "execution_count": 4,
   "id": "db9b8eed",
   "metadata": {
    "ExecuteTime": {
     "end_time": "2022-01-17T15:20:55.623358Z",
     "start_time": "2022-01-17T15:20:55.609401Z"
    }
   },
   "outputs": [],
   "source": [
    "plt.rcParams['font.family'] = \"sans-serif\"\n",
    "font = {'family' : 'sans-serif',\n",
    "'weight' : 'normal',\n",
    "'size' : 30\n",
    ",'sans-serif':'Arial'}"
   ]
  },
  {
   "cell_type": "code",
   "execution_count": 5,
   "id": "6a842cc2",
   "metadata": {
    "ExecuteTime": {
     "end_time": "2022-01-17T15:20:55.642350Z",
     "start_time": "2022-01-17T15:20:55.625212Z"
    }
   },
   "outputs": [
    {
     "data": {
      "text/plain": [
       "'/home/AD/tsainbur/anaconda3/envs/postdoc/lib/python3.8/site-packages/matplotlib/mpl-data/matplotlibrc'"
      ]
     },
     "execution_count": 5,
     "metadata": {},
     "output_type": "execute_result"
    }
   ],
   "source": [
    "matplotlib.matplotlib_fname()"
   ]
  },
  {
   "cell_type": "code",
   "execution_count": 6,
   "id": "149120ee",
   "metadata": {
    "ExecuteTime": {
     "end_time": "2022-01-17T15:20:55.686373Z",
     "start_time": "2022-01-17T15:20:55.644105Z"
    }
   },
   "outputs": [],
   "source": [
    "university_df = pd.read_pickle(DATA_DIR/ 'university_ranking_salary.pickle')"
   ]
  },
  {
   "cell_type": "code",
   "execution_count": 7,
   "id": "9908cde4",
   "metadata": {
    "ExecuteTime": {
     "end_time": "2022-01-17T15:20:55.804263Z",
     "start_time": "2022-01-17T15:20:55.688522Z"
    }
   },
   "outputs": [
    {
     "data": {
      "text/html": [
       "<div>\n",
       "<style scoped>\n",
       "    .dataframe tbody tr th:only-of-type {\n",
       "        vertical-align: middle;\n",
       "    }\n",
       "\n",
       "    .dataframe tbody tr th {\n",
       "        vertical-align: top;\n",
       "    }\n",
       "\n",
       "    .dataframe thead th {\n",
       "        text-align: right;\n",
       "    }\n",
       "</style>\n",
       "<table border=\"1\" class=\"dataframe\">\n",
       "  <thead>\n",
       "    <tr style=\"text-align: right;\">\n",
       "      <th></th>\n",
       "      <th>World Rank</th>\n",
       "      <th>Institution</th>\n",
       "      <th>Country</th>\n",
       "      <th>National Rank</th>\n",
       "      <th>Quality of Education Rank</th>\n",
       "      <th>Alumni Employment Rank</th>\n",
       "      <th>Quality of Faculty Rank</th>\n",
       "      <th>Research Performance Rank</th>\n",
       "      <th>Score</th>\n",
       "      <th>UNITID</th>\n",
       "      <th>INSTNM</th>\n",
       "      <th>IALIAS</th>\n",
       "      <th>ADDR</th>\n",
       "      <th>CITY</th>\n",
       "      <th>STABBR</th>\n",
       "      <th>ZIP</th>\n",
       "      <th>FIPS</th>\n",
       "      <th>OBEREG</th>\n",
       "      <th>CHFNM</th>\n",
       "      <th>CHFTITLE</th>\n",
       "      <th>GENTELE</th>\n",
       "      <th>EIN</th>\n",
       "      <th>DUNS</th>\n",
       "      <th>OPEID</th>\n",
       "      <th>OPEFLAG</th>\n",
       "      <th>WEBADDR</th>\n",
       "      <th>ADMINURL</th>\n",
       "      <th>FAIDURL</th>\n",
       "      <th>APPLURL</th>\n",
       "      <th>NPRICURL</th>\n",
       "      <th>VETURL</th>\n",
       "      <th>ATHURL</th>\n",
       "      <th>DISAURL</th>\n",
       "      <th>SECTOR</th>\n",
       "      <th>ICLEVEL</th>\n",
       "      <th>CONTROL</th>\n",
       "      <th>HLOFFER</th>\n",
       "      <th>UGOFFER</th>\n",
       "      <th>GROFFER</th>\n",
       "      <th>HDEGOFR1</th>\n",
       "      <th>DEGGRANT</th>\n",
       "      <th>HBCU</th>\n",
       "      <th>HOSPITAL</th>\n",
       "      <th>MEDICAL</th>\n",
       "      <th>TRIBAL</th>\n",
       "      <th>LOCALE</th>\n",
       "      <th>OPENPUBL</th>\n",
       "      <th>ACT</th>\n",
       "      <th>NEWID</th>\n",
       "      <th>DEATHYR</th>\n",
       "      <th>CLOSEDAT</th>\n",
       "      <th>CYACTIVE</th>\n",
       "      <th>POSTSEC</th>\n",
       "      <th>PSEFLAG</th>\n",
       "      <th>PSET4FLG</th>\n",
       "      <th>RPTMTH</th>\n",
       "      <th>INSTCAT</th>\n",
       "      <th>C18BASIC</th>\n",
       "      <th>C18IPUG</th>\n",
       "      <th>C18IPGRD</th>\n",
       "      <th>C18UGPRF</th>\n",
       "      <th>C18ENPRF</th>\n",
       "      <th>C18SZSET</th>\n",
       "      <th>C15BASIC</th>\n",
       "      <th>CCBASIC</th>\n",
       "      <th>CARNEGIE</th>\n",
       "      <th>LANDGRNT</th>\n",
       "      <th>INSTSIZE</th>\n",
       "      <th>F1SYSTYP</th>\n",
       "      <th>F1SYSNAM</th>\n",
       "      <th>F1SYSCOD</th>\n",
       "      <th>CBSA</th>\n",
       "      <th>CBSATYPE</th>\n",
       "      <th>CSA</th>\n",
       "      <th>NECTA</th>\n",
       "      <th>COUNTYCD</th>\n",
       "      <th>COUNTYNM</th>\n",
       "      <th>CNGDSTCD</th>\n",
       "      <th>LONGITUD</th>\n",
       "      <th>LATITUDE</th>\n",
       "      <th>DFRCGID</th>\n",
       "      <th>DFRCUSCG</th>\n",
       "      <th>LONGITUDE</th>\n",
       "      <th>CBSA_NAME</th>\n",
       "      <th>dup</th>\n",
       "      <th>RPP_all</th>\n",
       "      <th>MEDIAN_SALARY</th>\n",
       "      <th>N_SALARIES</th>\n",
       "      <th>MEDIAN_SALARY_UPPER</th>\n",
       "      <th>MEDIAN_SALARY_LOWER</th>\n",
       "      <th>REAL_MEDIAN_SALARY</th>\n",
       "      <th>REAL_MEDIAN_SALARY_UPPER</th>\n",
       "      <th>REAL_MEDIAN_SALARY_LOWER</th>\n",
       "    </tr>\n",
       "  </thead>\n",
       "  <tbody>\n",
       "    <tr>\n",
       "      <th>0</th>\n",
       "      <td>1.0</td>\n",
       "      <td>Harvard University</td>\n",
       "      <td>USA</td>\n",
       "      <td>1.0</td>\n",
       "      <td>1</td>\n",
       "      <td>1</td>\n",
       "      <td>1</td>\n",
       "      <td>1</td>\n",
       "      <td>100.0</td>\n",
       "      <td>166027.0</td>\n",
       "      <td>Harvard University</td>\n",
       "      <td></td>\n",
       "      <td>Massachusetts Hall</td>\n",
       "      <td>Cambridge</td>\n",
       "      <td>MA</td>\n",
       "      <td>02138</td>\n",
       "      <td>25.0</td>\n",
       "      <td>1.0</td>\n",
       "      <td>Lawrence S. Bacow</td>\n",
       "      <td>President</td>\n",
       "      <td>6174951000</td>\n",
       "      <td>42103580.0</td>\n",
       "      <td>082359691|149617367|047006379</td>\n",
       "      <td>215500.0</td>\n",
       "      <td>1.0</td>\n",
       "      <td>www.harvard.edu/</td>\n",
       "      <td>college.harvard.edu/admissions</td>\n",
       "      <td>college.harvard.edu/financial-aid</td>\n",
       "      <td>college.harvard.edu/admissions/application-pro...</td>\n",
       "      <td>college.harvard.edu/financial-aid/net-price-ca...</td>\n",
       "      <td>sfs.harvard.edu/veteran-military-benefits</td>\n",
       "      <td></td>\n",
       "      <td>accessibility.harvard.edu/</td>\n",
       "      <td>2.0</td>\n",
       "      <td>1.0</td>\n",
       "      <td>2.0</td>\n",
       "      <td>9.0</td>\n",
       "      <td>1.0</td>\n",
       "      <td>1.0</td>\n",
       "      <td>11.0</td>\n",
       "      <td>1.0</td>\n",
       "      <td>2.0</td>\n",
       "      <td>2.0</td>\n",
       "      <td>1.0</td>\n",
       "      <td>2.0</td>\n",
       "      <td>12.0</td>\n",
       "      <td>1.0</td>\n",
       "      <td>A</td>\n",
       "      <td>-2.0</td>\n",
       "      <td>-2.0</td>\n",
       "      <td>-2</td>\n",
       "      <td>1.0</td>\n",
       "      <td>1.0</td>\n",
       "      <td>1.0</td>\n",
       "      <td>1.0</td>\n",
       "      <td>1.0</td>\n",
       "      <td>2.0</td>\n",
       "      <td>15.0</td>\n",
       "      <td>8.0</td>\n",
       "      <td>14.0</td>\n",
       "      <td>14.0</td>\n",
       "      <td>6.0</td>\n",
       "      <td>17.0</td>\n",
       "      <td>15.0</td>\n",
       "      <td>15.0</td>\n",
       "      <td>15.0</td>\n",
       "      <td>2.0</td>\n",
       "      <td>5.0</td>\n",
       "      <td>2.0</td>\n",
       "      <td>-2</td>\n",
       "      <td>-2.0</td>\n",
       "      <td>14460</td>\n",
       "      <td>1</td>\n",
       "      <td>148</td>\n",
       "      <td>71650.0</td>\n",
       "      <td>25017</td>\n",
       "      <td>Middlesex County</td>\n",
       "      <td>2505.0</td>\n",
       "      <td>-71.118313</td>\n",
       "      <td>42.374471</td>\n",
       "      <td>96.0</td>\n",
       "      <td>1.0</td>\n",
       "      <td>-71.118313</td>\n",
       "      <td>Boston-Cambridge-Newton, MA-NH</td>\n",
       "      <td>False</td>\n",
       "      <td>115.5</td>\n",
       "      <td>55783.941620</td>\n",
       "      <td>493</td>\n",
       "      <td>56164.312487</td>\n",
       "      <td>55205.642506</td>\n",
       "      <td>48297.784952</td>\n",
       "      <td>48627.110378</td>\n",
       "      <td>47797.093079</td>\n",
       "    </tr>\n",
       "    <tr>\n",
       "      <th>1</th>\n",
       "      <td>2.0</td>\n",
       "      <td>Massachusetts Institute of Technology</td>\n",
       "      <td>USA</td>\n",
       "      <td>2.0</td>\n",
       "      <td>4</td>\n",
       "      <td>12</td>\n",
       "      <td>2</td>\n",
       "      <td>8</td>\n",
       "      <td>96.7</td>\n",
       "      <td>166683.0</td>\n",
       "      <td>Massachusetts Institute of Technology</td>\n",
       "      <td>MIT, M.I.T.</td>\n",
       "      <td>77 Massachusetts Avenue</td>\n",
       "      <td>Cambridge</td>\n",
       "      <td>MA</td>\n",
       "      <td>02139-4307</td>\n",
       "      <td>25.0</td>\n",
       "      <td>1.0</td>\n",
       "      <td>L. Rafael Reif</td>\n",
       "      <td>President</td>\n",
       "      <td>6172531000</td>\n",
       "      <td>42103594.0</td>\n",
       "      <td>001425594</td>\n",
       "      <td>217800.0</td>\n",
       "      <td>1.0</td>\n",
       "      <td>web.mit.edu/</td>\n",
       "      <td>https://mitadmissions.org/</td>\n",
       "      <td>https://sfs.mit.edu/</td>\n",
       "      <td>my.mit.edu/</td>\n",
       "      <td>https://sfs.mit.edu/undergraduate-students/our...</td>\n",
       "      <td>https://sfs.mit.edu/undergraduate-students/typ...</td>\n",
       "      <td></td>\n",
       "      <td>studentlife.mit.edu/das</td>\n",
       "      <td>2.0</td>\n",
       "      <td>1.0</td>\n",
       "      <td>2.0</td>\n",
       "      <td>9.0</td>\n",
       "      <td>1.0</td>\n",
       "      <td>1.0</td>\n",
       "      <td>12.0</td>\n",
       "      <td>1.0</td>\n",
       "      <td>2.0</td>\n",
       "      <td>2.0</td>\n",
       "      <td>2.0</td>\n",
       "      <td>2.0</td>\n",
       "      <td>12.0</td>\n",
       "      <td>1.0</td>\n",
       "      <td>A</td>\n",
       "      <td>-2.0</td>\n",
       "      <td>-2.0</td>\n",
       "      <td>-2</td>\n",
       "      <td>1.0</td>\n",
       "      <td>1.0</td>\n",
       "      <td>1.0</td>\n",
       "      <td>1.0</td>\n",
       "      <td>1.0</td>\n",
       "      <td>2.0</td>\n",
       "      <td>15.0</td>\n",
       "      <td>14.0</td>\n",
       "      <td>15.0</td>\n",
       "      <td>14.0</td>\n",
       "      <td>6.0</td>\n",
       "      <td>17.0</td>\n",
       "      <td>15.0</td>\n",
       "      <td>15.0</td>\n",
       "      <td>15.0</td>\n",
       "      <td>1.0</td>\n",
       "      <td>4.0</td>\n",
       "      <td>2.0</td>\n",
       "      <td>-2</td>\n",
       "      <td>-2.0</td>\n",
       "      <td>14460</td>\n",
       "      <td>1</td>\n",
       "      <td>148</td>\n",
       "      <td>71650.0</td>\n",
       "      <td>25017</td>\n",
       "      <td>Middlesex County</td>\n",
       "      <td>2507.0</td>\n",
       "      <td>-71.093226</td>\n",
       "      <td>42.359243</td>\n",
       "      <td>96.0</td>\n",
       "      <td>1.0</td>\n",
       "      <td>-71.093226</td>\n",
       "      <td>Boston-Cambridge-Newton, MA-NH</td>\n",
       "      <td>False</td>\n",
       "      <td>115.5</td>\n",
       "      <td>56659.816586</td>\n",
       "      <td>680</td>\n",
       "      <td>56950.613563</td>\n",
       "      <td>56164.312487</td>\n",
       "      <td>49056.118257</td>\n",
       "      <td>49307.890531</td>\n",
       "      <td>48627.110378</td>\n",
       "    </tr>\n",
       "    <tr>\n",
       "      <th>2</th>\n",
       "      <td>3.0</td>\n",
       "      <td>Stanford University</td>\n",
       "      <td>USA</td>\n",
       "      <td>3.0</td>\n",
       "      <td>10</td>\n",
       "      <td>4</td>\n",
       "      <td>3</td>\n",
       "      <td>2</td>\n",
       "      <td>95.1</td>\n",
       "      <td>243744.0</td>\n",
       "      <td>Stanford University</td>\n",
       "      <td></td>\n",
       "      <td></td>\n",
       "      <td>Stanford</td>\n",
       "      <td>CA</td>\n",
       "      <td>94305</td>\n",
       "      <td>6.0</td>\n",
       "      <td>8.0</td>\n",
       "      <td>Marc Tessier-Lavigne</td>\n",
       "      <td>President</td>\n",
       "      <td>6507232300</td>\n",
       "      <td>941156365.0</td>\n",
       "      <td>009214214</td>\n",
       "      <td>130500.0</td>\n",
       "      <td>1.0</td>\n",
       "      <td>www.stanford.edu/</td>\n",
       "      <td>admission.stanford.edu/</td>\n",
       "      <td>financialaid.stanford.edu/</td>\n",
       "      <td>commonapp.org/</td>\n",
       "      <td>www.stanford.edu/dept/finaid/undergrad/how/cal...</td>\n",
       "      <td>exploredegrees.stanford.edu/veterans/</td>\n",
       "      <td>parents.stanford.edu/2015/11/09/stanford-athle...</td>\n",
       "      <td>diversityandaccess.stanford.edu/disability-access</td>\n",
       "      <td>2.0</td>\n",
       "      <td>1.0</td>\n",
       "      <td>2.0</td>\n",
       "      <td>9.0</td>\n",
       "      <td>1.0</td>\n",
       "      <td>1.0</td>\n",
       "      <td>11.0</td>\n",
       "      <td>1.0</td>\n",
       "      <td>2.0</td>\n",
       "      <td>1.0</td>\n",
       "      <td>1.0</td>\n",
       "      <td>2.0</td>\n",
       "      <td>21.0</td>\n",
       "      <td>1.0</td>\n",
       "      <td>A</td>\n",
       "      <td>-2.0</td>\n",
       "      <td>-2.0</td>\n",
       "      <td>-2</td>\n",
       "      <td>1.0</td>\n",
       "      <td>1.0</td>\n",
       "      <td>1.0</td>\n",
       "      <td>1.0</td>\n",
       "      <td>1.0</td>\n",
       "      <td>2.0</td>\n",
       "      <td>15.0</td>\n",
       "      <td>11.0</td>\n",
       "      <td>14.0</td>\n",
       "      <td>14.0</td>\n",
       "      <td>6.0</td>\n",
       "      <td>17.0</td>\n",
       "      <td>15.0</td>\n",
       "      <td>15.0</td>\n",
       "      <td>15.0</td>\n",
       "      <td>2.0</td>\n",
       "      <td>4.0</td>\n",
       "      <td>2.0</td>\n",
       "      <td>-2</td>\n",
       "      <td>-2.0</td>\n",
       "      <td>41940</td>\n",
       "      <td>1</td>\n",
       "      <td>488</td>\n",
       "      <td>-2.0</td>\n",
       "      <td>6085</td>\n",
       "      <td>Santa Clara County</td>\n",
       "      <td>618.0</td>\n",
       "      <td>-122.167359</td>\n",
       "      <td>37.429434</td>\n",
       "      <td>96.0</td>\n",
       "      <td>1.0</td>\n",
       "      <td>-122.167359</td>\n",
       "      <td>San Jose-Sunnyvale-Santa Clara, CA</td>\n",
       "      <td>False</td>\n",
       "      <td>126.7</td>\n",
       "      <td>62476.603840</td>\n",
       "      <td>349</td>\n",
       "      <td>63319.925605</td>\n",
       "      <td>62352.688787</td>\n",
       "      <td>49310.658122</td>\n",
       "      <td>49976.263303</td>\n",
       "      <td>49212.856186</td>\n",
       "    </tr>\n",
       "    <tr>\n",
       "      <th>3</th>\n",
       "      <td>6.0</td>\n",
       "      <td>Princeton University</td>\n",
       "      <td>USA</td>\n",
       "      <td>4.0</td>\n",
       "      <td>5</td>\n",
       "      <td>15</td>\n",
       "      <td>7</td>\n",
       "      <td>70</td>\n",
       "      <td>92.6</td>\n",
       "      <td>186131.0</td>\n",
       "      <td>Princeton University</td>\n",
       "      <td></td>\n",
       "      <td>1 Nassau Hall</td>\n",
       "      <td>Princeton</td>\n",
       "      <td>NJ</td>\n",
       "      <td>08544-0070</td>\n",
       "      <td>34.0</td>\n",
       "      <td>2.0</td>\n",
       "      <td>Christopher L. Eisgruber</td>\n",
       "      <td>President</td>\n",
       "      <td>6092583000</td>\n",
       "      <td>210634501.0</td>\n",
       "      <td>002484665</td>\n",
       "      <td>262700.0</td>\n",
       "      <td>1.0</td>\n",
       "      <td>www.princeton.edu/</td>\n",
       "      <td></td>\n",
       "      <td></td>\n",
       "      <td></td>\n",
       "      <td>www.princeton.edu/admission/financialaid/estim...</td>\n",
       "      <td>registrar.princeton.edu/student-services/veter...</td>\n",
       "      <td>fs.ncaa.org/Docs/newmedia/public/rates/index.html</td>\n",
       "      <td>www.princeton.edu/ods/</td>\n",
       "      <td>2.0</td>\n",
       "      <td>1.0</td>\n",
       "      <td>2.0</td>\n",
       "      <td>9.0</td>\n",
       "      <td>1.0</td>\n",
       "      <td>1.0</td>\n",
       "      <td>12.0</td>\n",
       "      <td>1.0</td>\n",
       "      <td>2.0</td>\n",
       "      <td>2.0</td>\n",
       "      <td>2.0</td>\n",
       "      <td>2.0</td>\n",
       "      <td>13.0</td>\n",
       "      <td>1.0</td>\n",
       "      <td>A</td>\n",
       "      <td>-2.0</td>\n",
       "      <td>-2.0</td>\n",
       "      <td>-2</td>\n",
       "      <td>1.0</td>\n",
       "      <td>1.0</td>\n",
       "      <td>1.0</td>\n",
       "      <td>1.0</td>\n",
       "      <td>1.0</td>\n",
       "      <td>2.0</td>\n",
       "      <td>15.0</td>\n",
       "      <td>11.0</td>\n",
       "      <td>15.0</td>\n",
       "      <td>14.0</td>\n",
       "      <td>5.0</td>\n",
       "      <td>14.0</td>\n",
       "      <td>15.0</td>\n",
       "      <td>15.0</td>\n",
       "      <td>15.0</td>\n",
       "      <td>2.0</td>\n",
       "      <td>3.0</td>\n",
       "      <td>2.0</td>\n",
       "      <td>-2</td>\n",
       "      <td>-2.0</td>\n",
       "      <td>45940</td>\n",
       "      <td>1</td>\n",
       "      <td>408</td>\n",
       "      <td>-2.0</td>\n",
       "      <td>34021</td>\n",
       "      <td>Mercer County</td>\n",
       "      <td>3412.0</td>\n",
       "      <td>-74.659365</td>\n",
       "      <td>40.348732</td>\n",
       "      <td>96.0</td>\n",
       "      <td>2.0</td>\n",
       "      <td>-74.659365</td>\n",
       "      <td>Trenton-Princeton, NJ</td>\n",
       "      <td>False</td>\n",
       "      <td>106.2</td>\n",
       "      <td>52999.785469</td>\n",
       "      <td>446</td>\n",
       "      <td>53549.473231</td>\n",
       "      <td>52447.014313</td>\n",
       "      <td>49905.636035</td>\n",
       "      <td>50423.232798</td>\n",
       "      <td>49385.135888</td>\n",
       "    </tr>\n",
       "  </tbody>\n",
       "</table>\n",
       "</div>"
      ],
      "text/plain": [
       "   World Rank                            Institution Country  National Rank  \\\n",
       "0         1.0                     Harvard University     USA            1.0   \n",
       "1         2.0  Massachusetts Institute of Technology     USA            2.0   \n",
       "2         3.0                    Stanford University     USA            3.0   \n",
       "3         6.0                   Princeton University     USA            4.0   \n",
       "\n",
       "  Quality of Education Rank Alumni Employment Rank Quality of Faculty Rank  \\\n",
       "0                         1                      1                       1   \n",
       "1                         4                     12                       2   \n",
       "2                        10                      4                       3   \n",
       "3                         5                     15                       7   \n",
       "\n",
       "  Research Performance Rank  Score    UNITID  \\\n",
       "0                         1  100.0  166027.0   \n",
       "1                         8   96.7  166683.0   \n",
       "2                         2   95.1  243744.0   \n",
       "3                        70   92.6  186131.0   \n",
       "\n",
       "                                  INSTNM       IALIAS  \\\n",
       "0                     Harvard University                \n",
       "1  Massachusetts Institute of Technology  MIT, M.I.T.   \n",
       "2                    Stanford University                \n",
       "3                   Princeton University                \n",
       "\n",
       "                      ADDR       CITY STABBR         ZIP  FIPS  OBEREG  \\\n",
       "0       Massachusetts Hall  Cambridge     MA       02138  25.0     1.0   \n",
       "1  77 Massachusetts Avenue  Cambridge     MA  02139-4307  25.0     1.0   \n",
       "2                            Stanford     CA       94305   6.0     8.0   \n",
       "3            1 Nassau Hall  Princeton     NJ  08544-0070  34.0     2.0   \n",
       "\n",
       "                      CHFNM   CHFTITLE     GENTELE          EIN  \\\n",
       "0         Lawrence S. Bacow  President  6174951000   42103580.0   \n",
       "1            L. Rafael Reif  President  6172531000   42103594.0   \n",
       "2      Marc Tessier-Lavigne  President  6507232300  941156365.0   \n",
       "3  Christopher L. Eisgruber  President  6092583000  210634501.0   \n",
       "\n",
       "                            DUNS     OPEID  OPEFLAG             WEBADDR  \\\n",
       "0  082359691|149617367|047006379  215500.0      1.0    www.harvard.edu/   \n",
       "1                      001425594  217800.0      1.0        web.mit.edu/   \n",
       "2                      009214214  130500.0      1.0   www.stanford.edu/   \n",
       "3                      002484665  262700.0      1.0  www.princeton.edu/   \n",
       "\n",
       "                         ADMINURL                            FAIDURL  \\\n",
       "0  college.harvard.edu/admissions  college.harvard.edu/financial-aid   \n",
       "1      https://mitadmissions.org/               https://sfs.mit.edu/   \n",
       "2         admission.stanford.edu/         financialaid.stanford.edu/   \n",
       "3                                                                      \n",
       "\n",
       "                                             APPLURL  \\\n",
       "0  college.harvard.edu/admissions/application-pro...   \n",
       "1                                        my.mit.edu/   \n",
       "2                                     commonapp.org/   \n",
       "3                                                      \n",
       "\n",
       "                                            NPRICURL  \\\n",
       "0  college.harvard.edu/financial-aid/net-price-ca...   \n",
       "1  https://sfs.mit.edu/undergraduate-students/our...   \n",
       "2  www.stanford.edu/dept/finaid/undergrad/how/cal...   \n",
       "3  www.princeton.edu/admission/financialaid/estim...   \n",
       "\n",
       "                                              VETURL  \\\n",
       "0          sfs.harvard.edu/veteran-military-benefits   \n",
       "1  https://sfs.mit.edu/undergraduate-students/typ...   \n",
       "2              exploredegrees.stanford.edu/veterans/   \n",
       "3  registrar.princeton.edu/student-services/veter...   \n",
       "\n",
       "                                              ATHURL  \\\n",
       "0                                                      \n",
       "1                                                      \n",
       "2  parents.stanford.edu/2015/11/09/stanford-athle...   \n",
       "3  fs.ncaa.org/Docs/newmedia/public/rates/index.html   \n",
       "\n",
       "                                             DISAURL  SECTOR  ICLEVEL  \\\n",
       "0                         accessibility.harvard.edu/     2.0      1.0   \n",
       "1                            studentlife.mit.edu/das     2.0      1.0   \n",
       "2  diversityandaccess.stanford.edu/disability-access     2.0      1.0   \n",
       "3                             www.princeton.edu/ods/     2.0      1.0   \n",
       "\n",
       "   CONTROL  HLOFFER  UGOFFER  GROFFER  HDEGOFR1  DEGGRANT  HBCU  HOSPITAL  \\\n",
       "0      2.0      9.0      1.0      1.0      11.0       1.0   2.0       2.0   \n",
       "1      2.0      9.0      1.0      1.0      12.0       1.0   2.0       2.0   \n",
       "2      2.0      9.0      1.0      1.0      11.0       1.0   2.0       1.0   \n",
       "3      2.0      9.0      1.0      1.0      12.0       1.0   2.0       2.0   \n",
       "\n",
       "   MEDICAL  TRIBAL  LOCALE  OPENPUBL ACT  NEWID  DEATHYR CLOSEDAT  CYACTIVE  \\\n",
       "0      1.0     2.0    12.0       1.0  A    -2.0     -2.0       -2       1.0   \n",
       "1      2.0     2.0    12.0       1.0  A    -2.0     -2.0       -2       1.0   \n",
       "2      1.0     2.0    21.0       1.0  A    -2.0     -2.0       -2       1.0   \n",
       "3      2.0     2.0    13.0       1.0  A    -2.0     -2.0       -2       1.0   \n",
       "\n",
       "   POSTSEC  PSEFLAG  PSET4FLG  RPTMTH  INSTCAT  C18BASIC  C18IPUG  C18IPGRD  \\\n",
       "0      1.0      1.0       1.0     1.0      2.0      15.0      8.0      14.0   \n",
       "1      1.0      1.0       1.0     1.0      2.0      15.0     14.0      15.0   \n",
       "2      1.0      1.0       1.0     1.0      2.0      15.0     11.0      14.0   \n",
       "3      1.0      1.0       1.0     1.0      2.0      15.0     11.0      15.0   \n",
       "\n",
       "   C18UGPRF  C18ENPRF  C18SZSET  C15BASIC  CCBASIC  CARNEGIE  LANDGRNT  \\\n",
       "0      14.0       6.0      17.0      15.0     15.0      15.0       2.0   \n",
       "1      14.0       6.0      17.0      15.0     15.0      15.0       1.0   \n",
       "2      14.0       6.0      17.0      15.0     15.0      15.0       2.0   \n",
       "3      14.0       5.0      14.0      15.0     15.0      15.0       2.0   \n",
       "\n",
       "   INSTSIZE  F1SYSTYP F1SYSNAM  F1SYSCOD   CBSA  CBSATYPE  CSA    NECTA  \\\n",
       "0       5.0       2.0       -2      -2.0  14460         1  148  71650.0   \n",
       "1       4.0       2.0       -2      -2.0  14460         1  148  71650.0   \n",
       "2       4.0       2.0       -2      -2.0  41940         1  488     -2.0   \n",
       "3       3.0       2.0       -2      -2.0  45940         1  408     -2.0   \n",
       "\n",
       "   COUNTYCD            COUNTYNM  CNGDSTCD    LONGITUD   LATITUDE  DFRCGID  \\\n",
       "0     25017    Middlesex County    2505.0  -71.118313  42.374471     96.0   \n",
       "1     25017    Middlesex County    2507.0  -71.093226  42.359243     96.0   \n",
       "2      6085  Santa Clara County     618.0 -122.167359  37.429434     96.0   \n",
       "3     34021       Mercer County    3412.0  -74.659365  40.348732     96.0   \n",
       "\n",
       "   DFRCUSCG   LONGITUDE                           CBSA_NAME    dup  RPP_all  \\\n",
       "0       1.0  -71.118313      Boston-Cambridge-Newton, MA-NH  False    115.5   \n",
       "1       1.0  -71.093226      Boston-Cambridge-Newton, MA-NH  False    115.5   \n",
       "2       1.0 -122.167359  San Jose-Sunnyvale-Santa Clara, CA  False    126.7   \n",
       "3       2.0  -74.659365               Trenton-Princeton, NJ  False    106.2   \n",
       "\n",
       "   MEDIAN_SALARY  N_SALARIES  MEDIAN_SALARY_UPPER  MEDIAN_SALARY_LOWER  \\\n",
       "0   55783.941620         493         56164.312487         55205.642506   \n",
       "1   56659.816586         680         56950.613563         56164.312487   \n",
       "2   62476.603840         349         63319.925605         62352.688787   \n",
       "3   52999.785469         446         53549.473231         52447.014313   \n",
       "\n",
       "   REAL_MEDIAN_SALARY  REAL_MEDIAN_SALARY_UPPER  REAL_MEDIAN_SALARY_LOWER  \n",
       "0        48297.784952              48627.110378              47797.093079  \n",
       "1        49056.118257              49307.890531              48627.110378  \n",
       "2        49310.658122              49976.263303              49212.856186  \n",
       "3        49905.636035              50423.232798              49385.135888  "
      ]
     },
     "execution_count": 7,
     "metadata": {},
     "output_type": "execute_result"
    }
   ],
   "source": [
    "university_df[:4]"
   ]
  },
  {
   "cell_type": "markdown",
   "id": "f9bea742",
   "metadata": {},
   "source": [
    "### Threshold number of salaries"
   ]
  },
  {
   "cell_type": "code",
   "execution_count": 8,
   "id": "7cbd8432",
   "metadata": {
    "ExecuteTime": {
     "end_time": "2022-01-17T15:20:56.840517Z",
     "start_time": "2022-01-17T15:20:56.818013Z"
    }
   },
   "outputs": [
    {
     "data": {
      "text/plain": [
       "27572"
      ]
     },
     "execution_count": 8,
     "metadata": {},
     "output_type": "execute_result"
    }
   ],
   "source": [
    "university_df.N_SALARIES.sum()"
   ]
  },
  {
   "cell_type": "code",
   "execution_count": 9,
   "id": "49c5ff15",
   "metadata": {
    "ExecuteTime": {
     "end_time": "2022-01-17T15:20:56.991306Z",
     "start_time": "2022-01-17T15:20:56.973230Z"
    }
   },
   "outputs": [],
   "source": [
    "MIN_N_SALARIES = 25"
   ]
  },
  {
   "cell_type": "code",
   "execution_count": 10,
   "id": "ad60698b",
   "metadata": {
    "ExecuteTime": {
     "end_time": "2022-01-17T15:20:57.178141Z",
     "start_time": "2022-01-17T15:20:57.156033Z"
    }
   },
   "outputs": [
    {
     "data": {
      "text/plain": [
       "129"
      ]
     },
     "execution_count": 10,
     "metadata": {},
     "output_type": "execute_result"
    }
   ],
   "source": [
    "np.sum(university_df.N_SALARIES > MIN_N_SALARIES)"
   ]
  },
  {
   "cell_type": "code",
   "execution_count": 11,
   "id": "1d135358",
   "metadata": {
    "ExecuteTime": {
     "end_time": "2022-01-17T15:20:57.374655Z",
     "start_time": "2022-01-17T15:20:57.347852Z"
    }
   },
   "outputs": [],
   "source": [
    "# \n",
    "university_df = university_df[university_df.N_SALARIES > MIN_N_SALARIES]"
   ]
  },
  {
   "cell_type": "code",
   "execution_count": 12,
   "id": "bf2c6021",
   "metadata": {
    "ExecuteTime": {
     "end_time": "2022-01-17T15:20:57.553173Z",
     "start_time": "2022-01-17T15:20:57.531618Z"
    }
   },
   "outputs": [
    {
     "data": {
      "text/plain": [
       "26964"
      ]
     },
     "execution_count": 12,
     "metadata": {},
     "output_type": "execute_result"
    }
   ],
   "source": [
    "university_df.N_SALARIES.sum()"
   ]
  },
  {
   "cell_type": "code",
   "execution_count": 13,
   "id": "d31921d3",
   "metadata": {
    "ExecuteTime": {
     "end_time": "2022-01-17T15:20:58.206835Z",
     "start_time": "2022-01-17T15:20:57.751665Z"
    }
   },
   "outputs": [
    {
     "name": "stderr",
     "output_type": "stream",
     "text": [
      "findfont: Font family ['sans-serif'] not found. Falling back to DejaVu Sans.\n"
     ]
    },
    {
     "data": {
      "image/png": "[encoded data removed]",
      "text/plain": [
       "<Figure size 432x288 with 1 Axes>"
      ]
     },
     "metadata": {
      "needs_background": "light"
     },
     "output_type": "display_data"
    }
   ],
   "source": [
    "plt.hist(university_df.N_SALARIES, bins = 100);"
   ]
  },
  {
   "cell_type": "code",
   "execution_count": 14,
   "id": "5302c4eb",
   "metadata": {
    "ExecuteTime": {
     "end_time": "2022-01-17T15:20:59.057302Z",
     "start_time": "2022-01-17T15:20:59.032102Z"
    }
   },
   "outputs": [
    {
     "data": {
      "text/plain": [
       "26964"
      ]
     },
     "execution_count": 14,
     "metadata": {},
     "output_type": "execute_result"
    }
   ],
   "source": [
    "np.sum(university_df.N_SALARIES)"
   ]
  },
  {
   "cell_type": "markdown",
   "id": "19a597b1",
   "metadata": {},
   "source": [
    "### Compare median real salary in same regions as median postdoc salary"
   ]
  },
  {
   "cell_type": "code",
   "execution_count": 15,
   "id": "473b1eb0",
   "metadata": {
    "ExecuteTime": {
     "end_time": "2022-01-17T15:21:00.171015Z",
     "start_time": "2022-01-17T15:20:59.793644Z"
    }
   },
   "outputs": [],
   "source": [
    "import seaborn as sns"
   ]
  },
  {
   "cell_type": "code",
   "execution_count": 16,
   "id": "21f8cd55",
   "metadata": {
    "ExecuteTime": {
     "end_time": "2022-01-17T15:21:00.248410Z",
     "start_time": "2022-01-17T15:21:00.221570Z"
    }
   },
   "outputs": [],
   "source": [
    "median_salary_by_area = pd.read_pickle(DATA_DIR/ 'median_salary_by_area.pickle')"
   ]
  },
  {
   "cell_type": "code",
   "execution_count": 17,
   "id": "68e4e021",
   "metadata": {
    "ExecuteTime": {
     "end_time": "2022-01-17T15:21:01.102838Z",
     "start_time": "2022-01-17T15:21:01.066368Z"
    }
   },
   "outputs": [],
   "source": [
    "university_df = university_df.merge(\n",
    "    median_salary_by_area[[\"GeoFips\", \"median_scaled\", \"mean_scaled\", \"median_annual\",\"mean_annual\"\t]],\n",
    "    how=\"left\",\n",
    "    left_on=\"CBSA\",\n",
    "    right_on=\"GeoFips\",\n",
    ")"
   ]
  },
  {
   "cell_type": "code",
   "execution_count": 21,
   "id": "5a365f87",
   "metadata": {
    "ExecuteTime": {
     "end_time": "2022-01-17T15:21:34.126902Z",
     "start_time": "2022-01-17T15:21:34.096227Z"
    }
   },
   "outputs": [
    {
     "name": "stdout",
     "output_type": "stream",
     "text": [
      "['Washington State University' 'University of Mississippi'\n",
      " 'University of Wyoming' 'Mississippi State University'\n",
      " 'Montana State University - Bozeman'] 129\n"
     ]
    }
   ],
   "source": [
    "# there are a few university towns where we don't have salary data\n",
    "print(university_df[university_df[\"median_scaled\"].isnull()].Institution.values, len(university_df))\n",
    "# remove them\n",
    "university_df = university_df[university_df[\"median_scaled\"].isnull() == False]"
   ]
  },
  {
   "cell_type": "code",
   "execution_count": 22,
   "id": "cf92317c",
   "metadata": {
    "ExecuteTime": {
     "end_time": "2022-01-17T15:21:36.616412Z",
     "start_time": "2022-01-17T15:21:36.587150Z"
    }
   },
   "outputs": [
    {
     "data": {
      "text/html": [
       "<svg  width=\"495\" height=\"55\"><rect x=\"0\" y=\"0\" width=\"55\" height=\"55\" style=\"fill:#e41a1c;stroke-width:2;stroke:rgb(255,255,255)\"/><rect x=\"55\" y=\"0\" width=\"55\" height=\"55\" style=\"fill:#377eb8;stroke-width:2;stroke:rgb(255,255,255)\"/><rect x=\"110\" y=\"0\" width=\"55\" height=\"55\" style=\"fill:#4daf4a;stroke-width:2;stroke:rgb(255,255,255)\"/><rect x=\"165\" y=\"0\" width=\"55\" height=\"55\" style=\"fill:#984ea3;stroke-width:2;stroke:rgb(255,255,255)\"/><rect x=\"220\" y=\"0\" width=\"55\" height=\"55\" style=\"fill:#ff7f00;stroke-width:2;stroke:rgb(255,255,255)\"/><rect x=\"275\" y=\"0\" width=\"55\" height=\"55\" style=\"fill:#ffff33;stroke-width:2;stroke:rgb(255,255,255)\"/><rect x=\"330\" y=\"0\" width=\"55\" height=\"55\" style=\"fill:#a65628;stroke-width:2;stroke:rgb(255,255,255)\"/><rect x=\"385\" y=\"0\" width=\"55\" height=\"55\" style=\"fill:#f781bf;stroke-width:2;stroke:rgb(255,255,255)\"/><rect x=\"440\" y=\"0\" width=\"55\" height=\"55\" style=\"fill:#999999;stroke-width:2;stroke:rgb(255,255,255)\"/></svg>"
      ],
      "text/plain": [
       "[(0.8941176470588236, 0.10196078431372549, 0.10980392156862745),\n",
       " (0.21568627450980393, 0.49411764705882355, 0.7215686274509804),\n",
       " (0.30196078431372547, 0.6862745098039216, 0.2901960784313726),\n",
       " (0.596078431372549, 0.3058823529411765, 0.6392156862745098),\n",
       " (1.0, 0.4980392156862745, 0.0),\n",
       " (1.0, 1.0, 0.2),\n",
       " (0.6509803921568628, 0.33725490196078434, 0.1568627450980392),\n",
       " (0.9686274509803922, 0.5058823529411764, 0.7490196078431373),\n",
       " (0.6, 0.6, 0.6)]"
      ]
     },
     "execution_count": 22,
     "metadata": {},
     "output_type": "execute_result"
    }
   ],
   "source": [
    "pal = sns.color_palette('Set1')\n",
    "pal"
   ]
  },
  {
   "cell_type": "code",
   "execution_count": 23,
   "id": "ab3b4bb9",
   "metadata": {
    "ExecuteTime": {
     "end_time": "2022-01-17T15:21:37.179734Z",
     "start_time": "2022-01-17T15:21:37.156354Z"
    }
   },
   "outputs": [],
   "source": [
    "from postdocsalary.paths import save_fig, FIGURE_DIR"
   ]
  },
  {
   "cell_type": "markdown",
   "id": "38515681",
   "metadata": {},
   "source": [
    "### Salary postdoc vs others"
   ]
  },
  {
   "cell_type": "code",
   "execution_count": 55,
   "id": "153bca84",
   "metadata": {
    "ExecuteTime": {
     "end_time": "2022-01-17T15:28:39.165956Z",
     "start_time": "2022-01-17T15:28:39.139384Z"
    }
   },
   "outputs": [],
   "source": [
    "s = 10\n",
    "alpha = 1\n",
    "lw=4"
   ]
  },
  {
   "cell_type": "code",
   "execution_count": 56,
   "id": "134ebd85",
   "metadata": {
    "ExecuteTime": {
     "end_time": "2022-01-17T15:28:40.074350Z",
     "start_time": "2022-01-17T15:28:39.330233Z"
    }
   },
   "outputs": [
    {
     "data": {
      "image/png": "[encoded data removed]",
      "text/plain": [
       "<Figure size 288x432 with 1 Axes>"
      ]
     },
     "metadata": {
      "needs_background": "light"
     },
     "output_type": "display_data"
    }
   ],
   "source": [
    "fig, ax = plt.subplots(figsize=(4,6))\n",
    "#\n",
    "\n",
    "sns.regplot(\n",
    "    x=\"RPP_all\",\n",
    "    y=\"MEDIAN_SALARY\",\n",
    "    data=university_df,\n",
    "    ax=ax,\n",
    "    color = pal[1],\n",
    "    scatter_kws={\n",
    "        \"alpha\": alpha,\n",
    "        \"s\": s,\n",
    "    },\n",
    "    line_kws = {\n",
    "        'lw':lw,\n",
    "        \n",
    "    }\n",
    ")\n",
    "sns.regplot(\n",
    "    x=\"RPP_all\",\n",
    "    y=\"median_annual\",\n",
    "    data=university_df,\n",
    "    ax=ax,\n",
    "    color=\"grey\",\n",
    "    scatter_kws={\n",
    "        \"alpha\": alpha,\n",
    "        \"s\": s,\n",
    "    },\n",
    "    line_kws = {\n",
    "        'lw':lw,\n",
    "        'ls': 'dashed'\n",
    "    }\n",
    ")\n",
    "\n",
    "ax.set_ylim([35000, 65000])\n",
    "ax.spines['top'].set_linewidth(0)\n",
    "ax.spines['right'].set_linewidth(0)\n",
    "ax.spines['bottom'].set_linewidth(4)\n",
    "ax.spines['left'].set_linewidth(0)\n",
    "ax.set_xticks([90, 100, 110, 120, 130])\n",
    "ax.set_xlabel('Regional Price Parity', fontsize=18)\n",
    "ax.set_ylabel('Annual salary (2021 USD)', fontsize=18)\n",
    "ax.set_yticks([40000, 50000, 60000])\n",
    "ax.set_yticklabels(['$40k', '$50k', '$60k'], fontsize=14)\n",
    "ax.xaxis.set_tick_params(labelsize=14)\n",
    "\n",
    "save_fig(FIGURE_DIR / 'salary_postdoc_vs_median')"
   ]
  },
  {
   "cell_type": "markdown",
   "id": "da6ae419",
   "metadata": {},
   "source": [
    "### Real Salary Postdoc vs others"
   ]
  },
  {
   "cell_type": "code",
   "execution_count": 57,
   "id": "9ca26331",
   "metadata": {
    "ExecuteTime": {
     "end_time": "2022-01-17T15:28:46.300689Z",
     "start_time": "2022-01-17T15:28:45.561119Z"
    }
   },
   "outputs": [
    {
     "data": {
      "image/png": "[encoded data removed]",
      "text/plain": [
       "<Figure size 288x432 with 1 Axes>"
      ]
     },
     "metadata": {
      "needs_background": "light"
     },
     "output_type": "display_data"
    }
   ],
   "source": [
    "fig, ax = plt.subplots(figsize=(4,6))\n",
    "sns.regplot(\n",
    "    x=\"RPP_all\",\n",
    "    y=\"REAL_MEDIAN_SALARY\",\n",
    "    data=university_df,\n",
    "    ax=ax,\n",
    "    color = pal[1],\n",
    "    scatter_kws={\n",
    "        \"alpha\": alpha,\n",
    "        \"s\": s,\n",
    "    },\n",
    "    line_kws = {\n",
    "        'lw':lw,\n",
    "        \n",
    "    }\n",
    ")\n",
    "sns.regplot(\n",
    "    x=\"RPP_all\",\n",
    "    y=\"median_scaled\",\n",
    "    data=university_df,\n",
    "    ax=ax,\n",
    "    color=\"grey\",\n",
    "    scatter_kws={\n",
    "        \"alpha\": alpha,\n",
    "        \"s\": s,\n",
    "    },\n",
    "    line_kws = {\n",
    "        'lw':lw,\n",
    "        'ls': 'dashed'\n",
    "    }\n",
    ")\n",
    "\n",
    "ax.set_ylim([35000, 65000])\n",
    "ax.spines['top'].set_linewidth(0)\n",
    "ax.spines['right'].set_linewidth(0)\n",
    "ax.spines['bottom'].set_linewidth(4)\n",
    "ax.spines['left'].set_linewidth(0)\n",
    "ax.set_xticks([90, 100, 110, 120, 130])\n",
    "ax.set_xlabel('Regional Price Parity', fontsize=18)\n",
    "ax.set_ylabel('Real Salary (2021 USD)', fontsize=18)\n",
    "ax.set_yticks([40000, 50000, 60000])\n",
    "ax.set_yticklabels(['$40k', '$50k', '$60k'], fontsize=14)\n",
    "ax.xaxis.set_tick_params(labelsize=14)\n",
    "\n",
    "save_fig(FIGURE_DIR / 'real_salary_postdoc_vs_median')"
   ]
  },
  {
   "cell_type": "code",
   "execution_count": 27,
   "id": "9a1a7143",
   "metadata": {
    "ExecuteTime": {
     "end_time": "2022-01-17T15:22:45.848550Z",
     "start_time": "2022-01-17T15:22:45.726227Z"
    }
   },
   "outputs": [
    {
     "data": {
      "text/html": [
       "<div>\n",
       "<style scoped>\n",
       "    .dataframe tbody tr th:only-of-type {\n",
       "        vertical-align: middle;\n",
       "    }\n",
       "\n",
       "    .dataframe tbody tr th {\n",
       "        vertical-align: top;\n",
       "    }\n",
       "\n",
       "    .dataframe thead th {\n",
       "        text-align: right;\n",
       "    }\n",
       "</style>\n",
       "<table border=\"1\" class=\"dataframe\">\n",
       "  <thead>\n",
       "    <tr style=\"text-align: right;\">\n",
       "      <th></th>\n",
       "      <th>World Rank</th>\n",
       "      <th>Institution</th>\n",
       "      <th>Country</th>\n",
       "      <th>National Rank</th>\n",
       "      <th>Quality of Education Rank</th>\n",
       "      <th>Alumni Employment Rank</th>\n",
       "      <th>Quality of Faculty Rank</th>\n",
       "      <th>Research Performance Rank</th>\n",
       "      <th>Score</th>\n",
       "      <th>UNITID</th>\n",
       "      <th>INSTNM</th>\n",
       "      <th>IALIAS</th>\n",
       "      <th>ADDR</th>\n",
       "      <th>CITY</th>\n",
       "      <th>STABBR</th>\n",
       "      <th>ZIP</th>\n",
       "      <th>FIPS</th>\n",
       "      <th>OBEREG</th>\n",
       "      <th>CHFNM</th>\n",
       "      <th>CHFTITLE</th>\n",
       "      <th>GENTELE</th>\n",
       "      <th>EIN</th>\n",
       "      <th>DUNS</th>\n",
       "      <th>OPEID</th>\n",
       "      <th>OPEFLAG</th>\n",
       "      <th>WEBADDR</th>\n",
       "      <th>ADMINURL</th>\n",
       "      <th>FAIDURL</th>\n",
       "      <th>APPLURL</th>\n",
       "      <th>NPRICURL</th>\n",
       "      <th>VETURL</th>\n",
       "      <th>ATHURL</th>\n",
       "      <th>DISAURL</th>\n",
       "      <th>SECTOR</th>\n",
       "      <th>ICLEVEL</th>\n",
       "      <th>CONTROL</th>\n",
       "      <th>HLOFFER</th>\n",
       "      <th>UGOFFER</th>\n",
       "      <th>GROFFER</th>\n",
       "      <th>HDEGOFR1</th>\n",
       "      <th>DEGGRANT</th>\n",
       "      <th>HBCU</th>\n",
       "      <th>HOSPITAL</th>\n",
       "      <th>MEDICAL</th>\n",
       "      <th>TRIBAL</th>\n",
       "      <th>LOCALE</th>\n",
       "      <th>OPENPUBL</th>\n",
       "      <th>ACT</th>\n",
       "      <th>NEWID</th>\n",
       "      <th>DEATHYR</th>\n",
       "      <th>CLOSEDAT</th>\n",
       "      <th>CYACTIVE</th>\n",
       "      <th>POSTSEC</th>\n",
       "      <th>PSEFLAG</th>\n",
       "      <th>PSET4FLG</th>\n",
       "      <th>RPTMTH</th>\n",
       "      <th>INSTCAT</th>\n",
       "      <th>C18BASIC</th>\n",
       "      <th>C18IPUG</th>\n",
       "      <th>C18IPGRD</th>\n",
       "      <th>C18UGPRF</th>\n",
       "      <th>C18ENPRF</th>\n",
       "      <th>C18SZSET</th>\n",
       "      <th>C15BASIC</th>\n",
       "      <th>CCBASIC</th>\n",
       "      <th>CARNEGIE</th>\n",
       "      <th>LANDGRNT</th>\n",
       "      <th>INSTSIZE</th>\n",
       "      <th>F1SYSTYP</th>\n",
       "      <th>F1SYSNAM</th>\n",
       "      <th>F1SYSCOD</th>\n",
       "      <th>CBSA</th>\n",
       "      <th>CBSATYPE</th>\n",
       "      <th>CSA</th>\n",
       "      <th>NECTA</th>\n",
       "      <th>COUNTYCD</th>\n",
       "      <th>COUNTYNM</th>\n",
       "      <th>CNGDSTCD</th>\n",
       "      <th>LONGITUD</th>\n",
       "      <th>LATITUDE</th>\n",
       "      <th>DFRCGID</th>\n",
       "      <th>DFRCUSCG</th>\n",
       "      <th>LONGITUDE</th>\n",
       "      <th>CBSA_NAME</th>\n",
       "      <th>dup</th>\n",
       "      <th>RPP_all</th>\n",
       "      <th>MEDIAN_SALARY</th>\n",
       "      <th>N_SALARIES</th>\n",
       "      <th>MEDIAN_SALARY_UPPER</th>\n",
       "      <th>MEDIAN_SALARY_LOWER</th>\n",
       "      <th>REAL_MEDIAN_SALARY</th>\n",
       "      <th>REAL_MEDIAN_SALARY_UPPER</th>\n",
       "      <th>REAL_MEDIAN_SALARY_LOWER</th>\n",
       "      <th>GeoFips</th>\n",
       "      <th>median_scaled</th>\n",
       "      <th>mean_scaled</th>\n",
       "      <th>median_annual</th>\n",
       "      <th>mean_annual</th>\n",
       "    </tr>\n",
       "  </thead>\n",
       "  <tbody>\n",
       "    <tr>\n",
       "      <th>0</th>\n",
       "      <td>1.0</td>\n",
       "      <td>Harvard University</td>\n",
       "      <td>USA</td>\n",
       "      <td>1.0</td>\n",
       "      <td>1</td>\n",
       "      <td>1</td>\n",
       "      <td>1</td>\n",
       "      <td>1</td>\n",
       "      <td>100.0</td>\n",
       "      <td>166027.0</td>\n",
       "      <td>Harvard University</td>\n",
       "      <td></td>\n",
       "      <td>Massachusetts Hall</td>\n",
       "      <td>Cambridge</td>\n",
       "      <td>MA</td>\n",
       "      <td>02138</td>\n",
       "      <td>25.0</td>\n",
       "      <td>1.0</td>\n",
       "      <td>Lawrence S. Bacow</td>\n",
       "      <td>President</td>\n",
       "      <td>6174951000</td>\n",
       "      <td>42103580.0</td>\n",
       "      <td>082359691|149617367|047006379</td>\n",
       "      <td>215500.0</td>\n",
       "      <td>1.0</td>\n",
       "      <td>www.harvard.edu/</td>\n",
       "      <td>college.harvard.edu/admissions</td>\n",
       "      <td>college.harvard.edu/financial-aid</td>\n",
       "      <td>college.harvard.edu/admissions/application-pro...</td>\n",
       "      <td>college.harvard.edu/financial-aid/net-price-ca...</td>\n",
       "      <td>sfs.harvard.edu/veteran-military-benefits</td>\n",
       "      <td></td>\n",
       "      <td>accessibility.harvard.edu/</td>\n",
       "      <td>2.0</td>\n",
       "      <td>1.0</td>\n",
       "      <td>2.0</td>\n",
       "      <td>9.0</td>\n",
       "      <td>1.0</td>\n",
       "      <td>1.0</td>\n",
       "      <td>11.0</td>\n",
       "      <td>1.0</td>\n",
       "      <td>2.0</td>\n",
       "      <td>2.0</td>\n",
       "      <td>1.0</td>\n",
       "      <td>2.0</td>\n",
       "      <td>12.0</td>\n",
       "      <td>1.0</td>\n",
       "      <td>A</td>\n",
       "      <td>-2.0</td>\n",
       "      <td>-2.0</td>\n",
       "      <td>-2</td>\n",
       "      <td>1.0</td>\n",
       "      <td>1.0</td>\n",
       "      <td>1.0</td>\n",
       "      <td>1.0</td>\n",
       "      <td>1.0</td>\n",
       "      <td>2.0</td>\n",
       "      <td>15.0</td>\n",
       "      <td>8.0</td>\n",
       "      <td>14.0</td>\n",
       "      <td>14.0</td>\n",
       "      <td>6.0</td>\n",
       "      <td>17.0</td>\n",
       "      <td>15.0</td>\n",
       "      <td>15.0</td>\n",
       "      <td>15.0</td>\n",
       "      <td>2.0</td>\n",
       "      <td>5.0</td>\n",
       "      <td>2.0</td>\n",
       "      <td>-2</td>\n",
       "      <td>-2.0</td>\n",
       "      <td>14460</td>\n",
       "      <td>1</td>\n",
       "      <td>148</td>\n",
       "      <td>71650.0</td>\n",
       "      <td>25017</td>\n",
       "      <td>Middlesex County</td>\n",
       "      <td>2505.0</td>\n",
       "      <td>-71.118313</td>\n",
       "      <td>42.374471</td>\n",
       "      <td>96.0</td>\n",
       "      <td>1.0</td>\n",
       "      <td>-71.118313</td>\n",
       "      <td>Boston-Cambridge-Newton, MA-NH</td>\n",
       "      <td>False</td>\n",
       "      <td>115.5</td>\n",
       "      <td>55783.941620</td>\n",
       "      <td>493</td>\n",
       "      <td>56164.312487</td>\n",
       "      <td>55205.642506</td>\n",
       "      <td>48297.784952</td>\n",
       "      <td>48627.110378</td>\n",
       "      <td>47797.093079</td>\n",
       "      <td>14460.0</td>\n",
       "      <td>49419.913420</td>\n",
       "      <td>63939.393939</td>\n",
       "      <td>57080.0</td>\n",
       "      <td>73850.0</td>\n",
       "    </tr>\n",
       "    <tr>\n",
       "      <th>1</th>\n",
       "      <td>2.0</td>\n",
       "      <td>Massachusetts Institute of Technology</td>\n",
       "      <td>USA</td>\n",
       "      <td>2.0</td>\n",
       "      <td>4</td>\n",
       "      <td>12</td>\n",
       "      <td>2</td>\n",
       "      <td>8</td>\n",
       "      <td>96.7</td>\n",
       "      <td>166683.0</td>\n",
       "      <td>Massachusetts Institute of Technology</td>\n",
       "      <td>MIT, M.I.T.</td>\n",
       "      <td>77 Massachusetts Avenue</td>\n",
       "      <td>Cambridge</td>\n",
       "      <td>MA</td>\n",
       "      <td>02139-4307</td>\n",
       "      <td>25.0</td>\n",
       "      <td>1.0</td>\n",
       "      <td>L. Rafael Reif</td>\n",
       "      <td>President</td>\n",
       "      <td>6172531000</td>\n",
       "      <td>42103594.0</td>\n",
       "      <td>001425594</td>\n",
       "      <td>217800.0</td>\n",
       "      <td>1.0</td>\n",
       "      <td>web.mit.edu/</td>\n",
       "      <td>https://mitadmissions.org/</td>\n",
       "      <td>https://sfs.mit.edu/</td>\n",
       "      <td>my.mit.edu/</td>\n",
       "      <td>https://sfs.mit.edu/undergraduate-students/our...</td>\n",
       "      <td>https://sfs.mit.edu/undergraduate-students/typ...</td>\n",
       "      <td></td>\n",
       "      <td>studentlife.mit.edu/das</td>\n",
       "      <td>2.0</td>\n",
       "      <td>1.0</td>\n",
       "      <td>2.0</td>\n",
       "      <td>9.0</td>\n",
       "      <td>1.0</td>\n",
       "      <td>1.0</td>\n",
       "      <td>12.0</td>\n",
       "      <td>1.0</td>\n",
       "      <td>2.0</td>\n",
       "      <td>2.0</td>\n",
       "      <td>2.0</td>\n",
       "      <td>2.0</td>\n",
       "      <td>12.0</td>\n",
       "      <td>1.0</td>\n",
       "      <td>A</td>\n",
       "      <td>-2.0</td>\n",
       "      <td>-2.0</td>\n",
       "      <td>-2</td>\n",
       "      <td>1.0</td>\n",
       "      <td>1.0</td>\n",
       "      <td>1.0</td>\n",
       "      <td>1.0</td>\n",
       "      <td>1.0</td>\n",
       "      <td>2.0</td>\n",
       "      <td>15.0</td>\n",
       "      <td>14.0</td>\n",
       "      <td>15.0</td>\n",
       "      <td>14.0</td>\n",
       "      <td>6.0</td>\n",
       "      <td>17.0</td>\n",
       "      <td>15.0</td>\n",
       "      <td>15.0</td>\n",
       "      <td>15.0</td>\n",
       "      <td>1.0</td>\n",
       "      <td>4.0</td>\n",
       "      <td>2.0</td>\n",
       "      <td>-2</td>\n",
       "      <td>-2.0</td>\n",
       "      <td>14460</td>\n",
       "      <td>1</td>\n",
       "      <td>148</td>\n",
       "      <td>71650.0</td>\n",
       "      <td>25017</td>\n",
       "      <td>Middlesex County</td>\n",
       "      <td>2507.0</td>\n",
       "      <td>-71.093226</td>\n",
       "      <td>42.359243</td>\n",
       "      <td>96.0</td>\n",
       "      <td>1.0</td>\n",
       "      <td>-71.093226</td>\n",
       "      <td>Boston-Cambridge-Newton, MA-NH</td>\n",
       "      <td>False</td>\n",
       "      <td>115.5</td>\n",
       "      <td>56659.816586</td>\n",
       "      <td>680</td>\n",
       "      <td>56950.613563</td>\n",
       "      <td>56164.312487</td>\n",
       "      <td>49056.118257</td>\n",
       "      <td>49307.890531</td>\n",
       "      <td>48627.110378</td>\n",
       "      <td>14460.0</td>\n",
       "      <td>49419.913420</td>\n",
       "      <td>63939.393939</td>\n",
       "      <td>57080.0</td>\n",
       "      <td>73850.0</td>\n",
       "    </tr>\n",
       "    <tr>\n",
       "      <th>2</th>\n",
       "      <td>3.0</td>\n",
       "      <td>Stanford University</td>\n",
       "      <td>USA</td>\n",
       "      <td>3.0</td>\n",
       "      <td>10</td>\n",
       "      <td>4</td>\n",
       "      <td>3</td>\n",
       "      <td>2</td>\n",
       "      <td>95.1</td>\n",
       "      <td>243744.0</td>\n",
       "      <td>Stanford University</td>\n",
       "      <td></td>\n",
       "      <td></td>\n",
       "      <td>Stanford</td>\n",
       "      <td>CA</td>\n",
       "      <td>94305</td>\n",
       "      <td>6.0</td>\n",
       "      <td>8.0</td>\n",
       "      <td>Marc Tessier-Lavigne</td>\n",
       "      <td>President</td>\n",
       "      <td>6507232300</td>\n",
       "      <td>941156365.0</td>\n",
       "      <td>009214214</td>\n",
       "      <td>130500.0</td>\n",
       "      <td>1.0</td>\n",
       "      <td>www.stanford.edu/</td>\n",
       "      <td>admission.stanford.edu/</td>\n",
       "      <td>financialaid.stanford.edu/</td>\n",
       "      <td>commonapp.org/</td>\n",
       "      <td>www.stanford.edu/dept/finaid/undergrad/how/cal...</td>\n",
       "      <td>exploredegrees.stanford.edu/veterans/</td>\n",
       "      <td>parents.stanford.edu/2015/11/09/stanford-athle...</td>\n",
       "      <td>diversityandaccess.stanford.edu/disability-access</td>\n",
       "      <td>2.0</td>\n",
       "      <td>1.0</td>\n",
       "      <td>2.0</td>\n",
       "      <td>9.0</td>\n",
       "      <td>1.0</td>\n",
       "      <td>1.0</td>\n",
       "      <td>11.0</td>\n",
       "      <td>1.0</td>\n",
       "      <td>2.0</td>\n",
       "      <td>1.0</td>\n",
       "      <td>1.0</td>\n",
       "      <td>2.0</td>\n",
       "      <td>21.0</td>\n",
       "      <td>1.0</td>\n",
       "      <td>A</td>\n",
       "      <td>-2.0</td>\n",
       "      <td>-2.0</td>\n",
       "      <td>-2</td>\n",
       "      <td>1.0</td>\n",
       "      <td>1.0</td>\n",
       "      <td>1.0</td>\n",
       "      <td>1.0</td>\n",
       "      <td>1.0</td>\n",
       "      <td>2.0</td>\n",
       "      <td>15.0</td>\n",
       "      <td>11.0</td>\n",
       "      <td>14.0</td>\n",
       "      <td>14.0</td>\n",
       "      <td>6.0</td>\n",
       "      <td>17.0</td>\n",
       "      <td>15.0</td>\n",
       "      <td>15.0</td>\n",
       "      <td>15.0</td>\n",
       "      <td>2.0</td>\n",
       "      <td>4.0</td>\n",
       "      <td>2.0</td>\n",
       "      <td>-2</td>\n",
       "      <td>-2.0</td>\n",
       "      <td>41940</td>\n",
       "      <td>1</td>\n",
       "      <td>488</td>\n",
       "      <td>-2.0</td>\n",
       "      <td>6085</td>\n",
       "      <td>Santa Clara County</td>\n",
       "      <td>618.0</td>\n",
       "      <td>-122.167359</td>\n",
       "      <td>37.429434</td>\n",
       "      <td>96.0</td>\n",
       "      <td>1.0</td>\n",
       "      <td>-122.167359</td>\n",
       "      <td>San Jose-Sunnyvale-Santa Clara, CA</td>\n",
       "      <td>False</td>\n",
       "      <td>126.7</td>\n",
       "      <td>62476.603840</td>\n",
       "      <td>349</td>\n",
       "      <td>63319.925605</td>\n",
       "      <td>62352.688787</td>\n",
       "      <td>49310.658122</td>\n",
       "      <td>49976.263303</td>\n",
       "      <td>49212.856186</td>\n",
       "      <td>41940.0</td>\n",
       "      <td>54948.697711</td>\n",
       "      <td>73756.906077</td>\n",
       "      <td>69620.0</td>\n",
       "      <td>93450.0</td>\n",
       "    </tr>\n",
       "  </tbody>\n",
       "</table>\n",
       "</div>"
      ],
      "text/plain": [
       "   World Rank                            Institution Country  National Rank  \\\n",
       "0         1.0                     Harvard University     USA            1.0   \n",
       "1         2.0  Massachusetts Institute of Technology     USA            2.0   \n",
       "2         3.0                    Stanford University     USA            3.0   \n",
       "\n",
       "  Quality of Education Rank Alumni Employment Rank Quality of Faculty Rank  \\\n",
       "0                         1                      1                       1   \n",
       "1                         4                     12                       2   \n",
       "2                        10                      4                       3   \n",
       "\n",
       "  Research Performance Rank  Score    UNITID  \\\n",
       "0                         1  100.0  166027.0   \n",
       "1                         8   96.7  166683.0   \n",
       "2                         2   95.1  243744.0   \n",
       "\n",
       "                                  INSTNM       IALIAS  \\\n",
       "0                     Harvard University                \n",
       "1  Massachusetts Institute of Technology  MIT, M.I.T.   \n",
       "2                    Stanford University                \n",
       "\n",
       "                      ADDR       CITY STABBR         ZIP  FIPS  OBEREG  \\\n",
       "0       Massachusetts Hall  Cambridge     MA       02138  25.0     1.0   \n",
       "1  77 Massachusetts Avenue  Cambridge     MA  02139-4307  25.0     1.0   \n",
       "2                            Stanford     CA       94305   6.0     8.0   \n",
       "\n",
       "                  CHFNM   CHFTITLE     GENTELE          EIN  \\\n",
       "0     Lawrence S. Bacow  President  6174951000   42103580.0   \n",
       "1        L. Rafael Reif  President  6172531000   42103594.0   \n",
       "2  Marc Tessier-Lavigne  President  6507232300  941156365.0   \n",
       "\n",
       "                            DUNS     OPEID  OPEFLAG            WEBADDR  \\\n",
       "0  082359691|149617367|047006379  215500.0      1.0   www.harvard.edu/   \n",
       "1                      001425594  217800.0      1.0       web.mit.edu/   \n",
       "2                      009214214  130500.0      1.0  www.stanford.edu/   \n",
       "\n",
       "                         ADMINURL                            FAIDURL  \\\n",
       "0  college.harvard.edu/admissions  college.harvard.edu/financial-aid   \n",
       "1      https://mitadmissions.org/               https://sfs.mit.edu/   \n",
       "2         admission.stanford.edu/         financialaid.stanford.edu/   \n",
       "\n",
       "                                             APPLURL  \\\n",
       "0  college.harvard.edu/admissions/application-pro...   \n",
       "1                                        my.mit.edu/   \n",
       "2                                     commonapp.org/   \n",
       "\n",
       "                                            NPRICURL  \\\n",
       "0  college.harvard.edu/financial-aid/net-price-ca...   \n",
       "1  https://sfs.mit.edu/undergraduate-students/our...   \n",
       "2  www.stanford.edu/dept/finaid/undergrad/how/cal...   \n",
       "\n",
       "                                              VETURL  \\\n",
       "0          sfs.harvard.edu/veteran-military-benefits   \n",
       "1  https://sfs.mit.edu/undergraduate-students/typ...   \n",
       "2              exploredegrees.stanford.edu/veterans/   \n",
       "\n",
       "                                              ATHURL  \\\n",
       "0                                                      \n",
       "1                                                      \n",
       "2  parents.stanford.edu/2015/11/09/stanford-athle...   \n",
       "\n",
       "                                             DISAURL  SECTOR  ICLEVEL  \\\n",
       "0                         accessibility.harvard.edu/     2.0      1.0   \n",
       "1                            studentlife.mit.edu/das     2.0      1.0   \n",
       "2  diversityandaccess.stanford.edu/disability-access     2.0      1.0   \n",
       "\n",
       "   CONTROL  HLOFFER  UGOFFER  GROFFER  HDEGOFR1  DEGGRANT  HBCU  HOSPITAL  \\\n",
       "0      2.0      9.0      1.0      1.0      11.0       1.0   2.0       2.0   \n",
       "1      2.0      9.0      1.0      1.0      12.0       1.0   2.0       2.0   \n",
       "2      2.0      9.0      1.0      1.0      11.0       1.0   2.0       1.0   \n",
       "\n",
       "   MEDICAL  TRIBAL  LOCALE  OPENPUBL ACT  NEWID  DEATHYR CLOSEDAT  CYACTIVE  \\\n",
       "0      1.0     2.0    12.0       1.0  A    -2.0     -2.0       -2       1.0   \n",
       "1      2.0     2.0    12.0       1.0  A    -2.0     -2.0       -2       1.0   \n",
       "2      1.0     2.0    21.0       1.0  A    -2.0     -2.0       -2       1.0   \n",
       "\n",
       "   POSTSEC  PSEFLAG  PSET4FLG  RPTMTH  INSTCAT  C18BASIC  C18IPUG  C18IPGRD  \\\n",
       "0      1.0      1.0       1.0     1.0      2.0      15.0      8.0      14.0   \n",
       "1      1.0      1.0       1.0     1.0      2.0      15.0     14.0      15.0   \n",
       "2      1.0      1.0       1.0     1.0      2.0      15.0     11.0      14.0   \n",
       "\n",
       "   C18UGPRF  C18ENPRF  C18SZSET  C15BASIC  CCBASIC  CARNEGIE  LANDGRNT  \\\n",
       "0      14.0       6.0      17.0      15.0     15.0      15.0       2.0   \n",
       "1      14.0       6.0      17.0      15.0     15.0      15.0       1.0   \n",
       "2      14.0       6.0      17.0      15.0     15.0      15.0       2.0   \n",
       "\n",
       "   INSTSIZE  F1SYSTYP F1SYSNAM  F1SYSCOD   CBSA  CBSATYPE  CSA    NECTA  \\\n",
       "0       5.0       2.0       -2      -2.0  14460         1  148  71650.0   \n",
       "1       4.0       2.0       -2      -2.0  14460         1  148  71650.0   \n",
       "2       4.0       2.0       -2      -2.0  41940         1  488     -2.0   \n",
       "\n",
       "   COUNTYCD            COUNTYNM  CNGDSTCD    LONGITUD   LATITUDE  DFRCGID  \\\n",
       "0     25017    Middlesex County    2505.0  -71.118313  42.374471     96.0   \n",
       "1     25017    Middlesex County    2507.0  -71.093226  42.359243     96.0   \n",
       "2      6085  Santa Clara County     618.0 -122.167359  37.429434     96.0   \n",
       "\n",
       "   DFRCUSCG   LONGITUDE                           CBSA_NAME    dup  RPP_all  \\\n",
       "0       1.0  -71.118313      Boston-Cambridge-Newton, MA-NH  False    115.5   \n",
       "1       1.0  -71.093226      Boston-Cambridge-Newton, MA-NH  False    115.5   \n",
       "2       1.0 -122.167359  San Jose-Sunnyvale-Santa Clara, CA  False    126.7   \n",
       "\n",
       "   MEDIAN_SALARY  N_SALARIES  MEDIAN_SALARY_UPPER  MEDIAN_SALARY_LOWER  \\\n",
       "0   55783.941620         493         56164.312487         55205.642506   \n",
       "1   56659.816586         680         56950.613563         56164.312487   \n",
       "2   62476.603840         349         63319.925605         62352.688787   \n",
       "\n",
       "   REAL_MEDIAN_SALARY  REAL_MEDIAN_SALARY_UPPER  REAL_MEDIAN_SALARY_LOWER  \\\n",
       "0        48297.784952              48627.110378              47797.093079   \n",
       "1        49056.118257              49307.890531              48627.110378   \n",
       "2        49310.658122              49976.263303              49212.856186   \n",
       "\n",
       "   GeoFips  median_scaled   mean_scaled  median_annual  mean_annual  \n",
       "0  14460.0   49419.913420  63939.393939        57080.0      73850.0  \n",
       "1  14460.0   49419.913420  63939.393939        57080.0      73850.0  \n",
       "2  41940.0   54948.697711  73756.906077        69620.0      93450.0  "
      ]
     },
     "execution_count": 27,
     "metadata": {},
     "output_type": "execute_result"
    }
   ],
   "source": [
    "university_df[:3]"
   ]
  },
  {
   "cell_type": "code",
   "execution_count": 28,
   "id": "3459a3f3",
   "metadata": {
    "ExecuteTime": {
     "end_time": "2022-01-17T15:22:46.624038Z",
     "start_time": "2022-01-17T15:22:46.596036Z"
    }
   },
   "outputs": [
    {
     "data": {
      "text/plain": [
       "0      49419.913420\n",
       "1      49419.913420\n",
       "2      54948.697711\n",
       "3      51996.233522\n",
       "4      41384.248210\n",
       "           ...     \n",
       "124    47152.317881\n",
       "125    40882.103478\n",
       "126    47985.901309\n",
       "127    48977.528090\n",
       "128    41384.248210\n",
       "Name: median_scaled, Length: 124, dtype: float64"
      ]
     },
     "execution_count": 28,
     "metadata": {},
     "output_type": "execute_result"
    }
   ],
   "source": [
    "university_df[\"median_scaled\"]"
   ]
  },
  {
   "cell_type": "markdown",
   "id": "62690ac3",
   "metadata": {},
   "source": [
    "### Statistics"
   ]
  },
  {
   "cell_type": "code",
   "execution_count": 58,
   "id": "7d51c373",
   "metadata": {
    "ExecuteTime": {
     "end_time": "2022-01-17T15:32:40.864016Z",
     "start_time": "2022-01-17T15:32:40.837263Z"
    }
   },
   "outputs": [],
   "source": [
    "# taken as the median salaries across the entire salary dataset\n",
    "overall_median_salary = 53100.08961257449\n",
    "overall_median_real_salary = 51848.669708466055"
   ]
  },
  {
   "cell_type": "code",
   "execution_count": 47,
   "id": "0ceb82a2",
   "metadata": {
    "ExecuteTime": {
     "end_time": "2022-01-17T15:26:56.621528Z",
     "start_time": "2022-01-17T15:26:56.596352Z"
    }
   },
   "outputs": [],
   "source": [
    "from scipy.stats import pearsonr"
   ]
  },
  {
   "cell_type": "code",
   "execution_count": 48,
   "id": "d0dc64ba",
   "metadata": {
    "ExecuteTime": {
     "end_time": "2022-01-17T15:26:56.720191Z",
     "start_time": "2022-01-17T15:26:56.691443Z"
    }
   },
   "outputs": [
    {
     "name": "stdout",
     "output_type": "stream",
     "text": [
      "85.1 134.5\n",
      "13.674651037648143 42724.932909809846\n",
      "43888.6457131137 44564.17347437352\n",
      "-675.527761259822\n"
     ]
    }
   ],
   "source": [
    "x = university_df[\"RPP_all\"]\n",
    "y = university_df[\"median_scaled\"]\n",
    "m, b = np.polyfit(x, y, 1)\n",
    "print(np.min(x), np.max(x))\n",
    "print(m,b)\n",
    "print(b+ m*np.min(x), b+ m*np.max(x))\n",
    "print((b+ m*np.min(x))- (b+ m*np.max(x)))"
   ]
  },
  {
   "cell_type": "code",
   "execution_count": 53,
   "id": "c2c09f81",
   "metadata": {
    "ExecuteTime": {
     "end_time": "2022-01-17T15:27:50.072697Z",
     "start_time": "2022-01-17T15:27:50.042850Z"
    }
   },
   "outputs": [
    {
     "data": {
      "text/plain": [
       "124"
      ]
     },
     "execution_count": 53,
     "metadata": {},
     "output_type": "execute_result"
    }
   ],
   "source": [
    "len(x)"
   ]
  },
  {
   "cell_type": "code",
   "execution_count": 49,
   "id": "8ea5fa8b",
   "metadata": {
    "ExecuteTime": {
     "end_time": "2022-01-17T15:26:57.594456Z",
     "start_time": "2022-01-17T15:26:57.567925Z"
    }
   },
   "outputs": [
    {
     "data": {
      "text/plain": [
       "(0.0431945234083775, 0.6338286713521851)"
      ]
     },
     "execution_count": 49,
     "metadata": {},
     "output_type": "execute_result"
    }
   ],
   "source": [
    "pearsonr(x, y)"
   ]
  },
  {
   "cell_type": "code",
   "execution_count": 50,
   "id": "189d71a1",
   "metadata": {
    "ExecuteTime": {
     "end_time": "2022-01-17T15:27:03.445951Z",
     "start_time": "2022-01-17T15:27:03.416149Z"
    }
   },
   "outputs": [
    {
     "name": "stdout",
     "output_type": "stream",
     "text": [
      "85.1 134.5\n",
      "-306.2903368718619 83579.61280646292\n",
      "57514.30513866747 42383.56249719749\n",
      "15130.74264146998\n"
     ]
    }
   ],
   "source": [
    "x = university_df[\"RPP_all\"]\n",
    "y = university_df[\"REAL_MEDIAN_SALARY\"]\n",
    "m, b = np.polyfit(x, y, 1)\n",
    "print(np.min(x), np.max(x))\n",
    "print(m,b)\n",
    "print(b+ m*np.min(x), b+ m*np.max(x))\n",
    "print((b+ m*np.min(x))- (b+ m*np.max(x)))"
   ]
  },
  {
   "cell_type": "code",
   "execution_count": 59,
   "id": "d7a6c4a8",
   "metadata": {
    "ExecuteTime": {
     "end_time": "2022-01-17T15:32:53.341876Z",
     "start_time": "2022-01-17T15:32:53.313163Z"
    }
   },
   "outputs": [],
   "source": [
    "diff = (b+ m*np.min(x))- (b+ m*np.max(x))"
   ]
  },
  {
   "cell_type": "code",
   "execution_count": 60,
   "id": "b747c8c8",
   "metadata": {
    "ExecuteTime": {
     "end_time": "2022-01-17T15:32:57.535633Z",
     "start_time": "2022-01-17T15:32:57.367805Z"
    }
   },
   "outputs": [
    {
     "data": {
      "text/plain": [
       "0.2918250887929604"
      ]
     },
     "execution_count": 60,
     "metadata": {},
     "output_type": "execute_result"
    }
   ],
   "source": [
    "diff / overall_median_real_salary"
   ]
  },
  {
   "cell_type": "code",
   "execution_count": 54,
   "id": "130f752d",
   "metadata": {
    "ExecuteTime": {
     "end_time": "2022-01-17T15:27:51.783507Z",
     "start_time": "2022-01-17T15:27:51.759910Z"
    }
   },
   "outputs": [
    {
     "data": {
      "text/plain": [
       "124"
      ]
     },
     "execution_count": 54,
     "metadata": {},
     "output_type": "execute_result"
    }
   ],
   "source": [
    "len(x)"
   ]
  },
  {
   "cell_type": "code",
   "execution_count": 51,
   "id": "a23bc6a1",
   "metadata": {
    "ExecuteTime": {
     "end_time": "2022-01-17T15:27:03.630144Z",
     "start_time": "2022-01-17T15:27:03.605395Z"
    }
   },
   "outputs": [
    {
     "data": {
      "text/plain": [
       "(-0.8453266186081511, 5.17935892577714e-35)"
      ]
     },
     "execution_count": 51,
     "metadata": {},
     "output_type": "execute_result"
    }
   ],
   "source": [
    "pearsonr(x, y)"
   ]
  }
 ],
 "metadata": {
  "kernelspec": {
   "display_name": "postdoc",
   "language": "python",
   "name": "postdoc"
  },
  "language_info": {
   "codemirror_mode": {
    "name": "ipython",
    "version": 3
   },
   "file_extension": ".py",
   "mimetype": "text/x-python",
   "name": "python",
   "nbconvert_exporter": "python",
   "pygments_lexer": "ipython3",
   "version": "3.8.12"
  }
 },
 "nbformat": 4,
 "nbformat_minor": 5
}
