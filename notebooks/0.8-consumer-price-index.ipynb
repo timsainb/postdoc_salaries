{
 "cells": [
  {
   "cell_type": "markdown",
   "id": "90b4e3c8",
   "metadata": {},
   "source": [
    "CPI over time\n",
    "- https://beta.bls.gov/dataQuery/find?st=0&r=20&s=popularity%3AD&fq=survey:[cu]&more=0\n",
    "- https://www.bls.gov/regions/west/factsheet/consumer-price-index-data-tables.htm\n",
    "- https://data.bls.gov/timeseries/CUURS49ESA0\n",
    "- https://www.bls.gov/regions/west/factsheet/consumer-price-index-data-tables.htm"
   ]
  },
  {
   "cell_type": "code",
   "execution_count": 1,
   "id": "1cdb912f",
   "metadata": {
    "ExecuteTime": {
     "end_time": "2022-01-13T02:21:50.109708Z",
     "start_time": "2022-01-13T02:21:50.087430Z"
    }
   },
   "outputs": [],
   "source": [
    "%load_ext autoreload\n",
    "%autoreload 2"
   ]
  },
  {
   "cell_type": "code",
   "execution_count": 2,
   "id": "c8988e77",
   "metadata": {
    "ExecuteTime": {
     "end_time": "2022-01-13T02:21:51.010375Z",
     "start_time": "2022-01-13T02:21:50.265560Z"
    }
   },
   "outputs": [
    {
     "name": "stderr",
     "output_type": "stream",
     "text": [
      "<ipython-input-2-37777429a894>:5: TqdmExperimentalWarning: Using `tqdm.autonotebook.tqdm` in notebook mode. Use `tqdm.tqdm` instead to force console mode (e.g. in jupyter console)\n",
      "  from tqdm.autonotebook import tqdm\n"
     ]
    }
   ],
   "source": [
    "import numpy as np\n",
    "import pandas as pd\n",
    "import matplotlib.pyplot as plt\n",
    "%matplotlib inline\n",
    "from tqdm.autonotebook import tqdm\n",
    "from postdocsalary.paths import DATA_DIR, ensure_dir\n",
    "import urllib.request"
   ]
  },
  {
   "cell_type": "code",
   "execution_count": 3,
   "id": "9a9b8b05",
   "metadata": {
    "ExecuteTime": {
     "end_time": "2022-01-13T02:21:51.032089Z",
     "start_time": "2022-01-13T02:21:51.012535Z"
    }
   },
   "outputs": [
    {
     "data": {
      "text/plain": [
       "'CPI_df = pd.read_csv(DATA_DIR / \"CPI\" / \"us-average-all-items.csv\")\\nCPI_df[\"Date\"] = [\\n    float(row.Year) if row.Period == \"S01\" else float(row.Year) + 0.5\\n    for idx, row in CPI_df.iterrows()\\n]\\nCPI_df[\\'US_averages\\'] = CPI_df[\\'Value\\']\\nCPI_df[:3]'"
      ]
     },
     "execution_count": 3,
     "metadata": {},
     "output_type": "execute_result"
    }
   ],
   "source": [
    "\"\"\"CPI_df = pd.read_csv(DATA_DIR / \"CPI\" / \"us-average-all-items.csv\")\n",
    "CPI_df[\"Date\"] = [\n",
    "    float(row.Year) if row.Period == \"S01\" else float(row.Year) + 0.5\n",
    "]\n",
    "CPI_df['US_averages'] = CPI_df['Value']\n",
    "CPI_df[:3]\"\"\""
   ]
  },
  {
   "cell_type": "code",
   "execution_count": 4,
   "id": "54aa2563",
   "metadata": {
    "ExecuteTime": {
     "end_time": "2022-01-13T02:21:51.048638Z",
     "start_time": "2022-01-13T02:21:51.034231Z"
    }
   },
   "outputs": [],
   "source": [
    "cities = [\n",
    "    \"boston\",\n",
    "    \"new-york\",\n",
    "    \"san-diego\",\n",
    "    \"san-francisco\",\n",
    "    \"chicago\",\n",
    "    \"pittsburgh\",\n",
    "    \"baltimore\",\n",
    "    \"portland\",\n",
    "    \"houston\",\n",
    "]"
   ]
  },
  {
   "cell_type": "code",
   "execution_count": 5,
   "id": "0f399399",
   "metadata": {
    "ExecuteTime": {
     "end_time": "2022-01-13T02:21:52.907321Z",
     "start_time": "2022-01-13T02:21:51.050599Z"
    }
   },
   "outputs": [
    {
     "data": {
      "text/html": [
       "<div>\n",
       "<style scoped>\n",
       "    .dataframe tbody tr th:only-of-type {\n",
       "        vertical-align: middle;\n",
       "    }\n",
       "\n",
       "    .dataframe tbody tr th {\n",
       "        vertical-align: top;\n",
       "    }\n",
       "\n",
       "    .dataframe thead th {\n",
       "        text-align: right;\n",
       "    }\n",
       "</style>\n",
       "<table border=\"1\" class=\"dataframe\">\n",
       "  <thead>\n",
       "    <tr style=\"text-align: right;\">\n",
       "      <th>CITY</th>\n",
       "      <th>baltimore</th>\n",
       "      <th>boston</th>\n",
       "      <th>chicago</th>\n",
       "      <th>houston</th>\n",
       "      <th>new-york</th>\n",
       "      <th>pittsburgh</th>\n",
       "      <th>portland</th>\n",
       "      <th>san-diego</th>\n",
       "      <th>san-francisco</th>\n",
       "      <th>us-average</th>\n",
       "    </tr>\n",
       "    <tr>\n",
       "      <th>Year</th>\n",
       "      <th></th>\n",
       "      <th></th>\n",
       "      <th></th>\n",
       "      <th></th>\n",
       "      <th></th>\n",
       "      <th></th>\n",
       "      <th></th>\n",
       "      <th></th>\n",
       "      <th></th>\n",
       "      <th></th>\n",
       "    </tr>\n",
       "  </thead>\n",
       "  <tbody>\n",
       "    <tr>\n",
       "      <th>1984</th>\n",
       "      <td>104.55</td>\n",
       "      <td>104.70</td>\n",
       "      <td>103.80</td>\n",
       "      <td>102.70</td>\n",
       "      <td>104.80</td>\n",
       "      <td>104.55</td>\n",
       "      <td>102.85</td>\n",
       "      <td>104.75</td>\n",
       "      <td>104.00</td>\n",
       "      <td>103.883333</td>\n",
       "    </tr>\n",
       "    <tr>\n",
       "      <th>1985</th>\n",
       "      <td>108.20</td>\n",
       "      <td>109.40</td>\n",
       "      <td>107.75</td>\n",
       "      <td>104.90</td>\n",
       "      <td>108.70</td>\n",
       "      <td>106.90</td>\n",
       "      <td>106.70</td>\n",
       "      <td>110.35</td>\n",
       "      <td>108.35</td>\n",
       "      <td>107.566667</td>\n",
       "    </tr>\n",
       "    <tr>\n",
       "      <th>1986</th>\n",
       "      <td>110.90</td>\n",
       "      <td>112.25</td>\n",
       "      <td>110.00</td>\n",
       "      <td>103.95</td>\n",
       "      <td>112.25</td>\n",
       "      <td>108.25</td>\n",
       "      <td>108.20</td>\n",
       "      <td>113.50</td>\n",
       "      <td>111.65</td>\n",
       "      <td>109.608333</td>\n",
       "    </tr>\n",
       "  </tbody>\n",
       "</table>\n",
       "</div>"
      ],
      "text/plain": [
       "CITY  baltimore  boston  chicago  houston  new-york  pittsburgh  portland  \\\n",
       "Year                                                                        \n",
       "1984     104.55  104.70   103.80   102.70    104.80      104.55    102.85   \n",
       "1985     108.20  109.40   107.75   104.90    108.70      106.90    106.70   \n",
       "1986     110.90  112.25   110.00   103.95    112.25      108.25    108.20   \n",
       "\n",
       "CITY  san-diego  san-francisco  us-average  \n",
       "Year                                        \n",
       "1984     104.75         104.00  103.883333  \n",
       "1985     110.35         108.35  107.566667  \n",
       "1986     113.50         111.65  109.608333  "
      ]
     },
     "execution_count": 5,
     "metadata": {},
     "output_type": "execute_result"
    }
   ],
   "source": [
    "all_dfs = []\n",
    "for city in [\"us-average\"]+ cities:\n",
    "    city_df = pd.read_csv(DATA_DIR / \"CPI\" / \"{}-all-items.csv\".format(city))\n",
    "    city_df[\"CITY\"] = city\n",
    "    city_df[\"CPI\"] = city_df[\"Value\"]\n",
    "    all_dfs.append(city_df)\n",
    "CPI_all_df_stacked = pd.concat(all_dfs)\n",
    "CPI_all_df = (\n",
    "    CPI_all_df_stacked[[\"Year\", \"CPI\", \"CITY\"]]\n",
    "    .groupby([\"Year\", \"CITY\"])\n",
    "    .describe()[[\"CPI\"]][\"CPI\"][\"mean\"]\n",
    ")\n",
    "CPI_all_df = pd.DataFrame(CPI_all_df).reset_index()\n",
    "CPI_all_df = CPI_all_df.pivot(index=\"Year\", columns=\"CITY\", values=\"mean\")\n",
    "CPI_all_df[:3]"
   ]
  },
  {
   "cell_type": "code",
   "execution_count": 6,
   "id": "412b35f0",
   "metadata": {
    "ExecuteTime": {
     "end_time": "2022-01-13T02:21:52.929883Z",
     "start_time": "2022-01-13T02:21:52.909268Z"
    }
   },
   "outputs": [
    {
     "data": {
      "text/html": [
       "<div>\n",
       "<style scoped>\n",
       "    .dataframe tbody tr th:only-of-type {\n",
       "        vertical-align: middle;\n",
       "    }\n",
       "\n",
       "    .dataframe tbody tr th {\n",
       "        vertical-align: top;\n",
       "    }\n",
       "\n",
       "    .dataframe thead th {\n",
       "        text-align: right;\n",
       "    }\n",
       "</style>\n",
       "<table border=\"1\" class=\"dataframe\">\n",
       "  <thead>\n",
       "    <tr style=\"text-align: right;\">\n",
       "      <th></th>\n",
       "      <th>Series ID</th>\n",
       "      <th>Year</th>\n",
       "      <th>Period</th>\n",
       "      <th>Label</th>\n",
       "      <th>Value</th>\n",
       "      <th>CITY</th>\n",
       "      <th>CPI</th>\n",
       "    </tr>\n",
       "  </thead>\n",
       "  <tbody>\n",
       "    <tr>\n",
       "      <th>0</th>\n",
       "      <td>CUUR0000SA0</td>\n",
       "      <td>1984</td>\n",
       "      <td>M01</td>\n",
       "      <td>1984 Jan</td>\n",
       "      <td>101.9</td>\n",
       "      <td>us-average</td>\n",
       "      <td>101.9</td>\n",
       "    </tr>\n",
       "    <tr>\n",
       "      <th>1</th>\n",
       "      <td>CUUR0000SA0</td>\n",
       "      <td>1984</td>\n",
       "      <td>M02</td>\n",
       "      <td>1984 Feb</td>\n",
       "      <td>102.4</td>\n",
       "      <td>us-average</td>\n",
       "      <td>102.4</td>\n",
       "    </tr>\n",
       "    <tr>\n",
       "      <th>2</th>\n",
       "      <td>CUUR0000SA0</td>\n",
       "      <td>1984</td>\n",
       "      <td>M03</td>\n",
       "      <td>1984 Mar</td>\n",
       "      <td>102.6</td>\n",
       "      <td>us-average</td>\n",
       "      <td>102.6</td>\n",
       "    </tr>\n",
       "  </tbody>\n",
       "</table>\n",
       "</div>"
      ],
      "text/plain": [
       "     Series ID  Year Period     Label  Value        CITY    CPI\n",
       "0  CUUR0000SA0  1984    M01  1984 Jan  101.9  us-average  101.9\n",
       "1  CUUR0000SA0  1984    M02  1984 Feb  102.4  us-average  102.4\n",
       "2  CUUR0000SA0  1984    M03  1984 Mar  102.6  us-average  102.6"
      ]
     },
     "execution_count": 6,
     "metadata": {},
     "output_type": "execute_result"
    }
   ],
   "source": [
    "CPI_all_df_stacked[:3]"
   ]
  },
  {
   "cell_type": "code",
   "execution_count": 7,
   "id": "6490096a",
   "metadata": {
    "ExecuteTime": {
     "end_time": "2022-01-13T02:21:52.955606Z",
     "start_time": "2022-01-13T02:21:52.931514Z"
    }
   },
   "outputs": [
    {
     "data": {
      "text/html": [
       "<div>\n",
       "<style scoped>\n",
       "    .dataframe tbody tr th:only-of-type {\n",
       "        vertical-align: middle;\n",
       "    }\n",
       "\n",
       "    .dataframe tbody tr th {\n",
       "        vertical-align: top;\n",
       "    }\n",
       "\n",
       "    .dataframe thead th {\n",
       "        text-align: right;\n",
       "    }\n",
       "</style>\n",
       "<table border=\"1\" class=\"dataframe\">\n",
       "  <thead>\n",
       "    <tr style=\"text-align: right;\">\n",
       "      <th>CITY</th>\n",
       "      <th>Year</th>\n",
       "      <th>baltimore</th>\n",
       "      <th>boston</th>\n",
       "      <th>chicago</th>\n",
       "      <th>houston</th>\n",
       "      <th>new-york</th>\n",
       "      <th>pittsburgh</th>\n",
       "      <th>portland</th>\n",
       "      <th>san-diego</th>\n",
       "      <th>san-francisco</th>\n",
       "      <th>us-average</th>\n",
       "    </tr>\n",
       "  </thead>\n",
       "  <tbody>\n",
       "    <tr>\n",
       "      <th>0</th>\n",
       "      <td>1984</td>\n",
       "      <td>0.666667</td>\n",
       "      <td>0.816667</td>\n",
       "      <td>-0.083333</td>\n",
       "      <td>-1.183333</td>\n",
       "      <td>0.916667</td>\n",
       "      <td>0.666667</td>\n",
       "      <td>-1.033333</td>\n",
       "      <td>0.866667</td>\n",
       "      <td>0.116667</td>\n",
       "      <td>0.0</td>\n",
       "    </tr>\n",
       "    <tr>\n",
       "      <th>1</th>\n",
       "      <td>1985</td>\n",
       "      <td>0.633333</td>\n",
       "      <td>1.833333</td>\n",
       "      <td>0.183333</td>\n",
       "      <td>-2.666667</td>\n",
       "      <td>1.133333</td>\n",
       "      <td>-0.666667</td>\n",
       "      <td>-0.866667</td>\n",
       "      <td>2.783333</td>\n",
       "      <td>0.783333</td>\n",
       "      <td>0.0</td>\n",
       "    </tr>\n",
       "    <tr>\n",
       "      <th>2</th>\n",
       "      <td>1986</td>\n",
       "      <td>1.291667</td>\n",
       "      <td>2.641667</td>\n",
       "      <td>0.391667</td>\n",
       "      <td>-5.658333</td>\n",
       "      <td>2.641667</td>\n",
       "      <td>-1.358333</td>\n",
       "      <td>-1.408333</td>\n",
       "      <td>3.891667</td>\n",
       "      <td>2.041667</td>\n",
       "      <td>0.0</td>\n",
       "    </tr>\n",
       "  </tbody>\n",
       "</table>\n",
       "</div>"
      ],
      "text/plain": [
       "CITY  Year  baltimore    boston   chicago   houston  new-york  pittsburgh  \\\n",
       "0     1984   0.666667  0.816667 -0.083333 -1.183333  0.916667    0.666667   \n",
       "1     1985   0.633333  1.833333  0.183333 -2.666667  1.133333   -0.666667   \n",
       "2     1986   1.291667  2.641667  0.391667 -5.658333  2.641667   -1.358333   \n",
       "\n",
       "CITY  portland  san-diego  san-francisco  us-average  \n",
       "0    -1.033333   0.866667       0.116667         0.0  \n",
       "1    -0.866667   2.783333       0.783333         0.0  \n",
       "2    -1.408333   3.891667       2.041667         0.0  "
      ]
     },
     "execution_count": 7,
     "metadata": {},
     "output_type": "execute_result"
    }
   ],
   "source": [
    "CPI_relative_average = pd.DataFrame(CPI_all_df.values.T - CPI_all_df['us-average'].values).T\n",
    "CPI_relative_average.columns = CPI_all_df.columns\n",
    "CPI_relative_average.index = CPI_all_df.index\n",
    "CPI_relative_average= CPI_relative_average.reset_index()\n",
    "CPI_relative_average[:3]"
   ]
  },
  {
   "cell_type": "code",
   "execution_count": 132,
   "id": "173a5df7",
   "metadata": {
    "ExecuteTime": {
     "end_time": "2021-12-07T03:46:19.816032Z",
     "start_time": "2021-12-07T03:46:19.791341Z"
    }
   },
   "outputs": [],
   "source": [
    "CPI_all_df = CPI_all_df.reset_index()"
   ]
  },
  {
   "cell_type": "code",
   "execution_count": 146,
   "id": "2385f589",
   "metadata": {
    "ExecuteTime": {
     "end_time": "2021-12-07T07:05:42.846010Z",
     "start_time": "2021-12-07T07:05:42.673697Z"
    }
   },
   "outputs": [
    {
     "data": {
      "image/png": "[encoded data removed]",
      "text/plain": [
       "<Figure size 1584x72 with 1 Axes>"
      ]
     },
     "metadata": {
      "needs_background": "light"
     },
     "output_type": "display_data"
    }
   ],
   "source": [
    "colors = ['#e6194B', '#3cb44b', '#ffe119', '#4363d8', '#f58231', '#911eb4', '#42d4f4', '#f032e6', '#bfef45', '#fabed4', '#469990', '#dcbeff', '#9A6324', '#fffac8', '#800000', '#aaffc3', '#808000', '#ffd8b1', '#000075', '#a9a9a9', '#ffffff', '#000000']\n",
    "sns.palplot(colors)"
   ]
  },
  {
   "cell_type": "code",
   "execution_count": 133,
   "id": "3b7650f0",
   "metadata": {
    "ExecuteTime": {
     "end_time": "2021-12-07T03:46:20.400522Z",
     "start_time": "2021-12-07T03:46:20.141045Z"
    }
   },
   "outputs": [
    {
     "data": {
      "text/plain": [
       "Text(0, 0.5, 'CPI relative to national average')"
      ]
     },
     "execution_count": 133,
     "metadata": {},
     "output_type": "execute_result"
    },
    {
     "data": {
      "image/png": "[encoded data removed]",
      "text/plain": [
       "<Figure size 216x288 with 1 Axes>"
      ]
     },
     "metadata": {
      "needs_background": "light"
     },
     "output_type": "display_data"
    }
   ],
   "source": [
    "fig, ax = plt.subplots(figsize=(3, 4))\n",
    "for city in cities:\n",
    "    ax.plot(\n",
    "        CPI_all_df.Year.values,\n",
    "        CPI_all_df[city].values,\n",
    "        label=city,\n",
    "        lw=3,\n",
    "    )\n",
    "ax.legend()\n",
    "ax.set_xlabel(\"Year\")\n",
    "ax.set_ylabel(\"CPI relative to national average\")"
   ]
  },
  {
   "cell_type": "code",
   "execution_count": 134,
   "id": "ef5a729c",
   "metadata": {
    "ExecuteTime": {
     "end_time": "2021-12-07T03:46:21.373902Z",
     "start_time": "2021-12-07T03:46:21.347230Z"
    }
   },
   "outputs": [],
   "source": [
    "import seaborn as sns"
   ]
  },
  {
   "cell_type": "code",
   "execution_count": 141,
   "id": "3e0006b8",
   "metadata": {
    "ExecuteTime": {
     "end_time": "2021-12-07T03:46:38.217618Z",
     "start_time": "2021-12-07T03:46:38.188889Z"
    }
   },
   "outputs": [
    {
     "data": {
      "text/html": [
       "<svg  width=\"495\" height=\"55\"><rect x=\"0\" y=\"0\" width=\"55\" height=\"55\" style=\"fill:#1f77b4;stroke-width:2;stroke:rgb(255,255,255)\"/><rect x=\"55\" y=\"0\" width=\"55\" height=\"55\" style=\"fill:#ff7f0e;stroke-width:2;stroke:rgb(255,255,255)\"/><rect x=\"110\" y=\"0\" width=\"55\" height=\"55\" style=\"fill:#2ca02c;stroke-width:2;stroke:rgb(255,255,255)\"/><rect x=\"165\" y=\"0\" width=\"55\" height=\"55\" style=\"fill:#d62728;stroke-width:2;stroke:rgb(255,255,255)\"/><rect x=\"220\" y=\"0\" width=\"55\" height=\"55\" style=\"fill:#9467bd;stroke-width:2;stroke:rgb(255,255,255)\"/><rect x=\"275\" y=\"0\" width=\"55\" height=\"55\" style=\"fill:#8c564b;stroke-width:2;stroke:rgb(255,255,255)\"/><rect x=\"330\" y=\"0\" width=\"55\" height=\"55\" style=\"fill:#e377c2;stroke-width:2;stroke:rgb(255,255,255)\"/><rect x=\"385\" y=\"0\" width=\"55\" height=\"55\" style=\"fill:#7f7f7f;stroke-width:2;stroke:rgb(255,255,255)\"/><rect x=\"440\" y=\"0\" width=\"55\" height=\"55\" style=\"fill:#bcbd22;stroke-width:2;stroke:rgb(255,255,255)\"/></svg>"
      ],
      "text/plain": [
       "[(0.12156862745098039, 0.4666666666666667, 0.7058823529411765),\n",
       " (1.0, 0.4980392156862745, 0.054901960784313725),\n",
       " (0.17254901960784313, 0.6274509803921569, 0.17254901960784313),\n",
       " (0.8392156862745098, 0.15294117647058825, 0.1568627450980392),\n",
       " (0.5803921568627451, 0.403921568627451, 0.7411764705882353),\n",
       " (0.5490196078431373, 0.33725490196078434, 0.29411764705882354),\n",
       " (0.8901960784313725, 0.4666666666666667, 0.7607843137254902),\n",
       " (0.4980392156862745, 0.4980392156862745, 0.4980392156862745),\n",
       " (0.7372549019607844, 0.7411764705882353, 0.13333333333333333)]"
      ]
     },
     "execution_count": 141,
     "metadata": {},
     "output_type": "execute_result"
    }
   ],
   "source": [
    "pal = sns.color_palette('tab10', 9)\n",
    "pal"
   ]
  },
  {
   "cell_type": "code",
   "execution_count": 142,
   "id": "84a86866",
   "metadata": {
    "ExecuteTime": {
     "end_time": "2021-12-07T03:46:40.431962Z",
     "start_time": "2021-12-07T03:46:40.407446Z"
    }
   },
   "outputs": [
    {
     "data": {
      "text/plain": [
       "9"
      ]
     },
     "execution_count": 142,
     "metadata": {},
     "output_type": "execute_result"
    }
   ],
   "source": [
    "len(cities)"
   ]
  },
  {
   "cell_type": "code",
   "execution_count": 143,
   "id": "adb9fe8f",
   "metadata": {
    "ExecuteTime": {
     "end_time": "2021-12-07T03:46:40.580651Z",
     "start_time": "2021-12-07T03:46:40.557378Z"
    }
   },
   "outputs": [],
   "source": [
    "city_color_df = {city:p for city, p in zip(cities,pal)}"
   ]
  },
  {
   "cell_type": "code",
   "execution_count": 145,
   "id": "4182f5e5",
   "metadata": {
    "ExecuteTime": {
     "end_time": "2021-12-07T03:46:49.191323Z",
     "start_time": "2021-12-07T03:46:48.930468Z"
    }
   },
   "outputs": [
    {
     "data": {
      "text/plain": [
       "(1984.0, 2020.0)"
      ]
     },
     "execution_count": 145,
     "metadata": {},
     "output_type": "execute_result"
    },
    {
     "data": {
      "image/png": "[encoded data removed]",
      "text/plain": [
       "<Figure size 216x288 with 1 Axes>"
      ]
     },
     "metadata": {
      "needs_background": "light"
     },
     "output_type": "display_data"
    }
   ],
   "source": [
    "fig, ax = plt.subplots(figsize=(3, 4))\n",
    "for city in cities:\n",
    "    ax.plot(\n",
    "        CPI_relative_average.Year.values,\n",
    "        CPI_relative_average[city].values,\n",
    "        label=city,\n",
    "        lw=3,\n",
    "        color = city_color_df[city]\n",
    "    )\n",
    "ax.legend()\n",
    "ax.set_xlabel(\"Year\")\n",
    "ax.set_ylabel(\"CPI relative to national average\")\n",
    "ax.legend(bbox_to_anchor=(1.04,1), loc=\"upper left\")\n",
    "ax.set_xlim([1984, 2020])"
   ]
  },
  {
   "cell_type": "code",
   "execution_count": null,
   "id": "2bb4ee68",
   "metadata": {},
   "outputs": [],
   "source": [
    "# Since 1982, economic regions with high postdoc populations have grown in price at a greater rate than the rest of the United states"
   ]
  }
 ],
 "metadata": {
  "kernelspec": {
   "display_name": "postdoc",
   "language": "python",
   "name": "postdoc"
  },
  "language_info": {
   "codemirror_mode": {
    "name": "ipython",
    "version": 3
   },
   "file_extension": ".py",
   "mimetype": "text/x-python",
   "name": "python",
   "nbconvert_exporter": "python",
   "pygments_lexer": "ipython3",
   "version": "3.8.12"
  }
 },
 "nbformat": 4,
 "nbformat_minor": 5
}
