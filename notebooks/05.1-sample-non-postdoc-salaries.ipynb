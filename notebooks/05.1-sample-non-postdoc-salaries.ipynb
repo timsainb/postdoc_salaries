{
 "cells": [
  {
   "cell_type": "code",
   "execution_count": 1,
   "id": "713e5c81",
   "metadata": {
    "ExecuteTime": {
     "end_time": "2022-01-17T18:00:02.533199Z",
     "start_time": "2022-01-17T18:00:02.517708Z"
    }
   },
   "outputs": [],
   "source": [
    "%load_ext autoreload\n",
    "%autoreload 2"
   ]
  },
  {
   "cell_type": "code",
   "execution_count": 2,
   "id": "8fa73a66",
   "metadata": {
    "ExecuteTime": {
     "end_time": "2022-01-17T18:00:03.268775Z",
     "start_time": "2022-01-17T18:00:02.535126Z"
    }
   },
   "outputs": [
    {
     "name": "stderr",
     "output_type": "stream",
     "text": [
      "<ipython-input-2-1570110eca21>:5: TqdmExperimentalWarning: Using `tqdm.autonotebook.tqdm` in notebook mode. Use `tqdm.tqdm` instead to force console mode (e.g. in jupyter console)\n",
      "  from tqdm.autonotebook import tqdm\n"
     ]
    }
   ],
   "source": [
    "import numpy as np\n",
    "import pandas as pd\n",
    "import matplotlib.pyplot as plt\n",
    "%matplotlib inline\n",
    "from tqdm.autonotebook import tqdm\n",
    "from postdocsalary.paths import DATA_DIR, ensure_dir\n",
    "import urllib.request\n",
    "pd.set_option('display.max_columns', None)\n"
   ]
  },
  {
   "cell_type": "markdown",
   "id": "6971c759",
   "metadata": {},
   "source": [
    "### Load university df"
   ]
  },
  {
   "cell_type": "code",
   "execution_count": 3,
   "id": "149120ee",
   "metadata": {
    "ExecuteTime": {
     "end_time": "2022-01-17T18:00:03.317374Z",
     "start_time": "2022-01-17T18:00:03.271249Z"
    }
   },
   "outputs": [
    {
     "data": {
      "text/plain": [
       "6441"
      ]
     },
     "execution_count": 3,
     "metadata": {},
     "output_type": "execute_result"
    }
   ],
   "source": [
    "university_df = pd.read_pickle(DATA_DIR/ 'university_ranking_salary.pickle')\n",
    "len(university_df)"
   ]
  },
  {
   "cell_type": "code",
   "execution_count": 4,
   "id": "9908cde4",
   "metadata": {
    "ExecuteTime": {
     "end_time": "2022-01-17T18:00:03.435596Z",
     "start_time": "2022-01-17T18:00:03.319651Z"
    }
   },
   "outputs": [
    {
     "data": {
      "text/html": [
       "<div>\n",
       "<style scoped>\n",
       "    .dataframe tbody tr th:only-of-type {\n",
       "        vertical-align: middle;\n",
       "    }\n",
       "\n",
       "    .dataframe tbody tr th {\n",
       "        vertical-align: top;\n",
       "    }\n",
       "\n",
       "    .dataframe thead th {\n",
       "        text-align: right;\n",
       "    }\n",
       "</style>\n",
       "<table border=\"1\" class=\"dataframe\">\n",
       "  <thead>\n",
       "    <tr style=\"text-align: right;\">\n",
       "      <th></th>\n",
       "      <th>World Rank</th>\n",
       "      <th>Institution</th>\n",
       "      <th>Country</th>\n",
       "      <th>National Rank</th>\n",
       "      <th>Quality of Education Rank</th>\n",
       "      <th>Alumni Employment Rank</th>\n",
       "      <th>Quality of Faculty Rank</th>\n",
       "      <th>Research Performance Rank</th>\n",
       "      <th>Score</th>\n",
       "      <th>UNITID</th>\n",
       "      <th>INSTNM</th>\n",
       "      <th>IALIAS</th>\n",
       "      <th>ADDR</th>\n",
       "      <th>CITY</th>\n",
       "      <th>STABBR</th>\n",
       "      <th>ZIP</th>\n",
       "      <th>FIPS</th>\n",
       "      <th>OBEREG</th>\n",
       "      <th>CHFNM</th>\n",
       "      <th>CHFTITLE</th>\n",
       "      <th>GENTELE</th>\n",
       "      <th>EIN</th>\n",
       "      <th>DUNS</th>\n",
       "      <th>OPEID</th>\n",
       "      <th>OPEFLAG</th>\n",
       "      <th>WEBADDR</th>\n",
       "      <th>ADMINURL</th>\n",
       "      <th>FAIDURL</th>\n",
       "      <th>APPLURL</th>\n",
       "      <th>NPRICURL</th>\n",
       "      <th>VETURL</th>\n",
       "      <th>ATHURL</th>\n",
       "      <th>DISAURL</th>\n",
       "      <th>SECTOR</th>\n",
       "      <th>ICLEVEL</th>\n",
       "      <th>CONTROL</th>\n",
       "      <th>HLOFFER</th>\n",
       "      <th>UGOFFER</th>\n",
       "      <th>GROFFER</th>\n",
       "      <th>HDEGOFR1</th>\n",
       "      <th>DEGGRANT</th>\n",
       "      <th>HBCU</th>\n",
       "      <th>HOSPITAL</th>\n",
       "      <th>MEDICAL</th>\n",
       "      <th>TRIBAL</th>\n",
       "      <th>LOCALE</th>\n",
       "      <th>OPENPUBL</th>\n",
       "      <th>ACT</th>\n",
       "      <th>NEWID</th>\n",
       "      <th>DEATHYR</th>\n",
       "      <th>CLOSEDAT</th>\n",
       "      <th>CYACTIVE</th>\n",
       "      <th>POSTSEC</th>\n",
       "      <th>PSEFLAG</th>\n",
       "      <th>PSET4FLG</th>\n",
       "      <th>RPTMTH</th>\n",
       "      <th>INSTCAT</th>\n",
       "      <th>C18BASIC</th>\n",
       "      <th>C18IPUG</th>\n",
       "      <th>C18IPGRD</th>\n",
       "      <th>C18UGPRF</th>\n",
       "      <th>C18ENPRF</th>\n",
       "      <th>C18SZSET</th>\n",
       "      <th>C15BASIC</th>\n",
       "      <th>CCBASIC</th>\n",
       "      <th>CARNEGIE</th>\n",
       "      <th>LANDGRNT</th>\n",
       "      <th>INSTSIZE</th>\n",
       "      <th>F1SYSTYP</th>\n",
       "      <th>F1SYSNAM</th>\n",
       "      <th>F1SYSCOD</th>\n",
       "      <th>CBSA</th>\n",
       "      <th>CBSATYPE</th>\n",
       "      <th>CSA</th>\n",
       "      <th>NECTA</th>\n",
       "      <th>COUNTYCD</th>\n",
       "      <th>COUNTYNM</th>\n",
       "      <th>CNGDSTCD</th>\n",
       "      <th>LONGITUD</th>\n",
       "      <th>LATITUDE</th>\n",
       "      <th>DFRCGID</th>\n",
       "      <th>DFRCUSCG</th>\n",
       "      <th>LONGITUDE</th>\n",
       "      <th>CBSA_NAME</th>\n",
       "      <th>dup</th>\n",
       "      <th>RPP_all</th>\n",
       "      <th>MEDIAN_SALARY</th>\n",
       "      <th>N_SALARIES</th>\n",
       "      <th>MEDIAN_SALARY_UPPER</th>\n",
       "      <th>MEDIAN_SALARY_LOWER</th>\n",
       "      <th>REAL_MEDIAN_SALARY</th>\n",
       "      <th>REAL_MEDIAN_SALARY_UPPER</th>\n",
       "      <th>REAL_MEDIAN_SALARY_LOWER</th>\n",
       "    </tr>\n",
       "  </thead>\n",
       "  <tbody>\n",
       "    <tr>\n",
       "      <th>0</th>\n",
       "      <td>1.0</td>\n",
       "      <td>Harvard University</td>\n",
       "      <td>USA</td>\n",
       "      <td>1.0</td>\n",
       "      <td>1</td>\n",
       "      <td>1</td>\n",
       "      <td>1</td>\n",
       "      <td>1</td>\n",
       "      <td>100.0</td>\n",
       "      <td>166027.0</td>\n",
       "      <td>Harvard University</td>\n",
       "      <td></td>\n",
       "      <td>Massachusetts Hall</td>\n",
       "      <td>Cambridge</td>\n",
       "      <td>MA</td>\n",
       "      <td>02138</td>\n",
       "      <td>25.0</td>\n",
       "      <td>1.0</td>\n",
       "      <td>Lawrence S. Bacow</td>\n",
       "      <td>President</td>\n",
       "      <td>6174951000</td>\n",
       "      <td>42103580.0</td>\n",
       "      <td>082359691|149617367|047006379</td>\n",
       "      <td>215500.0</td>\n",
       "      <td>1.0</td>\n",
       "      <td>www.harvard.edu/</td>\n",
       "      <td>college.harvard.edu/admissions</td>\n",
       "      <td>college.harvard.edu/financial-aid</td>\n",
       "      <td>college.harvard.edu/admissions/application-pro...</td>\n",
       "      <td>college.harvard.edu/financial-aid/net-price-ca...</td>\n",
       "      <td>sfs.harvard.edu/veteran-military-benefits</td>\n",
       "      <td></td>\n",
       "      <td>accessibility.harvard.edu/</td>\n",
       "      <td>2.0</td>\n",
       "      <td>1.0</td>\n",
       "      <td>2.0</td>\n",
       "      <td>9.0</td>\n",
       "      <td>1.0</td>\n",
       "      <td>1.0</td>\n",
       "      <td>11.0</td>\n",
       "      <td>1.0</td>\n",
       "      <td>2.0</td>\n",
       "      <td>2.0</td>\n",
       "      <td>1.0</td>\n",
       "      <td>2.0</td>\n",
       "      <td>12.0</td>\n",
       "      <td>1.0</td>\n",
       "      <td>A</td>\n",
       "      <td>-2.0</td>\n",
       "      <td>-2.0</td>\n",
       "      <td>-2</td>\n",
       "      <td>1.0</td>\n",
       "      <td>1.0</td>\n",
       "      <td>1.0</td>\n",
       "      <td>1.0</td>\n",
       "      <td>1.0</td>\n",
       "      <td>2.0</td>\n",
       "      <td>15.0</td>\n",
       "      <td>8.0</td>\n",
       "      <td>14.0</td>\n",
       "      <td>14.0</td>\n",
       "      <td>6.0</td>\n",
       "      <td>17.0</td>\n",
       "      <td>15.0</td>\n",
       "      <td>15.0</td>\n",
       "      <td>15.0</td>\n",
       "      <td>2.0</td>\n",
       "      <td>5.0</td>\n",
       "      <td>2.0</td>\n",
       "      <td>-2</td>\n",
       "      <td>-2.0</td>\n",
       "      <td>14460</td>\n",
       "      <td>1</td>\n",
       "      <td>148</td>\n",
       "      <td>71650.0</td>\n",
       "      <td>25017</td>\n",
       "      <td>Middlesex County</td>\n",
       "      <td>2505.0</td>\n",
       "      <td>-71.118313</td>\n",
       "      <td>42.374471</td>\n",
       "      <td>96.0</td>\n",
       "      <td>1.0</td>\n",
       "      <td>-71.118313</td>\n",
       "      <td>Boston-Cambridge-Newton, MA-NH</td>\n",
       "      <td>False</td>\n",
       "      <td>115.5</td>\n",
       "      <td>55783.941620</td>\n",
       "      <td>493</td>\n",
       "      <td>56164.312487</td>\n",
       "      <td>55205.642506</td>\n",
       "      <td>48297.784952</td>\n",
       "      <td>48627.110378</td>\n",
       "      <td>47797.093079</td>\n",
       "    </tr>\n",
       "    <tr>\n",
       "      <th>1</th>\n",
       "      <td>2.0</td>\n",
       "      <td>Massachusetts Institute of Technology</td>\n",
       "      <td>USA</td>\n",
       "      <td>2.0</td>\n",
       "      <td>4</td>\n",
       "      <td>12</td>\n",
       "      <td>2</td>\n",
       "      <td>8</td>\n",
       "      <td>96.7</td>\n",
       "      <td>166683.0</td>\n",
       "      <td>Massachusetts Institute of Technology</td>\n",
       "      <td>MIT, M.I.T.</td>\n",
       "      <td>77 Massachusetts Avenue</td>\n",
       "      <td>Cambridge</td>\n",
       "      <td>MA</td>\n",
       "      <td>02139-4307</td>\n",
       "      <td>25.0</td>\n",
       "      <td>1.0</td>\n",
       "      <td>L. Rafael Reif</td>\n",
       "      <td>President</td>\n",
       "      <td>6172531000</td>\n",
       "      <td>42103594.0</td>\n",
       "      <td>001425594</td>\n",
       "      <td>217800.0</td>\n",
       "      <td>1.0</td>\n",
       "      <td>web.mit.edu/</td>\n",
       "      <td>https://mitadmissions.org/</td>\n",
       "      <td>https://sfs.mit.edu/</td>\n",
       "      <td>my.mit.edu/</td>\n",
       "      <td>https://sfs.mit.edu/undergraduate-students/our...</td>\n",
       "      <td>https://sfs.mit.edu/undergraduate-students/typ...</td>\n",
       "      <td></td>\n",
       "      <td>studentlife.mit.edu/das</td>\n",
       "      <td>2.0</td>\n",
       "      <td>1.0</td>\n",
       "      <td>2.0</td>\n",
       "      <td>9.0</td>\n",
       "      <td>1.0</td>\n",
       "      <td>1.0</td>\n",
       "      <td>12.0</td>\n",
       "      <td>1.0</td>\n",
       "      <td>2.0</td>\n",
       "      <td>2.0</td>\n",
       "      <td>2.0</td>\n",
       "      <td>2.0</td>\n",
       "      <td>12.0</td>\n",
       "      <td>1.0</td>\n",
       "      <td>A</td>\n",
       "      <td>-2.0</td>\n",
       "      <td>-2.0</td>\n",
       "      <td>-2</td>\n",
       "      <td>1.0</td>\n",
       "      <td>1.0</td>\n",
       "      <td>1.0</td>\n",
       "      <td>1.0</td>\n",
       "      <td>1.0</td>\n",
       "      <td>2.0</td>\n",
       "      <td>15.0</td>\n",
       "      <td>14.0</td>\n",
       "      <td>15.0</td>\n",
       "      <td>14.0</td>\n",
       "      <td>6.0</td>\n",
       "      <td>17.0</td>\n",
       "      <td>15.0</td>\n",
       "      <td>15.0</td>\n",
       "      <td>15.0</td>\n",
       "      <td>1.0</td>\n",
       "      <td>4.0</td>\n",
       "      <td>2.0</td>\n",
       "      <td>-2</td>\n",
       "      <td>-2.0</td>\n",
       "      <td>14460</td>\n",
       "      <td>1</td>\n",
       "      <td>148</td>\n",
       "      <td>71650.0</td>\n",
       "      <td>25017</td>\n",
       "      <td>Middlesex County</td>\n",
       "      <td>2507.0</td>\n",
       "      <td>-71.093226</td>\n",
       "      <td>42.359243</td>\n",
       "      <td>96.0</td>\n",
       "      <td>1.0</td>\n",
       "      <td>-71.093226</td>\n",
       "      <td>Boston-Cambridge-Newton, MA-NH</td>\n",
       "      <td>False</td>\n",
       "      <td>115.5</td>\n",
       "      <td>56659.816586</td>\n",
       "      <td>680</td>\n",
       "      <td>56950.613563</td>\n",
       "      <td>56164.312487</td>\n",
       "      <td>49056.118257</td>\n",
       "      <td>49307.890531</td>\n",
       "      <td>48627.110378</td>\n",
       "    </tr>\n",
       "    <tr>\n",
       "      <th>2</th>\n",
       "      <td>3.0</td>\n",
       "      <td>Stanford University</td>\n",
       "      <td>USA</td>\n",
       "      <td>3.0</td>\n",
       "      <td>10</td>\n",
       "      <td>4</td>\n",
       "      <td>3</td>\n",
       "      <td>2</td>\n",
       "      <td>95.1</td>\n",
       "      <td>243744.0</td>\n",
       "      <td>Stanford University</td>\n",
       "      <td></td>\n",
       "      <td></td>\n",
       "      <td>Stanford</td>\n",
       "      <td>CA</td>\n",
       "      <td>94305</td>\n",
       "      <td>6.0</td>\n",
       "      <td>8.0</td>\n",
       "      <td>Marc Tessier-Lavigne</td>\n",
       "      <td>President</td>\n",
       "      <td>6507232300</td>\n",
       "      <td>941156365.0</td>\n",
       "      <td>009214214</td>\n",
       "      <td>130500.0</td>\n",
       "      <td>1.0</td>\n",
       "      <td>www.stanford.edu/</td>\n",
       "      <td>admission.stanford.edu/</td>\n",
       "      <td>financialaid.stanford.edu/</td>\n",
       "      <td>commonapp.org/</td>\n",
       "      <td>www.stanford.edu/dept/finaid/undergrad/how/cal...</td>\n",
       "      <td>exploredegrees.stanford.edu/veterans/</td>\n",
       "      <td>parents.stanford.edu/2015/11/09/stanford-athle...</td>\n",
       "      <td>diversityandaccess.stanford.edu/disability-access</td>\n",
       "      <td>2.0</td>\n",
       "      <td>1.0</td>\n",
       "      <td>2.0</td>\n",
       "      <td>9.0</td>\n",
       "      <td>1.0</td>\n",
       "      <td>1.0</td>\n",
       "      <td>11.0</td>\n",
       "      <td>1.0</td>\n",
       "      <td>2.0</td>\n",
       "      <td>1.0</td>\n",
       "      <td>1.0</td>\n",
       "      <td>2.0</td>\n",
       "      <td>21.0</td>\n",
       "      <td>1.0</td>\n",
       "      <td>A</td>\n",
       "      <td>-2.0</td>\n",
       "      <td>-2.0</td>\n",
       "      <td>-2</td>\n",
       "      <td>1.0</td>\n",
       "      <td>1.0</td>\n",
       "      <td>1.0</td>\n",
       "      <td>1.0</td>\n",
       "      <td>1.0</td>\n",
       "      <td>2.0</td>\n",
       "      <td>15.0</td>\n",
       "      <td>11.0</td>\n",
       "      <td>14.0</td>\n",
       "      <td>14.0</td>\n",
       "      <td>6.0</td>\n",
       "      <td>17.0</td>\n",
       "      <td>15.0</td>\n",
       "      <td>15.0</td>\n",
       "      <td>15.0</td>\n",
       "      <td>2.0</td>\n",
       "      <td>4.0</td>\n",
       "      <td>2.0</td>\n",
       "      <td>-2</td>\n",
       "      <td>-2.0</td>\n",
       "      <td>41940</td>\n",
       "      <td>1</td>\n",
       "      <td>488</td>\n",
       "      <td>-2.0</td>\n",
       "      <td>6085</td>\n",
       "      <td>Santa Clara County</td>\n",
       "      <td>618.0</td>\n",
       "      <td>-122.167359</td>\n",
       "      <td>37.429434</td>\n",
       "      <td>96.0</td>\n",
       "      <td>1.0</td>\n",
       "      <td>-122.167359</td>\n",
       "      <td>San Jose-Sunnyvale-Santa Clara, CA</td>\n",
       "      <td>False</td>\n",
       "      <td>126.7</td>\n",
       "      <td>62476.603840</td>\n",
       "      <td>349</td>\n",
       "      <td>63319.925605</td>\n",
       "      <td>62352.688787</td>\n",
       "      <td>49310.658122</td>\n",
       "      <td>49976.263303</td>\n",
       "      <td>49212.856186</td>\n",
       "    </tr>\n",
       "    <tr>\n",
       "      <th>3</th>\n",
       "      <td>6.0</td>\n",
       "      <td>Princeton University</td>\n",
       "      <td>USA</td>\n",
       "      <td>4.0</td>\n",
       "      <td>5</td>\n",
       "      <td>15</td>\n",
       "      <td>7</td>\n",
       "      <td>70</td>\n",
       "      <td>92.6</td>\n",
       "      <td>186131.0</td>\n",
       "      <td>Princeton University</td>\n",
       "      <td></td>\n",
       "      <td>1 Nassau Hall</td>\n",
       "      <td>Princeton</td>\n",
       "      <td>NJ</td>\n",
       "      <td>08544-0070</td>\n",
       "      <td>34.0</td>\n",
       "      <td>2.0</td>\n",
       "      <td>Christopher L. Eisgruber</td>\n",
       "      <td>President</td>\n",
       "      <td>6092583000</td>\n",
       "      <td>210634501.0</td>\n",
       "      <td>002484665</td>\n",
       "      <td>262700.0</td>\n",
       "      <td>1.0</td>\n",
       "      <td>www.princeton.edu/</td>\n",
       "      <td></td>\n",
       "      <td></td>\n",
       "      <td></td>\n",
       "      <td>www.princeton.edu/admission/financialaid/estim...</td>\n",
       "      <td>registrar.princeton.edu/student-services/veter...</td>\n",
       "      <td>fs.ncaa.org/Docs/newmedia/public/rates/index.html</td>\n",
       "      <td>www.princeton.edu/ods/</td>\n",
       "      <td>2.0</td>\n",
       "      <td>1.0</td>\n",
       "      <td>2.0</td>\n",
       "      <td>9.0</td>\n",
       "      <td>1.0</td>\n",
       "      <td>1.0</td>\n",
       "      <td>12.0</td>\n",
       "      <td>1.0</td>\n",
       "      <td>2.0</td>\n",
       "      <td>2.0</td>\n",
       "      <td>2.0</td>\n",
       "      <td>2.0</td>\n",
       "      <td>13.0</td>\n",
       "      <td>1.0</td>\n",
       "      <td>A</td>\n",
       "      <td>-2.0</td>\n",
       "      <td>-2.0</td>\n",
       "      <td>-2</td>\n",
       "      <td>1.0</td>\n",
       "      <td>1.0</td>\n",
       "      <td>1.0</td>\n",
       "      <td>1.0</td>\n",
       "      <td>1.0</td>\n",
       "      <td>2.0</td>\n",
       "      <td>15.0</td>\n",
       "      <td>11.0</td>\n",
       "      <td>15.0</td>\n",
       "      <td>14.0</td>\n",
       "      <td>5.0</td>\n",
       "      <td>14.0</td>\n",
       "      <td>15.0</td>\n",
       "      <td>15.0</td>\n",
       "      <td>15.0</td>\n",
       "      <td>2.0</td>\n",
       "      <td>3.0</td>\n",
       "      <td>2.0</td>\n",
       "      <td>-2</td>\n",
       "      <td>-2.0</td>\n",
       "      <td>45940</td>\n",
       "      <td>1</td>\n",
       "      <td>408</td>\n",
       "      <td>-2.0</td>\n",
       "      <td>34021</td>\n",
       "      <td>Mercer County</td>\n",
       "      <td>3412.0</td>\n",
       "      <td>-74.659365</td>\n",
       "      <td>40.348732</td>\n",
       "      <td>96.0</td>\n",
       "      <td>2.0</td>\n",
       "      <td>-74.659365</td>\n",
       "      <td>Trenton-Princeton, NJ</td>\n",
       "      <td>False</td>\n",
       "      <td>106.2</td>\n",
       "      <td>52999.785469</td>\n",
       "      <td>446</td>\n",
       "      <td>53549.473231</td>\n",
       "      <td>52447.014313</td>\n",
       "      <td>49905.636035</td>\n",
       "      <td>50423.232798</td>\n",
       "      <td>49385.135888</td>\n",
       "    </tr>\n",
       "  </tbody>\n",
       "</table>\n",
       "</div>"
      ],
      "text/plain": [
       "   World Rank                            Institution Country  National Rank  \\\n",
       "0         1.0                     Harvard University     USA            1.0   \n",
       "1         2.0  Massachusetts Institute of Technology     USA            2.0   \n",
       "2         3.0                    Stanford University     USA            3.0   \n",
       "3         6.0                   Princeton University     USA            4.0   \n",
       "\n",
       "  Quality of Education Rank Alumni Employment Rank Quality of Faculty Rank  \\\n",
       "0                         1                      1                       1   \n",
       "1                         4                     12                       2   \n",
       "2                        10                      4                       3   \n",
       "3                         5                     15                       7   \n",
       "\n",
       "  Research Performance Rank  Score    UNITID  \\\n",
       "0                         1  100.0  166027.0   \n",
       "1                         8   96.7  166683.0   \n",
       "2                         2   95.1  243744.0   \n",
       "3                        70   92.6  186131.0   \n",
       "\n",
       "                                  INSTNM       IALIAS  \\\n",
       "0                     Harvard University                \n",
       "1  Massachusetts Institute of Technology  MIT, M.I.T.   \n",
       "2                    Stanford University                \n",
       "3                   Princeton University                \n",
       "\n",
       "                      ADDR       CITY STABBR         ZIP  FIPS  OBEREG  \\\n",
       "0       Massachusetts Hall  Cambridge     MA       02138  25.0     1.0   \n",
       "1  77 Massachusetts Avenue  Cambridge     MA  02139-4307  25.0     1.0   \n",
       "2                            Stanford     CA       94305   6.0     8.0   \n",
       "3            1 Nassau Hall  Princeton     NJ  08544-0070  34.0     2.0   \n",
       "\n",
       "                      CHFNM   CHFTITLE     GENTELE          EIN  \\\n",
       "0         Lawrence S. Bacow  President  6174951000   42103580.0   \n",
       "1            L. Rafael Reif  President  6172531000   42103594.0   \n",
       "2      Marc Tessier-Lavigne  President  6507232300  941156365.0   \n",
       "3  Christopher L. Eisgruber  President  6092583000  210634501.0   \n",
       "\n",
       "                            DUNS     OPEID  OPEFLAG             WEBADDR  \\\n",
       "0  082359691|149617367|047006379  215500.0      1.0    www.harvard.edu/   \n",
       "1                      001425594  217800.0      1.0        web.mit.edu/   \n",
       "2                      009214214  130500.0      1.0   www.stanford.edu/   \n",
       "3                      002484665  262700.0      1.0  www.princeton.edu/   \n",
       "\n",
       "                         ADMINURL                            FAIDURL  \\\n",
       "0  college.harvard.edu/admissions  college.harvard.edu/financial-aid   \n",
       "1      https://mitadmissions.org/               https://sfs.mit.edu/   \n",
       "2         admission.stanford.edu/         financialaid.stanford.edu/   \n",
       "3                                                                      \n",
       "\n",
       "                                             APPLURL  \\\n",
       "0  college.harvard.edu/admissions/application-pro...   \n",
       "1                                        my.mit.edu/   \n",
       "2                                     commonapp.org/   \n",
       "3                                                      \n",
       "\n",
       "                                            NPRICURL  \\\n",
       "0  college.harvard.edu/financial-aid/net-price-ca...   \n",
       "1  https://sfs.mit.edu/undergraduate-students/our...   \n",
       "2  www.stanford.edu/dept/finaid/undergrad/how/cal...   \n",
       "3  www.princeton.edu/admission/financialaid/estim...   \n",
       "\n",
       "                                              VETURL  \\\n",
       "0          sfs.harvard.edu/veteran-military-benefits   \n",
       "1  https://sfs.mit.edu/undergraduate-students/typ...   \n",
       "2              exploredegrees.stanford.edu/veterans/   \n",
       "3  registrar.princeton.edu/student-services/veter...   \n",
       "\n",
       "                                              ATHURL  \\\n",
       "0                                                      \n",
       "1                                                      \n",
       "2  parents.stanford.edu/2015/11/09/stanford-athle...   \n",
       "3  fs.ncaa.org/Docs/newmedia/public/rates/index.html   \n",
       "\n",
       "                                             DISAURL  SECTOR  ICLEVEL  \\\n",
       "0                         accessibility.harvard.edu/     2.0      1.0   \n",
       "1                            studentlife.mit.edu/das     2.0      1.0   \n",
       "2  diversityandaccess.stanford.edu/disability-access     2.0      1.0   \n",
       "3                             www.princeton.edu/ods/     2.0      1.0   \n",
       "\n",
       "   CONTROL  HLOFFER  UGOFFER  GROFFER  HDEGOFR1  DEGGRANT  HBCU  HOSPITAL  \\\n",
       "0      2.0      9.0      1.0      1.0      11.0       1.0   2.0       2.0   \n",
       "1      2.0      9.0      1.0      1.0      12.0       1.0   2.0       2.0   \n",
       "2      2.0      9.0      1.0      1.0      11.0       1.0   2.0       1.0   \n",
       "3      2.0      9.0      1.0      1.0      12.0       1.0   2.0       2.0   \n",
       "\n",
       "   MEDICAL  TRIBAL  LOCALE  OPENPUBL ACT  NEWID  DEATHYR CLOSEDAT  CYACTIVE  \\\n",
       "0      1.0     2.0    12.0       1.0  A    -2.0     -2.0       -2       1.0   \n",
       "1      2.0     2.0    12.0       1.0  A    -2.0     -2.0       -2       1.0   \n",
       "2      1.0     2.0    21.0       1.0  A    -2.0     -2.0       -2       1.0   \n",
       "3      2.0     2.0    13.0       1.0  A    -2.0     -2.0       -2       1.0   \n",
       "\n",
       "   POSTSEC  PSEFLAG  PSET4FLG  RPTMTH  INSTCAT  C18BASIC  C18IPUG  C18IPGRD  \\\n",
       "0      1.0      1.0       1.0     1.0      2.0      15.0      8.0      14.0   \n",
       "1      1.0      1.0       1.0     1.0      2.0      15.0     14.0      15.0   \n",
       "2      1.0      1.0       1.0     1.0      2.0      15.0     11.0      14.0   \n",
       "3      1.0      1.0       1.0     1.0      2.0      15.0     11.0      15.0   \n",
       "\n",
       "   C18UGPRF  C18ENPRF  C18SZSET  C15BASIC  CCBASIC  CARNEGIE  LANDGRNT  \\\n",
       "0      14.0       6.0      17.0      15.0     15.0      15.0       2.0   \n",
       "1      14.0       6.0      17.0      15.0     15.0      15.0       1.0   \n",
       "2      14.0       6.0      17.0      15.0     15.0      15.0       2.0   \n",
       "3      14.0       5.0      14.0      15.0     15.0      15.0       2.0   \n",
       "\n",
       "   INSTSIZE  F1SYSTYP F1SYSNAM  F1SYSCOD   CBSA  CBSATYPE  CSA    NECTA  \\\n",
       "0       5.0       2.0       -2      -2.0  14460         1  148  71650.0   \n",
       "1       4.0       2.0       -2      -2.0  14460         1  148  71650.0   \n",
       "2       4.0       2.0       -2      -2.0  41940         1  488     -2.0   \n",
       "3       3.0       2.0       -2      -2.0  45940         1  408     -2.0   \n",
       "\n",
       "   COUNTYCD            COUNTYNM  CNGDSTCD    LONGITUD   LATITUDE  DFRCGID  \\\n",
       "0     25017    Middlesex County    2505.0  -71.118313  42.374471     96.0   \n",
       "1     25017    Middlesex County    2507.0  -71.093226  42.359243     96.0   \n",
       "2      6085  Santa Clara County     618.0 -122.167359  37.429434     96.0   \n",
       "3     34021       Mercer County    3412.0  -74.659365  40.348732     96.0   \n",
       "\n",
       "   DFRCUSCG   LONGITUDE                           CBSA_NAME    dup  RPP_all  \\\n",
       "0       1.0  -71.118313      Boston-Cambridge-Newton, MA-NH  False    115.5   \n",
       "1       1.0  -71.093226      Boston-Cambridge-Newton, MA-NH  False    115.5   \n",
       "2       1.0 -122.167359  San Jose-Sunnyvale-Santa Clara, CA  False    126.7   \n",
       "3       2.0  -74.659365               Trenton-Princeton, NJ  False    106.2   \n",
       "\n",
       "   MEDIAN_SALARY  N_SALARIES  MEDIAN_SALARY_UPPER  MEDIAN_SALARY_LOWER  \\\n",
       "0   55783.941620         493         56164.312487         55205.642506   \n",
       "1   56659.816586         680         56950.613563         56164.312487   \n",
       "2   62476.603840         349         63319.925605         62352.688787   \n",
       "3   52999.785469         446         53549.473231         52447.014313   \n",
       "\n",
       "   REAL_MEDIAN_SALARY  REAL_MEDIAN_SALARY_UPPER  REAL_MEDIAN_SALARY_LOWER  \n",
       "0        48297.784952              48627.110378              47797.093079  \n",
       "1        49056.118257              49307.890531              48627.110378  \n",
       "2        49310.658122              49976.263303              49212.856186  \n",
       "3        49905.636035              50423.232798              49385.135888  "
      ]
     },
     "execution_count": 4,
     "metadata": {},
     "output_type": "execute_result"
    }
   ],
   "source": [
    "university_df[:4]"
   ]
  },
  {
   "cell_type": "markdown",
   "id": "7cb3dff1",
   "metadata": {},
   "source": [
    "### Threshold number of salaries"
   ]
  },
  {
   "cell_type": "code",
   "execution_count": 5,
   "id": "8be52c67",
   "metadata": {
    "ExecuteTime": {
     "end_time": "2022-01-17T18:00:03.893375Z",
     "start_time": "2022-01-17T18:00:03.437264Z"
    }
   },
   "outputs": [
    {
     "name": "stdout",
     "output_type": "stream",
     "text": [
      "27572\n",
      "26964\n",
      "129\n"
     ]
    },
    {
     "data": {
      "image/png": "[encoded data removed]",
      "text/plain": [
       "<Figure size 432x288 with 1 Axes>"
      ]
     },
     "metadata": {
      "needs_background": "light"
     },
     "output_type": "display_data"
    }
   ],
   "source": [
    "MIN_N_SALARIES = 25\n",
    "print(university_df.N_SALARIES.sum())\n",
    "university_df = university_df[university_df.N_SALARIES > MIN_N_SALARIES]\n",
    "print(university_df.N_SALARIES.sum())\n",
    "plt.hist(university_df.N_SALARIES, bins = 100);\n",
    "print(len(university_df))"
   ]
  },
  {
   "cell_type": "markdown",
   "id": "ef84786e",
   "metadata": {},
   "source": [
    "### Load metro salaries"
   ]
  },
  {
   "cell_type": "code",
   "execution_count": 6,
   "id": "2d3bfa11",
   "metadata": {
    "ExecuteTime": {
     "end_time": "2022-01-17T18:00:04.935018Z",
     "start_time": "2022-01-17T18:00:03.895142Z"
    }
   },
   "outputs": [],
   "source": [
    "metro_salary_df = pd.read_csv(DATA_DIR/ 'non-postdoc-salary'/ 'MSA_M2020_dl.csv')\n",
    "non_metro_salary_df = pd.read_csv(DATA_DIR/ 'non-postdoc-salary'/ 'BOS_M2020_dl.csv')"
   ]
  },
  {
   "cell_type": "code",
   "execution_count": 7,
   "id": "81d81fa1",
   "metadata": {
    "ExecuteTime": {
     "end_time": "2022-01-17T18:00:05.139919Z",
     "start_time": "2022-01-17T18:00:04.937128Z"
    }
   },
   "outputs": [],
   "source": [
    "metro_salary_df = pd.concat([metro_salary_df, non_metro_salary_df])"
   ]
  },
  {
   "cell_type": "code",
   "execution_count": 8,
   "id": "7a73bce5",
   "metadata": {
    "ExecuteTime": {
     "end_time": "2022-01-17T18:00:05.174547Z",
     "start_time": "2022-01-17T18:00:05.142129Z"
    }
   },
   "outputs": [
    {
     "data": {
      "text/plain": [
       "array(['Boston-Cambridge-Nashua, MA-NH'], dtype='<U30')"
      ]
     },
     "execution_count": 8,
     "metadata": {},
     "output_type": "execute_result"
    }
   ],
   "source": [
    "np.unique([i for i in metro_salary_df.AREA_TITLE.values if 'Boston' in i])"
   ]
  },
  {
   "cell_type": "code",
   "execution_count": 9,
   "id": "08c844d1",
   "metadata": {
    "ExecuteTime": {
     "end_time": "2022-01-17T18:00:05.193689Z",
     "start_time": "2022-01-17T18:00:05.178360Z"
    }
   },
   "outputs": [],
   "source": [
    "#metro_salary_df = metro_salary_df[metro_salary_df.AREA.isin(university_df.CBSA.values)]"
   ]
  },
  {
   "cell_type": "code",
   "execution_count": 10,
   "id": "254e20d0",
   "metadata": {
    "ExecuteTime": {
     "end_time": "2022-01-17T18:00:05.210913Z",
     "start_time": "2022-01-17T18:00:05.196164Z"
    }
   },
   "outputs": [
    {
     "data": {
      "text/plain": [
       "185359"
      ]
     },
     "execution_count": 10,
     "metadata": {},
     "output_type": "execute_result"
    }
   ],
   "source": [
    "len(metro_salary_df)"
   ]
  },
  {
   "cell_type": "code",
   "execution_count": 11,
   "id": "f68140fd",
   "metadata": {
    "ExecuteTime": {
     "end_time": "2022-01-17T18:00:05.255369Z",
     "start_time": "2022-01-17T18:00:05.212787Z"
    }
   },
   "outputs": [
    {
     "data": {
      "text/html": [
       "<div>\n",
       "<style scoped>\n",
       "    .dataframe tbody tr th:only-of-type {\n",
       "        vertical-align: middle;\n",
       "    }\n",
       "\n",
       "    .dataframe tbody tr th {\n",
       "        vertical-align: top;\n",
       "    }\n",
       "\n",
       "    .dataframe thead th {\n",
       "        text-align: right;\n",
       "    }\n",
       "</style>\n",
       "<table border=\"1\" class=\"dataframe\">\n",
       "  <thead>\n",
       "    <tr style=\"text-align: right;\">\n",
       "      <th></th>\n",
       "      <th>AREA</th>\n",
       "      <th>AREA_TITLE</th>\n",
       "      <th>AREA_TYPE</th>\n",
       "      <th>PRIM_STATE</th>\n",
       "      <th>NAICS</th>\n",
       "      <th>NAICS_TITLE</th>\n",
       "      <th>I_GROUP</th>\n",
       "      <th>OWN_CODE</th>\n",
       "      <th>OCC_CODE</th>\n",
       "      <th>OCC_TITLE</th>\n",
       "      <th>O_GROUP</th>\n",
       "      <th>TOT_EMP</th>\n",
       "      <th>EMP_PRSE</th>\n",
       "      <th>JOBS_1000</th>\n",
       "      <th>LOC_QUOTIENT</th>\n",
       "      <th>PCT_TOTAL</th>\n",
       "      <th>H_MEAN</th>\n",
       "      <th>A_MEAN</th>\n",
       "      <th>MEAN_PRSE</th>\n",
       "      <th>H_PCT10</th>\n",
       "      <th>H_PCT25</th>\n",
       "      <th>H_MEDIAN</th>\n",
       "      <th>H_PCT75</th>\n",
       "      <th>H_PCT90</th>\n",
       "      <th>A_PCT10</th>\n",
       "      <th>A_PCT25</th>\n",
       "      <th>A_MEDIAN</th>\n",
       "      <th>A_PCT75</th>\n",
       "      <th>A_PCT90</th>\n",
       "      <th>ANNUAL</th>\n",
       "      <th>HOURLY</th>\n",
       "    </tr>\n",
       "  </thead>\n",
       "  <tbody>\n",
       "    <tr>\n",
       "      <th>0</th>\n",
       "      <td>10180</td>\n",
       "      <td>Abilene, TX</td>\n",
       "      <td>4</td>\n",
       "      <td>TX</td>\n",
       "      <td>0</td>\n",
       "      <td>Cross-industry</td>\n",
       "      <td>cross-industry</td>\n",
       "      <td>1235</td>\n",
       "      <td>00-0000</td>\n",
       "      <td>All Occupations</td>\n",
       "      <td>total</td>\n",
       "      <td>66,060</td>\n",
       "      <td>1.9</td>\n",
       "      <td>1000.000</td>\n",
       "      <td>1.00</td>\n",
       "      <td>NaN</td>\n",
       "      <td>20.64</td>\n",
       "      <td>42,930</td>\n",
       "      <td>1.8</td>\n",
       "      <td>9.13</td>\n",
       "      <td>11.40</td>\n",
       "      <td>16.41</td>\n",
       "      <td>24.82</td>\n",
       "      <td>36.23</td>\n",
       "      <td>18,990</td>\n",
       "      <td>23,710</td>\n",
       "      <td>34,130</td>\n",
       "      <td>51,620</td>\n",
       "      <td>75,370</td>\n",
       "      <td>NaN</td>\n",
       "      <td>NaN</td>\n",
       "    </tr>\n",
       "    <tr>\n",
       "      <th>1</th>\n",
       "      <td>10180</td>\n",
       "      <td>Abilene, TX</td>\n",
       "      <td>4</td>\n",
       "      <td>TX</td>\n",
       "      <td>0</td>\n",
       "      <td>Cross-industry</td>\n",
       "      <td>cross-industry</td>\n",
       "      <td>1235</td>\n",
       "      <td>11-0000</td>\n",
       "      <td>Management Occupations</td>\n",
       "      <td>major</td>\n",
       "      <td>2,910</td>\n",
       "      <td>4.5</td>\n",
       "      <td>44.068</td>\n",
       "      <td>0.77</td>\n",
       "      <td>NaN</td>\n",
       "      <td>42.87</td>\n",
       "      <td>89,160</td>\n",
       "      <td>2.2</td>\n",
       "      <td>17.38</td>\n",
       "      <td>26.74</td>\n",
       "      <td>36.37</td>\n",
       "      <td>51.68</td>\n",
       "      <td>73.88</td>\n",
       "      <td>36,150</td>\n",
       "      <td>55,620</td>\n",
       "      <td>75,640</td>\n",
       "      <td>107,500</td>\n",
       "      <td>153,670</td>\n",
       "      <td>NaN</td>\n",
       "      <td>NaN</td>\n",
       "    </tr>\n",
       "    <tr>\n",
       "      <th>2</th>\n",
       "      <td>10180</td>\n",
       "      <td>Abilene, TX</td>\n",
       "      <td>4</td>\n",
       "      <td>TX</td>\n",
       "      <td>0</td>\n",
       "      <td>Cross-industry</td>\n",
       "      <td>cross-industry</td>\n",
       "      <td>1235</td>\n",
       "      <td>11-1021</td>\n",
       "      <td>General and Operations Managers</td>\n",
       "      <td>detailed</td>\n",
       "      <td>1,320</td>\n",
       "      <td>7.4</td>\n",
       "      <td>20.036</td>\n",
       "      <td>1.19</td>\n",
       "      <td>NaN</td>\n",
       "      <td>40.38</td>\n",
       "      <td>83,990</td>\n",
       "      <td>3.5</td>\n",
       "      <td>12.67</td>\n",
       "      <td>24.02</td>\n",
       "      <td>32.96</td>\n",
       "      <td>50.11</td>\n",
       "      <td>72.93</td>\n",
       "      <td>26,350</td>\n",
       "      <td>49,960</td>\n",
       "      <td>68,550</td>\n",
       "      <td>104,230</td>\n",
       "      <td>151,700</td>\n",
       "      <td>NaN</td>\n",
       "      <td>NaN</td>\n",
       "    </tr>\n",
       "  </tbody>\n",
       "</table>\n",
       "</div>"
      ],
      "text/plain": [
       "    AREA   AREA_TITLE  AREA_TYPE PRIM_STATE  NAICS     NAICS_TITLE  \\\n",
       "0  10180  Abilene, TX          4         TX      0  Cross-industry   \n",
       "1  10180  Abilene, TX          4         TX      0  Cross-industry   \n",
       "2  10180  Abilene, TX          4         TX      0  Cross-industry   \n",
       "\n",
       "          I_GROUP  OWN_CODE OCC_CODE                        OCC_TITLE  \\\n",
       "0  cross-industry      1235  00-0000                  All Occupations   \n",
       "1  cross-industry      1235  11-0000           Management Occupations   \n",
       "2  cross-industry      1235  11-1021  General and Operations Managers   \n",
       "\n",
       "    O_GROUP TOT_EMP EMP_PRSE JOBS_1000 LOC_QUOTIENT  PCT_TOTAL H_MEAN  A_MEAN  \\\n",
       "0     total  66,060      1.9  1000.000         1.00        NaN  20.64  42,930   \n",
       "1     major   2,910      4.5    44.068         0.77        NaN  42.87  89,160   \n",
       "2  detailed   1,320      7.4    20.036         1.19        NaN  40.38  83,990   \n",
       "\n",
       "  MEAN_PRSE H_PCT10 H_PCT25 H_MEDIAN H_PCT75 H_PCT90 A_PCT10 A_PCT25 A_MEDIAN  \\\n",
       "0       1.8    9.13   11.40    16.41   24.82   36.23  18,990  23,710   34,130   \n",
       "1       2.2   17.38   26.74    36.37   51.68   73.88  36,150  55,620   75,640   \n",
       "2       3.5   12.67   24.02    32.96   50.11   72.93  26,350  49,960   68,550   \n",
       "\n",
       "   A_PCT75  A_PCT90 ANNUAL HOURLY  \n",
       "0   51,620   75,370    NaN    NaN  \n",
       "1  107,500  153,670    NaN    NaN  \n",
       "2  104,230  151,700    NaN    NaN  "
      ]
     },
     "execution_count": 11,
     "metadata": {},
     "output_type": "execute_result"
    }
   ],
   "source": [
    "metro_salary_df[:3]"
   ]
  },
  {
   "cell_type": "markdown",
   "id": "0cc3b0bb",
   "metadata": {},
   "source": [
    "### merge salary df with RPPs"
   ]
  },
  {
   "cell_type": "code",
   "execution_count": 12,
   "id": "4e5a225b",
   "metadata": {
    "ExecuteTime": {
     "end_time": "2022-01-17T18:00:05.284868Z",
     "start_time": "2022-01-17T18:00:05.257076Z"
    }
   },
   "outputs": [],
   "source": [
    "cost_of_living_df = pd.read_csv(DATA_DIR / 'BEA_price_parity' / 'BEA-cost-of-living-comparison.csv', skiprows=4)[:-5]\n",
    "cost_of_living_df[\"RPP_all\"] = cost_of_living_df[\"2019\"]\n",
    "cost_of_living_df = cost_of_living_df[cost_of_living_df.Description == \"RPPs: All items\"]"
   ]
  },
  {
   "cell_type": "code",
   "execution_count": 13,
   "id": "590d1a9b",
   "metadata": {
    "ExecuteTime": {
     "end_time": "2022-01-17T18:00:05.303717Z",
     "start_time": "2022-01-17T18:00:05.286655Z"
    }
   },
   "outputs": [
    {
     "data": {
      "text/plain": [
       "array(['Boston-Cambridge-Newton, MA-NH (Metropolitan Statistical Area)'],\n",
       "      dtype='<U62')"
      ]
     },
     "execution_count": 13,
     "metadata": {},
     "output_type": "execute_result"
    }
   ],
   "source": [
    "np.unique([i for i in cost_of_living_df.GeoName.values if 'Boston' in i])"
   ]
  },
  {
   "cell_type": "markdown",
   "id": "5053e9ca",
   "metadata": {},
   "source": [
    "### Merge salaries and RPP"
   ]
  },
  {
   "cell_type": "code",
   "execution_count": 14,
   "id": "4227e328",
   "metadata": {
    "ExecuteTime": {
     "end_time": "2022-01-17T18:00:05.320055Z",
     "start_time": "2022-01-17T18:00:05.305442Z"
    }
   },
   "outputs": [],
   "source": [
    "cost_of_living_df['GeoFips'] = cost_of_living_df.GeoFips.values.astype(int)"
   ]
  },
  {
   "cell_type": "code",
   "execution_count": 15,
   "id": "af1f1727",
   "metadata": {
    "ExecuteTime": {
     "end_time": "2022-01-17T18:00:05.409719Z",
     "start_time": "2022-01-17T18:00:05.321802Z"
    }
   },
   "outputs": [],
   "source": [
    "metro_salary_df = metro_salary_df.merge(cost_of_living_df[['GeoFips', 'RPP_all']], left_on=\"AREA\", right_on='GeoFips')"
   ]
  },
  {
   "cell_type": "code",
   "execution_count": 16,
   "id": "322f2ac7",
   "metadata": {
    "ExecuteTime": {
     "end_time": "2022-01-17T18:00:05.456613Z",
     "start_time": "2022-01-17T18:00:05.411823Z"
    }
   },
   "outputs": [
    {
     "data": {
      "text/html": [
       "<div>\n",
       "<style scoped>\n",
       "    .dataframe tbody tr th:only-of-type {\n",
       "        vertical-align: middle;\n",
       "    }\n",
       "\n",
       "    .dataframe tbody tr th {\n",
       "        vertical-align: top;\n",
       "    }\n",
       "\n",
       "    .dataframe thead th {\n",
       "        text-align: right;\n",
       "    }\n",
       "</style>\n",
       "<table border=\"1\" class=\"dataframe\">\n",
       "  <thead>\n",
       "    <tr style=\"text-align: right;\">\n",
       "      <th></th>\n",
       "      <th>AREA</th>\n",
       "      <th>AREA_TITLE</th>\n",
       "      <th>AREA_TYPE</th>\n",
       "      <th>PRIM_STATE</th>\n",
       "      <th>NAICS</th>\n",
       "      <th>NAICS_TITLE</th>\n",
       "      <th>I_GROUP</th>\n",
       "      <th>OWN_CODE</th>\n",
       "      <th>OCC_CODE</th>\n",
       "      <th>OCC_TITLE</th>\n",
       "      <th>O_GROUP</th>\n",
       "      <th>TOT_EMP</th>\n",
       "      <th>EMP_PRSE</th>\n",
       "      <th>JOBS_1000</th>\n",
       "      <th>LOC_QUOTIENT</th>\n",
       "      <th>PCT_TOTAL</th>\n",
       "      <th>H_MEAN</th>\n",
       "      <th>A_MEAN</th>\n",
       "      <th>MEAN_PRSE</th>\n",
       "      <th>H_PCT10</th>\n",
       "      <th>H_PCT25</th>\n",
       "      <th>H_MEDIAN</th>\n",
       "      <th>H_PCT75</th>\n",
       "      <th>H_PCT90</th>\n",
       "      <th>A_PCT10</th>\n",
       "      <th>A_PCT25</th>\n",
       "      <th>A_MEDIAN</th>\n",
       "      <th>A_PCT75</th>\n",
       "      <th>A_PCT90</th>\n",
       "      <th>ANNUAL</th>\n",
       "      <th>HOURLY</th>\n",
       "      <th>GeoFips</th>\n",
       "      <th>RPP_all</th>\n",
       "    </tr>\n",
       "  </thead>\n",
       "  <tbody>\n",
       "    <tr>\n",
       "      <th>0</th>\n",
       "      <td>10180</td>\n",
       "      <td>Abilene, TX</td>\n",
       "      <td>4</td>\n",
       "      <td>TX</td>\n",
       "      <td>0</td>\n",
       "      <td>Cross-industry</td>\n",
       "      <td>cross-industry</td>\n",
       "      <td>1235</td>\n",
       "      <td>00-0000</td>\n",
       "      <td>All Occupations</td>\n",
       "      <td>total</td>\n",
       "      <td>66,060</td>\n",
       "      <td>1.9</td>\n",
       "      <td>1000.000</td>\n",
       "      <td>1.00</td>\n",
       "      <td>NaN</td>\n",
       "      <td>20.64</td>\n",
       "      <td>42,930</td>\n",
       "      <td>1.8</td>\n",
       "      <td>9.13</td>\n",
       "      <td>11.40</td>\n",
       "      <td>16.41</td>\n",
       "      <td>24.82</td>\n",
       "      <td>36.23</td>\n",
       "      <td>18,990</td>\n",
       "      <td>23,710</td>\n",
       "      <td>34,130</td>\n",
       "      <td>51,620</td>\n",
       "      <td>75,370</td>\n",
       "      <td>NaN</td>\n",
       "      <td>NaN</td>\n",
       "      <td>10180</td>\n",
       "      <td>90.3</td>\n",
       "    </tr>\n",
       "    <tr>\n",
       "      <th>1</th>\n",
       "      <td>10180</td>\n",
       "      <td>Abilene, TX</td>\n",
       "      <td>4</td>\n",
       "      <td>TX</td>\n",
       "      <td>0</td>\n",
       "      <td>Cross-industry</td>\n",
       "      <td>cross-industry</td>\n",
       "      <td>1235</td>\n",
       "      <td>11-0000</td>\n",
       "      <td>Management Occupations</td>\n",
       "      <td>major</td>\n",
       "      <td>2,910</td>\n",
       "      <td>4.5</td>\n",
       "      <td>44.068</td>\n",
       "      <td>0.77</td>\n",
       "      <td>NaN</td>\n",
       "      <td>42.87</td>\n",
       "      <td>89,160</td>\n",
       "      <td>2.2</td>\n",
       "      <td>17.38</td>\n",
       "      <td>26.74</td>\n",
       "      <td>36.37</td>\n",
       "      <td>51.68</td>\n",
       "      <td>73.88</td>\n",
       "      <td>36,150</td>\n",
       "      <td>55,620</td>\n",
       "      <td>75,640</td>\n",
       "      <td>107,500</td>\n",
       "      <td>153,670</td>\n",
       "      <td>NaN</td>\n",
       "      <td>NaN</td>\n",
       "      <td>10180</td>\n",
       "      <td>90.3</td>\n",
       "    </tr>\n",
       "    <tr>\n",
       "      <th>2</th>\n",
       "      <td>10180</td>\n",
       "      <td>Abilene, TX</td>\n",
       "      <td>4</td>\n",
       "      <td>TX</td>\n",
       "      <td>0</td>\n",
       "      <td>Cross-industry</td>\n",
       "      <td>cross-industry</td>\n",
       "      <td>1235</td>\n",
       "      <td>11-1021</td>\n",
       "      <td>General and Operations Managers</td>\n",
       "      <td>detailed</td>\n",
       "      <td>1,320</td>\n",
       "      <td>7.4</td>\n",
       "      <td>20.036</td>\n",
       "      <td>1.19</td>\n",
       "      <td>NaN</td>\n",
       "      <td>40.38</td>\n",
       "      <td>83,990</td>\n",
       "      <td>3.5</td>\n",
       "      <td>12.67</td>\n",
       "      <td>24.02</td>\n",
       "      <td>32.96</td>\n",
       "      <td>50.11</td>\n",
       "      <td>72.93</td>\n",
       "      <td>26,350</td>\n",
       "      <td>49,960</td>\n",
       "      <td>68,550</td>\n",
       "      <td>104,230</td>\n",
       "      <td>151,700</td>\n",
       "      <td>NaN</td>\n",
       "      <td>NaN</td>\n",
       "      <td>10180</td>\n",
       "      <td>90.3</td>\n",
       "    </tr>\n",
       "  </tbody>\n",
       "</table>\n",
       "</div>"
      ],
      "text/plain": [
       "    AREA   AREA_TITLE  AREA_TYPE PRIM_STATE  NAICS     NAICS_TITLE  \\\n",
       "0  10180  Abilene, TX          4         TX      0  Cross-industry   \n",
       "1  10180  Abilene, TX          4         TX      0  Cross-industry   \n",
       "2  10180  Abilene, TX          4         TX      0  Cross-industry   \n",
       "\n",
       "          I_GROUP  OWN_CODE OCC_CODE                        OCC_TITLE  \\\n",
       "0  cross-industry      1235  00-0000                  All Occupations   \n",
       "1  cross-industry      1235  11-0000           Management Occupations   \n",
       "2  cross-industry      1235  11-1021  General and Operations Managers   \n",
       "\n",
       "    O_GROUP TOT_EMP EMP_PRSE JOBS_1000 LOC_QUOTIENT  PCT_TOTAL H_MEAN  A_MEAN  \\\n",
       "0     total  66,060      1.9  1000.000         1.00        NaN  20.64  42,930   \n",
       "1     major   2,910      4.5    44.068         0.77        NaN  42.87  89,160   \n",
       "2  detailed   1,320      7.4    20.036         1.19        NaN  40.38  83,990   \n",
       "\n",
       "  MEAN_PRSE H_PCT10 H_PCT25 H_MEDIAN H_PCT75 H_PCT90 A_PCT10 A_PCT25 A_MEDIAN  \\\n",
       "0       1.8    9.13   11.40    16.41   24.82   36.23  18,990  23,710   34,130   \n",
       "1       2.2   17.38   26.74    36.37   51.68   73.88  36,150  55,620   75,640   \n",
       "2       3.5   12.67   24.02    32.96   50.11   72.93  26,350  49,960   68,550   \n",
       "\n",
       "   A_PCT75  A_PCT90 ANNUAL HOURLY  GeoFips  RPP_all  \n",
       "0   51,620   75,370    NaN    NaN    10180     90.3  \n",
       "1  107,500  153,670    NaN    NaN    10180     90.3  \n",
       "2  104,230  151,700    NaN    NaN    10180     90.3  "
      ]
     },
     "execution_count": 16,
     "metadata": {},
     "output_type": "execute_result"
    }
   ],
   "source": [
    "metro_salary_df[:3]"
   ]
  },
  {
   "cell_type": "markdown",
   "id": "83a0d296",
   "metadata": {},
   "source": [
    "### get salary data as integers"
   ]
  },
  {
   "cell_type": "code",
   "execution_count": 17,
   "id": "8fd287da",
   "metadata": {
    "ExecuteTime": {
     "end_time": "2022-01-17T18:00:05.474187Z",
     "start_time": "2022-01-17T18:00:05.458284Z"
    }
   },
   "outputs": [],
   "source": [
    "def strip_name(name):\n",
    "    return ''.join(filter( lambda x: x in '0123456789abcdefghijklmnopqrstuvwxyz', name.lower()))"
   ]
  },
  {
   "cell_type": "code",
   "execution_count": 18,
   "id": "3f5cc92b",
   "metadata": {
    "ExecuteTime": {
     "end_time": "2022-01-17T18:00:05.491119Z",
     "start_time": "2022-01-17T18:00:05.475890Z"
    }
   },
   "outputs": [],
   "source": [
    "def get_int(x):\n",
    "    try:\n",
    "        return int(strip_name(x))\n",
    "    except:\n",
    "        return np.nan"
   ]
  },
  {
   "cell_type": "code",
   "execution_count": 19,
   "id": "4f485c67",
   "metadata": {
    "ExecuteTime": {
     "end_time": "2022-01-17T18:00:05.535208Z",
     "start_time": "2022-01-17T18:00:05.492852Z"
    }
   },
   "outputs": [
    {
     "data": {
      "text/html": [
       "<div>\n",
       "<style scoped>\n",
       "    .dataframe tbody tr th:only-of-type {\n",
       "        vertical-align: middle;\n",
       "    }\n",
       "\n",
       "    .dataframe tbody tr th {\n",
       "        vertical-align: top;\n",
       "    }\n",
       "\n",
       "    .dataframe thead th {\n",
       "        text-align: right;\n",
       "    }\n",
       "</style>\n",
       "<table border=\"1\" class=\"dataframe\">\n",
       "  <thead>\n",
       "    <tr style=\"text-align: right;\">\n",
       "      <th></th>\n",
       "      <th>AREA</th>\n",
       "      <th>AREA_TITLE</th>\n",
       "      <th>AREA_TYPE</th>\n",
       "      <th>PRIM_STATE</th>\n",
       "      <th>NAICS</th>\n",
       "      <th>NAICS_TITLE</th>\n",
       "      <th>I_GROUP</th>\n",
       "      <th>OWN_CODE</th>\n",
       "      <th>OCC_CODE</th>\n",
       "      <th>OCC_TITLE</th>\n",
       "      <th>O_GROUP</th>\n",
       "      <th>TOT_EMP</th>\n",
       "      <th>EMP_PRSE</th>\n",
       "      <th>JOBS_1000</th>\n",
       "      <th>LOC_QUOTIENT</th>\n",
       "      <th>PCT_TOTAL</th>\n",
       "      <th>H_MEAN</th>\n",
       "      <th>A_MEAN</th>\n",
       "      <th>MEAN_PRSE</th>\n",
       "      <th>H_PCT10</th>\n",
       "      <th>H_PCT25</th>\n",
       "      <th>H_MEDIAN</th>\n",
       "      <th>H_PCT75</th>\n",
       "      <th>H_PCT90</th>\n",
       "      <th>A_PCT10</th>\n",
       "      <th>A_PCT25</th>\n",
       "      <th>A_MEDIAN</th>\n",
       "      <th>A_PCT75</th>\n",
       "      <th>A_PCT90</th>\n",
       "      <th>ANNUAL</th>\n",
       "      <th>HOURLY</th>\n",
       "      <th>GeoFips</th>\n",
       "      <th>RPP_all</th>\n",
       "    </tr>\n",
       "  </thead>\n",
       "  <tbody>\n",
       "    <tr>\n",
       "      <th>0</th>\n",
       "      <td>10180</td>\n",
       "      <td>Abilene, TX</td>\n",
       "      <td>4</td>\n",
       "      <td>TX</td>\n",
       "      <td>0</td>\n",
       "      <td>Cross-industry</td>\n",
       "      <td>cross-industry</td>\n",
       "      <td>1235</td>\n",
       "      <td>00-0000</td>\n",
       "      <td>All Occupations</td>\n",
       "      <td>total</td>\n",
       "      <td>66,060</td>\n",
       "      <td>1.9</td>\n",
       "      <td>1000.000</td>\n",
       "      <td>1.00</td>\n",
       "      <td>NaN</td>\n",
       "      <td>20.64</td>\n",
       "      <td>42,930</td>\n",
       "      <td>1.8</td>\n",
       "      <td>9.13</td>\n",
       "      <td>11.40</td>\n",
       "      <td>16.41</td>\n",
       "      <td>24.82</td>\n",
       "      <td>36.23</td>\n",
       "      <td>18,990</td>\n",
       "      <td>23,710</td>\n",
       "      <td>34,130</td>\n",
       "      <td>51,620</td>\n",
       "      <td>75,370</td>\n",
       "      <td>NaN</td>\n",
       "      <td>NaN</td>\n",
       "      <td>10180</td>\n",
       "      <td>90.3</td>\n",
       "    </tr>\n",
       "    <tr>\n",
       "      <th>1</th>\n",
       "      <td>10180</td>\n",
       "      <td>Abilene, TX</td>\n",
       "      <td>4</td>\n",
       "      <td>TX</td>\n",
       "      <td>0</td>\n",
       "      <td>Cross-industry</td>\n",
       "      <td>cross-industry</td>\n",
       "      <td>1235</td>\n",
       "      <td>11-0000</td>\n",
       "      <td>Management Occupations</td>\n",
       "      <td>major</td>\n",
       "      <td>2,910</td>\n",
       "      <td>4.5</td>\n",
       "      <td>44.068</td>\n",
       "      <td>0.77</td>\n",
       "      <td>NaN</td>\n",
       "      <td>42.87</td>\n",
       "      <td>89,160</td>\n",
       "      <td>2.2</td>\n",
       "      <td>17.38</td>\n",
       "      <td>26.74</td>\n",
       "      <td>36.37</td>\n",
       "      <td>51.68</td>\n",
       "      <td>73.88</td>\n",
       "      <td>36,150</td>\n",
       "      <td>55,620</td>\n",
       "      <td>75,640</td>\n",
       "      <td>107,500</td>\n",
       "      <td>153,670</td>\n",
       "      <td>NaN</td>\n",
       "      <td>NaN</td>\n",
       "      <td>10180</td>\n",
       "      <td>90.3</td>\n",
       "    </tr>\n",
       "    <tr>\n",
       "      <th>2</th>\n",
       "      <td>10180</td>\n",
       "      <td>Abilene, TX</td>\n",
       "      <td>4</td>\n",
       "      <td>TX</td>\n",
       "      <td>0</td>\n",
       "      <td>Cross-industry</td>\n",
       "      <td>cross-industry</td>\n",
       "      <td>1235</td>\n",
       "      <td>11-1021</td>\n",
       "      <td>General and Operations Managers</td>\n",
       "      <td>detailed</td>\n",
       "      <td>1,320</td>\n",
       "      <td>7.4</td>\n",
       "      <td>20.036</td>\n",
       "      <td>1.19</td>\n",
       "      <td>NaN</td>\n",
       "      <td>40.38</td>\n",
       "      <td>83,990</td>\n",
       "      <td>3.5</td>\n",
       "      <td>12.67</td>\n",
       "      <td>24.02</td>\n",
       "      <td>32.96</td>\n",
       "      <td>50.11</td>\n",
       "      <td>72.93</td>\n",
       "      <td>26,350</td>\n",
       "      <td>49,960</td>\n",
       "      <td>68,550</td>\n",
       "      <td>104,230</td>\n",
       "      <td>151,700</td>\n",
       "      <td>NaN</td>\n",
       "      <td>NaN</td>\n",
       "      <td>10180</td>\n",
       "      <td>90.3</td>\n",
       "    </tr>\n",
       "  </tbody>\n",
       "</table>\n",
       "</div>"
      ],
      "text/plain": [
       "    AREA   AREA_TITLE  AREA_TYPE PRIM_STATE  NAICS     NAICS_TITLE  \\\n",
       "0  10180  Abilene, TX          4         TX      0  Cross-industry   \n",
       "1  10180  Abilene, TX          4         TX      0  Cross-industry   \n",
       "2  10180  Abilene, TX          4         TX      0  Cross-industry   \n",
       "\n",
       "          I_GROUP  OWN_CODE OCC_CODE                        OCC_TITLE  \\\n",
       "0  cross-industry      1235  00-0000                  All Occupations   \n",
       "1  cross-industry      1235  11-0000           Management Occupations   \n",
       "2  cross-industry      1235  11-1021  General and Operations Managers   \n",
       "\n",
       "    O_GROUP TOT_EMP EMP_PRSE JOBS_1000 LOC_QUOTIENT  PCT_TOTAL H_MEAN  A_MEAN  \\\n",
       "0     total  66,060      1.9  1000.000         1.00        NaN  20.64  42,930   \n",
       "1     major   2,910      4.5    44.068         0.77        NaN  42.87  89,160   \n",
       "2  detailed   1,320      7.4    20.036         1.19        NaN  40.38  83,990   \n",
       "\n",
       "  MEAN_PRSE H_PCT10 H_PCT25 H_MEDIAN H_PCT75 H_PCT90 A_PCT10 A_PCT25 A_MEDIAN  \\\n",
       "0       1.8    9.13   11.40    16.41   24.82   36.23  18,990  23,710   34,130   \n",
       "1       2.2   17.38   26.74    36.37   51.68   73.88  36,150  55,620   75,640   \n",
       "2       3.5   12.67   24.02    32.96   50.11   72.93  26,350  49,960   68,550   \n",
       "\n",
       "   A_PCT75  A_PCT90 ANNUAL HOURLY  GeoFips  RPP_all  \n",
       "0   51,620   75,370    NaN    NaN    10180     90.3  \n",
       "1  107,500  153,670    NaN    NaN    10180     90.3  \n",
       "2  104,230  151,700    NaN    NaN    10180     90.3  "
      ]
     },
     "execution_count": 19,
     "metadata": {},
     "output_type": "execute_result"
    }
   ],
   "source": [
    "metro_salary_df[:3]"
   ]
  },
  {
   "cell_type": "code",
   "execution_count": 20,
   "id": "bbcd3326",
   "metadata": {
    "ExecuteTime": {
     "end_time": "2022-01-17T18:00:06.282538Z",
     "start_time": "2022-01-17T18:00:05.536894Z"
    }
   },
   "outputs": [],
   "source": [
    "metro_salary_df[\"mean_annual\"] = [get_int(i) for i in metro_salary_df.A_MEAN.values]\n",
    "metro_salary_df[\"median_annual\"] = [get_int(i) for i in metro_salary_df.A_MEDIAN.values]\n",
    "metro_salary_df[\"tot_emp\"] = [get_int(i) for i in metro_salary_df.TOT_EMP.values]"
   ]
  },
  {
   "cell_type": "markdown",
   "id": "e9c285c0",
   "metadata": {},
   "source": [
    "### Get summary stats"
   ]
  },
  {
   "cell_type": "code",
   "execution_count": 21,
   "id": "765e6fd6",
   "metadata": {
    "ExecuteTime": {
     "end_time": "2022-01-17T18:00:06.412499Z",
     "start_time": "2022-01-17T18:00:06.284660Z"
    }
   },
   "outputs": [],
   "source": [
    "median_pay_df = (\n",
    "    metro_salary_df[[\"OCC_TITLE\", \"median_annual\"]]\n",
    "    .groupby(\"OCC_TITLE\")\n",
    "    .mean()\n",
    "    .sort_values(by=\"median_annual\", ascending=False)\n",
    ")"
   ]
  },
  {
   "cell_type": "code",
   "execution_count": 22,
   "id": "a7aa0836",
   "metadata": {
    "ExecuteTime": {
     "end_time": "2022-01-17T18:00:06.437450Z",
     "start_time": "2022-01-17T18:00:06.414996Z"
    }
   },
   "outputs": [
    {
     "data": {
      "text/html": [
       "<div>\n",
       "<style scoped>\n",
       "    .dataframe tbody tr th:only-of-type {\n",
       "        vertical-align: middle;\n",
       "    }\n",
       "\n",
       "    .dataframe tbody tr th {\n",
       "        vertical-align: top;\n",
       "    }\n",
       "\n",
       "    .dataframe thead th {\n",
       "        text-align: right;\n",
       "    }\n",
       "</style>\n",
       "<table border=\"1\" class=\"dataframe\">\n",
       "  <thead>\n",
       "    <tr style=\"text-align: right;\">\n",
       "      <th></th>\n",
       "      <th>median_annual</th>\n",
       "    </tr>\n",
       "    <tr>\n",
       "      <th>OCC_TITLE</th>\n",
       "      <th></th>\n",
       "    </tr>\n",
       "  </thead>\n",
       "  <tbody>\n",
       "    <tr>\n",
       "      <th>Computer Network Support Specialists</th>\n",
       "      <td>59958.250000</td>\n",
       "    </tr>\n",
       "    <tr>\n",
       "      <th>Subway and Streetcar Operators</th>\n",
       "      <td>59950.000000</td>\n",
       "    </tr>\n",
       "    <tr>\n",
       "      <th>Postsecondary Teachers, All Other</th>\n",
       "      <td>59704.946237</td>\n",
       "    </tr>\n",
       "    <tr>\n",
       "      <th>Compensation, Benefits, and Job Analysis Specialists</th>\n",
       "      <td>59688.100000</td>\n",
       "    </tr>\n",
       "    <tr>\n",
       "      <th>Flight Attendants</th>\n",
       "      <td>59672.777778</td>\n",
       "    </tr>\n",
       "    <tr>\n",
       "      <th>Control and Valve Installers and Repairers, Except Mechanical Door</th>\n",
       "      <td>59658.717949</td>\n",
       "    </tr>\n",
       "    <tr>\n",
       "      <th>Middle School Teachers, Except Special and Career/Technical Education</th>\n",
       "      <td>59601.643836</td>\n",
       "    </tr>\n",
       "    <tr>\n",
       "      <th>Special Education Teachers, Middle School</th>\n",
       "      <td>59211.627907</td>\n",
       "    </tr>\n",
       "    <tr>\n",
       "      <th>Wellhead Pumpers</th>\n",
       "      <td>59199.090909</td>\n",
       "    </tr>\n",
       "    <tr>\n",
       "      <th>Survey Researchers</th>\n",
       "      <td>59162.758621</td>\n",
       "    </tr>\n",
       "    <tr>\n",
       "      <th>Special Education Teachers, Preschool</th>\n",
       "      <td>59005.666667</td>\n",
       "    </tr>\n",
       "    <tr>\n",
       "      <th>Loading and Moving Machine Operators, Underground Mining</th>\n",
       "      <td>58996.666667</td>\n",
       "    </tr>\n",
       "    <tr>\n",
       "      <th>Rotary Drill Operators, Oil and Gas</th>\n",
       "      <td>58858.571429</td>\n",
       "    </tr>\n",
       "    <tr>\n",
       "      <th>Elementary School Teachers, Except Special Education</th>\n",
       "      <td>58851.591592</td>\n",
       "    </tr>\n",
       "    <tr>\n",
       "      <th>Radio, Cellular, and Tower Equipment Installers and Repairers</th>\n",
       "      <td>58768.478261</td>\n",
       "    </tr>\n",
       "    <tr>\n",
       "      <th>Electro-Mechanical and Mechatronics Technologists and Technicians</th>\n",
       "      <td>58748.000000</td>\n",
       "    </tr>\n",
       "    <tr>\n",
       "      <th>Airfield Operations Specialists</th>\n",
       "      <td>58722.068966</td>\n",
       "    </tr>\n",
       "    <tr>\n",
       "      <th>Physical Therapist Assistants</th>\n",
       "      <td>58676.724739</td>\n",
       "    </tr>\n",
       "    <tr>\n",
       "      <th>Railroad Brake, Signal, and Switch Operators and Locomotive Firers</th>\n",
       "      <td>58566.666667</td>\n",
       "    </tr>\n",
       "    <tr>\n",
       "      <th>Plant and System Operators, All Other</th>\n",
       "      <td>58420.192308</td>\n",
       "    </tr>\n",
       "  </tbody>\n",
       "</table>\n",
       "</div>"
      ],
      "text/plain": [
       "                                                    median_annual\n",
       "OCC_TITLE                                                        \n",
       "Computer Network Support Specialists                 59958.250000\n",
       "Subway and Streetcar Operators                       59950.000000\n",
       "Postsecondary Teachers, All Other                    59704.946237\n",
       "Compensation, Benefits, and Job Analysis Specia...   59688.100000\n",
       "Flight Attendants                                    59672.777778\n",
       "Control and Valve Installers and Repairers, Exc...   59658.717949\n",
       "Middle School Teachers, Except Special and Care...   59601.643836\n",
       "Special Education Teachers, Middle School            59211.627907\n",
       "Wellhead Pumpers                                     59199.090909\n",
       "Survey Researchers                                   59162.758621\n",
       "Special Education Teachers, Preschool                59005.666667\n",
       "Loading and Moving Machine Operators, Undergrou...   58996.666667\n",
       "Rotary Drill Operators, Oil and Gas                  58858.571429\n",
       "Elementary School Teachers, Except Special Educ...   58851.591592\n",
       "Radio, Cellular, and Tower Equipment Installers...   58768.478261\n",
       "Electro-Mechanical and Mechatronics Technologis...   58748.000000\n",
       "Airfield Operations Specialists                      58722.068966\n",
       "Physical Therapist Assistants                        58676.724739\n",
       "Railroad Brake, Signal, and Switch Operators an...   58566.666667\n",
       "Plant and System Operators, All Other                58420.192308"
      ]
     },
     "execution_count": 22,
     "metadata": {},
     "output_type": "execute_result"
    }
   ],
   "source": [
    "median_pay_df[median_pay_df.median_annual < 60000][:20]"
   ]
  },
  {
   "cell_type": "code",
   "execution_count": 23,
   "id": "33555067",
   "metadata": {
    "ExecuteTime": {
     "end_time": "2022-01-17T18:00:06.453811Z",
     "start_time": "2022-01-17T18:00:06.439416Z"
    }
   },
   "outputs": [],
   "source": [
    "simiar_pay_jobs = median_pay_df[(median_pay_df.median_annual < 65000) & (median_pay_df.median_annual > 45000)].index.values"
   ]
  },
  {
   "cell_type": "code",
   "execution_count": 24,
   "id": "66fcd483",
   "metadata": {
    "ExecuteTime": {
     "end_time": "2022-01-17T18:00:06.488274Z",
     "start_time": "2022-01-17T18:00:06.456076Z"
    }
   },
   "outputs": [],
   "source": [
    "total_employees_df = (\n",
    "    metro_salary_df[[\"OCC_TITLE\", \"tot_emp\"]]\n",
    "    .groupby(\"OCC_TITLE\")\n",
    "    .sum()\n",
    "    .sort_values(by=\"tot_emp\", ascending=False)\n",
    ")"
   ]
  },
  {
   "cell_type": "code",
   "execution_count": 25,
   "id": "163c54b7",
   "metadata": {
    "ExecuteTime": {
     "end_time": "2022-01-17T18:00:06.502722Z",
     "start_time": "2022-01-17T18:00:06.490242Z"
    }
   },
   "outputs": [],
   "source": [
    "similar_jobs_df = total_employees_df[total_employees_df.index.isin(simiar_pay_jobs)]"
   ]
  },
  {
   "cell_type": "code",
   "execution_count": 26,
   "id": "74d6cbc1",
   "metadata": {
    "ExecuteTime": {
     "end_time": "2022-01-17T18:00:06.517551Z",
     "start_time": "2022-01-17T18:00:06.504707Z"
    },
    "scrolled": false
   },
   "outputs": [],
   "source": [
    "#similar_jobs_df.index.values"
   ]
  },
  {
   "cell_type": "markdown",
   "id": "a159a761",
   "metadata": {
    "ExecuteTime": {
     "end_time": "2022-01-14T02:56:53.698846Z",
     "start_time": "2022-01-14T02:56:53.678089Z"
    }
   },
   "source": [
    "### Secondary school teachers "
   ]
  },
  {
   "cell_type": "code",
   "execution_count": 27,
   "id": "8b2fbf8b",
   "metadata": {
    "ExecuteTime": {
     "end_time": "2022-01-17T18:00:06.927243Z",
     "start_time": "2022-01-17T18:00:06.521457Z"
    }
   },
   "outputs": [],
   "source": [
    "import seaborn as sns"
   ]
  },
  {
   "cell_type": "code",
   "execution_count": 28,
   "id": "0d7bf479",
   "metadata": {
    "ExecuteTime": {
     "end_time": "2022-01-17T18:00:06.952616Z",
     "start_time": "2022-01-17T18:00:06.930399Z"
    }
   },
   "outputs": [],
   "source": [
    "occupation_list = [\n",
    "    'Electricians',\n",
    "    \"Automotive Body and Related Repairers\",\n",
    "    \"Postal Service Clerks\",\n",
    "    \"Plumbers, Pipefitters, and Steamfitters\",\n",
    "    \"Janitors and Cleaners, Except Maids and Housekeeping Cleaners\",\n",
    "    \"Carpenters\",\n",
    "    \"Lawyers\",\n",
    "    \"Waiters and Waitresses\",\n",
    "    \"Secondary School Teachers, Except Special and Career/Technical Education\",\n",
    "    \"Elementary School Teachers, Except Special Education\",\n",
    "    \"Accountants and Auditors\",\n",
    "    \"Retail Salespersons\",\n",
    "    \"Nursing Assistants\"\n",
    "]"
   ]
  },
  {
   "cell_type": "code",
   "execution_count": 29,
   "id": "a95e33c2",
   "metadata": {
    "ExecuteTime": {
     "end_time": "2022-01-17T18:00:14.769450Z",
     "start_time": "2022-01-17T18:00:06.954993Z"
    },
    "scrolled": false
   },
   "outputs": [
    {
     "name": "stdout",
     "output_type": "stream",
     "text": [
      "Electricians\n"
     ]
    },
    {
     "name": "stderr",
     "output_type": "stream",
     "text": [
      "<ipython-input-29-2c52eba09814>:4: SettingWithCopyWarning: \n",
      "A value is trying to be set on a copy of a slice from a DataFrame.\n",
      "Try using .loc[row_indexer,col_indexer] = value instead\n",
      "\n",
      "See the caveats in the documentation: https://pandas.pydata.org/pandas-docs/stable/user_guide/indexing.html#returning-a-view-versus-a-copy\n",
      "  occupation_df[\"median_scaled\"] = occupation_df.median_annual.values / (occupation_df.RPP_all.values / 100)\n"
     ]
    },
    {
     "data": {
      "image/png": "[encoded data removed]",
      "text/plain": [
       "<Figure size 432x216 with 2 Axes>"
      ]
     },
     "metadata": {
      "needs_background": "light"
     },
     "output_type": "display_data"
    },
    {
     "name": "stdout",
     "output_type": "stream",
     "text": [
      "Automotive Body and Related Repairers\n"
     ]
    },
    {
     "name": "stderr",
     "output_type": "stream",
     "text": [
      "<ipython-input-29-2c52eba09814>:4: SettingWithCopyWarning: \n",
      "A value is trying to be set on a copy of a slice from a DataFrame.\n",
      "Try using .loc[row_indexer,col_indexer] = value instead\n",
      "\n",
      "See the caveats in the documentation: https://pandas.pydata.org/pandas-docs/stable/user_guide/indexing.html#returning-a-view-versus-a-copy\n",
      "  occupation_df[\"median_scaled\"] = occupation_df.median_annual.values / (occupation_df.RPP_all.values / 100)\n"
     ]
    },
    {
     "data": {
      "image/png": "[encoded data removed]",
      "text/plain": [
       "<Figure size 432x216 with 2 Axes>"
      ]
     },
     "metadata": {
      "needs_background": "light"
     },
     "output_type": "display_data"
    },
    {
     "name": "stdout",
     "output_type": "stream",
     "text": [
      "Postal Service Clerks\n"
     ]
    },
    {
     "name": "stderr",
     "output_type": "stream",
     "text": [
      "<ipython-input-29-2c52eba09814>:4: SettingWithCopyWarning: \n",
      "A value is trying to be set on a copy of a slice from a DataFrame.\n",
      "Try using .loc[row_indexer,col_indexer] = value instead\n",
      "\n",
      "See the caveats in the documentation: https://pandas.pydata.org/pandas-docs/stable/user_guide/indexing.html#returning-a-view-versus-a-copy\n",
      "  occupation_df[\"median_scaled\"] = occupation_df.median_annual.values / (occupation_df.RPP_all.values / 100)\n"
     ]
    },
    {
     "data": {
      "image/png": "[encoded data removed]",
      "text/plain": [
       "<Figure size 432x216 with 2 Axes>"
      ]
     },
     "metadata": {
      "needs_background": "light"
     },
     "output_type": "display_data"
    },
    {
     "name": "stdout",
     "output_type": "stream",
     "text": [
      "Plumbers, Pipefitters, and Steamfitters\n"
     ]
    },
    {
     "name": "stderr",
     "output_type": "stream",
     "text": [
      "<ipython-input-29-2c52eba09814>:4: SettingWithCopyWarning: \n",
      "A value is trying to be set on a copy of a slice from a DataFrame.\n",
      "Try using .loc[row_indexer,col_indexer] = value instead\n",
      "\n",
      "See the caveats in the documentation: https://pandas.pydata.org/pandas-docs/stable/user_guide/indexing.html#returning-a-view-versus-a-copy\n",
      "  occupation_df[\"median_scaled\"] = occupation_df.median_annual.values / (occupation_df.RPP_all.values / 100)\n"
     ]
    },
    {
     "data": {
      "image/png": "[encoded data removed]",
      "text/plain": [
       "<Figure size 432x216 with 2 Axes>"
      ]
     },
     "metadata": {
      "needs_background": "light"
     },
     "output_type": "display_data"
    },
    {
     "name": "stdout",
     "output_type": "stream",
     "text": [
      "Janitors and Cleaners, Except Maids and Housekeeping Cleaners\n"
     ]
    },
    {
     "name": "stderr",
     "output_type": "stream",
     "text": [
      "<ipython-input-29-2c52eba09814>:4: SettingWithCopyWarning: \n",
      "A value is trying to be set on a copy of a slice from a DataFrame.\n",
      "Try using .loc[row_indexer,col_indexer] = value instead\n",
      "\n",
      "See the caveats in the documentation: https://pandas.pydata.org/pandas-docs/stable/user_guide/indexing.html#returning-a-view-versus-a-copy\n",
      "  occupation_df[\"median_scaled\"] = occupation_df.median_annual.values / (occupation_df.RPP_all.values / 100)\n"
     ]
    },
    {
     "data": {
      "image/png": "[encoded data removed]",
      "text/plain": [
       "<Figure size 432x216 with 2 Axes>"
      ]
     },
     "metadata": {
      "needs_background": "light"
     },
     "output_type": "display_data"
    },
    {
     "name": "stdout",
     "output_type": "stream",
     "text": [
      "Carpenters\n"
     ]
    },
    {
     "name": "stderr",
     "output_type": "stream",
     "text": [
      "<ipython-input-29-2c52eba09814>:4: SettingWithCopyWarning: \n",
      "A value is trying to be set on a copy of a slice from a DataFrame.\n",
      "Try using .loc[row_indexer,col_indexer] = value instead\n",
      "\n",
      "See the caveats in the documentation: https://pandas.pydata.org/pandas-docs/stable/user_guide/indexing.html#returning-a-view-versus-a-copy\n",
      "  occupation_df[\"median_scaled\"] = occupation_df.median_annual.values / (occupation_df.RPP_all.values / 100)\n"
     ]
    },
    {
     "data": {
      "image/png": "[encoded data removed]",
      "text/plain": [
       "<Figure size 432x216 with 2 Axes>"
      ]
     },
     "metadata": {
      "needs_background": "light"
     },
     "output_type": "display_data"
    },
    {
     "name": "stdout",
     "output_type": "stream",
     "text": [
      "Lawyers\n"
     ]
    },
    {
     "name": "stderr",
     "output_type": "stream",
     "text": [
      "<ipython-input-29-2c52eba09814>:4: SettingWithCopyWarning: \n",
      "A value is trying to be set on a copy of a slice from a DataFrame.\n",
      "Try using .loc[row_indexer,col_indexer] = value instead\n",
      "\n",
      "See the caveats in the documentation: https://pandas.pydata.org/pandas-docs/stable/user_guide/indexing.html#returning-a-view-versus-a-copy\n",
      "  occupation_df[\"median_scaled\"] = occupation_df.median_annual.values / (occupation_df.RPP_all.values / 100)\n"
     ]
    },
    {
     "data": {
      "image/png": "[encoded data removed]",
      "text/plain": [
       "<Figure size 432x216 with 2 Axes>"
      ]
     },
     "metadata": {
      "needs_background": "light"
     },
     "output_type": "display_data"
    },
    {
     "name": "stdout",
     "output_type": "stream",
     "text": [
      "Waiters and Waitresses\n"
     ]
    },
    {
     "name": "stderr",
     "output_type": "stream",
     "text": [
      "<ipython-input-29-2c52eba09814>:4: SettingWithCopyWarning: \n",
      "A value is trying to be set on a copy of a slice from a DataFrame.\n",
      "Try using .loc[row_indexer,col_indexer] = value instead\n",
      "\n",
      "See the caveats in the documentation: https://pandas.pydata.org/pandas-docs/stable/user_guide/indexing.html#returning-a-view-versus-a-copy\n",
      "  occupation_df[\"median_scaled\"] = occupation_df.median_annual.values / (occupation_df.RPP_all.values / 100)\n"
     ]
    },
    {
     "data": {
      "image/png": "[encoded data removed]",
      "text/plain": [
       "<Figure size 432x216 with 2 Axes>"
      ]
     },
     "metadata": {
      "needs_background": "light"
     },
     "output_type": "display_data"
    },
    {
     "name": "stdout",
     "output_type": "stream",
     "text": [
      "Secondary School Teachers, Except Special and Career/Technical Education\n"
     ]
    },
    {
     "name": "stderr",
     "output_type": "stream",
     "text": [
      "<ipython-input-29-2c52eba09814>:4: SettingWithCopyWarning: \n",
      "A value is trying to be set on a copy of a slice from a DataFrame.\n",
      "Try using .loc[row_indexer,col_indexer] = value instead\n",
      "\n",
      "See the caveats in the documentation: https://pandas.pydata.org/pandas-docs/stable/user_guide/indexing.html#returning-a-view-versus-a-copy\n",
      "  occupation_df[\"median_scaled\"] = occupation_df.median_annual.values / (occupation_df.RPP_all.values / 100)\n"
     ]
    },
    {
     "data": {
      "image/png": "[encoded data removed]",
      "text/plain": [
       "<Figure size 432x216 with 2 Axes>"
      ]
     },
     "metadata": {
      "needs_background": "light"
     },
     "output_type": "display_data"
    },
    {
     "name": "stdout",
     "output_type": "stream",
     "text": [
      "Elementary School Teachers, Except Special Education\n"
     ]
    },
    {
     "name": "stderr",
     "output_type": "stream",
     "text": [
      "<ipython-input-29-2c52eba09814>:4: SettingWithCopyWarning: \n",
      "A value is trying to be set on a copy of a slice from a DataFrame.\n",
      "Try using .loc[row_indexer,col_indexer] = value instead\n",
      "\n",
      "See the caveats in the documentation: https://pandas.pydata.org/pandas-docs/stable/user_guide/indexing.html#returning-a-view-versus-a-copy\n",
      "  occupation_df[\"median_scaled\"] = occupation_df.median_annual.values / (occupation_df.RPP_all.values / 100)\n"
     ]
    },
    {
     "data": {
      "image/png": "[encoded data removed]",
      "text/plain": [
       "<Figure size 432x216 with 2 Axes>"
      ]
     },
     "metadata": {
      "needs_background": "light"
     },
     "output_type": "display_data"
    },
    {
     "name": "stdout",
     "output_type": "stream",
     "text": [
      "Accountants and Auditors\n"
     ]
    },
    {
     "name": "stderr",
     "output_type": "stream",
     "text": [
      "<ipython-input-29-2c52eba09814>:4: SettingWithCopyWarning: \n",
      "A value is trying to be set on a copy of a slice from a DataFrame.\n",
      "Try using .loc[row_indexer,col_indexer] = value instead\n",
      "\n",
      "See the caveats in the documentation: https://pandas.pydata.org/pandas-docs/stable/user_guide/indexing.html#returning-a-view-versus-a-copy\n",
      "  occupation_df[\"median_scaled\"] = occupation_df.median_annual.values / (occupation_df.RPP_all.values / 100)\n"
     ]
    },
    {
     "data": {
      "image/png": "[encoded data removed]",
      "text/plain": [
       "<Figure size 432x216 with 2 Axes>"
      ]
     },
     "metadata": {
      "needs_background": "light"
     },
     "output_type": "display_data"
    },
    {
     "name": "stdout",
     "output_type": "stream",
     "text": [
      "Retail Salespersons\n"
     ]
    },
    {
     "name": "stderr",
     "output_type": "stream",
     "text": [
      "<ipython-input-29-2c52eba09814>:4: SettingWithCopyWarning: \n",
      "A value is trying to be set on a copy of a slice from a DataFrame.\n",
      "Try using .loc[row_indexer,col_indexer] = value instead\n",
      "\n",
      "See the caveats in the documentation: https://pandas.pydata.org/pandas-docs/stable/user_guide/indexing.html#returning-a-view-versus-a-copy\n",
      "  occupation_df[\"median_scaled\"] = occupation_df.median_annual.values / (occupation_df.RPP_all.values / 100)\n"
     ]
    },
    {
     "data": {
      "image/png": "[encoded data removed]",
      "text/plain": [
       "<Figure size 432x216 with 2 Axes>"
      ]
     },
     "metadata": {
      "needs_background": "light"
     },
     "output_type": "display_data"
    },
    {
     "name": "stdout",
     "output_type": "stream",
     "text": [
      "Nursing Assistants\n"
     ]
    },
    {
     "name": "stderr",
     "output_type": "stream",
     "text": [
      "<ipython-input-29-2c52eba09814>:4: SettingWithCopyWarning: \n",
      "A value is trying to be set on a copy of a slice from a DataFrame.\n",
      "Try using .loc[row_indexer,col_indexer] = value instead\n",
      "\n",
      "See the caveats in the documentation: https://pandas.pydata.org/pandas-docs/stable/user_guide/indexing.html#returning-a-view-versus-a-copy\n",
      "  occupation_df[\"median_scaled\"] = occupation_df.median_annual.values / (occupation_df.RPP_all.values / 100)\n"
     ]
    },
    {
     "data": {
      "image/png": "[encoded data removed]",
      "text/plain": [
       "<Figure size 432x216 with 2 Axes>"
      ]
     },
     "metadata": {
      "needs_background": "light"
     },
     "output_type": "display_data"
    }
   ],
   "source": [
    "for occupation in occupation_list:\n",
    "    print(occupation)\n",
    "    occupation_df = metro_salary_df[metro_salary_df.OCC_TITLE == occupation]\n",
    "    occupation_df[\"median_scaled\"] = occupation_df.median_annual.values / (occupation_df.RPP_all.values / 100)\n",
    "    \n",
    "    fig, axs = plt.subplots(ncols=2, figsize=(6,3))\n",
    "    ax = axs[0]\n",
    "    sns.regplot(\n",
    "        x=\"RPP_all\",\n",
    "        y=\"median_annual\",\n",
    "        data=occupation_df,\n",
    "        ax=ax,\n",
    "        color = 'k',\n",
    "        scatter_kws={\n",
    "            \"alpha\": 0.5,\n",
    "            \"s\": 5,\n",
    "        },\n",
    "        line_kws = {\n",
    "            'lw':3,\n",
    "\n",
    "        }\n",
    "    )\n",
    "    ax = axs[1]\n",
    "    sns.regplot(\n",
    "        x=\"RPP_all\",\n",
    "        y=\"median_scaled\",\n",
    "        data=occupation_df,\n",
    "        ax=ax,\n",
    "        color = 'k',\n",
    "        scatter_kws={\n",
    "            \"alpha\": 0.5,\n",
    "            \"s\": 5,\n",
    "        },\n",
    "        line_kws = {\n",
    "            'lw':3,\n",
    "\n",
    "        }\n",
    "    )\n",
    "    plt.show()\n",
    "    #break"
   ]
  },
  {
   "cell_type": "code",
   "execution_count": null,
   "id": "a8bc2581",
   "metadata": {},
   "outputs": [],
   "source": [
    "[i for i in occupation_df.AREA_TITLE.values if 'Los Angeles' in i]"
   ]
  },
  {
   "cell_type": "markdown",
   "id": "ed822c9b",
   "metadata": {},
   "source": [
    "### List incomes for regions"
   ]
  },
  {
   "cell_type": "code",
   "execution_count": 50,
   "id": "e6d517d0",
   "metadata": {
    "ExecuteTime": {
     "end_time": "2022-01-17T18:02:53.421747Z",
     "start_time": "2022-01-17T18:02:53.394827Z"
    }
   },
   "outputs": [],
   "source": [
    "regions_to_plot = [\n",
    "    'San Francisco-Oakland-Hayward, CA',\n",
    "    'Durham-Chapel Hill, NC',\n",
    "    'Chicago-Naperville-Elgin, IL-IN-WI',\n",
    "    'Los Angeles-Long Beach-Anaheim, CA'\n",
    "    \n",
    "]"
   ]
  },
  {
   "cell_type": "code",
   "execution_count": null,
   "id": "73875d20",
   "metadata": {},
   "outputs": [],
   "source": [
    "from IPython.display import display"
   ]
  },
  {
   "cell_type": "code",
   "execution_count": 56,
   "id": "67b577bc",
   "metadata": {
    "ExecuteTime": {
     "end_time": "2022-01-17T18:03:22.049764Z",
     "start_time": "2022-01-17T18:03:21.768684Z"
    },
    "scrolled": false
   },
   "outputs": [
    {
     "name": "stdout",
     "output_type": "stream",
     "text": [
      "Electricians\n"
     ]
    },
    {
     "name": "stderr",
     "output_type": "stream",
     "text": [
      "<ipython-input-56-8161f5c935de>:4: SettingWithCopyWarning: \n",
      "A value is trying to be set on a copy of a slice from a DataFrame.\n",
      "Try using .loc[row_indexer,col_indexer] = value instead\n",
      "\n",
      "See the caveats in the documentation: https://pandas.pydata.org/pandas-docs/stable/user_guide/indexing.html#returning-a-view-versus-a-copy\n",
      "  occupation_df[\"median_scaled\"] = occupation_df.median_annual.values / (occupation_df.RPP_all.values / 100)\n"
     ]
    },
    {
     "data": {
      "text/html": [
       "<div>\n",
       "<style scoped>\n",
       "    .dataframe tbody tr th:only-of-type {\n",
       "        vertical-align: middle;\n",
       "    }\n",
       "\n",
       "    .dataframe tbody tr th {\n",
       "        vertical-align: top;\n",
       "    }\n",
       "\n",
       "    .dataframe thead th {\n",
       "        text-align: right;\n",
       "    }\n",
       "</style>\n",
       "<table border=\"1\" class=\"dataframe\">\n",
       "  <thead>\n",
       "    <tr style=\"text-align: right;\">\n",
       "      <th></th>\n",
       "      <th>AREA_TITLE</th>\n",
       "      <th>median_annual</th>\n",
       "    </tr>\n",
       "  </thead>\n",
       "  <tbody>\n",
       "    <tr>\n",
       "      <th>22720</th>\n",
       "      <td>Chicago-Naperville-Elgin, IL-IN-WI</td>\n",
       "      <td>87630.0</td>\n",
       "    </tr>\n",
       "    <tr>\n",
       "      <th>35132</th>\n",
       "      <td>Durham-Chapel Hill, NC</td>\n",
       "      <td>49950.0</td>\n",
       "    </tr>\n",
       "    <tr>\n",
       "      <th>69077</th>\n",
       "      <td>Los Angeles-Long Beach-Anaheim, CA</td>\n",
       "      <td>74330.0</td>\n",
       "    </tr>\n",
       "    <tr>\n",
       "      <th>105585</th>\n",
       "      <td>San Francisco-Oakland-Hayward, CA</td>\n",
       "      <td>104800.0</td>\n",
       "    </tr>\n",
       "  </tbody>\n",
       "</table>\n",
       "</div>"
      ],
      "text/plain": [
       "                                AREA_TITLE  median_annual\n",
       "22720   Chicago-Naperville-Elgin, IL-IN-WI        87630.0\n",
       "35132               Durham-Chapel Hill, NC        49950.0\n",
       "69077   Los Angeles-Long Beach-Anaheim, CA        74330.0\n",
       "105585   San Francisco-Oakland-Hayward, CA       104800.0"
      ]
     },
     "metadata": {},
     "output_type": "display_data"
    },
    {
     "name": "stdout",
     "output_type": "stream",
     "text": [
      "Automotive Body and Related Repairers\n"
     ]
    },
    {
     "name": "stderr",
     "output_type": "stream",
     "text": [
      "<ipython-input-56-8161f5c935de>:4: SettingWithCopyWarning: \n",
      "A value is trying to be set on a copy of a slice from a DataFrame.\n",
      "Try using .loc[row_indexer,col_indexer] = value instead\n",
      "\n",
      "See the caveats in the documentation: https://pandas.pydata.org/pandas-docs/stable/user_guide/indexing.html#returning-a-view-versus-a-copy\n",
      "  occupation_df[\"median_scaled\"] = occupation_df.median_annual.values / (occupation_df.RPP_all.values / 100)\n"
     ]
    },
    {
     "data": {
      "text/html": [
       "<div>\n",
       "<style scoped>\n",
       "    .dataframe tbody tr th:only-of-type {\n",
       "        vertical-align: middle;\n",
       "    }\n",
       "\n",
       "    .dataframe tbody tr th {\n",
       "        vertical-align: top;\n",
       "    }\n",
       "\n",
       "    .dataframe thead th {\n",
       "        text-align: right;\n",
       "    }\n",
       "</style>\n",
       "<table border=\"1\" class=\"dataframe\">\n",
       "  <thead>\n",
       "    <tr style=\"text-align: right;\">\n",
       "      <th></th>\n",
       "      <th>AREA_TITLE</th>\n",
       "      <th>median_annual</th>\n",
       "    </tr>\n",
       "  </thead>\n",
       "  <tbody>\n",
       "    <tr>\n",
       "      <th>22762</th>\n",
       "      <td>Chicago-Naperville-Elgin, IL-IN-WI</td>\n",
       "      <td>47190.0</td>\n",
       "    </tr>\n",
       "    <tr>\n",
       "      <th>35157</th>\n",
       "      <td>Durham-Chapel Hill, NC</td>\n",
       "      <td>45470.0</td>\n",
       "    </tr>\n",
       "    <tr>\n",
       "      <th>69122</th>\n",
       "      <td>Los Angeles-Long Beach-Anaheim, CA</td>\n",
       "      <td>48270.0</td>\n",
       "    </tr>\n",
       "    <tr>\n",
       "      <th>105627</th>\n",
       "      <td>San Francisco-Oakland-Hayward, CA</td>\n",
       "      <td>61050.0</td>\n",
       "    </tr>\n",
       "  </tbody>\n",
       "</table>\n",
       "</div>"
      ],
      "text/plain": [
       "                                AREA_TITLE  median_annual\n",
       "22762   Chicago-Naperville-Elgin, IL-IN-WI        47190.0\n",
       "35157               Durham-Chapel Hill, NC        45470.0\n",
       "69122   Los Angeles-Long Beach-Anaheim, CA        48270.0\n",
       "105627   San Francisco-Oakland-Hayward, CA        61050.0"
      ]
     },
     "metadata": {},
     "output_type": "display_data"
    },
    {
     "name": "stdout",
     "output_type": "stream",
     "text": [
      "Postal Service Clerks\n"
     ]
    },
    {
     "name": "stderr",
     "output_type": "stream",
     "text": [
      "<ipython-input-56-8161f5c935de>:4: SettingWithCopyWarning: \n",
      "A value is trying to be set on a copy of a slice from a DataFrame.\n",
      "Try using .loc[row_indexer,col_indexer] = value instead\n",
      "\n",
      "See the caveats in the documentation: https://pandas.pydata.org/pandas-docs/stable/user_guide/indexing.html#returning-a-view-versus-a-copy\n",
      "  occupation_df[\"median_scaled\"] = occupation_df.median_annual.values / (occupation_df.RPP_all.values / 100)\n"
     ]
    },
    {
     "data": {
      "text/html": [
       "<div>\n",
       "<style scoped>\n",
       "    .dataframe tbody tr th:only-of-type {\n",
       "        vertical-align: middle;\n",
       "    }\n",
       "\n",
       "    .dataframe tbody tr th {\n",
       "        vertical-align: top;\n",
       "    }\n",
       "\n",
       "    .dataframe thead th {\n",
       "        text-align: right;\n",
       "    }\n",
       "</style>\n",
       "<table border=\"1\" class=\"dataframe\">\n",
       "  <thead>\n",
       "    <tr style=\"text-align: right;\">\n",
       "      <th></th>\n",
       "      <th>AREA_TITLE</th>\n",
       "      <th>median_annual</th>\n",
       "    </tr>\n",
       "  </thead>\n",
       "  <tbody>\n",
       "    <tr>\n",
       "      <th>22676</th>\n",
       "      <td>Chicago-Naperville-Elgin, IL-IN-WI</td>\n",
       "      <td>51150.0</td>\n",
       "    </tr>\n",
       "    <tr>\n",
       "      <th>35108</th>\n",
       "      <td>Durham-Chapel Hill, NC</td>\n",
       "      <td>62980.0</td>\n",
       "    </tr>\n",
       "    <tr>\n",
       "      <th>69033</th>\n",
       "      <td>Los Angeles-Long Beach-Anaheim, CA</td>\n",
       "      <td>47210.0</td>\n",
       "    </tr>\n",
       "    <tr>\n",
       "      <th>105542</th>\n",
       "      <td>San Francisco-Oakland-Hayward, CA</td>\n",
       "      <td>49170.0</td>\n",
       "    </tr>\n",
       "  </tbody>\n",
       "</table>\n",
       "</div>"
      ],
      "text/plain": [
       "                                AREA_TITLE  median_annual\n",
       "22676   Chicago-Naperville-Elgin, IL-IN-WI        51150.0\n",
       "35108               Durham-Chapel Hill, NC        62980.0\n",
       "69033   Los Angeles-Long Beach-Anaheim, CA        47210.0\n",
       "105542   San Francisco-Oakland-Hayward, CA        49170.0"
      ]
     },
     "metadata": {},
     "output_type": "display_data"
    },
    {
     "name": "stdout",
     "output_type": "stream",
     "text": [
      "Plumbers, Pipefitters, and Steamfitters\n"
     ]
    },
    {
     "name": "stderr",
     "output_type": "stream",
     "text": [
      "<ipython-input-56-8161f5c935de>:4: SettingWithCopyWarning: \n",
      "A value is trying to be set on a copy of a slice from a DataFrame.\n",
      "Try using .loc[row_indexer,col_indexer] = value instead\n",
      "\n",
      "See the caveats in the documentation: https://pandas.pydata.org/pandas-docs/stable/user_guide/indexing.html#returning-a-view-versus-a-copy\n",
      "  occupation_df[\"median_scaled\"] = occupation_df.median_annual.values / (occupation_df.RPP_all.values / 100)\n"
     ]
    },
    {
     "data": {
      "text/html": [
       "<div>\n",
       "<style scoped>\n",
       "    .dataframe tbody tr th:only-of-type {\n",
       "        vertical-align: middle;\n",
       "    }\n",
       "\n",
       "    .dataframe tbody tr th {\n",
       "        vertical-align: top;\n",
       "    }\n",
       "\n",
       "    .dataframe thead th {\n",
       "        text-align: right;\n",
       "    }\n",
       "</style>\n",
       "<table border=\"1\" class=\"dataframe\">\n",
       "  <thead>\n",
       "    <tr style=\"text-align: right;\">\n",
       "      <th></th>\n",
       "      <th>AREA_TITLE</th>\n",
       "      <th>median_annual</th>\n",
       "    </tr>\n",
       "  </thead>\n",
       "  <tbody>\n",
       "    <tr>\n",
       "      <th>22726</th>\n",
       "      <td>Chicago-Naperville-Elgin, IL-IN-WI</td>\n",
       "      <td>96910.0</td>\n",
       "    </tr>\n",
       "    <tr>\n",
       "      <th>35136</th>\n",
       "      <td>Durham-Chapel Hill, NC</td>\n",
       "      <td>48220.0</td>\n",
       "    </tr>\n",
       "    <tr>\n",
       "      <th>69082</th>\n",
       "      <td>Los Angeles-Long Beach-Anaheim, CA</td>\n",
       "      <td>55760.0</td>\n",
       "    </tr>\n",
       "    <tr>\n",
       "      <th>105590</th>\n",
       "      <td>San Francisco-Oakland-Hayward, CA</td>\n",
       "      <td>110880.0</td>\n",
       "    </tr>\n",
       "  </tbody>\n",
       "</table>\n",
       "</div>"
      ],
      "text/plain": [
       "                                AREA_TITLE  median_annual\n",
       "22726   Chicago-Naperville-Elgin, IL-IN-WI        96910.0\n",
       "35136               Durham-Chapel Hill, NC        48220.0\n",
       "69082   Los Angeles-Long Beach-Anaheim, CA        55760.0\n",
       "105590   San Francisco-Oakland-Hayward, CA       110880.0"
      ]
     },
     "metadata": {},
     "output_type": "display_data"
    },
    {
     "name": "stdout",
     "output_type": "stream",
     "text": [
      "Janitors and Cleaners, Except Maids and Housekeeping Cleaners\n"
     ]
    },
    {
     "name": "stderr",
     "output_type": "stream",
     "text": [
      "<ipython-input-56-8161f5c935de>:4: SettingWithCopyWarning: \n",
      "A value is trying to be set on a copy of a slice from a DataFrame.\n",
      "Try using .loc[row_indexer,col_indexer] = value instead\n",
      "\n",
      "See the caveats in the documentation: https://pandas.pydata.org/pandas-docs/stable/user_guide/indexing.html#returning-a-view-versus-a-copy\n",
      "  occupation_df[\"median_scaled\"] = occupation_df.median_annual.values / (occupation_df.RPP_all.values / 100)\n"
     ]
    },
    {
     "data": {
      "text/html": [
       "<div>\n",
       "<style scoped>\n",
       "    .dataframe tbody tr th:only-of-type {\n",
       "        vertical-align: middle;\n",
       "    }\n",
       "\n",
       "    .dataframe tbody tr th {\n",
       "        vertical-align: top;\n",
       "    }\n",
       "\n",
       "    .dataframe thead th {\n",
       "        text-align: right;\n",
       "    }\n",
       "</style>\n",
       "<table border=\"1\" class=\"dataframe\">\n",
       "  <thead>\n",
       "    <tr style=\"text-align: right;\">\n",
       "      <th></th>\n",
       "      <th>AREA_TITLE</th>\n",
       "      <th>median_annual</th>\n",
       "    </tr>\n",
       "  </thead>\n",
       "  <tbody>\n",
       "    <tr>\n",
       "      <th>22584</th>\n",
       "      <td>Chicago-Naperville-Elgin, IL-IN-WI</td>\n",
       "      <td>31010.0</td>\n",
       "    </tr>\n",
       "    <tr>\n",
       "      <th>35046</th>\n",
       "      <td>Durham-Chapel Hill, NC</td>\n",
       "      <td>30730.0</td>\n",
       "    </tr>\n",
       "    <tr>\n",
       "      <th>68939</th>\n",
       "      <td>Los Angeles-Long Beach-Anaheim, CA</td>\n",
       "      <td>32210.0</td>\n",
       "    </tr>\n",
       "    <tr>\n",
       "      <th>105457</th>\n",
       "      <td>San Francisco-Oakland-Hayward, CA</td>\n",
       "      <td>38910.0</td>\n",
       "    </tr>\n",
       "  </tbody>\n",
       "</table>\n",
       "</div>"
      ],
      "text/plain": [
       "                                AREA_TITLE  median_annual\n",
       "22584   Chicago-Naperville-Elgin, IL-IN-WI        31010.0\n",
       "35046               Durham-Chapel Hill, NC        30730.0\n",
       "68939   Los Angeles-Long Beach-Anaheim, CA        32210.0\n",
       "105457   San Francisco-Oakland-Hayward, CA        38910.0"
      ]
     },
     "metadata": {},
     "output_type": "display_data"
    },
    {
     "name": "stdout",
     "output_type": "stream",
     "text": [
      "Carpenters\n"
     ]
    },
    {
     "name": "stderr",
     "output_type": "stream",
     "text": [
      "<ipython-input-56-8161f5c935de>:4: SettingWithCopyWarning: \n",
      "A value is trying to be set on a copy of a slice from a DataFrame.\n",
      "Try using .loc[row_indexer,col_indexer] = value instead\n",
      "\n",
      "See the caveats in the documentation: https://pandas.pydata.org/pandas-docs/stable/user_guide/indexing.html#returning-a-view-versus-a-copy\n",
      "  occupation_df[\"median_scaled\"] = occupation_df.median_annual.values / (occupation_df.RPP_all.values / 100)\n"
     ]
    },
    {
     "data": {
      "text/html": [
       "<div>\n",
       "<style scoped>\n",
       "    .dataframe tbody tr th:only-of-type {\n",
       "        vertical-align: middle;\n",
       "    }\n",
       "\n",
       "    .dataframe tbody tr th {\n",
       "        vertical-align: top;\n",
       "    }\n",
       "\n",
       "    .dataframe thead th {\n",
       "        text-align: right;\n",
       "    }\n",
       "</style>\n",
       "<table border=\"1\" class=\"dataframe\">\n",
       "  <thead>\n",
       "    <tr style=\"text-align: right;\">\n",
       "      <th></th>\n",
       "      <th>AREA_TITLE</th>\n",
       "      <th>median_annual</th>\n",
       "    </tr>\n",
       "  </thead>\n",
       "  <tbody>\n",
       "    <tr>\n",
       "      <th>22709</th>\n",
       "      <td>Chicago-Naperville-Elgin, IL-IN-WI</td>\n",
       "      <td>84100.0</td>\n",
       "    </tr>\n",
       "    <tr>\n",
       "      <th>35127</th>\n",
       "      <td>Durham-Chapel Hill, NC</td>\n",
       "      <td>38640.0</td>\n",
       "    </tr>\n",
       "    <tr>\n",
       "      <th>69065</th>\n",
       "      <td>Los Angeles-Long Beach-Anaheim, CA</td>\n",
       "      <td>65630.0</td>\n",
       "    </tr>\n",
       "    <tr>\n",
       "      <th>105573</th>\n",
       "      <td>San Francisco-Oakland-Hayward, CA</td>\n",
       "      <td>71520.0</td>\n",
       "    </tr>\n",
       "  </tbody>\n",
       "</table>\n",
       "</div>"
      ],
      "text/plain": [
       "                                AREA_TITLE  median_annual\n",
       "22709   Chicago-Naperville-Elgin, IL-IN-WI        84100.0\n",
       "35127               Durham-Chapel Hill, NC        38640.0\n",
       "69065   Los Angeles-Long Beach-Anaheim, CA        65630.0\n",
       "105573   San Francisco-Oakland-Hayward, CA        71520.0"
      ]
     },
     "metadata": {},
     "output_type": "display_data"
    },
    {
     "name": "stdout",
     "output_type": "stream",
     "text": [
      "Lawyers\n"
     ]
    },
    {
     "name": "stderr",
     "output_type": "stream",
     "text": [
      "<ipython-input-56-8161f5c935de>:4: SettingWithCopyWarning: \n",
      "A value is trying to be set on a copy of a slice from a DataFrame.\n",
      "Try using .loc[row_indexer,col_indexer] = value instead\n",
      "\n",
      "See the caveats in the documentation: https://pandas.pydata.org/pandas-docs/stable/user_guide/indexing.html#returning-a-view-versus-a-copy\n",
      "  occupation_df[\"median_scaled\"] = occupation_df.median_annual.values / (occupation_df.RPP_all.values / 100)\n"
     ]
    },
    {
     "data": {
      "text/html": [
       "<div>\n",
       "<style scoped>\n",
       "    .dataframe tbody tr th:only-of-type {\n",
       "        vertical-align: middle;\n",
       "    }\n",
       "\n",
       "    .dataframe tbody tr th {\n",
       "        vertical-align: top;\n",
       "    }\n",
       "\n",
       "    .dataframe thead th {\n",
       "        text-align: right;\n",
       "    }\n",
       "</style>\n",
       "<table border=\"1\" class=\"dataframe\">\n",
       "  <thead>\n",
       "    <tr style=\"text-align: right;\">\n",
       "      <th></th>\n",
       "      <th>AREA_TITLE</th>\n",
       "      <th>median_annual</th>\n",
       "    </tr>\n",
       "  </thead>\n",
       "  <tbody>\n",
       "    <tr>\n",
       "      <th>22363</th>\n",
       "      <td>Chicago-Naperville-Elgin, IL-IN-WI</td>\n",
       "      <td>131440.0</td>\n",
       "    </tr>\n",
       "    <tr>\n",
       "      <th>34908</th>\n",
       "      <td>Durham-Chapel Hill, NC</td>\n",
       "      <td>104730.0</td>\n",
       "    </tr>\n",
       "    <tr>\n",
       "      <th>68720</th>\n",
       "      <td>Los Angeles-Long Beach-Anaheim, CA</td>\n",
       "      <td>161810.0</td>\n",
       "    </tr>\n",
       "    <tr>\n",
       "      <th>105258</th>\n",
       "      <td>San Francisco-Oakland-Hayward, CA</td>\n",
       "      <td>183720.0</td>\n",
       "    </tr>\n",
       "  </tbody>\n",
       "</table>\n",
       "</div>"
      ],
      "text/plain": [
       "                                AREA_TITLE  median_annual\n",
       "22363   Chicago-Naperville-Elgin, IL-IN-WI       131440.0\n",
       "34908               Durham-Chapel Hill, NC       104730.0\n",
       "68720   Los Angeles-Long Beach-Anaheim, CA       161810.0\n",
       "105258   San Francisco-Oakland-Hayward, CA       183720.0"
      ]
     },
     "metadata": {},
     "output_type": "display_data"
    },
    {
     "name": "stdout",
     "output_type": "stream",
     "text": [
      "Waiters and Waitresses\n"
     ]
    },
    {
     "name": "stderr",
     "output_type": "stream",
     "text": [
      "<ipython-input-56-8161f5c935de>:4: SettingWithCopyWarning: \n",
      "A value is trying to be set on a copy of a slice from a DataFrame.\n",
      "Try using .loc[row_indexer,col_indexer] = value instead\n",
      "\n",
      "See the caveats in the documentation: https://pandas.pydata.org/pandas-docs/stable/user_guide/indexing.html#returning-a-view-versus-a-copy\n",
      "  occupation_df[\"median_scaled\"] = occupation_df.median_annual.values / (occupation_df.RPP_all.values / 100)\n"
     ]
    },
    {
     "data": {
      "text/html": [
       "<div>\n",
       "<style scoped>\n",
       "    .dataframe tbody tr th:only-of-type {\n",
       "        vertical-align: middle;\n",
       "    }\n",
       "\n",
       "    .dataframe tbody tr th {\n",
       "        vertical-align: top;\n",
       "    }\n",
       "\n",
       "    .dataframe thead th {\n",
       "        text-align: right;\n",
       "    }\n",
       "</style>\n",
       "<table border=\"1\" class=\"dataframe\">\n",
       "  <thead>\n",
       "    <tr style=\"text-align: right;\">\n",
       "      <th></th>\n",
       "      <th>AREA_TITLE</th>\n",
       "      <th>median_annual</th>\n",
       "    </tr>\n",
       "  </thead>\n",
       "  <tbody>\n",
       "    <tr>\n",
       "      <th>22575</th>\n",
       "      <td>Chicago-Naperville-Elgin, IL-IN-WI</td>\n",
       "      <td>19890.0</td>\n",
       "    </tr>\n",
       "    <tr>\n",
       "      <th>35037</th>\n",
       "      <td>Durham-Chapel Hill, NC</td>\n",
       "      <td>22480.0</td>\n",
       "    </tr>\n",
       "    <tr>\n",
       "      <th>68930</th>\n",
       "      <td>Los Angeles-Long Beach-Anaheim, CA</td>\n",
       "      <td>29360.0</td>\n",
       "    </tr>\n",
       "    <tr>\n",
       "      <th>105448</th>\n",
       "      <td>San Francisco-Oakland-Hayward, CA</td>\n",
       "      <td>34020.0</td>\n",
       "    </tr>\n",
       "  </tbody>\n",
       "</table>\n",
       "</div>"
      ],
      "text/plain": [
       "                                AREA_TITLE  median_annual\n",
       "22575   Chicago-Naperville-Elgin, IL-IN-WI        19890.0\n",
       "35037               Durham-Chapel Hill, NC        22480.0\n",
       "68930   Los Angeles-Long Beach-Anaheim, CA        29360.0\n",
       "105448   San Francisco-Oakland-Hayward, CA        34020.0"
      ]
     },
     "metadata": {},
     "output_type": "display_data"
    },
    {
     "name": "stdout",
     "output_type": "stream",
     "text": [
      "Secondary School Teachers, Except Special and Career/Technical Education\n"
     ]
    },
    {
     "name": "stderr",
     "output_type": "stream",
     "text": [
      "<ipython-input-56-8161f5c935de>:4: SettingWithCopyWarning: \n",
      "A value is trying to be set on a copy of a slice from a DataFrame.\n",
      "Try using .loc[row_indexer,col_indexer] = value instead\n",
      "\n",
      "See the caveats in the documentation: https://pandas.pydata.org/pandas-docs/stable/user_guide/indexing.html#returning-a-view-versus-a-copy\n",
      "  occupation_df[\"median_scaled\"] = occupation_df.median_annual.values / (occupation_df.RPP_all.values / 100)\n"
     ]
    },
    {
     "data": {
      "text/html": [
       "<div>\n",
       "<style scoped>\n",
       "    .dataframe tbody tr th:only-of-type {\n",
       "        vertical-align: middle;\n",
       "    }\n",
       "\n",
       "    .dataframe tbody tr th {\n",
       "        vertical-align: top;\n",
       "    }\n",
       "\n",
       "    .dataframe thead th {\n",
       "        text-align: right;\n",
       "    }\n",
       "</style>\n",
       "<table border=\"1\" class=\"dataframe\">\n",
       "  <thead>\n",
       "    <tr style=\"text-align: right;\">\n",
       "      <th></th>\n",
       "      <th>AREA_TITLE</th>\n",
       "      <th>median_annual</th>\n",
       "    </tr>\n",
       "  </thead>\n",
       "  <tbody>\n",
       "    <tr>\n",
       "      <th>22412</th>\n",
       "      <td>Chicago-Naperville-Elgin, IL-IN-WI</td>\n",
       "      <td>79910.0</td>\n",
       "    </tr>\n",
       "    <tr>\n",
       "      <th>34924</th>\n",
       "      <td>Durham-Chapel Hill, NC</td>\n",
       "      <td>52530.0</td>\n",
       "    </tr>\n",
       "    <tr>\n",
       "      <th>68766</th>\n",
       "      <td>Los Angeles-Long Beach-Anaheim, CA</td>\n",
       "      <td>88850.0</td>\n",
       "    </tr>\n",
       "    <tr>\n",
       "      <th>105299</th>\n",
       "      <td>San Francisco-Oakland-Hayward, CA</td>\n",
       "      <td>92940.0</td>\n",
       "    </tr>\n",
       "  </tbody>\n",
       "</table>\n",
       "</div>"
      ],
      "text/plain": [
       "                                AREA_TITLE  median_annual\n",
       "22412   Chicago-Naperville-Elgin, IL-IN-WI        79910.0\n",
       "34924               Durham-Chapel Hill, NC        52530.0\n",
       "68766   Los Angeles-Long Beach-Anaheim, CA        88850.0\n",
       "105299   San Francisco-Oakland-Hayward, CA        92940.0"
      ]
     },
     "metadata": {},
     "output_type": "display_data"
    },
    {
     "name": "stdout",
     "output_type": "stream",
     "text": [
      "Elementary School Teachers, Except Special Education\n"
     ]
    },
    {
     "name": "stderr",
     "output_type": "stream",
     "text": [
      "<ipython-input-56-8161f5c935de>:4: SettingWithCopyWarning: \n",
      "A value is trying to be set on a copy of a slice from a DataFrame.\n",
      "Try using .loc[row_indexer,col_indexer] = value instead\n",
      "\n",
      "See the caveats in the documentation: https://pandas.pydata.org/pandas-docs/stable/user_guide/indexing.html#returning-a-view-versus-a-copy\n",
      "  occupation_df[\"median_scaled\"] = occupation_df.median_annual.values / (occupation_df.RPP_all.values / 100)\n"
     ]
    },
    {
     "data": {
      "text/html": [
       "<div>\n",
       "<style scoped>\n",
       "    .dataframe tbody tr th:only-of-type {\n",
       "        vertical-align: middle;\n",
       "    }\n",
       "\n",
       "    .dataframe tbody tr th {\n",
       "        vertical-align: top;\n",
       "    }\n",
       "\n",
       "    .dataframe thead th {\n",
       "        text-align: right;\n",
       "    }\n",
       "</style>\n",
       "<table border=\"1\" class=\"dataframe\">\n",
       "  <thead>\n",
       "    <tr style=\"text-align: right;\">\n",
       "      <th></th>\n",
       "      <th>AREA_TITLE</th>\n",
       "      <th>median_annual</th>\n",
       "    </tr>\n",
       "  </thead>\n",
       "  <tbody>\n",
       "    <tr>\n",
       "      <th>22409</th>\n",
       "      <td>Chicago-Naperville-Elgin, IL-IN-WI</td>\n",
       "      <td>65970.0</td>\n",
       "    </tr>\n",
       "    <tr>\n",
       "      <th>34922</th>\n",
       "      <td>Durham-Chapel Hill, NC</td>\n",
       "      <td>48620.0</td>\n",
       "    </tr>\n",
       "    <tr>\n",
       "      <th>68764</th>\n",
       "      <td>Los Angeles-Long Beach-Anaheim, CA</td>\n",
       "      <td>92480.0</td>\n",
       "    </tr>\n",
       "    <tr>\n",
       "      <th>105297</th>\n",
       "      <td>San Francisco-Oakland-Hayward, CA</td>\n",
       "      <td>82870.0</td>\n",
       "    </tr>\n",
       "  </tbody>\n",
       "</table>\n",
       "</div>"
      ],
      "text/plain": [
       "                                AREA_TITLE  median_annual\n",
       "22409   Chicago-Naperville-Elgin, IL-IN-WI        65970.0\n",
       "34922               Durham-Chapel Hill, NC        48620.0\n",
       "68764   Los Angeles-Long Beach-Anaheim, CA        92480.0\n",
       "105297   San Francisco-Oakland-Hayward, CA        82870.0"
      ]
     },
     "metadata": {},
     "output_type": "display_data"
    },
    {
     "name": "stdout",
     "output_type": "stream",
     "text": [
      "Accountants and Auditors\n"
     ]
    },
    {
     "name": "stderr",
     "output_type": "stream",
     "text": [
      "<ipython-input-56-8161f5c935de>:4: SettingWithCopyWarning: \n",
      "A value is trying to be set on a copy of a slice from a DataFrame.\n",
      "Try using .loc[row_indexer,col_indexer] = value instead\n",
      "\n",
      "See the caveats in the documentation: https://pandas.pydata.org/pandas-docs/stable/user_guide/indexing.html#returning-a-view-versus-a-copy\n",
      "  occupation_df[\"median_scaled\"] = occupation_df.median_annual.values / (occupation_df.RPP_all.values / 100)\n"
     ]
    },
    {
     "data": {
      "text/html": [
       "<div>\n",
       "<style scoped>\n",
       "    .dataframe tbody tr th:only-of-type {\n",
       "        vertical-align: middle;\n",
       "    }\n",
       "\n",
       "    .dataframe tbody tr th {\n",
       "        vertical-align: top;\n",
       "    }\n",
       "\n",
       "    .dataframe thead th {\n",
       "        text-align: right;\n",
       "    }\n",
       "</style>\n",
       "<table border=\"1\" class=\"dataframe\">\n",
       "  <thead>\n",
       "    <tr style=\"text-align: right;\">\n",
       "      <th></th>\n",
       "      <th>AREA_TITLE</th>\n",
       "      <th>median_annual</th>\n",
       "    </tr>\n",
       "  </thead>\n",
       "  <tbody>\n",
       "    <tr>\n",
       "      <th>22240</th>\n",
       "      <td>Chicago-Naperville-Elgin, IL-IN-WI</td>\n",
       "      <td>72960.0</td>\n",
       "    </tr>\n",
       "    <tr>\n",
       "      <th>34818</th>\n",
       "      <td>Durham-Chapel Hill, NC</td>\n",
       "      <td>73720.0</td>\n",
       "    </tr>\n",
       "    <tr>\n",
       "      <th>68598</th>\n",
       "      <td>Los Angeles-Long Beach-Anaheim, CA</td>\n",
       "      <td>74900.0</td>\n",
       "    </tr>\n",
       "    <tr>\n",
       "      <th>105141</th>\n",
       "      <td>San Francisco-Oakland-Hayward, CA</td>\n",
       "      <td>90460.0</td>\n",
       "    </tr>\n",
       "  </tbody>\n",
       "</table>\n",
       "</div>"
      ],
      "text/plain": [
       "                                AREA_TITLE  median_annual\n",
       "22240   Chicago-Naperville-Elgin, IL-IN-WI        72960.0\n",
       "34818               Durham-Chapel Hill, NC        73720.0\n",
       "68598   Los Angeles-Long Beach-Anaheim, CA        74900.0\n",
       "105141   San Francisco-Oakland-Hayward, CA        90460.0"
      ]
     },
     "metadata": {},
     "output_type": "display_data"
    },
    {
     "name": "stdout",
     "output_type": "stream",
     "text": [
      "Retail Salespersons\n"
     ]
    },
    {
     "name": "stderr",
     "output_type": "stream",
     "text": [
      "<ipython-input-56-8161f5c935de>:4: SettingWithCopyWarning: \n",
      "A value is trying to be set on a copy of a slice from a DataFrame.\n",
      "Try using .loc[row_indexer,col_indexer] = value instead\n",
      "\n",
      "See the caveats in the documentation: https://pandas.pydata.org/pandas-docs/stable/user_guide/indexing.html#returning-a-view-versus-a-copy\n",
      "  occupation_df[\"median_scaled\"] = occupation_df.median_annual.values / (occupation_df.RPP_all.values / 100)\n"
     ]
    },
    {
     "data": {
      "text/html": [
       "<div>\n",
       "<style scoped>\n",
       "    .dataframe tbody tr th:only-of-type {\n",
       "        vertical-align: middle;\n",
       "    }\n",
       "\n",
       "    .dataframe tbody tr th {\n",
       "        vertical-align: top;\n",
       "    }\n",
       "\n",
       "    .dataframe thead th {\n",
       "        text-align: right;\n",
       "    }\n",
       "</style>\n",
       "<table border=\"1\" class=\"dataframe\">\n",
       "  <thead>\n",
       "    <tr style=\"text-align: right;\">\n",
       "      <th></th>\n",
       "      <th>AREA_TITLE</th>\n",
       "      <th>median_annual</th>\n",
       "    </tr>\n",
       "  </thead>\n",
       "  <tbody>\n",
       "    <tr>\n",
       "      <th>22626</th>\n",
       "      <td>Chicago-Naperville-Elgin, IL-IN-WI</td>\n",
       "      <td>27300.0</td>\n",
       "    </tr>\n",
       "    <tr>\n",
       "      <th>35071</th>\n",
       "      <td>Durham-Chapel Hill, NC</td>\n",
       "      <td>24620.0</td>\n",
       "    </tr>\n",
       "    <tr>\n",
       "      <th>68982</th>\n",
       "      <td>Los Angeles-Long Beach-Anaheim, CA</td>\n",
       "      <td>31230.0</td>\n",
       "    </tr>\n",
       "    <tr>\n",
       "      <th>105498</th>\n",
       "      <td>San Francisco-Oakland-Hayward, CA</td>\n",
       "      <td>34270.0</td>\n",
       "    </tr>\n",
       "  </tbody>\n",
       "</table>\n",
       "</div>"
      ],
      "text/plain": [
       "                                AREA_TITLE  median_annual\n",
       "22626   Chicago-Naperville-Elgin, IL-IN-WI        27300.0\n",
       "35071               Durham-Chapel Hill, NC        24620.0\n",
       "68982   Los Angeles-Long Beach-Anaheim, CA        31230.0\n",
       "105498   San Francisco-Oakland-Hayward, CA        34270.0"
      ]
     },
     "metadata": {},
     "output_type": "display_data"
    },
    {
     "name": "stdout",
     "output_type": "stream",
     "text": [
      "Nursing Assistants\n"
     ]
    },
    {
     "name": "stderr",
     "output_type": "stream",
     "text": [
      "<ipython-input-56-8161f5c935de>:4: SettingWithCopyWarning: \n",
      "A value is trying to be set on a copy of a slice from a DataFrame.\n",
      "Try using .loc[row_indexer,col_indexer] = value instead\n",
      "\n",
      "See the caveats in the documentation: https://pandas.pydata.org/pandas-docs/stable/user_guide/indexing.html#returning-a-view-versus-a-copy\n",
      "  occupation_df[\"median_scaled\"] = occupation_df.median_annual.values / (occupation_df.RPP_all.values / 100)\n"
     ]
    },
    {
     "data": {
      "text/html": [
       "<div>\n",
       "<style scoped>\n",
       "    .dataframe tbody tr th:only-of-type {\n",
       "        vertical-align: middle;\n",
       "    }\n",
       "\n",
       "    .dataframe tbody tr th {\n",
       "        vertical-align: top;\n",
       "    }\n",
       "\n",
       "    .dataframe thead th {\n",
       "        text-align: right;\n",
       "    }\n",
       "</style>\n",
       "<table border=\"1\" class=\"dataframe\">\n",
       "  <thead>\n",
       "    <tr style=\"text-align: right;\">\n",
       "      <th></th>\n",
       "      <th>AREA_TITLE</th>\n",
       "      <th>median_annual</th>\n",
       "    </tr>\n",
       "  </thead>\n",
       "  <tbody>\n",
       "    <tr>\n",
       "      <th>22527</th>\n",
       "      <td>Chicago-Naperville-Elgin, IL-IN-WI</td>\n",
       "      <td>31100.0</td>\n",
       "    </tr>\n",
       "    <tr>\n",
       "      <th>35002</th>\n",
       "      <td>Durham-Chapel Hill, NC</td>\n",
       "      <td>30720.0</td>\n",
       "    </tr>\n",
       "    <tr>\n",
       "      <th>68882</th>\n",
       "      <td>Los Angeles-Long Beach-Anaheim, CA</td>\n",
       "      <td>37050.0</td>\n",
       "    </tr>\n",
       "    <tr>\n",
       "      <th>105405</th>\n",
       "      <td>San Francisco-Oakland-Hayward, CA</td>\n",
       "      <td>46030.0</td>\n",
       "    </tr>\n",
       "  </tbody>\n",
       "</table>\n",
       "</div>"
      ],
      "text/plain": [
       "                                AREA_TITLE  median_annual\n",
       "22527   Chicago-Naperville-Elgin, IL-IN-WI        31100.0\n",
       "35002               Durham-Chapel Hill, NC        30720.0\n",
       "68882   Los Angeles-Long Beach-Anaheim, CA        37050.0\n",
       "105405   San Francisco-Oakland-Hayward, CA        46030.0"
      ]
     },
     "metadata": {},
     "output_type": "display_data"
    }
   ],
   "source": [
    "for occupation in occupation_list:\n",
    "    print(occupation)\n",
    "    occupation_df = metro_salary_df[metro_salary_df.OCC_TITLE == occupation]\n",
    "    occupation_df[\"median_scaled\"] = occupation_df.median_annual.values / (occupation_df.RPP_all.values / 100)\n",
    "    display(occupation_df[occupation_df.AREA_TITLE.isin(regions_to_plot)][['AREA_TITLE', 'median_annual']])"
   ]
  },
  {
   "cell_type": "code",
   "execution_count": 54,
   "id": "238b690b",
   "metadata": {
    "ExecuteTime": {
     "end_time": "2022-01-17T18:03:14.001397Z",
     "start_time": "2022-01-17T18:03:13.976098Z"
    }
   },
   "outputs": [],
   "source": []
  },
  {
   "cell_type": "code",
   "execution_count": 55,
   "id": "4d63a339",
   "metadata": {
    "ExecuteTime": {
     "end_time": "2022-01-17T18:03:14.125163Z",
     "start_time": "2022-01-17T18:03:14.095626Z"
    }
   },
   "outputs": [
    {
     "data": {
      "text/html": [
       "<div>\n",
       "<style scoped>\n",
       "    .dataframe tbody tr th:only-of-type {\n",
       "        vertical-align: middle;\n",
       "    }\n",
       "\n",
       "    .dataframe tbody tr th {\n",
       "        vertical-align: top;\n",
       "    }\n",
       "\n",
       "    .dataframe thead th {\n",
       "        text-align: right;\n",
       "    }\n",
       "</style>\n",
       "<table border=\"1\" class=\"dataframe\">\n",
       "  <thead>\n",
       "    <tr style=\"text-align: right;\">\n",
       "      <th></th>\n",
       "      <th>AREA_TITLE</th>\n",
       "      <th>median_annual</th>\n",
       "    </tr>\n",
       "  </thead>\n",
       "  <tbody>\n",
       "    <tr>\n",
       "      <th>22527</th>\n",
       "      <td>Chicago-Naperville-Elgin, IL-IN-WI</td>\n",
       "      <td>31100.0</td>\n",
       "    </tr>\n",
       "    <tr>\n",
       "      <th>35002</th>\n",
       "      <td>Durham-Chapel Hill, NC</td>\n",
       "      <td>30720.0</td>\n",
       "    </tr>\n",
       "    <tr>\n",
       "      <th>68882</th>\n",
       "      <td>Los Angeles-Long Beach-Anaheim, CA</td>\n",
       "      <td>37050.0</td>\n",
       "    </tr>\n",
       "    <tr>\n",
       "      <th>105405</th>\n",
       "      <td>San Francisco-Oakland-Hayward, CA</td>\n",
       "      <td>46030.0</td>\n",
       "    </tr>\n",
       "  </tbody>\n",
       "</table>\n",
       "</div>"
      ],
      "text/plain": [
       "                                AREA_TITLE  median_annual\n",
       "22527   Chicago-Naperville-Elgin, IL-IN-WI        31100.0\n",
       "35002               Durham-Chapel Hill, NC        30720.0\n",
       "68882   Los Angeles-Long Beach-Anaheim, CA        37050.0\n",
       "105405   San Francisco-Oakland-Hayward, CA        46030.0"
      ]
     },
     "metadata": {},
     "output_type": "display_data"
    }
   ],
   "source": []
  },
  {
   "cell_type": "code",
   "execution_count": null,
   "id": "4b3f9453",
   "metadata": {},
   "outputs": [],
   "source": []
  }
 ],
 "metadata": {
  "kernelspec": {
   "display_name": "postdoc",
   "language": "python",
   "name": "postdoc"
  },
  "language_info": {
   "codemirror_mode": {
    "name": "ipython",
    "version": 3
   },
   "file_extension": ".py",
   "mimetype": "text/x-python",
   "name": "python",
   "nbconvert_exporter": "python",
   "pygments_lexer": "ipython3",
   "version": "3.8.12"
  }
 },
 "nbformat": 4,
 "nbformat_minor": 5
}
