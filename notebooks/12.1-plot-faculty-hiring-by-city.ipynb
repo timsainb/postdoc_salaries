{
 "cells": [
  {
   "cell_type": "markdown",
   "id": "3d78fc5c",
   "metadata": {},
   "source": [
    "### Plot faculty hiring distribution by city"
   ]
  },
  {
   "cell_type": "code",
   "execution_count": 1,
   "id": "713e5c81",
   "metadata": {
    "ExecuteTime": {
     "end_time": "2022-01-17T16:55:07.398041Z",
     "start_time": "2022-01-17T16:55:07.383263Z"
    }
   },
   "outputs": [],
   "source": [
    "%load_ext autoreload\n",
    "%autoreload 2"
   ]
  },
  {
   "cell_type": "code",
   "execution_count": 2,
   "id": "8fa73a66",
   "metadata": {
    "ExecuteTime": {
     "end_time": "2022-01-17T16:55:08.157377Z",
     "start_time": "2022-01-17T16:55:07.400619Z"
    }
   },
   "outputs": [
    {
     "name": "stderr",
     "output_type": "stream",
     "text": [
      "<ipython-input-2-57b724ca8b01>:5: TqdmExperimentalWarning: Using `tqdm.autonotebook.tqdm` in notebook mode. Use `tqdm.tqdm` instead to force console mode (e.g. in jupyter console)\n",
      "  from tqdm.autonotebook import tqdm\n"
     ]
    }
   ],
   "source": [
    "import numpy as np\n",
    "import pandas as pd\n",
    "import matplotlib.pyplot as plt\n",
    "%matplotlib inline\n",
    "from tqdm.autonotebook import tqdm\n",
    "from postdocsalary.paths import DATA_DIR, ensure_dir\n",
    "import urllib.request\n",
    "pd.set_option('display.max_columns', None)\n",
    "from postdocsalary.paths import save_fig, FIGURE_DIR"
   ]
  },
  {
   "cell_type": "code",
   "execution_count": 3,
   "id": "2cafae2b",
   "metadata": {
    "ExecuteTime": {
     "end_time": "2022-01-17T16:55:08.176726Z",
     "start_time": "2022-01-17T16:55:08.159560Z"
    }
   },
   "outputs": [],
   "source": [
    "CBSA_df = pd.read_pickle(DATA_DIR / 'city_hiring.pickle')"
   ]
  },
  {
   "cell_type": "code",
   "execution_count": 4,
   "id": "cc28d889",
   "metadata": {
    "ExecuteTime": {
     "end_time": "2022-01-17T16:55:08.208731Z",
     "start_time": "2022-01-17T16:55:08.178529Z"
    }
   },
   "outputs": [
    {
     "data": {
      "text/html": [
       "<div>\n",
       "<style scoped>\n",
       "    .dataframe tbody tr th:only-of-type {\n",
       "        vertical-align: middle;\n",
       "    }\n",
       "\n",
       "    .dataframe tbody tr th {\n",
       "        vertical-align: top;\n",
       "    }\n",
       "\n",
       "    .dataframe thead th {\n",
       "        text-align: right;\n",
       "    }\n",
       "</style>\n",
       "<table border=\"1\" class=\"dataframe\">\n",
       "  <thead>\n",
       "    <tr style=\"text-align: right;\">\n",
       "      <th></th>\n",
       "      <th>CBSA_NAME</th>\n",
       "      <th>RPP_all</th>\n",
       "      <th>total_hires</th>\n",
       "      <th>prop_hires</th>\n",
       "      <th>n_uni</th>\n",
       "      <th>n_grad</th>\n",
       "      <th>prop_grad</th>\n",
       "      <th>cum_grad</th>\n",
       "      <th>cum_hires</th>\n",
       "      <th>hiring_grad_disparity</th>\n",
       "    </tr>\n",
       "  </thead>\n",
       "  <tbody>\n",
       "    <tr>\n",
       "      <th>2</th>\n",
       "      <td>Boston-Cambridge-Newton, MA-NH</td>\n",
       "      <td>115.5</td>\n",
       "      <td>1604.0</td>\n",
       "      <td>0.115679</td>\n",
       "      <td>10</td>\n",
       "      <td>2325.0</td>\n",
       "      <td>0.059061</td>\n",
       "      <td>0.059061</td>\n",
       "      <td>0.115679</td>\n",
       "      <td>1.958626</td>\n",
       "    </tr>\n",
       "    <tr>\n",
       "      <th>0</th>\n",
       "      <td>Chicago-Naperville-Elgin, IL-IN-WI</td>\n",
       "      <td>102.8</td>\n",
       "      <td>919.0</td>\n",
       "      <td>0.066277</td>\n",
       "      <td>6</td>\n",
       "      <td>1506.0</td>\n",
       "      <td>0.038256</td>\n",
       "      <td>0.097317</td>\n",
       "      <td>0.181956</td>\n",
       "      <td>1.732450</td>\n",
       "    </tr>\n",
       "    <tr>\n",
       "      <th>6</th>\n",
       "      <td>New York-Newark-Jersey City, NY-NJ-PA</td>\n",
       "      <td>125.7</td>\n",
       "      <td>854.0</td>\n",
       "      <td>0.061589</td>\n",
       "      <td>5</td>\n",
       "      <td>1268.0</td>\n",
       "      <td>0.032211</td>\n",
       "      <td>0.129528</td>\n",
       "      <td>0.243545</td>\n",
       "      <td>1.912092</td>\n",
       "    </tr>\n",
       "  </tbody>\n",
       "</table>\n",
       "</div>"
      ],
      "text/plain": [
       "                               CBSA_NAME  RPP_all  total_hires  prop_hires  \\\n",
       "2         Boston-Cambridge-Newton, MA-NH    115.5       1604.0    0.115679   \n",
       "0     Chicago-Naperville-Elgin, IL-IN-WI    102.8        919.0    0.066277   \n",
       "6  New York-Newark-Jersey City, NY-NJ-PA    125.7        854.0    0.061589   \n",
       "\n",
       "   n_uni  n_grad  prop_grad  cum_grad  cum_hires  hiring_grad_disparity  \n",
       "2     10  2325.0   0.059061  0.059061   0.115679               1.958626  \n",
       "0      6  1506.0   0.038256  0.097317   0.181956               1.732450  \n",
       "6      5  1268.0   0.032211  0.129528   0.243545               1.912092  "
      ]
     },
     "execution_count": 4,
     "metadata": {},
     "output_type": "execute_result"
    }
   ],
   "source": [
    "CBSA_df[:3]"
   ]
  },
  {
   "cell_type": "code",
   "execution_count": 5,
   "id": "98e2ca1e",
   "metadata": {
    "ExecuteTime": {
     "end_time": "2022-01-17T16:55:08.642629Z",
     "start_time": "2022-01-17T16:55:08.210440Z"
    }
   },
   "outputs": [],
   "source": [
    "import seaborn as sns"
   ]
  },
  {
   "cell_type": "code",
   "execution_count": 6,
   "id": "5e81a118",
   "metadata": {
    "ExecuteTime": {
     "end_time": "2022-01-17T16:55:08.667705Z",
     "start_time": "2022-01-17T16:55:08.644563Z"
    }
   },
   "outputs": [
    {
     "data": {
      "text/html": [
       "<svg  width=\"550\" height=\"55\"><rect x=\"0\" y=\"0\" width=\"55\" height=\"55\" style=\"fill:#e41a1c;stroke-width:2;stroke:rgb(255,255,255)\"/><rect x=\"55\" y=\"0\" width=\"55\" height=\"55\" style=\"fill:#377eb8;stroke-width:2;stroke:rgb(255,255,255)\"/><rect x=\"110\" y=\"0\" width=\"55\" height=\"55\" style=\"fill:#4daf4a;stroke-width:2;stroke:rgb(255,255,255)\"/><rect x=\"165\" y=\"0\" width=\"55\" height=\"55\" style=\"fill:#984ea3;stroke-width:2;stroke:rgb(255,255,255)\"/><rect x=\"220\" y=\"0\" width=\"55\" height=\"55\" style=\"fill:#ff7f00;stroke-width:2;stroke:rgb(255,255,255)\"/><rect x=\"275\" y=\"0\" width=\"55\" height=\"55\" style=\"fill:#ffff33;stroke-width:2;stroke:rgb(255,255,255)\"/><rect x=\"330\" y=\"0\" width=\"55\" height=\"55\" style=\"fill:#a65628;stroke-width:2;stroke:rgb(255,255,255)\"/><rect x=\"385\" y=\"0\" width=\"55\" height=\"55\" style=\"fill:#f781bf;stroke-width:2;stroke:rgb(255,255,255)\"/><rect x=\"440\" y=\"0\" width=\"55\" height=\"55\" style=\"fill:#999999;stroke-width:2;stroke:rgb(255,255,255)\"/><rect x=\"495\" y=\"0\" width=\"55\" height=\"55\" style=\"fill:#e41a1c;stroke-width:2;stroke:rgb(255,255,255)\"/></svg>"
      ],
      "text/plain": [
       "[(0.8941176470588236, 0.10196078431372549, 0.10980392156862745),\n",
       " (0.21568627450980393, 0.49411764705882355, 0.7215686274509804),\n",
       " (0.30196078431372547, 0.6862745098039216, 0.2901960784313726),\n",
       " (0.596078431372549, 0.3058823529411765, 0.6392156862745098),\n",
       " (1.0, 0.4980392156862745, 0.0),\n",
       " (1.0, 1.0, 0.2),\n",
       " (0.6509803921568628, 0.33725490196078434, 0.1568627450980392),\n",
       " (0.9686274509803922, 0.5058823529411764, 0.7490196078431373),\n",
       " (0.6, 0.6, 0.6),\n",
       " (0.8941176470588236, 0.10196078431372549, 0.10980392156862745)]"
      ]
     },
     "execution_count": 6,
     "metadata": {},
     "output_type": "execute_result"
    }
   ],
   "source": [
    "pal = sns.color_palette('Set1', 10)\n",
    "pal"
   ]
  },
  {
   "cell_type": "markdown",
   "id": "a29559f6",
   "metadata": {},
   "source": [
    "### Top cities by RPP"
   ]
  },
  {
   "cell_type": "code",
   "execution_count": 7,
   "id": "1cf1b950",
   "metadata": {
    "ExecuteTime": {
     "end_time": "2022-01-17T16:55:08.687475Z",
     "start_time": "2022-01-17T16:55:08.670635Z"
    }
   },
   "outputs": [],
   "source": [
    "nex = 10\n",
    "top_n = len(CBSA_df)"
   ]
  },
  {
   "cell_type": "code",
   "execution_count": 8,
   "id": "820b9de4",
   "metadata": {
    "ExecuteTime": {
     "end_time": "2022-01-17T16:55:10.294500Z",
     "start_time": "2022-01-17T16:55:08.689475Z"
    }
   },
   "outputs": [
    {
     "data": {
      "image/png": "[encoded data removed]",
      "text/plain": [
       "<Figure size 72x432 with 2 Axes>"
      ]
     },
     "metadata": {
      "needs_background": "light"
     },
     "output_type": "display_data"
    }
   ],
   "source": [
    "xlim = [0, 1600]\n",
    "\n",
    "sort_mask = np.argsort(CBSA_df[\"total_hires\"].values)[::-1]\n",
    "fig, axs = plt.subplots(\n",
    "    nrows=2,\n",
    "    figsize=(1, 6),\n",
    "    gridspec_kw={\"wspace\": 0, \"hspace\": 0, \"height_ratios\": [1, 1.3]},\n",
    ")\n",
    "\n",
    "ax = axs[0]\n",
    "y = CBSA_df[\"total_hires\"].values[sort_mask][nex:top_n]\n",
    "ax.barh(\n",
    "    np.arange(len(CBSA_df))[nex:top_n],\n",
    "    y,\n",
    "    color=[pal[8] if np.sign(i) > 0 else pal[8] for i in y],\n",
    ")\n",
    "ax.axvline(0, color='k', lw=6)\n",
    "\n",
    "ax.set_xlim(xlim)\n",
    "ax.set_ylim([nex, top_n])\n",
    "# ax.set_xticks([])\n",
    "[i.set_linewidth(0.0) for i in ax.spines.values()]\n",
    "ax.set_yticks([])\n",
    "ax.set_xticks([])\n",
    "\n",
    "ax = axs[1]\n",
    "y = CBSA_df[\"total_hires\"].values[sort_mask][:nex]\n",
    "ax.barh(\n",
    "    np.arange(len(CBSA_df))[:nex] + 1,\n",
    "    y,\n",
    "    color=[pal[8] if np.sign(i) > 0 else pal[8] for i in y],\n",
    ")\n",
    "[i.set_linewidth(0.0) for i in ax.spines.values()]\n",
    "ax.tick_params(left=False)\n",
    "# ax.axvline(0, color=\"k\", ls=\"dashed\")\n",
    "# ax.set_xlabel('University ranking (ranked)')\n",
    "# ax.set_ylabel('Regional salary value relative median ($)')\n",
    "# ax.set_yscale('log')\n",
    "ax.set_xlim(xlim)\n",
    "ax.set_ylim([0.25, nex + 0.5])\n",
    "# ax.set_xticks([])\n",
    "if True:\n",
    "    ax.set_yticks(np.arange(1, nex + 1))\n",
    "    names = [\n",
    "        \"{} ($n$={})\".format(i, j)\n",
    "        for i, j in zip(\n",
    "            CBSA_df[\"CBSA_NAME\"].values[sort_mask][:nex],\n",
    "            CBSA_df[\"total_hires\"].values[sort_mask][:nex],\n",
    "        )\n",
    "\n",
    "    ]\n",
    "    ax.set_yticklabels(names)\n",
    "else:\n",
    "    ax.set_yticks([])\n",
    "# ax.set_yticklabels(CBSA_df[\"institution\"].values[sort_mask][:20])\n",
    "ax.spines[\"bottom\"].set_linewidth(6)\n",
    "ax.xaxis.set_tick_params(labelsize=14)\n",
    "#ax.set_xticks([-10000, -5000, 0, 5000, 10000])\n",
    "#ax.set_xticklabels([\"-$10k\", \"-$5k\", \"$0\", \"$5k\", \"$10k\"])\n",
    "ax.axvline(0, color='k', lw=6)\n",
    "save_fig(FIGURE_DIR / 'city_hires')"
   ]
  },
  {
   "cell_type": "markdown",
   "id": "76f4dcc0",
   "metadata": {
    "ExecuteTime": {
     "end_time": "2022-01-15T16:12:40.771629Z",
     "start_time": "2022-01-15T16:12:40.734772Z"
    }
   },
   "source": [
    "### RPP"
   ]
  },
  {
   "cell_type": "code",
   "execution_count": 9,
   "id": "d5a6a7e3",
   "metadata": {
    "ExecuteTime": {
     "end_time": "2022-01-17T16:55:10.316426Z",
     "start_time": "2022-01-17T16:55:10.296154Z"
    }
   },
   "outputs": [
    {
     "data": {
      "text/html": [
       "<svg  width=\"550\" height=\"55\"><rect x=\"0\" y=\"0\" width=\"55\" height=\"55\" style=\"fill:#f3f1f7;stroke-width:2;stroke:rgb(255,255,255)\"/><rect x=\"55\" y=\"0\" width=\"55\" height=\"55\" style=\"fill:#e6e5f1;stroke-width:2;stroke:rgb(255,255,255)\"/><rect x=\"110\" y=\"0\" width=\"55\" height=\"55\" style=\"fill:#d5d5e9;stroke-width:2;stroke:rgb(255,255,255)\"/><rect x=\"165\" y=\"0\" width=\"55\" height=\"55\" style=\"fill:#bebfdd;stroke-width:2;stroke:rgb(255,255,255)\"/><rect x=\"220\" y=\"0\" width=\"55\" height=\"55\" style=\"fill:#a9a7cf;stroke-width:2;stroke:rgb(255,255,255)\"/><rect x=\"275\" y=\"0\" width=\"55\" height=\"55\" style=\"fill:#9390c3;stroke-width:2;stroke:rgb(255,255,255)\"/><rect x=\"330\" y=\"0\" width=\"55\" height=\"55\" style=\"fill:#7e79b8;stroke-width:2;stroke:rgb(255,255,255)\"/><rect x=\"385\" y=\"0\" width=\"55\" height=\"55\" style=\"fill:#6e58a7;stroke-width:2;stroke:rgb(255,255,255)\"/><rect x=\"440\" y=\"0\" width=\"55\" height=\"55\" style=\"fill:#5e3a98;stroke-width:2;stroke:rgb(255,255,255)\"/><rect x=\"495\" y=\"0\" width=\"55\" height=\"55\" style=\"fill:#4e1c8a;stroke-width:2;stroke:rgb(255,255,255)\"/></svg>"
      ],
      "text/plain": [
       "[(0.951449442522107, 0.9446981930026913, 0.969519415609381),\n",
       " (0.9007612456747405, 0.8963936947327951, 0.9434063821607074),\n",
       " (0.8355247981545559, 0.8361707035755478, 0.9118800461361014),\n",
       " (0.7469434832756633, 0.7505420991926183, 0.8675893886966551),\n",
       " (0.6620530565167244, 0.653440984236832, 0.8126105344098424),\n",
       " (0.5771626297577854, 0.5628911956939638, 0.7645059592464436),\n",
       " (0.4948558246828143, 0.47598615916955017, 0.7219838523644752),\n",
       " (0.4298961937716263, 0.3460668973471741, 0.6540715109573241),\n",
       " (0.36764321414840445, 0.22592848904267587, 0.5955401768550557),\n",
       " (0.30648212226066895, 0.11035755478662054, 0.5411303344867359)]"
      ]
     },
     "execution_count": 9,
     "metadata": {},
     "output_type": "execute_result"
    }
   ],
   "source": [
    "palpur = sns.color_palette('Purples', 10)\n",
    "palpur"
   ]
  },
  {
   "cell_type": "code",
   "execution_count": 10,
   "id": "1ca8b8c4",
   "metadata": {
    "ExecuteTime": {
     "end_time": "2022-01-17T16:55:10.333959Z",
     "start_time": "2022-01-17T16:55:10.317915Z"
    }
   },
   "outputs": [
    {
     "data": {
      "text/plain": [
       "83.2"
      ]
     },
     "execution_count": 10,
     "metadata": {},
     "output_type": "execute_result"
    }
   ],
   "source": [
    "np.min(CBSA_df['RPP_all'])"
   ]
  },
  {
   "cell_type": "code",
   "execution_count": 11,
   "id": "5d5e27d8",
   "metadata": {
    "ExecuteTime": {
     "end_time": "2022-01-17T16:55:11.082477Z",
     "start_time": "2022-01-17T16:55:10.335602Z"
    },
    "scrolled": false
   },
   "outputs": [
    {
     "data": {
      "image/png": "[encoded data removed]",
      "text/plain": [
       "<Figure size 144x432 with 2 Axes>"
      ]
     },
     "metadata": {
      "needs_background": "light"
     },
     "output_type": "display_data"
    }
   ],
   "source": [
    "sort_mask = np.argsort(CBSA_df[\"total_hires\"].values)[::-1]\n",
    "fig, axs = plt.subplots(\n",
    "    nrows=2,\n",
    "    figsize=(2, 6),\n",
    "    gridspec_kw={\"wspace\": 0, \"hspace\": 0, \"height_ratios\": [1, 1.3]},\n",
    ")\n",
    "\n",
    "ax = axs[0]\n",
    "y = CBSA_df[\"RPP_all\"].values[sort_mask][nex:top_n] - 100\n",
    "ax.barh(\n",
    "    np.arange(len(CBSA_df))[nex:top_n],\n",
    "    y,\n",
    "    color=[palpur[6] if np.sign(i) > 0 else palpur[3] for i in y],\n",
    ")\n",
    "ax.set_xlim([-20, 40])\n",
    "ax.set_ylim([nex, top_n])\n",
    "# ax.set_xticks([])\n",
    "[i.set_linewidth(0.0) for i in ax.spines.values()]\n",
    "ax.set_yticks([])\n",
    "ax.set_xticks([])\n",
    "#ax.axvline(0, color='k', lw=3)\n",
    "\n",
    "ax = axs[1]\n",
    "y = CBSA_df[\"RPP_all\"].values[sort_mask][:nex] - 100\n",
    "ax.barh(\n",
    "    np.arange(len(CBSA_df))[:nex] + 1,\n",
    "    y,\n",
    "    color=[palpur[6] if np.sign(i) > 0 else palpur[3] for i in y],\n",
    ")\n",
    "[i.set_linewidth(0.0) for i in ax.spines.values()]\n",
    "ax.tick_params(left=False)\n",
    "# ax.axvline(0, color=\"k\", ls=\"dashed\")\n",
    "# ax.set_xlabel('University ranking (ranked)')\n",
    "# ax.set_ylabel('Regional salary value relative median ($)')\n",
    "# ax.set_yscale('log')\n",
    "ax.set_xlim([-20, 40])\n",
    "ax.set_ylim([0.25, nex + 0.5])\n",
    "# ax.set_xticks([])\n",
    "if False:\n",
    "    ax.set_yticks(np.arange(1, nex + 1))\n",
    "    names = [\n",
    "        \"{} ($n$={})\".format(i, j)\n",
    "        for i, j in zip(\n",
    "            CBSA_df[\"CBSA_NAME\"].values[sort_mask][:nex],\n",
    "            CBSA_df[\"total_hires\"].values[sort_mask][:nex],\n",
    "        )\n",
    "\n",
    "    ]\n",
    "    ax.set_yticklabels(names)\n",
    "else:\n",
    "    ax.set_yticks([])\n",
    "# ax.set_yticklabels(CBSA_df[\"institution\"].values[sort_mask][:20])\n",
    "ax.spines[\"bottom\"].set_linewidth(4)\n",
    "ax.xaxis.set_tick_params(labelsize=14)\n",
    "ax.set_xticks([-20, 0, 20])\n",
    "#ax.axvline(0, color='k', lw=3)\n",
    "ax.set_xticklabels(['80', '100', '120'])\n",
    "save_fig(FIGURE_DIR / 'city_RPP')"
   ]
  },
  {
   "cell_type": "markdown",
   "id": "0e6dcdc1",
   "metadata": {},
   "source": [
    "### Top cities by hires"
   ]
  },
  {
   "cell_type": "code",
   "execution_count": 12,
   "id": "6c7dab10",
   "metadata": {
    "ExecuteTime": {
     "end_time": "2022-01-17T16:55:11.103891Z",
     "start_time": "2022-01-17T16:55:11.084114Z"
    }
   },
   "outputs": [
    {
     "data": {
      "text/html": [
       "<svg  width=\"550\" height=\"55\"><rect x=\"0\" y=\"0\" width=\"55\" height=\"55\" style=\"fill:#e5eff9;stroke-width:2;stroke:rgb(255,255,255)\"/><rect x=\"55\" y=\"0\" width=\"55\" height=\"55\" style=\"fill:#d3e4f3;stroke-width:2;stroke:rgb(255,255,255)\"/><rect x=\"110\" y=\"0\" width=\"55\" height=\"55\" style=\"fill:#bfd8ed;stroke-width:2;stroke:rgb(255,255,255)\"/><rect x=\"165\" y=\"0\" width=\"55\" height=\"55\" style=\"fill:#a1cbe2;stroke-width:2;stroke:rgb(255,255,255)\"/><rect x=\"220\" y=\"0\" width=\"55\" height=\"55\" style=\"fill:#7db8da;stroke-width:2;stroke:rgb(255,255,255)\"/><rect x=\"275\" y=\"0\" width=\"55\" height=\"55\" style=\"fill:#5ca4d0;stroke-width:2;stroke:rgb(255,255,255)\"/><rect x=\"330\" y=\"0\" width=\"55\" height=\"55\" style=\"fill:#3f8fc5;stroke-width:2;stroke:rgb(255,255,255)\"/><rect x=\"385\" y=\"0\" width=\"55\" height=\"55\" style=\"fill:#2676b8;stroke-width:2;stroke:rgb(255,255,255)\"/><rect x=\"440\" y=\"0\" width=\"55\" height=\"55\" style=\"fill:#135fa7;stroke-width:2;stroke:rgb(255,255,255)\"/><rect x=\"495\" y=\"0\" width=\"55\" height=\"55\" style=\"fill:#08488e;stroke-width:2;stroke:rgb(255,255,255)\"/></svg>"
      ],
      "text/plain": [
       "[(0.8978854286812764, 0.939038831218762, 0.977362552864283),\n",
       " (0.828881199538639, 0.8937639369473279, 0.954725105728566),\n",
       " (0.7506343713956171, 0.8478431372549019, 0.9282122260668974),\n",
       " (0.6325259515570935, 0.7976470588235294, 0.8868742791234141),\n",
       " (0.491764705882353, 0.7219684736639754, 0.8547789311803152),\n",
       " (0.36159938485198, 0.6427374086889658, 0.8165782391387928),\n",
       " (0.24816608996539793, 0.5618915801614763, 0.7709803921568628),\n",
       " (0.15072664359861593, 0.4644521337946943, 0.7207843137254902),\n",
       " (0.07481737793156479, 0.3732564398308343, 0.6552095347943099),\n",
       " (0.03137254901960784, 0.28161476355247983, 0.5582622068435218)]"
      ]
     },
     "execution_count": 12,
     "metadata": {},
     "output_type": "execute_result"
    }
   ],
   "source": [
    "palblue = sns.color_palette('Blues', 10)\n",
    "palblue"
   ]
  },
  {
   "cell_type": "code",
   "execution_count": 13,
   "id": "48db5fe0",
   "metadata": {
    "ExecuteTime": {
     "end_time": "2022-01-17T16:55:11.856639Z",
     "start_time": "2022-01-17T16:55:11.105461Z"
    }
   },
   "outputs": [
    {
     "data": {
      "image/png": "[encoded data removed]",
      "text/plain": [
       "<Figure size 144x432 with 2 Axes>"
      ]
     },
     "metadata": {
      "needs_background": "light"
     },
     "output_type": "display_data"
    }
   ],
   "source": [
    "xlim = [-1, 3]\n",
    "metric = \"hiring_grad_disparity\"\n",
    "sort_mask = np.argsort(CBSA_df[\"total_hires\"].values)[::-1]\n",
    "fig, axs = plt.subplots(\n",
    "    nrows=2,\n",
    "    figsize=(2, 6),\n",
    "    gridspec_kw={\"wspace\": 0, \"hspace\": 0, \"height_ratios\": [1, 1.3]},\n",
    ")\n",
    "\n",
    "ax = axs[0]\n",
    "#ax.axvline(0, color='k', lw=3)\n",
    "\n",
    "y = CBSA_df[metric].values[sort_mask][nex:top_n]-1\n",
    "ax.barh(\n",
    "    np.arange(len(CBSA_df))[nex:top_n],\n",
    "    y,\n",
    "    color=[palblue[6] if np.sign(i) > 0 else palblue[3] for i in y],\n",
    ")\n",
    "ax.set_xlim(xlim)\n",
    "ax.set_ylim([nex, top_n])\n",
    "# ax.set_xticks([])\n",
    "[i.set_linewidth(0.0) for i in ax.spines.values()]\n",
    "ax.set_yticks([])\n",
    "ax.set_xticks([])\n",
    "\n",
    "ax = axs[1]\n",
    "y = CBSA_df[metric].values[sort_mask][:nex] -1\n",
    "ax.barh(\n",
    "    np.arange(len(CBSA_df))[:nex] + 1,\n",
    "    y,\n",
    "    color=[palblue[6] if np.sign(i) > 0 else palblue[3] for i in y],\n",
    ")\n",
    "[i.set_linewidth(0.0) for i in ax.spines.values()]\n",
    "ax.tick_params(left=False)\n",
    "# ax.axvline(0, color=\"k\", ls=\"dashed\")\n",
    "# ax.set_xlabel('University ranking (ranked)')\n",
    "# ax.set_ylabel('Regional salary value relative median ($)')\n",
    "# ax.set_yscale('log')\n",
    "ax.set_xlim(xlim)\n",
    "ax.set_ylim([0.25, nex + 0.5])\n",
    "# ax.set_xticks([])\n",
    "if False:\n",
    "    ax.set_yticks(np.arange(1, nex + 1))\n",
    "    names = [\n",
    "        \"{} ($n$={})\".format(i, j)\n",
    "        for i, j in zip(\n",
    "            CBSA_df[\"CBSA_NAME\"].values[sort_mask][:nex],\n",
    "            CBSA_df[\"total_hires\"].values[sort_mask][:nex],\n",
    "        )\n",
    "\n",
    "    ]\n",
    "    ax.set_yticklabels(names)\n",
    "else:\n",
    "    ax.set_yticks([])\n",
    "\n",
    "    \n",
    "# ax.set_yticklabels(CBSA_df[\"institution\"].values[sort_mask][:20])\n",
    "ax.spines[\"bottom\"].set_linewidth(4)\n",
    "ax.xaxis.set_tick_params(labelsize=14)\n",
    "#ax.set_xticks([-10000, -5000, 0, 5000, 10000])\n",
    "#ax.set_xticklabels([\"-$10k\", \"-$5k\", \"$0\", \"$5k\", \"$10k\"])\n",
    "#ax.axvline(0, color='k', lw=3)\n",
    "ax.set_xticks([0,3])\n",
    "save_fig(FIGURE_DIR / 'city_hiring_disparity')"
   ]
  },
  {
   "cell_type": "code",
   "execution_count": 14,
   "id": "96d2e05a",
   "metadata": {
    "ExecuteTime": {
     "end_time": "2022-01-17T16:55:11.886347Z",
     "start_time": "2022-01-17T16:55:11.858210Z"
    }
   },
   "outputs": [
    {
     "data": {
      "text/html": [
       "<div>\n",
       "<style scoped>\n",
       "    .dataframe tbody tr th:only-of-type {\n",
       "        vertical-align: middle;\n",
       "    }\n",
       "\n",
       "    .dataframe tbody tr th {\n",
       "        vertical-align: top;\n",
       "    }\n",
       "\n",
       "    .dataframe thead th {\n",
       "        text-align: right;\n",
       "    }\n",
       "</style>\n",
       "<table border=\"1\" class=\"dataframe\">\n",
       "  <thead>\n",
       "    <tr style=\"text-align: right;\">\n",
       "      <th></th>\n",
       "      <th>CBSA_NAME</th>\n",
       "      <th>RPP_all</th>\n",
       "      <th>total_hires</th>\n",
       "      <th>prop_hires</th>\n",
       "      <th>n_uni</th>\n",
       "      <th>n_grad</th>\n",
       "      <th>prop_grad</th>\n",
       "      <th>cum_grad</th>\n",
       "      <th>cum_hires</th>\n",
       "      <th>hiring_grad_disparity</th>\n",
       "    </tr>\n",
       "  </thead>\n",
       "  <tbody>\n",
       "    <tr>\n",
       "      <th>2</th>\n",
       "      <td>Boston-Cambridge-Newton, MA-NH</td>\n",
       "      <td>115.5</td>\n",
       "      <td>1604.0</td>\n",
       "      <td>0.115679</td>\n",
       "      <td>10</td>\n",
       "      <td>2325.0</td>\n",
       "      <td>0.059061</td>\n",
       "      <td>0.059061</td>\n",
       "      <td>0.115679</td>\n",
       "      <td>1.958626</td>\n",
       "    </tr>\n",
       "    <tr>\n",
       "      <th>0</th>\n",
       "      <td>Chicago-Naperville-Elgin, IL-IN-WI</td>\n",
       "      <td>102.8</td>\n",
       "      <td>919.0</td>\n",
       "      <td>0.066277</td>\n",
       "      <td>6</td>\n",
       "      <td>1506.0</td>\n",
       "      <td>0.038256</td>\n",
       "      <td>0.097317</td>\n",
       "      <td>0.181956</td>\n",
       "      <td>1.732450</td>\n",
       "    </tr>\n",
       "    <tr>\n",
       "      <th>6</th>\n",
       "      <td>New York-Newark-Jersey City, NY-NJ-PA</td>\n",
       "      <td>125.7</td>\n",
       "      <td>854.0</td>\n",
       "      <td>0.061589</td>\n",
       "      <td>5</td>\n",
       "      <td>1268.0</td>\n",
       "      <td>0.032211</td>\n",
       "      <td>0.129528</td>\n",
       "      <td>0.243545</td>\n",
       "      <td>1.912092</td>\n",
       "    </tr>\n",
       "    <tr>\n",
       "      <th>5</th>\n",
       "      <td>San Jose-Sunnyvale-Santa Clara, CA</td>\n",
       "      <td>126.7</td>\n",
       "      <td>773.0</td>\n",
       "      <td>0.055748</td>\n",
       "      <td>1</td>\n",
       "      <td>763.0</td>\n",
       "      <td>0.019382</td>\n",
       "      <td>0.148910</td>\n",
       "      <td>0.299293</td>\n",
       "      <td>2.876240</td>\n",
       "    </tr>\n",
       "    <tr>\n",
       "      <th>8</th>\n",
       "      <td>San Francisco-Oakland-Berkeley, CA</td>\n",
       "      <td>134.5</td>\n",
       "      <td>671.0</td>\n",
       "      <td>0.048392</td>\n",
       "      <td>1</td>\n",
       "      <td>911.0</td>\n",
       "      <td>0.023142</td>\n",
       "      <td>0.172052</td>\n",
       "      <td>0.347685</td>\n",
       "      <td>2.091097</td>\n",
       "    </tr>\n",
       "    <tr>\n",
       "      <th>16</th>\n",
       "      <td>Los Angeles-Long Beach-Anaheim, CA</td>\n",
       "      <td>118.8</td>\n",
       "      <td>633.0</td>\n",
       "      <td>0.045651</td>\n",
       "      <td>4</td>\n",
       "      <td>1859.0</td>\n",
       "      <td>0.047223</td>\n",
       "      <td>0.219276</td>\n",
       "      <td>0.393336</td>\n",
       "      <td>0.966706</td>\n",
       "    </tr>\n",
       "    <tr>\n",
       "      <th>3</th>\n",
       "      <td>Philadelphia-Camden-Wilmington, PA-NJ-DE-MD</td>\n",
       "      <td>105.3</td>\n",
       "      <td>552.0</td>\n",
       "      <td>0.039810</td>\n",
       "      <td>4</td>\n",
       "      <td>990.0</td>\n",
       "      <td>0.025149</td>\n",
       "      <td>0.244424</td>\n",
       "      <td>0.433146</td>\n",
       "      <td>1.582975</td>\n",
       "    </tr>\n",
       "    <tr>\n",
       "      <th>11</th>\n",
       "      <td>Ann Arbor, MI</td>\n",
       "      <td>100.6</td>\n",
       "      <td>519.0</td>\n",
       "      <td>0.037430</td>\n",
       "      <td>1</td>\n",
       "      <td>853.0</td>\n",
       "      <td>0.021668</td>\n",
       "      <td>0.266093</td>\n",
       "      <td>0.470576</td>\n",
       "      <td>1.727382</td>\n",
       "    </tr>\n",
       "    <tr>\n",
       "      <th>1</th>\n",
       "      <td>New Haven-Milford, CT</td>\n",
       "      <td>106.2</td>\n",
       "      <td>475.0</td>\n",
       "      <td>0.034256</td>\n",
       "      <td>1</td>\n",
       "      <td>393.0</td>\n",
       "      <td>0.009983</td>\n",
       "      <td>0.276076</td>\n",
       "      <td>0.504832</td>\n",
       "      <td>3.431398</td>\n",
       "    </tr>\n",
       "    <tr>\n",
       "      <th>14</th>\n",
       "      <td>Durham-Chapel Hill, NC</td>\n",
       "      <td>94.8</td>\n",
       "      <td>455.0</td>\n",
       "      <td>0.032814</td>\n",
       "      <td>2</td>\n",
       "      <td>866.0</td>\n",
       "      <td>0.021999</td>\n",
       "      <td>0.298074</td>\n",
       "      <td>0.537646</td>\n",
       "      <td>1.491639</td>\n",
       "    </tr>\n",
       "  </tbody>\n",
       "</table>\n",
       "</div>"
      ],
      "text/plain": [
       "                                      CBSA_NAME  RPP_all  total_hires  \\\n",
       "2                Boston-Cambridge-Newton, MA-NH    115.5       1604.0   \n",
       "0            Chicago-Naperville-Elgin, IL-IN-WI    102.8        919.0   \n",
       "6         New York-Newark-Jersey City, NY-NJ-PA    125.7        854.0   \n",
       "5            San Jose-Sunnyvale-Santa Clara, CA    126.7        773.0   \n",
       "8            San Francisco-Oakland-Berkeley, CA    134.5        671.0   \n",
       "16           Los Angeles-Long Beach-Anaheim, CA    118.8        633.0   \n",
       "3   Philadelphia-Camden-Wilmington, PA-NJ-DE-MD    105.3        552.0   \n",
       "11                                Ann Arbor, MI    100.6        519.0   \n",
       "1                         New Haven-Milford, CT    106.2        475.0   \n",
       "14                       Durham-Chapel Hill, NC     94.8        455.0   \n",
       "\n",
       "    prop_hires  n_uni  n_grad  prop_grad  cum_grad  cum_hires  \\\n",
       "2     0.115679     10  2325.0   0.059061  0.059061   0.115679   \n",
       "0     0.066277      6  1506.0   0.038256  0.097317   0.181956   \n",
       "6     0.061589      5  1268.0   0.032211  0.129528   0.243545   \n",
       "5     0.055748      1   763.0   0.019382  0.148910   0.299293   \n",
       "8     0.048392      1   911.0   0.023142  0.172052   0.347685   \n",
       "16    0.045651      4  1859.0   0.047223  0.219276   0.393336   \n",
       "3     0.039810      4   990.0   0.025149  0.244424   0.433146   \n",
       "11    0.037430      1   853.0   0.021668  0.266093   0.470576   \n",
       "1     0.034256      1   393.0   0.009983  0.276076   0.504832   \n",
       "14    0.032814      2   866.0   0.021999  0.298074   0.537646   \n",
       "\n",
       "    hiring_grad_disparity  \n",
       "2                1.958626  \n",
       "0                1.732450  \n",
       "6                1.912092  \n",
       "5                2.876240  \n",
       "8                2.091097  \n",
       "16               0.966706  \n",
       "3                1.582975  \n",
       "11               1.727382  \n",
       "1                3.431398  \n",
       "14               1.491639  "
      ]
     },
     "execution_count": 14,
     "metadata": {},
     "output_type": "execute_result"
    }
   ],
   "source": [
    "CBSA_df[:10]"
   ]
  },
  {
   "cell_type": "code",
   "execution_count": 15,
   "id": "67fca08f",
   "metadata": {
    "ExecuteTime": {
     "end_time": "2022-01-17T16:55:11.903407Z",
     "start_time": "2022-01-17T16:55:11.887974Z"
    }
   },
   "outputs": [
    {
     "data": {
      "text/plain": [
       "11.981183461252785"
      ]
     },
     "execution_count": 15,
     "metadata": {},
     "output_type": "execute_result"
    }
   ],
   "source": [
    "0.048392 / 0.004039"
   ]
  },
  {
   "cell_type": "code",
   "execution_count": null,
   "id": "e7e64575",
   "metadata": {},
   "outputs": [],
   "source": []
  }
 ],
 "metadata": {
  "kernelspec": {
   "display_name": "postdoc",
   "language": "python",
   "name": "postdoc"
  },
  "language_info": {
   "codemirror_mode": {
    "name": "ipython",
    "version": 3
   },
   "file_extension": ".py",
   "mimetype": "text/x-python",
   "name": "python",
   "nbconvert_exporter": "python",
   "pygments_lexer": "ipython3",
   "version": "3.8.12"
  }
 },
 "nbformat": 4,
 "nbformat_minor": 5
}
