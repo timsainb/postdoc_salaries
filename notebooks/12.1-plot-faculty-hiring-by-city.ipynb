{
 "cells": [
  {
   "cell_type": "markdown",
   "id": "3d78fc5c",
   "metadata": {},
   "source": [
    "### Plot faculty hiring distribution by city"
   ]
  },
  {
   "cell_type": "code",
   "execution_count": 17,
   "id": "713e5c81",
   "metadata": {
    "ExecuteTime": {
     "end_time": "2022-01-15T16:12:35.365071Z",
     "start_time": "2022-01-15T16:12:35.285428Z"
    }
   },
   "outputs": [
    {
     "name": "stdout",
     "output_type": "stream",
     "text": [
      "The autoreload extension is already loaded. To reload it, use:\n",
      "  %reload_ext autoreload\n"
     ]
    }
   ],
   "source": [
    "%load_ext autoreload\n",
    "%autoreload 2"
   ]
  },
  {
   "cell_type": "code",
   "execution_count": 18,
   "id": "8fa73a66",
   "metadata": {
    "ExecuteTime": {
     "end_time": "2022-01-15T16:12:35.533764Z",
     "start_time": "2022-01-15T16:12:35.483488Z"
    }
   },
   "outputs": [],
   "source": [
    "import numpy as np\n",
    "import pandas as pd\n",
    "import matplotlib.pyplot as plt\n",
    "%matplotlib inline\n",
    "from tqdm.autonotebook import tqdm\n",
    "from postdocsalary.paths import DATA_DIR, ensure_dir\n",
    "import urllib.request\n",
    "pd.set_option('display.max_columns', None)\n",
    "from postdocsalary.paths import save_fig, FIGURE_DIR"
   ]
  },
  {
   "cell_type": "code",
   "execution_count": 19,
   "id": "2cafae2b",
   "metadata": {
    "ExecuteTime": {
     "end_time": "2022-01-15T16:12:35.719991Z",
     "start_time": "2022-01-15T16:12:35.640991Z"
    }
   },
   "outputs": [],
   "source": [
    "CBSA_df = pd.read_pickle(DATA_DIR / 'city_hiring.pickle')"
   ]
  },
  {
   "cell_type": "code",
   "execution_count": 20,
   "id": "cc28d889",
   "metadata": {
    "ExecuteTime": {
     "end_time": "2022-01-15T16:12:35.941296Z",
     "start_time": "2022-01-15T16:12:35.826346Z"
    }
   },
   "outputs": [
    {
     "data": {
      "text/html": [
       "<div>\n",
       "<style scoped>\n",
       "    .dataframe tbody tr th:only-of-type {\n",
       "        vertical-align: middle;\n",
       "    }\n",
       "\n",
       "    .dataframe tbody tr th {\n",
       "        vertical-align: top;\n",
       "    }\n",
       "\n",
       "    .dataframe thead th {\n",
       "        text-align: right;\n",
       "    }\n",
       "</style>\n",
       "<table border=\"1\" class=\"dataframe\">\n",
       "  <thead>\n",
       "    <tr style=\"text-align: right;\">\n",
       "      <th></th>\n",
       "      <th>CBSA_NAME</th>\n",
       "      <th>RPP_all</th>\n",
       "      <th>total_hires</th>\n",
       "      <th>prop_hires</th>\n",
       "      <th>cum_hires</th>\n",
       "      <th>n_uni</th>\n",
       "      <th>n_grad</th>\n",
       "      <th>prop_grad</th>\n",
       "      <th>cum_grad</th>\n",
       "      <th>hiring_grad_disparity</th>\n",
       "    </tr>\n",
       "  </thead>\n",
       "  <tbody>\n",
       "    <tr>\n",
       "      <th>2</th>\n",
       "      <td>Boston-Cambridge-Newton, MA-NH</td>\n",
       "      <td>115.5</td>\n",
       "      <td>1604.0</td>\n",
       "      <td>0.115679</td>\n",
       "      <td>0.115679</td>\n",
       "      <td>10</td>\n",
       "      <td>2325.0</td>\n",
       "      <td>0.059061</td>\n",
       "      <td>0.059061</td>\n",
       "      <td>1.958626</td>\n",
       "    </tr>\n",
       "    <tr>\n",
       "      <th>0</th>\n",
       "      <td>Chicago-Naperville-Elgin, IL-IN-WI</td>\n",
       "      <td>102.8</td>\n",
       "      <td>919.0</td>\n",
       "      <td>0.066277</td>\n",
       "      <td>0.181956</td>\n",
       "      <td>6</td>\n",
       "      <td>1506.0</td>\n",
       "      <td>0.038256</td>\n",
       "      <td>0.097317</td>\n",
       "      <td>1.732450</td>\n",
       "    </tr>\n",
       "    <tr>\n",
       "      <th>6</th>\n",
       "      <td>New York-Newark-Jersey City, NY-NJ-PA</td>\n",
       "      <td>125.7</td>\n",
       "      <td>854.0</td>\n",
       "      <td>0.061589</td>\n",
       "      <td>0.243545</td>\n",
       "      <td>5</td>\n",
       "      <td>1268.0</td>\n",
       "      <td>0.032211</td>\n",
       "      <td>0.129528</td>\n",
       "      <td>1.912092</td>\n",
       "    </tr>\n",
       "  </tbody>\n",
       "</table>\n",
       "</div>"
      ],
      "text/plain": [
       "                               CBSA_NAME  RPP_all  total_hires  prop_hires  \\\n",
       "2         Boston-Cambridge-Newton, MA-NH    115.5       1604.0    0.115679   \n",
       "0     Chicago-Naperville-Elgin, IL-IN-WI    102.8        919.0    0.066277   \n",
       "6  New York-Newark-Jersey City, NY-NJ-PA    125.7        854.0    0.061589   \n",
       "\n",
       "   cum_hires  n_uni  n_grad  prop_grad  cum_grad  hiring_grad_disparity  \n",
       "2   0.115679     10  2325.0   0.059061  0.059061               1.958626  \n",
       "0   0.181956      6  1506.0   0.038256  0.097317               1.732450  \n",
       "6   0.243545      5  1268.0   0.032211  0.129528               1.912092  "
      ]
     },
     "execution_count": 20,
     "metadata": {},
     "output_type": "execute_result"
    }
   ],
   "source": [
    "CBSA_df[:3]"
   ]
  },
  {
   "cell_type": "code",
   "execution_count": 21,
   "id": "98e2ca1e",
   "metadata": {
    "ExecuteTime": {
     "end_time": "2022-01-15T16:12:36.080050Z",
     "start_time": "2022-01-15T16:12:36.016459Z"
    }
   },
   "outputs": [],
   "source": [
    "import seaborn as sns"
   ]
  },
  {
   "cell_type": "code",
   "execution_count": 22,
   "id": "5e81a118",
   "metadata": {
    "ExecuteTime": {
     "end_time": "2022-01-15T16:12:36.293360Z",
     "start_time": "2022-01-15T16:12:36.220709Z"
    }
   },
   "outputs": [
    {
     "data": {
      "text/html": [
       "<svg  width=\"550\" height=\"55\"><rect x=\"0\" y=\"0\" width=\"55\" height=\"55\" style=\"fill:#e41a1c;stroke-width:2;stroke:rgb(255,255,255)\"/><rect x=\"55\" y=\"0\" width=\"55\" height=\"55\" style=\"fill:#377eb8;stroke-width:2;stroke:rgb(255,255,255)\"/><rect x=\"110\" y=\"0\" width=\"55\" height=\"55\" style=\"fill:#4daf4a;stroke-width:2;stroke:rgb(255,255,255)\"/><rect x=\"165\" y=\"0\" width=\"55\" height=\"55\" style=\"fill:#984ea3;stroke-width:2;stroke:rgb(255,255,255)\"/><rect x=\"220\" y=\"0\" width=\"55\" height=\"55\" style=\"fill:#ff7f00;stroke-width:2;stroke:rgb(255,255,255)\"/><rect x=\"275\" y=\"0\" width=\"55\" height=\"55\" style=\"fill:#ffff33;stroke-width:2;stroke:rgb(255,255,255)\"/><rect x=\"330\" y=\"0\" width=\"55\" height=\"55\" style=\"fill:#a65628;stroke-width:2;stroke:rgb(255,255,255)\"/><rect x=\"385\" y=\"0\" width=\"55\" height=\"55\" style=\"fill:#f781bf;stroke-width:2;stroke:rgb(255,255,255)\"/><rect x=\"440\" y=\"0\" width=\"55\" height=\"55\" style=\"fill:#999999;stroke-width:2;stroke:rgb(255,255,255)\"/><rect x=\"495\" y=\"0\" width=\"55\" height=\"55\" style=\"fill:#e41a1c;stroke-width:2;stroke:rgb(255,255,255)\"/></svg>"
      ],
      "text/plain": [
       "[(0.8941176470588236, 0.10196078431372549, 0.10980392156862745),\n",
       " (0.21568627450980393, 0.49411764705882355, 0.7215686274509804),\n",
       " (0.30196078431372547, 0.6862745098039216, 0.2901960784313726),\n",
       " (0.596078431372549, 0.3058823529411765, 0.6392156862745098),\n",
       " (1.0, 0.4980392156862745, 0.0),\n",
       " (1.0, 1.0, 0.2),\n",
       " (0.6509803921568628, 0.33725490196078434, 0.1568627450980392),\n",
       " (0.9686274509803922, 0.5058823529411764, 0.7490196078431373),\n",
       " (0.6, 0.6, 0.6),\n",
       " (0.8941176470588236, 0.10196078431372549, 0.10980392156862745)]"
      ]
     },
     "execution_count": 22,
     "metadata": {},
     "output_type": "execute_result"
    }
   ],
   "source": [
    "pal = sns.color_palette('Set1', 10)\n",
    "pal"
   ]
  },
  {
   "cell_type": "markdown",
   "id": "a29559f6",
   "metadata": {},
   "source": [
    "### Top cities by RPP"
   ]
  },
  {
   "cell_type": "code",
   "execution_count": 23,
   "id": "1cf1b950",
   "metadata": {
    "ExecuteTime": {
     "end_time": "2022-01-15T16:12:36.631788Z",
     "start_time": "2022-01-15T16:12:36.568706Z"
    }
   },
   "outputs": [],
   "source": [
    "nex = 10\n",
    "top_n = len(CBSA_df)"
   ]
  },
  {
   "cell_type": "code",
   "execution_count": 24,
   "id": "820b9de4",
   "metadata": {
    "ExecuteTime": {
     "end_time": "2022-01-15T16:12:40.502035Z",
     "start_time": "2022-01-15T16:12:36.761434Z"
    }
   },
   "outputs": [
    {
     "data": {
      "image/png": "[encoded data removed]",
      "text/plain": [
       "<Figure size 72x576 with 2 Axes>"
      ]
     },
     "metadata": {
      "needs_background": "light"
     },
     "output_type": "display_data"
    }
   ],
   "source": [
    "xlim = [0, 1600]\n",
    "\n",
    "sort_mask = np.argsort(CBSA_df[\"total_hires\"].values)[::-1]\n",
    "fig, axs = plt.subplots(\n",
    "    nrows=2,\n",
    "    figsize=(1, 8),\n",
    "    gridspec_kw={\"wspace\": 0, \"hspace\": 0, \"height_ratios\": [1, 2]},\n",
    ")\n",
    "\n",
    "ax = axs[0]\n",
    "y = CBSA_df[\"total_hires\"].values[sort_mask][nex:top_n]\n",
    "ax.barh(\n",
    "    np.arange(len(CBSA_df))[nex:top_n],\n",
    "    y,\n",
    "    color=[pal[8] if np.sign(i) > 0 else pal[8] for i in y],\n",
    ")\n",
    "ax.axvline(0, color='k', lw=6)\n",
    "\n",
    "ax.set_xlim(xlim)\n",
    "ax.set_ylim([nex, top_n])\n",
    "# ax.set_xticks([])\n",
    "[i.set_linewidth(0.0) for i in ax.spines.values()]\n",
    "ax.set_yticks([])\n",
    "ax.set_xticks([])\n",
    "\n",
    "ax = axs[1]\n",
    "y = CBSA_df[\"total_hires\"].values[sort_mask][:nex]\n",
    "ax.barh(\n",
    "    np.arange(len(CBSA_df))[:nex] + 1,\n",
    "    y,\n",
    "    color=[pal[8] if np.sign(i) > 0 else pal[8] for i in y],\n",
    ")\n",
    "[i.set_linewidth(0.0) for i in ax.spines.values()]\n",
    "ax.tick_params(left=False)\n",
    "# ax.axvline(0, color=\"k\", ls=\"dashed\")\n",
    "# ax.set_xlabel('University ranking (ranked)')\n",
    "# ax.set_ylabel('Regional salary value relative median ($)')\n",
    "# ax.set_yscale('log')\n",
    "ax.set_xlim(xlim)\n",
    "ax.set_ylim([0.25, nex + 0.5])\n",
    "# ax.set_xticks([])\n",
    "if True:\n",
    "    ax.set_yticks(np.arange(1, nex + 1))\n",
    "    names = [\n",
    "        \"{} ($n$={})\".format(i, j)\n",
    "        for i, j in zip(\n",
    "            CBSA_df[\"CBSA_NAME\"].values[sort_mask][:nex],\n",
    "            CBSA_df[\"total_hires\"].values[sort_mask][:nex],\n",
    "        )\n",
    "\n",
    "    ]\n",
    "    ax.set_yticklabels(names)\n",
    "else:\n",
    "    ax.set_yticks([])\n",
    "# ax.set_yticklabels(CBSA_df[\"institution\"].values[sort_mask][:20])\n",
    "ax.spines[\"bottom\"].set_linewidth(6)\n",
    "ax.xaxis.set_tick_params(labelsize=14)\n",
    "#ax.set_xticks([-10000, -5000, 0, 5000, 10000])\n",
    "#ax.set_xticklabels([\"-$10k\", \"-$5k\", \"$0\", \"$5k\", \"$10k\"])\n",
    "ax.axvline(0, color='k', lw=6)\n",
    "save_fig(FIGURE_DIR / 'city_hires')"
   ]
  },
  {
   "cell_type": "markdown",
   "id": "76f4dcc0",
   "metadata": {
    "ExecuteTime": {
     "end_time": "2022-01-15T16:12:40.771629Z",
     "start_time": "2022-01-15T16:12:40.734772Z"
    }
   },
   "source": [
    "### RPP"
   ]
  },
  {
   "cell_type": "code",
   "execution_count": 31,
   "id": "1ca8b8c4",
   "metadata": {
    "ExecuteTime": {
     "end_time": "2022-01-16T01:07:29.826183Z",
     "start_time": "2022-01-16T01:07:29.797914Z"
    }
   },
   "outputs": [
    {
     "data": {
      "text/plain": [
       "83.2"
      ]
     },
     "execution_count": 31,
     "metadata": {},
     "output_type": "execute_result"
    }
   ],
   "source": [
    "np.min(CBSA_df['RPP_all'])"
   ]
  },
  {
   "cell_type": "code",
   "execution_count": 34,
   "id": "5d5e27d8",
   "metadata": {
    "ExecuteTime": {
     "end_time": "2022-01-16T01:08:38.361138Z",
     "start_time": "2022-01-16T01:08:37.442573Z"
    },
    "scrolled": false
   },
   "outputs": [
    {
     "data": {
      "image/png": "[encoded data removed]",
      "text/plain": [
       "<Figure size 144x576 with 2 Axes>"
      ]
     },
     "metadata": {
      "needs_background": "light"
     },
     "output_type": "display_data"
    }
   ],
   "source": [
    "sort_mask = np.argsort(CBSA_df[\"total_hires\"].values)[::-1]\n",
    "fig, axs = plt.subplots(\n",
    "    nrows=2,\n",
    "    figsize=(2, 8),\n",
    "    gridspec_kw={\"wspace\": 0, \"hspace\": 0, \"height_ratios\": [1, 2]},\n",
    ")\n",
    "\n",
    "ax = axs[0]\n",
    "y = CBSA_df[\"RPP_all\"].values[sort_mask][nex:top_n] - 100\n",
    "ax.barh(\n",
    "    np.arange(len(CBSA_df))[nex:top_n],\n",
    "    y,\n",
    "    color=[pal[0] if np.sign(i) > 0 else pal[2] for i in y],\n",
    ")\n",
    "ax.set_xlim([-20, 40])\n",
    "ax.set_ylim([nex, top_n])\n",
    "# ax.set_xticks([])\n",
    "[i.set_linewidth(0.0) for i in ax.spines.values()]\n",
    "ax.set_yticks([])\n",
    "ax.set_xticks([])\n",
    "#ax.axvline(0, color='k', lw=3)\n",
    "\n",
    "ax = axs[1]\n",
    "y = CBSA_df[\"RPP_all\"].values[sort_mask][:nex] - 100\n",
    "ax.barh(\n",
    "    np.arange(len(CBSA_df))[:nex] + 1,\n",
    "    y,\n",
    "    color=[pal[0] if np.sign(i) > 0 else pal[2] for i in y],\n",
    ")\n",
    "[i.set_linewidth(0.0) for i in ax.spines.values()]\n",
    "ax.tick_params(left=False)\n",
    "# ax.axvline(0, color=\"k\", ls=\"dashed\")\n",
    "# ax.set_xlabel('University ranking (ranked)')\n",
    "# ax.set_ylabel('Regional salary value relative median ($)')\n",
    "# ax.set_yscale('log')\n",
    "ax.set_xlim([-20, 40])\n",
    "ax.set_ylim([0.25, nex + 0.5])\n",
    "# ax.set_xticks([])\n",
    "if False:\n",
    "    ax.set_yticks(np.arange(1, nex + 1))\n",
    "    names = [\n",
    "        \"{} ($n$={})\".format(i, j)\n",
    "        for i, j in zip(\n",
    "            CBSA_df[\"CBSA_NAME\"].values[sort_mask][:nex],\n",
    "            CBSA_df[\"total_hires\"].values[sort_mask][:nex],\n",
    "        )\n",
    "\n",
    "    ]\n",
    "    ax.set_yticklabels(names)\n",
    "else:\n",
    "    ax.set_yticks([])\n",
    "# ax.set_yticklabels(CBSA_df[\"institution\"].values[sort_mask][:20])\n",
    "ax.spines[\"bottom\"].set_linewidth(4)\n",
    "ax.xaxis.set_tick_params(labelsize=14)\n",
    "ax.set_xticks([-20, 0, 20])\n",
    "#ax.axvline(0, color='k', lw=3)\n",
    "ax.set_xticklabels(['80', '100', '120'])\n",
    "save_fig(FIGURE_DIR / 'city_RPP')"
   ]
  },
  {
   "cell_type": "markdown",
   "id": "0e6dcdc1",
   "metadata": {},
   "source": [
    "### Top cities by hires"
   ]
  },
  {
   "cell_type": "code",
   "execution_count": 30,
   "id": "48db5fe0",
   "metadata": {
    "ExecuteTime": {
     "end_time": "2022-01-16T01:07:01.022672Z",
     "start_time": "2022-01-16T01:07:00.168778Z"
    }
   },
   "outputs": [
    {
     "data": {
      "image/png": "[encoded data removed]",
      "text/plain": [
       "<Figure size 144x576 with 2 Axes>"
      ]
     },
     "metadata": {
      "needs_background": "light"
     },
     "output_type": "display_data"
    }
   ],
   "source": [
    "xlim = [-1, 3]\n",
    "metric = \"hiring_grad_disparity\"\n",
    "sort_mask = np.argsort(CBSA_df[\"total_hires\"].values)[::-1]\n",
    "fig, axs = plt.subplots(\n",
    "    nrows=2,\n",
    "    figsize=(2, 8),\n",
    "    gridspec_kw={\"wspace\": 0, \"hspace\": 0, \"height_ratios\": [1, 2]},\n",
    ")\n",
    "\n",
    "ax = axs[0]\n",
    "#ax.axvline(0, color='k', lw=3)\n",
    "\n",
    "y = CBSA_df[metric].values[sort_mask][nex:top_n]-1\n",
    "ax.barh(\n",
    "    np.arange(len(CBSA_df))[nex:top_n],\n",
    "    y,\n",
    "    color=[pal[2] if i > 0 else pal[0] for i in y],\n",
    ")\n",
    "ax.set_xlim(xlim)\n",
    "ax.set_ylim([nex, top_n])\n",
    "# ax.set_xticks([])\n",
    "[i.set_linewidth(0.0) for i in ax.spines.values()]\n",
    "ax.set_yticks([])\n",
    "ax.set_xticks([])\n",
    "\n",
    "ax = axs[1]\n",
    "y = CBSA_df[metric].values[sort_mask][:nex] -1\n",
    "ax.barh(\n",
    "    np.arange(len(CBSA_df))[:nex] + 1,\n",
    "    y,\n",
    "    color=[pal[2] if i > 0 else pal[0] for i in y],\n",
    ")\n",
    "[i.set_linewidth(0.0) for i in ax.spines.values()]\n",
    "ax.tick_params(left=False)\n",
    "# ax.axvline(0, color=\"k\", ls=\"dashed\")\n",
    "# ax.set_xlabel('University ranking (ranked)')\n",
    "# ax.set_ylabel('Regional salary value relative median ($)')\n",
    "# ax.set_yscale('log')\n",
    "ax.set_xlim(xlim)\n",
    "ax.set_ylim([0.25, nex + 0.5])\n",
    "# ax.set_xticks([])\n",
    "if False:\n",
    "    ax.set_yticks(np.arange(1, nex + 1))\n",
    "    names = [\n",
    "        \"{} ($n$={})\".format(i, j)\n",
    "        for i, j in zip(\n",
    "            CBSA_df[\"CBSA_NAME\"].values[sort_mask][:nex],\n",
    "            CBSA_df[\"total_hires\"].values[sort_mask][:nex],\n",
    "        )\n",
    "\n",
    "    ]\n",
    "    ax.set_yticklabels(names)\n",
    "else:\n",
    "    ax.set_yticks([])\n",
    "\n",
    "    \n",
    "# ax.set_yticklabels(CBSA_df[\"institution\"].values[sort_mask][:20])\n",
    "ax.spines[\"bottom\"].set_linewidth(4)\n",
    "ax.xaxis.set_tick_params(labelsize=14)\n",
    "#ax.set_xticks([-10000, -5000, 0, 5000, 10000])\n",
    "#ax.set_xticklabels([\"-$10k\", \"-$5k\", \"$0\", \"$5k\", \"$10k\"])\n",
    "#ax.axvline(0, color='k', lw=3)\n",
    "ax.set_xticks([0,3])\n",
    "save_fig(FIGURE_DIR / 'city_hiring_disparity')"
   ]
  },
  {
   "cell_type": "code",
   "execution_count": null,
   "id": "96d2e05a",
   "metadata": {},
   "outputs": [],
   "source": []
  },
  {
   "cell_type": "code",
   "execution_count": null,
   "id": "67fca08f",
   "metadata": {},
   "outputs": [],
   "source": []
  }
 ],
 "metadata": {
  "kernelspec": {
   "display_name": "postdoc",
   "language": "python",
   "name": "postdoc"
  },
  "language_info": {
   "codemirror_mode": {
    "name": "ipython",
    "version": 3
   },
   "file_extension": ".py",
   "mimetype": "text/x-python",
   "name": "python",
   "nbconvert_exporter": "python",
   "pygments_lexer": "ipython3",
   "version": "3.8.12"
  }
 },
 "nbformat": 4,
 "nbformat_minor": 5
}
