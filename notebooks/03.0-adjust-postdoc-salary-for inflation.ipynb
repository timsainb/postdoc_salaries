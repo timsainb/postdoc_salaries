{
 "cells": [
  {
   "cell_type": "code",
   "execution_count": 1,
   "id": "f67781e6",
   "metadata": {
    "ExecuteTime": {
     "end_time": "2022-01-13T15:49:54.399266Z",
     "start_time": "2022-01-13T15:49:54.377654Z"
    }
   },
   "outputs": [],
   "source": [
    "%load_ext autoreload\n",
    "%autoreload 2"
   ]
  },
  {
   "cell_type": "code",
   "execution_count": 2,
   "id": "7a881e76",
   "metadata": {
    "ExecuteTime": {
     "end_time": "2022-01-13T15:49:55.486225Z",
     "start_time": "2022-01-13T15:49:54.742958Z"
    }
   },
   "outputs": [
    {
     "name": "stderr",
     "output_type": "stream",
     "text": [
      "<ipython-input-2-37777429a894>:5: TqdmExperimentalWarning: Using `tqdm.autonotebook.tqdm` in notebook mode. Use `tqdm.tqdm` instead to force console mode (e.g. in jupyter console)\n",
      "  from tqdm.autonotebook import tqdm\n"
     ]
    }
   ],
   "source": [
    "import numpy as np\n",
    "import pandas as pd\n",
    "import matplotlib.pyplot as plt\n",
    "%matplotlib inline\n",
    "from tqdm.autonotebook import tqdm\n",
    "from postdocsalary.paths import DATA_DIR, ensure_dir\n",
    "import urllib.request"
   ]
  },
  {
   "cell_type": "code",
   "execution_count": 3,
   "id": "cf82ae2b",
   "metadata": {
    "ExecuteTime": {
     "end_time": "2022-01-13T15:49:55.978951Z",
     "start_time": "2022-01-13T15:49:55.488400Z"
    }
   },
   "outputs": [],
   "source": [
    "salary_df = pd.read_pickle(DATA_DIR / 'postdoc_salary_df.pickle')"
   ]
  },
  {
   "cell_type": "markdown",
   "id": "9934f35f",
   "metadata": {},
   "source": [
    "### Adjust for inflation"
   ]
  },
  {
   "cell_type": "code",
   "execution_count": 4,
   "id": "15cfc94d",
   "metadata": {
    "ExecuteTime": {
     "end_time": "2022-01-13T15:49:55.997371Z",
     "start_time": "2022-01-13T15:49:55.981287Z"
    }
   },
   "outputs": [],
   "source": [
    "from datetime import date"
   ]
  },
  {
   "cell_type": "code",
   "execution_count": 5,
   "id": "3a34f3bf",
   "metadata": {
    "ExecuteTime": {
     "end_time": "2022-01-13T15:50:26.080598Z",
     "start_time": "2022-01-13T15:49:56.632955Z"
    }
   },
   "outputs": [
    {
     "name": "stderr",
     "output_type": "stream",
     "text": [
      "/home/AD/tsainbur/anaconda3/envs/postdoc/lib/python3.8/site-packages/cpi/__init__.py:46: StaleDataWarning: CPI data is out of date. To accurately inflate to today's dollars, you must run `cpi.update()`.\n",
      "  warnings.warn(StaleDataWarning())\n"
     ]
    }
   ],
   "source": [
    "import cpi"
   ]
  },
  {
   "cell_type": "code",
   "execution_count": 6,
   "id": "5be8911e",
   "metadata": {
    "ExecuteTime": {
     "end_time": "2022-01-13T15:50:32.853336Z",
     "start_time": "2022-01-13T15:50:26.082478Z"
    }
   },
   "outputs": [
    {
     "data": {
      "application/vnd.jupyter.widget-view+json": {
       "model_id": "bc975b5f7de04900a32d7b364d590cc1",
       "version_major": 2,
       "version_minor": 0
      },
      "text/plain": [
       "  0%|          | 0/34804 [00:00<?, ?it/s]"
      ]
     },
     "metadata": {},
     "output_type": "display_data"
    }
   ],
   "source": [
    "# CPI goes up to 2019, so we set the inflation date here\n",
    "salary_df[\"INFLATION_SCALED_BASE_SALARY\"] = [\n",
    "    cpi.inflate(\n",
    "        row.BASE_SALARY,\n",
    "        year_or_month=date(np.min([2021, row.CASE_DATE.year]), 1, 1),\n",
    "        to=date(2021, 1, 1),\n",
    "    )\n",
    "    for idx, row in tqdm(salary_df.iterrows(), total=len(salary_df))\n",
    "]"
   ]
  },
  {
   "cell_type": "code",
   "execution_count": 7,
   "id": "ad68f196",
   "metadata": {
    "ExecuteTime": {
     "end_time": "2022-01-13T15:50:33.033756Z",
     "start_time": "2022-01-13T15:50:32.855618Z"
    }
   },
   "outputs": [],
   "source": [
    "salary_df.to_pickle(DATA_DIR / 'postdoc_salary_df_inflation_adjusted.pickle')"
   ]
  },
  {
   "cell_type": "code",
   "execution_count": 8,
   "id": "a828b585",
   "metadata": {
    "ExecuteTime": {
     "end_time": "2022-01-13T15:50:33.056361Z",
     "start_time": "2022-01-13T15:50:33.036743Z"
    }
   },
   "outputs": [
    {
     "data": {
      "text/plain": [
       "34804"
      ]
     },
     "execution_count": 8,
     "metadata": {},
     "output_type": "execute_result"
    }
   ],
   "source": [
    "len(salary_df)"
   ]
  },
  {
   "cell_type": "code",
   "execution_count": null,
   "id": "5a246cc9",
   "metadata": {},
   "outputs": [],
   "source": []
  }
 ],
 "metadata": {
  "kernelspec": {
   "display_name": "postdoc",
   "language": "python",
   "name": "postdoc"
  },
  "language_info": {
   "codemirror_mode": {
    "name": "ipython",
    "version": 3
   },
   "file_extension": ".py",
   "mimetype": "text/x-python",
   "name": "python",
   "nbconvert_exporter": "python",
   "pygments_lexer": "ipython3",
   "version": "3.8.12"
  }
 },
 "nbformat": 4,
 "nbformat_minor": 5
}
