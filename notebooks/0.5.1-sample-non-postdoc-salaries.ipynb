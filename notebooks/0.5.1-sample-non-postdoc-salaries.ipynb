{
 "cells": [
  {
   "cell_type": "code",
   "execution_count": 1,
   "id": "713e5c81",
   "metadata": {
    "ExecuteTime": {
     "end_time": "2022-01-14T03:05:51.821712Z",
     "start_time": "2022-01-14T03:05:51.806206Z"
    }
   },
   "outputs": [],
   "source": [
    "%load_ext autoreload\n",
    "%autoreload 2"
   ]
  },
  {
   "cell_type": "code",
   "execution_count": 2,
   "id": "8fa73a66",
   "metadata": {
    "ExecuteTime": {
     "end_time": "2022-01-14T03:05:52.569576Z",
     "start_time": "2022-01-14T03:05:51.823923Z"
    }
   },
   "outputs": [
    {
     "name": "stderr",
     "output_type": "stream",
     "text": [
      "<ipython-input-2-1570110eca21>:5: TqdmExperimentalWarning: Using `tqdm.autonotebook.tqdm` in notebook mode. Use `tqdm.tqdm` instead to force console mode (e.g. in jupyter console)\n",
      "  from tqdm.autonotebook import tqdm\n"
     ]
    }
   ],
   "source": [
    "import numpy as np\n",
    "import pandas as pd\n",
    "import matplotlib.pyplot as plt\n",
    "%matplotlib inline\n",
    "from tqdm.autonotebook import tqdm\n",
    "from postdocsalary.paths import DATA_DIR, ensure_dir\n",
    "import urllib.request\n",
    "pd.set_option('display.max_columns', None)\n"
   ]
  },
  {
   "cell_type": "markdown",
   "id": "6971c759",
   "metadata": {},
   "source": [
    "### Load university df"
   ]
  },
  {
   "cell_type": "code",
   "execution_count": 3,
   "id": "149120ee",
   "metadata": {
    "ExecuteTime": {
     "end_time": "2022-01-14T03:05:52.618802Z",
     "start_time": "2022-01-14T03:05:52.571783Z"
    }
   },
   "outputs": [
    {
     "data": {
      "text/plain": [
       "6448"
      ]
     },
     "execution_count": 3,
     "metadata": {},
     "output_type": "execute_result"
    }
   ],
   "source": [
    "university_df = pd.read_pickle(DATA_DIR/ 'university_ranking_salary.pickle')\n",
    "len(university_df)"
   ]
  },
  {
   "cell_type": "code",
   "execution_count": 4,
   "id": "9908cde4",
   "metadata": {
    "ExecuteTime": {
     "end_time": "2022-01-14T03:05:52.742951Z",
     "start_time": "2022-01-14T03:05:52.620563Z"
    }
   },
   "outputs": [
    {
     "data": {
      "text/html": [
       "<div>\n",
       "<style scoped>\n",
       "    .dataframe tbody tr th:only-of-type {\n",
       "        vertical-align: middle;\n",
       "    }\n",
       "\n",
       "    .dataframe tbody tr th {\n",
       "        vertical-align: top;\n",
       "    }\n",
       "\n",
       "    .dataframe thead th {\n",
       "        text-align: right;\n",
       "    }\n",
       "</style>\n",
       "<table border=\"1\" class=\"dataframe\">\n",
       "  <thead>\n",
       "    <tr style=\"text-align: right;\">\n",
       "      <th></th>\n",
       "      <th>World Rank</th>\n",
       "      <th>Institution</th>\n",
       "      <th>Country</th>\n",
       "      <th>National Rank</th>\n",
       "      <th>Quality of Education Rank</th>\n",
       "      <th>Alumni Employment Rank</th>\n",
       "      <th>Quality of Faculty Rank</th>\n",
       "      <th>Research Performance Rank</th>\n",
       "      <th>Score</th>\n",
       "      <th>UNITID</th>\n",
       "      <th>INSTNM</th>\n",
       "      <th>IALIAS</th>\n",
       "      <th>ADDR</th>\n",
       "      <th>CITY</th>\n",
       "      <th>STABBR</th>\n",
       "      <th>ZIP</th>\n",
       "      <th>FIPS</th>\n",
       "      <th>OBEREG</th>\n",
       "      <th>CHFNM</th>\n",
       "      <th>CHFTITLE</th>\n",
       "      <th>GENTELE</th>\n",
       "      <th>EIN</th>\n",
       "      <th>DUNS</th>\n",
       "      <th>OPEID</th>\n",
       "      <th>OPEFLAG</th>\n",
       "      <th>WEBADDR</th>\n",
       "      <th>ADMINURL</th>\n",
       "      <th>FAIDURL</th>\n",
       "      <th>APPLURL</th>\n",
       "      <th>NPRICURL</th>\n",
       "      <th>VETURL</th>\n",
       "      <th>ATHURL</th>\n",
       "      <th>DISAURL</th>\n",
       "      <th>SECTOR</th>\n",
       "      <th>ICLEVEL</th>\n",
       "      <th>CONTROL</th>\n",
       "      <th>HLOFFER</th>\n",
       "      <th>UGOFFER</th>\n",
       "      <th>GROFFER</th>\n",
       "      <th>HDEGOFR1</th>\n",
       "      <th>DEGGRANT</th>\n",
       "      <th>HBCU</th>\n",
       "      <th>HOSPITAL</th>\n",
       "      <th>MEDICAL</th>\n",
       "      <th>TRIBAL</th>\n",
       "      <th>LOCALE</th>\n",
       "      <th>OPENPUBL</th>\n",
       "      <th>ACT</th>\n",
       "      <th>NEWID</th>\n",
       "      <th>DEATHYR</th>\n",
       "      <th>CLOSEDAT</th>\n",
       "      <th>CYACTIVE</th>\n",
       "      <th>POSTSEC</th>\n",
       "      <th>PSEFLAG</th>\n",
       "      <th>PSET4FLG</th>\n",
       "      <th>RPTMTH</th>\n",
       "      <th>INSTCAT</th>\n",
       "      <th>C18BASIC</th>\n",
       "      <th>C18IPUG</th>\n",
       "      <th>C18IPGRD</th>\n",
       "      <th>C18UGPRF</th>\n",
       "      <th>C18ENPRF</th>\n",
       "      <th>C18SZSET</th>\n",
       "      <th>C15BASIC</th>\n",
       "      <th>CCBASIC</th>\n",
       "      <th>CARNEGIE</th>\n",
       "      <th>LANDGRNT</th>\n",
       "      <th>INSTSIZE</th>\n",
       "      <th>F1SYSTYP</th>\n",
       "      <th>F1SYSNAM</th>\n",
       "      <th>F1SYSCOD</th>\n",
       "      <th>CBSA</th>\n",
       "      <th>CBSATYPE</th>\n",
       "      <th>CSA</th>\n",
       "      <th>NECTA</th>\n",
       "      <th>COUNTYCD</th>\n",
       "      <th>COUNTYNM</th>\n",
       "      <th>CNGDSTCD</th>\n",
       "      <th>LONGITUD</th>\n",
       "      <th>LATITUDE</th>\n",
       "      <th>DFRCGID</th>\n",
       "      <th>DFRCUSCG</th>\n",
       "      <th>LONGITUDE</th>\n",
       "      <th>CBSA_NAME</th>\n",
       "      <th>RPP_all</th>\n",
       "      <th>MEDIAN_SALARY</th>\n",
       "      <th>N_SALARIES</th>\n",
       "      <th>MEDIAN_SALARY_UPPER</th>\n",
       "      <th>MEDIAN_SALARY_LOWER</th>\n",
       "      <th>REAL_MEDIAN_SALARY</th>\n",
       "      <th>REAL_MEDIAN_SALARY_UPPER</th>\n",
       "      <th>REAL_MEDIAN_SALARY_LOWER</th>\n",
       "    </tr>\n",
       "  </thead>\n",
       "  <tbody>\n",
       "    <tr>\n",
       "      <th>0</th>\n",
       "      <td>1.0</td>\n",
       "      <td>Harvard University</td>\n",
       "      <td>USA</td>\n",
       "      <td>1.0</td>\n",
       "      <td>1</td>\n",
       "      <td>1</td>\n",
       "      <td>1</td>\n",
       "      <td>1</td>\n",
       "      <td>100.0</td>\n",
       "      <td>166027.0</td>\n",
       "      <td>Harvard University</td>\n",
       "      <td></td>\n",
       "      <td>Massachusetts Hall</td>\n",
       "      <td>Cambridge</td>\n",
       "      <td>MA</td>\n",
       "      <td>02138</td>\n",
       "      <td>25.0</td>\n",
       "      <td>1.0</td>\n",
       "      <td>Lawrence S. Bacow</td>\n",
       "      <td>President</td>\n",
       "      <td>6174951000</td>\n",
       "      <td>42103580.0</td>\n",
       "      <td>082359691|149617367|047006379</td>\n",
       "      <td>215500.0</td>\n",
       "      <td>1.0</td>\n",
       "      <td>www.harvard.edu/</td>\n",
       "      <td>college.harvard.edu/admissions</td>\n",
       "      <td>college.harvard.edu/financial-aid</td>\n",
       "      <td>college.harvard.edu/admissions/application-pro...</td>\n",
       "      <td>college.harvard.edu/financial-aid/net-price-ca...</td>\n",
       "      <td>sfs.harvard.edu/veteran-military-benefits</td>\n",
       "      <td></td>\n",
       "      <td>accessibility.harvard.edu/</td>\n",
       "      <td>2.0</td>\n",
       "      <td>1.0</td>\n",
       "      <td>2.0</td>\n",
       "      <td>9.0</td>\n",
       "      <td>1.0</td>\n",
       "      <td>1.0</td>\n",
       "      <td>11.0</td>\n",
       "      <td>1.0</td>\n",
       "      <td>2.0</td>\n",
       "      <td>2.0</td>\n",
       "      <td>1.0</td>\n",
       "      <td>2.0</td>\n",
       "      <td>12.0</td>\n",
       "      <td>1.0</td>\n",
       "      <td>A</td>\n",
       "      <td>-2.0</td>\n",
       "      <td>-2.0</td>\n",
       "      <td>-2</td>\n",
       "      <td>1.0</td>\n",
       "      <td>1.0</td>\n",
       "      <td>1.0</td>\n",
       "      <td>1.0</td>\n",
       "      <td>1.0</td>\n",
       "      <td>2.0</td>\n",
       "      <td>15.0</td>\n",
       "      <td>8.0</td>\n",
       "      <td>14.0</td>\n",
       "      <td>14.0</td>\n",
       "      <td>6.0</td>\n",
       "      <td>17.0</td>\n",
       "      <td>15.0</td>\n",
       "      <td>15.0</td>\n",
       "      <td>15.0</td>\n",
       "      <td>2.0</td>\n",
       "      <td>5.0</td>\n",
       "      <td>2.0</td>\n",
       "      <td>-2</td>\n",
       "      <td>-2.0</td>\n",
       "      <td>14460</td>\n",
       "      <td>1</td>\n",
       "      <td>148</td>\n",
       "      <td>71650.0</td>\n",
       "      <td>25017</td>\n",
       "      <td>Middlesex County</td>\n",
       "      <td>2505.0</td>\n",
       "      <td>-71.118313</td>\n",
       "      <td>42.374471</td>\n",
       "      <td>96.0</td>\n",
       "      <td>1.0</td>\n",
       "      <td>-71.118313</td>\n",
       "      <td>Boston-Cambridge-Newton, MA-NH</td>\n",
       "      <td>115.5</td>\n",
       "      <td>55783.941620</td>\n",
       "      <td>493</td>\n",
       "      <td>56164.312487</td>\n",
       "      <td>55205.642506</td>\n",
       "      <td>48297.784952</td>\n",
       "      <td>48627.110378</td>\n",
       "      <td>47797.093079</td>\n",
       "    </tr>\n",
       "    <tr>\n",
       "      <th>1</th>\n",
       "      <td>2.0</td>\n",
       "      <td>Massachusetts Institute of Technology</td>\n",
       "      <td>USA</td>\n",
       "      <td>2.0</td>\n",
       "      <td>4</td>\n",
       "      <td>12</td>\n",
       "      <td>2</td>\n",
       "      <td>8</td>\n",
       "      <td>96.7</td>\n",
       "      <td>166683.0</td>\n",
       "      <td>Massachusetts Institute of Technology</td>\n",
       "      <td>MIT, M.I.T.</td>\n",
       "      <td>77 Massachusetts Avenue</td>\n",
       "      <td>Cambridge</td>\n",
       "      <td>MA</td>\n",
       "      <td>02139-4307</td>\n",
       "      <td>25.0</td>\n",
       "      <td>1.0</td>\n",
       "      <td>L. Rafael Reif</td>\n",
       "      <td>President</td>\n",
       "      <td>6172531000</td>\n",
       "      <td>42103594.0</td>\n",
       "      <td>001425594</td>\n",
       "      <td>217800.0</td>\n",
       "      <td>1.0</td>\n",
       "      <td>web.mit.edu/</td>\n",
       "      <td>https://mitadmissions.org/</td>\n",
       "      <td>https://sfs.mit.edu/</td>\n",
       "      <td>my.mit.edu/</td>\n",
       "      <td>https://sfs.mit.edu/undergraduate-students/our...</td>\n",
       "      <td>https://sfs.mit.edu/undergraduate-students/typ...</td>\n",
       "      <td></td>\n",
       "      <td>studentlife.mit.edu/das</td>\n",
       "      <td>2.0</td>\n",
       "      <td>1.0</td>\n",
       "      <td>2.0</td>\n",
       "      <td>9.0</td>\n",
       "      <td>1.0</td>\n",
       "      <td>1.0</td>\n",
       "      <td>12.0</td>\n",
       "      <td>1.0</td>\n",
       "      <td>2.0</td>\n",
       "      <td>2.0</td>\n",
       "      <td>2.0</td>\n",
       "      <td>2.0</td>\n",
       "      <td>12.0</td>\n",
       "      <td>1.0</td>\n",
       "      <td>A</td>\n",
       "      <td>-2.0</td>\n",
       "      <td>-2.0</td>\n",
       "      <td>-2</td>\n",
       "      <td>1.0</td>\n",
       "      <td>1.0</td>\n",
       "      <td>1.0</td>\n",
       "      <td>1.0</td>\n",
       "      <td>1.0</td>\n",
       "      <td>2.0</td>\n",
       "      <td>15.0</td>\n",
       "      <td>14.0</td>\n",
       "      <td>15.0</td>\n",
       "      <td>14.0</td>\n",
       "      <td>6.0</td>\n",
       "      <td>17.0</td>\n",
       "      <td>15.0</td>\n",
       "      <td>15.0</td>\n",
       "      <td>15.0</td>\n",
       "      <td>1.0</td>\n",
       "      <td>4.0</td>\n",
       "      <td>2.0</td>\n",
       "      <td>-2</td>\n",
       "      <td>-2.0</td>\n",
       "      <td>14460</td>\n",
       "      <td>1</td>\n",
       "      <td>148</td>\n",
       "      <td>71650.0</td>\n",
       "      <td>25017</td>\n",
       "      <td>Middlesex County</td>\n",
       "      <td>2507.0</td>\n",
       "      <td>-71.093226</td>\n",
       "      <td>42.359243</td>\n",
       "      <td>96.0</td>\n",
       "      <td>1.0</td>\n",
       "      <td>-71.093226</td>\n",
       "      <td>Boston-Cambridge-Newton, MA-NH</td>\n",
       "      <td>115.5</td>\n",
       "      <td>56659.816586</td>\n",
       "      <td>680</td>\n",
       "      <td>56952.349035</td>\n",
       "      <td>56164.312487</td>\n",
       "      <td>49056.118257</td>\n",
       "      <td>49309.393104</td>\n",
       "      <td>48627.110378</td>\n",
       "    </tr>\n",
       "    <tr>\n",
       "      <th>2</th>\n",
       "      <td>3.0</td>\n",
       "      <td>Stanford University</td>\n",
       "      <td>USA</td>\n",
       "      <td>3.0</td>\n",
       "      <td>10</td>\n",
       "      <td>4</td>\n",
       "      <td>3</td>\n",
       "      <td>2</td>\n",
       "      <td>95.1</td>\n",
       "      <td>243744.0</td>\n",
       "      <td>Stanford University</td>\n",
       "      <td></td>\n",
       "      <td></td>\n",
       "      <td>Stanford</td>\n",
       "      <td>CA</td>\n",
       "      <td>94305</td>\n",
       "      <td>6.0</td>\n",
       "      <td>8.0</td>\n",
       "      <td>Marc Tessier-Lavigne</td>\n",
       "      <td>President</td>\n",
       "      <td>6507232300</td>\n",
       "      <td>941156365.0</td>\n",
       "      <td>009214214</td>\n",
       "      <td>130500.0</td>\n",
       "      <td>1.0</td>\n",
       "      <td>www.stanford.edu/</td>\n",
       "      <td>admission.stanford.edu/</td>\n",
       "      <td>financialaid.stanford.edu/</td>\n",
       "      <td>commonapp.org/</td>\n",
       "      <td>www.stanford.edu/dept/finaid/undergrad/how/cal...</td>\n",
       "      <td>exploredegrees.stanford.edu/veterans/</td>\n",
       "      <td>parents.stanford.edu/2015/11/09/stanford-athle...</td>\n",
       "      <td>diversityandaccess.stanford.edu/disability-access</td>\n",
       "      <td>2.0</td>\n",
       "      <td>1.0</td>\n",
       "      <td>2.0</td>\n",
       "      <td>9.0</td>\n",
       "      <td>1.0</td>\n",
       "      <td>1.0</td>\n",
       "      <td>11.0</td>\n",
       "      <td>1.0</td>\n",
       "      <td>2.0</td>\n",
       "      <td>1.0</td>\n",
       "      <td>1.0</td>\n",
       "      <td>2.0</td>\n",
       "      <td>21.0</td>\n",
       "      <td>1.0</td>\n",
       "      <td>A</td>\n",
       "      <td>-2.0</td>\n",
       "      <td>-2.0</td>\n",
       "      <td>-2</td>\n",
       "      <td>1.0</td>\n",
       "      <td>1.0</td>\n",
       "      <td>1.0</td>\n",
       "      <td>1.0</td>\n",
       "      <td>1.0</td>\n",
       "      <td>2.0</td>\n",
       "      <td>15.0</td>\n",
       "      <td>11.0</td>\n",
       "      <td>14.0</td>\n",
       "      <td>14.0</td>\n",
       "      <td>6.0</td>\n",
       "      <td>17.0</td>\n",
       "      <td>15.0</td>\n",
       "      <td>15.0</td>\n",
       "      <td>15.0</td>\n",
       "      <td>2.0</td>\n",
       "      <td>4.0</td>\n",
       "      <td>2.0</td>\n",
       "      <td>-2</td>\n",
       "      <td>-2.0</td>\n",
       "      <td>41940</td>\n",
       "      <td>1</td>\n",
       "      <td>488</td>\n",
       "      <td>-2.0</td>\n",
       "      <td>6085</td>\n",
       "      <td>Santa Clara County</td>\n",
       "      <td>618.0</td>\n",
       "      <td>-122.167359</td>\n",
       "      <td>37.429434</td>\n",
       "      <td>96.0</td>\n",
       "      <td>1.0</td>\n",
       "      <td>-122.167359</td>\n",
       "      <td>San Jose-Sunnyvale-Santa Clara, CA</td>\n",
       "      <td>126.7</td>\n",
       "      <td>62476.603840</td>\n",
       "      <td>349</td>\n",
       "      <td>63319.925605</td>\n",
       "      <td>62352.688787</td>\n",
       "      <td>49310.658122</td>\n",
       "      <td>49976.263303</td>\n",
       "      <td>49212.856186</td>\n",
       "    </tr>\n",
       "    <tr>\n",
       "      <th>3</th>\n",
       "      <td>6.0</td>\n",
       "      <td>Princeton University</td>\n",
       "      <td>USA</td>\n",
       "      <td>4.0</td>\n",
       "      <td>5</td>\n",
       "      <td>15</td>\n",
       "      <td>7</td>\n",
       "      <td>70</td>\n",
       "      <td>92.6</td>\n",
       "      <td>186131.0</td>\n",
       "      <td>Princeton University</td>\n",
       "      <td></td>\n",
       "      <td>1 Nassau Hall</td>\n",
       "      <td>Princeton</td>\n",
       "      <td>NJ</td>\n",
       "      <td>08544-0070</td>\n",
       "      <td>34.0</td>\n",
       "      <td>2.0</td>\n",
       "      <td>Christopher L. Eisgruber</td>\n",
       "      <td>President</td>\n",
       "      <td>6092583000</td>\n",
       "      <td>210634501.0</td>\n",
       "      <td>002484665</td>\n",
       "      <td>262700.0</td>\n",
       "      <td>1.0</td>\n",
       "      <td>www.princeton.edu/</td>\n",
       "      <td></td>\n",
       "      <td></td>\n",
       "      <td></td>\n",
       "      <td>www.princeton.edu/admission/financialaid/estim...</td>\n",
       "      <td>registrar.princeton.edu/student-services/veter...</td>\n",
       "      <td>fs.ncaa.org/Docs/newmedia/public/rates/index.html</td>\n",
       "      <td>www.princeton.edu/ods/</td>\n",
       "      <td>2.0</td>\n",
       "      <td>1.0</td>\n",
       "      <td>2.0</td>\n",
       "      <td>9.0</td>\n",
       "      <td>1.0</td>\n",
       "      <td>1.0</td>\n",
       "      <td>12.0</td>\n",
       "      <td>1.0</td>\n",
       "      <td>2.0</td>\n",
       "      <td>2.0</td>\n",
       "      <td>2.0</td>\n",
       "      <td>2.0</td>\n",
       "      <td>13.0</td>\n",
       "      <td>1.0</td>\n",
       "      <td>A</td>\n",
       "      <td>-2.0</td>\n",
       "      <td>-2.0</td>\n",
       "      <td>-2</td>\n",
       "      <td>1.0</td>\n",
       "      <td>1.0</td>\n",
       "      <td>1.0</td>\n",
       "      <td>1.0</td>\n",
       "      <td>1.0</td>\n",
       "      <td>2.0</td>\n",
       "      <td>15.0</td>\n",
       "      <td>11.0</td>\n",
       "      <td>15.0</td>\n",
       "      <td>14.0</td>\n",
       "      <td>5.0</td>\n",
       "      <td>14.0</td>\n",
       "      <td>15.0</td>\n",
       "      <td>15.0</td>\n",
       "      <td>15.0</td>\n",
       "      <td>2.0</td>\n",
       "      <td>3.0</td>\n",
       "      <td>2.0</td>\n",
       "      <td>-2</td>\n",
       "      <td>-2.0</td>\n",
       "      <td>45940</td>\n",
       "      <td>1</td>\n",
       "      <td>408</td>\n",
       "      <td>-2.0</td>\n",
       "      <td>34021</td>\n",
       "      <td>Mercer County</td>\n",
       "      <td>3412.0</td>\n",
       "      <td>-74.659365</td>\n",
       "      <td>40.348732</td>\n",
       "      <td>96.0</td>\n",
       "      <td>2.0</td>\n",
       "      <td>-74.659365</td>\n",
       "      <td>Trenton-Princeton, NJ</td>\n",
       "      <td>106.2</td>\n",
       "      <td>52999.785469</td>\n",
       "      <td>446</td>\n",
       "      <td>53594.975712</td>\n",
       "      <td>52446.187347</td>\n",
       "      <td>49905.636035</td>\n",
       "      <td>50466.078825</td>\n",
       "      <td>49384.357200</td>\n",
       "    </tr>\n",
       "  </tbody>\n",
       "</table>\n",
       "</div>"
      ],
      "text/plain": [
       "   World Rank                            Institution Country  National Rank  \\\n",
       "0         1.0                     Harvard University     USA            1.0   \n",
       "1         2.0  Massachusetts Institute of Technology     USA            2.0   \n",
       "2         3.0                    Stanford University     USA            3.0   \n",
       "3         6.0                   Princeton University     USA            4.0   \n",
       "\n",
       "  Quality of Education Rank Alumni Employment Rank Quality of Faculty Rank  \\\n",
       "0                         1                      1                       1   \n",
       "1                         4                     12                       2   \n",
       "2                        10                      4                       3   \n",
       "3                         5                     15                       7   \n",
       "\n",
       "  Research Performance Rank  Score    UNITID  \\\n",
       "0                         1  100.0  166027.0   \n",
       "1                         8   96.7  166683.0   \n",
       "2                         2   95.1  243744.0   \n",
       "3                        70   92.6  186131.0   \n",
       "\n",
       "                                  INSTNM       IALIAS  \\\n",
       "0                     Harvard University                \n",
       "1  Massachusetts Institute of Technology  MIT, M.I.T.   \n",
       "2                    Stanford University                \n",
       "3                   Princeton University                \n",
       "\n",
       "                      ADDR       CITY STABBR         ZIP  FIPS  OBEREG  \\\n",
       "0       Massachusetts Hall  Cambridge     MA       02138  25.0     1.0   \n",
       "1  77 Massachusetts Avenue  Cambridge     MA  02139-4307  25.0     1.0   \n",
       "2                            Stanford     CA       94305   6.0     8.0   \n",
       "3            1 Nassau Hall  Princeton     NJ  08544-0070  34.0     2.0   \n",
       "\n",
       "                      CHFNM   CHFTITLE     GENTELE          EIN  \\\n",
       "0         Lawrence S. Bacow  President  6174951000   42103580.0   \n",
       "1            L. Rafael Reif  President  6172531000   42103594.0   \n",
       "2      Marc Tessier-Lavigne  President  6507232300  941156365.0   \n",
       "3  Christopher L. Eisgruber  President  6092583000  210634501.0   \n",
       "\n",
       "                            DUNS     OPEID  OPEFLAG             WEBADDR  \\\n",
       "0  082359691|149617367|047006379  215500.0      1.0    www.harvard.edu/   \n",
       "1                      001425594  217800.0      1.0        web.mit.edu/   \n",
       "2                      009214214  130500.0      1.0   www.stanford.edu/   \n",
       "3                      002484665  262700.0      1.0  www.princeton.edu/   \n",
       "\n",
       "                         ADMINURL                            FAIDURL  \\\n",
       "0  college.harvard.edu/admissions  college.harvard.edu/financial-aid   \n",
       "1      https://mitadmissions.org/               https://sfs.mit.edu/   \n",
       "2         admission.stanford.edu/         financialaid.stanford.edu/   \n",
       "3                                                                      \n",
       "\n",
       "                                             APPLURL  \\\n",
       "0  college.harvard.edu/admissions/application-pro...   \n",
       "1                                        my.mit.edu/   \n",
       "2                                     commonapp.org/   \n",
       "3                                                      \n",
       "\n",
       "                                            NPRICURL  \\\n",
       "0  college.harvard.edu/financial-aid/net-price-ca...   \n",
       "1  https://sfs.mit.edu/undergraduate-students/our...   \n",
       "2  www.stanford.edu/dept/finaid/undergrad/how/cal...   \n",
       "3  www.princeton.edu/admission/financialaid/estim...   \n",
       "\n",
       "                                              VETURL  \\\n",
       "0          sfs.harvard.edu/veteran-military-benefits   \n",
       "1  https://sfs.mit.edu/undergraduate-students/typ...   \n",
       "2              exploredegrees.stanford.edu/veterans/   \n",
       "3  registrar.princeton.edu/student-services/veter...   \n",
       "\n",
       "                                              ATHURL  \\\n",
       "0                                                      \n",
       "1                                                      \n",
       "2  parents.stanford.edu/2015/11/09/stanford-athle...   \n",
       "3  fs.ncaa.org/Docs/newmedia/public/rates/index.html   \n",
       "\n",
       "                                             DISAURL  SECTOR  ICLEVEL  \\\n",
       "0                         accessibility.harvard.edu/     2.0      1.0   \n",
       "1                            studentlife.mit.edu/das     2.0      1.0   \n",
       "2  diversityandaccess.stanford.edu/disability-access     2.0      1.0   \n",
       "3                             www.princeton.edu/ods/     2.0      1.0   \n",
       "\n",
       "   CONTROL  HLOFFER  UGOFFER  GROFFER  HDEGOFR1  DEGGRANT  HBCU  HOSPITAL  \\\n",
       "0      2.0      9.0      1.0      1.0      11.0       1.0   2.0       2.0   \n",
       "1      2.0      9.0      1.0      1.0      12.0       1.0   2.0       2.0   \n",
       "2      2.0      9.0      1.0      1.0      11.0       1.0   2.0       1.0   \n",
       "3      2.0      9.0      1.0      1.0      12.0       1.0   2.0       2.0   \n",
       "\n",
       "   MEDICAL  TRIBAL  LOCALE  OPENPUBL ACT  NEWID  DEATHYR CLOSEDAT  CYACTIVE  \\\n",
       "0      1.0     2.0    12.0       1.0  A    -2.0     -2.0       -2       1.0   \n",
       "1      2.0     2.0    12.0       1.0  A    -2.0     -2.0       -2       1.0   \n",
       "2      1.0     2.0    21.0       1.0  A    -2.0     -2.0       -2       1.0   \n",
       "3      2.0     2.0    13.0       1.0  A    -2.0     -2.0       -2       1.0   \n",
       "\n",
       "   POSTSEC  PSEFLAG  PSET4FLG  RPTMTH  INSTCAT  C18BASIC  C18IPUG  C18IPGRD  \\\n",
       "0      1.0      1.0       1.0     1.0      2.0      15.0      8.0      14.0   \n",
       "1      1.0      1.0       1.0     1.0      2.0      15.0     14.0      15.0   \n",
       "2      1.0      1.0       1.0     1.0      2.0      15.0     11.0      14.0   \n",
       "3      1.0      1.0       1.0     1.0      2.0      15.0     11.0      15.0   \n",
       "\n",
       "   C18UGPRF  C18ENPRF  C18SZSET  C15BASIC  CCBASIC  CARNEGIE  LANDGRNT  \\\n",
       "0      14.0       6.0      17.0      15.0     15.0      15.0       2.0   \n",
       "1      14.0       6.0      17.0      15.0     15.0      15.0       1.0   \n",
       "2      14.0       6.0      17.0      15.0     15.0      15.0       2.0   \n",
       "3      14.0       5.0      14.0      15.0     15.0      15.0       2.0   \n",
       "\n",
       "   INSTSIZE  F1SYSTYP F1SYSNAM  F1SYSCOD   CBSA  CBSATYPE  CSA    NECTA  \\\n",
       "0       5.0       2.0       -2      -2.0  14460         1  148  71650.0   \n",
       "1       4.0       2.0       -2      -2.0  14460         1  148  71650.0   \n",
       "2       4.0       2.0       -2      -2.0  41940         1  488     -2.0   \n",
       "3       3.0       2.0       -2      -2.0  45940         1  408     -2.0   \n",
       "\n",
       "   COUNTYCD            COUNTYNM  CNGDSTCD    LONGITUD   LATITUDE  DFRCGID  \\\n",
       "0     25017    Middlesex County    2505.0  -71.118313  42.374471     96.0   \n",
       "1     25017    Middlesex County    2507.0  -71.093226  42.359243     96.0   \n",
       "2      6085  Santa Clara County     618.0 -122.167359  37.429434     96.0   \n",
       "3     34021       Mercer County    3412.0  -74.659365  40.348732     96.0   \n",
       "\n",
       "   DFRCUSCG   LONGITUDE                           CBSA_NAME  RPP_all  \\\n",
       "0       1.0  -71.118313      Boston-Cambridge-Newton, MA-NH    115.5   \n",
       "1       1.0  -71.093226      Boston-Cambridge-Newton, MA-NH    115.5   \n",
       "2       1.0 -122.167359  San Jose-Sunnyvale-Santa Clara, CA    126.7   \n",
       "3       2.0  -74.659365               Trenton-Princeton, NJ    106.2   \n",
       "\n",
       "   MEDIAN_SALARY  N_SALARIES  MEDIAN_SALARY_UPPER  MEDIAN_SALARY_LOWER  \\\n",
       "0   55783.941620         493         56164.312487         55205.642506   \n",
       "1   56659.816586         680         56952.349035         56164.312487   \n",
       "2   62476.603840         349         63319.925605         62352.688787   \n",
       "3   52999.785469         446         53594.975712         52446.187347   \n",
       "\n",
       "   REAL_MEDIAN_SALARY  REAL_MEDIAN_SALARY_UPPER  REAL_MEDIAN_SALARY_LOWER  \n",
       "0        48297.784952              48627.110378              47797.093079  \n",
       "1        49056.118257              49309.393104              48627.110378  \n",
       "2        49310.658122              49976.263303              49212.856186  \n",
       "3        49905.636035              50466.078825              49384.357200  "
      ]
     },
     "execution_count": 4,
     "metadata": {},
     "output_type": "execute_result"
    }
   ],
   "source": [
    "university_df[:4]"
   ]
  },
  {
   "cell_type": "markdown",
   "id": "7cb3dff1",
   "metadata": {},
   "source": [
    "### Threshold number of salaries"
   ]
  },
  {
   "cell_type": "code",
   "execution_count": 5,
   "id": "8be52c67",
   "metadata": {
    "ExecuteTime": {
     "end_time": "2022-01-14T03:05:53.226779Z",
     "start_time": "2022-01-14T03:05:52.745462Z"
    }
   },
   "outputs": [
    {
     "name": "stdout",
     "output_type": "stream",
     "text": [
      "28260\n",
      "27652\n",
      "131\n"
     ]
    },
    {
     "data": {
      "image/png": "[encoded data removed]",
      "text/plain": [
       "<Figure size 432x288 with 1 Axes>"
      ]
     },
     "metadata": {
      "needs_background": "light"
     },
     "output_type": "display_data"
    }
   ],
   "source": [
    "MIN_N_SALARIES = 25\n",
    "print(university_df.N_SALARIES.sum())\n",
    "university_df = university_df[university_df.N_SALARIES > MIN_N_SALARIES]\n",
    "print(university_df.N_SALARIES.sum())\n",
    "plt.hist(university_df.N_SALARIES, bins = 100);\n",
    "print(len(university_df))"
   ]
  },
  {
   "cell_type": "markdown",
   "id": "ef84786e",
   "metadata": {},
   "source": [
    "### Load metro salaries"
   ]
  },
  {
   "cell_type": "code",
   "execution_count": 6,
   "id": "2d3bfa11",
   "metadata": {
    "ExecuteTime": {
     "end_time": "2022-01-14T03:05:54.019481Z",
     "start_time": "2022-01-14T03:05:53.229420Z"
    }
   },
   "outputs": [],
   "source": [
    "metro_salary_df = pd.read_csv(DATA_DIR/ 'non-postdoc-salary'/ 'MSA_M2020_dl.csv')"
   ]
  },
  {
   "cell_type": "code",
   "execution_count": 7,
   "id": "08c844d1",
   "metadata": {
    "ExecuteTime": {
     "end_time": "2022-01-14T03:05:54.095894Z",
     "start_time": "2022-01-14T03:05:54.025090Z"
    }
   },
   "outputs": [],
   "source": [
    "metro_salary_df = metro_salary_df[metro_salary_df.AREA.isin(university_df.CBSA.values)]"
   ]
  },
  {
   "cell_type": "code",
   "execution_count": 8,
   "id": "254e20d0",
   "metadata": {
    "ExecuteTime": {
     "end_time": "2022-01-14T03:05:54.120706Z",
     "start_time": "2022-01-14T03:05:54.099515Z"
    }
   },
   "outputs": [
    {
     "data": {
      "text/plain": [
       "39981"
      ]
     },
     "execution_count": 8,
     "metadata": {},
     "output_type": "execute_result"
    }
   ],
   "source": [
    "len(metro_salary_df)"
   ]
  },
  {
   "cell_type": "code",
   "execution_count": 9,
   "id": "f68140fd",
   "metadata": {
    "ExecuteTime": {
     "end_time": "2022-01-14T03:05:54.169383Z",
     "start_time": "2022-01-14T03:05:54.122786Z"
    }
   },
   "outputs": [
    {
     "data": {
      "text/html": [
       "<div>\n",
       "<style scoped>\n",
       "    .dataframe tbody tr th:only-of-type {\n",
       "        vertical-align: middle;\n",
       "    }\n",
       "\n",
       "    .dataframe tbody tr th {\n",
       "        vertical-align: top;\n",
       "    }\n",
       "\n",
       "    .dataframe thead th {\n",
       "        text-align: right;\n",
       "    }\n",
       "</style>\n",
       "<table border=\"1\" class=\"dataframe\">\n",
       "  <thead>\n",
       "    <tr style=\"text-align: right;\">\n",
       "      <th></th>\n",
       "      <th>AREA</th>\n",
       "      <th>AREA_TITLE</th>\n",
       "      <th>AREA_TYPE</th>\n",
       "      <th>PRIM_STATE</th>\n",
       "      <th>NAICS</th>\n",
       "      <th>NAICS_TITLE</th>\n",
       "      <th>I_GROUP</th>\n",
       "      <th>OWN_CODE</th>\n",
       "      <th>OCC_CODE</th>\n",
       "      <th>OCC_TITLE</th>\n",
       "      <th>O_GROUP</th>\n",
       "      <th>TOT_EMP</th>\n",
       "      <th>EMP_PRSE</th>\n",
       "      <th>JOBS_1000</th>\n",
       "      <th>LOC_QUOTIENT</th>\n",
       "      <th>PCT_TOTAL</th>\n",
       "      <th>H_MEAN</th>\n",
       "      <th>A_MEAN</th>\n",
       "      <th>MEAN_PRSE</th>\n",
       "      <th>H_PCT10</th>\n",
       "      <th>H_PCT25</th>\n",
       "      <th>H_MEDIAN</th>\n",
       "      <th>H_PCT75</th>\n",
       "      <th>H_PCT90</th>\n",
       "      <th>A_PCT10</th>\n",
       "      <th>A_PCT25</th>\n",
       "      <th>A_MEDIAN</th>\n",
       "      <th>A_PCT75</th>\n",
       "      <th>A_PCT90</th>\n",
       "      <th>ANNUAL</th>\n",
       "      <th>HOURLY</th>\n",
       "    </tr>\n",
       "  </thead>\n",
       "  <tbody>\n",
       "    <tr>\n",
       "      <th>457</th>\n",
       "      <td>10420</td>\n",
       "      <td>Akron, OH</td>\n",
       "      <td>4</td>\n",
       "      <td>OH</td>\n",
       "      <td>0</td>\n",
       "      <td>Cross-industry</td>\n",
       "      <td>cross-industry</td>\n",
       "      <td>1235</td>\n",
       "      <td>00-0000</td>\n",
       "      <td>All Occupations</td>\n",
       "      <td>total</td>\n",
       "      <td>311,480</td>\n",
       "      <td>1.4</td>\n",
       "      <td>1000.000</td>\n",
       "      <td>1.00</td>\n",
       "      <td>NaN</td>\n",
       "      <td>24.62</td>\n",
       "      <td>51,220</td>\n",
       "      <td>1.3</td>\n",
       "      <td>9.85</td>\n",
       "      <td>13.09</td>\n",
       "      <td>19.44</td>\n",
       "      <td>30.53</td>\n",
       "      <td>43.80</td>\n",
       "      <td>20,500</td>\n",
       "      <td>27,230</td>\n",
       "      <td>40,440</td>\n",
       "      <td>63,500</td>\n",
       "      <td>91,100</td>\n",
       "      <td>NaN</td>\n",
       "      <td>NaN</td>\n",
       "    </tr>\n",
       "    <tr>\n",
       "      <th>458</th>\n",
       "      <td>10420</td>\n",
       "      <td>Akron, OH</td>\n",
       "      <td>4</td>\n",
       "      <td>OH</td>\n",
       "      <td>0</td>\n",
       "      <td>Cross-industry</td>\n",
       "      <td>cross-industry</td>\n",
       "      <td>1235</td>\n",
       "      <td>11-0000</td>\n",
       "      <td>Management Occupations</td>\n",
       "      <td>major</td>\n",
       "      <td>15,990</td>\n",
       "      <td>2.9</td>\n",
       "      <td>51.335</td>\n",
       "      <td>0.90</td>\n",
       "      <td>NaN</td>\n",
       "      <td>54.95</td>\n",
       "      <td>114,300</td>\n",
       "      <td>1.2</td>\n",
       "      <td>22.87</td>\n",
       "      <td>33.99</td>\n",
       "      <td>48.24</td>\n",
       "      <td>68.42</td>\n",
       "      <td>95.81</td>\n",
       "      <td>47,580</td>\n",
       "      <td>70,690</td>\n",
       "      <td>100,340</td>\n",
       "      <td>142,310</td>\n",
       "      <td>199,280</td>\n",
       "      <td>NaN</td>\n",
       "      <td>NaN</td>\n",
       "    </tr>\n",
       "    <tr>\n",
       "      <th>459</th>\n",
       "      <td>10420</td>\n",
       "      <td>Akron, OH</td>\n",
       "      <td>4</td>\n",
       "      <td>OH</td>\n",
       "      <td>0</td>\n",
       "      <td>Cross-industry</td>\n",
       "      <td>cross-industry</td>\n",
       "      <td>1235</td>\n",
       "      <td>11-1011</td>\n",
       "      <td>Chief Executives</td>\n",
       "      <td>detailed</td>\n",
       "      <td>260</td>\n",
       "      <td>10.8</td>\n",
       "      <td>0.835</td>\n",
       "      <td>0.57</td>\n",
       "      <td>NaN</td>\n",
       "      <td>98.28</td>\n",
       "      <td>204,420</td>\n",
       "      <td>5.5</td>\n",
       "      <td>40.48</td>\n",
       "      <td>58.46</td>\n",
       "      <td>95.94</td>\n",
       "      <td>#</td>\n",
       "      <td>#</td>\n",
       "      <td>84,190</td>\n",
       "      <td>121,590</td>\n",
       "      <td>199,560</td>\n",
       "      <td>#</td>\n",
       "      <td>#</td>\n",
       "      <td>NaN</td>\n",
       "      <td>NaN</td>\n",
       "    </tr>\n",
       "  </tbody>\n",
       "</table>\n",
       "</div>"
      ],
      "text/plain": [
       "      AREA AREA_TITLE  AREA_TYPE PRIM_STATE  NAICS     NAICS_TITLE  \\\n",
       "457  10420  Akron, OH          4         OH      0  Cross-industry   \n",
       "458  10420  Akron, OH          4         OH      0  Cross-industry   \n",
       "459  10420  Akron, OH          4         OH      0  Cross-industry   \n",
       "\n",
       "            I_GROUP  OWN_CODE OCC_CODE               OCC_TITLE   O_GROUP  \\\n",
       "457  cross-industry      1235  00-0000         All Occupations     total   \n",
       "458  cross-industry      1235  11-0000  Management Occupations     major   \n",
       "459  cross-industry      1235  11-1011        Chief Executives  detailed   \n",
       "\n",
       "     TOT_EMP EMP_PRSE JOBS_1000 LOC_QUOTIENT  PCT_TOTAL H_MEAN   A_MEAN  \\\n",
       "457  311,480      1.4  1000.000         1.00        NaN  24.62   51,220   \n",
       "458   15,990      2.9    51.335         0.90        NaN  54.95  114,300   \n",
       "459      260     10.8     0.835         0.57        NaN  98.28  204,420   \n",
       "\n",
       "    MEAN_PRSE H_PCT10 H_PCT25 H_MEDIAN H_PCT75 H_PCT90 A_PCT10  A_PCT25  \\\n",
       "457       1.3    9.85   13.09    19.44   30.53   43.80  20,500   27,230   \n",
       "458       1.2   22.87   33.99    48.24   68.42   95.81  47,580   70,690   \n",
       "459       5.5   40.48   58.46    95.94       #       #  84,190  121,590   \n",
       "\n",
       "    A_MEDIAN  A_PCT75  A_PCT90 ANNUAL HOURLY  \n",
       "457   40,440   63,500   91,100    NaN    NaN  \n",
       "458  100,340  142,310  199,280    NaN    NaN  \n",
       "459  199,560        #        #    NaN    NaN  "
      ]
     },
     "execution_count": 9,
     "metadata": {},
     "output_type": "execute_result"
    }
   ],
   "source": [
    "metro_salary_df[:3]"
   ]
  },
  {
   "cell_type": "markdown",
   "id": "0cc3b0bb",
   "metadata": {},
   "source": [
    "### merge salary df with RPPs"
   ]
  },
  {
   "cell_type": "code",
   "execution_count": 10,
   "id": "4e5a225b",
   "metadata": {
    "ExecuteTime": {
     "end_time": "2022-01-14T03:05:54.207529Z",
     "start_time": "2022-01-14T03:05:54.171800Z"
    }
   },
   "outputs": [],
   "source": [
    "cost_of_living_df = pd.read_csv(DATA_DIR / 'BEA_price_parity' / 'BEA-cost-of-living-comparison.csv', skiprows=4)[:-5]\n",
    "cost_of_living_df[\"RPP_all\"] = cost_of_living_df[\"2019\"]\n",
    "cost_of_living_df = cost_of_living_df[cost_of_living_df.Description == \"RPPs: All items\"]"
   ]
  },
  {
   "cell_type": "code",
   "execution_count": 11,
   "id": "168cf9a3",
   "metadata": {
    "ExecuteTime": {
     "end_time": "2022-01-14T03:05:54.244127Z",
     "start_time": "2022-01-14T03:05:54.209887Z"
    }
   },
   "outputs": [
    {
     "data": {
      "text/html": [
       "<div>\n",
       "<style scoped>\n",
       "    .dataframe tbody tr th:only-of-type {\n",
       "        vertical-align: middle;\n",
       "    }\n",
       "\n",
       "    .dataframe tbody tr th {\n",
       "        vertical-align: top;\n",
       "    }\n",
       "\n",
       "    .dataframe thead th {\n",
       "        text-align: right;\n",
       "    }\n",
       "</style>\n",
       "<table border=\"1\" class=\"dataframe\">\n",
       "  <thead>\n",
       "    <tr style=\"text-align: right;\">\n",
       "      <th></th>\n",
       "      <th>GeoFips</th>\n",
       "      <th>GeoName</th>\n",
       "      <th>LineCode</th>\n",
       "      <th>Description</th>\n",
       "      <th>2008</th>\n",
       "      <th>2009</th>\n",
       "      <th>2010</th>\n",
       "      <th>2011</th>\n",
       "      <th>2012</th>\n",
       "      <th>2013</th>\n",
       "      <th>2014</th>\n",
       "      <th>2015</th>\n",
       "      <th>2016</th>\n",
       "      <th>2017</th>\n",
       "      <th>2018</th>\n",
       "      <th>2019</th>\n",
       "      <th>RPP_all</th>\n",
       "    </tr>\n",
       "  </thead>\n",
       "  <tbody>\n",
       "    <tr>\n",
       "      <th>0</th>\n",
       "      <td>00000</td>\n",
       "      <td>United States</td>\n",
       "      <td>1.0</td>\n",
       "      <td>RPPs: All items</td>\n",
       "      <td>100.0</td>\n",
       "      <td>100.0</td>\n",
       "      <td>100.0</td>\n",
       "      <td>100.0</td>\n",
       "      <td>100.0</td>\n",
       "      <td>100.0</td>\n",
       "      <td>100.0</td>\n",
       "      <td>100.0</td>\n",
       "      <td>100.0</td>\n",
       "      <td>100.0</td>\n",
       "      <td>100.0</td>\n",
       "      <td>100.0</td>\n",
       "      <td>100.0</td>\n",
       "    </tr>\n",
       "    <tr>\n",
       "      <th>4</th>\n",
       "      <td>00999</td>\n",
       "      <td>United States (Nonmetropolitan Portion) 1/</td>\n",
       "      <td>1.0</td>\n",
       "      <td>RPPs: All items</td>\n",
       "      <td>86.6</td>\n",
       "      <td>86.8</td>\n",
       "      <td>87.3</td>\n",
       "      <td>87.5</td>\n",
       "      <td>87.8</td>\n",
       "      <td>88.2</td>\n",
       "      <td>88.1</td>\n",
       "      <td>88.0</td>\n",
       "      <td>87.9</td>\n",
       "      <td>87.9</td>\n",
       "      <td>87.3</td>\n",
       "      <td>86.8</td>\n",
       "      <td>86.8</td>\n",
       "    </tr>\n",
       "    <tr>\n",
       "      <th>8</th>\n",
       "      <td>10180</td>\n",
       "      <td>Abilene, TX (Metropolitan Statistical Area)</td>\n",
       "      <td>1.0</td>\n",
       "      <td>RPPs: All items</td>\n",
       "      <td>90.4</td>\n",
       "      <td>89.8</td>\n",
       "      <td>90.4</td>\n",
       "      <td>90.8</td>\n",
       "      <td>91.4</td>\n",
       "      <td>90.9</td>\n",
       "      <td>91.2</td>\n",
       "      <td>90.9</td>\n",
       "      <td>90.8</td>\n",
       "      <td>89.8</td>\n",
       "      <td>90.7</td>\n",
       "      <td>90.3</td>\n",
       "      <td>90.3</td>\n",
       "    </tr>\n",
       "  </tbody>\n",
       "</table>\n",
       "</div>"
      ],
      "text/plain": [
       "  GeoFips                                      GeoName  LineCode  \\\n",
       "0   00000                                United States       1.0   \n",
       "4   00999   United States (Nonmetropolitan Portion) 1/       1.0   \n",
       "8   10180  Abilene, TX (Metropolitan Statistical Area)       1.0   \n",
       "\n",
       "       Description   2008   2009   2010   2011   2012   2013   2014   2015  \\\n",
       "0  RPPs: All items  100.0  100.0  100.0  100.0  100.0  100.0  100.0  100.0   \n",
       "4  RPPs: All items   86.6   86.8   87.3   87.5   87.8   88.2   88.1   88.0   \n",
       "8  RPPs: All items   90.4   89.8   90.4   90.8   91.4   90.9   91.2   90.9   \n",
       "\n",
       "    2016   2017   2018   2019  RPP_all  \n",
       "0  100.0  100.0  100.0  100.0    100.0  \n",
       "4   87.9   87.9   87.3   86.8     86.8  \n",
       "8   90.8   89.8   90.7   90.3     90.3  "
      ]
     },
     "execution_count": 11,
     "metadata": {},
     "output_type": "execute_result"
    }
   ],
   "source": [
    "cost_of_living_df[:3]"
   ]
  },
  {
   "cell_type": "code",
   "execution_count": 12,
   "id": "4227e328",
   "metadata": {
    "ExecuteTime": {
     "end_time": "2022-01-14T03:05:54.262863Z",
     "start_time": "2022-01-14T03:05:54.246255Z"
    }
   },
   "outputs": [],
   "source": [
    "cost_of_living_df['GeoFips'] = cost_of_living_df.GeoFips.values.astype(int)"
   ]
  },
  {
   "cell_type": "code",
   "execution_count": 13,
   "id": "af1f1727",
   "metadata": {
    "ExecuteTime": {
     "end_time": "2022-01-14T03:05:54.381664Z",
     "start_time": "2022-01-14T03:05:54.265266Z"
    }
   },
   "outputs": [],
   "source": [
    "metro_salary_df = metro_salary_df.merge(cost_of_living_df[['GeoFips', 'RPP_all']], left_on=\"AREA\", right_on='GeoFips')"
   ]
  },
  {
   "cell_type": "code",
   "execution_count": 14,
   "id": "322f2ac7",
   "metadata": {
    "ExecuteTime": {
     "end_time": "2022-01-14T03:05:54.432006Z",
     "start_time": "2022-01-14T03:05:54.384210Z"
    }
   },
   "outputs": [
    {
     "data": {
      "text/html": [
       "<div>\n",
       "<style scoped>\n",
       "    .dataframe tbody tr th:only-of-type {\n",
       "        vertical-align: middle;\n",
       "    }\n",
       "\n",
       "    .dataframe tbody tr th {\n",
       "        vertical-align: top;\n",
       "    }\n",
       "\n",
       "    .dataframe thead th {\n",
       "        text-align: right;\n",
       "    }\n",
       "</style>\n",
       "<table border=\"1\" class=\"dataframe\">\n",
       "  <thead>\n",
       "    <tr style=\"text-align: right;\">\n",
       "      <th></th>\n",
       "      <th>AREA</th>\n",
       "      <th>AREA_TITLE</th>\n",
       "      <th>AREA_TYPE</th>\n",
       "      <th>PRIM_STATE</th>\n",
       "      <th>NAICS</th>\n",
       "      <th>NAICS_TITLE</th>\n",
       "      <th>I_GROUP</th>\n",
       "      <th>OWN_CODE</th>\n",
       "      <th>OCC_CODE</th>\n",
       "      <th>OCC_TITLE</th>\n",
       "      <th>O_GROUP</th>\n",
       "      <th>TOT_EMP</th>\n",
       "      <th>EMP_PRSE</th>\n",
       "      <th>JOBS_1000</th>\n",
       "      <th>LOC_QUOTIENT</th>\n",
       "      <th>PCT_TOTAL</th>\n",
       "      <th>H_MEAN</th>\n",
       "      <th>A_MEAN</th>\n",
       "      <th>MEAN_PRSE</th>\n",
       "      <th>H_PCT10</th>\n",
       "      <th>H_PCT25</th>\n",
       "      <th>H_MEDIAN</th>\n",
       "      <th>H_PCT75</th>\n",
       "      <th>H_PCT90</th>\n",
       "      <th>A_PCT10</th>\n",
       "      <th>A_PCT25</th>\n",
       "      <th>A_MEDIAN</th>\n",
       "      <th>A_PCT75</th>\n",
       "      <th>A_PCT90</th>\n",
       "      <th>ANNUAL</th>\n",
       "      <th>HOURLY</th>\n",
       "      <th>GeoFips</th>\n",
       "      <th>RPP_all</th>\n",
       "    </tr>\n",
       "  </thead>\n",
       "  <tbody>\n",
       "    <tr>\n",
       "      <th>0</th>\n",
       "      <td>10420</td>\n",
       "      <td>Akron, OH</td>\n",
       "      <td>4</td>\n",
       "      <td>OH</td>\n",
       "      <td>0</td>\n",
       "      <td>Cross-industry</td>\n",
       "      <td>cross-industry</td>\n",
       "      <td>1235</td>\n",
       "      <td>00-0000</td>\n",
       "      <td>All Occupations</td>\n",
       "      <td>total</td>\n",
       "      <td>311,480</td>\n",
       "      <td>1.4</td>\n",
       "      <td>1000.000</td>\n",
       "      <td>1.00</td>\n",
       "      <td>NaN</td>\n",
       "      <td>24.62</td>\n",
       "      <td>51,220</td>\n",
       "      <td>1.3</td>\n",
       "      <td>9.85</td>\n",
       "      <td>13.09</td>\n",
       "      <td>19.44</td>\n",
       "      <td>30.53</td>\n",
       "      <td>43.80</td>\n",
       "      <td>20,500</td>\n",
       "      <td>27,230</td>\n",
       "      <td>40,440</td>\n",
       "      <td>63,500</td>\n",
       "      <td>91,100</td>\n",
       "      <td>NaN</td>\n",
       "      <td>NaN</td>\n",
       "      <td>10420</td>\n",
       "      <td>90.0</td>\n",
       "    </tr>\n",
       "    <tr>\n",
       "      <th>1</th>\n",
       "      <td>10420</td>\n",
       "      <td>Akron, OH</td>\n",
       "      <td>4</td>\n",
       "      <td>OH</td>\n",
       "      <td>0</td>\n",
       "      <td>Cross-industry</td>\n",
       "      <td>cross-industry</td>\n",
       "      <td>1235</td>\n",
       "      <td>11-0000</td>\n",
       "      <td>Management Occupations</td>\n",
       "      <td>major</td>\n",
       "      <td>15,990</td>\n",
       "      <td>2.9</td>\n",
       "      <td>51.335</td>\n",
       "      <td>0.90</td>\n",
       "      <td>NaN</td>\n",
       "      <td>54.95</td>\n",
       "      <td>114,300</td>\n",
       "      <td>1.2</td>\n",
       "      <td>22.87</td>\n",
       "      <td>33.99</td>\n",
       "      <td>48.24</td>\n",
       "      <td>68.42</td>\n",
       "      <td>95.81</td>\n",
       "      <td>47,580</td>\n",
       "      <td>70,690</td>\n",
       "      <td>100,340</td>\n",
       "      <td>142,310</td>\n",
       "      <td>199,280</td>\n",
       "      <td>NaN</td>\n",
       "      <td>NaN</td>\n",
       "      <td>10420</td>\n",
       "      <td>90.0</td>\n",
       "    </tr>\n",
       "    <tr>\n",
       "      <th>2</th>\n",
       "      <td>10420</td>\n",
       "      <td>Akron, OH</td>\n",
       "      <td>4</td>\n",
       "      <td>OH</td>\n",
       "      <td>0</td>\n",
       "      <td>Cross-industry</td>\n",
       "      <td>cross-industry</td>\n",
       "      <td>1235</td>\n",
       "      <td>11-1011</td>\n",
       "      <td>Chief Executives</td>\n",
       "      <td>detailed</td>\n",
       "      <td>260</td>\n",
       "      <td>10.8</td>\n",
       "      <td>0.835</td>\n",
       "      <td>0.57</td>\n",
       "      <td>NaN</td>\n",
       "      <td>98.28</td>\n",
       "      <td>204,420</td>\n",
       "      <td>5.5</td>\n",
       "      <td>40.48</td>\n",
       "      <td>58.46</td>\n",
       "      <td>95.94</td>\n",
       "      <td>#</td>\n",
       "      <td>#</td>\n",
       "      <td>84,190</td>\n",
       "      <td>121,590</td>\n",
       "      <td>199,560</td>\n",
       "      <td>#</td>\n",
       "      <td>#</td>\n",
       "      <td>NaN</td>\n",
       "      <td>NaN</td>\n",
       "      <td>10420</td>\n",
       "      <td>90.0</td>\n",
       "    </tr>\n",
       "  </tbody>\n",
       "</table>\n",
       "</div>"
      ],
      "text/plain": [
       "    AREA AREA_TITLE  AREA_TYPE PRIM_STATE  NAICS     NAICS_TITLE  \\\n",
       "0  10420  Akron, OH          4         OH      0  Cross-industry   \n",
       "1  10420  Akron, OH          4         OH      0  Cross-industry   \n",
       "2  10420  Akron, OH          4         OH      0  Cross-industry   \n",
       "\n",
       "          I_GROUP  OWN_CODE OCC_CODE               OCC_TITLE   O_GROUP  \\\n",
       "0  cross-industry      1235  00-0000         All Occupations     total   \n",
       "1  cross-industry      1235  11-0000  Management Occupations     major   \n",
       "2  cross-industry      1235  11-1011        Chief Executives  detailed   \n",
       "\n",
       "   TOT_EMP EMP_PRSE JOBS_1000 LOC_QUOTIENT  PCT_TOTAL H_MEAN   A_MEAN  \\\n",
       "0  311,480      1.4  1000.000         1.00        NaN  24.62   51,220   \n",
       "1   15,990      2.9    51.335         0.90        NaN  54.95  114,300   \n",
       "2      260     10.8     0.835         0.57        NaN  98.28  204,420   \n",
       "\n",
       "  MEAN_PRSE H_PCT10 H_PCT25 H_MEDIAN H_PCT75 H_PCT90 A_PCT10  A_PCT25  \\\n",
       "0       1.3    9.85   13.09    19.44   30.53   43.80  20,500   27,230   \n",
       "1       1.2   22.87   33.99    48.24   68.42   95.81  47,580   70,690   \n",
       "2       5.5   40.48   58.46    95.94       #       #  84,190  121,590   \n",
       "\n",
       "  A_MEDIAN  A_PCT75  A_PCT90 ANNUAL HOURLY  GeoFips  RPP_all  \n",
       "0   40,440   63,500   91,100    NaN    NaN    10420     90.0  \n",
       "1  100,340  142,310  199,280    NaN    NaN    10420     90.0  \n",
       "2  199,560        #        #    NaN    NaN    10420     90.0  "
      ]
     },
     "execution_count": 14,
     "metadata": {},
     "output_type": "execute_result"
    }
   ],
   "source": [
    "metro_salary_df[:3]"
   ]
  },
  {
   "cell_type": "markdown",
   "id": "83a0d296",
   "metadata": {},
   "source": [
    "### get salary data as integers"
   ]
  },
  {
   "cell_type": "code",
   "execution_count": 15,
   "id": "8fd287da",
   "metadata": {
    "ExecuteTime": {
     "end_time": "2022-01-14T03:05:54.450692Z",
     "start_time": "2022-01-14T03:05:54.434220Z"
    }
   },
   "outputs": [],
   "source": [
    "def strip_name(name):\n",
    "    return ''.join(filter( lambda x: x in '0123456789abcdefghijklmnopqrstuvwxyz', name.lower()))"
   ]
  },
  {
   "cell_type": "code",
   "execution_count": 16,
   "id": "3f5cc92b",
   "metadata": {
    "ExecuteTime": {
     "end_time": "2022-01-14T03:05:54.469660Z",
     "start_time": "2022-01-14T03:05:54.453184Z"
    }
   },
   "outputs": [],
   "source": [
    "def get_int(x):\n",
    "    try:\n",
    "        return int(strip_name(x))\n",
    "    except:\n",
    "        return np.nan"
   ]
  },
  {
   "cell_type": "code",
   "execution_count": 17,
   "id": "e1e751b1",
   "metadata": {
    "ExecuteTime": {
     "end_time": "2022-01-14T03:05:54.490787Z",
     "start_time": "2022-01-14T03:05:54.471779Z"
    }
   },
   "outputs": [
    {
     "data": {
      "text/plain": [
       "array(['51,220', '114,300', '204,420', ..., '32,560', '51,460', '51,020'],\n",
       "      dtype=object)"
      ]
     },
     "execution_count": 17,
     "metadata": {},
     "output_type": "execute_result"
    }
   ],
   "source": [
    "metro_salary_df.A_MEAN.values"
   ]
  },
  {
   "cell_type": "code",
   "execution_count": 18,
   "id": "bbcd3326",
   "metadata": {
    "ExecuteTime": {
     "end_time": "2022-01-14T03:05:54.741980Z",
     "start_time": "2022-01-14T03:05:54.492678Z"
    }
   },
   "outputs": [],
   "source": [
    "metro_salary_df[\"mean_annual\"] = [get_int(i) for i in metro_salary_df.A_MEAN.values]\n",
    "metro_salary_df[\"median_annual\"] = [get_int(i) for i in metro_salary_df.A_MEDIAN.values]\n",
    "metro_salary_df[\"tot_emp\"] = [get_int(i) for i in metro_salary_df.TOT_EMP.values]"
   ]
  },
  {
   "cell_type": "markdown",
   "id": "e9c285c0",
   "metadata": {},
   "source": [
    "### Get summary stats"
   ]
  },
  {
   "cell_type": "code",
   "execution_count": 19,
   "id": "765e6fd6",
   "metadata": {
    "ExecuteTime": {
     "end_time": "2022-01-14T03:05:54.802748Z",
     "start_time": "2022-01-14T03:05:54.744407Z"
    }
   },
   "outputs": [],
   "source": [
    "median_pay_df = (\n",
    "    metro_salary_df[[\"OCC_TITLE\", \"median_annual\"]]\n",
    "    .groupby(\"OCC_TITLE\")\n",
    "    .mean()\n",
    "    .sort_values(by=\"median_annual\", ascending=False)\n",
    ")"
   ]
  },
  {
   "cell_type": "code",
   "execution_count": 20,
   "id": "a7aa0836",
   "metadata": {
    "ExecuteTime": {
     "end_time": "2022-01-14T03:05:54.831380Z",
     "start_time": "2022-01-14T03:05:54.805592Z"
    }
   },
   "outputs": [
    {
     "data": {
      "text/html": [
       "<div>\n",
       "<style scoped>\n",
       "    .dataframe tbody tr th:only-of-type {\n",
       "        vertical-align: middle;\n",
       "    }\n",
       "\n",
       "    .dataframe tbody tr th {\n",
       "        vertical-align: top;\n",
       "    }\n",
       "\n",
       "    .dataframe thead th {\n",
       "        text-align: right;\n",
       "    }\n",
       "</style>\n",
       "<table border=\"1\" class=\"dataframe\">\n",
       "  <thead>\n",
       "    <tr style=\"text-align: right;\">\n",
       "      <th></th>\n",
       "      <th>median_annual</th>\n",
       "    </tr>\n",
       "    <tr>\n",
       "      <th>OCC_TITLE</th>\n",
       "      <th></th>\n",
       "    </tr>\n",
       "  </thead>\n",
       "  <tbody>\n",
       "    <tr>\n",
       "      <th>Public Relations Specialists</th>\n",
       "      <td>59973.846154</td>\n",
       "    </tr>\n",
       "    <tr>\n",
       "      <th>Subway and Streetcar Operators</th>\n",
       "      <td>59950.000000</td>\n",
       "    </tr>\n",
       "    <tr>\n",
       "      <th>Mechanical Drafters</th>\n",
       "      <td>59893.174603</td>\n",
       "    </tr>\n",
       "    <tr>\n",
       "      <th>Cardiovascular Technologists and Technicians</th>\n",
       "      <td>59790.526316</td>\n",
       "    </tr>\n",
       "    <tr>\n",
       "      <th>Plumbers, Pipefitters, and Steamfitters</th>\n",
       "      <td>59765.600000</td>\n",
       "    </tr>\n",
       "    <tr>\n",
       "      <th>Rotary Drill Operators, Oil and Gas</th>\n",
       "      <td>59758.750000</td>\n",
       "    </tr>\n",
       "    <tr>\n",
       "      <th>Securities, Commodities, and Financial Services Sales Agents</th>\n",
       "      <td>59700.136986</td>\n",
       "    </tr>\n",
       "    <tr>\n",
       "      <th>Structural Iron and Steel Workers</th>\n",
       "      <td>59699.259259</td>\n",
       "    </tr>\n",
       "    <tr>\n",
       "      <th>Electricians</th>\n",
       "      <td>59573.417722</td>\n",
       "    </tr>\n",
       "    <tr>\n",
       "      <th>Executive Secretaries and Executive Administrative Assistants</th>\n",
       "      <td>59427.848101</td>\n",
       "    </tr>\n",
       "    <tr>\n",
       "      <th>Flight Attendants</th>\n",
       "      <td>59393.571429</td>\n",
       "    </tr>\n",
       "    <tr>\n",
       "      <th>Writers and Authors</th>\n",
       "      <td>59243.333333</td>\n",
       "    </tr>\n",
       "    <tr>\n",
       "      <th>Motorboat Operators</th>\n",
       "      <td>59160.000000</td>\n",
       "    </tr>\n",
       "    <tr>\n",
       "      <th>Radio, Cellular, and Tower Equipment Installers and Repairers</th>\n",
       "      <td>59150.000000</td>\n",
       "    </tr>\n",
       "    <tr>\n",
       "      <th>Curators</th>\n",
       "      <td>59025.250000</td>\n",
       "    </tr>\n",
       "    <tr>\n",
       "      <th>Healthcare Social Workers</th>\n",
       "      <td>59016.666667</td>\n",
       "    </tr>\n",
       "    <tr>\n",
       "      <th>Archivists</th>\n",
       "      <td>58980.740741</td>\n",
       "    </tr>\n",
       "    <tr>\n",
       "      <th>Crane and Tower Operators</th>\n",
       "      <td>58965.918367</td>\n",
       "    </tr>\n",
       "    <tr>\n",
       "      <th>Kindergarten Teachers, Except Special Education</th>\n",
       "      <td>58943.384615</td>\n",
       "    </tr>\n",
       "    <tr>\n",
       "      <th>Physical Therapist Assistants</th>\n",
       "      <td>58687.971014</td>\n",
       "    </tr>\n",
       "  </tbody>\n",
       "</table>\n",
       "</div>"
      ],
      "text/plain": [
       "                                                    median_annual\n",
       "OCC_TITLE                                                        \n",
       "Public Relations Specialists                         59973.846154\n",
       "Subway and Streetcar Operators                       59950.000000\n",
       "Mechanical Drafters                                  59893.174603\n",
       "Cardiovascular Technologists and Technicians         59790.526316\n",
       "Plumbers, Pipefitters, and Steamfitters              59765.600000\n",
       "Rotary Drill Operators, Oil and Gas                  59758.750000\n",
       "Securities, Commodities, and Financial Services...   59700.136986\n",
       "Structural Iron and Steel Workers                    59699.259259\n",
       "Electricians                                         59573.417722\n",
       "Executive Secretaries and Executive Administrat...   59427.848101\n",
       "Flight Attendants                                    59393.571429\n",
       "Writers and Authors                                  59243.333333\n",
       "Motorboat Operators                                  59160.000000\n",
       "Radio, Cellular, and Tower Equipment Installers...   59150.000000\n",
       "Curators                                             59025.250000\n",
       "Healthcare Social Workers                            59016.666667\n",
       "Archivists                                           58980.740741\n",
       "Crane and Tower Operators                            58965.918367\n",
       "Kindergarten Teachers, Except Special Education      58943.384615\n",
       "Physical Therapist Assistants                        58687.971014"
      ]
     },
     "execution_count": 20,
     "metadata": {},
     "output_type": "execute_result"
    }
   ],
   "source": [
    "median_pay_df[median_pay_df.median_annual < 60000][:20]"
   ]
  },
  {
   "cell_type": "code",
   "execution_count": 64,
   "id": "33555067",
   "metadata": {
    "ExecuteTime": {
     "end_time": "2022-01-14T03:21:45.610878Z",
     "start_time": "2022-01-14T03:21:45.584271Z"
    }
   },
   "outputs": [],
   "source": [
    "simiar_pay_jobs = median_pay_df[(median_pay_df.median_annual < 65000) & (median_pay_df.median_annual > 45000)].index.values"
   ]
  },
  {
   "cell_type": "code",
   "execution_count": 21,
   "id": "66fcd483",
   "metadata": {
    "ExecuteTime": {
     "end_time": "2022-01-14T03:05:54.861628Z",
     "start_time": "2022-01-14T03:05:54.833453Z"
    }
   },
   "outputs": [],
   "source": [
    "total_employees_df = (\n",
    "    metro_salary_df[[\"OCC_TITLE\", \"tot_emp\"]]\n",
    "    .groupby(\"OCC_TITLE\")\n",
    "    .sum()\n",
    "    .sort_values(by=\"tot_emp\", ascending=False)\n",
    ")"
   ]
  },
  {
   "cell_type": "code",
   "execution_count": 67,
   "id": "163c54b7",
   "metadata": {
    "ExecuteTime": {
     "end_time": "2022-01-14T03:22:27.746991Z",
     "start_time": "2022-01-14T03:22:27.721580Z"
    }
   },
   "outputs": [],
   "source": [
    "similar_jobs_df = total_employees_df[total_employees_df.index.isin(simiar_pay_jobs)]"
   ]
  },
  {
   "cell_type": "code",
   "execution_count": 68,
   "id": "74d6cbc1",
   "metadata": {
    "ExecuteTime": {
     "end_time": "2022-01-14T03:22:31.830479Z",
     "start_time": "2022-01-14T03:22:31.801179Z"
    },
    "scrolled": false
   },
   "outputs": [
    {
     "data": {
      "text/plain": [
       "array(['Educational Instruction and Library Occupations',\n",
       "       'Construction and Extraction Occupations',\n",
       "       'Installation, Maintenance, and Repair Occupations',\n",
       "       'Protective Service Occupations',\n",
       "       'Arts, Design, Entertainment, Sports, and Media Occupations',\n",
       "       'Community and Social Service Occupations',\n",
       "       'Heavy and Tractor-Trailer Truck Drivers',\n",
       "       'First-Line Supervisors of Office and Administrative Support Workers',\n",
       "       'Sales Representatives, Wholesale and Manufacturing, Except Technical and Scientific Products',\n",
       "       'Elementary School Teachers, Except Special Education',\n",
       "       'Sales Representatives of Services, Except Advertising, Insurance, Financial Services, and Travel',\n",
       "       'Secondary School Teachers, Except Special and Career/Technical Education',\n",
       "       'Market Research Analysts and Marketing Specialists',\n",
       "       'Computer User Support Specialists', 'Human Resources Specialists',\n",
       "       'Carpenters', 'Electricians',\n",
       "       'Executive Secretaries and Executive Administrative Assistants',\n",
       "       'Licensed Practical and Licensed Vocational Nurses',\n",
       "       'Securities, Commodities, and Financial Services Sales Agents',\n",
       "       'Automotive Service Technicians and Mechanics',\n",
       "       'Middle School Teachers, Except Special and Career/Technical Education',\n",
       "       'First-Line Supervisors of Production and Operating Workers',\n",
       "       'First-Line Supervisors of Transportation and Material Moving Workers, Except Aircraft Cargo Handling Supervisors',\n",
       "       'Buyers and Purchasing Agents',\n",
       "       'Plumbers, Pipefitters, and Steamfitters',\n",
       "       'Insurance Sales Agents',\n",
       "       'Production, Planning, and Expediting Clerks',\n",
       "       'Paralegals and Legal Assistants',\n",
       "       'Training and Development Specialists',\n",
       "       'Clinical Laboratory Technologists and Technicians',\n",
       "       'Child, Family, and School Social Workers',\n",
       "       'Heating, Air Conditioning, and Refrigeration Mechanics and Installers',\n",
       "       'Machinists', 'Postal Service Mail Carriers', 'Loan Officers',\n",
       "       'Industrial Machinery Mechanics',\n",
       "       'Medical Dosimetrists, Medical Records Specialists, and Health Technologists and Technicians, All Other',\n",
       "       'Public Relations Specialists',\n",
       "       'Operating Engineers and Other Construction Equipment Operators',\n",
       "       'Educational, Guidance, and Career Counselors and Advisors',\n",
       "       'Welders, Cutters, Solderers, and Brazers',\n",
       "       'Substance Abuse, Behavioral Disorder, and Mental Health Counselors',\n",
       "       'Firefighters', 'Correctional Officers and Jailers',\n",
       "       'Graphic Designers', 'Computer Network Support Specialists',\n",
       "       'Bus and Truck Mechanics and Diesel Engine Specialists',\n",
       "       'Property, Real Estate, and Community Association Managers',\n",
       "       'Radiologic Technologists and Technicians',\n",
       "       'Special Education Teachers, Kindergarten and Elementary School',\n",
       "       'Legal Secretaries and Administrative Assistants',\n",
       "       'Real Estate Sales Agents', 'Cement Masons and Concrete Finishers',\n",
       "       'Food Service Managers',\n",
       "       'Telecommunications Equipment Installers and Repairers, Except Line Installers',\n",
       "       'Healthcare Social Workers', 'Producers and Directors',\n",
       "       'Special Education Teachers, Secondary School',\n",
       "       'Payroll and Timekeeping Clerks',\n",
       "       'Librarians and Media Collections Specialists',\n",
       "       'Postal Service Mail Sorters, Processors, and Processing Machine Operators',\n",
       "       'Advertising Sales Agents',\n",
       "       'Meeting, Convention, and Event Planners',\n",
       "       'Respiratory Therapists',\n",
       "       'Aircraft Mechanics and Service Technicians', 'Flight Attendants',\n",
       "       'Telecommunications Line Installers and Repairers',\n",
       "       'Mobile Heavy Equipment Mechanics, Except Engines',\n",
       "       'Sheet Metal Workers', 'Editors',\n",
       "       'Eligibility Interviewers, Government Programs',\n",
       "       'Automotive Body and Related Repairers',\n",
       "       'Construction and Building Inspectors', 'Roofers',\n",
       "       'Mental Health and Substance Abuse Social Workers',\n",
       "       'Kindergarten Teachers, Except Special Education',\n",
       "       'Architectural and Civil Drafters',\n",
       "       'Compensation, Benefits, and Job Analysis Specialists',\n",
       "       'Chefs and Head Cooks', 'Drywall and Ceiling Tile Installers',\n",
       "       'Educational Instruction and Library Workers, All Other',\n",
       "       'Surgical Technologists',\n",
       "       'First-Line Supervisors of Landscaping, Lawn Service, and Groundskeeping Workers',\n",
       "       'Community and Social Service Specialists, All Other',\n",
       "       'Fundraisers',\n",
       "       'Career/Technical Education Teachers, Postsecondary',\n",
       "       'Calibration Technologists and Technicians and Engineering Technologists and Technicians, Except Drafters, All Other',\n",
       "       'Miscellaneous First-Line Supervisors, Protective Service Workers',\n",
       "       'Water and Wastewater Treatment Plant and System Operators',\n",
       "       'Chemical Equipment Operators and Tenders',\n",
       "       'Biological Technicians', 'Public Safety Telecommunicators',\n",
       "       'Special Education Teachers, Middle School',\n",
       "       'Physical Therapist Assistants', 'Interior Designers',\n",
       "       'Security and Fire Alarm Systems Installers',\n",
       "       'Health Information Technologists, Medical Registrars, Surgical Assistants, and Healthcare Practitioners and Technical Workers, All Other',\n",
       "       'Marriage and Family Therapists', 'Audio and Video Technicians',\n",
       "       'Life, Physical, and Social Science Technicians, All Other',\n",
       "       'Probation Officers and Correctional Treatment Specialists',\n",
       "       'Postal Service Clerks', 'Chemical Technicians',\n",
       "       'Dietitians and Nutritionists',\n",
       "       'Structural Iron and Steel Workers', 'Tax Preparers',\n",
       "       'Writers and Authors',\n",
       "       'Civil Engineering Technologists and Technicians',\n",
       "       'Brickmasons and Blockmasons', 'Postsecondary Teachers, All Other',\n",
       "       'Brokerage Clerks', 'Health Education Specialists', 'Clergy',\n",
       "       'Interpreters and Translators',\n",
       "       'Cardiovascular Technologists and Technicians',\n",
       "       'Medical Equipment Repairers', 'Legal Support Workers, All Other',\n",
       "       'Industrial Engineering Technologists and Technicians',\n",
       "       'Mechanical Drafters', 'Tool and Die Makers',\n",
       "       'Surveying and Mapping Technicians',\n",
       "       'Maintenance Workers, Machinery',\n",
       "       'Education and Childcare Administrators, Preschool and Daycare',\n",
       "       'Property Appraisers and Assessors', 'Glaziers',\n",
       "       'Electrical and Electronics Repairers, Commercial and Industrial Equipment',\n",
       "       'News Analysts, Reporters, and Journalists',\n",
       "       'Title Examiners, Abstractors, and Searchers',\n",
       "       'Control and Valve Installers and Repairers, Except Mechanical Door',\n",
       "       'Mechanical Engineering Technologists and Technicians',\n",
       "       'Tile and Stone Setters', 'Social Science Research Assistants',\n",
       "       'Crane and Tower Operators',\n",
       "       'Paving, Surfacing, and Tamping Equipment Operators',\n",
       "       'Occupational Therapy Assistants',\n",
       "       'Adult Basic Education, Adult Secondary Education, and English as a Second Language Instructors',\n",
       "       'Millwrights', 'Film and Video Editors',\n",
       "       'Environmental Science and Protection Technicians, Including Health',\n",
       "       'Fashion Designers', 'Special Education Teachers, All Other',\n",
       "       'Stationary Engineers and Boiler Operators', 'Credit Counselors',\n",
       "       'Legislators', 'Miscellaneous Construction and Related Workers',\n",
       "       'Athletic Trainers', 'Media and Communication Workers, All Other',\n",
       "       'Excavating and Loading Machine and Dragline Operators, Surface Mining',\n",
       "       'Counselors, All Other',\n",
       "       'Camera Operators, Television, Video, and Film',\n",
       "       'Electrical and Electronics Drafters',\n",
       "       'Insulation Workers, Mechanical',\n",
       "       'Computer Numerically Controlled Tool Programmers',\n",
       "       'Insulation Workers, Floor, Ceiling, and Wall', 'Lodging Managers',\n",
       "       'Pipelayers', 'Directors, Religious Activities and Education',\n",
       "       'Chemical Plant and System Operators', 'Sailors and Marine Oilers',\n",
       "       'Service Unit Operators, Oil and Gas',\n",
       "       'Private Detectives and Investigators',\n",
       "       'Occupational Health and Safety Technicians',\n",
       "       'Plasterers and Stucco Masons',\n",
       "       'Special Education Teachers, Preschool',\n",
       "       'Meter Readers, Utilities', 'Reinforcing Iron and Rebar Workers',\n",
       "       'Tapers',\n",
       "       'Environmental Engineering Technologists and Technicians',\n",
       "       'Forensic Science Technicians',\n",
       "       'Aircraft Structure, Surfaces, Rigging, and Systems Assemblers',\n",
       "       'Bailiffs', 'Riggers', 'Recreational Therapists',\n",
       "       'Set and Exhibit Designers', 'Sound Engineering Technicians',\n",
       "       'Mechanical Door Repairers',\n",
       "       'Morticians, Undertakers, and Funeral Arrangers',\n",
       "       'Geological and Hydrologic Technicians', 'Drafters, All Other',\n",
       "       'Survey Researchers',\n",
       "       'Motorboat Mechanics and Service Technicians',\n",
       "       'Locksmiths and Safe Repairers', 'Judicial Law Clerks', 'Curators',\n",
       "       'Fine Artists, Including Painters, Sculptors, and Illustrators',\n",
       "       'Aircraft Cargo Handling Supervisors',\n",
       "       'Electric Motor, Power Tool, and Related Repairers',\n",
       "       'Music Directors and Composers',\n",
       "       'Earth Drillers, Except Oil and Gas; and Explosives Workers, Ordnance Handling Experts, and Blasters',\n",
       "       'Floor Layers, Except Carpet, Wood, and Hard Tiles',\n",
       "       'Electro-Mechanical and Mechatronics Technologists and Technicians',\n",
       "       'First-Line Supervisors of Gambling Services Workers',\n",
       "       'Therapists, All Other', 'Statistical Assistants',\n",
       "       'Farm Equipment Mechanics and Service Technicians',\n",
       "       'Airfield Operations Specialists',\n",
       "       'First-Line Supervisors of Farming, Fishing, and Forestry Workers',\n",
       "       'Rotary Drill Operators, Oil and Gas', 'Rail Car Repairers',\n",
       "       'Solar Photovoltaic Installers',\n",
       "       'Railroad Conductors and Yardmasters',\n",
       "       'Precision Instrument and Equipment Repairers, All Other',\n",
       "       'Radio, Cellular, and Tower Equipment Installers and Repairers',\n",
       "       'Artists and Related Workers, All Other',\n",
       "       'Plant and System Operators, All Other', 'Stonemasons',\n",
       "       'Rail-Track Laying and Maintenance Equipment Operators',\n",
       "       'Desktop Publishers', 'Exercise Physiologists', 'Archivists',\n",
       "       'Traffic Technicians', 'Tank Car, Truck, and Ship Loaders',\n",
       "       'Agricultural Inspectors', 'Fabric and Apparel Patternmakers',\n",
       "       'Wellhead Pumpers', 'Continuous Mining Machine Operators',\n",
       "       'Logging Equipment Operators', 'Hearing Aid Specialists',\n",
       "       'Tool Grinders, Filers, and Sharpeners',\n",
       "       'Farm and Home Management Educators',\n",
       "       'Layout Workers, Metal and Plastic',\n",
       "       'Model Makers, Metal and Plastic', 'Historians',\n",
       "       'Pump Operators, Except Wellhead Pumpers',\n",
       "       'Bridge and Lock Tenders', 'Fish and Game Wardens',\n",
       "       'Derrick Operators, Oil and Gas', 'Commercial Divers',\n",
       "       'Rail Transportation Workers, All Other', 'Embalmers',\n",
       "       'Choreographers',\n",
       "       'Railroad Brake, Signal, and Switch Operators and Locomotive Firers',\n",
       "       'Communications Equipment Operators, All Other',\n",
       "       'Motorboat Operators', 'Patternmakers, Metal and Plastic',\n",
       "       'Wind Turbine Service Technicians', 'Logging Workers, All Other',\n",
       "       'Dredge Operators', 'Fallers',\n",
       "       'Loading and Moving Machine Operators, Underground Mining',\n",
       "       'Floor Sanders and Finishers',\n",
       "       'Refractory Materials Repairers, Except Brickmasons',\n",
       "       'Timing Device Assemblers and Adjusters',\n",
       "       'Subway and Streetcar Operators'], dtype=object)"
      ]
     },
     "execution_count": 68,
     "metadata": {},
     "output_type": "execute_result"
    }
   ],
   "source": [
    "similar_jobs_df.index.values"
   ]
  },
  {
   "cell_type": "markdown",
   "id": "a159a761",
   "metadata": {
    "ExecuteTime": {
     "end_time": "2022-01-14T02:56:53.698846Z",
     "start_time": "2022-01-14T02:56:53.678089Z"
    }
   },
   "source": [
    "### Secondary school teachers "
   ]
  },
  {
   "cell_type": "code",
   "execution_count": null,
   "id": "8b2fbf8b",
   "metadata": {},
   "outputs": [],
   "source": [
    "import seaborn as sns"
   ]
  },
  {
   "cell_type": "code",
   "execution_count": 75,
   "id": "0d7bf479",
   "metadata": {
    "ExecuteTime": {
     "end_time": "2022-01-14T03:26:34.742089Z",
     "start_time": "2022-01-14T03:26:34.710654Z"
    }
   },
   "outputs": [],
   "source": [
    "occupation_list = [\n",
    "    'Electricians',\n",
    "    \"Automotive Body and Related Repairers\",\n",
    "    \"Postal Service Clerks\",\n",
    "    \"Plumbers, Pipefitters, and Steamfitters\",\n",
    "    \"Janitors and Cleaners, Except Maids and Housekeeping Cleaners\",\n",
    "    \"Carpenters\",\n",
    "    \"Lawyers\",\n",
    "    \"Waiters and Waitresses\",\n",
    "    \"Secondary School Teachers, Except Special and Career/Technical Education\",\n",
    "    \"Elementary School Teachers, Except Special Education\",\n",
    "    \"Accountants and Auditors\",\n",
    "    \"Retail Salespersons\",\n",
    "    \"Nursing Assistants\"\n",
    "]"
   ]
  },
  {
   "cell_type": "code",
   "execution_count": 76,
   "id": "a95e33c2",
   "metadata": {
    "ExecuteTime": {
     "end_time": "2022-01-14T03:26:43.308557Z",
     "start_time": "2022-01-14T03:26:34.853803Z"
    },
    "scrolled": false
   },
   "outputs": [
    {
     "name": "stdout",
     "output_type": "stream",
     "text": [
      "Electricians\n"
     ]
    },
    {
     "name": "stderr",
     "output_type": "stream",
     "text": [
      "<ipython-input-76-f52ab579a5d1>:4: SettingWithCopyWarning: \n",
      "A value is trying to be set on a copy of a slice from a DataFrame.\n",
      "Try using .loc[row_indexer,col_indexer] = value instead\n",
      "\n",
      "See the caveats in the documentation: https://pandas.pydata.org/pandas-docs/stable/user_guide/indexing.html#returning-a-view-versus-a-copy\n",
      "  occupation_df[\"median_scaled\"] = occupation_df.median_annual.values / (occupation_df.RPP_all.values / 100)\n"
     ]
    },
    {
     "data": {
      "image/png": "[encoded data removed]",
      "text/plain": [
       "<Figure size 432x216 with 2 Axes>"
      ]
     },
     "metadata": {
      "needs_background": "light"
     },
     "output_type": "display_data"
    },
    {
     "name": "stdout",
     "output_type": "stream",
     "text": [
      "Automotive Body and Related Repairers\n"
     ]
    },
    {
     "name": "stderr",
     "output_type": "stream",
     "text": [
      "<ipython-input-76-f52ab579a5d1>:4: SettingWithCopyWarning: \n",
      "A value is trying to be set on a copy of a slice from a DataFrame.\n",
      "Try using .loc[row_indexer,col_indexer] = value instead\n",
      "\n",
      "See the caveats in the documentation: https://pandas.pydata.org/pandas-docs/stable/user_guide/indexing.html#returning-a-view-versus-a-copy\n",
      "  occupation_df[\"median_scaled\"] = occupation_df.median_annual.values / (occupation_df.RPP_all.values / 100)\n"
     ]
    },
    {
     "data": {
      "image/png": "[encoded data removed]",
      "text/plain": [
       "<Figure size 432x216 with 2 Axes>"
      ]
     },
     "metadata": {
      "needs_background": "light"
     },
     "output_type": "display_data"
    },
    {
     "name": "stdout",
     "output_type": "stream",
     "text": [
      "Postal Service Clerks\n"
     ]
    },
    {
     "name": "stderr",
     "output_type": "stream",
     "text": [
      "<ipython-input-76-f52ab579a5d1>:4: SettingWithCopyWarning: \n",
      "A value is trying to be set on a copy of a slice from a DataFrame.\n",
      "Try using .loc[row_indexer,col_indexer] = value instead\n",
      "\n",
      "See the caveats in the documentation: https://pandas.pydata.org/pandas-docs/stable/user_guide/indexing.html#returning-a-view-versus-a-copy\n",
      "  occupation_df[\"median_scaled\"] = occupation_df.median_annual.values / (occupation_df.RPP_all.values / 100)\n"
     ]
    },
    {
     "data": {
      "image/png": "[encoded data removed]",
      "text/plain": [
       "<Figure size 432x216 with 2 Axes>"
      ]
     },
     "metadata": {
      "needs_background": "light"
     },
     "output_type": "display_data"
    },
    {
     "name": "stdout",
     "output_type": "stream",
     "text": [
      "Plumbers, Pipefitters, and Steamfitters\n"
     ]
    },
    {
     "name": "stderr",
     "output_type": "stream",
     "text": [
      "<ipython-input-76-f52ab579a5d1>:4: SettingWithCopyWarning: \n",
      "A value is trying to be set on a copy of a slice from a DataFrame.\n",
      "Try using .loc[row_indexer,col_indexer] = value instead\n",
      "\n",
      "See the caveats in the documentation: https://pandas.pydata.org/pandas-docs/stable/user_guide/indexing.html#returning-a-view-versus-a-copy\n",
      "  occupation_df[\"median_scaled\"] = occupation_df.median_annual.values / (occupation_df.RPP_all.values / 100)\n"
     ]
    },
    {
     "data": {
      "image/png": "[encoded data removed]",
      "text/plain": [
       "<Figure size 432x216 with 2 Axes>"
      ]
     },
     "metadata": {
      "needs_background": "light"
     },
     "output_type": "display_data"
    },
    {
     "name": "stdout",
     "output_type": "stream",
     "text": [
      "Janitors and Cleaners, Except Maids and Housekeeping Cleaners\n"
     ]
    },
    {
     "name": "stderr",
     "output_type": "stream",
     "text": [
      "<ipython-input-76-f52ab579a5d1>:4: SettingWithCopyWarning: \n",
      "A value is trying to be set on a copy of a slice from a DataFrame.\n",
      "Try using .loc[row_indexer,col_indexer] = value instead\n",
      "\n",
      "See the caveats in the documentation: https://pandas.pydata.org/pandas-docs/stable/user_guide/indexing.html#returning-a-view-versus-a-copy\n",
      "  occupation_df[\"median_scaled\"] = occupation_df.median_annual.values / (occupation_df.RPP_all.values / 100)\n"
     ]
    },
    {
     "data": {
      "image/png": "[encoded data removed]",
      "text/plain": [
       "<Figure size 432x216 with 2 Axes>"
      ]
     },
     "metadata": {
      "needs_background": "light"
     },
     "output_type": "display_data"
    },
    {
     "name": "stdout",
     "output_type": "stream",
     "text": [
      "Carpenters\n"
     ]
    },
    {
     "name": "stderr",
     "output_type": "stream",
     "text": [
      "<ipython-input-76-f52ab579a5d1>:4: SettingWithCopyWarning: \n",
      "A value is trying to be set on a copy of a slice from a DataFrame.\n",
      "Try using .loc[row_indexer,col_indexer] = value instead\n",
      "\n",
      "See the caveats in the documentation: https://pandas.pydata.org/pandas-docs/stable/user_guide/indexing.html#returning-a-view-versus-a-copy\n",
      "  occupation_df[\"median_scaled\"] = occupation_df.median_annual.values / (occupation_df.RPP_all.values / 100)\n"
     ]
    },
    {
     "data": {
      "image/png": "[encoded data removed]",
      "text/plain": [
       "<Figure size 432x216 with 2 Axes>"
      ]
     },
     "metadata": {
      "needs_background": "light"
     },
     "output_type": "display_data"
    },
    {
     "name": "stdout",
     "output_type": "stream",
     "text": [
      "Lawyers\n"
     ]
    },
    {
     "name": "stderr",
     "output_type": "stream",
     "text": [
      "<ipython-input-76-f52ab579a5d1>:4: SettingWithCopyWarning: \n",
      "A value is trying to be set on a copy of a slice from a DataFrame.\n",
      "Try using .loc[row_indexer,col_indexer] = value instead\n",
      "\n",
      "See the caveats in the documentation: https://pandas.pydata.org/pandas-docs/stable/user_guide/indexing.html#returning-a-view-versus-a-copy\n",
      "  occupation_df[\"median_scaled\"] = occupation_df.median_annual.values / (occupation_df.RPP_all.values / 100)\n"
     ]
    },
    {
     "data": {
      "image/png": "[encoded data removed]",
      "text/plain": [
       "<Figure size 432x216 with 2 Axes>"
      ]
     },
     "metadata": {
      "needs_background": "light"
     },
     "output_type": "display_data"
    },
    {
     "name": "stdout",
     "output_type": "stream",
     "text": [
      "Waiters and Waitresses\n"
     ]
    },
    {
     "name": "stderr",
     "output_type": "stream",
     "text": [
      "<ipython-input-76-f52ab579a5d1>:4: SettingWithCopyWarning: \n",
      "A value is trying to be set on a copy of a slice from a DataFrame.\n",
      "Try using .loc[row_indexer,col_indexer] = value instead\n",
      "\n",
      "See the caveats in the documentation: https://pandas.pydata.org/pandas-docs/stable/user_guide/indexing.html#returning-a-view-versus-a-copy\n",
      "  occupation_df[\"median_scaled\"] = occupation_df.median_annual.values / (occupation_df.RPP_all.values / 100)\n"
     ]
    },
    {
     "data": {
      "image/png": "[encoded data removed]",
      "text/plain": [
       "<Figure size 432x216 with 2 Axes>"
      ]
     },
     "metadata": {
      "needs_background": "light"
     },
     "output_type": "display_data"
    },
    {
     "name": "stdout",
     "output_type": "stream",
     "text": [
      "Secondary School Teachers, Except Special and Career/Technical Education\n"
     ]
    },
    {
     "name": "stderr",
     "output_type": "stream",
     "text": [
      "<ipython-input-76-f52ab579a5d1>:4: SettingWithCopyWarning: \n",
      "A value is trying to be set on a copy of a slice from a DataFrame.\n",
      "Try using .loc[row_indexer,col_indexer] = value instead\n",
      "\n",
      "See the caveats in the documentation: https://pandas.pydata.org/pandas-docs/stable/user_guide/indexing.html#returning-a-view-versus-a-copy\n",
      "  occupation_df[\"median_scaled\"] = occupation_df.median_annual.values / (occupation_df.RPP_all.values / 100)\n"
     ]
    },
    {
     "data": {
      "image/png": "[encoded data removed]",
      "text/plain": [
       "<Figure size 432x216 with 2 Axes>"
      ]
     },
     "metadata": {
      "needs_background": "light"
     },
     "output_type": "display_data"
    },
    {
     "name": "stdout",
     "output_type": "stream",
     "text": [
      "Elementary School Teachers, Except Special Education\n"
     ]
    },
    {
     "name": "stderr",
     "output_type": "stream",
     "text": [
      "<ipython-input-76-f52ab579a5d1>:4: SettingWithCopyWarning: \n",
      "A value is trying to be set on a copy of a slice from a DataFrame.\n",
      "Try using .loc[row_indexer,col_indexer] = value instead\n",
      "\n",
      "See the caveats in the documentation: https://pandas.pydata.org/pandas-docs/stable/user_guide/indexing.html#returning-a-view-versus-a-copy\n",
      "  occupation_df[\"median_scaled\"] = occupation_df.median_annual.values / (occupation_df.RPP_all.values / 100)\n"
     ]
    },
    {
     "data": {
      "image/png": "[encoded data removed]",
      "text/plain": [
       "<Figure size 432x216 with 2 Axes>"
      ]
     },
     "metadata": {
      "needs_background": "light"
     },
     "output_type": "display_data"
    },
    {
     "name": "stdout",
     "output_type": "stream",
     "text": [
      "Accountants and Auditors\n"
     ]
    },
    {
     "name": "stderr",
     "output_type": "stream",
     "text": [
      "<ipython-input-76-f52ab579a5d1>:4: SettingWithCopyWarning: \n",
      "A value is trying to be set on a copy of a slice from a DataFrame.\n",
      "Try using .loc[row_indexer,col_indexer] = value instead\n",
      "\n",
      "See the caveats in the documentation: https://pandas.pydata.org/pandas-docs/stable/user_guide/indexing.html#returning-a-view-versus-a-copy\n",
      "  occupation_df[\"median_scaled\"] = occupation_df.median_annual.values / (occupation_df.RPP_all.values / 100)\n"
     ]
    },
    {
     "data": {
      "image/png": "[encoded data removed]",
      "text/plain": [
       "<Figure size 432x216 with 2 Axes>"
      ]
     },
     "metadata": {
      "needs_background": "light"
     },
     "output_type": "display_data"
    },
    {
     "name": "stdout",
     "output_type": "stream",
     "text": [
      "Retail Salespersons\n"
     ]
    },
    {
     "name": "stderr",
     "output_type": "stream",
     "text": [
      "<ipython-input-76-f52ab579a5d1>:4: SettingWithCopyWarning: \n",
      "A value is trying to be set on a copy of a slice from a DataFrame.\n",
      "Try using .loc[row_indexer,col_indexer] = value instead\n",
      "\n",
      "See the caveats in the documentation: https://pandas.pydata.org/pandas-docs/stable/user_guide/indexing.html#returning-a-view-versus-a-copy\n",
      "  occupation_df[\"median_scaled\"] = occupation_df.median_annual.values / (occupation_df.RPP_all.values / 100)\n"
     ]
    },
    {
     "data": {
      "image/png": "[encoded data removed]",
      "text/plain": [
       "<Figure size 432x216 with 2 Axes>"
      ]
     },
     "metadata": {
      "needs_background": "light"
     },
     "output_type": "display_data"
    },
    {
     "name": "stdout",
     "output_type": "stream",
     "text": [
      "Nursing Assistants\n"
     ]
    },
    {
     "name": "stderr",
     "output_type": "stream",
     "text": [
      "<ipython-input-76-f52ab579a5d1>:4: SettingWithCopyWarning: \n",
      "A value is trying to be set on a copy of a slice from a DataFrame.\n",
      "Try using .loc[row_indexer,col_indexer] = value instead\n",
      "\n",
      "See the caveats in the documentation: https://pandas.pydata.org/pandas-docs/stable/user_guide/indexing.html#returning-a-view-versus-a-copy\n",
      "  occupation_df[\"median_scaled\"] = occupation_df.median_annual.values / (occupation_df.RPP_all.values / 100)\n"
     ]
    },
    {
     "data": {
      "image/png": "[encoded data removed]",
      "text/plain": [
       "<Figure size 432x216 with 2 Axes>"
      ]
     },
     "metadata": {
      "needs_background": "light"
     },
     "output_type": "display_data"
    }
   ],
   "source": [
    "for occupation in occupation_list:\n",
    "    print(occupation)\n",
    "    occupation_df = metro_salary_df[metro_salary_df.OCC_TITLE == occupation]\n",
    "    occupation_df[\"median_scaled\"] = occupation_df.median_annual.values / (occupation_df.RPP_all.values / 100)\n",
    "    \n",
    "    fig, axs = plt.subplots(ncols=2, figsize=(6,3))\n",
    "    ax = axs[0]\n",
    "    sns.regplot(\n",
    "        x=\"RPP_all\",\n",
    "        y=\"median_annual\",\n",
    "        data=occupation_df,\n",
    "        ax=ax,\n",
    "        color = 'k',\n",
    "        scatter_kws={\n",
    "            \"alpha\": 0.5,\n",
    "            \"s\": 5,\n",
    "        },\n",
    "        line_kws = {\n",
    "            'lw':3,\n",
    "\n",
    "        }\n",
    "    )\n",
    "    ax = axs[1]\n",
    "    sns.regplot(\n",
    "        x=\"RPP_all\",\n",
    "        y=\"median_scaled\",\n",
    "        data=occupation_df,\n",
    "        ax=ax,\n",
    "        color = 'k',\n",
    "        scatter_kws={\n",
    "            \"alpha\": 0.5,\n",
    "            \"s\": 5,\n",
    "        },\n",
    "        line_kws = {\n",
    "            'lw':3,\n",
    "\n",
    "        }\n",
    "    )\n",
    "    plt.show()"
   ]
  },
  {
   "cell_type": "code",
   "execution_count": null,
   "id": "4d63a339",
   "metadata": {},
   "outputs": [],
   "source": []
  },
  {
   "cell_type": "code",
   "execution_count": null,
   "id": "0d37cdb8",
   "metadata": {},
   "outputs": [],
   "source": []
  }
 ],
 "metadata": {
  "kernelspec": {
   "display_name": "postdoc",
   "language": "python",
   "name": "postdoc"
  },
  "language_info": {
   "codemirror_mode": {
    "name": "ipython",
    "version": 3
   },
   "file_extension": ".py",
   "mimetype": "text/x-python",
   "name": "python",
   "nbconvert_exporter": "python",
   "pygments_lexer": "ipython3",
   "version": "3.8.12"
  }
 },
 "nbformat": 4,
 "nbformat_minor": 5
}
